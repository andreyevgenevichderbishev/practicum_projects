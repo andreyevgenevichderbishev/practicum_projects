{
 "cells": [
  {
   "cell_type": "markdown",
   "id": "c5442ccf",
   "metadata": {},
   "source": [
    "<div style=\"border:solid Chocolate 2px; padding: 40px\">\n",
    "\n",
    "<b>Андрей, привет!</b>\n",
    "\n",
    "Меня зовут Евгений Головин, я буду ревьюером твоего проекта. Если ты не против, то предлагаю построить наше общение на \"ты\" ;) Если удобнее на \"вы\", то нет проблем, только скажи об этом. \n",
    "\n",
    "В ходе работы я оставил тебе комментарии <font color='green'>зеленого</font>, <font color='gold'>желтого</font> и <font color='red'>красного</font> цветов. Сейчас объясню, что они значат:\n",
    "\n",
    "<br/>\n",
    "\n",
    "<div class=\"alert alert-success\">\n",
    "<h2> Комментарий ревьюера <a class=\"tocSkip\"> </h2>\n",
    "\n",
    "<b>Все супер!👍:</b> Решение на этом шаге является полностью правильным.\n",
    "</div>\n",
    "\n",
    "<br/>\n",
    "\n",
    "<div class=\"alert alert-warning\">\n",
    "    <h2> Комментарий ревьюера <a class=\"tocSkip\"> </h2>\n",
    "    \n",
    "<b>Небольшие замечания и рекомендации💡:</b> Решение на этом шаге станет еще лучше, если внести небольшие коррективы.\n",
    "</div>\n",
    "\n",
    "\n",
    "<br/>\n",
    "<div class=\"alert alert-block alert-danger\">\n",
    "<h2> Комментарий ревьюера <a class=\"tocSkip\"></h2>\n",
    "\n",
    "    \n",
    "<b>На доработку🤔:</b>\n",
    " Решение на этом шаге требует существенной переработки и внесения правок. Напоминаю, что проект не может быть принят с первого раза, если ревью содержит комментарии, рекомендующие доработать шаги.\n",
    "</div>\n",
    "    \n",
    "Увидев мой комментарий, не удаляй его, он будет очень полезен в случае повторной проверки работы :)\n",
    "    \n",
    "<div class=\"alert alert-info\">\n",
    "<b>А свой помечай вот так, чтобы я его не потерял ;)</b> \n",
    "</div>\n",
    "    \n",
    "На мои комменатрии можно и нужно реагировать, только делать это стоит так, чтобы твои и мои комменты не смешались: выделяй свои цветами, сильно отличающимися от моих.\n",
    "    \n",
    "Увидев у тебя неточность, в первый раз я лишь укажу на ее наличие и дам тебе возможность самому найти и исправить ее. На реальной работе твой руководитель будет поступать также, и я пытаюсь подготовить тебя именно к работе аналитиком. Но если ты пока не справишься с такой задачей - при следующей проверке я дам более точную подсказку!"
   ]
  },
  {
   "cell_type": "markdown",
   "id": "4c83dfb3",
   "metadata": {},
   "source": [
    "<div class=\"alert alert-warning\">\n",
    "    <h2> Комментарий ревьюера v1 <a class=\"tocSkip\"> </h2>\n",
    "    \n",
    "<b>Небольшие замечания и рекомендации💡:</b> Супер, что импортируешь бибилотеки в отдельной ячейке, но лучше это сделать после введения) "
   ]
  },
  {
   "cell_type": "markdown",
   "id": "4161b9bc",
   "metadata": {},
   "source": [
    "# Статистический анализ данных о поездках GoFast."
   ]
  },
  {
   "cell_type": "markdown",
   "id": "e5da5f0f",
   "metadata": {},
   "source": [
    "Были получены данные о некоторых пользователях из нескольких городов, а также об их поездках. Проанализируем данные и проверим некоторые гипотезы, которые могут помочь бизнесу вырасти."
   ]
  },
  {
   "cell_type": "markdown",
   "id": "474f7d5f",
   "metadata": {},
   "source": [
    "Чтобы совершать поездки по городу, пользователи сервиса GoFast пользуются мобильным приложением. Сервисом можно пользоваться:\n",
    "- без подписки абонентская плата отсутствует; стоимость одной минуты поездки 8 рублей; стоимость старта (начала поездки) — 50 рублей;\n",
    "- с подпиской Ultra абонентская плата — 199 рублей в месяц;стоимость одной минуты поездки — 6 рублей; стоимость старта — бесплатно.\n",
    "\n",
    "\n",
    "Описание данных. В основных данных есть информация о пользователях, их поездках и подписках.\n",
    "Пользователи — users_go.csv\n",
    "- user_id\tуникальный идентификатор пользователя\n",
    "- name\tимя пользователя\n",
    "- age\tвозраст\n",
    "- city\tгород\n",
    "- subscription_type\tтип подписки (free, ultra)\n",
    "\n",
    "Поездки — rides_go.csv\n",
    "- user_id\tуникальный идентификатор пользователя\n",
    "- distance\tрасстояние, которое пользователь проехал в текущей сессии (в метрах)\n",
    "- duration\tпродолжительность сессии (в минутах) — время с того момента, как пользователь нажал кнопку «Начать поездку» до момента, как он нажал кнопку «Завершить поездку»\n",
    "- date\tдата совершения поездки\n",
    "\n",
    "Подписки — subscriptions_go.csv\n",
    "- subscription_type\tтип подписки\n",
    "- minute_price\tстоимость одной минуты поездки по данной подписке\n",
    "- start_ride_price\tстоимость начала поездки\n",
    "- subscription_fee\tстоимость ежемесячного платежа"
   ]
  },
  {
   "cell_type": "markdown",
   "id": "b43746c2",
   "metadata": {},
   "source": [
    "<div class=\"alert alert-info\">\n",
    "<b> В целом я скопировал описание данных с задания , но не знаю насколько уместно.</b> \n",
    "</div>"
   ]
  },
  {
   "cell_type": "markdown",
   "id": "2e9d43c6",
   "metadata": {},
   "source": [
    "План работы следующий:\n",
    "- В первой главе загрузим данные их структуру и типы , количество , наличие пропусков.\n",
    "- Во второй главе проведем предобработку данных. Если нужно поменяем типы данных. Обработаем дубликаты и аномалии.\n",
    "- В третей главе рассмотрим подробнее распределение пельзователей по городам, а так же распределние длительности и расстояния пройденного за поездку.\n",
    "- В 4 главе объеденим данные таблиц поездок и пользователей и посмотрим особенности поездок пользователей с подпиской и без нее. \n",
    "- В 5й посчитаем ежемесячную выручку с каждого пользователя \n",
    "- В 6й главе проверим несколько гипотез.\n",
    "- В 7Й решаем дополнительные вопросы."
   ]
  },
  {
   "cell_type": "markdown",
   "id": "82817944",
   "metadata": {},
   "source": [
    "<div class=\"alert alert-block alert-danger\">\n",
    "<h2> Комментарий ревьюера v1 <a class=\"tocSkip\"></h2>\n",
    "\n",
    "<b>На доработку🤔:</b>  А добавим название проекта? Поставим цель, опишем данные, с которыми будем работать? "
   ]
  },
  {
   "cell_type": "markdown",
   "id": "49fd03bf",
   "metadata": {},
   "source": [
    "<div class=\"alert alert-success\">\n",
    "<h2> Комментарий ревьюера v2 <a class=\"tocSkip\"> </h2>\n",
    "\n",
    "<b>Все супер!👍:</b> Уместно) Описание данных спокойной можно брать из ТЗ) "
   ]
  },
  {
   "cell_type": "markdown",
   "id": "c42cbe00",
   "metadata": {},
   "source": [
    "#### Шаг 1. Загрузка данных"
   ]
  },
  {
   "cell_type": "markdown",
   "id": "97615e2b",
   "metadata": {},
   "source": [
    "Загрузим данные и посмотрим на них и статистику по ним, нарисуем гистограмы по численным столбцам."
   ]
  },
  {
   "cell_type": "code",
   "execution_count": 2,
   "id": "1124bb58",
   "metadata": {},
   "outputs": [],
   "source": [
    "import pandas as pd\n",
    "import numpy as np\n",
    "import scipy.stats as st\n",
    "import math\n",
    "from matplotlib import pyplot as plt"
   ]
  },
  {
   "cell_type": "code",
   "execution_count": 3,
   "id": "eff9f206",
   "metadata": {},
   "outputs": [],
   "source": [
    "users = pd.read_csv('/datasets/users_go.csv')\n",
    "rides =  pd.read_csv('/datasets/rides_go.csv')\n",
    "sbsc = pd.read_csv('/datasets/subscriptions_go.csv')\n"
   ]
  },
  {
   "cell_type": "code",
   "execution_count": 4,
   "id": "6361e54d",
   "metadata": {},
   "outputs": [
    {
     "data": {
      "text/html": [
       "<div>\n",
       "<style scoped>\n",
       "    .dataframe tbody tr th:only-of-type {\n",
       "        vertical-align: middle;\n",
       "    }\n",
       "\n",
       "    .dataframe tbody tr th {\n",
       "        vertical-align: top;\n",
       "    }\n",
       "\n",
       "    .dataframe thead th {\n",
       "        text-align: right;\n",
       "    }\n",
       "</style>\n",
       "<table border=\"1\" class=\"dataframe\">\n",
       "  <thead>\n",
       "    <tr style=\"text-align: right;\">\n",
       "      <th></th>\n",
       "      <th>user_id</th>\n",
       "      <th>name</th>\n",
       "      <th>age</th>\n",
       "      <th>city</th>\n",
       "      <th>subscription_type</th>\n",
       "    </tr>\n",
       "  </thead>\n",
       "  <tbody>\n",
       "    <tr>\n",
       "      <th>0</th>\n",
       "      <td>1</td>\n",
       "      <td>Кира</td>\n",
       "      <td>22</td>\n",
       "      <td>Тюмень</td>\n",
       "      <td>ultra</td>\n",
       "    </tr>\n",
       "    <tr>\n",
       "      <th>1</th>\n",
       "      <td>2</td>\n",
       "      <td>Станислав</td>\n",
       "      <td>31</td>\n",
       "      <td>Омск</td>\n",
       "      <td>ultra</td>\n",
       "    </tr>\n",
       "    <tr>\n",
       "      <th>2</th>\n",
       "      <td>3</td>\n",
       "      <td>Алексей</td>\n",
       "      <td>20</td>\n",
       "      <td>Москва</td>\n",
       "      <td>ultra</td>\n",
       "    </tr>\n",
       "    <tr>\n",
       "      <th>3</th>\n",
       "      <td>4</td>\n",
       "      <td>Константин</td>\n",
       "      <td>26</td>\n",
       "      <td>Ростов-на-Дону</td>\n",
       "      <td>ultra</td>\n",
       "    </tr>\n",
       "    <tr>\n",
       "      <th>4</th>\n",
       "      <td>5</td>\n",
       "      <td>Адель</td>\n",
       "      <td>28</td>\n",
       "      <td>Омск</td>\n",
       "      <td>ultra</td>\n",
       "    </tr>\n",
       "  </tbody>\n",
       "</table>\n",
       "</div>"
      ],
      "text/plain": [
       "   user_id        name  age            city subscription_type\n",
       "0        1        Кира   22          Тюмень             ultra\n",
       "1        2   Станислав   31            Омск             ultra\n",
       "2        3     Алексей   20          Москва             ultra\n",
       "3        4  Константин   26  Ростов-на-Дону             ultra\n",
       "4        5       Адель   28            Омск             ultra"
      ]
     },
     "execution_count": 4,
     "metadata": {},
     "output_type": "execute_result"
    }
   ],
   "source": [
    "users.head()"
   ]
  },
  {
   "cell_type": "code",
   "execution_count": 5,
   "id": "2534f484",
   "metadata": {},
   "outputs": [
    {
     "name": "stdout",
     "output_type": "stream",
     "text": [
      "<class 'pandas.core.frame.DataFrame'>\n",
      "RangeIndex: 1565 entries, 0 to 1564\n",
      "Data columns (total 5 columns):\n",
      " #   Column             Non-Null Count  Dtype \n",
      "---  ------             --------------  ----- \n",
      " 0   user_id            1565 non-null   int64 \n",
      " 1   name               1565 non-null   object\n",
      " 2   age                1565 non-null   int64 \n",
      " 3   city               1565 non-null   object\n",
      " 4   subscription_type  1565 non-null   object\n",
      "dtypes: int64(2), object(3)\n",
      "memory usage: 61.3+ KB\n"
     ]
    }
   ],
   "source": [
    "users.info()"
   ]
  },
  {
   "cell_type": "code",
   "execution_count": 60,
   "id": "9ec3c975",
   "metadata": {},
   "outputs": [
    {
     "data": {
      "text/plain": [
       "Text(0, 0.5, 'Число пользователей')"
      ]
     },
     "execution_count": 60,
     "metadata": {},
     "output_type": "execute_result"
    },
    {
     "data": {
      "image/png": "[encoded data removed]",
      "text/plain": [
       "<Figure size 432x288 with 1 Axes>"
      ]
     },
     "metadata": {
      "needs_background": "light"
     },
     "output_type": "display_data"
    }
   ],
   "source": [
    "users['age'].hist(bins=30)\n",
    "plt.title('Возраст пользователей')\n",
    "plt.xlabel('Возраст лет')\n",
    "plt.ylabel('Число пользователей')"
   ]
  },
  {
   "cell_type": "code",
   "execution_count": 7,
   "id": "5147c958",
   "metadata": {},
   "outputs": [
    {
     "data": {
      "text/html": [
       "<div>\n",
       "<style scoped>\n",
       "    .dataframe tbody tr th:only-of-type {\n",
       "        vertical-align: middle;\n",
       "    }\n",
       "\n",
       "    .dataframe tbody tr th {\n",
       "        vertical-align: top;\n",
       "    }\n",
       "\n",
       "    .dataframe thead th {\n",
       "        text-align: right;\n",
       "    }\n",
       "</style>\n",
       "<table border=\"1\" class=\"dataframe\">\n",
       "  <thead>\n",
       "    <tr style=\"text-align: right;\">\n",
       "      <th></th>\n",
       "      <th>user_id</th>\n",
       "      <th>distance</th>\n",
       "      <th>duration</th>\n",
       "      <th>date</th>\n",
       "    </tr>\n",
       "  </thead>\n",
       "  <tbody>\n",
       "    <tr>\n",
       "      <th>0</th>\n",
       "      <td>1</td>\n",
       "      <td>4409.919140</td>\n",
       "      <td>25.599769</td>\n",
       "      <td>2021-01-01</td>\n",
       "    </tr>\n",
       "    <tr>\n",
       "      <th>1</th>\n",
       "      <td>1</td>\n",
       "      <td>2617.592153</td>\n",
       "      <td>15.816871</td>\n",
       "      <td>2021-01-18</td>\n",
       "    </tr>\n",
       "    <tr>\n",
       "      <th>2</th>\n",
       "      <td>1</td>\n",
       "      <td>754.159807</td>\n",
       "      <td>6.232113</td>\n",
       "      <td>2021-04-20</td>\n",
       "    </tr>\n",
       "    <tr>\n",
       "      <th>3</th>\n",
       "      <td>1</td>\n",
       "      <td>2694.783254</td>\n",
       "      <td>18.511000</td>\n",
       "      <td>2021-08-11</td>\n",
       "    </tr>\n",
       "    <tr>\n",
       "      <th>4</th>\n",
       "      <td>1</td>\n",
       "      <td>4028.687306</td>\n",
       "      <td>26.265803</td>\n",
       "      <td>2021-08-28</td>\n",
       "    </tr>\n",
       "  </tbody>\n",
       "</table>\n",
       "</div>"
      ],
      "text/plain": [
       "   user_id     distance   duration        date\n",
       "0        1  4409.919140  25.599769  2021-01-01\n",
       "1        1  2617.592153  15.816871  2021-01-18\n",
       "2        1   754.159807   6.232113  2021-04-20\n",
       "3        1  2694.783254  18.511000  2021-08-11\n",
       "4        1  4028.687306  26.265803  2021-08-28"
      ]
     },
     "execution_count": 7,
     "metadata": {},
     "output_type": "execute_result"
    }
   ],
   "source": [
    "rides.head()"
   ]
  },
  {
   "cell_type": "code",
   "execution_count": 8,
   "id": "07ae6276",
   "metadata": {},
   "outputs": [
    {
     "name": "stdout",
     "output_type": "stream",
     "text": [
      "<class 'pandas.core.frame.DataFrame'>\n",
      "RangeIndex: 18068 entries, 0 to 18067\n",
      "Data columns (total 4 columns):\n",
      " #   Column    Non-Null Count  Dtype  \n",
      "---  ------    --------------  -----  \n",
      " 0   user_id   18068 non-null  int64  \n",
      " 1   distance  18068 non-null  float64\n",
      " 2   duration  18068 non-null  float64\n",
      " 3   date      18068 non-null  object \n",
      "dtypes: float64(2), int64(1), object(1)\n",
      "memory usage: 564.8+ KB\n"
     ]
    }
   ],
   "source": [
    "rides.info()"
   ]
  },
  {
   "cell_type": "markdown",
   "id": "9ddba4f1",
   "metadata": {},
   "source": [
    "<div class=\"alert alert-info\">\n",
    "<b>Тут я просто вывожу исходный датафрейм , по этому вроде подписывать смысла нет. Но как это сделать если понадобится? Если я как и везде ниже добавляю подписи они появляются только у второго графика. то есть надо как то список названий осей и графиков передавать, но как это сделать найти не смог. </b> \n",
    "</div>"
   ]
  },
  {
   "cell_type": "markdown",
   "id": "6d9c9591",
   "metadata": {},
   "source": [
    "<div class=\"alert alert-warning\">\n",
    "    <h2> Комментарий ревьюера v2 <a class=\"tocSkip\"> </h2>\n",
    "    \n",
    "<b>Небольшие замечания и рекомендации💡:</b> Отправляю полезные ссылки) https://habr.com/ru/companies/skillfactory/articles/683738/ \n",
    "https://devpractice.ru/matplotlib-lesson-3-3-text-elements/"
   ]
  },
  {
   "cell_type": "code",
   "execution_count": 66,
   "id": "2dcf10c7",
   "metadata": {},
   "outputs": [
    {
     "name": "stderr",
     "output_type": "stream",
     "text": [
      "/tmp/ipykernel_31/3557760335.py:2: MatplotlibDeprecationWarning: Adding an axes using the same arguments as a previous axes currently reuses the earlier instance.  In a future version, a new instance will always be created and returned.  Meanwhile, this warning can be suppressed, and the future behavior ensured, by passing a unique label to each axes instance.\n",
      "  plt.subplot(1,2,1)\n",
      "/tmp/ipykernel_31/3557760335.py:6: MatplotlibDeprecationWarning: Adding an axes using the same arguments as a previous axes currently reuses the earlier instance.  In a future version, a new instance will always be created and returned.  Meanwhile, this warning can be suppressed, and the future behavior ensured, by passing a unique label to each axes instance.\n",
      "  plt.subplot(122)\n"
     ]
    },
    {
     "data": {
      "text/plain": [
       "Text(0, 0.5, 'Число поездок')"
      ]
     },
     "execution_count": 66,
     "metadata": {},
     "output_type": "execute_result"
    },
    {
     "data": {
      "image/png": "[encoded data removed]",
      "text/plain": [
       "<Figure size 720x288 with 2 Axes>"
      ]
     },
     "metadata": {
      "needs_background": "light"
     },
     "output_type": "display_data"
    }
   ],
   "source": [
    "rides[['distance','duration']].hist(bins=30, figsize=[10,4])\n",
    "plt.subplot(1,2,1)\n",
    "plt.title('Расстояние поездок')\n",
    "plt.xlabel('Расстояние м.')\n",
    "plt.ylabel('Число поездок')\n",
    "plt.subplot(122)\n",
    "plt.title('Время поездок')\n",
    "plt.xlabel('Время мин.')\n",
    "plt.ylabel('Число поездок')"
   ]
  },
  {
   "cell_type": "markdown",
   "id": "c4b814b7",
   "metadata": {},
   "source": []
  },
  {
   "cell_type": "code",
   "execution_count": 10,
   "id": "33a23ddc",
   "metadata": {},
   "outputs": [
    {
     "data": {
      "text/html": [
       "<div>\n",
       "<style scoped>\n",
       "    .dataframe tbody tr th:only-of-type {\n",
       "        vertical-align: middle;\n",
       "    }\n",
       "\n",
       "    .dataframe tbody tr th {\n",
       "        vertical-align: top;\n",
       "    }\n",
       "\n",
       "    .dataframe thead th {\n",
       "        text-align: right;\n",
       "    }\n",
       "</style>\n",
       "<table border=\"1\" class=\"dataframe\">\n",
       "  <thead>\n",
       "    <tr style=\"text-align: right;\">\n",
       "      <th></th>\n",
       "      <th>subscription_type</th>\n",
       "      <th>minute_price</th>\n",
       "      <th>start_ride_price</th>\n",
       "      <th>subscription_fee</th>\n",
       "    </tr>\n",
       "  </thead>\n",
       "  <tbody>\n",
       "    <tr>\n",
       "      <th>0</th>\n",
       "      <td>free</td>\n",
       "      <td>8</td>\n",
       "      <td>50</td>\n",
       "      <td>0</td>\n",
       "    </tr>\n",
       "    <tr>\n",
       "      <th>1</th>\n",
       "      <td>ultra</td>\n",
       "      <td>6</td>\n",
       "      <td>0</td>\n",
       "      <td>199</td>\n",
       "    </tr>\n",
       "  </tbody>\n",
       "</table>\n",
       "</div>"
      ],
      "text/plain": [
       "  subscription_type  minute_price  start_ride_price  subscription_fee\n",
       "0              free             8                50                 0\n",
       "1             ultra             6                 0               199"
      ]
     },
     "execution_count": 10,
     "metadata": {},
     "output_type": "execute_result"
    }
   ],
   "source": [
    "sbsc.head()"
   ]
  },
  {
   "cell_type": "markdown",
   "id": "c6b6f80b",
   "metadata": {},
   "source": [
    "<font color='blue'>\n",
    "Сохраним на будущеее количество исходных данных о поездках и пользователях\n",
    "</font>"
   ]
  },
  {
   "cell_type": "code",
   "execution_count": 11,
   "id": "e90659ee",
   "metadata": {},
   "outputs": [
    {
     "data": {
      "text/plain": [
       "1565"
      ]
     },
     "execution_count": 11,
     "metadata": {},
     "output_type": "execute_result"
    }
   ],
   "source": [
    "total_users = users.shape[0]\n",
    "total_users"
   ]
  },
  {
   "cell_type": "code",
   "execution_count": 12,
   "id": "d23a085a",
   "metadata": {},
   "outputs": [
    {
     "data": {
      "text/plain": [
       "18068"
      ]
     },
     "execution_count": 12,
     "metadata": {},
     "output_type": "execute_result"
    }
   ],
   "source": [
    "total_rides = rides.shape[0]\n",
    "total_rides"
   ]
  },
  {
   "cell_type": "markdown",
   "id": "cacfb03e",
   "metadata": {},
   "source": [
    "Данные читаются, пропусков нет, названия столбцов не нужно менять."
   ]
  },
  {
   "cell_type": "markdown",
   "id": "08ce104f",
   "metadata": {},
   "source": [
    "<div class=\"alert alert-success\">\n",
    "<h2> Комментарий ревьюера v1 <a class=\"tocSkip\"> </h2>\n",
    "\n",
    "<b>Все супер!👍:</b> Обзор данных выполнен корректно!"
   ]
  },
  {
   "cell_type": "markdown",
   "id": "e95ebca7",
   "metadata": {},
   "source": [
    "#### Шаг 2. Предобработка данных"
   ]
  },
  {
   "cell_type": "markdown",
   "id": "8ad0e6ed",
   "metadata": {},
   "source": [
    "##### Типы данных"
   ]
  },
  {
   "cell_type": "markdown",
   "id": "1d43122b",
   "metadata": {},
   "source": [
    "Поменяем тип столбца `date` на datetime и создадим столбец с номером месяца."
   ]
  },
  {
   "cell_type": "code",
   "execution_count": 13,
   "id": "93129bb5",
   "metadata": {},
   "outputs": [],
   "source": [
    "rides['date'] = pd.to_datetime(rides['date'],format='%Y-%m-%d')"
   ]
  },
  {
   "cell_type": "markdown",
   "id": "bcab2198",
   "metadata": {},
   "source": [
    "<div class=\"alert alert-success\">\n",
    "<h2> Комментарий ревьюера v1 <a class=\"tocSkip\"> </h2>\n",
    "\n",
    "<b>Все супер!👍:</b> ага, дата должна быть датой) "
   ]
  },
  {
   "cell_type": "code",
   "execution_count": 14,
   "id": "af6d202c",
   "metadata": {},
   "outputs": [],
   "source": [
    "rides['month'] = rides['date'].dt.month"
   ]
  },
  {
   "cell_type": "code",
   "execution_count": 15,
   "id": "5a75dbb1",
   "metadata": {
    "scrolled": true
   },
   "outputs": [
    {
     "data": {
      "text/html": [
       "<div>\n",
       "<style scoped>\n",
       "    .dataframe tbody tr th:only-of-type {\n",
       "        vertical-align: middle;\n",
       "    }\n",
       "\n",
       "    .dataframe tbody tr th {\n",
       "        vertical-align: top;\n",
       "    }\n",
       "\n",
       "    .dataframe thead th {\n",
       "        text-align: right;\n",
       "    }\n",
       "</style>\n",
       "<table border=\"1\" class=\"dataframe\">\n",
       "  <thead>\n",
       "    <tr style=\"text-align: right;\">\n",
       "      <th></th>\n",
       "      <th>user_id</th>\n",
       "      <th>distance</th>\n",
       "      <th>duration</th>\n",
       "      <th>date</th>\n",
       "      <th>month</th>\n",
       "    </tr>\n",
       "  </thead>\n",
       "  <tbody>\n",
       "    <tr>\n",
       "      <th>0</th>\n",
       "      <td>1</td>\n",
       "      <td>4409.919140</td>\n",
       "      <td>25.599769</td>\n",
       "      <td>2021-01-01</td>\n",
       "      <td>1</td>\n",
       "    </tr>\n",
       "    <tr>\n",
       "      <th>1</th>\n",
       "      <td>1</td>\n",
       "      <td>2617.592153</td>\n",
       "      <td>15.816871</td>\n",
       "      <td>2021-01-18</td>\n",
       "      <td>1</td>\n",
       "    </tr>\n",
       "    <tr>\n",
       "      <th>2</th>\n",
       "      <td>1</td>\n",
       "      <td>754.159807</td>\n",
       "      <td>6.232113</td>\n",
       "      <td>2021-04-20</td>\n",
       "      <td>4</td>\n",
       "    </tr>\n",
       "    <tr>\n",
       "      <th>3</th>\n",
       "      <td>1</td>\n",
       "      <td>2694.783254</td>\n",
       "      <td>18.511000</td>\n",
       "      <td>2021-08-11</td>\n",
       "      <td>8</td>\n",
       "    </tr>\n",
       "    <tr>\n",
       "      <th>4</th>\n",
       "      <td>1</td>\n",
       "      <td>4028.687306</td>\n",
       "      <td>26.265803</td>\n",
       "      <td>2021-08-28</td>\n",
       "      <td>8</td>\n",
       "    </tr>\n",
       "  </tbody>\n",
       "</table>\n",
       "</div>"
      ],
      "text/plain": [
       "   user_id     distance   duration       date  month\n",
       "0        1  4409.919140  25.599769 2021-01-01      1\n",
       "1        1  2617.592153  15.816871 2021-01-18      1\n",
       "2        1   754.159807   6.232113 2021-04-20      4\n",
       "3        1  2694.783254  18.511000 2021-08-11      8\n",
       "4        1  4028.687306  26.265803 2021-08-28      8"
      ]
     },
     "execution_count": 15,
     "metadata": {},
     "output_type": "execute_result"
    }
   ],
   "source": [
    "rides.head()"
   ]
  },
  {
   "cell_type": "code",
   "execution_count": 16,
   "id": "27b4ff5c",
   "metadata": {},
   "outputs": [
    {
     "name": "stdout",
     "output_type": "stream",
     "text": [
      "Даннные содержат информацию о поездкас с 2021-01-01 00:00:00 по 2021-12-30 00:00:00\n"
     ]
    }
   ],
   "source": [
    "print(f\"Даннные содержат информацию о поездкас с {rides['date'].min()} по {rides['date'].max()}\")"
   ]
  },
  {
   "cell_type": "markdown",
   "id": "31cf6828",
   "metadata": {},
   "source": [
    "<font color='blue'>\n",
    "Таким образом у нас данные за 1 год. И мы можем исследовать данные по месяцам , не обращая внимание на год т.к. он везде 2021 \n",
    "</font>"
   ]
  },
  {
   "cell_type": "markdown",
   "id": "7f3eaa45",
   "metadata": {},
   "source": [
    "<div class=\"alert alert-warning\">\n",
    "    <h2> Комментарий ревьюера v1 <a class=\"tocSkip\"> </h2>\n",
    "    \n",
    "<b>Небольшие замечания и рекомендации💡:</b> Столбец добавлен верно, но проверим данные за сколько лет мы имеем? Произвести такую проверку важно, чтоб в дальнейшем данные не склеились при аггрегации "
   ]
  },
  {
   "cell_type": "markdown",
   "id": "d73ef573",
   "metadata": {},
   "source": [
    "<div class=\"alert alert-success\">\n",
    "<h2> Комментарий ревьюера v2 <a class=\"tocSkip\"> </h2>\n",
    "\n",
    "<b>Все супер!👍:</b> Отлично!"
   ]
  },
  {
   "cell_type": "markdown",
   "id": "6682463a",
   "metadata": {},
   "source": [
    "Поскольку подписок всего 2. Заменим free на 0, ultra на 1. "
   ]
  },
  {
   "cell_type": "code",
   "execution_count": 17,
   "id": "680818b5",
   "metadata": {},
   "outputs": [
    {
     "data": {
      "text/plain": [
       "array(['ultra', 'free'], dtype=object)"
      ]
     },
     "execution_count": 17,
     "metadata": {},
     "output_type": "execute_result"
    }
   ],
   "source": [
    "users['subscription_type'].unique()"
   ]
  },
  {
   "cell_type": "code",
   "execution_count": 18,
   "id": "0885d6ac",
   "metadata": {},
   "outputs": [],
   "source": [
    "users['subscription_type'] = (users['subscription_type']=='ultra')"
   ]
  },
  {
   "cell_type": "code",
   "execution_count": 19,
   "id": "821dfdf0",
   "metadata": {
    "scrolled": true
   },
   "outputs": [
    {
     "data": {
      "text/html": [
       "<div>\n",
       "<style scoped>\n",
       "    .dataframe tbody tr th:only-of-type {\n",
       "        vertical-align: middle;\n",
       "    }\n",
       "\n",
       "    .dataframe tbody tr th {\n",
       "        vertical-align: top;\n",
       "    }\n",
       "\n",
       "    .dataframe thead th {\n",
       "        text-align: right;\n",
       "    }\n",
       "</style>\n",
       "<table border=\"1\" class=\"dataframe\">\n",
       "  <thead>\n",
       "    <tr style=\"text-align: right;\">\n",
       "      <th></th>\n",
       "      <th>user_id</th>\n",
       "      <th>name</th>\n",
       "      <th>age</th>\n",
       "      <th>city</th>\n",
       "      <th>subscription_type</th>\n",
       "    </tr>\n",
       "  </thead>\n",
       "  <tbody>\n",
       "    <tr>\n",
       "      <th>1560</th>\n",
       "      <td>829</td>\n",
       "      <td>Федор</td>\n",
       "      <td>29</td>\n",
       "      <td>Пятигорск</td>\n",
       "      <td>False</td>\n",
       "    </tr>\n",
       "    <tr>\n",
       "      <th>1561</th>\n",
       "      <td>809</td>\n",
       "      <td>Юрий</td>\n",
       "      <td>26</td>\n",
       "      <td>Сочи</td>\n",
       "      <td>False</td>\n",
       "    </tr>\n",
       "    <tr>\n",
       "      <th>1562</th>\n",
       "      <td>307</td>\n",
       "      <td>Ясмина</td>\n",
       "      <td>19</td>\n",
       "      <td>Краснодар</td>\n",
       "      <td>True</td>\n",
       "    </tr>\n",
       "    <tr>\n",
       "      <th>1563</th>\n",
       "      <td>47</td>\n",
       "      <td>Юрий</td>\n",
       "      <td>28</td>\n",
       "      <td>Тюмень</td>\n",
       "      <td>True</td>\n",
       "    </tr>\n",
       "    <tr>\n",
       "      <th>1564</th>\n",
       "      <td>1045</td>\n",
       "      <td>Артемий</td>\n",
       "      <td>28</td>\n",
       "      <td>Ростов-на-Дону</td>\n",
       "      <td>False</td>\n",
       "    </tr>\n",
       "  </tbody>\n",
       "</table>\n",
       "</div>"
      ],
      "text/plain": [
       "      user_id     name  age            city  subscription_type\n",
       "1560      829    Федор   29       Пятигорск              False\n",
       "1561      809     Юрий   26            Сочи              False\n",
       "1562      307   Ясмина   19       Краснодар               True\n",
       "1563       47     Юрий   28          Тюмень               True\n",
       "1564     1045  Артемий   28  Ростов-на-Дону              False"
      ]
     },
     "execution_count": 19,
     "metadata": {},
     "output_type": "execute_result"
    }
   ],
   "source": [
    "users.tail()"
   ]
  },
  {
   "cell_type": "markdown",
   "id": "bd2ef93a",
   "metadata": {},
   "source": [
    "<div class=\"alert alert-success\">\n",
    "<h2> Комментарий ревьюера v1 <a class=\"tocSkip\"> </h2>\n",
    "\n",
    "<b>Все супер!👍:</b> Хорошо) "
   ]
  },
  {
   "cell_type": "markdown",
   "id": "885a6d18",
   "metadata": {},
   "source": [
    "Длительность поездок и длинну поездок можно округлить до целого числа."
   ]
  },
  {
   "cell_type": "code",
   "execution_count": 20,
   "id": "4ea17940",
   "metadata": {},
   "outputs": [
    {
     "data": {
      "text/html": [
       "<div>\n",
       "<style scoped>\n",
       "    .dataframe tbody tr th:only-of-type {\n",
       "        vertical-align: middle;\n",
       "    }\n",
       "\n",
       "    .dataframe tbody tr th {\n",
       "        vertical-align: top;\n",
       "    }\n",
       "\n",
       "    .dataframe thead th {\n",
       "        text-align: right;\n",
       "    }\n",
       "</style>\n",
       "<table border=\"1\" class=\"dataframe\">\n",
       "  <thead>\n",
       "    <tr style=\"text-align: right;\">\n",
       "      <th></th>\n",
       "      <th>user_id</th>\n",
       "      <th>distance</th>\n",
       "      <th>duration</th>\n",
       "      <th>date</th>\n",
       "      <th>month</th>\n",
       "    </tr>\n",
       "  </thead>\n",
       "  <tbody>\n",
       "    <tr>\n",
       "      <th>0</th>\n",
       "      <td>1</td>\n",
       "      <td>4410.0</td>\n",
       "      <td>26.0</td>\n",
       "      <td>2021-01-01</td>\n",
       "      <td>1</td>\n",
       "    </tr>\n",
       "    <tr>\n",
       "      <th>1</th>\n",
       "      <td>1</td>\n",
       "      <td>2618.0</td>\n",
       "      <td>16.0</td>\n",
       "      <td>2021-01-18</td>\n",
       "      <td>1</td>\n",
       "    </tr>\n",
       "    <tr>\n",
       "      <th>2</th>\n",
       "      <td>1</td>\n",
       "      <td>755.0</td>\n",
       "      <td>7.0</td>\n",
       "      <td>2021-04-20</td>\n",
       "      <td>4</td>\n",
       "    </tr>\n",
       "    <tr>\n",
       "      <th>3</th>\n",
       "      <td>1</td>\n",
       "      <td>2695.0</td>\n",
       "      <td>19.0</td>\n",
       "      <td>2021-08-11</td>\n",
       "      <td>8</td>\n",
       "    </tr>\n",
       "    <tr>\n",
       "      <th>4</th>\n",
       "      <td>1</td>\n",
       "      <td>4029.0</td>\n",
       "      <td>27.0</td>\n",
       "      <td>2021-08-28</td>\n",
       "      <td>8</td>\n",
       "    </tr>\n",
       "  </tbody>\n",
       "</table>\n",
       "</div>"
      ],
      "text/plain": [
       "   user_id  distance  duration       date  month\n",
       "0        1    4410.0      26.0 2021-01-01      1\n",
       "1        1    2618.0      16.0 2021-01-18      1\n",
       "2        1     755.0       7.0 2021-04-20      4\n",
       "3        1    2695.0      19.0 2021-08-11      8\n",
       "4        1    4029.0      27.0 2021-08-28      8"
      ]
     },
     "execution_count": 20,
     "metadata": {},
     "output_type": "execute_result"
    }
   ],
   "source": [
    "rides['duration'] = np.ceil(rides['duration']) \n",
    "rides['distance'] = np.ceil(rides['distance']) \n",
    "rides.head()"
   ]
  },
  {
   "cell_type": "markdown",
   "id": "7a508f42",
   "metadata": {},
   "source": [
    "Проверим `user_id`"
   ]
  },
  {
   "cell_type": "code",
   "execution_count": 21,
   "id": "b47b2503",
   "metadata": {
    "scrolled": true
   },
   "outputs": [
    {
     "name": "stdout",
     "output_type": "stream",
     "text": [
      "True\n"
     ]
    }
   ],
   "source": [
    "print(rides['user_id'].unique().sort()==users['user_id'].unique().sort())"
   ]
  },
  {
   "cell_type": "markdown",
   "id": "db3d78fb",
   "metadata": {},
   "source": [
    "<div class=\"alert alert-success\">\n",
    "<h2> Комментарий ревьюера v1 <a class=\"tocSkip\"> </h2>\n",
    "\n",
    "<b>Все супер!👍:</b> Отлично, столбцы округлили "
   ]
  },
  {
   "cell_type": "markdown",
   "id": "64f32810",
   "metadata": {},
   "source": [
    "##### Дубликаты"
   ]
  },
  {
   "cell_type": "markdown",
   "id": "ae3da0c8",
   "metadata": {},
   "source": [
    "Проверим наличие явных дубликатов."
   ]
  },
  {
   "cell_type": "code",
   "execution_count": 22,
   "id": "b3df2581",
   "metadata": {},
   "outputs": [
    {
     "data": {
      "text/plain": [
       "0"
      ]
     },
     "execution_count": 22,
     "metadata": {},
     "output_type": "execute_result"
    }
   ],
   "source": [
    "rides.duplicated().sum()"
   ]
  },
  {
   "cell_type": "code",
   "execution_count": 23,
   "id": "8c794585",
   "metadata": {},
   "outputs": [
    {
     "data": {
      "text/plain": [
       "31"
      ]
     },
     "execution_count": 23,
     "metadata": {},
     "output_type": "execute_result"
    }
   ],
   "source": [
    "users.duplicated().sum()"
   ]
  },
  {
   "cell_type": "code",
   "execution_count": 24,
   "id": "237c8d60",
   "metadata": {},
   "outputs": [
    {
     "data": {
      "text/html": [
       "<div>\n",
       "<style scoped>\n",
       "    .dataframe tbody tr th:only-of-type {\n",
       "        vertical-align: middle;\n",
       "    }\n",
       "\n",
       "    .dataframe tbody tr th {\n",
       "        vertical-align: top;\n",
       "    }\n",
       "\n",
       "    .dataframe thead th {\n",
       "        text-align: right;\n",
       "    }\n",
       "</style>\n",
       "<table border=\"1\" class=\"dataframe\">\n",
       "  <thead>\n",
       "    <tr style=\"text-align: right;\">\n",
       "      <th></th>\n",
       "      <th>user_id</th>\n",
       "      <th>name</th>\n",
       "      <th>age</th>\n",
       "      <th>city</th>\n",
       "      <th>subscription_type</th>\n",
       "    </tr>\n",
       "  </thead>\n",
       "  <tbody>\n",
       "    <tr>\n",
       "      <th>1534</th>\n",
       "      <td>293</td>\n",
       "      <td>Агата</td>\n",
       "      <td>26</td>\n",
       "      <td>Краснодар</td>\n",
       "      <td>True</td>\n",
       "    </tr>\n",
       "    <tr>\n",
       "      <th>1535</th>\n",
       "      <td>16</td>\n",
       "      <td>Амалия</td>\n",
       "      <td>27</td>\n",
       "      <td>Краснодар</td>\n",
       "      <td>True</td>\n",
       "    </tr>\n",
       "    <tr>\n",
       "      <th>1536</th>\n",
       "      <td>909</td>\n",
       "      <td>Константин</td>\n",
       "      <td>20</td>\n",
       "      <td>Екатеринбург</td>\n",
       "      <td>False</td>\n",
       "    </tr>\n",
       "    <tr>\n",
       "      <th>1537</th>\n",
       "      <td>403</td>\n",
       "      <td>Полина</td>\n",
       "      <td>19</td>\n",
       "      <td>Сочи</td>\n",
       "      <td>True</td>\n",
       "    </tr>\n",
       "    <tr>\n",
       "      <th>1538</th>\n",
       "      <td>908</td>\n",
       "      <td>Рустам</td>\n",
       "      <td>30</td>\n",
       "      <td>Тюмень</td>\n",
       "      <td>False</td>\n",
       "    </tr>\n",
       "  </tbody>\n",
       "</table>\n",
       "</div>"
      ],
      "text/plain": [
       "      user_id        name  age          city  subscription_type\n",
       "1534      293       Агата   26     Краснодар               True\n",
       "1535       16      Амалия   27     Краснодар               True\n",
       "1536      909  Константин   20  Екатеринбург              False\n",
       "1537      403      Полина   19          Сочи               True\n",
       "1538      908      Рустам   30        Тюмень              False"
      ]
     },
     "execution_count": 24,
     "metadata": {},
     "output_type": "execute_result"
    }
   ],
   "source": [
    "users.loc[users.duplicated()].head()"
   ]
  },
  {
   "cell_type": "markdown",
   "id": "77ff519d",
   "metadata": {},
   "source": [
    "Удаляем дубликаты."
   ]
  },
  {
   "cell_type": "code",
   "execution_count": 25,
   "id": "6d9b7fb1",
   "metadata": {},
   "outputs": [],
   "source": [
    "users.drop_duplicates(inplace=True,ignore_index=True)"
   ]
  },
  {
   "cell_type": "markdown",
   "id": "20bbd702",
   "metadata": {},
   "source": [
    "Названия городов."
   ]
  },
  {
   "cell_type": "code",
   "execution_count": 26,
   "id": "fe86b2b6",
   "metadata": {},
   "outputs": [
    {
     "data": {
      "text/plain": [
       "array(['Тюмень', 'Омск', 'Москва', 'Ростов-на-Дону', 'Краснодар',\n",
       "       'Пятигорск', 'Екатеринбург', 'Сочи'], dtype=object)"
      ]
     },
     "execution_count": 26,
     "metadata": {},
     "output_type": "execute_result"
    }
   ],
   "source": [
    "users['city'].unique()"
   ]
  },
  {
   "cell_type": "markdown",
   "id": "39cf2c33",
   "metadata": {},
   "source": [
    "Всего 8 городов, дубликатов нет. "
   ]
  },
  {
   "cell_type": "markdown",
   "id": "cb7728c6",
   "metadata": {},
   "source": [
    "<div class=\"alert alert-success\">\n",
    "<h2> Комментарий ревьюера v1 <a class=\"tocSkip\"> </h2>\n",
    "\n",
    "<b>Все супер!👍:</b> Дубли найдены и удалены) \n",
    "    \n",
    "    "
   ]
  },
  {
   "cell_type": "markdown",
   "id": "863cf02a",
   "metadata": {},
   "source": [
    "##### Аномалии"
   ]
  },
  {
   "cell_type": "markdown",
   "id": "1bc2638a",
   "metadata": {},
   "source": [
    "На гистограммах выше для длительности и расстояния видно странное поведение около нуля, изучим его подробнее"
   ]
  },
  {
   "cell_type": "code",
   "execution_count": 27,
   "id": "c2fa54ae",
   "metadata": {},
   "outputs": [
    {
     "data": {
      "text/html": [
       "<div>\n",
       "<style scoped>\n",
       "    .dataframe tbody tr th:only-of-type {\n",
       "        vertical-align: middle;\n",
       "    }\n",
       "\n",
       "    .dataframe tbody tr th {\n",
       "        vertical-align: top;\n",
       "    }\n",
       "\n",
       "    .dataframe thead th {\n",
       "        text-align: right;\n",
       "    }\n",
       "</style>\n",
       "<table border=\"1\" class=\"dataframe\">\n",
       "  <thead>\n",
       "    <tr style=\"text-align: right;\">\n",
       "      <th></th>\n",
       "      <th>user_id</th>\n",
       "      <th>distance</th>\n",
       "      <th>duration</th>\n",
       "      <th>date</th>\n",
       "      <th>month</th>\n",
       "    </tr>\n",
       "  </thead>\n",
       "  <tbody>\n",
       "    <tr>\n",
       "      <th>6531</th>\n",
       "      <td>701</td>\n",
       "      <td>4197.0</td>\n",
       "      <td>1.0</td>\n",
       "      <td>2021-08-31</td>\n",
       "      <td>8</td>\n",
       "    </tr>\n",
       "    <tr>\n",
       "      <th>6570</th>\n",
       "      <td>704</td>\n",
       "      <td>4831.0</td>\n",
       "      <td>1.0</td>\n",
       "      <td>2021-10-14</td>\n",
       "      <td>10</td>\n",
       "    </tr>\n",
       "    <tr>\n",
       "      <th>6680</th>\n",
       "      <td>712</td>\n",
       "      <td>4685.0</td>\n",
       "      <td>1.0</td>\n",
       "      <td>2021-03-04</td>\n",
       "      <td>3</td>\n",
       "    </tr>\n",
       "    <tr>\n",
       "      <th>6695</th>\n",
       "      <td>713</td>\n",
       "      <td>5216.0</td>\n",
       "      <td>1.0</td>\n",
       "      <td>2021-02-25</td>\n",
       "      <td>2</td>\n",
       "    </tr>\n",
       "    <tr>\n",
       "      <th>6768</th>\n",
       "      <td>718</td>\n",
       "      <td>5198.0</td>\n",
       "      <td>1.0</td>\n",
       "      <td>2021-02-11</td>\n",
       "      <td>2</td>\n",
       "    </tr>\n",
       "    <tr>\n",
       "      <th>...</th>\n",
       "      <td>...</td>\n",
       "      <td>...</td>\n",
       "      <td>...</td>\n",
       "      <td>...</td>\n",
       "      <td>...</td>\n",
       "    </tr>\n",
       "    <tr>\n",
       "      <th>17004</th>\n",
       "      <td>1460</td>\n",
       "      <td>5532.0</td>\n",
       "      <td>1.0</td>\n",
       "      <td>2021-01-19</td>\n",
       "      <td>1</td>\n",
       "    </tr>\n",
       "    <tr>\n",
       "      <th>17242</th>\n",
       "      <td>1477</td>\n",
       "      <td>6725.0</td>\n",
       "      <td>1.0</td>\n",
       "      <td>2021-01-12</td>\n",
       "      <td>1</td>\n",
       "    </tr>\n",
       "    <tr>\n",
       "      <th>17314</th>\n",
       "      <td>1483</td>\n",
       "      <td>4446.0</td>\n",
       "      <td>1.0</td>\n",
       "      <td>2021-03-06</td>\n",
       "      <td>3</td>\n",
       "    </tr>\n",
       "    <tr>\n",
       "      <th>17505</th>\n",
       "      <td>1496</td>\n",
       "      <td>5723.0</td>\n",
       "      <td>1.0</td>\n",
       "      <td>2021-02-14</td>\n",
       "      <td>2</td>\n",
       "    </tr>\n",
       "    <tr>\n",
       "      <th>17909</th>\n",
       "      <td>1524</td>\n",
       "      <td>4104.0</td>\n",
       "      <td>1.0</td>\n",
       "      <td>2021-06-18</td>\n",
       "      <td>6</td>\n",
       "    </tr>\n",
       "  </tbody>\n",
       "</table>\n",
       "<p>95 rows × 5 columns</p>\n",
       "</div>"
      ],
      "text/plain": [
       "       user_id  distance  duration       date  month\n",
       "6531       701    4197.0       1.0 2021-08-31      8\n",
       "6570       704    4831.0       1.0 2021-10-14     10\n",
       "6680       712    4685.0       1.0 2021-03-04      3\n",
       "6695       713    5216.0       1.0 2021-02-25      2\n",
       "6768       718    5198.0       1.0 2021-02-11      2\n",
       "...        ...       ...       ...        ...    ...\n",
       "17004     1460    5532.0       1.0 2021-01-19      1\n",
       "17242     1477    6725.0       1.0 2021-01-12      1\n",
       "17314     1483    4446.0       1.0 2021-03-06      3\n",
       "17505     1496    5723.0       1.0 2021-02-14      2\n",
       "17909     1524    4104.0       1.0 2021-06-18      6\n",
       "\n",
       "[95 rows x 5 columns]"
      ]
     },
     "execution_count": 27,
     "metadata": {},
     "output_type": "execute_result"
    }
   ],
   "source": [
    "rides.loc[rides['duration']<2]"
   ]
  },
  {
   "cell_type": "markdown",
   "id": "633ae3a6",
   "metadata": {},
   "source": [
    "Видно есть записи с длительностью 0.5 мин и расстоянием в несколько км. Это очевидно ошибочные записи. Выкинем все записи со средней скоростью больше 600м/мин "
   ]
  },
  {
   "cell_type": "code",
   "execution_count": 28,
   "id": "0aeb774c",
   "metadata": {},
   "outputs": [],
   "source": [
    "rides = rides.loc[rides['distance']/rides['duration']<600]"
   ]
  },
  {
   "cell_type": "code",
   "execution_count": 29,
   "id": "16de74fa",
   "metadata": {},
   "outputs": [
    {
     "data": {
      "text/plain": [
       "Text(0, 0.5, 'Число поездок')"
      ]
     },
     "execution_count": 29,
     "metadata": {},
     "output_type": "execute_result"
    },
    {
     "data": {
      "image/png": "[encoded data removed]",
      "text/plain": [
       "<Figure size 432x288 with 1 Axes>"
      ]
     },
     "metadata": {
      "needs_background": "light"
     },
     "output_type": "display_data"
    }
   ],
   "source": [
    "(rides['distance']/rides['duration']).hist(bins=100)\n",
    "plt.title('Гистограмма средней скорости поездок')\n",
    "plt.xlabel('Средняя скорость м/мин')\n",
    "plt.ylabel('Число поездок')"
   ]
  },
  {
   "cell_type": "markdown",
   "id": "878a28d2",
   "metadata": {},
   "source": [
    "Теперь аномально больших скоростей нет, остались аномально малые. "
   ]
  },
  {
   "cell_type": "code",
   "execution_count": 30,
   "id": "7d5fa80a",
   "metadata": {},
   "outputs": [
    {
     "data": {
      "text/plain": [
       "41.0"
      ]
     },
     "execution_count": 30,
     "metadata": {},
     "output_type": "execute_result"
    }
   ],
   "source": [
    "rides['duration'].max()"
   ]
  },
  {
   "cell_type": "code",
   "execution_count": 31,
   "id": "57006919",
   "metadata": {},
   "outputs": [
    {
     "data": {
      "text/plain": [
       "3.0"
      ]
     },
     "execution_count": 31,
     "metadata": {},
     "output_type": "execute_result"
    }
   ],
   "source": [
    "rides['duration'].min()"
   ]
  },
  {
   "cell_type": "code",
   "execution_count": 32,
   "id": "07de8176",
   "metadata": {},
   "outputs": [
    {
     "data": {
      "text/plain": [
       "Text(0.5, 1.0, 'Гистограмма времени поездок')"
      ]
     },
     "execution_count": 32,
     "metadata": {},
     "output_type": "execute_result"
    },
    {
     "data": {
      "image/png": "[encoded data removed]",
      "text/plain": [
       "<Figure size 432x288 with 1 Axes>"
      ]
     },
     "metadata": {
      "needs_background": "light"
     },
     "output_type": "display_data"
    }
   ],
   "source": [
    "rides['duration'].hist(bins=39)\n",
    "plt.xlabel('Время мин.')\n",
    "plt.ylabel('Число поездок')\n",
    "plt.title('Гистограмма времени поездок')"
   ]
  },
  {
   "cell_type": "code",
   "execution_count": 33,
   "id": "37f6885d",
   "metadata": {},
   "outputs": [
    {
     "data": {
      "text/plain": [
       "Text(0.5, 1.0, 'Гистограмма расстояния поездок')"
      ]
     },
     "execution_count": 33,
     "metadata": {},
     "output_type": "execute_result"
    },
    {
     "data": {
      "image/png": "[encoded data removed]",
      "text/plain": [
       "<Figure size 432x288 with 1 Axes>"
      ]
     },
     "metadata": {
      "needs_background": "light"
     },
     "output_type": "display_data"
    }
   ],
   "source": [
    "rides['distance'].hist(bins=100)\n",
    "plt.xlabel('Расстояние м.')\n",
    "plt.ylabel('Число поездок')\n",
    "plt.title('Гистограмма расстояния поездок')"
   ]
  },
  {
   "cell_type": "markdown",
   "id": "82ae85a9",
   "metadata": {},
   "source": [
    "Теперь график длительности поездок выглядит нормально. А вот в графике растояния остался странный пик в районе 500м и не нулевое количество совсем коротких поездок. Возможно часть пользователей немогут начать поездку к примеру не разобрались с приложением или аккумулятор разряжен и прочее. \n",
    "<font color='blue'>\n",
    "В таблице пользователей было 2 процента дубликатов.\n",
    "В таблице поездок были удалены 0.5% аномалий."
   ]
  },
  {
   "cell_type": "code",
   "execution_count": 34,
   "id": "8210938c",
   "metadata": {},
   "outputs": [
    {
     "data": {
      "text/plain": [
       "0.019808306709265176"
      ]
     },
     "execution_count": 34,
     "metadata": {},
     "output_type": "execute_result"
    }
   ],
   "source": [
    "(total_users - users.shape[0])/total_users"
   ]
  },
  {
   "cell_type": "code",
   "execution_count": 35,
   "id": "a462d3ae",
   "metadata": {},
   "outputs": [
    {
     "data": {
      "text/plain": [
       "0.005257914545052026"
      ]
     },
     "execution_count": 35,
     "metadata": {},
     "output_type": "execute_result"
    }
   ],
   "source": [
    "(total_rides - rides.shape[0])/total_rides"
   ]
  },
  {
   "cell_type": "markdown",
   "id": "e20a2200",
   "metadata": {},
   "source": [
    "<div class=\"alert alert-warning\">\n",
    "    <h2> Комментарий ревьюера v1 <a class=\"tocSkip\"> </h2>\n",
    "    \n",
    "<b>Небольшие замечания и рекомендации💡:</b> Отлично! НО важно посчитать какую долю данных мы удалили из датафрейма) "
   ]
  },
  {
   "cell_type": "markdown",
   "id": "84b72474",
   "metadata": {},
   "source": [
    "<div class=\"alert alert-success\">\n",
    "<h2> Комментарий ревьюера v2 <a class=\"tocSkip\"> </h2>\n",
    "\n",
    "<b>Все супер!👍:</b> Лайк) "
   ]
  },
  {
   "cell_type": "markdown",
   "id": "ef6811ab",
   "metadata": {},
   "source": [
    "##### Вывод"
   ]
  },
  {
   "cell_type": "markdown",
   "id": "1538806d",
   "metadata": {},
   "source": [
    "Мы изменили тип данных столбца date\tна datetime и выделили отдельно столбец с месяцами, так же удалили дубликаты в таблице users и удалили записи о поездках с невозможно высокой скоростью."
   ]
  },
  {
   "cell_type": "markdown",
   "id": "04438e91",
   "metadata": {},
   "source": [
    "<div class=\"alert alert-success\">\n",
    "<h2> Комментарий ревьюера v1 <a class=\"tocSkip\"> </h2>\n",
    "\n",
    "<b>Все супер!👍:</b> Данные к анализу подготовлены) "
   ]
  },
  {
   "cell_type": "markdown",
   "id": "212593c7",
   "metadata": {},
   "source": [
    "#### Шаг 3. Исследовательский анализ данных"
   ]
  },
  {
   "cell_type": "markdown",
   "id": "54633eec",
   "metadata": {},
   "source": [
    "##### Распределение пользователей по городам."
   ]
  },
  {
   "cell_type": "markdown",
   "id": "77483b02",
   "metadata": {},
   "source": [
    "Посмотрим какое распределение пользователей по городам всего и отдельно с подпиской. "
   ]
  },
  {
   "cell_type": "markdown",
   "id": "4388045c",
   "metadata": {},
   "source": [
    "<div class=\"alert alert-info\">\n",
    "<b>Не очень понимаю почему в 3х графиках снизу есть легенда, а в других графиках ее нет если не писаль `plt.legend()`  </b> \n",
    "</div>"
   ]
  },
  {
   "cell_type": "code",
   "execution_count": 36,
   "id": "e3a4274c",
   "metadata": {},
   "outputs": [
    {
     "data": {
      "text/plain": [
       "Text(0.5, 1.0, 'Зависимость числа пользователей без подписки от города')"
      ]
     },
     "execution_count": 36,
     "metadata": {},
     "output_type": "execute_result"
    },
    {
     "data": {
      "image/png": "[encoded data removed]",
      "text/plain": [
       "<Figure size 432x288 with 1 Axes>"
      ]
     },
     "metadata": {
      "needs_background": "light"
     },
     "output_type": "display_data"
    }
   ],
   "source": [
    "users.pivot_table(index='city',values='user_id',aggfunc='count').sort_values(by='user_id').plot.bar()\n",
    "plt.xlabel('Города')\n",
    "plt.ylabel('Число пользователей без подписки')\n",
    "plt.title('Зависимость числа пользователей без подписки от города')"
   ]
  },
  {
   "cell_type": "code",
   "execution_count": 37,
   "id": "7503253d",
   "metadata": {},
   "outputs": [
    {
     "data": {
      "text/plain": [
       "Text(0.5, 1.0, 'Зависимость числа пользователей с подпиской от города')"
      ]
     },
     "execution_count": 37,
     "metadata": {},
     "output_type": "execute_result"
    },
    {
     "data": {
      "image/png": "[encoded data removed]",
      "text/plain": [
       "<Figure size 432x288 with 1 Axes>"
      ]
     },
     "metadata": {
      "needs_background": "light"
     },
     "output_type": "display_data"
    }
   ],
   "source": [
    "users.loc[users['subscription_type']==True].pivot_table(index='city',values='user_id',aggfunc='count').sort_values(by='user_id').plot.bar()\n",
    "plt.xlabel('Города')\n",
    "plt.ylabel('Число пользователей с подпиской')\n",
    "plt.title('Зависимость числа пользователей с подпиской от города')"
   ]
  },
  {
   "cell_type": "markdown",
   "id": "38d6fd92",
   "metadata": {},
   "source": [
    "Всего пользователей с подпиской и без."
   ]
  },
  {
   "cell_type": "markdown",
   "id": "8c1a19e0",
   "metadata": {},
   "source": [
    "<div class=\"alert alert-block alert-danger\">\n",
    "<h2> Комментарий ревьюера v1 <a class=\"tocSkip\"></h2>\n",
    "\n",
    "<b>На доработку🤔:</b>  Отлично, но доработаем оформление визуализаций? Необходимо подписать оси и заголовки на русском языке) "
   ]
  },
  {
   "cell_type": "markdown",
   "id": "d17e88bd",
   "metadata": {},
   "source": [
    "<div class=\"alert alert-success\">\n",
    "<h2> Комментарий ревьюера v2 <a class=\"tocSkip\"> </h2>\n",
    "\n",
    "<b>Все супер!👍:</b> Исправлено!"
   ]
  },
  {
   "cell_type": "code",
   "execution_count": 38,
   "id": "3cf3c479",
   "metadata": {},
   "outputs": [
    {
     "data": {
      "text/html": [
       "<div>\n",
       "<style scoped>\n",
       "    .dataframe tbody tr th:only-of-type {\n",
       "        vertical-align: middle;\n",
       "    }\n",
       "\n",
       "    .dataframe tbody tr th {\n",
       "        vertical-align: top;\n",
       "    }\n",
       "\n",
       "    .dataframe thead th {\n",
       "        text-align: right;\n",
       "    }\n",
       "</style>\n",
       "<table border=\"1\" class=\"dataframe\">\n",
       "  <thead>\n",
       "    <tr style=\"text-align: right;\">\n",
       "      <th></th>\n",
       "      <th>user_id</th>\n",
       "    </tr>\n",
       "    <tr>\n",
       "      <th>subscription_type</th>\n",
       "      <th></th>\n",
       "    </tr>\n",
       "  </thead>\n",
       "  <tbody>\n",
       "    <tr>\n",
       "      <th>False</th>\n",
       "      <td>835</td>\n",
       "    </tr>\n",
       "    <tr>\n",
       "      <th>True</th>\n",
       "      <td>699</td>\n",
       "    </tr>\n",
       "  </tbody>\n",
       "</table>\n",
       "</div>"
      ],
      "text/plain": [
       "                   user_id\n",
       "subscription_type         \n",
       "False                  835\n",
       "True                   699"
      ]
     },
     "execution_count": 38,
     "metadata": {},
     "output_type": "execute_result"
    }
   ],
   "source": [
    "users.pivot_table(index='subscription_type',values='user_id',aggfunc='count')"
   ]
  },
  {
   "cell_type": "markdown",
   "id": "9ded1fc8",
   "metadata": {},
   "source": [
    "<font color='blue'> И отобразим результат."
   ]
  },
  {
   "cell_type": "code",
   "execution_count": 46,
   "id": "97ecbf83",
   "metadata": {},
   "outputs": [
    {
     "data": {
      "text/plain": [
       "Text(0, 0.5, '')"
      ]
     },
     "execution_count": 46,
     "metadata": {},
     "output_type": "execute_result"
    },
    {
     "data": {
      "image/png": "[encoded data removed]",
      "text/plain": [
       "<Figure size 432x288 with 1 Axes>"
      ]
     },
     "metadata": {},
     "output_type": "display_data"
    }
   ],
   "source": [
    "users.pivot_table(index='subscription_type',values='user_id',aggfunc='count')['user_id'].\\\n",
    "plot(kind='pie',labels = ('Без подписки', 'С подпиской'),autopct='%1.1f%%')\n",
    "plt.title('Для пользователей с подпиской и без нее')\n",
    "plt.ylabel('')"
   ]
  },
  {
   "cell_type": "markdown",
   "id": "790704b9",
   "metadata": {},
   "source": [
    "<div class=\"alert alert-block alert-danger\">\n",
    "<h2> Комментарий ревьюера v1 <a class=\"tocSkip\"></h2>\n",
    "\n",
    "<b>На доработку🤔:</b>  Посчитаем доли пользоватлей с подпиской и без? Отразим результат на графике?)"
   ]
  },
  {
   "cell_type": "markdown",
   "id": "df93640c",
   "metadata": {},
   "source": [
    "<div class=\"alert alert-block alert-danger\">\n",
    "<h2> Комментарий ревьюера v2 <a class=\"tocSkip\"></h2>\n",
    "   \n",
    "<b>На доработку🤔:</b> Необходимо посчитать по данному количеству без разбивки на города) "
   ]
  },
  {
   "cell_type": "markdown",
   "id": "ee46acc0",
   "metadata": {},
   "source": [
    "<div class=\"alert alert-success\">\n",
    "<h2> Комментарий ревьюера v3 <a class=\"tocSkip\"> </h2>\n",
    "\n",
    "<b>Все супер!👍:</b> Вот теперь согласен) "
   ]
  },
  {
   "cell_type": "markdown",
   "id": "f46d2a42",
   "metadata": {},
   "source": [
    "<font color='blue'>Посчитаем долю пользователей с подпиской по городам. И отобразим результат."
   ]
  },
  {
   "cell_type": "code",
   "execution_count": 445,
   "id": "a9fb295d",
   "metadata": {},
   "outputs": [
    {
     "data": {
      "text/plain": [
       "Text(0.5, 1.0, 'Зависимость доли пользователей с подписой от города')"
      ]
     },
     "execution_count": 445,
     "metadata": {},
     "output_type": "execute_result"
    },
    {
     "data": {
      "image/png": "[encoded data removed]",
      "text/plain": [
       "<Figure size 432x288 with 1 Axes>"
      ]
     },
     "metadata": {
      "needs_background": "light"
     },
     "output_type": "display_data"
    }
   ],
   "source": [
    "(users.loc[users['subscription_type']==True].pivot_table(index='city',values='user_id',aggfunc='count')/\\\n",
    "users.pivot_table(index='city',values='user_id',aggfunc='count').sort_values(by='user_id'))\\\n",
    ".sort_values(by='user_id').plot.bar()\n",
    "plt.xlabel('Города')\n",
    "plt.ylabel('Доля пользователей с подпиской')\n",
    "plt.title('Зависимость доли пользователей с подписой от города')"
   ]
  },
  {
   "cell_type": "markdown",
   "id": "f2dc969b",
   "metadata": {},
   "source": [
    "Числа по городам довольно близкие."
   ]
  },
  {
   "cell_type": "markdown",
   "id": "ad339c14",
   "metadata": {},
   "source": [
    "<div class=\"alert alert-block alert-danger\">\n",
    "<h2> Комментарий ревьюера v1 <a class=\"tocSkip\"></h2>\n",
    "\n",
    "<b>На доработку🤔:</b>  Необходимо доработать оформление "
   ]
  },
  {
   "cell_type": "markdown",
   "id": "fcd84bbd",
   "metadata": {},
   "source": [
    "<div class=\"alert alert-info\">\n",
    "<b>Подписи и названия добавил. Оформление графиков это отдельный вид искуства. Если есть еще какие-то рекомендации по оформлению или какие-то красивые/удобные общепринятые фишки - пиши, буду применять)  </b> \n",
    "</div>"
   ]
  },
  {
   "cell_type": "markdown",
   "id": "2a1f5a08",
   "metadata": {},
   "source": [
    "<div class=\"alert alert-success\">\n",
    "<h2> Комментарий ревьюера v2 <a class=\"tocSkip\"> </h2>\n",
    "\n",
    "<b>Все супер!👍:</b> Отправил выше) Но в целом ты верно оформляешь! "
   ]
  },
  {
   "cell_type": "markdown",
   "id": "5c166410",
   "metadata": {},
   "source": [
    "##### Распределение пользователей по возрастам."
   ]
  },
  {
   "cell_type": "code",
   "execution_count": 446,
   "id": "f3c9020e",
   "metadata": {},
   "outputs": [
    {
     "data": {
      "text/plain": [
       "Text(0.5, 1.0, 'Распределение пользователей по возрастам')"
      ]
     },
     "execution_count": 446,
     "metadata": {},
     "output_type": "execute_result"
    },
    {
     "data": {
      "image/png": "[encoded data removed]",
      "text/plain": [
       "<Figure size 432x288 with 1 Axes>"
      ]
     },
     "metadata": {
      "needs_background": "light"
     },
     "output_type": "display_data"
    }
   ],
   "source": [
    "plt.xlabel('Возраст лет')\n",
    "plt.ylabel('Число пользователей') \n",
    "users['age'].hist(bins=30)\n",
    "plt.title('Распределение пользователей по возрастам')"
   ]
  },
  {
   "cell_type": "code",
   "execution_count": 447,
   "id": "410af9ca",
   "metadata": {},
   "outputs": [
    {
     "data": {
      "text/plain": [
       "count    1534.000000\n",
       "mean       24.903520\n",
       "std         4.572367\n",
       "min        12.000000\n",
       "25%        22.000000\n",
       "50%        25.000000\n",
       "75%        28.000000\n",
       "max        43.000000\n",
       "Name: age, dtype: float64"
      ]
     },
     "execution_count": 447,
     "metadata": {},
     "output_type": "execute_result"
    }
   ],
   "source": [
    "users['age'].describe()"
   ]
  },
  {
   "cell_type": "markdown",
   "id": "3a5fd197",
   "metadata": {},
   "source": [
    "Видимо пользоваться самокатом можно с 12 лет. Средний возраст пользователя 25 лет. Максимальный 43 года."
   ]
  },
  {
   "cell_type": "markdown",
   "id": "bfa62be9",
   "metadata": {},
   "source": [
    "##### Расстояние за одну поездку"
   ]
  },
  {
   "cell_type": "code",
   "execution_count": 448,
   "id": "f2cbaf4c",
   "metadata": {},
   "outputs": [
    {
     "data": {
      "text/plain": [
       "Text(0.5, 1.0, 'Распределение поездок по длине')"
      ]
     },
     "execution_count": 448,
     "metadata": {},
     "output_type": "execute_result"
    },
    {
     "data": {
      "image/png": "[encoded data removed]",
      "text/plain": [
       "<Figure size 432x288 with 1 Axes>"
      ]
     },
     "metadata": {
      "needs_background": "light"
     },
     "output_type": "display_data"
    }
   ],
   "source": [
    "plt.xlabel('Расстояние м.')\n",
    "plt.ylabel('Число поездок') \n",
    "rides['distance'].hist(bins=100)\n",
    "plt.title('Распределение поездок по длине')"
   ]
  },
  {
   "cell_type": "markdown",
   "id": "f6e5ff2b",
   "metadata": {},
   "source": [
    "Этот график уже строили выше для поиска аномалий. Тут видно что есть основной пик примерно на 3км, небольшой пик на 500м и слабовыраженый пик на 4км. "
   ]
  },
  {
   "cell_type": "markdown",
   "id": "58f859a3",
   "metadata": {},
   "source": [
    "##### Продолжительность поездки"
   ]
  },
  {
   "cell_type": "code",
   "execution_count": 449,
   "id": "f0aa5630",
   "metadata": {},
   "outputs": [
    {
     "data": {
      "text/plain": [
       "Text(0.5, 1.0, 'Распределение поездок по времени')"
      ]
     },
     "execution_count": 449,
     "metadata": {},
     "output_type": "execute_result"
    },
    {
     "data": {
      "image/png": "[encoded data removed]",
      "text/plain": [
       "<Figure size 432x288 with 1 Axes>"
      ]
     },
     "metadata": {
      "needs_background": "light"
     },
     "output_type": "display_data"
    }
   ],
   "source": [
    "plt.xlabel('Время мин.')\n",
    "plt.ylabel('Число поездок') \n",
    "rides['duration'].hist(bins=39)\n",
    "plt.title('Распределение поездок по времени')"
   ]
  },
  {
   "cell_type": "code",
   "execution_count": 450,
   "id": "e93f21e2",
   "metadata": {},
   "outputs": [
    {
     "data": {
      "text/plain": [
       "count    17973.000000\n",
       "mean        18.394981\n",
       "std          5.979419\n",
       "min          3.000000\n",
       "25%         14.000000\n",
       "50%         18.000000\n",
       "75%         22.000000\n",
       "max         41.000000\n",
       "Name: duration, dtype: float64"
      ]
     },
     "execution_count": 450,
     "metadata": {},
     "output_type": "execute_result"
    }
   ],
   "source": [
    "rides['duration'].describe()"
   ]
  },
  {
   "cell_type": "markdown",
   "id": "9810eb8b",
   "metadata": {},
   "source": [
    "Распределение времени поездки похоже на нормальное. "
   ]
  },
  {
   "cell_type": "markdown",
   "id": "2f83ef52",
   "metadata": {},
   "source": [
    "##### Вывод"
   ]
  },
  {
   "cell_type": "markdown",
   "id": "2b8a9c38",
   "metadata": {},
   "source": [
    "В этой главе мы построили и изучили\n",
    "- Распределение всех пользователей и пользователей с подпиской по городам. В каждом из 8 городов 170-200 пользователей и из них 40-50% с подпиской.\n",
    "- Распределение пользователей по возрастам, которое оказалось близким к нормальному со средним 25 лет.\n",
    "- Распределение расстояние пройденого за 1 поездку. Оказалось что есть 2 характерных типа поездки: длинная около 3км и короткая около 500м.\n",
    "- Распределение поездок по длительности, оно оказалось близким к нормальному со средним около 17мин. "
   ]
  },
  {
   "cell_type": "markdown",
   "id": "e5f48404",
   "metadata": {},
   "source": [
    "<div class=\"alert alert-success\">\n",
    "<h2> Комментарий ревьюера v1 <a class=\"tocSkip\"> </h2>\n",
    "\n",
    "<b>Все супер!👍:</b> Отличное исследование параметров! Молодец, что дополнительно рассматрвиаешь статистику) "
   ]
  },
  {
   "cell_type": "markdown",
   "id": "353d1c60",
   "metadata": {},
   "source": [
    "<div class=\"alert alert-block alert-danger\">\n",
    "<h2> Комментарий ревьюера v1 <a class=\"tocSkip\"></h2>\n",
    "\n",
    "<b>На доработку🤔:</b>  Необходимо доработать оформление всех графиков выше и ниже) "
   ]
  },
  {
   "cell_type": "markdown",
   "id": "6ded0803",
   "metadata": {},
   "source": [
    "<div class=\"alert alert-success\">\n",
    "<h2> Комментарий ревьюера v2 <a class=\"tocSkip\"> </h2>\n",
    "\n",
    "<b>Все супер!👍:</b> исправлено!"
   ]
  },
  {
   "cell_type": "markdown",
   "id": "4ef51331",
   "metadata": {},
   "source": [
    "#### Шаг 4. Объединение данных"
   ]
  },
  {
   "cell_type": "markdown",
   "id": "c4b9afd5",
   "metadata": {},
   "source": [
    "Прежде чем обьеденять таблицы проверим все ли пользователи из одной есть в другой."
   ]
  },
  {
   "cell_type": "code",
   "execution_count": 451,
   "id": "b030b014",
   "metadata": {},
   "outputs": [
    {
     "name": "stdout",
     "output_type": "stream",
     "text": [
      "True\n"
     ]
    }
   ],
   "source": [
    "print(rides['user_id'].unique().sort()==users['user_id'].unique().sort())"
   ]
  },
  {
   "cell_type": "code",
   "execution_count": 452,
   "id": "6bf288b5",
   "metadata": {
    "scrolled": true
   },
   "outputs": [
    {
     "data": {
      "text/html": [
       "<div>\n",
       "<style scoped>\n",
       "    .dataframe tbody tr th:only-of-type {\n",
       "        vertical-align: middle;\n",
       "    }\n",
       "\n",
       "    .dataframe tbody tr th {\n",
       "        vertical-align: top;\n",
       "    }\n",
       "\n",
       "    .dataframe thead th {\n",
       "        text-align: right;\n",
       "    }\n",
       "</style>\n",
       "<table border=\"1\" class=\"dataframe\">\n",
       "  <thead>\n",
       "    <tr style=\"text-align: right;\">\n",
       "      <th></th>\n",
       "      <th>user_id</th>\n",
       "      <th>distance</th>\n",
       "      <th>duration</th>\n",
       "      <th>date</th>\n",
       "      <th>month</th>\n",
       "      <th>name</th>\n",
       "      <th>age</th>\n",
       "      <th>city</th>\n",
       "      <th>subscription_type</th>\n",
       "    </tr>\n",
       "  </thead>\n",
       "  <tbody>\n",
       "    <tr>\n",
       "      <th>0</th>\n",
       "      <td>1</td>\n",
       "      <td>4410.0</td>\n",
       "      <td>26.0</td>\n",
       "      <td>2021-01-01</td>\n",
       "      <td>1</td>\n",
       "      <td>Кира</td>\n",
       "      <td>22</td>\n",
       "      <td>Тюмень</td>\n",
       "      <td>True</td>\n",
       "    </tr>\n",
       "    <tr>\n",
       "      <th>1</th>\n",
       "      <td>1</td>\n",
       "      <td>2618.0</td>\n",
       "      <td>16.0</td>\n",
       "      <td>2021-01-18</td>\n",
       "      <td>1</td>\n",
       "      <td>Кира</td>\n",
       "      <td>22</td>\n",
       "      <td>Тюмень</td>\n",
       "      <td>True</td>\n",
       "    </tr>\n",
       "    <tr>\n",
       "      <th>2</th>\n",
       "      <td>1</td>\n",
       "      <td>755.0</td>\n",
       "      <td>7.0</td>\n",
       "      <td>2021-04-20</td>\n",
       "      <td>4</td>\n",
       "      <td>Кира</td>\n",
       "      <td>22</td>\n",
       "      <td>Тюмень</td>\n",
       "      <td>True</td>\n",
       "    </tr>\n",
       "    <tr>\n",
       "      <th>3</th>\n",
       "      <td>1</td>\n",
       "      <td>2695.0</td>\n",
       "      <td>19.0</td>\n",
       "      <td>2021-08-11</td>\n",
       "      <td>8</td>\n",
       "      <td>Кира</td>\n",
       "      <td>22</td>\n",
       "      <td>Тюмень</td>\n",
       "      <td>True</td>\n",
       "    </tr>\n",
       "    <tr>\n",
       "      <th>4</th>\n",
       "      <td>1</td>\n",
       "      <td>4029.0</td>\n",
       "      <td>27.0</td>\n",
       "      <td>2021-08-28</td>\n",
       "      <td>8</td>\n",
       "      <td>Кира</td>\n",
       "      <td>22</td>\n",
       "      <td>Тюмень</td>\n",
       "      <td>True</td>\n",
       "    </tr>\n",
       "  </tbody>\n",
       "</table>\n",
       "</div>"
      ],
      "text/plain": [
       "   user_id  distance  duration       date  month  name  age    city  \\\n",
       "0        1    4410.0      26.0 2021-01-01      1  Кира   22  Тюмень   \n",
       "1        1    2618.0      16.0 2021-01-18      1  Кира   22  Тюмень   \n",
       "2        1     755.0       7.0 2021-04-20      4  Кира   22  Тюмень   \n",
       "3        1    2695.0      19.0 2021-08-11      8  Кира   22  Тюмень   \n",
       "4        1    4029.0      27.0 2021-08-28      8  Кира   22  Тюмень   \n",
       "\n",
       "   subscription_type  \n",
       "0               True  \n",
       "1               True  \n",
       "2               True  \n",
       "3               True  \n",
       "4               True  "
      ]
     },
     "execution_count": 452,
     "metadata": {},
     "output_type": "execute_result"
    }
   ],
   "source": [
    "data = rides.merge(users)\n",
    "data.head()"
   ]
  },
  {
   "cell_type": "markdown",
   "id": "7947a1e7",
   "metadata": {},
   "source": [
    "Посмотрим на следние значения длительности и расстоянии поездки по городам"
   ]
  },
  {
   "cell_type": "code",
   "execution_count": 453,
   "id": "fac7cb21",
   "metadata": {
    "scrolled": true
   },
   "outputs": [
    {
     "data": {
      "text/html": [
       "<div>\n",
       "<style scoped>\n",
       "    .dataframe tbody tr th:only-of-type {\n",
       "        vertical-align: middle;\n",
       "    }\n",
       "\n",
       "    .dataframe tbody tr th {\n",
       "        vertical-align: top;\n",
       "    }\n",
       "\n",
       "    .dataframe thead tr th {\n",
       "        text-align: left;\n",
       "    }\n",
       "\n",
       "    .dataframe thead tr:last-of-type th {\n",
       "        text-align: right;\n",
       "    }\n",
       "</style>\n",
       "<table border=\"1\" class=\"dataframe\">\n",
       "  <thead>\n",
       "    <tr>\n",
       "      <th></th>\n",
       "      <th colspan=\"2\" halign=\"left\">mean</th>\n",
       "      <th colspan=\"2\" halign=\"left\">count</th>\n",
       "    </tr>\n",
       "    <tr>\n",
       "      <th></th>\n",
       "      <th>distance</th>\n",
       "      <th>duration</th>\n",
       "      <th>distance</th>\n",
       "      <th>duration</th>\n",
       "    </tr>\n",
       "    <tr>\n",
       "      <th>city</th>\n",
       "      <th></th>\n",
       "      <th></th>\n",
       "      <th></th>\n",
       "      <th></th>\n",
       "    </tr>\n",
       "  </thead>\n",
       "  <tbody>\n",
       "    <tr>\n",
       "      <th>Екатеринбург</th>\n",
       "      <td>3104.208809</td>\n",
       "      <td>18.384584</td>\n",
       "      <td>2452</td>\n",
       "      <td>2452</td>\n",
       "    </tr>\n",
       "    <tr>\n",
       "      <th>Краснодар</th>\n",
       "      <td>3046.450458</td>\n",
       "      <td>18.303797</td>\n",
       "      <td>2291</td>\n",
       "      <td>2291</td>\n",
       "    </tr>\n",
       "    <tr>\n",
       "      <th>Москва</th>\n",
       "      <td>3085.515314</td>\n",
       "      <td>18.653949</td>\n",
       "      <td>1861</td>\n",
       "      <td>1861</td>\n",
       "    </tr>\n",
       "    <tr>\n",
       "      <th>Омск</th>\n",
       "      <td>3028.723136</td>\n",
       "      <td>18.320910</td>\n",
       "      <td>2066</td>\n",
       "      <td>2066</td>\n",
       "    </tr>\n",
       "    <tr>\n",
       "      <th>Пятигорск</th>\n",
       "      <td>3107.307845</td>\n",
       "      <td>18.482278</td>\n",
       "      <td>2511</td>\n",
       "      <td>2511</td>\n",
       "    </tr>\n",
       "    <tr>\n",
       "      <th>Ростов-на-Дону</th>\n",
       "      <td>2998.921085</td>\n",
       "      <td>18.221537</td>\n",
       "      <td>2433</td>\n",
       "      <td>2433</td>\n",
       "    </tr>\n",
       "    <tr>\n",
       "      <th>Сочи</th>\n",
       "      <td>3042.392349</td>\n",
       "      <td>18.298488</td>\n",
       "      <td>2248</td>\n",
       "      <td>2248</td>\n",
       "    </tr>\n",
       "    <tr>\n",
       "      <th>Тюмень</th>\n",
       "      <td>3067.440550</td>\n",
       "      <td>18.549029</td>\n",
       "      <td>2111</td>\n",
       "      <td>2111</td>\n",
       "    </tr>\n",
       "  </tbody>\n",
       "</table>\n",
       "</div>"
      ],
      "text/plain": [
       "                       mean               count         \n",
       "                   distance   duration distance duration\n",
       "city                                                    \n",
       "Екатеринбург    3104.208809  18.384584     2452     2452\n",
       "Краснодар       3046.450458  18.303797     2291     2291\n",
       "Москва          3085.515314  18.653949     1861     1861\n",
       "Омск            3028.723136  18.320910     2066     2066\n",
       "Пятигорск       3107.307845  18.482278     2511     2511\n",
       "Ростов-на-Дону  2998.921085  18.221537     2433     2433\n",
       "Сочи            3042.392349  18.298488     2248     2248\n",
       "Тюмень          3067.440550  18.549029     2111     2111"
      ]
     },
     "execution_count": 453,
     "metadata": {},
     "output_type": "execute_result"
    }
   ],
   "source": [
    "data.pivot_table(index='city',values=['duration','distance'],aggfunc=['mean','count'])"
   ]
  },
  {
   "cell_type": "markdown",
   "id": "855939eb",
   "metadata": {},
   "source": [
    "Проверим успешность обьединения посчитав элементы."
   ]
  },
  {
   "cell_type": "code",
   "execution_count": 454,
   "id": "3358f3ed",
   "metadata": {},
   "outputs": [
    {
     "data": {
      "text/plain": [
       "True"
      ]
     },
     "execution_count": 454,
     "metadata": {},
     "output_type": "execute_result"
    }
   ],
   "source": [
    "data.shape[0] == rides.shape[0]"
   ]
  },
  {
   "cell_type": "code",
   "execution_count": 455,
   "id": "7b146578",
   "metadata": {},
   "outputs": [
    {
     "data": {
      "text/plain": [
       "True"
      ]
     },
     "execution_count": 455,
     "metadata": {},
     "output_type": "execute_result"
    }
   ],
   "source": [
    "len(data['user_id'].unique()) == users.shape[0]"
   ]
  },
  {
   "cell_type": "markdown",
   "id": "2563fe15",
   "metadata": {},
   "source": [
    "<div class=\"alert alert-info\">\n",
    "<b>Вроде бы достаточная проверка. Если нет , то подскажи как лучше это сделать.</b> \n",
    "</div>"
   ]
  },
  {
   "cell_type": "markdown",
   "id": "f04ee8e5",
   "metadata": {},
   "source": [
    "<div class=\"alert alert-block alert-danger\">\n",
    "<h2> Комментарий ревьюера v1 <a class=\"tocSkip\"></h2>\n",
    "\n",
    "<b>На доработку🤔:</b>  А как бы нам проверить успешность объединения? "
   ]
  },
  {
   "cell_type": "markdown",
   "id": "5c20556e",
   "metadata": {},
   "source": [
    "<div class=\"alert alert-success\">\n",
    "<h2> Комментарий ревьюера v2 <a class=\"tocSkip\"> </h2>\n",
    "\n",
    "<b>Все супер!👍:</b> Окей) "
   ]
  },
  {
   "cell_type": "markdown",
   "id": "d9c80e82",
   "metadata": {},
   "source": [
    "Данные по городам близки по этому не будем разделять выборку по этому признаку. \n",
    "Разделим ее по наличию подписки. <font color='blue'> И выведем первые 5 строчек полученных датафреймов для проверки"
   ]
  },
  {
   "cell_type": "code",
   "execution_count": 456,
   "id": "040a3d6c",
   "metadata": {
    "scrolled": true
   },
   "outputs": [
    {
     "data": {
      "text/html": [
       "<div>\n",
       "<style scoped>\n",
       "    .dataframe tbody tr th:only-of-type {\n",
       "        vertical-align: middle;\n",
       "    }\n",
       "\n",
       "    .dataframe tbody tr th {\n",
       "        vertical-align: top;\n",
       "    }\n",
       "\n",
       "    .dataframe thead th {\n",
       "        text-align: right;\n",
       "    }\n",
       "</style>\n",
       "<table border=\"1\" class=\"dataframe\">\n",
       "  <thead>\n",
       "    <tr style=\"text-align: right;\">\n",
       "      <th></th>\n",
       "      <th>user_id</th>\n",
       "      <th>distance</th>\n",
       "      <th>duration</th>\n",
       "      <th>date</th>\n",
       "      <th>month</th>\n",
       "      <th>name</th>\n",
       "      <th>age</th>\n",
       "      <th>city</th>\n",
       "      <th>subscription_type</th>\n",
       "    </tr>\n",
       "  </thead>\n",
       "  <tbody>\n",
       "    <tr>\n",
       "      <th>0</th>\n",
       "      <td>1</td>\n",
       "      <td>4410.0</td>\n",
       "      <td>26.0</td>\n",
       "      <td>2021-01-01</td>\n",
       "      <td>1</td>\n",
       "      <td>Кира</td>\n",
       "      <td>22</td>\n",
       "      <td>Тюмень</td>\n",
       "      <td>True</td>\n",
       "    </tr>\n",
       "    <tr>\n",
       "      <th>1</th>\n",
       "      <td>1</td>\n",
       "      <td>2618.0</td>\n",
       "      <td>16.0</td>\n",
       "      <td>2021-01-18</td>\n",
       "      <td>1</td>\n",
       "      <td>Кира</td>\n",
       "      <td>22</td>\n",
       "      <td>Тюмень</td>\n",
       "      <td>True</td>\n",
       "    </tr>\n",
       "    <tr>\n",
       "      <th>2</th>\n",
       "      <td>1</td>\n",
       "      <td>755.0</td>\n",
       "      <td>7.0</td>\n",
       "      <td>2021-04-20</td>\n",
       "      <td>4</td>\n",
       "      <td>Кира</td>\n",
       "      <td>22</td>\n",
       "      <td>Тюмень</td>\n",
       "      <td>True</td>\n",
       "    </tr>\n",
       "    <tr>\n",
       "      <th>3</th>\n",
       "      <td>1</td>\n",
       "      <td>2695.0</td>\n",
       "      <td>19.0</td>\n",
       "      <td>2021-08-11</td>\n",
       "      <td>8</td>\n",
       "      <td>Кира</td>\n",
       "      <td>22</td>\n",
       "      <td>Тюмень</td>\n",
       "      <td>True</td>\n",
       "    </tr>\n",
       "    <tr>\n",
       "      <th>4</th>\n",
       "      <td>1</td>\n",
       "      <td>4029.0</td>\n",
       "      <td>27.0</td>\n",
       "      <td>2021-08-28</td>\n",
       "      <td>8</td>\n",
       "      <td>Кира</td>\n",
       "      <td>22</td>\n",
       "      <td>Тюмень</td>\n",
       "      <td>True</td>\n",
       "    </tr>\n",
       "  </tbody>\n",
       "</table>\n",
       "</div>"
      ],
      "text/plain": [
       "   user_id  distance  duration       date  month  name  age    city  \\\n",
       "0        1    4410.0      26.0 2021-01-01      1  Кира   22  Тюмень   \n",
       "1        1    2618.0      16.0 2021-01-18      1  Кира   22  Тюмень   \n",
       "2        1     755.0       7.0 2021-04-20      4  Кира   22  Тюмень   \n",
       "3        1    2695.0      19.0 2021-08-11      8  Кира   22  Тюмень   \n",
       "4        1    4029.0      27.0 2021-08-28      8  Кира   22  Тюмень   \n",
       "\n",
       "   subscription_type  \n",
       "0               True  \n",
       "1               True  \n",
       "2               True  \n",
       "3               True  \n",
       "4               True  "
      ]
     },
     "execution_count": 456,
     "metadata": {},
     "output_type": "execute_result"
    }
   ],
   "source": [
    "data_1 = data.loc[data['subscription_type']==True]\n",
    "data_1.head()"
   ]
  },
  {
   "cell_type": "code",
   "execution_count": 457,
   "id": "fe5bbaa5",
   "metadata": {},
   "outputs": [
    {
     "data": {
      "text/html": [
       "<div>\n",
       "<style scoped>\n",
       "    .dataframe tbody tr th:only-of-type {\n",
       "        vertical-align: middle;\n",
       "    }\n",
       "\n",
       "    .dataframe tbody tr th {\n",
       "        vertical-align: top;\n",
       "    }\n",
       "\n",
       "    .dataframe thead th {\n",
       "        text-align: right;\n",
       "    }\n",
       "</style>\n",
       "<table border=\"1\" class=\"dataframe\">\n",
       "  <thead>\n",
       "    <tr style=\"text-align: right;\">\n",
       "      <th></th>\n",
       "      <th>user_id</th>\n",
       "      <th>distance</th>\n",
       "      <th>duration</th>\n",
       "      <th>date</th>\n",
       "      <th>month</th>\n",
       "      <th>name</th>\n",
       "      <th>age</th>\n",
       "      <th>city</th>\n",
       "      <th>subscription_type</th>\n",
       "    </tr>\n",
       "  </thead>\n",
       "  <tbody>\n",
       "    <tr>\n",
       "      <th>6500</th>\n",
       "      <td>700</td>\n",
       "      <td>2516.0</td>\n",
       "      <td>15.0</td>\n",
       "      <td>2021-01-02</td>\n",
       "      <td>1</td>\n",
       "      <td>Айдар</td>\n",
       "      <td>22</td>\n",
       "      <td>Омск</td>\n",
       "      <td>False</td>\n",
       "    </tr>\n",
       "    <tr>\n",
       "      <th>6501</th>\n",
       "      <td>700</td>\n",
       "      <td>847.0</td>\n",
       "      <td>17.0</td>\n",
       "      <td>2021-02-01</td>\n",
       "      <td>2</td>\n",
       "      <td>Айдар</td>\n",
       "      <td>22</td>\n",
       "      <td>Омск</td>\n",
       "      <td>False</td>\n",
       "    </tr>\n",
       "    <tr>\n",
       "      <th>6502</th>\n",
       "      <td>700</td>\n",
       "      <td>4005.0</td>\n",
       "      <td>21.0</td>\n",
       "      <td>2021-02-04</td>\n",
       "      <td>2</td>\n",
       "      <td>Айдар</td>\n",
       "      <td>22</td>\n",
       "      <td>Омск</td>\n",
       "      <td>False</td>\n",
       "    </tr>\n",
       "    <tr>\n",
       "      <th>6503</th>\n",
       "      <td>700</td>\n",
       "      <td>1206.0</td>\n",
       "      <td>10.0</td>\n",
       "      <td>2021-02-10</td>\n",
       "      <td>2</td>\n",
       "      <td>Айдар</td>\n",
       "      <td>22</td>\n",
       "      <td>Омск</td>\n",
       "      <td>False</td>\n",
       "    </tr>\n",
       "    <tr>\n",
       "      <th>6504</th>\n",
       "      <td>700</td>\n",
       "      <td>3048.0</td>\n",
       "      <td>18.0</td>\n",
       "      <td>2021-02-14</td>\n",
       "      <td>2</td>\n",
       "      <td>Айдар</td>\n",
       "      <td>22</td>\n",
       "      <td>Омск</td>\n",
       "      <td>False</td>\n",
       "    </tr>\n",
       "  </tbody>\n",
       "</table>\n",
       "</div>"
      ],
      "text/plain": [
       "      user_id  distance  duration       date  month   name  age  city  \\\n",
       "6500      700    2516.0      15.0 2021-01-02      1  Айдар   22  Омск   \n",
       "6501      700     847.0      17.0 2021-02-01      2  Айдар   22  Омск   \n",
       "6502      700    4005.0      21.0 2021-02-04      2  Айдар   22  Омск   \n",
       "6503      700    1206.0      10.0 2021-02-10      2  Айдар   22  Омск   \n",
       "6504      700    3048.0      18.0 2021-02-14      2  Айдар   22  Омск   \n",
       "\n",
       "      subscription_type  \n",
       "6500              False  \n",
       "6501              False  \n",
       "6502              False  \n",
       "6503              False  \n",
       "6504              False  "
      ]
     },
     "execution_count": 457,
     "metadata": {},
     "output_type": "execute_result"
    }
   ],
   "source": [
    "data_0 = data.loc[data['subscription_type']==False]\n",
    "data_0.head()"
   ]
  },
  {
   "cell_type": "markdown",
   "id": "662a69fc",
   "metadata": {},
   "source": [
    "<div class=\"alert alert-block alert-danger\">\n",
    "<h2> Комментарий ревьюера v1 <a class=\"tocSkip\"></h2>\n",
    "\n",
    "<b>На доработку🤔:</b>  А выведем также data_0?\n",
    "    "
   ]
  },
  {
   "cell_type": "markdown",
   "id": "c3be563a",
   "metadata": {},
   "source": [
    "<div class=\"alert alert-success\">\n",
    "<h2> Комментарий ревьюера v2 <a class=\"tocSkip\"> </h2>\n",
    "\n",
    "<b>Все супер!👍:</b> +++"
   ]
  },
  {
   "cell_type": "markdown",
   "id": "f8266528",
   "metadata": {},
   "source": [
    "##### Расстояние поездки"
   ]
  },
  {
   "cell_type": "markdown",
   "id": "b3206a61",
   "metadata": {},
   "source": [
    "Построим гистограмму расстояния поездки для пользователей с подпиской."
   ]
  },
  {
   "cell_type": "code",
   "execution_count": 458,
   "id": "6152765d",
   "metadata": {},
   "outputs": [
    {
     "data": {
      "text/plain": [
       "Text(0.5, 1.0, 'Распределение поездок по длине для пользователей с подпиской')"
      ]
     },
     "execution_count": 458,
     "metadata": {},
     "output_type": "execute_result"
    },
    {
     "data": {
      "image/png": "[encoded data removed]",
      "text/plain": [
       "<Figure size 432x288 with 1 Axes>"
      ]
     },
     "metadata": {
      "needs_background": "light"
     },
     "output_type": "display_data"
    }
   ],
   "source": [
    "plt.xlabel('Расстояние м.')\n",
    "plt.ylabel('Число поездок шт.')\n",
    "data_1['distance'].hist(bins=60)\n",
    "plt.title('Распределение поездок по длине для пользователей с подпиской')"
   ]
  },
  {
   "cell_type": "code",
   "execution_count": 459,
   "id": "a2c317b7",
   "metadata": {},
   "outputs": [
    {
     "data": {
      "text/plain": [
       "count    6500.000000\n",
       "mean     3115.949231\n",
       "std       836.894838\n",
       "min       245.000000\n",
       "25%      2786.000000\n",
       "50%      3149.000000\n",
       "75%      3561.000000\n",
       "max      5700.000000\n",
       "Name: distance, dtype: float64"
      ]
     },
     "execution_count": 459,
     "metadata": {},
     "output_type": "execute_result"
    }
   ],
   "source": [
    "data_1['distance'].describe()"
   ]
  },
  {
   "cell_type": "markdown",
   "id": "1f74e985",
   "metadata": {},
   "source": [
    "Тоже для пользователей без подписки."
   ]
  },
  {
   "cell_type": "code",
   "execution_count": 460,
   "id": "a4ee2a59",
   "metadata": {},
   "outputs": [
    {
     "data": {
      "text/plain": [
       "Text(0.5, 1.0, 'Распределение поездок по длине для пользователей без подписки')"
      ]
     },
     "execution_count": 460,
     "metadata": {},
     "output_type": "execute_result"
    },
    {
     "data": {
      "image/png": "[encoded data removed]",
      "text/plain": [
       "<Figure size 432x288 with 1 Axes>"
      ]
     },
     "metadata": {
      "needs_background": "light"
     },
     "output_type": "display_data"
    }
   ],
   "source": [
    "plt.xlabel('Расстояние м.')\n",
    "plt.ylabel('Число поездок шт.')\n",
    "data_0['distance'].hist(bins=60)\n",
    "plt.title('Распределение поездок по длине для пользователей без подписки')"
   ]
  },
  {
   "cell_type": "code",
   "execution_count": 461,
   "id": "98b71737",
   "metadata": {},
   "outputs": [
    {
     "data": {
      "text/plain": [
       "count    11473.000000\n",
       "mean      3028.871612\n",
       "std       1235.541036\n",
       "min          1.000000\n",
       "25%       2361.000000\n",
       "50%       3103.000000\n",
       "75%       3884.000000\n",
       "max       7067.000000\n",
       "Name: distance, dtype: float64"
      ]
     },
     "execution_count": 461,
     "metadata": {},
     "output_type": "execute_result"
    }
   ],
   "source": [
    "data_0['distance'].describe()"
   ]
  },
  {
   "cell_type": "markdown",
   "id": "6aca409c",
   "metadata": {},
   "source": [
    "<font color='blue'> И тоже на одном графике."
   ]
  },
  {
   "cell_type": "code",
   "execution_count": 462,
   "id": "06193890",
   "metadata": {},
   "outputs": [
    {
     "data": {
      "text/plain": [
       "Text(0.5, 1.0, 'Распределение поездок по длине для пользователей с подпиской и без нее')"
      ]
     },
     "execution_count": 462,
     "metadata": {},
     "output_type": "execute_result"
    },
    {
     "data": {
      "image/png": "[encoded data removed]",
      "text/plain": [
       "<Figure size 432x288 with 1 Axes>"
      ]
     },
     "metadata": {
      "needs_background": "light"
     },
     "output_type": "display_data"
    }
   ],
   "source": [
    "plt.xlabel('Расстояние м.')\n",
    "plt.ylabel('Число поездок шт.')\n",
    "data_0['distance'].hist(bins=60, label='Без подписки',alpha=0.75)\n",
    "data_1['distance'].hist(bins=60, label='С подпиской подпиской',alpha=0.75)\n",
    "plt.legend()\n",
    "plt.title('Распределение поездок по длине для пользователей с подпиской и без нее')"
   ]
  },
  {
   "cell_type": "markdown",
   "id": "c999b986",
   "metadata": {},
   "source": [
    "Итересно , что у пользователей с подпиской почти нет поездок с расстоянием около 0. Зато есть явный доплнительный пик на 4км.\n",
    "средняя длина \"длинных\" поездок и там и там одинакова. \"Короткие\" в среднем 1км для пользователей с подпиской и 500м без нее. Откуда берутся \"короткие\" поездки по прежнему непонятно"
   ]
  },
  {
   "cell_type": "markdown",
   "id": "24e372cb",
   "metadata": {},
   "source": [
    "##### Длительность поездки"
   ]
  },
  {
   "cell_type": "markdown",
   "id": "b81fea3c",
   "metadata": {},
   "source": [
    "Распределение времени поездки для пользователей с подпиской"
   ]
  },
  {
   "cell_type": "code",
   "execution_count": 463,
   "id": "adf29eb2",
   "metadata": {},
   "outputs": [
    {
     "data": {
      "text/plain": [
       "Text(0.5, 1.0, 'Распределение поездок по времени для пользователей с подпиской')"
      ]
     },
     "execution_count": 463,
     "metadata": {},
     "output_type": "execute_result"
    },
    {
     "data": {
      "image/png": "[encoded data removed]",
      "text/plain": [
       "<Figure size 432x288 with 1 Axes>"
      ]
     },
     "metadata": {
      "needs_background": "light"
     },
     "output_type": "display_data"
    }
   ],
   "source": [
    "plt.xlabel('Время мин.')\n",
    "plt.ylabel('Число поездок шт.')\n",
    "data_1['duration'].hist(bins=38)\n",
    "plt.title('Распределение поездок по времени для пользователей с подпиской')"
   ]
  },
  {
   "cell_type": "code",
   "execution_count": 464,
   "id": "8c8902f1",
   "metadata": {},
   "outputs": [
    {
     "data": {
      "text/plain": [
       "count    6500.000000\n",
       "mean       19.037692\n",
       "std         5.577439\n",
       "min         4.000000\n",
       "25%        15.000000\n",
       "50%        19.000000\n",
       "75%        22.000000\n",
       "max        41.000000\n",
       "Name: duration, dtype: float64"
      ]
     },
     "execution_count": 464,
     "metadata": {},
     "output_type": "execute_result"
    }
   ],
   "source": [
    "data_1['duration'].describe()"
   ]
  },
  {
   "cell_type": "markdown",
   "id": "6b15ddbf",
   "metadata": {},
   "source": [
    "Распределение времени поездки для пользователей без подписки"
   ]
  },
  {
   "cell_type": "code",
   "execution_count": 465,
   "id": "e7f8d6f0",
   "metadata": {},
   "outputs": [
    {
     "data": {
      "text/plain": [
       "Text(0.5, 1.0, 'Распределение поездок по длине для пользователей без подписки')"
      ]
     },
     "execution_count": 465,
     "metadata": {},
     "output_type": "execute_result"
    },
    {
     "data": {
      "image/png": "[encoded data removed]",
      "text/plain": [
       "<Figure size 432x288 with 1 Axes>"
      ]
     },
     "metadata": {
      "needs_background": "light"
     },
     "output_type": "display_data"
    }
   ],
   "source": [
    "plt.xlabel('Время мин.')\n",
    "plt.ylabel('Число поездок шт.')\n",
    "data_0['duration'].hist(bins=33)\n",
    "plt.title('Распределение поездок по длине для пользователей без подписки')"
   ]
  },
  {
   "cell_type": "code",
   "execution_count": 466,
   "id": "c9cadad8",
   "metadata": {},
   "outputs": [
    {
     "data": {
      "text/plain": [
       "count    11473.000000\n",
       "mean        18.030855\n",
       "std          6.166175\n",
       "min          3.000000\n",
       "25%         14.000000\n",
       "50%         18.000000\n",
       "75%         22.000000\n",
       "max         35.000000\n",
       "Name: duration, dtype: float64"
      ]
     },
     "execution_count": 466,
     "metadata": {},
     "output_type": "execute_result"
    }
   ],
   "source": [
    "data_0['duration'].describe()"
   ]
  },
  {
   "cell_type": "markdown",
   "id": "7eb74872",
   "metadata": {},
   "source": [
    "<font color='blue'> И оба распределения на одном графике."
   ]
  },
  {
   "cell_type": "code",
   "execution_count": 467,
   "id": "b44edcc8",
   "metadata": {},
   "outputs": [
    {
     "data": {
      "text/plain": [
       "Text(0.5, 1.0, 'Распределение поездок по длине для пользователей с подпиской и без нее')"
      ]
     },
     "execution_count": 467,
     "metadata": {},
     "output_type": "execute_result"
    },
    {
     "data": {
      "image/png": "[encoded data removed]",
      "text/plain": [
       "<Figure size 432x288 with 1 Axes>"
      ]
     },
     "metadata": {
      "needs_background": "light"
     },
     "output_type": "display_data"
    }
   ],
   "source": [
    "plt.xlabel('Время мин.')\n",
    "plt.ylabel('Число поездок шт.')\n",
    "data_0['duration'].hist(bins=33, label='Без подписки',alpha=0.75)\n",
    "data_1['duration'].hist(bins=38, label='С подпиской подпиской',alpha=0.75)\n",
    "plt.legend()\n",
    "plt.title('Распределение поездок по длине для пользователей с подпиской и без нее')"
   ]
  },
  {
   "cell_type": "markdown",
   "id": "d4a8a5a0",
   "metadata": {},
   "source": [
    "По среднему времени особой разницы между пользователями не видно."
   ]
  },
  {
   "cell_type": "markdown",
   "id": "4c7c30d7",
   "metadata": {},
   "source": [
    "##### Вывод"
   ]
  },
  {
   "cell_type": "markdown",
   "id": "468826b0",
   "metadata": {},
   "source": [
    "В этой главе мы объединили данные из таблицы с поездками и таблицы с пользователями. Пользуясь этим выяснили , что поведение пользователей в резных городах похожее и что есть различие в распределении дальности поездки в зависимости от наличия подписки."
   ]
  },
  {
   "cell_type": "markdown",
   "id": "3867225e",
   "metadata": {},
   "source": [
    "<div class=\"alert alert-warning\">\n",
    "    <h2> Комментарий ревьюера v1 <a class=\"tocSkip\"> </h2>\n",
    "    \n",
    "<b>Небольшие замечания и рекомендации💡:</b> Отлично! Но для наглядного сравнения советую совместить распределения) "
   ]
  },
  {
   "cell_type": "markdown",
   "id": "402d620f",
   "metadata": {},
   "source": [
    "#### Шаг 5. Подсчёт выручки"
   ]
  },
  {
   "cell_type": "markdown",
   "id": "5d7e9bdd",
   "metadata": {},
   "source": [
    "Посчитаем ежемесячную выручку с каждого пользователя. для этого с группируем данные по пользователям и месяцам и для каждой группы посчитаем суммарное время поездки , суммарную длительность и количество поездок.\n",
    "Для посчета выручки используем формулы \n",
    "- длительность$*6+199$ для пользователей с подпиской \n",
    "- длительность\\*8+число поездок\\*50 для пользователей без подписки. "
   ]
  },
  {
   "cell_type": "code",
   "execution_count": 468,
   "id": "53049e0a",
   "metadata": {},
   "outputs": [
    {
     "data": {
      "text/html": [
       "<div>\n",
       "<style scoped>\n",
       "    .dataframe tbody tr th:only-of-type {\n",
       "        vertical-align: middle;\n",
       "    }\n",
       "\n",
       "    .dataframe tbody tr th {\n",
       "        vertical-align: top;\n",
       "    }\n",
       "\n",
       "    .dataframe thead th {\n",
       "        text-align: right;\n",
       "    }\n",
       "</style>\n",
       "<table border=\"1\" class=\"dataframe\">\n",
       "  <thead>\n",
       "    <tr style=\"text-align: right;\">\n",
       "      <th></th>\n",
       "      <th>user_id</th>\n",
       "      <th>month</th>\n",
       "      <th>distance</th>\n",
       "      <th>duration</th>\n",
       "      <th>count</th>\n",
       "      <th>subscription_type</th>\n",
       "      <th>income</th>\n",
       "    </tr>\n",
       "  </thead>\n",
       "  <tbody>\n",
       "    <tr>\n",
       "      <th>0</th>\n",
       "      <td>1</td>\n",
       "      <td>1</td>\n",
       "      <td>7028.0</td>\n",
       "      <td>42.0</td>\n",
       "      <td>2</td>\n",
       "      <td>True</td>\n",
       "      <td>451.0</td>\n",
       "    </tr>\n",
       "    <tr>\n",
       "      <th>1</th>\n",
       "      <td>1</td>\n",
       "      <td>4</td>\n",
       "      <td>755.0</td>\n",
       "      <td>7.0</td>\n",
       "      <td>1</td>\n",
       "      <td>True</td>\n",
       "      <td>241.0</td>\n",
       "    </tr>\n",
       "    <tr>\n",
       "      <th>2</th>\n",
       "      <td>1</td>\n",
       "      <td>8</td>\n",
       "      <td>6724.0</td>\n",
       "      <td>46.0</td>\n",
       "      <td>2</td>\n",
       "      <td>True</td>\n",
       "      <td>475.0</td>\n",
       "    </tr>\n",
       "    <tr>\n",
       "      <th>3</th>\n",
       "      <td>1</td>\n",
       "      <td>10</td>\n",
       "      <td>5811.0</td>\n",
       "      <td>32.0</td>\n",
       "      <td>2</td>\n",
       "      <td>True</td>\n",
       "      <td>391.0</td>\n",
       "    </tr>\n",
       "    <tr>\n",
       "      <th>4</th>\n",
       "      <td>1</td>\n",
       "      <td>11</td>\n",
       "      <td>7005.0</td>\n",
       "      <td>56.0</td>\n",
       "      <td>3</td>\n",
       "      <td>True</td>\n",
       "      <td>535.0</td>\n",
       "    </tr>\n",
       "    <tr>\n",
       "      <th>...</th>\n",
       "      <td>...</td>\n",
       "      <td>...</td>\n",
       "      <td>...</td>\n",
       "      <td>...</td>\n",
       "      <td>...</td>\n",
       "      <td>...</td>\n",
       "      <td>...</td>\n",
       "    </tr>\n",
       "    <tr>\n",
       "      <th>11295</th>\n",
       "      <td>1534</td>\n",
       "      <td>6</td>\n",
       "      <td>3411.0</td>\n",
       "      <td>26.0</td>\n",
       "      <td>2</td>\n",
       "      <td>False</td>\n",
       "      <td>308.0</td>\n",
       "    </tr>\n",
       "    <tr>\n",
       "      <th>11296</th>\n",
       "      <td>1534</td>\n",
       "      <td>8</td>\n",
       "      <td>7623.0</td>\n",
       "      <td>48.0</td>\n",
       "      <td>2</td>\n",
       "      <td>False</td>\n",
       "      <td>484.0</td>\n",
       "    </tr>\n",
       "    <tr>\n",
       "      <th>11297</th>\n",
       "      <td>1534</td>\n",
       "      <td>9</td>\n",
       "      <td>4929.0</td>\n",
       "      <td>23.0</td>\n",
       "      <td>1</td>\n",
       "      <td>False</td>\n",
       "      <td>234.0</td>\n",
       "    </tr>\n",
       "    <tr>\n",
       "      <th>11298</th>\n",
       "      <td>1534</td>\n",
       "      <td>11</td>\n",
       "      <td>13353.0</td>\n",
       "      <td>78.0</td>\n",
       "      <td>4</td>\n",
       "      <td>False</td>\n",
       "      <td>824.0</td>\n",
       "    </tr>\n",
       "    <tr>\n",
       "      <th>11299</th>\n",
       "      <td>1534</td>\n",
       "      <td>12</td>\n",
       "      <td>2372.0</td>\n",
       "      <td>16.0</td>\n",
       "      <td>1</td>\n",
       "      <td>False</td>\n",
       "      <td>178.0</td>\n",
       "    </tr>\n",
       "  </tbody>\n",
       "</table>\n",
       "<p>11300 rows × 7 columns</p>\n",
       "</div>"
      ],
      "text/plain": [
       "       user_id  month  distance  duration  count  subscription_type  income\n",
       "0            1      1    7028.0      42.0      2               True   451.0\n",
       "1            1      4     755.0       7.0      1               True   241.0\n",
       "2            1      8    6724.0      46.0      2               True   475.0\n",
       "3            1     10    5811.0      32.0      2               True   391.0\n",
       "4            1     11    7005.0      56.0      3               True   535.0\n",
       "...        ...    ...       ...       ...    ...                ...     ...\n",
       "11295     1534      6    3411.0      26.0      2              False   308.0\n",
       "11296     1534      8    7623.0      48.0      2              False   484.0\n",
       "11297     1534      9    4929.0      23.0      1              False   234.0\n",
       "11298     1534     11   13353.0      78.0      4              False   824.0\n",
       "11299     1534     12    2372.0      16.0      1              False   178.0\n",
       "\n",
       "[11300 rows x 7 columns]"
      ]
     },
     "execution_count": 468,
     "metadata": {},
     "output_type": "execute_result"
    }
   ],
   "source": [
    "revenue = data.pivot_table(index=('user_id','month'),values=['duration','distance'],aggfunc=['sum','count'])\n",
    "revenue = revenue.drop(('count','distance'),axis=1)\n",
    "revenue.columns = ['distance', 'duration', 'count']\n",
    "revenue = revenue.reset_index()\n",
    "revenue = revenue.merge(users[['user_id','subscription_type']])\n",
    "revenue['income'] = np.where(revenue['subscription_type'],revenue['duration']*6+199,\\\n",
    "                             revenue['duration']*8+revenue['count']*50)\n",
    "revenue"
   ]
  },
  {
   "cell_type": "markdown",
   "id": "ab242456",
   "metadata": {},
   "source": []
  },
  {
   "cell_type": "code",
   "execution_count": 469,
   "id": "69fabc36",
   "metadata": {
    "scrolled": true
   },
   "outputs": [
    {
     "data": {
      "text/html": [
       "<div>\n",
       "<style scoped>\n",
       "    .dataframe tbody tr th:only-of-type {\n",
       "        vertical-align: middle;\n",
       "    }\n",
       "\n",
       "    .dataframe tbody tr th {\n",
       "        vertical-align: top;\n",
       "    }\n",
       "\n",
       "    .dataframe thead tr th {\n",
       "        text-align: left;\n",
       "    }\n",
       "\n",
       "    .dataframe thead tr:last-of-type th {\n",
       "        text-align: right;\n",
       "    }\n",
       "</style>\n",
       "<table border=\"1\" class=\"dataframe\">\n",
       "  <thead>\n",
       "    <tr>\n",
       "      <th></th>\n",
       "      <th colspan=\"8\" halign=\"left\">describe</th>\n",
       "      <th>sum</th>\n",
       "    </tr>\n",
       "    <tr>\n",
       "      <th></th>\n",
       "      <th>25%</th>\n",
       "      <th>50%</th>\n",
       "      <th>75%</th>\n",
       "      <th>count</th>\n",
       "      <th>max</th>\n",
       "      <th>mean</th>\n",
       "      <th>min</th>\n",
       "      <th>std</th>\n",
       "      <th>income</th>\n",
       "    </tr>\n",
       "    <tr>\n",
       "      <th>subscription_type</th>\n",
       "      <th></th>\n",
       "      <th></th>\n",
       "      <th></th>\n",
       "      <th></th>\n",
       "      <th></th>\n",
       "      <th></th>\n",
       "      <th></th>\n",
       "      <th></th>\n",
       "      <th></th>\n",
       "    </tr>\n",
       "  </thead>\n",
       "  <tbody>\n",
       "    <tr>\n",
       "      <th>False</th>\n",
       "      <td>194.0</td>\n",
       "      <td>274.0</td>\n",
       "      <td>428.0</td>\n",
       "      <td>6767.0</td>\n",
       "      <td>1444.0</td>\n",
       "      <td>329.332644</td>\n",
       "      <td>74.0</td>\n",
       "      <td>183.268419</td>\n",
       "      <td>2228594.0</td>\n",
       "    </tr>\n",
       "    <tr>\n",
       "      <th>True</th>\n",
       "      <td>301.0</td>\n",
       "      <td>337.0</td>\n",
       "      <td>409.0</td>\n",
       "      <td>4533.0</td>\n",
       "      <td>955.0</td>\n",
       "      <td>362.792191</td>\n",
       "      <td>223.0</td>\n",
       "      <td>88.262737</td>\n",
       "      <td>1644537.0</td>\n",
       "    </tr>\n",
       "  </tbody>\n",
       "</table>\n",
       "</div>"
      ],
      "text/plain": [
       "                  describe                                                   \\\n",
       "                       25%    50%    75%   count     max        mean    min   \n",
       "subscription_type                                                             \n",
       "False                194.0  274.0  428.0  6767.0  1444.0  329.332644   74.0   \n",
       "True                 301.0  337.0  409.0  4533.0   955.0  362.792191  223.0   \n",
       "\n",
       "                                     sum  \n",
       "                          std     income  \n",
       "subscription_type                         \n",
       "False              183.268419  2228594.0  \n",
       "True                88.262737  1644537.0  "
      ]
     },
     "execution_count": 469,
     "metadata": {},
     "output_type": "execute_result"
    }
   ],
   "source": [
    "revenue.pivot_table(index='subscription_type',values='income',aggfunc=['describe','sum'])"
   ]
  },
  {
   "cell_type": "markdown",
   "id": "3e54958d",
   "metadata": {},
   "source": [
    "<div class=\"alert alert-success\">\n",
    "<h2> Комментарий ревьюера v1 <a class=\"tocSkip\"> </h2>\n",
    "\n",
    "<b>Все супер!👍:</b> Выручка посчитана верно) "
   ]
  },
  {
   "cell_type": "markdown",
   "id": "41545ac0",
   "metadata": {},
   "source": [
    "#### Шаг 6. Проверка гипотез"
   ]
  },
  {
   "cell_type": "markdown",
   "id": "505be85e",
   "metadata": {},
   "source": [
    "##### Длительность поездки"
   ]
  },
  {
   "cell_type": "markdown",
   "id": "504ad1ac",
   "metadata": {},
   "source": [
    "Нулевая гипотеза - длительность поездки клиентов с подпиской и без нее одинакова. Альтернативная гипотеза клиенты с подпиской ездят дольше. Чтобы это проверить посчитаем сначала средние длительности для пользователей обеих категорий."
   ]
  },
  {
   "cell_type": "markdown",
   "id": "50bbe51f",
   "metadata": {},
   "source": [
    "<div class=\"alert alert-success\">\n",
    "<h2> Комментарий ревьюера v1 <a class=\"tocSkip\"> </h2>\n",
    "\n",
    "<b>Все супер!👍:</b> Гипотезы сформулированы верно!"
   ]
  },
  {
   "cell_type": "code",
   "execution_count": 470,
   "id": "eda0e285",
   "metadata": {},
   "outputs": [
    {
     "data": {
      "text/plain": [
       "18.030855050989278"
      ]
     },
     "execution_count": 470,
     "metadata": {},
     "output_type": "execute_result"
    }
   ],
   "source": [
    "data_0['duration'].mean()"
   ]
  },
  {
   "cell_type": "code",
   "execution_count": 471,
   "id": "cea83cba",
   "metadata": {},
   "outputs": [
    {
     "data": {
      "text/plain": [
       "19.037692307692307"
      ]
     },
     "execution_count": 471,
     "metadata": {},
     "output_type": "execute_result"
    }
   ],
   "source": [
    "data_1['duration'].mean()"
   ]
  },
  {
   "cell_type": "markdown",
   "id": "5164e812",
   "metadata": {},
   "source": [
    "Далее используем двухвыборочный t-тест для независимых выборок."
   ]
  },
  {
   "cell_type": "code",
   "execution_count": 472,
   "id": "23ea867b",
   "metadata": {},
   "outputs": [
    {
     "data": {
      "text/plain": [
       "8.577910347796266e-28"
      ]
     },
     "execution_count": 472,
     "metadata": {},
     "output_type": "execute_result"
    }
   ],
   "source": [
    "alpha = 0.05\n",
    "result = st.ttest_ind(data_0['duration'],data_1['duration'],alternative='less')\n",
    "result.pvalue"
   ]
  },
  {
   "cell_type": "markdown",
   "id": "b98cabd1",
   "metadata": {},
   "source": [
    "Видно что p-value очень мало. Оставляем альтернативную гипотезу. т.е. пользователи с подпиской тратят больше времени на поездки."
   ]
  },
  {
   "cell_type": "markdown",
   "id": "07622536",
   "metadata": {},
   "source": [
    "<div class=\"alert alert-success\">\n",
    "<h2> Комментарий ревьюера v1 <a class=\"tocSkip\"> </h2>\n",
    "\n",
    "<b>Все супер!👍:</b> Верно) "
   ]
  },
  {
   "cell_type": "markdown",
   "id": "2e04e0b0",
   "metadata": {},
   "source": [
    "##### Расстояние поездки."
   ]
  },
  {
   "cell_type": "markdown",
   "id": "75bc520f",
   "metadata": {},
   "source": [
    "Оптимальное расстояние поездки 3130м. Нулевая гипотеза - средняя длина поездки пользователей с подпиской равна 3130м. Альтернативная гипотеза следняя длина <font color='blue'> больше 3130."
   ]
  },
  {
   "cell_type": "markdown",
   "id": "5ca85f6b",
   "metadata": {},
   "source": [
    "<div class=\"alert alert-block alert-danger\">\n",
    "<h2> Комментарий ревьюера v1 <a class=\"tocSkip\"></h2>\n",
    "\n",
    "<b>На доработку🤔:</b>  Поскольку оптимальное расстояние по износу составляет 3130 м, значит большее расстояние приводит к повышенному износу самоката. Следовательно, имеет смысл сформулировать альтернативную гипотезу \"Подписчики в среднем проезжают расстояние больше оптимального\" и соответственно в статистическом тесте использовать параметр alternative = 'greater'\""
   ]
  },
  {
   "cell_type": "code",
   "execution_count": 473,
   "id": "ac0985b0",
   "metadata": {},
   "outputs": [
    {
     "data": {
      "text/plain": [
       "3115.949230769231"
      ]
     },
     "execution_count": 473,
     "metadata": {},
     "output_type": "execute_result"
    }
   ],
   "source": [
    "data_1['distance'].mean()"
   ]
  },
  {
   "cell_type": "markdown",
   "id": "da5f8246",
   "metadata": {},
   "source": [
    "Используем одновыборочный t-тест."
   ]
  },
  {
   "cell_type": "code",
   "execution_count": 474,
   "id": "781432fd",
   "metadata": {},
   "outputs": [
    {
     "data": {
      "text/plain": [
       "0.9120422337080507"
      ]
     },
     "execution_count": 474,
     "metadata": {},
     "output_type": "execute_result"
    }
   ],
   "source": [
    "l_ideal=3130\n",
    "result_2 = st.ttest_1samp(data_1['distance'],l_ideal,alternative='greater')\n",
    "result_2.pvalue"
   ]
  },
  {
   "cell_type": "markdown",
   "id": "6f4c38d1",
   "metadata": {},
   "source": [
    "P-value почти <font color='blue'> 91% </font> что больше стандартных порогов статистической значимости 1% и 5% оставляем нулевую гипотезу. т.е. средняя длина поездки пользователей с подпиской равна 3130м."
   ]
  },
  {
   "cell_type": "markdown",
   "id": "0266342a",
   "metadata": {},
   "source": [
    "<div class=\"alert alert-success\">\n",
    "<h2> Комментарий ревьюера v2 <a class=\"tocSkip\"> </h2>\n",
    "\n",
    "<b>Все супер!👍:</b> Верно) "
   ]
  },
  {
   "cell_type": "markdown",
   "id": "47f9eb10",
   "metadata": {},
   "source": [
    "##### Выручка"
   ]
  },
  {
   "cell_type": "markdown",
   "id": "012e1d65",
   "metadata": {},
   "source": [
    "Нулевая гипотеза - помесячные выручки от пользователей с подпиской и без равны.Альтернативная гипотеза выручка от пользователей с подпиской больше. Используем двухвыборочный t-тест для независимых выборок"
   ]
  },
  {
   "cell_type": "markdown",
   "id": "3c0b2a13",
   "metadata": {},
   "source": [
    "<div class=\"alert alert-success\">\n",
    "<h2> Комментарий ревьюера v1 <a class=\"tocSkip\"> </h2>\n",
    "\n",
    "<b>Все супер!👍:</b> Гиоптезы сформулировнаы верно "
   ]
  },
  {
   "cell_type": "code",
   "execution_count": 475,
   "id": "6fad058d",
   "metadata": {},
   "outputs": [
    {
     "data": {
      "text/plain": [
       "362.7921906022502"
      ]
     },
     "execution_count": 475,
     "metadata": {},
     "output_type": "execute_result"
    }
   ],
   "source": [
    "revenue.loc[revenue['subscription_type']==True]['income'].mean()"
   ]
  },
  {
   "cell_type": "code",
   "execution_count": 476,
   "id": "57990f09",
   "metadata": {},
   "outputs": [
    {
     "data": {
      "text/plain": [
       "329.3326437121324"
      ]
     },
     "execution_count": 476,
     "metadata": {},
     "output_type": "execute_result"
    }
   ],
   "source": [
    "revenue.loc[revenue['subscription_type']==False]['income'].mean()"
   ]
  },
  {
   "cell_type": "code",
   "execution_count": 477,
   "id": "fd3776af",
   "metadata": {},
   "outputs": [
    {
     "data": {
      "text/plain": [
       "2.0314113674863288e-30"
      ]
     },
     "execution_count": 477,
     "metadata": {},
     "output_type": "execute_result"
    }
   ],
   "source": [
    "alpha = 0.05\n",
    "result = st.ttest_ind(revenue.loc[revenue['subscription_type']==False]['income']\\\n",
    "                      ,revenue.loc[revenue['subscription_type']==True]['income'],alternative='less')\n",
    "result.pvalue"
   ]
  },
  {
   "cell_type": "markdown",
   "id": "7a464c6e",
   "metadata": {},
   "source": [
    "P-value мало. Отвергаем нулевую гипотезу. т.е. оставляем альтернативную - выручка от пользователей с подпиской больше."
   ]
  },
  {
   "cell_type": "markdown",
   "id": "96f43cd4",
   "metadata": {},
   "source": [
    "<div class=\"alert alert-success\">\n",
    "<h2> Комментарий ревьюера v1 <a class=\"tocSkip\"> </h2>\n",
    "\n",
    "<b>Все супер!👍:</b> Верно "
   ]
  },
  {
   "cell_type": "markdown",
   "id": "2d56cd5d",
   "metadata": {},
   "source": [
    "##### Число обращений в поддержку."
   ]
  },
  {
   "cell_type": "markdown",
   "id": "e8ffdfff",
   "metadata": {},
   "source": [
    "Нулевая гипотеза - после обновления количество обращений не изменилось. Альтернативная гипотеза - количество обращений  после обновления снизилось. Поскольку у нас 2  выборки одинаковых размеров и они содержат данные для одних и тех же пользователей, то двухвыборочный t-тест для зависимых выборок - ttest_rel(После , До, alternative='less')"
   ]
  },
  {
   "cell_type": "markdown",
   "id": "32365c2c",
   "metadata": {},
   "source": [
    "##### Вывод"
   ]
  },
  {
   "cell_type": "markdown",
   "id": "e6b8c676",
   "metadata": {},
   "source": [
    "Мы проверили несколько гипотез и в результате остались следующие:\n",
    "- Пользователи с подпиской тратят больше времени на поездки.\n",
    "- Средняя длина поездки пользователей с подпиской равна 3130м\n",
    "- Выручка от пользователей с подпиской больше."
   ]
  },
  {
   "cell_type": "markdown",
   "id": "64a16188",
   "metadata": {},
   "source": [
    "<div class=\"alert alert-success\">\n",
    "<h2> Комментарий ревьюера v1 <a class=\"tocSkip\"> </h2>\n",
    "\n",
    "<b>Все супер!👍:</b> Хорошо!"
   ]
  },
  {
   "cell_type": "markdown",
   "id": "61213c5e",
   "metadata": {},
   "source": [
    "#### Шаг 7. Распределения"
   ]
  },
  {
   "cell_type": "markdown",
   "id": "828e0f87",
   "metadata": {},
   "source": [
    "##### Задача 1"
   ]
  },
  {
   "cell_type": "markdown",
   "id": "cb329c95",
   "metadata": {},
   "source": [
    "У нас есть вероятность успеха p=10% и 1-p вероятность неудачи. Воспользуемся биноминальным распределением. Пусть каждое событие это бернулевское испытание $x_i$  тогда нас интересует $n : P\\left(\\sum_{i=1}^n x_i\\le 99\\right) = 0.05 $.\n",
    "Поскольку число 100 относительно велико можно так же опроксимировать биномиальное распределение нормальным с $\\mu=pn$ и $\\sigma=\\sqrt{p(1-p)n}$. Можно прикинуть что искомое число $np-100 \\sim 1.5 \\sigma$ или около 1100-1200."
   ]
  },
  {
   "cell_type": "code",
   "execution_count": 478,
   "id": "95cd1d51",
   "metadata": {},
   "outputs": [
    {
     "name": "stdout",
     "output_type": "stream",
     "text": [
      "0.04976090094990249\n"
     ]
    }
   ],
   "source": [
    "p = 0.1\n",
    "N = 100\n",
    "n = 1161\n",
    "print(st.binom(n , p).cdf(N-1))"
   ]
  },
  {
   "cell_type": "code",
   "execution_count": 479,
   "id": "b61cab8a",
   "metadata": {},
   "outputs": [
    {
     "data": {
      "text/plain": [
       "Text(0.5, 1.0, 'Распределение вероятности числа продлений прописки.')"
      ]
     },
     "execution_count": 479,
     "metadata": {},
     "output_type": "execute_result"
    },
    {
     "data": {
      "image/png": "[encoded data removed]",
      "text/plain": [
       "<Figure size 432x288 with 1 Axes>"
      ]
     },
     "metadata": {
      "needs_background": "light"
     },
     "output_type": "display_data"
    }
   ],
   "source": [
    "distr = []\n",
    "\n",
    "min = 80\n",
    "max = 150\n",
    "\n",
    "for k in range(min, max):\n",
    "    current_value = st.binom(n , p).cdf(k)\n",
    "    distr.append(current_value)\n",
    "\n",
    "plt.xlabel('Число продлений подписки шт.')\n",
    "plt.ylabel('Вероятность')    \n",
    "plt.bar(range(min, max), distr )\n",
    "plt.title('Распределение вероятности числа продлений прописки.')"
   ]
  },
  {
   "cell_type": "code",
   "execution_count": 480,
   "id": "1d5d820e",
   "metadata": {},
   "outputs": [
    {
     "name": "stdout",
     "output_type": "stream",
     "text": [
      "0.04991937389843044\n"
     ]
    }
   ],
   "source": [
    "n = 1158\n",
    "print(st.norm(n*p, math.sqrt((1-p)*p*n)).cdf(N-1))\n"
   ]
  },
  {
   "cell_type": "markdown",
   "id": "bf8c1988",
   "metadata": {},
   "source": [
    "Нарисуем относительную ошибку замены одного распределения другим."
   ]
  },
  {
   "cell_type": "code",
   "execution_count": 481,
   "id": "344ab9a0",
   "metadata": {},
   "outputs": [
    {
     "data": {
      "text/plain": [
       "Text(0.5, 1.0, 'Распределение относительной разности нормального и биномиального распределения')"
      ]
     },
     "execution_count": 481,
     "metadata": {},
     "output_type": "execute_result"
    },
    {
     "data": {
      "image/png": "[encoded data removed]",
      "text/plain": [
       "<Figure size 432x288 with 1 Axes>"
      ]
     },
     "metadata": {
      "needs_background": "light"
     },
     "output_type": "display_data"
    }
   ],
   "source": [
    "distr = []\n",
    "\n",
    "for k in range(min, max):\n",
    "    current_value = (st.norm(n*p, math.sqrt((1-p)*p*n)).cdf(k) - st.binom(n , p).cdf(k))/st.binom(n , p).cdf(k)\n",
    "    distr.append(current_value)\n",
    "\n",
    "plt.ylabel('Относительное отличие')\n",
    "plt.xlabel('Число продлений подписки шт.')    \n",
    "plt.bar(range(min, max), distr)\n",
    "plt.title('Распределение относительной разности нормального и биномиального распределения')"
   ]
  },
  {
   "cell_type": "markdown",
   "id": "4facc090",
   "metadata": {},
   "source": [
    "Видно, что разница между биномиальным и нормальным распределением есть,но она мала <font color='blue'> в интересующем диапазоне."
   ]
  },
  {
   "cell_type": "markdown",
   "id": "84bda0bf",
   "metadata": {},
   "source": [
    "##### Задача 2"
   ]
  },
  {
   "cell_type": "markdown",
   "id": "6999ca7e",
   "metadata": {},
   "source": [
    "Ситуация схожая с предыдущей,но уже выборка большая $n=1000000$. Есть смысл использовать апроксимацию биномиального распределения нормальным. Вероятность успеха примерно $p=0.4$, неудачи $1-p$ следовательно $\\mu=pn$ и $\\sigma=\\sqrt{p(1-p)n}$. Ишем величину $P\\left(\\mathbb{N}(\\mu,\\sigma)<399500\\right)$"
   ]
  },
  {
   "cell_type": "code",
   "execution_count": 482,
   "id": "0dcce3f4",
   "metadata": {},
   "outputs": [
    {
     "name": "stdout",
     "output_type": "stream",
     "text": [
      "0.15371708296369768\n"
     ]
    }
   ],
   "source": [
    "p = 0.40\n",
    "n = 1000000\n",
    "n_desired = 399500\n",
    "print(st.norm(n*p, math.sqrt((1-p)*p*n)).cdf(399500))"
   ]
  },
  {
   "cell_type": "markdown",
   "id": "d96bdee5",
   "metadata": {},
   "source": [
    "Вероятность этого события 15%. Но посмотрим теперь насколько это полезный расчет. В условии сказано что вероятность около 40%. 40.1% и 39.9% это тоже около 40%"
   ]
  },
  {
   "cell_type": "code",
   "execution_count": 483,
   "id": "7deca869",
   "metadata": {},
   "outputs": [
    {
     "name": "stdout",
     "output_type": "stream",
     "text": [
      "0.0011044936265442765\n"
     ]
    }
   ],
   "source": [
    "p = 0.401\n",
    "n = 1000000\n",
    "n_desired = 399500\n",
    "print(st.norm(n*p, math.sqrt((1-p)*p*n)).cdf(399500))"
   ]
  },
  {
   "cell_type": "code",
   "execution_count": 484,
   "id": "4edd9d4f",
   "metadata": {},
   "outputs": [
    {
     "name": "stdout",
     "output_type": "stream",
     "text": [
      "0.8463842410381544\n"
     ]
    }
   ],
   "source": [
    "p = 0.399\n",
    "n = 1000000\n",
    "n_desired = 399500\n",
    "print(st.norm(n*p, math.sqrt((1-p)*p*n)).cdf(399500))"
   ]
  },
  {
   "cell_type": "code",
   "execution_count": 485,
   "id": "80c23b3a",
   "metadata": {},
   "outputs": [
    {
     "name": "stdout",
     "output_type": "stream",
     "text": [
      "0.11034529249656272\n"
     ]
    }
   ],
   "source": [
    "p = 0.4001\n",
    "n = 1000000\n",
    "n_desired = 399500\n",
    "print(st.norm(n*p, math.sqrt((1-p)*p*n)).cdf(399500))"
   ]
  },
  {
   "cell_type": "code",
   "execution_count": 486,
   "id": "15cae47b",
   "metadata": {},
   "outputs": [
    {
     "name": "stdout",
     "output_type": "stream",
     "text": [
      "0.20709835881336486\n"
     ]
    }
   ],
   "source": [
    "p = 0.3999\n",
    "n = 1000000\n",
    "n_desired = 399500\n",
    "print(st.norm(n*p, math.sqrt((1-p)*p*n)).cdf(399500))"
   ]
  },
  {
   "cell_type": "markdown",
   "id": "2f3a06e7",
   "metadata": {},
   "source": [
    "Таким образом ошибка в вероятности успеха даже порядка 0.1% приводит к тому что ответ может меняться в больших пределах."
   ]
  },
  {
   "cell_type": "markdown",
   "id": "4191a69d",
   "metadata": {},
   "source": [
    "##### Выводы"
   ]
  },
  {
   "cell_type": "markdown",
   "id": "16401583",
   "metadata": {},
   "source": [
    "- Для того чтобы подписку продлило не меньше 100 человек с вероятностью 95% нужно разослать не меньше 1160 промокодов.\n",
    "- При текущих входных данных вопрос некорректный. Для ответа с точностью хотя бы 30% , нужна точность вероятности открытия письма 4-5 знаков.( Если провести расчет считая данные точными,то вероятность того что откроют 399500 и меньше составляет 15%  )  "
   ]
  },
  {
   "cell_type": "markdown",
   "id": "606bb788",
   "metadata": {},
   "source": [
    "<div class=\"alert alert-success\">\n",
    "<h2> Комментарий ревьюера v1 <a class=\"tocSkip\"> </h2>\n",
    "\n",
    "<b>Все супер!👍:</b> Респект за доп.исследование!"
   ]
  },
  {
   "cell_type": "markdown",
   "id": "e7712234",
   "metadata": {},
   "source": [
    "#### Вывод"
   ]
  },
  {
   "cell_type": "markdown",
   "id": "befb99dd",
   "metadata": {},
   "source": [
    "    Был проведен анализ выборки данных о пользователях самокатов и их поездках.\n",
    "В начале проведена предоброботка данных, изменены типы данных, удалены дубликаты и аномалии.\n",
    "Затем были описана и визуализирована информация о пользователях (город , возраст)  и их поездках( длительность, расстояние)\n",
    "Обьединив информацию о поездках и пользователях было замечено что распределение расстояния за поездку заметно отличается для прользователей с подпиской и без нее. Следующим шагом была посчитана ежемесечная выручка от каждого пользовотеля.\n",
    "Используя эти данные были проверены и неотвергнуты 3 гипотезы.\n",
    "- Пользователи с подпиской тратят больше времени на поездки.\n",
    "- Средняя длина поездки пользователей с подпиской равна 3130м\n",
    "- Выручка от пользователей с подпиской больше.\n",
    "\n",
    "Дальнейшего изучения требует причина наличия 2 разных типов поездок (\"короткие\", \"длинные\") ,а так же причина возникновения странных поездок с длительностью 0.5мин.\n"
   ]
  },
  {
   "cell_type": "markdown",
   "id": "409d94c3",
   "metadata": {},
   "source": [
    "<div style=\"border:solid Chocolate 2px; padding: 40px\">\n",
    "    \n",
    "**Общий вывод по проекту ревьювера**:\n",
    "Андрей, спасибо за  проект! Ты приложил много усилий, чтобы довести его до конца, проделана огромная работа, и это видно невооруженным глазом, ты большой молодец!\n",
    "    \n",
    "**Отмечу положительные моменты**:\n",
    "    \n",
    "    1. Все разложено по полочкам, всегда понятен ход твоих мыслей, приятно смотреть\n",
    "    \n",
    "    2. Отличные визуализации\n",
    "    \n",
    "    3. На разных шагах проекта ты предлагал очень интересные решения и методы для их реализации. Хорошая работа!\n",
    "    \n",
    "    \n",
    "**На что стоит обратить внимание**:\n",
    "    \n",
    "    1. Оформление визуализаций\n",
    "    \n",
    "    \n",
    "**Удачи и жду твой проект на повторное ревью!**"
   ]
  },
  {
   "cell_type": "markdown",
   "id": "5d542e2f",
   "metadata": {},
   "source": [
    "<div style=\"border:solid Chocolate 2px; padding: 40px\">\n",
    "    \n",
    "**Общий вывод по проекту ревьювера v2**:\n",
    "Андрей, исправим оставшиеся замечания и проект будет зачтен) "
   ]
  },
  {
   "cell_type": "markdown",
   "id": "b22ef093",
   "metadata": {},
   "source": [
    "<div style=\"border:solid Chocolate 2px; padding: 40px\">\n",
    "    \n",
    "**Общий вывод по проекту ревьювера v3**:\n",
    "Андрей, ошибки исправлены, проект принят, поздравляю тебя! Успешной учебы и еще увидимся в Практикуме!"
   ]
  },
  {
   "cell_type": "code",
   "execution_count": null,
   "id": "8a911013",
   "metadata": {},
   "outputs": [],
   "source": []
  }
 ],
 "metadata": {
  "ExecuteTimeLog": [
   {
    "duration": 46,
    "start_time": "2024-02-16T08:24:19.125Z"
   },
   {
    "duration": 367,
    "start_time": "2024-02-16T08:24:23.256Z"
   },
   {
    "duration": 28,
    "start_time": "2024-02-16T08:24:25.648Z"
   },
   {
    "duration": 197,
    "start_time": "2024-02-16T08:25:32.858Z"
   },
   {
    "duration": 13,
    "start_time": "2024-02-16T08:26:56.718Z"
   },
   {
    "duration": 9,
    "start_time": "2024-02-16T08:27:08.192Z"
   },
   {
    "duration": 8,
    "start_time": "2024-02-16T08:27:11.283Z"
   },
   {
    "duration": 12,
    "start_time": "2024-02-16T08:28:24.268Z"
   },
   {
    "duration": 11,
    "start_time": "2024-02-16T08:28:58.821Z"
   },
   {
    "duration": 671,
    "start_time": "2024-02-16T08:32:05.109Z"
   },
   {
    "duration": 145,
    "start_time": "2024-02-16T08:32:26.384Z"
   },
   {
    "duration": 316,
    "start_time": "2024-02-16T08:33:37.263Z"
   },
   {
    "duration": 189,
    "start_time": "2024-02-16T08:34:17.847Z"
   },
   {
    "duration": 888,
    "start_time": "2024-02-16T08:43:40.906Z"
   },
   {
    "duration": 9,
    "start_time": "2024-02-16T08:44:04.159Z"
   },
   {
    "duration": 12,
    "start_time": "2024-02-16T08:44:06.887Z"
   },
   {
    "duration": 11,
    "start_time": "2024-02-16T08:44:17.106Z"
   },
   {
    "duration": 10,
    "start_time": "2024-02-16T08:47:07.669Z"
   },
   {
    "duration": 8,
    "start_time": "2024-02-16T08:47:57.337Z"
   },
   {
    "duration": 5,
    "start_time": "2024-02-16T08:48:07.255Z"
   },
   {
    "duration": 10,
    "start_time": "2024-02-16T08:48:24.104Z"
   },
   {
    "duration": 5,
    "start_time": "2024-02-16T08:53:17.484Z"
   },
   {
    "duration": 5,
    "start_time": "2024-02-16T08:56:58.372Z"
   },
   {
    "duration": 11,
    "start_time": "2024-02-16T08:59:16.356Z"
   },
   {
    "duration": 7,
    "start_time": "2024-02-16T08:59:26.980Z"
   },
   {
    "duration": 9,
    "start_time": "2024-02-16T09:00:05.962Z"
   },
   {
    "duration": 9,
    "start_time": "2024-02-16T09:00:16.643Z"
   },
   {
    "duration": 6,
    "start_time": "2024-02-16T09:00:42.089Z"
   },
   {
    "duration": 12,
    "start_time": "2024-02-16T09:01:27.697Z"
   },
   {
    "duration": 1259,
    "start_time": "2024-02-16T09:02:37.580Z"
   },
   {
    "duration": 1287,
    "start_time": "2024-02-16T09:02:43.715Z"
   },
   {
    "duration": 7,
    "start_time": "2024-02-16T09:03:00.943Z"
   },
   {
    "duration": 11,
    "start_time": "2024-02-16T09:03:07.190Z"
   },
   {
    "duration": 13,
    "start_time": "2024-02-16T09:04:41.869Z"
   },
   {
    "duration": 14,
    "start_time": "2024-02-16T09:04:54.140Z"
   },
   {
    "duration": 5,
    "start_time": "2024-02-16T09:06:06.958Z"
   },
   {
    "duration": 13,
    "start_time": "2024-02-16T09:11:20.496Z"
   },
   {
    "duration": 14,
    "start_time": "2024-02-16T09:12:17.295Z"
   },
   {
    "duration": 6,
    "start_time": "2024-02-16T09:12:59.740Z"
   },
   {
    "duration": 16,
    "start_time": "2024-02-16T09:13:09.649Z"
   },
   {
    "duration": 5,
    "start_time": "2024-02-16T09:13:19.659Z"
   },
   {
    "duration": 152,
    "start_time": "2024-02-16T09:14:34.653Z"
   },
   {
    "duration": 277,
    "start_time": "2024-02-16T09:14:50.368Z"
   },
   {
    "duration": 14,
    "start_time": "2024-02-16T09:21:08.794Z"
   },
   {
    "duration": 14,
    "start_time": "2024-02-16T09:21:47.356Z"
   },
   {
    "duration": 14,
    "start_time": "2024-02-16T09:21:54.192Z"
   },
   {
    "duration": 19,
    "start_time": "2024-02-16T09:22:34.968Z"
   },
   {
    "duration": 13,
    "start_time": "2024-02-16T09:24:52.639Z"
   },
   {
    "duration": 16,
    "start_time": "2024-02-16T09:25:08.686Z"
   },
   {
    "duration": 13,
    "start_time": "2024-02-16T09:25:13.820Z"
   },
   {
    "duration": 145,
    "start_time": "2024-02-16T09:25:50.747Z"
   },
   {
    "duration": 232,
    "start_time": "2024-02-16T09:26:07.000Z"
   },
   {
    "duration": 45,
    "start_time": "2024-02-16T15:28:51.872Z"
   },
   {
    "duration": 352,
    "start_time": "2024-02-16T15:28:59.325Z"
   },
   {
    "duration": 190,
    "start_time": "2024-02-16T15:28:59.679Z"
   },
   {
    "duration": 16,
    "start_time": "2024-02-16T15:28:59.871Z"
   },
   {
    "duration": 15,
    "start_time": "2024-02-16T15:28:59.889Z"
   },
   {
    "duration": 580,
    "start_time": "2024-02-16T15:28:59.907Z"
   },
   {
    "duration": 11,
    "start_time": "2024-02-16T15:29:00.488Z"
   },
   {
    "duration": 30,
    "start_time": "2024-02-16T15:29:00.500Z"
   },
   {
    "duration": 278,
    "start_time": "2024-02-16T15:29:00.532Z"
   },
   {
    "duration": 7,
    "start_time": "2024-02-16T15:29:00.812Z"
   },
   {
    "duration": 27,
    "start_time": "2024-02-16T15:29:00.821Z"
   },
   {
    "duration": 40,
    "start_time": "2024-02-16T15:29:00.850Z"
   },
   {
    "duration": 31,
    "start_time": "2024-02-16T15:29:00.892Z"
   },
   {
    "duration": 28,
    "start_time": "2024-02-16T15:29:00.925Z"
   },
   {
    "duration": 38,
    "start_time": "2024-02-16T15:29:00.957Z"
   },
   {
    "duration": 41,
    "start_time": "2024-02-16T15:29:00.997Z"
   },
   {
    "duration": 16,
    "start_time": "2024-02-16T15:29:01.040Z"
   },
   {
    "duration": 40,
    "start_time": "2024-02-16T15:29:01.058Z"
   },
   {
    "duration": 12,
    "start_time": "2024-02-16T15:29:01.100Z"
   },
   {
    "duration": 36,
    "start_time": "2024-02-16T15:29:01.114Z"
   },
   {
    "duration": 121,
    "start_time": "2024-02-16T15:29:01.152Z"
   },
   {
    "duration": 16,
    "start_time": "2024-02-16T15:29:11.792Z"
   },
   {
    "duration": 14,
    "start_time": "2024-02-16T15:29:19.878Z"
   },
   {
    "duration": 15,
    "start_time": "2024-02-16T15:29:23.636Z"
   },
   {
    "duration": 16,
    "start_time": "2024-02-16T15:29:28.957Z"
   },
   {
    "duration": 14,
    "start_time": "2024-02-16T15:29:35.014Z"
   },
   {
    "duration": 13,
    "start_time": "2024-02-16T15:29:58.108Z"
   },
   {
    "duration": 8,
    "start_time": "2024-02-16T15:33:42.659Z"
   },
   {
    "duration": 5,
    "start_time": "2024-02-16T15:34:18.713Z"
   },
   {
    "duration": 220,
    "start_time": "2024-02-16T15:34:26.424Z"
   },
   {
    "duration": 174,
    "start_time": "2024-02-16T15:35:15.695Z"
   },
   {
    "duration": 170,
    "start_time": "2024-02-16T15:35:58.786Z"
   },
   {
    "duration": 209,
    "start_time": "2024-02-16T15:38:25.417Z"
   },
   {
    "duration": 212,
    "start_time": "2024-02-16T15:39:18.222Z"
   },
   {
    "duration": 14,
    "start_time": "2024-02-16T15:40:22.020Z"
   },
   {
    "duration": 12,
    "start_time": "2024-02-16T15:41:56.158Z"
   },
   {
    "duration": 13,
    "start_time": "2024-02-16T15:42:50.451Z"
   },
   {
    "duration": 17,
    "start_time": "2024-02-16T15:43:09.333Z"
   },
   {
    "duration": 14,
    "start_time": "2024-02-16T15:43:34.925Z"
   },
   {
    "duration": 9,
    "start_time": "2024-02-16T15:43:54.080Z"
   },
   {
    "duration": 11,
    "start_time": "2024-02-16T15:44:18.728Z"
   },
   {
    "duration": 12,
    "start_time": "2024-02-16T15:44:24.839Z"
   },
   {
    "duration": 117,
    "start_time": "2024-02-16T15:48:03.795Z"
   },
   {
    "duration": 142,
    "start_time": "2024-02-16T15:48:16.492Z"
   },
   {
    "duration": 667,
    "start_time": "2024-02-16T15:52:34.047Z"
   },
   {
    "duration": 141,
    "start_time": "2024-02-16T15:52:52.132Z"
   },
   {
    "duration": 9,
    "start_time": "2024-02-16T15:54:32.892Z"
   },
   {
    "duration": 10,
    "start_time": "2024-02-16T15:55:29.405Z"
   },
   {
    "duration": 160,
    "start_time": "2024-02-16T15:56:27.343Z"
   },
   {
    "duration": 173,
    "start_time": "2024-02-16T16:03:14.874Z"
   },
   {
    "duration": 219,
    "start_time": "2024-02-16T16:03:47.234Z"
   },
   {
    "duration": 1188,
    "start_time": "2024-02-16T16:13:20.789Z"
   },
   {
    "duration": 12,
    "start_time": "2024-02-16T16:15:37.345Z"
   },
   {
    "duration": 119,
    "start_time": "2024-02-16T16:16:17.439Z"
   },
   {
    "duration": 152,
    "start_time": "2024-02-16T16:16:27.401Z"
   },
   {
    "duration": 123,
    "start_time": "2024-02-16T16:17:05.851Z"
   },
   {
    "duration": 206,
    "start_time": "2024-02-16T16:17:11.734Z"
   },
   {
    "duration": 10,
    "start_time": "2024-02-16T16:17:34.155Z"
   },
   {
    "duration": 8,
    "start_time": "2024-02-16T16:17:41.341Z"
   },
   {
    "duration": 117,
    "start_time": "2024-02-16T16:17:48.927Z"
   },
   {
    "duration": 8,
    "start_time": "2024-02-16T16:18:32.572Z"
   },
   {
    "duration": 4,
    "start_time": "2024-02-16T16:18:47.800Z"
   },
   {
    "duration": 4,
    "start_time": "2024-02-16T16:19:45.136Z"
   },
   {
    "duration": 3,
    "start_time": "2024-02-16T16:20:11.371Z"
   },
   {
    "duration": 88,
    "start_time": "2024-02-16T16:22:37.169Z"
   },
   {
    "duration": 73,
    "start_time": "2024-02-16T16:22:59.567Z"
   },
   {
    "duration": 14,
    "start_time": "2024-02-16T16:23:19.563Z"
   },
   {
    "duration": 11,
    "start_time": "2024-02-16T16:23:40.341Z"
   },
   {
    "duration": 13,
    "start_time": "2024-02-16T16:24:01.056Z"
   },
   {
    "duration": 13,
    "start_time": "2024-02-16T16:24:05.483Z"
   },
   {
    "duration": 11,
    "start_time": "2024-02-16T16:24:30.240Z"
   },
   {
    "duration": 8,
    "start_time": "2024-02-16T16:24:43.736Z"
   },
   {
    "duration": 18,
    "start_time": "2024-02-16T16:25:47.497Z"
   },
   {
    "duration": 16,
    "start_time": "2024-02-16T16:25:54.909Z"
   },
   {
    "duration": 70,
    "start_time": "2024-02-16T16:26:08.417Z"
   },
   {
    "duration": 14,
    "start_time": "2024-02-16T16:26:15.803Z"
   },
   {
    "duration": 139,
    "start_time": "2024-02-16T16:26:27.812Z"
   },
   {
    "duration": 130,
    "start_time": "2024-02-16T16:26:35.327Z"
   },
   {
    "duration": 12,
    "start_time": "2024-02-16T16:27:01.919Z"
   },
   {
    "duration": 10,
    "start_time": "2024-02-16T16:28:04.430Z"
   },
   {
    "duration": 152,
    "start_time": "2024-02-16T16:28:09.481Z"
   },
   {
    "duration": 1140,
    "start_time": "2024-02-16T16:36:54.427Z"
   },
   {
    "duration": 13,
    "start_time": "2024-02-16T16:37:07.504Z"
   },
   {
    "duration": 13,
    "start_time": "2024-02-16T16:48:59.829Z"
   },
   {
    "duration": 4,
    "start_time": "2024-02-16T16:50:12.062Z"
   },
   {
    "duration": 12,
    "start_time": "2024-02-16T16:50:22.695Z"
   },
   {
    "duration": 9,
    "start_time": "2024-02-16T16:50:52.082Z"
   },
   {
    "duration": 3,
    "start_time": "2024-02-16T16:51:13.743Z"
   },
   {
    "duration": 76,
    "start_time": "2024-02-16T16:51:13.747Z"
   },
   {
    "duration": 7,
    "start_time": "2024-02-16T16:51:13.825Z"
   },
   {
    "duration": 23,
    "start_time": "2024-02-16T16:51:13.833Z"
   },
   {
    "duration": 155,
    "start_time": "2024-02-16T16:51:13.858Z"
   },
   {
    "duration": 7,
    "start_time": "2024-02-16T16:51:14.015Z"
   },
   {
    "duration": 29,
    "start_time": "2024-02-16T16:51:14.023Z"
   },
   {
    "duration": 264,
    "start_time": "2024-02-16T16:51:14.053Z"
   },
   {
    "duration": 7,
    "start_time": "2024-02-16T16:51:14.318Z"
   },
   {
    "duration": 14,
    "start_time": "2024-02-16T16:51:14.326Z"
   },
   {
    "duration": 9,
    "start_time": "2024-02-16T16:51:14.341Z"
   },
   {
    "duration": 15,
    "start_time": "2024-02-16T16:51:14.351Z"
   },
   {
    "duration": 8,
    "start_time": "2024-02-16T16:51:19.238Z"
   },
   {
    "duration": 8,
    "start_time": "2024-02-16T16:51:22.263Z"
   },
   {
    "duration": 9,
    "start_time": "2024-02-16T16:51:27.829Z"
   },
   {
    "duration": 2,
    "start_time": "2024-02-16T16:51:55.363Z"
   },
   {
    "duration": 75,
    "start_time": "2024-02-16T16:51:55.367Z"
   },
   {
    "duration": 7,
    "start_time": "2024-02-16T16:51:55.444Z"
   },
   {
    "duration": 33,
    "start_time": "2024-02-16T16:51:55.452Z"
   },
   {
    "duration": 151,
    "start_time": "2024-02-16T16:51:55.487Z"
   },
   {
    "duration": 9,
    "start_time": "2024-02-16T16:51:55.640Z"
   },
   {
    "duration": 21,
    "start_time": "2024-02-16T16:51:55.651Z"
   },
   {
    "duration": 273,
    "start_time": "2024-02-16T16:51:55.674Z"
   },
   {
    "duration": 20,
    "start_time": "2024-02-16T16:51:55.949Z"
   },
   {
    "duration": 22,
    "start_time": "2024-02-16T16:51:55.971Z"
   },
   {
    "duration": 14,
    "start_time": "2024-02-16T16:51:55.996Z"
   },
   {
    "duration": 9,
    "start_time": "2024-02-16T16:51:56.012Z"
   },
   {
    "duration": 2,
    "start_time": "2024-02-16T16:51:58.131Z"
   },
   {
    "duration": 65,
    "start_time": "2024-02-16T16:51:58.135Z"
   },
   {
    "duration": 7,
    "start_time": "2024-02-16T16:51:58.202Z"
   },
   {
    "duration": 11,
    "start_time": "2024-02-16T16:51:58.211Z"
   },
   {
    "duration": 139,
    "start_time": "2024-02-16T16:51:58.223Z"
   },
   {
    "duration": 8,
    "start_time": "2024-02-16T16:51:58.363Z"
   },
   {
    "duration": 11,
    "start_time": "2024-02-16T16:51:58.372Z"
   },
   {
    "duration": 390,
    "start_time": "2024-02-16T16:51:58.384Z"
   },
   {
    "duration": 6,
    "start_time": "2024-02-16T16:51:58.775Z"
   },
   {
    "duration": 10,
    "start_time": "2024-02-16T16:51:58.783Z"
   },
   {
    "duration": 4,
    "start_time": "2024-02-16T16:51:58.794Z"
   },
   {
    "duration": 20,
    "start_time": "2024-02-16T16:51:58.799Z"
   },
   {
    "duration": 8,
    "start_time": "2024-02-16T16:52:08.411Z"
   },
   {
    "duration": 10,
    "start_time": "2024-02-16T16:52:17.664Z"
   },
   {
    "duration": 9,
    "start_time": "2024-02-16T16:52:29.911Z"
   },
   {
    "duration": 3,
    "start_time": "2024-02-16T16:52:39.275Z"
   },
   {
    "duration": 66,
    "start_time": "2024-02-16T16:52:39.279Z"
   },
   {
    "duration": 7,
    "start_time": "2024-02-16T16:52:39.347Z"
   },
   {
    "duration": 9,
    "start_time": "2024-02-16T16:52:39.355Z"
   },
   {
    "duration": 150,
    "start_time": "2024-02-16T16:52:39.366Z"
   },
   {
    "duration": 9,
    "start_time": "2024-02-16T16:52:39.517Z"
   },
   {
    "duration": 16,
    "start_time": "2024-02-16T16:52:39.527Z"
   },
   {
    "duration": 312,
    "start_time": "2024-02-16T16:52:39.545Z"
   },
   {
    "duration": 8,
    "start_time": "2024-02-16T16:52:39.865Z"
   },
   {
    "duration": 15,
    "start_time": "2024-02-16T16:52:39.874Z"
   },
   {
    "duration": 12,
    "start_time": "2024-02-16T16:52:39.890Z"
   },
   {
    "duration": 23,
    "start_time": "2024-02-16T16:52:39.903Z"
   },
   {
    "duration": 9,
    "start_time": "2024-02-16T16:52:42.986Z"
   },
   {
    "duration": 2,
    "start_time": "2024-02-16T16:52:59.713Z"
   },
   {
    "duration": 68,
    "start_time": "2024-02-16T16:52:59.717Z"
   },
   {
    "duration": 8,
    "start_time": "2024-02-16T16:52:59.786Z"
   },
   {
    "duration": 10,
    "start_time": "2024-02-16T16:52:59.796Z"
   },
   {
    "duration": 149,
    "start_time": "2024-02-16T16:52:59.808Z"
   },
   {
    "duration": 8,
    "start_time": "2024-02-16T16:52:59.959Z"
   },
   {
    "duration": 12,
    "start_time": "2024-02-16T16:52:59.969Z"
   },
   {
    "duration": 297,
    "start_time": "2024-02-16T16:52:59.982Z"
   },
   {
    "duration": 8,
    "start_time": "2024-02-16T16:53:00.281Z"
   },
   {
    "duration": 35,
    "start_time": "2024-02-16T16:53:00.290Z"
   },
   {
    "duration": 24,
    "start_time": "2024-02-16T16:53:00.327Z"
   },
   {
    "duration": 52,
    "start_time": "2024-02-16T16:53:00.352Z"
   },
   {
    "duration": 10,
    "start_time": "2024-02-16T16:53:04.900Z"
   },
   {
    "duration": 2,
    "start_time": "2024-02-16T16:53:22.130Z"
   },
   {
    "duration": 65,
    "start_time": "2024-02-16T16:53:22.136Z"
   },
   {
    "duration": 7,
    "start_time": "2024-02-16T16:53:22.203Z"
   },
   {
    "duration": 10,
    "start_time": "2024-02-16T16:53:22.211Z"
   },
   {
    "duration": 131,
    "start_time": "2024-02-16T16:53:22.223Z"
   },
   {
    "duration": 11,
    "start_time": "2024-02-16T16:53:22.356Z"
   },
   {
    "duration": 11,
    "start_time": "2024-02-16T16:53:22.368Z"
   },
   {
    "duration": 286,
    "start_time": "2024-02-16T16:53:22.381Z"
   },
   {
    "duration": 7,
    "start_time": "2024-02-16T16:53:22.668Z"
   },
   {
    "duration": 13,
    "start_time": "2024-02-16T16:53:22.676Z"
   },
   {
    "duration": 4,
    "start_time": "2024-02-16T16:53:22.691Z"
   },
   {
    "duration": 9,
    "start_time": "2024-02-16T16:53:22.696Z"
   },
   {
    "duration": 3,
    "start_time": "2024-02-16T16:53:37.843Z"
   },
   {
    "duration": 67,
    "start_time": "2024-02-16T16:53:37.848Z"
   },
   {
    "duration": 7,
    "start_time": "2024-02-16T16:53:37.917Z"
   },
   {
    "duration": 10,
    "start_time": "2024-02-16T16:53:37.926Z"
   },
   {
    "duration": 145,
    "start_time": "2024-02-16T16:53:37.938Z"
   },
   {
    "duration": 8,
    "start_time": "2024-02-16T16:53:38.085Z"
   },
   {
    "duration": 13,
    "start_time": "2024-02-16T16:53:38.095Z"
   },
   {
    "duration": 304,
    "start_time": "2024-02-16T16:53:38.110Z"
   },
   {
    "duration": 8,
    "start_time": "2024-02-16T16:53:38.416Z"
   },
   {
    "duration": 11,
    "start_time": "2024-02-16T16:53:38.425Z"
   },
   {
    "duration": 27,
    "start_time": "2024-02-16T16:53:38.438Z"
   },
   {
    "duration": 9,
    "start_time": "2024-02-16T16:53:38.467Z"
   },
   {
    "duration": 9,
    "start_time": "2024-02-16T16:53:39.822Z"
   },
   {
    "duration": 11,
    "start_time": "2024-02-16T16:53:48.356Z"
   },
   {
    "duration": 7,
    "start_time": "2024-02-16T16:56:21.601Z"
   },
   {
    "duration": 4,
    "start_time": "2024-02-16T16:57:47.475Z"
   },
   {
    "duration": 11,
    "start_time": "2024-02-16T16:58:50.125Z"
   },
   {
    "duration": 275,
    "start_time": "2024-02-16T17:00:02.168Z"
   },
   {
    "duration": 165,
    "start_time": "2024-02-16T17:00:11.654Z"
   },
   {
    "duration": 9,
    "start_time": "2024-02-16T17:05:19.874Z"
   },
   {
    "duration": 24,
    "start_time": "2024-02-16T17:24:03.706Z"
   },
   {
    "duration": 12,
    "start_time": "2024-02-16T17:26:51.845Z"
   },
   {
    "duration": 10,
    "start_time": "2024-02-16T17:27:01.290Z"
   },
   {
    "duration": 10,
    "start_time": "2024-02-16T17:27:07.128Z"
   },
   {
    "duration": 6,
    "start_time": "2024-02-16T17:27:11.603Z"
   },
   {
    "duration": 17,
    "start_time": "2024-02-16T17:27:35.286Z"
   },
   {
    "duration": 15,
    "start_time": "2024-02-16T17:27:49.595Z"
   },
   {
    "duration": 130,
    "start_time": "2024-02-16T17:34:46.978Z"
   },
   {
    "duration": 143,
    "start_time": "2024-02-16T17:35:10.689Z"
   },
   {
    "duration": 174,
    "start_time": "2024-02-16T17:35:58.180Z"
   },
   {
    "duration": 158,
    "start_time": "2024-02-16T17:36:04.518Z"
   },
   {
    "duration": 264,
    "start_time": "2024-02-16T17:38:29.833Z"
   },
   {
    "duration": 169,
    "start_time": "2024-02-16T17:38:36.777Z"
   },
   {
    "duration": 167,
    "start_time": "2024-02-16T17:40:47.415Z"
   },
   {
    "duration": 169,
    "start_time": "2024-02-16T17:41:17.911Z"
   },
   {
    "duration": 15,
    "start_time": "2024-02-16T18:20:25.339Z"
   },
   {
    "duration": 18,
    "start_time": "2024-02-16T18:20:39.162Z"
   },
   {
    "duration": 30,
    "start_time": "2024-02-16T18:20:47.591Z"
   },
   {
    "duration": 23,
    "start_time": "2024-02-16T18:22:13.757Z"
   },
   {
    "duration": 18,
    "start_time": "2024-02-16T18:22:58.153Z"
   },
   {
    "duration": 22,
    "start_time": "2024-02-16T18:23:03.476Z"
   },
   {
    "duration": 22,
    "start_time": "2024-02-16T18:27:29.249Z"
   },
   {
    "duration": 19,
    "start_time": "2024-02-16T18:30:14.383Z"
   },
   {
    "duration": 23,
    "start_time": "2024-02-16T18:32:29.374Z"
   },
   {
    "duration": 23,
    "start_time": "2024-02-16T18:33:24.212Z"
   },
   {
    "duration": 27,
    "start_time": "2024-02-16T18:33:40.625Z"
   },
   {
    "duration": 1496,
    "start_time": "2024-02-16T18:33:55.708Z"
   },
   {
    "duration": 21,
    "start_time": "2024-02-16T18:35:41.251Z"
   },
   {
    "duration": 28,
    "start_time": "2024-02-16T18:38:56.482Z"
   },
   {
    "duration": 26,
    "start_time": "2024-02-16T18:42:09.406Z"
   },
   {
    "duration": 26,
    "start_time": "2024-02-16T18:42:29.257Z"
   },
   {
    "duration": 27,
    "start_time": "2024-02-16T18:43:26.367Z"
   },
   {
    "duration": 41,
    "start_time": "2024-02-16T18:43:37.712Z"
   },
   {
    "duration": 28,
    "start_time": "2024-02-16T18:44:10.051Z"
   },
   {
    "duration": 23,
    "start_time": "2024-02-16T18:45:05.682Z"
   },
   {
    "duration": 1783,
    "start_time": "2024-02-16T18:45:15.524Z"
   },
   {
    "duration": 1766,
    "start_time": "2024-02-16T18:45:20.637Z"
   },
   {
    "duration": 1703,
    "start_time": "2024-02-16T18:45:27.834Z"
   },
   {
    "duration": 15,
    "start_time": "2024-02-16T18:45:44.014Z"
   },
   {
    "duration": 18,
    "start_time": "2024-02-16T18:46:52.208Z"
   },
   {
    "duration": 15,
    "start_time": "2024-02-16T18:47:34.339Z"
   },
   {
    "duration": 26,
    "start_time": "2024-02-16T18:48:32.697Z"
   },
   {
    "duration": 25,
    "start_time": "2024-02-16T18:48:58.958Z"
   },
   {
    "duration": 24,
    "start_time": "2024-02-16T18:49:16.897Z"
   },
   {
    "duration": 22,
    "start_time": "2024-02-16T18:49:39.728Z"
   },
   {
    "duration": 16,
    "start_time": "2024-02-16T18:51:17.105Z"
   },
   {
    "duration": 14,
    "start_time": "2024-02-16T18:51:53.127Z"
   },
   {
    "duration": 22,
    "start_time": "2024-02-16T18:51:59.250Z"
   },
   {
    "duration": 8,
    "start_time": "2024-02-16T18:55:14.174Z"
   },
   {
    "duration": 2,
    "start_time": "2024-02-16T18:55:41.409Z"
   },
   {
    "duration": 6,
    "start_time": "2024-02-16T18:55:48.964Z"
   },
   {
    "duration": 11,
    "start_time": "2024-02-16T18:56:03.988Z"
   },
   {
    "duration": 25,
    "start_time": "2024-02-16T18:56:52.435Z"
   },
   {
    "duration": 23,
    "start_time": "2024-02-16T18:57:15.602Z"
   },
   {
    "duration": 15,
    "start_time": "2024-02-16T18:57:37.360Z"
   },
   {
    "duration": 22,
    "start_time": "2024-02-16T18:57:48.845Z"
   },
   {
    "duration": 4,
    "start_time": "2024-02-16T18:59:06.586Z"
   },
   {
    "duration": 12,
    "start_time": "2024-02-16T19:00:07.405Z"
   },
   {
    "duration": 6,
    "start_time": "2024-02-16T19:00:10.639Z"
   },
   {
    "duration": 9,
    "start_time": "2024-02-16T19:00:12.858Z"
   },
   {
    "duration": 3,
    "start_time": "2024-02-16T19:02:22.167Z"
   },
   {
    "duration": 88,
    "start_time": "2024-02-16T19:02:22.172Z"
   },
   {
    "duration": 8,
    "start_time": "2024-02-16T19:02:22.262Z"
   },
   {
    "duration": 19,
    "start_time": "2024-02-16T19:02:22.271Z"
   },
   {
    "duration": 185,
    "start_time": "2024-02-16T19:02:22.292Z"
   },
   {
    "duration": 8,
    "start_time": "2024-02-16T19:02:22.478Z"
   },
   {
    "duration": 29,
    "start_time": "2024-02-16T19:02:22.488Z"
   },
   {
    "duration": 446,
    "start_time": "2024-02-16T19:02:22.519Z"
   },
   {
    "duration": 7,
    "start_time": "2024-02-16T19:02:22.967Z"
   },
   {
    "duration": 8,
    "start_time": "2024-02-16T19:02:28.710Z"
   },
   {
    "duration": 5,
    "start_time": "2024-02-16T19:02:31.358Z"
   },
   {
    "duration": 9,
    "start_time": "2024-02-16T19:02:33.759Z"
   },
   {
    "duration": 8,
    "start_time": "2024-02-16T19:02:38.389Z"
   },
   {
    "duration": 5,
    "start_time": "2024-02-16T19:02:52.903Z"
   },
   {
    "duration": 3,
    "start_time": "2024-02-16T19:03:14.992Z"
   },
   {
    "duration": 68,
    "start_time": "2024-02-16T19:03:14.996Z"
   },
   {
    "duration": 8,
    "start_time": "2024-02-16T19:03:15.066Z"
   },
   {
    "duration": 31,
    "start_time": "2024-02-16T19:03:15.076Z"
   },
   {
    "duration": 154,
    "start_time": "2024-02-16T19:03:15.108Z"
   },
   {
    "duration": 8,
    "start_time": "2024-02-16T19:03:15.264Z"
   },
   {
    "duration": 11,
    "start_time": "2024-02-16T19:03:15.274Z"
   },
   {
    "duration": 300,
    "start_time": "2024-02-16T19:03:15.286Z"
   },
   {
    "duration": 7,
    "start_time": "2024-02-16T19:03:15.588Z"
   },
   {
    "duration": 12,
    "start_time": "2024-02-16T19:03:15.598Z"
   },
   {
    "duration": 6,
    "start_time": "2024-02-16T19:03:15.611Z"
   },
   {
    "duration": 8,
    "start_time": "2024-02-16T19:03:15.618Z"
   },
   {
    "duration": 22,
    "start_time": "2024-02-16T19:03:15.628Z"
   },
   {
    "duration": 3,
    "start_time": "2024-02-16T19:03:15.665Z"
   },
   {
    "duration": 10,
    "start_time": "2024-02-16T19:03:15.670Z"
   },
   {
    "duration": 14,
    "start_time": "2024-02-16T19:03:15.682Z"
   },
   {
    "duration": 4,
    "start_time": "2024-02-16T19:03:15.698Z"
   },
   {
    "duration": 20,
    "start_time": "2024-02-16T19:03:15.704Z"
   },
   {
    "duration": 40,
    "start_time": "2024-02-16T19:03:15.726Z"
   },
   {
    "duration": 12,
    "start_time": "2024-02-16T19:03:15.768Z"
   },
   {
    "duration": 7,
    "start_time": "2024-02-16T19:03:15.782Z"
   },
   {
    "duration": 4,
    "start_time": "2024-02-16T19:03:15.791Z"
   },
   {
    "duration": 14,
    "start_time": "2024-02-16T19:03:15.796Z"
   },
   {
    "duration": 5,
    "start_time": "2024-02-16T19:03:15.812Z"
   },
   {
    "duration": 285,
    "start_time": "2024-02-16T19:03:15.818Z"
   },
   {
    "duration": 163,
    "start_time": "2024-02-16T19:03:16.105Z"
   },
   {
    "duration": 246,
    "start_time": "2024-02-16T19:03:16.269Z"
   },
   {
    "duration": 153,
    "start_time": "2024-02-16T19:03:16.517Z"
   },
   {
    "duration": 10,
    "start_time": "2024-02-16T19:03:16.672Z"
   },
   {
    "duration": 0,
    "start_time": "2024-02-16T19:03:16.683Z"
   },
   {
    "duration": 0,
    "start_time": "2024-02-16T19:03:16.685Z"
   },
   {
    "duration": 0,
    "start_time": "2024-02-16T19:03:16.686Z"
   },
   {
    "duration": 0,
    "start_time": "2024-02-16T19:03:16.687Z"
   },
   {
    "duration": 0,
    "start_time": "2024-02-16T19:03:16.688Z"
   },
   {
    "duration": 0,
    "start_time": "2024-02-16T19:03:16.689Z"
   },
   {
    "duration": 0,
    "start_time": "2024-02-16T19:03:16.690Z"
   },
   {
    "duration": 0,
    "start_time": "2024-02-16T19:03:16.691Z"
   },
   {
    "duration": 0,
    "start_time": "2024-02-16T19:03:16.692Z"
   },
   {
    "duration": 0,
    "start_time": "2024-02-16T19:03:16.693Z"
   },
   {
    "duration": 22,
    "start_time": "2024-02-16T19:03:21.788Z"
   },
   {
    "duration": 8,
    "start_time": "2024-02-16T19:03:32.315Z"
   },
   {
    "duration": 3,
    "start_time": "2024-02-16T19:03:39.518Z"
   },
   {
    "duration": 75,
    "start_time": "2024-02-16T19:03:39.523Z"
   },
   {
    "duration": 9,
    "start_time": "2024-02-16T19:03:39.600Z"
   },
   {
    "duration": 25,
    "start_time": "2024-02-16T19:03:39.611Z"
   },
   {
    "duration": 170,
    "start_time": "2024-02-16T19:03:39.638Z"
   },
   {
    "duration": 10,
    "start_time": "2024-02-16T19:03:39.811Z"
   },
   {
    "duration": 52,
    "start_time": "2024-02-16T19:03:39.823Z"
   },
   {
    "duration": 260,
    "start_time": "2024-02-16T19:03:39.876Z"
   },
   {
    "duration": 6,
    "start_time": "2024-02-16T19:03:40.137Z"
   },
   {
    "duration": 22,
    "start_time": "2024-02-16T19:03:40.145Z"
   },
   {
    "duration": 4,
    "start_time": "2024-02-16T19:03:40.168Z"
   },
   {
    "duration": 8,
    "start_time": "2024-02-16T19:03:40.174Z"
   },
   {
    "duration": 5,
    "start_time": "2024-02-16T19:03:40.184Z"
   },
   {
    "duration": 8,
    "start_time": "2024-02-16T19:03:40.192Z"
   },
   {
    "duration": 18,
    "start_time": "2024-02-16T19:03:40.201Z"
   },
   {
    "duration": 15,
    "start_time": "2024-02-16T19:03:40.220Z"
   },
   {
    "duration": 30,
    "start_time": "2024-02-16T19:03:40.237Z"
   },
   {
    "duration": 8,
    "start_time": "2024-02-16T19:03:40.269Z"
   },
   {
    "duration": 6,
    "start_time": "2024-02-16T19:03:40.278Z"
   },
   {
    "duration": 10,
    "start_time": "2024-02-16T19:03:40.285Z"
   },
   {
    "duration": 5,
    "start_time": "2024-02-16T19:03:40.297Z"
   },
   {
    "duration": 5,
    "start_time": "2024-02-16T19:03:40.303Z"
   },
   {
    "duration": 14,
    "start_time": "2024-02-16T19:03:43.400Z"
   },
   {
    "duration": 11,
    "start_time": "2024-02-16T19:04:21.357Z"
   },
   {
    "duration": 141,
    "start_time": "2024-02-16T19:04:25.085Z"
   },
   {
    "duration": 8,
    "start_time": "2024-02-16T19:04:30.876Z"
   },
   {
    "duration": 19,
    "start_time": "2024-02-16T19:05:00.970Z"
   },
   {
    "duration": 24,
    "start_time": "2024-02-16T19:05:30.389Z"
   },
   {
    "duration": 40,
    "start_time": "2024-02-16T19:06:30.676Z"
   },
   {
    "duration": 61,
    "start_time": "2024-02-16T19:10:06.527Z"
   },
   {
    "duration": 238,
    "start_time": "2024-02-16T19:10:23.861Z"
   },
   {
    "duration": 30,
    "start_time": "2024-02-16T19:10:33.030Z"
   },
   {
    "duration": 57,
    "start_time": "2024-02-16T19:10:44.366Z"
   },
   {
    "duration": 30,
    "start_time": "2024-02-16T19:12:26.965Z"
   },
   {
    "duration": 38,
    "start_time": "2024-02-16T19:15:43.863Z"
   },
   {
    "duration": 38,
    "start_time": "2024-02-16T19:16:09.895Z"
   },
   {
    "duration": 1169,
    "start_time": "2024-02-16T19:16:18.960Z"
   },
   {
    "duration": 36,
    "start_time": "2024-02-16T19:16:25.344Z"
   },
   {
    "duration": 73,
    "start_time": "2024-02-16T19:16:34.490Z"
   },
   {
    "duration": 69,
    "start_time": "2024-02-16T19:16:42.084Z"
   },
   {
    "duration": 1515,
    "start_time": "2024-02-16T19:16:49.484Z"
   },
   {
    "duration": 39,
    "start_time": "2024-02-16T19:19:11.544Z"
   },
   {
    "duration": 30,
    "start_time": "2024-02-16T19:19:43.037Z"
   },
   {
    "duration": 36,
    "start_time": "2024-02-16T19:20:36.022Z"
   },
   {
    "duration": 26,
    "start_time": "2024-02-16T19:21:57.379Z"
   },
   {
    "duration": 24,
    "start_time": "2024-02-16T19:22:03.389Z"
   },
   {
    "duration": 22,
    "start_time": "2024-02-16T19:22:42.473Z"
   },
   {
    "duration": 34,
    "start_time": "2024-02-16T19:22:52.867Z"
   },
   {
    "duration": 34,
    "start_time": "2024-02-16T19:23:32.294Z"
   },
   {
    "duration": 36,
    "start_time": "2024-02-16T19:23:43.390Z"
   },
   {
    "duration": 31,
    "start_time": "2024-02-16T19:24:44.149Z"
   },
   {
    "duration": 29,
    "start_time": "2024-02-16T19:25:09.419Z"
   },
   {
    "duration": 30,
    "start_time": "2024-02-16T19:25:24.084Z"
   },
   {
    "duration": 32,
    "start_time": "2024-02-16T19:25:30.719Z"
   },
   {
    "duration": 37,
    "start_time": "2024-02-16T19:28:46.219Z"
   },
   {
    "duration": 40,
    "start_time": "2024-02-16T19:38:09.669Z"
   },
   {
    "duration": 406,
    "start_time": "2024-02-16T19:47:35.270Z"
   },
   {
    "duration": 13,
    "start_time": "2024-02-16T19:48:50.631Z"
   },
   {
    "duration": 5,
    "start_time": "2024-02-16T19:50:55.318Z"
   },
   {
    "duration": 5,
    "start_time": "2024-02-16T19:51:08.366Z"
   },
   {
    "duration": 5,
    "start_time": "2024-02-16T19:51:12.476Z"
   },
   {
    "duration": 5,
    "start_time": "2024-02-16T19:52:06.830Z"
   },
   {
    "duration": 5,
    "start_time": "2024-02-16T19:52:22.308Z"
   },
   {
    "duration": 5,
    "start_time": "2024-02-16T19:54:58.524Z"
   },
   {
    "duration": 5,
    "start_time": "2024-02-16T19:55:29.599Z"
   },
   {
    "duration": 9,
    "start_time": "2024-02-16T19:55:55.594Z"
   },
   {
    "duration": 8,
    "start_time": "2024-02-16T19:56:13.900Z"
   },
   {
    "duration": 3,
    "start_time": "2024-02-16T19:56:34.796Z"
   },
   {
    "duration": 5,
    "start_time": "2024-02-16T19:56:37.757Z"
   },
   {
    "duration": 6,
    "start_time": "2024-02-16T19:57:01.246Z"
   },
   {
    "duration": 6,
    "start_time": "2024-02-16T19:58:59.361Z"
   },
   {
    "duration": 9,
    "start_time": "2024-02-16T19:59:49.327Z"
   },
   {
    "duration": 8,
    "start_time": "2024-02-16T20:00:00.816Z"
   },
   {
    "duration": 8,
    "start_time": "2024-02-16T20:00:09.212Z"
   },
   {
    "duration": 6,
    "start_time": "2024-02-16T20:00:16.683Z"
   },
   {
    "duration": 6,
    "start_time": "2024-02-16T20:02:05.386Z"
   },
   {
    "duration": 5,
    "start_time": "2024-02-16T20:02:33.698Z"
   },
   {
    "duration": 6,
    "start_time": "2024-02-16T20:04:00.095Z"
   },
   {
    "duration": 5,
    "start_time": "2024-02-16T20:08:22.740Z"
   },
   {
    "duration": 4,
    "start_time": "2024-02-16T20:10:16.191Z"
   },
   {
    "duration": 6,
    "start_time": "2024-02-16T20:10:39.588Z"
   },
   {
    "duration": 5,
    "start_time": "2024-02-16T20:10:53.125Z"
   },
   {
    "duration": 5,
    "start_time": "2024-02-16T20:10:57.471Z"
   },
   {
    "duration": 5,
    "start_time": "2024-02-16T20:11:31.182Z"
   },
   {
    "duration": 5,
    "start_time": "2024-02-16T20:11:38.633Z"
   },
   {
    "duration": 5,
    "start_time": "2024-02-16T20:12:43.112Z"
   },
   {
    "duration": 6,
    "start_time": "2024-02-16T20:13:05.759Z"
   },
   {
    "duration": 5,
    "start_time": "2024-02-16T20:13:49.794Z"
   },
   {
    "duration": 10,
    "start_time": "2024-02-16T20:18:41.723Z"
   },
   {
    "duration": 4,
    "start_time": "2024-02-16T20:18:59.254Z"
   },
   {
    "duration": 5,
    "start_time": "2024-02-16T20:19:03.627Z"
   },
   {
    "duration": 50,
    "start_time": "2024-02-18T08:15:26.847Z"
   },
   {
    "duration": 886,
    "start_time": "2024-02-18T08:15:30.765Z"
   },
   {
    "duration": 299,
    "start_time": "2024-02-18T08:15:31.654Z"
   },
   {
    "duration": 15,
    "start_time": "2024-02-18T08:15:31.954Z"
   },
   {
    "duration": 40,
    "start_time": "2024-02-18T08:15:31.971Z"
   },
   {
    "duration": 651,
    "start_time": "2024-02-18T08:15:32.013Z"
   },
   {
    "duration": 15,
    "start_time": "2024-02-18T08:15:32.666Z"
   },
   {
    "duration": 19,
    "start_time": "2024-02-18T08:15:32.683Z"
   },
   {
    "duration": 313,
    "start_time": "2024-02-18T08:15:32.704Z"
   },
   {
    "duration": 7,
    "start_time": "2024-02-18T08:15:33.018Z"
   },
   {
    "duration": 34,
    "start_time": "2024-02-18T08:15:33.027Z"
   },
   {
    "duration": 6,
    "start_time": "2024-02-18T08:15:33.063Z"
   },
   {
    "duration": 10,
    "start_time": "2024-02-18T08:15:33.071Z"
   },
   {
    "duration": 5,
    "start_time": "2024-02-18T08:15:33.083Z"
   },
   {
    "duration": 5,
    "start_time": "2024-02-18T08:15:33.089Z"
   },
   {
    "duration": 9,
    "start_time": "2024-02-18T08:15:33.095Z"
   },
   {
    "duration": 16,
    "start_time": "2024-02-18T08:15:33.105Z"
   },
   {
    "duration": 4,
    "start_time": "2024-02-18T08:15:33.122Z"
   },
   {
    "duration": 9,
    "start_time": "2024-02-18T08:15:33.127Z"
   },
   {
    "duration": 38,
    "start_time": "2024-02-18T08:15:33.138Z"
   },
   {
    "duration": 9,
    "start_time": "2024-02-18T08:15:33.177Z"
   },
   {
    "duration": 5,
    "start_time": "2024-02-18T08:15:33.187Z"
   },
   {
    "duration": 4,
    "start_time": "2024-02-18T08:15:33.193Z"
   },
   {
    "duration": 17,
    "start_time": "2024-02-18T08:15:33.198Z"
   },
   {
    "duration": 4,
    "start_time": "2024-02-18T08:15:33.217Z"
   },
   {
    "duration": 300,
    "start_time": "2024-02-18T08:15:33.222Z"
   },
   {
    "duration": 166,
    "start_time": "2024-02-18T08:15:33.524Z"
   },
   {
    "duration": 261,
    "start_time": "2024-02-18T08:15:33.691Z"
   },
   {
    "duration": 222,
    "start_time": "2024-02-18T08:15:33.955Z"
   },
   {
    "duration": 2,
    "start_time": "2024-02-18T08:15:34.179Z"
   },
   {
    "duration": 15,
    "start_time": "2024-02-18T08:15:34.182Z"
   },
   {
    "duration": 179,
    "start_time": "2024-02-18T08:15:34.199Z"
   },
   {
    "duration": 8,
    "start_time": "2024-02-18T08:15:34.380Z"
   },
   {
    "duration": 100,
    "start_time": "2024-02-18T08:15:34.390Z"
   },
   {
    "duration": 0,
    "start_time": "2024-02-18T08:15:34.491Z"
   },
   {
    "duration": 0,
    "start_time": "2024-02-18T08:15:34.492Z"
   },
   {
    "duration": 0,
    "start_time": "2024-02-18T08:15:34.493Z"
   },
   {
    "duration": 0,
    "start_time": "2024-02-18T08:15:34.495Z"
   },
   {
    "duration": 0,
    "start_time": "2024-02-18T08:15:34.496Z"
   },
   {
    "duration": 0,
    "start_time": "2024-02-18T08:15:34.497Z"
   },
   {
    "duration": 0,
    "start_time": "2024-02-18T08:15:34.498Z"
   },
   {
    "duration": 0,
    "start_time": "2024-02-18T08:15:34.499Z"
   },
   {
    "duration": 0,
    "start_time": "2024-02-18T08:15:34.500Z"
   },
   {
    "duration": 0,
    "start_time": "2024-02-18T08:15:34.501Z"
   },
   {
    "duration": 0,
    "start_time": "2024-02-18T08:15:34.503Z"
   },
   {
    "duration": 0,
    "start_time": "2024-02-18T08:15:34.504Z"
   },
   {
    "duration": 0,
    "start_time": "2024-02-18T08:15:34.505Z"
   },
   {
    "duration": 58,
    "start_time": "2024-02-18T08:16:02.453Z"
   },
   {
    "duration": 12,
    "start_time": "2024-02-18T08:16:12.714Z"
   },
   {
    "duration": 3,
    "start_time": "2024-02-18T08:16:19.599Z"
   },
   {
    "duration": 73,
    "start_time": "2024-02-18T08:16:19.607Z"
   },
   {
    "duration": 8,
    "start_time": "2024-02-18T08:16:19.682Z"
   },
   {
    "duration": 21,
    "start_time": "2024-02-18T08:16:19.692Z"
   },
   {
    "duration": 201,
    "start_time": "2024-02-18T08:16:19.715Z"
   },
   {
    "duration": 8,
    "start_time": "2024-02-18T08:16:19.918Z"
   },
   {
    "duration": 46,
    "start_time": "2024-02-18T08:16:19.927Z"
   },
   {
    "duration": 335,
    "start_time": "2024-02-18T08:16:19.975Z"
   },
   {
    "duration": 8,
    "start_time": "2024-02-18T08:16:20.312Z"
   },
   {
    "duration": 9,
    "start_time": "2024-02-18T08:16:20.321Z"
   },
   {
    "duration": 18,
    "start_time": "2024-02-18T08:16:20.332Z"
   },
   {
    "duration": 11,
    "start_time": "2024-02-18T08:16:20.372Z"
   },
   {
    "duration": 6,
    "start_time": "2024-02-18T08:16:20.384Z"
   },
   {
    "duration": 7,
    "start_time": "2024-02-18T08:16:20.391Z"
   },
   {
    "duration": 32,
    "start_time": "2024-02-18T08:16:20.400Z"
   },
   {
    "duration": 12,
    "start_time": "2024-02-18T08:16:20.434Z"
   },
   {
    "duration": 10,
    "start_time": "2024-02-18T08:16:20.448Z"
   },
   {
    "duration": 9,
    "start_time": "2024-02-18T08:16:20.472Z"
   },
   {
    "duration": 6,
    "start_time": "2024-02-18T08:16:20.482Z"
   },
   {
    "duration": 11,
    "start_time": "2024-02-18T08:16:20.490Z"
   },
   {
    "duration": 6,
    "start_time": "2024-02-18T08:16:20.502Z"
   },
   {
    "duration": 11,
    "start_time": "2024-02-18T08:16:20.510Z"
   },
   {
    "duration": 56,
    "start_time": "2024-02-18T08:16:20.523Z"
   },
   {
    "duration": 4,
    "start_time": "2024-02-18T08:16:20.581Z"
   },
   {
    "duration": 261,
    "start_time": "2024-02-18T08:16:20.587Z"
   },
   {
    "duration": 161,
    "start_time": "2024-02-18T08:16:20.850Z"
   },
   {
    "duration": 268,
    "start_time": "2024-02-18T08:16:21.014Z"
   },
   {
    "duration": 173,
    "start_time": "2024-02-18T08:16:21.284Z"
   },
   {
    "duration": 3,
    "start_time": "2024-02-18T08:16:21.460Z"
   },
   {
    "duration": 17,
    "start_time": "2024-02-18T08:16:21.464Z"
   },
   {
    "duration": 239,
    "start_time": "2024-02-18T08:16:21.482Z"
   },
   {
    "duration": 7,
    "start_time": "2024-02-18T08:16:21.723Z"
   },
   {
    "duration": 99,
    "start_time": "2024-02-18T08:16:21.731Z"
   },
   {
    "duration": 0,
    "start_time": "2024-02-18T08:16:21.831Z"
   },
   {
    "duration": 0,
    "start_time": "2024-02-18T08:16:21.832Z"
   },
   {
    "duration": 0,
    "start_time": "2024-02-18T08:16:21.833Z"
   },
   {
    "duration": 0,
    "start_time": "2024-02-18T08:16:21.835Z"
   },
   {
    "duration": 0,
    "start_time": "2024-02-18T08:16:21.836Z"
   },
   {
    "duration": 0,
    "start_time": "2024-02-18T08:16:21.837Z"
   },
   {
    "duration": 0,
    "start_time": "2024-02-18T08:16:21.838Z"
   },
   {
    "duration": 0,
    "start_time": "2024-02-18T08:16:21.839Z"
   },
   {
    "duration": 0,
    "start_time": "2024-02-18T08:16:21.840Z"
   },
   {
    "duration": 0,
    "start_time": "2024-02-18T08:16:21.841Z"
   },
   {
    "duration": 0,
    "start_time": "2024-02-18T08:16:21.842Z"
   },
   {
    "duration": 0,
    "start_time": "2024-02-18T08:16:21.843Z"
   },
   {
    "duration": 0,
    "start_time": "2024-02-18T08:16:21.844Z"
   },
   {
    "duration": 3,
    "start_time": "2024-02-18T08:16:59.951Z"
   },
   {
    "duration": 70,
    "start_time": "2024-02-18T08:16:59.956Z"
   },
   {
    "duration": 8,
    "start_time": "2024-02-18T08:17:00.027Z"
   },
   {
    "duration": 52,
    "start_time": "2024-02-18T08:17:00.037Z"
   },
   {
    "duration": 184,
    "start_time": "2024-02-18T08:17:00.091Z"
   },
   {
    "duration": 9,
    "start_time": "2024-02-18T08:17:00.276Z"
   },
   {
    "duration": 75,
    "start_time": "2024-02-18T08:17:00.287Z"
   },
   {
    "duration": 323,
    "start_time": "2024-02-18T08:17:00.364Z"
   },
   {
    "duration": 7,
    "start_time": "2024-02-18T08:17:00.688Z"
   },
   {
    "duration": 26,
    "start_time": "2024-02-18T08:17:00.698Z"
   },
   {
    "duration": 22,
    "start_time": "2024-02-18T08:17:00.726Z"
   },
   {
    "duration": 41,
    "start_time": "2024-02-18T08:17:00.750Z"
   },
   {
    "duration": 42,
    "start_time": "2024-02-18T08:17:00.792Z"
   },
   {
    "duration": 56,
    "start_time": "2024-02-18T08:17:00.836Z"
   },
   {
    "duration": 69,
    "start_time": "2024-02-18T08:17:00.893Z"
   },
   {
    "duration": 35,
    "start_time": "2024-02-18T08:17:00.963Z"
   },
   {
    "duration": 50,
    "start_time": "2024-02-18T08:17:01.000Z"
   },
   {
    "duration": 35,
    "start_time": "2024-02-18T08:17:01.051Z"
   },
   {
    "duration": 25,
    "start_time": "2024-02-18T08:17:01.088Z"
   },
   {
    "duration": 33,
    "start_time": "2024-02-18T08:17:01.114Z"
   },
   {
    "duration": 77,
    "start_time": "2024-02-18T08:17:01.149Z"
   },
   {
    "duration": 41,
    "start_time": "2024-02-18T08:17:01.228Z"
   },
   {
    "duration": 62,
    "start_time": "2024-02-18T08:17:01.271Z"
   },
   {
    "duration": 56,
    "start_time": "2024-02-18T08:17:01.335Z"
   },
   {
    "duration": 281,
    "start_time": "2024-02-18T08:17:01.393Z"
   },
   {
    "duration": 161,
    "start_time": "2024-02-18T08:17:01.676Z"
   },
   {
    "duration": 254,
    "start_time": "2024-02-18T08:17:01.839Z"
   },
   {
    "duration": 169,
    "start_time": "2024-02-18T08:17:02.096Z"
   },
   {
    "duration": 6,
    "start_time": "2024-02-18T08:17:02.267Z"
   },
   {
    "duration": 13,
    "start_time": "2024-02-18T08:17:02.274Z"
   },
   {
    "duration": 172,
    "start_time": "2024-02-18T08:17:02.288Z"
   },
   {
    "duration": 15,
    "start_time": "2024-02-18T08:17:02.462Z"
   },
   {
    "duration": 26,
    "start_time": "2024-02-18T08:17:02.478Z"
   },
   {
    "duration": 16,
    "start_time": "2024-02-18T08:17:02.505Z"
   },
   {
    "duration": 321,
    "start_time": "2024-02-18T08:17:02.523Z"
   },
   {
    "duration": 204,
    "start_time": "2024-02-18T08:17:02.846Z"
   },
   {
    "duration": 211,
    "start_time": "2024-02-18T08:17:03.051Z"
   },
   {
    "duration": 221,
    "start_time": "2024-02-18T08:17:03.264Z"
   },
   {
    "duration": 48,
    "start_time": "2024-02-18T08:17:03.487Z"
   },
   {
    "duration": 4,
    "start_time": "2024-02-18T08:17:03.536Z"
   },
   {
    "duration": 34,
    "start_time": "2024-02-18T08:17:03.542Z"
   },
   {
    "duration": 6,
    "start_time": "2024-02-18T08:17:03.578Z"
   },
   {
    "duration": 6,
    "start_time": "2024-02-18T08:17:03.585Z"
   },
   {
    "duration": 5,
    "start_time": "2024-02-18T08:17:03.592Z"
   },
   {
    "duration": 13,
    "start_time": "2024-02-18T08:17:03.599Z"
   },
   {
    "duration": 6,
    "start_time": "2024-02-18T08:17:24.421Z"
   },
   {
    "duration": 7,
    "start_time": "2024-02-18T08:18:41.231Z"
   },
   {
    "duration": 151,
    "start_time": "2024-02-18T08:19:46.311Z"
   },
   {
    "duration": 8,
    "start_time": "2024-02-18T09:18:26.178Z"
   },
   {
    "duration": 7,
    "start_time": "2024-02-18T09:19:38.177Z"
   },
   {
    "duration": 4,
    "start_time": "2024-02-18T09:19:48.342Z"
   },
   {
    "duration": 5,
    "start_time": "2024-02-18T09:19:55.229Z"
   },
   {
    "duration": 5,
    "start_time": "2024-02-18T09:20:06.658Z"
   },
   {
    "duration": 5,
    "start_time": "2024-02-18T09:20:21.696Z"
   },
   {
    "duration": 5,
    "start_time": "2024-02-18T09:20:27.943Z"
   },
   {
    "duration": 11,
    "start_time": "2024-02-18T09:20:43.478Z"
   },
   {
    "duration": 6,
    "start_time": "2024-02-18T09:20:59.275Z"
   },
   {
    "duration": 5,
    "start_time": "2024-02-18T09:21:22.189Z"
   },
   {
    "duration": 5,
    "start_time": "2024-02-18T09:21:41.433Z"
   },
   {
    "duration": 5,
    "start_time": "2024-02-18T09:23:49.648Z"
   },
   {
    "duration": 5,
    "start_time": "2024-02-18T09:27:50.600Z"
   },
   {
    "duration": 4,
    "start_time": "2024-02-18T09:27:56.554Z"
   },
   {
    "duration": 4,
    "start_time": "2024-02-18T09:28:02.848Z"
   },
   {
    "duration": 5,
    "start_time": "2024-02-18T09:28:08.555Z"
   },
   {
    "duration": 5,
    "start_time": "2024-02-18T09:28:14.041Z"
   },
   {
    "duration": 5,
    "start_time": "2024-02-18T09:28:21.615Z"
   },
   {
    "duration": 5,
    "start_time": "2024-02-18T09:28:26.514Z"
   },
   {
    "duration": 5,
    "start_time": "2024-02-18T09:28:30.358Z"
   },
   {
    "duration": 4,
    "start_time": "2024-02-18T09:28:34.678Z"
   },
   {
    "duration": 11,
    "start_time": "2024-02-18T09:28:39.272Z"
   },
   {
    "duration": 4,
    "start_time": "2024-02-18T09:28:44.204Z"
   },
   {
    "duration": 5,
    "start_time": "2024-02-18T09:28:49.263Z"
   },
   {
    "duration": 4,
    "start_time": "2024-02-18T09:30:01.353Z"
   },
   {
    "duration": 6,
    "start_time": "2024-02-18T09:30:07.176Z"
   },
   {
    "duration": 14,
    "start_time": "2024-02-18T10:29:02.205Z"
   },
   {
    "duration": 10,
    "start_time": "2024-02-18T10:30:27.272Z"
   },
   {
    "duration": 9,
    "start_time": "2024-02-18T10:30:30.880Z"
   },
   {
    "duration": 2,
    "start_time": "2024-02-18T10:30:40.586Z"
   },
   {
    "duration": 79,
    "start_time": "2024-02-18T10:30:40.590Z"
   },
   {
    "duration": 8,
    "start_time": "2024-02-18T10:30:40.671Z"
   },
   {
    "duration": 11,
    "start_time": "2024-02-18T10:30:40.681Z"
   },
   {
    "duration": 185,
    "start_time": "2024-02-18T10:30:40.694Z"
   },
   {
    "duration": 8,
    "start_time": "2024-02-18T10:30:40.881Z"
   },
   {
    "duration": 15,
    "start_time": "2024-02-18T10:30:40.891Z"
   },
   {
    "duration": 308,
    "start_time": "2024-02-18T10:30:40.907Z"
   },
   {
    "duration": 7,
    "start_time": "2024-02-18T10:30:41.216Z"
   },
   {
    "duration": 9,
    "start_time": "2024-02-18T10:30:41.225Z"
   },
   {
    "duration": 5,
    "start_time": "2024-02-18T10:30:41.235Z"
   },
   {
    "duration": 19,
    "start_time": "2024-02-18T10:30:41.242Z"
   },
   {
    "duration": 5,
    "start_time": "2024-02-18T10:30:41.272Z"
   },
   {
    "duration": 16,
    "start_time": "2024-02-18T10:30:41.279Z"
   },
   {
    "duration": 14,
    "start_time": "2024-02-18T10:30:41.296Z"
   },
   {
    "duration": 18,
    "start_time": "2024-02-18T10:30:41.311Z"
   },
   {
    "duration": 5,
    "start_time": "2024-02-18T10:30:41.331Z"
   },
   {
    "duration": 39,
    "start_time": "2024-02-18T10:30:41.337Z"
   },
   {
    "duration": 6,
    "start_time": "2024-02-18T10:30:41.378Z"
   },
   {
    "duration": 11,
    "start_time": "2024-02-18T10:30:41.386Z"
   },
   {
    "duration": 5,
    "start_time": "2024-02-18T10:30:41.398Z"
   },
   {
    "duration": 20,
    "start_time": "2024-02-18T10:30:41.404Z"
   },
   {
    "duration": 19,
    "start_time": "2024-02-18T10:30:41.425Z"
   },
   {
    "duration": 4,
    "start_time": "2024-02-18T10:30:41.446Z"
   },
   {
    "duration": 269,
    "start_time": "2024-02-18T10:30:41.451Z"
   },
   {
    "duration": 159,
    "start_time": "2024-02-18T10:30:41.722Z"
   },
   {
    "duration": 408,
    "start_time": "2024-02-18T10:30:41.883Z"
   },
   {
    "duration": 169,
    "start_time": "2024-02-18T10:30:42.293Z"
   },
   {
    "duration": 9,
    "start_time": "2024-02-18T10:30:42.464Z"
   },
   {
    "duration": 13,
    "start_time": "2024-02-18T10:30:42.475Z"
   },
   {
    "duration": 173,
    "start_time": "2024-02-18T10:30:42.489Z"
   },
   {
    "duration": 15,
    "start_time": "2024-02-18T10:30:42.664Z"
   },
   {
    "duration": 32,
    "start_time": "2024-02-18T10:30:42.681Z"
   },
   {
    "duration": 21,
    "start_time": "2024-02-18T10:30:42.715Z"
   },
   {
    "duration": 180,
    "start_time": "2024-02-18T10:30:42.738Z"
   },
   {
    "duration": 199,
    "start_time": "2024-02-18T10:30:42.919Z"
   },
   {
    "duration": 198,
    "start_time": "2024-02-18T10:30:43.120Z"
   },
   {
    "duration": 247,
    "start_time": "2024-02-18T10:30:43.320Z"
   },
   {
    "duration": 45,
    "start_time": "2024-02-18T10:30:43.573Z"
   },
   {
    "duration": 5,
    "start_time": "2024-02-18T10:30:43.620Z"
   },
   {
    "duration": 4,
    "start_time": "2024-02-18T10:30:43.629Z"
   },
   {
    "duration": 14,
    "start_time": "2024-02-18T10:30:43.635Z"
   },
   {
    "duration": 23,
    "start_time": "2024-02-18T10:30:43.651Z"
   },
   {
    "duration": 7,
    "start_time": "2024-02-18T10:30:43.676Z"
   },
   {
    "duration": 12,
    "start_time": "2024-02-18T10:30:43.684Z"
   },
   {
    "duration": 9,
    "start_time": "2024-02-18T10:30:43.697Z"
   },
   {
    "duration": 7,
    "start_time": "2024-02-18T10:30:43.707Z"
   },
   {
    "duration": 8,
    "start_time": "2024-02-18T10:30:43.715Z"
   },
   {
    "duration": 4,
    "start_time": "2024-02-18T10:30:46.823Z"
   },
   {
    "duration": 5,
    "start_time": "2024-02-18T10:31:02.424Z"
   },
   {
    "duration": 103,
    "start_time": "2024-02-18T10:31:34.126Z"
   },
   {
    "duration": 5,
    "start_time": "2024-02-18T10:31:59.464Z"
   },
   {
    "duration": 6,
    "start_time": "2024-02-18T10:32:10.589Z"
   },
   {
    "duration": 5,
    "start_time": "2024-02-18T10:32:18.845Z"
   },
   {
    "duration": 4,
    "start_time": "2024-02-18T10:32:42.403Z"
   },
   {
    "duration": 4,
    "start_time": "2024-02-18T10:32:52.974Z"
   },
   {
    "duration": 5,
    "start_time": "2024-02-18T10:33:06.462Z"
   },
   {
    "duration": 5,
    "start_time": "2024-02-18T10:33:17.004Z"
   },
   {
    "duration": 5,
    "start_time": "2024-02-18T10:33:39.269Z"
   },
   {
    "duration": 5,
    "start_time": "2024-02-18T10:33:44.403Z"
   },
   {
    "duration": 5,
    "start_time": "2024-02-18T10:33:52.919Z"
   },
   {
    "duration": 5,
    "start_time": "2024-02-18T10:34:40.526Z"
   },
   {
    "duration": 5,
    "start_time": "2024-02-18T10:34:47.344Z"
   },
   {
    "duration": 5,
    "start_time": "2024-02-18T10:34:50.018Z"
   },
   {
    "duration": 5,
    "start_time": "2024-02-18T10:34:54.617Z"
   },
   {
    "duration": 5,
    "start_time": "2024-02-18T10:34:57.009Z"
   },
   {
    "duration": 5,
    "start_time": "2024-02-18T10:35:00.200Z"
   },
   {
    "duration": 5,
    "start_time": "2024-02-18T10:35:02.530Z"
   },
   {
    "duration": 5,
    "start_time": "2024-02-18T10:35:07.966Z"
   },
   {
    "duration": 4,
    "start_time": "2024-02-18T10:35:10.046Z"
   },
   {
    "duration": 7,
    "start_time": "2024-02-18T10:35:18.613Z"
   },
   {
    "duration": 5,
    "start_time": "2024-02-18T10:35:22.140Z"
   },
   {
    "duration": 6,
    "start_time": "2024-02-18T10:35:41.396Z"
   },
   {
    "duration": 5,
    "start_time": "2024-02-18T10:35:43.538Z"
   },
   {
    "duration": 5,
    "start_time": "2024-02-18T10:36:09.257Z"
   },
   {
    "duration": 10,
    "start_time": "2024-02-18T10:47:15.390Z"
   },
   {
    "duration": 174,
    "start_time": "2024-02-18T10:47:46.441Z"
   },
   {
    "duration": 104,
    "start_time": "2024-02-18T10:48:31.213Z"
   },
   {
    "duration": 2,
    "start_time": "2024-02-18T10:48:39.525Z"
   },
   {
    "duration": 179,
    "start_time": "2024-02-18T10:48:46.975Z"
   },
   {
    "duration": 3,
    "start_time": "2024-02-18T10:49:24.082Z"
   },
   {
    "duration": 1914,
    "start_time": "2024-02-18T10:49:32.604Z"
   },
   {
    "duration": 2717,
    "start_time": "2024-02-18T10:50:46.413Z"
   },
   {
    "duration": 997,
    "start_time": "2024-02-18T10:52:02.622Z"
   },
   {
    "duration": 178,
    "start_time": "2024-02-18T10:55:28.822Z"
   },
   {
    "duration": 398,
    "start_time": "2024-02-18T10:55:37.174Z"
   },
   {
    "duration": 5,
    "start_time": "2024-02-18T10:55:44.921Z"
   },
   {
    "duration": 2680,
    "start_time": "2024-02-18T10:56:14.177Z"
   },
   {
    "duration": 369,
    "start_time": "2024-02-18T10:56:27.659Z"
   },
   {
    "duration": 535,
    "start_time": "2024-02-18T10:56:37.865Z"
   },
   {
    "duration": 373,
    "start_time": "2024-02-18T10:57:12.043Z"
   },
   {
    "duration": 838,
    "start_time": "2024-02-18T10:57:38.295Z"
   },
   {
    "duration": 372,
    "start_time": "2024-02-18T10:57:50.950Z"
   },
   {
    "duration": 377,
    "start_time": "2024-02-18T10:57:53.624Z"
   },
   {
    "duration": 529,
    "start_time": "2024-02-18T10:58:14.378Z"
   },
   {
    "duration": 321,
    "start_time": "2024-02-18T10:59:03.101Z"
   },
   {
    "duration": 236,
    "start_time": "2024-02-18T10:59:18.087Z"
   },
   {
    "duration": 280,
    "start_time": "2024-02-18T10:59:30.226Z"
   },
   {
    "duration": 282,
    "start_time": "2024-02-18T10:59:39.474Z"
   },
   {
    "duration": 340,
    "start_time": "2024-02-18T11:01:49.673Z"
   },
   {
    "duration": 290,
    "start_time": "2024-02-18T11:02:12.822Z"
   },
   {
    "duration": 268,
    "start_time": "2024-02-18T11:02:54.313Z"
   },
   {
    "duration": 361,
    "start_time": "2024-02-18T11:03:38.301Z"
   },
   {
    "duration": 360,
    "start_time": "2024-02-18T11:04:41.279Z"
   },
   {
    "duration": 360,
    "start_time": "2024-02-18T11:04:52.762Z"
   },
   {
    "duration": 372,
    "start_time": "2024-02-18T11:05:01.654Z"
   },
   {
    "duration": 350,
    "start_time": "2024-02-18T11:05:06.643Z"
   },
   {
    "duration": 348,
    "start_time": "2024-02-18T11:05:13.469Z"
   },
   {
    "duration": 366,
    "start_time": "2024-02-18T11:05:21.801Z"
   },
   {
    "duration": 343,
    "start_time": "2024-02-18T11:05:28.138Z"
   },
   {
    "duration": 326,
    "start_time": "2024-02-18T11:05:37.134Z"
   },
   {
    "duration": 728,
    "start_time": "2024-02-18T11:05:50.118Z"
   },
   {
    "duration": 318,
    "start_time": "2024-02-18T11:06:02.052Z"
   },
   {
    "duration": 343,
    "start_time": "2024-02-18T11:06:26.365Z"
   },
   {
    "duration": 336,
    "start_time": "2024-02-18T11:06:44.440Z"
   },
   {
    "duration": 390,
    "start_time": "2024-02-18T11:08:08.107Z"
   },
   {
    "duration": 376,
    "start_time": "2024-02-18T11:08:34.118Z"
   },
   {
    "duration": 407,
    "start_time": "2024-02-18T11:08:56.888Z"
   },
   {
    "duration": 10,
    "start_time": "2024-02-18T12:01:41.456Z"
   },
   {
    "duration": 5,
    "start_time": "2024-02-18T12:04:09.918Z"
   },
   {
    "duration": 6,
    "start_time": "2024-02-18T12:15:14.767Z"
   },
   {
    "duration": 5,
    "start_time": "2024-02-18T12:15:25.561Z"
   },
   {
    "duration": 5,
    "start_time": "2024-02-18T12:15:35.780Z"
   },
   {
    "duration": 5,
    "start_time": "2024-02-18T12:16:37.183Z"
   },
   {
    "duration": 6,
    "start_time": "2024-02-18T12:16:42.050Z"
   },
   {
    "duration": 5,
    "start_time": "2024-02-18T12:17:05.321Z"
   },
   {
    "duration": 5,
    "start_time": "2024-02-18T12:19:09.205Z"
   },
   {
    "duration": 5,
    "start_time": "2024-02-18T12:19:21.501Z"
   },
   {
    "duration": 5,
    "start_time": "2024-02-18T12:27:36.241Z"
   },
   {
    "duration": 5,
    "start_time": "2024-02-18T12:27:49.048Z"
   },
   {
    "duration": 5,
    "start_time": "2024-02-18T12:29:01.534Z"
   },
   {
    "duration": 4,
    "start_time": "2024-02-18T12:29:06.210Z"
   },
   {
    "duration": 5,
    "start_time": "2024-02-18T12:29:42.448Z"
   },
   {
    "duration": 5,
    "start_time": "2024-02-18T12:29:48.117Z"
   },
   {
    "duration": 5,
    "start_time": "2024-02-18T12:36:47.493Z"
   },
   {
    "duration": 7,
    "start_time": "2024-02-18T12:36:50.888Z"
   },
   {
    "duration": 5,
    "start_time": "2024-02-18T12:36:57.595Z"
   },
   {
    "duration": 5,
    "start_time": "2024-02-18T12:37:00.811Z"
   },
   {
    "duration": 4,
    "start_time": "2024-02-18T12:43:16.877Z"
   },
   {
    "duration": 4,
    "start_time": "2024-02-18T12:43:30.923Z"
   },
   {
    "duration": 4,
    "start_time": "2024-02-18T12:43:41.480Z"
   },
   {
    "duration": 2,
    "start_time": "2024-02-18T12:44:18.613Z"
   },
   {
    "duration": 2,
    "start_time": "2024-02-18T12:44:21.906Z"
   },
   {
    "duration": 5,
    "start_time": "2024-02-18T12:50:50.559Z"
   },
   {
    "duration": 4,
    "start_time": "2024-02-18T12:51:09.013Z"
   },
   {
    "duration": 5,
    "start_time": "2024-02-18T12:58:24.083Z"
   },
   {
    "duration": 5,
    "start_time": "2024-02-18T12:58:31.855Z"
   },
   {
    "duration": 6,
    "start_time": "2024-02-18T13:04:46.445Z"
   },
   {
    "duration": 5,
    "start_time": "2024-02-18T13:05:02.749Z"
   },
   {
    "duration": 64,
    "start_time": "2024-02-18T16:30:57.198Z"
   },
   {
    "duration": 1231,
    "start_time": "2024-02-18T16:31:02.974Z"
   },
   {
    "duration": 256,
    "start_time": "2024-02-18T16:31:04.207Z"
   },
   {
    "duration": 11,
    "start_time": "2024-02-18T16:31:04.465Z"
   },
   {
    "duration": 36,
    "start_time": "2024-02-18T16:31:04.478Z"
   },
   {
    "duration": 204,
    "start_time": "2024-02-18T16:31:04.515Z"
   },
   {
    "duration": 9,
    "start_time": "2024-02-18T16:31:04.720Z"
   },
   {
    "duration": 37,
    "start_time": "2024-02-18T16:31:04.730Z"
   },
   {
    "duration": 310,
    "start_time": "2024-02-18T16:31:04.768Z"
   },
   {
    "duration": 7,
    "start_time": "2024-02-18T16:31:05.079Z"
   },
   {
    "duration": 107,
    "start_time": "2024-02-18T16:31:05.089Z"
   },
   {
    "duration": 66,
    "start_time": "2024-02-18T16:31:05.197Z"
   },
   {
    "duration": 108,
    "start_time": "2024-02-18T16:31:05.265Z"
   },
   {
    "duration": 354,
    "start_time": "2024-02-18T16:31:05.374Z"
   },
   {
    "duration": 190,
    "start_time": "2024-02-18T16:31:05.730Z"
   },
   {
    "duration": 122,
    "start_time": "2024-02-18T16:31:05.922Z"
   },
   {
    "duration": 83,
    "start_time": "2024-02-18T16:31:06.045Z"
   },
   {
    "duration": 22,
    "start_time": "2024-02-18T16:31:06.130Z"
   },
   {
    "duration": 14,
    "start_time": "2024-02-18T16:31:06.153Z"
   },
   {
    "duration": 10,
    "start_time": "2024-02-18T16:31:06.169Z"
   },
   {
    "duration": 17,
    "start_time": "2024-02-18T16:31:06.180Z"
   },
   {
    "duration": 21,
    "start_time": "2024-02-18T16:31:06.198Z"
   },
   {
    "duration": 31,
    "start_time": "2024-02-18T16:31:06.220Z"
   },
   {
    "duration": 28,
    "start_time": "2024-02-18T16:31:06.252Z"
   },
   {
    "duration": 5,
    "start_time": "2024-02-18T16:31:06.282Z"
   },
   {
    "duration": 241,
    "start_time": "2024-02-18T16:31:06.289Z"
   },
   {
    "duration": 178,
    "start_time": "2024-02-18T16:31:06.532Z"
   },
   {
    "duration": 5,
    "start_time": "2024-02-18T16:31:16.495Z"
   },
   {
    "duration": 239,
    "start_time": "2024-02-18T16:31:21.526Z"
   },
   {
    "duration": 140,
    "start_time": "2024-02-18T16:31:25.520Z"
   },
   {
    "duration": 168,
    "start_time": "2024-02-18T16:31:41.095Z"
   },
   {
    "duration": 259,
    "start_time": "2024-02-18T16:31:51.540Z"
   },
   {
    "duration": 4,
    "start_time": "2024-02-18T16:32:22.806Z"
   },
   {
    "duration": 169,
    "start_time": "2024-02-18T16:32:27.356Z"
   },
   {
    "duration": 173,
    "start_time": "2024-02-18T16:32:38.779Z"
   },
   {
    "duration": 167,
    "start_time": "2024-02-18T16:32:44.001Z"
   },
   {
    "duration": 5,
    "start_time": "2024-02-18T16:33:00.078Z"
   },
   {
    "duration": 1136,
    "start_time": "2024-02-18T16:34:47.457Z"
   },
   {
    "duration": 154,
    "start_time": "2024-02-18T16:39:57.266Z"
   },
   {
    "duration": 10,
    "start_time": "2024-02-18T16:57:57.088Z"
   },
   {
    "duration": 3,
    "start_time": "2024-02-18T16:58:03.851Z"
   },
   {
    "duration": 236,
    "start_time": "2024-02-18T16:58:03.855Z"
   },
   {
    "duration": 8,
    "start_time": "2024-02-18T16:58:04.093Z"
   },
   {
    "duration": 51,
    "start_time": "2024-02-18T16:58:04.103Z"
   },
   {
    "duration": 164,
    "start_time": "2024-02-18T16:58:04.157Z"
   },
   {
    "duration": 8,
    "start_time": "2024-02-18T16:58:04.322Z"
   },
   {
    "duration": 25,
    "start_time": "2024-02-18T16:58:04.331Z"
   },
   {
    "duration": 295,
    "start_time": "2024-02-18T16:58:04.357Z"
   },
   {
    "duration": 11,
    "start_time": "2024-02-18T16:58:04.655Z"
   },
   {
    "duration": 25,
    "start_time": "2024-02-18T16:58:04.668Z"
   },
   {
    "duration": 24,
    "start_time": "2024-02-18T16:58:04.695Z"
   },
   {
    "duration": 49,
    "start_time": "2024-02-18T16:58:04.720Z"
   },
   {
    "duration": 39,
    "start_time": "2024-02-18T16:58:04.771Z"
   },
   {
    "duration": 18,
    "start_time": "2024-02-18T16:58:04.813Z"
   },
   {
    "duration": 30,
    "start_time": "2024-02-18T16:58:04.832Z"
   },
   {
    "duration": 28,
    "start_time": "2024-02-18T16:58:04.864Z"
   },
   {
    "duration": 41,
    "start_time": "2024-02-18T16:58:04.894Z"
   },
   {
    "duration": 29,
    "start_time": "2024-02-18T16:58:04.937Z"
   },
   {
    "duration": 23,
    "start_time": "2024-02-18T16:58:04.968Z"
   },
   {
    "duration": 32,
    "start_time": "2024-02-18T16:58:04.993Z"
   },
   {
    "duration": 34,
    "start_time": "2024-02-18T16:58:05.026Z"
   },
   {
    "duration": 39,
    "start_time": "2024-02-18T16:58:05.062Z"
   },
   {
    "duration": 30,
    "start_time": "2024-02-18T16:58:05.103Z"
   },
   {
    "duration": 33,
    "start_time": "2024-02-18T16:58:05.135Z"
   },
   {
    "duration": 246,
    "start_time": "2024-02-18T16:58:05.169Z"
   },
   {
    "duration": 4,
    "start_time": "2024-02-18T16:58:05.417Z"
   },
   {
    "duration": 39,
    "start_time": "2024-02-18T16:58:05.422Z"
   },
   {
    "duration": 231,
    "start_time": "2024-02-18T16:58:05.462Z"
   },
   {
    "duration": 386,
    "start_time": "2024-02-18T16:58:05.695Z"
   },
   {
    "duration": 171,
    "start_time": "2024-02-18T16:58:06.082Z"
   },
   {
    "duration": 151,
    "start_time": "2024-02-18T16:58:06.254Z"
   },
   {
    "duration": 10,
    "start_time": "2024-02-18T16:58:06.407Z"
   },
   {
    "duration": 166,
    "start_time": "2024-02-18T16:58:06.419Z"
   },
   {
    "duration": 7,
    "start_time": "2024-02-18T16:58:06.587Z"
   },
   {
    "duration": 18,
    "start_time": "2024-02-18T16:58:06.596Z"
   },
   {
    "duration": 35,
    "start_time": "2024-02-18T16:58:06.616Z"
   },
   {
    "duration": 15,
    "start_time": "2024-02-18T16:58:06.653Z"
   },
   {
    "duration": 180,
    "start_time": "2024-02-18T16:58:06.670Z"
   },
   {
    "duration": 190,
    "start_time": "2024-02-18T16:58:06.851Z"
   },
   {
    "duration": 187,
    "start_time": "2024-02-18T16:58:07.042Z"
   },
   {
    "duration": 19,
    "start_time": "2024-02-18T17:09:20.843Z"
   },
   {
    "duration": 12,
    "start_time": "2024-02-18T17:09:48.179Z"
   },
   {
    "duration": 15,
    "start_time": "2024-02-18T17:10:37.348Z"
   },
   {
    "duration": 18,
    "start_time": "2024-02-18T17:10:51.447Z"
   },
   {
    "duration": 11,
    "start_time": "2024-02-18T17:11:07.142Z"
   },
   {
    "duration": 10,
    "start_time": "2024-02-18T17:11:17.857Z"
   },
   {
    "duration": 12,
    "start_time": "2024-02-18T17:11:37.207Z"
   },
   {
    "duration": 11,
    "start_time": "2024-02-18T17:11:46.065Z"
   },
   {
    "duration": 12,
    "start_time": "2024-02-18T17:12:29.319Z"
   },
   {
    "duration": 19,
    "start_time": "2024-02-18T17:12:55.498Z"
   },
   {
    "duration": 171,
    "start_time": "2024-02-18T17:14:00.554Z"
   },
   {
    "duration": 232,
    "start_time": "2024-02-18T17:15:56.731Z"
   },
   {
    "duration": 444,
    "start_time": "2024-02-18T17:17:42.807Z"
   },
   {
    "duration": 230,
    "start_time": "2024-02-18T17:17:53.107Z"
   },
   {
    "duration": 19,
    "start_time": "2024-02-18T17:19:42.660Z"
   },
   {
    "duration": 174,
    "start_time": "2024-02-18T17:21:07.131Z"
   },
   {
    "duration": 174,
    "start_time": "2024-02-18T17:21:29.925Z"
   },
   {
    "duration": 173,
    "start_time": "2024-02-18T17:21:39.487Z"
   },
   {
    "duration": 190,
    "start_time": "2024-02-18T17:21:52.524Z"
   },
   {
    "duration": 224,
    "start_time": "2024-02-18T17:23:17.587Z"
   },
   {
    "duration": 291,
    "start_time": "2024-02-18T17:23:25.296Z"
   },
   {
    "duration": 160,
    "start_time": "2024-02-18T17:23:32.698Z"
   },
   {
    "duration": 9,
    "start_time": "2024-02-18T17:24:04.527Z"
   },
   {
    "duration": 533,
    "start_time": "2024-02-18T17:28:03.449Z"
   },
   {
    "duration": 134,
    "start_time": "2024-02-18T17:28:16.757Z"
   },
   {
    "duration": 168,
    "start_time": "2024-02-18T17:28:37.899Z"
   },
   {
    "duration": 173,
    "start_time": "2024-02-18T17:28:42.873Z"
   },
   {
    "duration": 178,
    "start_time": "2024-02-18T17:28:48.170Z"
   },
   {
    "duration": 167,
    "start_time": "2024-02-18T17:28:55.100Z"
   },
   {
    "duration": 174,
    "start_time": "2024-02-18T17:38:11.802Z"
   },
   {
    "duration": 179,
    "start_time": "2024-02-18T17:38:19.580Z"
   },
   {
    "duration": 169,
    "start_time": "2024-02-18T17:38:28.892Z"
   },
   {
    "duration": 177,
    "start_time": "2024-02-18T17:45:24.184Z"
   },
   {
    "duration": 8,
    "start_time": "2024-02-18T17:45:24.363Z"
   },
   {
    "duration": 8,
    "start_time": "2024-02-18T17:45:24.373Z"
   },
   {
    "duration": 21,
    "start_time": "2024-02-18T17:45:24.383Z"
   },
   {
    "duration": 14,
    "start_time": "2024-02-18T17:45:24.407Z"
   },
   {
    "duration": 377,
    "start_time": "2024-02-18T17:45:24.422Z"
   },
   {
    "duration": 202,
    "start_time": "2024-02-18T17:45:24.800Z"
   },
   {
    "duration": 174,
    "start_time": "2024-02-18T17:45:25.003Z"
   },
   {
    "duration": 198,
    "start_time": "2024-02-18T17:45:25.178Z"
   },
   {
    "duration": 41,
    "start_time": "2024-02-18T17:45:25.378Z"
   },
   {
    "duration": 4,
    "start_time": "2024-02-18T17:45:25.421Z"
   },
   {
    "duration": 5,
    "start_time": "2024-02-18T17:45:25.427Z"
   },
   {
    "duration": 12,
    "start_time": "2024-02-18T17:45:25.434Z"
   },
   {
    "duration": 4,
    "start_time": "2024-02-18T17:45:25.467Z"
   },
   {
    "duration": 8,
    "start_time": "2024-02-18T17:45:25.473Z"
   },
   {
    "duration": 8,
    "start_time": "2024-02-18T17:45:25.482Z"
   },
   {
    "duration": 9,
    "start_time": "2024-02-18T17:45:25.491Z"
   },
   {
    "duration": 11,
    "start_time": "2024-02-18T17:45:25.501Z"
   },
   {
    "duration": 6,
    "start_time": "2024-02-18T17:45:25.514Z"
   },
   {
    "duration": 285,
    "start_time": "2024-02-18T17:45:25.521Z"
   },
   {
    "duration": 4,
    "start_time": "2024-02-18T17:45:25.808Z"
   },
   {
    "duration": 416,
    "start_time": "2024-02-18T17:45:25.813Z"
   },
   {
    "duration": 4,
    "start_time": "2024-02-18T17:45:26.231Z"
   },
   {
    "duration": 19,
    "start_time": "2024-02-18T17:45:26.237Z"
   },
   {
    "duration": 19,
    "start_time": "2024-02-18T17:45:26.258Z"
   },
   {
    "duration": 17,
    "start_time": "2024-02-18T17:45:26.278Z"
   },
   {
    "duration": 15,
    "start_time": "2024-02-18T17:45:26.297Z"
   },
   {
    "duration": 25,
    "start_time": "2024-02-18T18:02:08.278Z"
   },
   {
    "duration": 31,
    "start_time": "2024-02-18T18:10:31.314Z"
   },
   {
    "duration": 22,
    "start_time": "2024-02-18T18:11:53.969Z"
   },
   {
    "duration": 171,
    "start_time": "2024-02-18T18:22:15.363Z"
   },
   {
    "duration": 192,
    "start_time": "2024-02-18T18:22:20.055Z"
   },
   {
    "duration": 160,
    "start_time": "2024-02-18T18:22:30.244Z"
   },
   {
    "duration": 150,
    "start_time": "2024-02-18T18:22:35.054Z"
   },
   {
    "duration": 8,
    "start_time": "2024-02-18T18:23:24.396Z"
   },
   {
    "duration": 8,
    "start_time": "2024-02-18T18:23:45.303Z"
   },
   {
    "duration": 9,
    "start_time": "2024-02-18T18:24:30.610Z"
   },
   {
    "duration": 8,
    "start_time": "2024-02-18T18:24:42.925Z"
   },
   {
    "duration": 62,
    "start_time": "2024-02-18T18:35:42.262Z"
   },
   {
    "duration": 37,
    "start_time": "2024-02-18T18:44:32.094Z"
   },
   {
    "duration": 7,
    "start_time": "2024-02-18T19:06:48.688Z"
   },
   {
    "duration": 4,
    "start_time": "2024-02-18T19:10:39.689Z"
   },
   {
    "duration": 3,
    "start_time": "2024-02-18T20:06:44.799Z"
   },
   {
    "duration": 85,
    "start_time": "2024-02-18T20:06:44.810Z"
   },
   {
    "duration": 8,
    "start_time": "2024-02-18T20:06:44.896Z"
   },
   {
    "duration": 22,
    "start_time": "2024-02-18T20:06:44.905Z"
   },
   {
    "duration": 156,
    "start_time": "2024-02-18T20:06:44.929Z"
   },
   {
    "duration": 8,
    "start_time": "2024-02-18T20:06:45.087Z"
   },
   {
    "duration": 47,
    "start_time": "2024-02-18T20:06:45.096Z"
   },
   {
    "duration": 291,
    "start_time": "2024-02-18T20:06:45.144Z"
   },
   {
    "duration": 7,
    "start_time": "2024-02-18T20:06:45.436Z"
   },
   {
    "duration": 23,
    "start_time": "2024-02-18T20:06:45.444Z"
   },
   {
    "duration": 14,
    "start_time": "2024-02-18T20:06:45.470Z"
   },
   {
    "duration": 13,
    "start_time": "2024-02-18T20:06:45.485Z"
   },
   {
    "duration": 12,
    "start_time": "2024-02-18T20:06:45.499Z"
   },
   {
    "duration": 20,
    "start_time": "2024-02-18T20:06:45.512Z"
   },
   {
    "duration": 19,
    "start_time": "2024-02-18T20:06:45.533Z"
   },
   {
    "duration": 15,
    "start_time": "2024-02-18T20:06:45.553Z"
   },
   {
    "duration": 4,
    "start_time": "2024-02-18T20:06:45.569Z"
   },
   {
    "duration": 11,
    "start_time": "2024-02-18T20:06:45.574Z"
   },
   {
    "duration": 6,
    "start_time": "2024-02-18T20:06:45.586Z"
   },
   {
    "duration": 11,
    "start_time": "2024-02-18T20:06:45.593Z"
   },
   {
    "duration": 16,
    "start_time": "2024-02-18T20:06:45.606Z"
   },
   {
    "duration": 7,
    "start_time": "2024-02-18T20:06:45.623Z"
   },
   {
    "duration": 18,
    "start_time": "2024-02-18T20:06:45.631Z"
   },
   {
    "duration": 16,
    "start_time": "2024-02-18T20:06:45.650Z"
   },
   {
    "duration": 265,
    "start_time": "2024-02-18T20:06:45.668Z"
   },
   {
    "duration": 5,
    "start_time": "2024-02-18T20:06:45.934Z"
   },
   {
    "duration": 7,
    "start_time": "2024-02-18T20:06:45.941Z"
   },
   {
    "duration": 180,
    "start_time": "2024-02-18T20:06:45.950Z"
   },
   {
    "duration": 451,
    "start_time": "2024-02-18T20:06:46.134Z"
   },
   {
    "duration": 170,
    "start_time": "2024-02-18T20:06:46.587Z"
   },
   {
    "duration": 154,
    "start_time": "2024-02-18T20:06:46.765Z"
   },
   {
    "duration": 11,
    "start_time": "2024-02-18T20:06:46.920Z"
   },
   {
    "duration": 178,
    "start_time": "2024-02-18T20:06:46.933Z"
   },
   {
    "duration": 171,
    "start_time": "2024-02-18T20:06:47.112Z"
   },
   {
    "duration": 9,
    "start_time": "2024-02-18T20:06:47.285Z"
   },
   {
    "duration": 265,
    "start_time": "2024-02-18T20:06:47.296Z"
   },
   {
    "duration": 168,
    "start_time": "2024-02-18T20:06:47.565Z"
   },
   {
    "duration": 9,
    "start_time": "2024-02-18T20:06:47.735Z"
   },
   {
    "duration": 9,
    "start_time": "2024-02-18T20:06:47.745Z"
   },
   {
    "duration": 20,
    "start_time": "2024-02-18T20:06:47.765Z"
   },
   {
    "duration": 23,
    "start_time": "2024-02-18T20:06:47.786Z"
   },
   {
    "duration": 14,
    "start_time": "2024-02-18T20:06:47.810Z"
   },
   {
    "duration": 201,
    "start_time": "2024-02-18T20:06:47.826Z"
   },
   {
    "duration": 9,
    "start_time": "2024-02-18T20:06:48.029Z"
   },
   {
    "duration": 198,
    "start_time": "2024-02-18T20:06:48.040Z"
   },
   {
    "duration": 9,
    "start_time": "2024-02-18T20:06:48.240Z"
   },
   {
    "duration": 173,
    "start_time": "2024-02-18T20:06:48.251Z"
   },
   {
    "duration": 7,
    "start_time": "2024-02-18T20:06:48.426Z"
   },
   {
    "duration": 177,
    "start_time": "2024-02-18T20:06:48.434Z"
   },
   {
    "duration": 8,
    "start_time": "2024-02-18T20:06:48.613Z"
   },
   {
    "duration": 57,
    "start_time": "2024-02-18T20:06:48.622Z"
   },
   {
    "duration": 35,
    "start_time": "2024-02-18T20:06:48.680Z"
   },
   {
    "duration": 4,
    "start_time": "2024-02-18T20:06:48.717Z"
   },
   {
    "duration": 15,
    "start_time": "2024-02-18T20:06:48.723Z"
   },
   {
    "duration": 7,
    "start_time": "2024-02-18T20:06:48.739Z"
   },
   {
    "duration": 18,
    "start_time": "2024-02-18T20:06:48.748Z"
   },
   {
    "duration": 7,
    "start_time": "2024-02-18T20:06:48.768Z"
   },
   {
    "duration": 8,
    "start_time": "2024-02-18T20:06:48.776Z"
   },
   {
    "duration": 9,
    "start_time": "2024-02-18T20:06:48.785Z"
   },
   {
    "duration": 8,
    "start_time": "2024-02-18T20:06:48.796Z"
   },
   {
    "duration": 5,
    "start_time": "2024-02-18T20:06:48.806Z"
   },
   {
    "duration": 274,
    "start_time": "2024-02-18T20:06:48.812Z"
   },
   {
    "duration": 5,
    "start_time": "2024-02-18T20:06:49.087Z"
   },
   {
    "duration": 380,
    "start_time": "2024-02-18T20:06:49.094Z"
   },
   {
    "duration": 4,
    "start_time": "2024-02-18T20:06:49.475Z"
   },
   {
    "duration": 8,
    "start_time": "2024-02-18T20:06:49.480Z"
   },
   {
    "duration": 6,
    "start_time": "2024-02-18T20:06:49.489Z"
   },
   {
    "duration": 11,
    "start_time": "2024-02-18T20:06:49.496Z"
   },
   {
    "duration": 8,
    "start_time": "2024-02-18T20:06:49.508Z"
   },
   {
    "duration": 111,
    "start_time": "2024-02-20T08:55:54.781Z"
   },
   {
    "duration": 53,
    "start_time": "2024-02-20T08:57:40.349Z"
   },
   {
    "duration": 1318,
    "start_time": "2024-02-20T08:57:50.269Z"
   },
   {
    "duration": 371,
    "start_time": "2024-02-20T08:57:51.590Z"
   },
   {
    "duration": 15,
    "start_time": "2024-02-20T08:57:51.963Z"
   },
   {
    "duration": 28,
    "start_time": "2024-02-20T08:57:51.980Z"
   },
   {
    "duration": 201,
    "start_time": "2024-02-20T08:57:52.010Z"
   },
   {
    "duration": 9,
    "start_time": "2024-02-20T08:57:52.213Z"
   },
   {
    "duration": 16,
    "start_time": "2024-02-20T08:57:52.224Z"
   },
   {
    "duration": 358,
    "start_time": "2024-02-20T08:57:52.241Z"
   },
   {
    "duration": 8,
    "start_time": "2024-02-20T08:57:52.600Z"
   },
   {
    "duration": 20,
    "start_time": "2024-02-20T08:57:52.609Z"
   },
   {
    "duration": 24,
    "start_time": "2024-02-20T08:57:52.631Z"
   },
   {
    "duration": 19,
    "start_time": "2024-02-20T08:57:52.657Z"
   },
   {
    "duration": 9,
    "start_time": "2024-02-20T08:57:52.678Z"
   },
   {
    "duration": 3,
    "start_time": "2024-02-20T08:57:57.911Z"
   },
   {
    "duration": 73,
    "start_time": "2024-02-20T08:57:57.916Z"
   },
   {
    "duration": 9,
    "start_time": "2024-02-20T08:57:57.991Z"
   },
   {
    "duration": 14,
    "start_time": "2024-02-20T08:57:58.001Z"
   },
   {
    "duration": 195,
    "start_time": "2024-02-20T08:57:58.017Z"
   },
   {
    "duration": 8,
    "start_time": "2024-02-20T08:57:58.214Z"
   },
   {
    "duration": 20,
    "start_time": "2024-02-20T08:57:58.223Z"
   },
   {
    "duration": 315,
    "start_time": "2024-02-20T08:57:58.244Z"
   },
   {
    "duration": 13,
    "start_time": "2024-02-20T08:57:58.561Z"
   },
   {
    "duration": 12,
    "start_time": "2024-02-20T08:57:58.575Z"
   },
   {
    "duration": 7,
    "start_time": "2024-02-20T08:57:58.589Z"
   },
   {
    "duration": 11,
    "start_time": "2024-02-20T08:57:58.597Z"
   },
   {
    "duration": 10,
    "start_time": "2024-02-20T08:57:58.609Z"
   },
   {
    "duration": 24,
    "start_time": "2024-02-20T08:57:58.621Z"
   },
   {
    "duration": 14,
    "start_time": "2024-02-20T08:57:58.646Z"
   },
   {
    "duration": 2,
    "start_time": "2024-02-20T09:07:20.193Z"
   },
   {
    "duration": 3,
    "start_time": "2024-02-20T09:11:13.175Z"
   },
   {
    "duration": 4,
    "start_time": "2024-02-20T09:11:22.661Z"
   },
   {
    "duration": 4,
    "start_time": "2024-02-20T09:11:45.327Z"
   },
   {
    "duration": 4,
    "start_time": "2024-02-20T09:13:04.553Z"
   },
   {
    "duration": 3,
    "start_time": "2024-02-20T09:13:45.318Z"
   },
   {
    "duration": 104,
    "start_time": "2024-02-20T09:13:45.323Z"
   },
   {
    "duration": 8,
    "start_time": "2024-02-20T09:13:45.430Z"
   },
   {
    "duration": 17,
    "start_time": "2024-02-20T09:13:45.439Z"
   },
   {
    "duration": 179,
    "start_time": "2024-02-20T09:13:45.457Z"
   },
   {
    "duration": 9,
    "start_time": "2024-02-20T09:13:45.638Z"
   },
   {
    "duration": 25,
    "start_time": "2024-02-20T09:13:45.648Z"
   },
   {
    "duration": 300,
    "start_time": "2024-02-20T09:13:45.674Z"
   },
   {
    "duration": 7,
    "start_time": "2024-02-20T09:13:45.976Z"
   },
   {
    "duration": 14,
    "start_time": "2024-02-20T09:13:45.985Z"
   },
   {
    "duration": 20,
    "start_time": "2024-02-20T09:13:46.001Z"
   },
   {
    "duration": 7,
    "start_time": "2024-02-20T09:13:46.023Z"
   },
   {
    "duration": 7,
    "start_time": "2024-02-20T09:13:46.031Z"
   },
   {
    "duration": 13,
    "start_time": "2024-02-20T09:13:46.040Z"
   },
   {
    "duration": 19,
    "start_time": "2024-02-20T09:13:46.055Z"
   },
   {
    "duration": 11,
    "start_time": "2024-02-20T09:13:46.076Z"
   },
   {
    "duration": 9,
    "start_time": "2024-02-20T09:13:46.089Z"
   },
   {
    "duration": 20,
    "start_time": "2024-02-20T09:13:46.099Z"
   },
   {
    "duration": 15,
    "start_time": "2024-02-20T09:13:46.121Z"
   },
   {
    "duration": 4,
    "start_time": "2024-02-20T09:13:46.138Z"
   },
   {
    "duration": 30,
    "start_time": "2024-02-20T09:13:46.143Z"
   },
   {
    "duration": 6,
    "start_time": "2024-02-20T09:13:46.175Z"
   },
   {
    "duration": 11,
    "start_time": "2024-02-20T09:13:46.182Z"
   },
   {
    "duration": 7,
    "start_time": "2024-02-20T09:13:46.195Z"
   },
   {
    "duration": 6,
    "start_time": "2024-02-20T09:13:46.204Z"
   },
   {
    "duration": 20,
    "start_time": "2024-02-20T09:13:46.212Z"
   },
   {
    "duration": 4,
    "start_time": "2024-02-20T09:13:46.234Z"
   },
   {
    "duration": 355,
    "start_time": "2024-02-20T09:13:46.239Z"
   },
   {
    "duration": 6,
    "start_time": "2024-02-20T09:13:46.596Z"
   },
   {
    "duration": 17,
    "start_time": "2024-02-20T09:13:46.604Z"
   },
   {
    "duration": 204,
    "start_time": "2024-02-20T09:13:46.623Z"
   },
   {
    "duration": 258,
    "start_time": "2024-02-20T09:13:46.828Z"
   },
   {
    "duration": 4,
    "start_time": "2024-02-20T09:13:47.088Z"
   },
   {
    "duration": 4,
    "start_time": "2024-02-20T09:13:51.314Z"
   },
   {
    "duration": 63,
    "start_time": "2024-02-20T09:23:44.369Z"
   },
   {
    "duration": 2,
    "start_time": "2024-02-20T09:23:56.297Z"
   },
   {
    "duration": 83,
    "start_time": "2024-02-20T09:23:56.301Z"
   },
   {
    "duration": 8,
    "start_time": "2024-02-20T09:23:56.386Z"
   },
   {
    "duration": 28,
    "start_time": "2024-02-20T09:23:56.395Z"
   },
   {
    "duration": 161,
    "start_time": "2024-02-20T09:23:56.424Z"
   },
   {
    "duration": 9,
    "start_time": "2024-02-20T09:23:56.587Z"
   },
   {
    "duration": 13,
    "start_time": "2024-02-20T09:23:56.597Z"
   },
   {
    "duration": 311,
    "start_time": "2024-02-20T09:23:56.612Z"
   },
   {
    "duration": 6,
    "start_time": "2024-02-20T09:23:56.926Z"
   },
   {
    "duration": 12,
    "start_time": "2024-02-20T09:23:56.934Z"
   },
   {
    "duration": 25,
    "start_time": "2024-02-20T09:23:56.947Z"
   },
   {
    "duration": 11,
    "start_time": "2024-02-20T09:23:56.974Z"
   },
   {
    "duration": 6,
    "start_time": "2024-02-20T09:23:56.987Z"
   },
   {
    "duration": 9,
    "start_time": "2024-02-20T09:23:56.994Z"
   },
   {
    "duration": 17,
    "start_time": "2024-02-20T09:23:57.005Z"
   },
   {
    "duration": 4,
    "start_time": "2024-02-20T09:23:57.024Z"
   },
   {
    "duration": 4,
    "start_time": "2024-02-20T09:23:57.030Z"
   },
   {
    "duration": 10,
    "start_time": "2024-02-20T09:23:57.035Z"
   },
   {
    "duration": 13,
    "start_time": "2024-02-20T09:23:57.072Z"
   },
   {
    "duration": 4,
    "start_time": "2024-02-20T09:23:57.086Z"
   },
   {
    "duration": 20,
    "start_time": "2024-02-20T09:23:57.092Z"
   },
   {
    "duration": 10,
    "start_time": "2024-02-20T09:23:57.114Z"
   },
   {
    "duration": 24,
    "start_time": "2024-02-20T09:23:57.126Z"
   },
   {
    "duration": 22,
    "start_time": "2024-02-20T09:23:57.154Z"
   },
   {
    "duration": 5,
    "start_time": "2024-02-20T09:23:57.177Z"
   },
   {
    "duration": 14,
    "start_time": "2024-02-20T09:23:57.184Z"
   },
   {
    "duration": 4,
    "start_time": "2024-02-20T09:23:57.199Z"
   },
   {
    "duration": 284,
    "start_time": "2024-02-20T09:23:57.205Z"
   },
   {
    "duration": 4,
    "start_time": "2024-02-20T09:23:57.491Z"
   },
   {
    "duration": 11,
    "start_time": "2024-02-20T09:23:57.496Z"
   },
   {
    "duration": 188,
    "start_time": "2024-02-20T09:23:57.509Z"
   },
   {
    "duration": 349,
    "start_time": "2024-02-20T09:23:57.698Z"
   },
   {
    "duration": 4,
    "start_time": "2024-02-20T09:23:58.048Z"
   },
   {
    "duration": 21,
    "start_time": "2024-02-20T09:23:58.053Z"
   },
   {
    "duration": 178,
    "start_time": "2024-02-20T09:23:58.075Z"
   },
   {
    "duration": 170,
    "start_time": "2024-02-20T09:23:58.255Z"
   },
   {
    "duration": 13,
    "start_time": "2024-02-20T09:23:58.426Z"
   },
   {
    "duration": 187,
    "start_time": "2024-02-20T09:23:58.440Z"
   },
   {
    "duration": 163,
    "start_time": "2024-02-20T09:23:58.628Z"
   },
   {
    "duration": 7,
    "start_time": "2024-02-20T09:23:58.793Z"
   },
   {
    "duration": 265,
    "start_time": "2024-02-20T09:23:58.801Z"
   },
   {
    "duration": 185,
    "start_time": "2024-02-20T09:23:59.068Z"
   },
   {
    "duration": 21,
    "start_time": "2024-02-20T09:23:59.255Z"
   },
   {
    "duration": 4,
    "start_time": "2024-02-20T09:23:59.277Z"
   },
   {
    "duration": 31,
    "start_time": "2024-02-20T09:23:59.283Z"
   },
   {
    "duration": 30,
    "start_time": "2024-02-20T09:23:59.316Z"
   },
   {
    "duration": 4,
    "start_time": "2024-02-20T09:24:26.107Z"
   },
   {
    "duration": 8,
    "start_time": "2024-02-20T09:25:52.512Z"
   },
   {
    "duration": 8,
    "start_time": "2024-02-20T09:26:20.039Z"
   },
   {
    "duration": 9,
    "start_time": "2024-02-20T09:26:26.929Z"
   },
   {
    "duration": 4,
    "start_time": "2024-02-20T09:26:53.923Z"
   },
   {
    "duration": 9,
    "start_time": "2024-02-20T09:27:06.120Z"
   },
   {
    "duration": 4,
    "start_time": "2024-02-20T09:27:15.834Z"
   },
   {
    "duration": 4,
    "start_time": "2024-02-20T09:27:38.423Z"
   },
   {
    "duration": 13,
    "start_time": "2024-02-20T09:31:59.171Z"
   },
   {
    "duration": 212,
    "start_time": "2024-02-20T09:35:12.035Z"
   },
   {
    "duration": 3,
    "start_time": "2024-02-20T09:35:21.692Z"
   },
   {
    "duration": 80,
    "start_time": "2024-02-20T09:35:21.697Z"
   },
   {
    "duration": 11,
    "start_time": "2024-02-20T09:35:21.779Z"
   },
   {
    "duration": 29,
    "start_time": "2024-02-20T09:35:21.792Z"
   },
   {
    "duration": 173,
    "start_time": "2024-02-20T09:35:21.824Z"
   },
   {
    "duration": 9,
    "start_time": "2024-02-20T09:35:21.999Z"
   },
   {
    "duration": 15,
    "start_time": "2024-02-20T09:35:22.010Z"
   },
   {
    "duration": 426,
    "start_time": "2024-02-20T09:35:22.026Z"
   },
   {
    "duration": 6,
    "start_time": "2024-02-20T09:35:22.454Z"
   },
   {
    "duration": 5,
    "start_time": "2024-02-20T09:35:22.473Z"
   },
   {
    "duration": 10,
    "start_time": "2024-02-20T09:35:22.480Z"
   },
   {
    "duration": 14,
    "start_time": "2024-02-20T09:35:22.492Z"
   },
   {
    "duration": 8,
    "start_time": "2024-02-20T09:35:22.508Z"
   },
   {
    "duration": 11,
    "start_time": "2024-02-20T09:35:22.518Z"
   },
   {
    "duration": 6,
    "start_time": "2024-02-20T09:35:22.530Z"
   },
   {
    "duration": 6,
    "start_time": "2024-02-20T09:35:22.538Z"
   },
   {
    "duration": 34,
    "start_time": "2024-02-20T09:35:22.546Z"
   },
   {
    "duration": 15,
    "start_time": "2024-02-20T09:35:22.582Z"
   },
   {
    "duration": 19,
    "start_time": "2024-02-20T09:35:22.599Z"
   },
   {
    "duration": 12,
    "start_time": "2024-02-20T09:35:22.619Z"
   },
   {
    "duration": 22,
    "start_time": "2024-02-20T09:35:22.633Z"
   },
   {
    "duration": 20,
    "start_time": "2024-02-20T09:35:22.657Z"
   },
   {
    "duration": 23,
    "start_time": "2024-02-20T09:35:22.679Z"
   },
   {
    "duration": 6,
    "start_time": "2024-02-20T09:35:22.703Z"
   },
   {
    "duration": 11,
    "start_time": "2024-02-20T09:35:22.710Z"
   },
   {
    "duration": 20,
    "start_time": "2024-02-20T09:35:22.723Z"
   },
   {
    "duration": 9,
    "start_time": "2024-02-20T09:35:22.745Z"
   },
   {
    "duration": 291,
    "start_time": "2024-02-20T09:35:22.756Z"
   },
   {
    "duration": 5,
    "start_time": "2024-02-20T09:35:23.052Z"
   },
   {
    "duration": 42,
    "start_time": "2024-02-20T09:35:23.060Z"
   },
   {
    "duration": 179,
    "start_time": "2024-02-20T09:35:23.104Z"
   },
   {
    "duration": 290,
    "start_time": "2024-02-20T09:35:23.285Z"
   },
   {
    "duration": 4,
    "start_time": "2024-02-20T09:35:23.577Z"
   },
   {
    "duration": 5,
    "start_time": "2024-02-20T09:35:23.583Z"
   },
   {
    "duration": 173,
    "start_time": "2024-02-20T09:35:23.590Z"
   },
   {
    "duration": 166,
    "start_time": "2024-02-20T09:35:23.772Z"
   },
   {
    "duration": 11,
    "start_time": "2024-02-20T09:35:23.940Z"
   },
   {
    "duration": 204,
    "start_time": "2024-02-20T09:35:23.973Z"
   },
   {
    "duration": 172,
    "start_time": "2024-02-20T09:35:24.178Z"
   },
   {
    "duration": 8,
    "start_time": "2024-02-20T09:35:24.352Z"
   },
   {
    "duration": 260,
    "start_time": "2024-02-20T09:35:24.372Z"
   },
   {
    "duration": 183,
    "start_time": "2024-02-20T09:35:24.633Z"
   },
   {
    "duration": 8,
    "start_time": "2024-02-20T09:35:24.817Z"
   },
   {
    "duration": 4,
    "start_time": "2024-02-20T09:35:24.826Z"
   },
   {
    "duration": 46,
    "start_time": "2024-02-20T09:35:24.832Z"
   },
   {
    "duration": 23,
    "start_time": "2024-02-20T09:35:24.879Z"
   },
   {
    "duration": 7,
    "start_time": "2024-02-20T09:35:24.903Z"
   },
   {
    "duration": 6,
    "start_time": "2024-02-20T09:35:24.912Z"
   },
   {
    "duration": 55,
    "start_time": "2024-02-20T09:35:24.919Z"
   },
   {
    "duration": 14,
    "start_time": "2024-02-20T09:35:24.975Z"
   },
   {
    "duration": 222,
    "start_time": "2024-02-20T09:35:24.991Z"
   },
   {
    "duration": 8,
    "start_time": "2024-02-20T09:35:25.215Z"
   },
   {
    "duration": 433,
    "start_time": "2024-02-20T09:35:30.910Z"
   },
   {
    "duration": 193,
    "start_time": "2024-02-20T09:36:15.085Z"
   },
   {
    "duration": 260,
    "start_time": "2024-02-20T09:36:45.593Z"
   },
   {
    "duration": 274,
    "start_time": "2024-02-20T09:43:12.886Z"
   },
   {
    "duration": 290,
    "start_time": "2024-02-20T09:43:59.763Z"
   },
   {
    "duration": 276,
    "start_time": "2024-02-20T09:44:06.104Z"
   },
   {
    "duration": 276,
    "start_time": "2024-02-20T09:44:59.042Z"
   },
   {
    "duration": 440,
    "start_time": "2024-02-20T09:46:22.938Z"
   },
   {
    "duration": 326,
    "start_time": "2024-02-20T09:46:46.257Z"
   },
   {
    "duration": 376,
    "start_time": "2024-02-20T09:47:35.645Z"
   },
   {
    "duration": 367,
    "start_time": "2024-02-20T09:48:39.153Z"
   },
   {
    "duration": 349,
    "start_time": "2024-02-20T09:48:52.123Z"
   },
   {
    "duration": 187,
    "start_time": "2024-02-20T09:50:10.721Z"
   },
   {
    "duration": 174,
    "start_time": "2024-02-20T09:50:24.287Z"
   },
   {
    "duration": 262,
    "start_time": "2024-02-20T09:53:56.257Z"
   },
   {
    "duration": 338,
    "start_time": "2024-02-20T09:56:31.880Z"
   },
   {
    "duration": 550,
    "start_time": "2024-02-20T09:56:59.284Z"
   },
   {
    "duration": 194,
    "start_time": "2024-02-20T09:57:43.857Z"
   },
   {
    "duration": 195,
    "start_time": "2024-02-20T09:57:52.292Z"
   },
   {
    "duration": 171,
    "start_time": "2024-02-20T09:58:19.395Z"
   },
   {
    "duration": 9,
    "start_time": "2024-02-20T09:59:34.148Z"
   },
   {
    "duration": 5,
    "start_time": "2024-02-20T09:59:54.363Z"
   },
   {
    "duration": 267,
    "start_time": "2024-02-20T09:59:57.193Z"
   },
   {
    "duration": 278,
    "start_time": "2024-02-20T10:00:19.850Z"
   },
   {
    "duration": 413,
    "start_time": "2024-02-20T10:01:44.316Z"
   },
   {
    "duration": 106,
    "start_time": "2024-02-20T10:02:44.827Z"
   },
   {
    "duration": 196,
    "start_time": "2024-02-20T10:03:22.091Z"
   },
   {
    "duration": 198,
    "start_time": "2024-02-20T10:04:51.933Z"
   },
   {
    "duration": 188,
    "start_time": "2024-02-20T10:05:33.424Z"
   },
   {
    "duration": 276,
    "start_time": "2024-02-20T10:05:48.240Z"
   },
   {
    "duration": 432,
    "start_time": "2024-02-20T10:05:59.739Z"
   },
   {
    "duration": 195,
    "start_time": "2024-02-20T10:07:34.334Z"
   },
   {
    "duration": 257,
    "start_time": "2024-02-20T10:07:57.482Z"
   },
   {
    "duration": 163,
    "start_time": "2024-02-20T10:08:33.816Z"
   },
   {
    "duration": 302,
    "start_time": "2024-02-20T10:09:16.880Z"
   },
   {
    "duration": 179,
    "start_time": "2024-02-20T10:10:10.715Z"
   },
   {
    "duration": 155,
    "start_time": "2024-02-20T10:10:44.876Z"
   },
   {
    "duration": 161,
    "start_time": "2024-02-20T10:11:13.884Z"
   },
   {
    "duration": 409,
    "start_time": "2024-02-20T10:11:57.217Z"
   },
   {
    "duration": 263,
    "start_time": "2024-02-20T10:16:07.556Z"
   },
   {
    "duration": 175,
    "start_time": "2024-02-20T10:16:32.938Z"
   },
   {
    "duration": 264,
    "start_time": "2024-02-20T10:17:23.923Z"
   },
   {
    "duration": 166,
    "start_time": "2024-02-20T10:18:28.818Z"
   },
   {
    "duration": 258,
    "start_time": "2024-02-20T10:18:41.833Z"
   },
   {
    "duration": 251,
    "start_time": "2024-02-20T10:19:08.902Z"
   },
   {
    "duration": 266,
    "start_time": "2024-02-20T10:19:41.405Z"
   },
   {
    "duration": 271,
    "start_time": "2024-02-20T10:19:51.704Z"
   },
   {
    "duration": 286,
    "start_time": "2024-02-20T10:21:03.870Z"
   },
   {
    "duration": 378,
    "start_time": "2024-02-20T10:21:13.437Z"
   },
   {
    "duration": 265,
    "start_time": "2024-02-20T10:21:27.356Z"
   },
   {
    "duration": 260,
    "start_time": "2024-02-20T10:22:39.010Z"
   },
   {
    "duration": 154,
    "start_time": "2024-02-20T10:22:51.103Z"
   },
   {
    "duration": 6,
    "start_time": "2024-02-20T10:23:59.476Z"
   },
   {
    "duration": 265,
    "start_time": "2024-02-20T10:46:31.396Z"
   },
   {
    "duration": 591,
    "start_time": "2024-02-20T10:47:06.332Z"
   },
   {
    "duration": 203,
    "start_time": "2024-02-20T10:47:48.475Z"
   },
   {
    "duration": 264,
    "start_time": "2024-02-20T10:48:08.868Z"
   },
   {
    "duration": 171,
    "start_time": "2024-02-20T10:48:54.937Z"
   },
   {
    "duration": 171,
    "start_time": "2024-02-20T10:49:18.894Z"
   },
   {
    "duration": 174,
    "start_time": "2024-02-20T10:49:32.327Z"
   },
   {
    "duration": 178,
    "start_time": "2024-02-20T10:50:17.574Z"
   },
   {
    "duration": 108,
    "start_time": "2024-02-20T10:51:22.563Z"
   },
   {
    "duration": 172,
    "start_time": "2024-02-20T10:51:29.379Z"
   },
   {
    "duration": 280,
    "start_time": "2024-02-20T10:52:14.660Z"
   },
   {
    "duration": 188,
    "start_time": "2024-02-20T10:52:26.719Z"
   },
   {
    "duration": 217,
    "start_time": "2024-02-20T10:53:13.444Z"
   },
   {
    "duration": 388,
    "start_time": "2024-02-20T10:53:53.272Z"
   },
   {
    "duration": 197,
    "start_time": "2024-02-20T10:54:15.998Z"
   },
   {
    "duration": 285,
    "start_time": "2024-02-20T10:54:49.040Z"
   },
   {
    "duration": 280,
    "start_time": "2024-02-20T10:55:28.102Z"
   },
   {
    "duration": 410,
    "start_time": "2024-02-20T10:56:21.238Z"
   },
   {
    "duration": 3,
    "start_time": "2024-02-20T10:58:11.489Z"
   },
   {
    "duration": 86,
    "start_time": "2024-02-20T10:58:11.494Z"
   },
   {
    "duration": 9,
    "start_time": "2024-02-20T10:58:11.581Z"
   },
   {
    "duration": 18,
    "start_time": "2024-02-20T10:58:11.591Z"
   },
   {
    "duration": 215,
    "start_time": "2024-02-20T10:58:11.611Z"
   },
   {
    "duration": 9,
    "start_time": "2024-02-20T10:58:11.828Z"
   },
   {
    "duration": 15,
    "start_time": "2024-02-20T10:58:11.839Z"
   },
   {
    "duration": 303,
    "start_time": "2024-02-20T10:58:11.856Z"
   },
   {
    "duration": 17,
    "start_time": "2024-02-20T10:58:12.161Z"
   },
   {
    "duration": 7,
    "start_time": "2024-02-20T10:58:12.180Z"
   },
   {
    "duration": 6,
    "start_time": "2024-02-20T10:58:12.189Z"
   },
   {
    "duration": 11,
    "start_time": "2024-02-20T10:58:12.196Z"
   },
   {
    "duration": 8,
    "start_time": "2024-02-20T10:58:12.209Z"
   },
   {
    "duration": 8,
    "start_time": "2024-02-20T10:58:12.221Z"
   },
   {
    "duration": 5,
    "start_time": "2024-02-20T10:58:12.231Z"
   },
   {
    "duration": 12,
    "start_time": "2024-02-20T10:58:12.238Z"
   },
   {
    "duration": 5,
    "start_time": "2024-02-20T10:58:12.273Z"
   },
   {
    "duration": 11,
    "start_time": "2024-02-20T10:58:12.280Z"
   },
   {
    "duration": 23,
    "start_time": "2024-02-20T10:58:12.293Z"
   },
   {
    "duration": 4,
    "start_time": "2024-02-20T10:58:12.318Z"
   },
   {
    "duration": 8,
    "start_time": "2024-02-20T10:58:12.324Z"
   },
   {
    "duration": 6,
    "start_time": "2024-02-20T10:58:12.334Z"
   },
   {
    "duration": 37,
    "start_time": "2024-02-20T10:58:12.342Z"
   },
   {
    "duration": 4,
    "start_time": "2024-02-20T10:58:12.381Z"
   },
   {
    "duration": 10,
    "start_time": "2024-02-20T10:58:12.386Z"
   },
   {
    "duration": 15,
    "start_time": "2024-02-20T10:58:12.397Z"
   },
   {
    "duration": 4,
    "start_time": "2024-02-20T10:58:12.413Z"
   },
   {
    "duration": 278,
    "start_time": "2024-02-20T10:58:12.419Z"
   },
   {
    "duration": 4,
    "start_time": "2024-02-20T10:58:12.699Z"
   },
   {
    "duration": 19,
    "start_time": "2024-02-20T10:58:12.705Z"
   },
   {
    "duration": 202,
    "start_time": "2024-02-20T10:58:12.726Z"
   },
   {
    "duration": 279,
    "start_time": "2024-02-20T10:58:12.931Z"
   },
   {
    "duration": 4,
    "start_time": "2024-02-20T10:58:13.212Z"
   },
   {
    "duration": 23,
    "start_time": "2024-02-20T10:58:13.217Z"
   },
   {
    "duration": 190,
    "start_time": "2024-02-20T10:58:13.242Z"
   },
   {
    "duration": 200,
    "start_time": "2024-02-20T10:58:13.433Z"
   },
   {
    "duration": 11,
    "start_time": "2024-02-20T10:58:13.634Z"
   },
   {
    "duration": 202,
    "start_time": "2024-02-20T10:58:13.647Z"
   },
   {
    "duration": 189,
    "start_time": "2024-02-20T10:58:13.851Z"
   },
   {
    "duration": 8,
    "start_time": "2024-02-20T10:58:14.041Z"
   },
   {
    "duration": 671,
    "start_time": "2024-02-20T10:58:14.053Z"
   },
   {
    "duration": 205,
    "start_time": "2024-02-20T10:58:14.725Z"
   },
   {
    "duration": 8,
    "start_time": "2024-02-20T10:58:14.932Z"
   },
   {
    "duration": 24,
    "start_time": "2024-02-20T10:58:14.941Z"
   },
   {
    "duration": 39,
    "start_time": "2024-02-20T10:58:14.967Z"
   },
   {
    "duration": 47,
    "start_time": "2024-02-20T10:58:15.007Z"
   },
   {
    "duration": 28,
    "start_time": "2024-02-20T10:58:15.055Z"
   },
   {
    "duration": 32,
    "start_time": "2024-02-20T10:58:15.086Z"
   },
   {
    "duration": 95,
    "start_time": "2024-02-20T10:58:15.119Z"
   },
   {
    "duration": 49,
    "start_time": "2024-02-20T10:58:15.215Z"
   },
   {
    "duration": 220,
    "start_time": "2024-02-20T10:58:15.266Z"
   },
   {
    "duration": 8,
    "start_time": "2024-02-20T10:58:15.488Z"
   },
   {
    "duration": 253,
    "start_time": "2024-02-20T10:58:15.498Z"
   },
   {
    "duration": 8,
    "start_time": "2024-02-20T10:58:15.752Z"
   },
   {
    "duration": 404,
    "start_time": "2024-02-20T10:58:15.761Z"
   },
   {
    "duration": 202,
    "start_time": "2024-02-20T10:58:16.167Z"
   },
   {
    "duration": 9,
    "start_time": "2024-02-20T10:58:16.372Z"
   },
   {
    "duration": 222,
    "start_time": "2024-02-20T10:58:16.382Z"
   },
   {
    "duration": 10,
    "start_time": "2024-02-20T10:58:16.606Z"
   },
   {
    "duration": 294,
    "start_time": "2024-02-20T10:58:16.617Z"
   },
   {
    "duration": 42,
    "start_time": "2024-02-20T10:58:16.912Z"
   },
   {
    "duration": 51,
    "start_time": "2024-02-20T10:58:16.956Z"
   },
   {
    "duration": 4,
    "start_time": "2024-02-20T10:58:17.009Z"
   },
   {
    "duration": 8,
    "start_time": "2024-02-20T10:58:17.015Z"
   },
   {
    "duration": 8,
    "start_time": "2024-02-20T10:58:17.024Z"
   },
   {
    "duration": 5,
    "start_time": "2024-02-20T10:58:17.034Z"
   },
   {
    "duration": 33,
    "start_time": "2024-02-20T10:58:17.040Z"
   },
   {
    "duration": 7,
    "start_time": "2024-02-20T10:58:17.075Z"
   },
   {
    "duration": 7,
    "start_time": "2024-02-20T10:58:17.084Z"
   },
   {
    "duration": 7,
    "start_time": "2024-02-20T10:58:17.092Z"
   },
   {
    "duration": 4,
    "start_time": "2024-02-20T10:58:17.100Z"
   },
   {
    "duration": 303,
    "start_time": "2024-02-20T10:58:17.106Z"
   },
   {
    "duration": 4,
    "start_time": "2024-02-20T10:58:17.411Z"
   },
   {
    "duration": 453,
    "start_time": "2024-02-20T10:58:17.416Z"
   },
   {
    "duration": 5,
    "start_time": "2024-02-20T10:58:17.873Z"
   },
   {
    "duration": 15,
    "start_time": "2024-02-20T10:58:17.881Z"
   },
   {
    "duration": 7,
    "start_time": "2024-02-20T10:58:17.898Z"
   },
   {
    "duration": 12,
    "start_time": "2024-02-20T10:58:17.906Z"
   },
   {
    "duration": 7,
    "start_time": "2024-02-20T10:58:17.919Z"
   },
   {
    "duration": 4,
    "start_time": "2024-02-20T11:18:43.372Z"
   },
   {
    "duration": 79,
    "start_time": "2024-02-20T11:18:43.383Z"
   },
   {
    "duration": 10,
    "start_time": "2024-02-20T11:18:43.464Z"
   },
   {
    "duration": 15,
    "start_time": "2024-02-20T11:18:43.475Z"
   },
   {
    "duration": 199,
    "start_time": "2024-02-20T11:18:43.492Z"
   },
   {
    "duration": 9,
    "start_time": "2024-02-20T11:18:43.693Z"
   },
   {
    "duration": 21,
    "start_time": "2024-02-20T11:18:43.703Z"
   },
   {
    "duration": 324,
    "start_time": "2024-02-20T11:18:43.725Z"
   },
   {
    "duration": 8,
    "start_time": "2024-02-20T11:18:44.050Z"
   },
   {
    "duration": 14,
    "start_time": "2024-02-20T11:18:44.059Z"
   },
   {
    "duration": 12,
    "start_time": "2024-02-20T11:18:44.075Z"
   },
   {
    "duration": 20,
    "start_time": "2024-02-20T11:18:44.088Z"
   },
   {
    "duration": 9,
    "start_time": "2024-02-20T11:18:44.110Z"
   },
   {
    "duration": 17,
    "start_time": "2024-02-20T11:18:44.121Z"
   },
   {
    "duration": 10,
    "start_time": "2024-02-20T11:18:44.140Z"
   },
   {
    "duration": 16,
    "start_time": "2024-02-20T11:18:44.152Z"
   },
   {
    "duration": 5,
    "start_time": "2024-02-20T11:18:44.170Z"
   },
   {
    "duration": 21,
    "start_time": "2024-02-20T11:18:44.177Z"
   },
   {
    "duration": 12,
    "start_time": "2024-02-20T11:18:44.200Z"
   },
   {
    "duration": 4,
    "start_time": "2024-02-20T11:18:44.213Z"
   },
   {
    "duration": 16,
    "start_time": "2024-02-20T11:18:44.219Z"
   },
   {
    "duration": 7,
    "start_time": "2024-02-20T11:18:44.237Z"
   },
   {
    "duration": 20,
    "start_time": "2024-02-20T11:18:44.245Z"
   },
   {
    "duration": 26,
    "start_time": "2024-02-20T11:18:44.266Z"
   },
   {
    "duration": 9,
    "start_time": "2024-02-20T11:18:44.294Z"
   },
   {
    "duration": 14,
    "start_time": "2024-02-20T11:18:44.305Z"
   },
   {
    "duration": 7,
    "start_time": "2024-02-20T11:18:44.320Z"
   },
   {
    "duration": 273,
    "start_time": "2024-02-20T11:18:44.328Z"
   },
   {
    "duration": 5,
    "start_time": "2024-02-20T11:18:44.605Z"
   },
   {
    "duration": 26,
    "start_time": "2024-02-20T11:18:44.611Z"
   },
   {
    "duration": 190,
    "start_time": "2024-02-20T11:18:44.639Z"
   },
   {
    "duration": 276,
    "start_time": "2024-02-20T11:18:44.831Z"
   },
   {
    "duration": 4,
    "start_time": "2024-02-20T11:18:45.109Z"
   },
   {
    "duration": 32,
    "start_time": "2024-02-20T11:18:45.115Z"
   },
   {
    "duration": 203,
    "start_time": "2024-02-20T11:18:45.149Z"
   },
   {
    "duration": 186,
    "start_time": "2024-02-20T11:18:45.354Z"
   },
   {
    "duration": 11,
    "start_time": "2024-02-20T11:18:45.542Z"
   },
   {
    "duration": 195,
    "start_time": "2024-02-20T11:18:45.554Z"
   },
   {
    "duration": 191,
    "start_time": "2024-02-20T11:18:45.751Z"
   },
   {
    "duration": 8,
    "start_time": "2024-02-20T11:18:45.943Z"
   },
   {
    "duration": 295,
    "start_time": "2024-02-20T11:18:45.952Z"
   },
   {
    "duration": 218,
    "start_time": "2024-02-20T11:18:46.249Z"
   },
   {
    "duration": 11,
    "start_time": "2024-02-20T11:18:46.469Z"
   },
   {
    "duration": 25,
    "start_time": "2024-02-20T11:18:46.482Z"
   },
   {
    "duration": 39,
    "start_time": "2024-02-20T11:18:46.509Z"
   },
   {
    "duration": 55,
    "start_time": "2024-02-20T11:18:46.549Z"
   },
   {
    "duration": 3,
    "start_time": "2024-02-20T11:18:46.606Z"
   },
   {
    "duration": 8,
    "start_time": "2024-02-20T11:18:46.611Z"
   },
   {
    "duration": 34,
    "start_time": "2024-02-20T11:18:46.620Z"
   },
   {
    "duration": 22,
    "start_time": "2024-02-20T11:18:46.656Z"
   },
   {
    "duration": 219,
    "start_time": "2024-02-20T11:18:46.680Z"
   },
   {
    "duration": 8,
    "start_time": "2024-02-20T11:18:46.901Z"
   },
   {
    "duration": 249,
    "start_time": "2024-02-20T11:18:46.911Z"
   },
   {
    "duration": 12,
    "start_time": "2024-02-20T11:18:47.161Z"
   },
   {
    "duration": 392,
    "start_time": "2024-02-20T11:18:47.175Z"
   },
   {
    "duration": 206,
    "start_time": "2024-02-20T11:18:47.570Z"
   },
   {
    "duration": 8,
    "start_time": "2024-02-20T11:18:47.777Z"
   },
   {
    "duration": 211,
    "start_time": "2024-02-20T11:18:47.787Z"
   },
   {
    "duration": 8,
    "start_time": "2024-02-20T11:18:47.999Z"
   },
   {
    "duration": 798,
    "start_time": "2024-02-20T11:18:48.009Z"
   },
   {
    "duration": 45,
    "start_time": "2024-02-20T11:18:48.809Z"
   },
   {
    "duration": 49,
    "start_time": "2024-02-20T11:18:48.855Z"
   },
   {
    "duration": 5,
    "start_time": "2024-02-20T11:18:48.905Z"
   },
   {
    "duration": 9,
    "start_time": "2024-02-20T11:18:48.911Z"
   },
   {
    "duration": 10,
    "start_time": "2024-02-20T11:18:48.921Z"
   },
   {
    "duration": 7,
    "start_time": "2024-02-20T11:18:48.933Z"
   },
   {
    "duration": 10,
    "start_time": "2024-02-20T11:18:48.942Z"
   },
   {
    "duration": 20,
    "start_time": "2024-02-20T11:18:48.954Z"
   },
   {
    "duration": 13,
    "start_time": "2024-02-20T11:18:48.975Z"
   },
   {
    "duration": 8,
    "start_time": "2024-02-20T11:18:48.989Z"
   },
   {
    "duration": 5,
    "start_time": "2024-02-20T11:18:48.998Z"
   },
   {
    "duration": 300,
    "start_time": "2024-02-20T11:18:49.004Z"
   },
   {
    "duration": 4,
    "start_time": "2024-02-20T11:18:49.306Z"
   },
   {
    "duration": 427,
    "start_time": "2024-02-20T11:18:49.312Z"
   },
   {
    "duration": 4,
    "start_time": "2024-02-20T11:18:49.741Z"
   },
   {
    "duration": 7,
    "start_time": "2024-02-20T11:18:49.747Z"
   },
   {
    "duration": 18,
    "start_time": "2024-02-20T11:18:49.756Z"
   },
   {
    "duration": 10,
    "start_time": "2024-02-20T11:18:49.775Z"
   },
   {
    "duration": 8,
    "start_time": "2024-02-20T11:18:49.786Z"
   },
   {
    "duration": 3,
    "start_time": "2024-02-20T11:19:11.097Z"
   },
   {
    "duration": 71,
    "start_time": "2024-02-20T11:19:11.102Z"
   },
   {
    "duration": 9,
    "start_time": "2024-02-20T11:19:11.174Z"
   },
   {
    "duration": 30,
    "start_time": "2024-02-20T11:19:11.184Z"
   },
   {
    "duration": 175,
    "start_time": "2024-02-20T11:19:11.216Z"
   },
   {
    "duration": 8,
    "start_time": "2024-02-20T11:19:11.393Z"
   },
   {
    "duration": 14,
    "start_time": "2024-02-20T11:19:11.403Z"
   },
   {
    "duration": 303,
    "start_time": "2024-02-20T11:19:11.419Z"
   },
   {
    "duration": 7,
    "start_time": "2024-02-20T11:19:11.724Z"
   },
   {
    "duration": 12,
    "start_time": "2024-02-20T11:19:11.733Z"
   },
   {
    "duration": 9,
    "start_time": "2024-02-20T11:19:11.747Z"
   },
   {
    "duration": 15,
    "start_time": "2024-02-20T11:19:11.758Z"
   },
   {
    "duration": 7,
    "start_time": "2024-02-20T11:19:11.774Z"
   },
   {
    "duration": 24,
    "start_time": "2024-02-20T11:19:11.784Z"
   },
   {
    "duration": 7,
    "start_time": "2024-02-20T11:19:11.809Z"
   },
   {
    "duration": 5,
    "start_time": "2024-02-20T11:19:11.817Z"
   },
   {
    "duration": 17,
    "start_time": "2024-02-20T11:19:11.823Z"
   },
   {
    "duration": 17,
    "start_time": "2024-02-20T11:19:11.841Z"
   },
   {
    "duration": 18,
    "start_time": "2024-02-20T11:19:11.859Z"
   },
   {
    "duration": 4,
    "start_time": "2024-02-20T11:19:11.878Z"
   },
   {
    "duration": 12,
    "start_time": "2024-02-20T11:19:11.883Z"
   },
   {
    "duration": 5,
    "start_time": "2024-02-20T11:19:11.896Z"
   },
   {
    "duration": 11,
    "start_time": "2024-02-20T11:19:11.902Z"
   },
   {
    "duration": 15,
    "start_time": "2024-02-20T11:19:11.914Z"
   },
   {
    "duration": 4,
    "start_time": "2024-02-20T11:19:11.930Z"
   },
   {
    "duration": 15,
    "start_time": "2024-02-20T11:19:11.936Z"
   },
   {
    "duration": 21,
    "start_time": "2024-02-20T11:19:11.952Z"
   },
   {
    "duration": 276,
    "start_time": "2024-02-20T11:19:11.974Z"
   },
   {
    "duration": 4,
    "start_time": "2024-02-20T11:19:12.251Z"
   },
   {
    "duration": 17,
    "start_time": "2024-02-20T11:19:12.257Z"
   },
   {
    "duration": 200,
    "start_time": "2024-02-20T11:19:12.275Z"
   },
   {
    "duration": 291,
    "start_time": "2024-02-20T11:19:12.477Z"
   },
   {
    "duration": 5,
    "start_time": "2024-02-20T11:19:12.772Z"
   },
   {
    "duration": 27,
    "start_time": "2024-02-20T11:19:12.779Z"
   },
   {
    "duration": 173,
    "start_time": "2024-02-20T11:19:12.808Z"
   },
   {
    "duration": 179,
    "start_time": "2024-02-20T11:19:12.983Z"
   },
   {
    "duration": 16,
    "start_time": "2024-02-20T11:19:13.163Z"
   },
   {
    "duration": 190,
    "start_time": "2024-02-20T11:19:13.180Z"
   },
   {
    "duration": 184,
    "start_time": "2024-02-20T11:19:13.372Z"
   },
   {
    "duration": 16,
    "start_time": "2024-02-20T11:19:13.558Z"
   },
   {
    "duration": 257,
    "start_time": "2024-02-20T11:19:13.579Z"
   },
   {
    "duration": 217,
    "start_time": "2024-02-20T11:19:13.838Z"
   },
   {
    "duration": 17,
    "start_time": "2024-02-20T11:19:14.056Z"
   },
   {
    "duration": 4,
    "start_time": "2024-02-20T11:19:14.075Z"
   },
   {
    "duration": 22,
    "start_time": "2024-02-20T11:19:14.081Z"
   },
   {
    "duration": 26,
    "start_time": "2024-02-20T11:19:14.105Z"
   },
   {
    "duration": 4,
    "start_time": "2024-02-20T11:19:14.133Z"
   },
   {
    "duration": 15,
    "start_time": "2024-02-20T11:19:14.138Z"
   },
   {
    "duration": 32,
    "start_time": "2024-02-20T11:19:14.154Z"
   },
   {
    "duration": 13,
    "start_time": "2024-02-20T11:19:14.188Z"
   },
   {
    "duration": 231,
    "start_time": "2024-02-20T11:19:14.203Z"
   },
   {
    "duration": 8,
    "start_time": "2024-02-20T11:19:14.435Z"
   },
   {
    "duration": 227,
    "start_time": "2024-02-20T11:19:14.445Z"
   },
   {
    "duration": 8,
    "start_time": "2024-02-20T11:19:14.674Z"
   },
   {
    "duration": 393,
    "start_time": "2024-02-20T11:19:14.683Z"
   },
   {
    "duration": 204,
    "start_time": "2024-02-20T11:19:15.078Z"
   },
   {
    "duration": 9,
    "start_time": "2024-02-20T11:19:15.284Z"
   },
   {
    "duration": 203,
    "start_time": "2024-02-20T11:19:15.294Z"
   },
   {
    "duration": 8,
    "start_time": "2024-02-20T11:19:15.498Z"
   },
   {
    "duration": 296,
    "start_time": "2024-02-20T11:19:15.507Z"
   },
   {
    "duration": 44,
    "start_time": "2024-02-20T11:19:15.804Z"
   },
   {
    "duration": 53,
    "start_time": "2024-02-20T11:19:15.850Z"
   },
   {
    "duration": 4,
    "start_time": "2024-02-20T11:19:15.904Z"
   },
   {
    "duration": 5,
    "start_time": "2024-02-20T11:19:15.910Z"
   },
   {
    "duration": 8,
    "start_time": "2024-02-20T11:19:15.916Z"
   },
   {
    "duration": 6,
    "start_time": "2024-02-20T11:19:15.925Z"
   },
   {
    "duration": 12,
    "start_time": "2024-02-20T11:19:15.933Z"
   },
   {
    "duration": 27,
    "start_time": "2024-02-20T11:19:15.947Z"
   },
   {
    "duration": 5,
    "start_time": "2024-02-20T11:19:15.975Z"
   },
   {
    "duration": 8,
    "start_time": "2024-02-20T11:19:15.982Z"
   },
   {
    "duration": 12,
    "start_time": "2024-02-20T11:19:15.992Z"
   },
   {
    "duration": 306,
    "start_time": "2024-02-20T11:19:16.006Z"
   },
   {
    "duration": 5,
    "start_time": "2024-02-20T11:19:16.314Z"
   },
   {
    "duration": 429,
    "start_time": "2024-02-20T11:19:16.321Z"
   },
   {
    "duration": 5,
    "start_time": "2024-02-20T11:19:16.751Z"
   },
   {
    "duration": 20,
    "start_time": "2024-02-20T11:19:16.757Z"
   },
   {
    "duration": 7,
    "start_time": "2024-02-20T11:19:16.779Z"
   },
   {
    "duration": 11,
    "start_time": "2024-02-20T11:19:16.787Z"
   },
   {
    "duration": 13,
    "start_time": "2024-02-20T11:19:16.800Z"
   },
   {
    "duration": 51,
    "start_time": "2024-02-21T10:19:50.527Z"
   },
   {
    "duration": 1308,
    "start_time": "2024-02-21T10:19:59.488Z"
   },
   {
    "duration": 344,
    "start_time": "2024-02-21T10:20:00.798Z"
   },
   {
    "duration": 13,
    "start_time": "2024-02-21T10:20:01.143Z"
   },
   {
    "duration": 54,
    "start_time": "2024-02-21T10:20:01.157Z"
   },
   {
    "duration": 233,
    "start_time": "2024-02-21T10:20:01.213Z"
   },
   {
    "duration": 10,
    "start_time": "2024-02-21T10:20:01.447Z"
   },
   {
    "duration": 59,
    "start_time": "2024-02-21T10:20:01.472Z"
   },
   {
    "duration": 351,
    "start_time": "2024-02-21T10:20:01.533Z"
   },
   {
    "duration": 9,
    "start_time": "2024-02-21T10:20:01.886Z"
   },
   {
    "duration": 65,
    "start_time": "2024-02-21T10:20:01.897Z"
   },
   {
    "duration": 43,
    "start_time": "2024-02-21T10:20:01.964Z"
   },
   {
    "duration": 50,
    "start_time": "2024-02-21T10:20:02.008Z"
   },
   {
    "duration": 64,
    "start_time": "2024-02-21T10:20:02.060Z"
   },
   {
    "duration": 46,
    "start_time": "2024-02-21T10:20:02.129Z"
   },
   {
    "duration": 68,
    "start_time": "2024-02-21T10:20:02.176Z"
   },
   {
    "duration": 54,
    "start_time": "2024-02-21T10:20:02.246Z"
   },
   {
    "duration": 40,
    "start_time": "2024-02-21T10:20:02.301Z"
   },
   {
    "duration": 21,
    "start_time": "2024-02-21T10:20:02.343Z"
   },
   {
    "duration": 26,
    "start_time": "2024-02-21T10:20:02.366Z"
   },
   {
    "duration": 57,
    "start_time": "2024-02-21T10:20:02.394Z"
   },
   {
    "duration": 49,
    "start_time": "2024-02-21T10:20:02.453Z"
   },
   {
    "duration": 37,
    "start_time": "2024-02-21T10:20:02.504Z"
   },
   {
    "duration": 35,
    "start_time": "2024-02-21T10:20:02.543Z"
   },
   {
    "duration": 75,
    "start_time": "2024-02-21T10:20:02.580Z"
   },
   {
    "duration": 38,
    "start_time": "2024-02-21T10:20:02.657Z"
   },
   {
    "duration": 43,
    "start_time": "2024-02-21T10:20:02.696Z"
   },
   {
    "duration": 28,
    "start_time": "2024-02-21T10:20:02.741Z"
   },
   {
    "duration": 296,
    "start_time": "2024-02-21T10:20:02.771Z"
   },
   {
    "duration": 6,
    "start_time": "2024-02-21T10:20:03.069Z"
   },
   {
    "duration": 38,
    "start_time": "2024-02-21T10:20:03.076Z"
   },
   {
    "duration": 229,
    "start_time": "2024-02-21T10:20:03.115Z"
   },
   {
    "duration": 297,
    "start_time": "2024-02-21T10:20:03.345Z"
   },
   {
    "duration": 5,
    "start_time": "2024-02-21T10:20:03.644Z"
   },
   {
    "duration": 22,
    "start_time": "2024-02-21T10:20:03.651Z"
   },
   {
    "duration": 200,
    "start_time": "2024-02-21T10:20:03.676Z"
   },
   {
    "duration": 210,
    "start_time": "2024-02-21T10:20:03.879Z"
   },
   {
    "duration": 14,
    "start_time": "2024-02-21T10:20:04.090Z"
   },
   {
    "duration": 76,
    "start_time": "2024-02-21T10:20:17.950Z"
   },
   {
    "duration": 151,
    "start_time": "2024-02-21T10:21:09.767Z"
   },
   {
    "duration": 94,
    "start_time": "2024-02-21T10:21:37.860Z"
   },
   {
    "duration": 80,
    "start_time": "2024-02-21T10:22:09.601Z"
   },
   {
    "duration": 88,
    "start_time": "2024-02-21T10:24:37.064Z"
   },
   {
    "duration": 102,
    "start_time": "2024-02-21T10:25:09.272Z"
   },
   {
    "duration": 88,
    "start_time": "2024-02-21T10:26:14.224Z"
   },
   {
    "duration": 87,
    "start_time": "2024-02-21T10:28:07.789Z"
   },
   {
    "duration": 279,
    "start_time": "2024-02-21T10:31:25.618Z"
   },
   {
    "duration": 280,
    "start_time": "2024-02-21T10:31:37.517Z"
   },
   {
    "duration": 292,
    "start_time": "2024-02-21T10:31:54.614Z"
   },
   {
    "duration": 259,
    "start_time": "2024-02-21T10:32:08.534Z"
   },
   {
    "duration": 274,
    "start_time": "2024-02-21T10:32:16.498Z"
   },
   {
    "duration": 289,
    "start_time": "2024-02-21T10:32:25.960Z"
   },
   {
    "duration": 288,
    "start_time": "2024-02-21T10:33:16.654Z"
   },
   {
    "duration": 300,
    "start_time": "2024-02-21T10:33:36.434Z"
   },
   {
    "duration": 450,
    "start_time": "2024-02-21T10:34:28.778Z"
   },
   {
    "duration": 322,
    "start_time": "2024-02-21T10:34:39.308Z"
   },
   {
    "duration": 374,
    "start_time": "2024-02-21T10:34:46.711Z"
   },
   {
    "duration": 317,
    "start_time": "2024-02-21T10:36:08.554Z"
   },
   {
    "duration": 325,
    "start_time": "2024-02-21T10:39:29.725Z"
   },
   {
    "duration": 184,
    "start_time": "2024-02-21T10:42:57.793Z"
   },
   {
    "duration": 496,
    "start_time": "2024-02-21T10:43:15.706Z"
   },
   {
    "duration": 313,
    "start_time": "2024-02-21T10:43:25.448Z"
   },
   {
    "duration": 309,
    "start_time": "2024-02-21T10:43:39.135Z"
   },
   {
    "duration": 510,
    "start_time": "2024-02-21T10:47:00.998Z"
   },
   {
    "duration": 350,
    "start_time": "2024-02-21T10:47:16.859Z"
   },
   {
    "duration": 337,
    "start_time": "2024-02-21T10:49:34.262Z"
   }
  ],
  "kernelspec": {
   "display_name": "Python 3 (ipykernel)",
   "language": "python",
   "name": "python3"
  },
  "language_info": {
   "codemirror_mode": {
    "name": "ipython",
    "version": 3
   },
   "file_extension": ".py",
   "mimetype": "text/x-python",
   "name": "python",
   "nbconvert_exporter": "python",
   "pygments_lexer": "ipython3",
   "version": "3.9.5"
  },
  "toc": {
   "base_numbering": 1,
   "nav_menu": {},
   "number_sections": true,
   "sideBar": true,
   "skip_h1_title": true,
   "title_cell": "Table of Contents",
   "title_sidebar": "Contents",
   "toc_cell": false,
   "toc_position": {},
   "toc_section_display": true,
   "toc_window_display": false
  }
 },
 "nbformat": 4,
 "nbformat_minor": 5
}
