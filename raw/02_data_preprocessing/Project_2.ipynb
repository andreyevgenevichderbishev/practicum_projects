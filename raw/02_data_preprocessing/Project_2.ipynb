{
 "cells": [
  {
   "cell_type": "markdown",
   "id": "9fbba468",
   "metadata": {},
   "source": [
    "<b>Привет!</b>\n",
    "\n",
    "Меня зовут Харочкина Екатерина, и я буду проверять твой проект. Давай общаться на «ты», но если это неудобно, пожалуйста, сообщи. Моя основная цель — не указать на совершенные тобою ошибки, а поделиться своим опытом и помочь тебе совершенствоваться как профессионалу.\n",
    "\n",
    "Ты подготовил замечательный проект, но есть аспекты, которые еще можно улучшить. Я буду использовать комментарии с цветовой разметкой. Пожалуйста, **не перемещай, не изменяй и не удаляй их**. Это поможет выполнить повторную проверку твоего проекта оперативнее.\n",
    "\n",
    "<div class=\"alert alert-danger\">\n",
    "<b>Комментарий ревьюера №1</b> ❌\n",
    "    \n",
    "Таким комментарием выделены самые важные замечания. Без их отработки проект не будет принят.\n",
    "</div>\n",
    "\n",
    "<div class=\"alert alert-warning\">\n",
    "<b>Комментарий ревьюера №1</b> ⚠️\n",
    "    \n",
    "Таким комментарием выделены небольшие замечания и рекомендации, которые будет хорошо учесть.\n",
    "</div>\n",
    "\n",
    "<div class=\"alert alert-success\">\n",
    "<b>Комментарий ревьюера №1</b> ✅\n",
    "    \n",
    "Таким комментарием выделены удачные решения🙂\n",
    "</div>\n",
    "\n",
    "Свои комментарии ты можешь помечать синим цветом.\n",
    "\n",
    "<div class=\"alert alert-info\">\n",
    "<b>Комментарий студента №1</b>\n",
    "    \n",
    "Так ты можешь оформить свой комментарий\n",
    "</div>\n",
    "\n",
    "Давай работать над проектом в диалоге: если ты **что-то меняешь** в проекте по моим рекомендациям — **пиши об этом**. После того, как ты все доработаешь, я смогу принять твой проект!) "
   ]
  },
  {
   "cell_type": "markdown",
   "id": "25da1c6b",
   "metadata": {
    "deletable": false,
    "editable": false,
    "id": "c81daeeb"
   },
   "source": [
    "# Исследование надежности заемщиков\n"
   ]
  },
  {
   "cell_type": "markdown",
   "id": "1bc6c69b",
   "metadata": {},
   "source": [
    "<div class=\"alert alert-success\">\n",
    "<b>Комментарий ревьюера №1</b> ✅\n",
    "    \n",
    "Можно оформить описание проекта\n",
    "</div>"
   ]
  },
  {
   "cell_type": "markdown",
   "id": "fc3860f1",
   "metadata": {
    "deletable": false,
    "editable": false,
    "id": "827c20bf"
   },
   "source": [
    "Во второй части проекта вы выполните шаги 3 и 4. Их вручную проверит ревьюер.\n",
    "Чтобы вам не пришлось писать код заново для шагов 1 и 2, мы добавили авторские решения в ячейки с кодом. \n",
    "\n"
   ]
  },
  {
   "cell_type": "markdown",
   "id": "d092f412",
   "metadata": {
    "deletable": false,
    "editable": false,
    "id": "744d7639"
   },
   "source": [
    "## Откройте таблицу и изучите общую информацию о данных"
   ]
  },
  {
   "cell_type": "markdown",
   "id": "e46d9f18",
   "metadata": {
    "deletable": false,
    "editable": false,
    "id": "e7a14c31"
   },
   "source": [
    "**Задание 1. Импортируйте библиотеку pandas. Считайте данные из csv-файла в датафрейм и сохраните в переменную `data`. Путь к файлу:**\n",
    "\n",
    "`/datasets/data.csv`"
   ]
  },
  {
   "cell_type": "code",
   "execution_count": 1,
   "id": "f4659db2",
   "metadata": {
    "deletable": false,
    "id": "7bcf75c9"
   },
   "outputs": [],
   "source": [
    "import pandas as pd\n",
    "\n",
    "try:\n",
    "    data = pd.read_csv('/datasets/data.csv')\n",
    "except:\n",
    "    data = pd.read_csv('https://code.s3.yandex.net/datasets/data.csv')"
   ]
  },
  {
   "cell_type": "markdown",
   "id": "08b7be3c",
   "metadata": {
    "deletable": false,
    "editable": false,
    "id": "b8038fe3"
   },
   "source": [
    "**Задание 2. Выведите первые 20 строчек датафрейма `data` на экран.**"
   ]
  },
  {
   "cell_type": "code",
   "execution_count": 2,
   "id": "5ac4e20d",
   "metadata": {
    "deletable": false,
    "id": "2a7cab99",
    "outputId": "1a8f3ef2-d323-4ec2-ddf7-89670b5944c4"
   },
   "outputs": [
    {
     "data": {
      "text/html": [
       "<div>\n",
       "<style scoped>\n",
       "    .dataframe tbody tr th:only-of-type {\n",
       "        vertical-align: middle;\n",
       "    }\n",
       "\n",
       "    .dataframe tbody tr th {\n",
       "        vertical-align: top;\n",
       "    }\n",
       "\n",
       "    .dataframe thead th {\n",
       "        text-align: right;\n",
       "    }\n",
       "</style>\n",
       "<table border=\"1\" class=\"dataframe\">\n",
       "  <thead>\n",
       "    <tr style=\"text-align: right;\">\n",
       "      <th></th>\n",
       "      <th>children</th>\n",
       "      <th>days_employed</th>\n",
       "      <th>dob_years</th>\n",
       "      <th>education</th>\n",
       "      <th>education_id</th>\n",
       "      <th>family_status</th>\n",
       "      <th>family_status_id</th>\n",
       "      <th>gender</th>\n",
       "      <th>income_type</th>\n",
       "      <th>debt</th>\n",
       "      <th>total_income</th>\n",
       "      <th>purpose</th>\n",
       "    </tr>\n",
       "  </thead>\n",
       "  <tbody>\n",
       "    <tr>\n",
       "      <th>0</th>\n",
       "      <td>1</td>\n",
       "      <td>-8437.673028</td>\n",
       "      <td>42</td>\n",
       "      <td>высшее</td>\n",
       "      <td>0</td>\n",
       "      <td>женат / замужем</td>\n",
       "      <td>0</td>\n",
       "      <td>F</td>\n",
       "      <td>сотрудник</td>\n",
       "      <td>0</td>\n",
       "      <td>253875.639453</td>\n",
       "      <td>покупка жилья</td>\n",
       "    </tr>\n",
       "    <tr>\n",
       "      <th>1</th>\n",
       "      <td>1</td>\n",
       "      <td>-4024.803754</td>\n",
       "      <td>36</td>\n",
       "      <td>среднее</td>\n",
       "      <td>1</td>\n",
       "      <td>женат / замужем</td>\n",
       "      <td>0</td>\n",
       "      <td>F</td>\n",
       "      <td>сотрудник</td>\n",
       "      <td>0</td>\n",
       "      <td>112080.014102</td>\n",
       "      <td>приобретение автомобиля</td>\n",
       "    </tr>\n",
       "    <tr>\n",
       "      <th>2</th>\n",
       "      <td>0</td>\n",
       "      <td>-5623.422610</td>\n",
       "      <td>33</td>\n",
       "      <td>Среднее</td>\n",
       "      <td>1</td>\n",
       "      <td>женат / замужем</td>\n",
       "      <td>0</td>\n",
       "      <td>M</td>\n",
       "      <td>сотрудник</td>\n",
       "      <td>0</td>\n",
       "      <td>145885.952297</td>\n",
       "      <td>покупка жилья</td>\n",
       "    </tr>\n",
       "    <tr>\n",
       "      <th>3</th>\n",
       "      <td>3</td>\n",
       "      <td>-4124.747207</td>\n",
       "      <td>32</td>\n",
       "      <td>среднее</td>\n",
       "      <td>1</td>\n",
       "      <td>женат / замужем</td>\n",
       "      <td>0</td>\n",
       "      <td>M</td>\n",
       "      <td>сотрудник</td>\n",
       "      <td>0</td>\n",
       "      <td>267628.550329</td>\n",
       "      <td>дополнительное образование</td>\n",
       "    </tr>\n",
       "    <tr>\n",
       "      <th>4</th>\n",
       "      <td>0</td>\n",
       "      <td>340266.072047</td>\n",
       "      <td>53</td>\n",
       "      <td>среднее</td>\n",
       "      <td>1</td>\n",
       "      <td>гражданский брак</td>\n",
       "      <td>1</td>\n",
       "      <td>F</td>\n",
       "      <td>пенсионер</td>\n",
       "      <td>0</td>\n",
       "      <td>158616.077870</td>\n",
       "      <td>сыграть свадьбу</td>\n",
       "    </tr>\n",
       "    <tr>\n",
       "      <th>5</th>\n",
       "      <td>0</td>\n",
       "      <td>-926.185831</td>\n",
       "      <td>27</td>\n",
       "      <td>высшее</td>\n",
       "      <td>0</td>\n",
       "      <td>гражданский брак</td>\n",
       "      <td>1</td>\n",
       "      <td>M</td>\n",
       "      <td>компаньон</td>\n",
       "      <td>0</td>\n",
       "      <td>255763.565419</td>\n",
       "      <td>покупка жилья</td>\n",
       "    </tr>\n",
       "    <tr>\n",
       "      <th>6</th>\n",
       "      <td>0</td>\n",
       "      <td>-2879.202052</td>\n",
       "      <td>43</td>\n",
       "      <td>высшее</td>\n",
       "      <td>0</td>\n",
       "      <td>женат / замужем</td>\n",
       "      <td>0</td>\n",
       "      <td>F</td>\n",
       "      <td>компаньон</td>\n",
       "      <td>0</td>\n",
       "      <td>240525.971920</td>\n",
       "      <td>операции с жильем</td>\n",
       "    </tr>\n",
       "    <tr>\n",
       "      <th>7</th>\n",
       "      <td>0</td>\n",
       "      <td>-152.779569</td>\n",
       "      <td>50</td>\n",
       "      <td>СРЕДНЕЕ</td>\n",
       "      <td>1</td>\n",
       "      <td>женат / замужем</td>\n",
       "      <td>0</td>\n",
       "      <td>M</td>\n",
       "      <td>сотрудник</td>\n",
       "      <td>0</td>\n",
       "      <td>135823.934197</td>\n",
       "      <td>образование</td>\n",
       "    </tr>\n",
       "    <tr>\n",
       "      <th>8</th>\n",
       "      <td>2</td>\n",
       "      <td>-6929.865299</td>\n",
       "      <td>35</td>\n",
       "      <td>ВЫСШЕЕ</td>\n",
       "      <td>0</td>\n",
       "      <td>гражданский брак</td>\n",
       "      <td>1</td>\n",
       "      <td>F</td>\n",
       "      <td>сотрудник</td>\n",
       "      <td>0</td>\n",
       "      <td>95856.832424</td>\n",
       "      <td>на проведение свадьбы</td>\n",
       "    </tr>\n",
       "    <tr>\n",
       "      <th>9</th>\n",
       "      <td>0</td>\n",
       "      <td>-2188.756445</td>\n",
       "      <td>41</td>\n",
       "      <td>среднее</td>\n",
       "      <td>1</td>\n",
       "      <td>женат / замужем</td>\n",
       "      <td>0</td>\n",
       "      <td>M</td>\n",
       "      <td>сотрудник</td>\n",
       "      <td>0</td>\n",
       "      <td>144425.938277</td>\n",
       "      <td>покупка жилья для семьи</td>\n",
       "    </tr>\n",
       "    <tr>\n",
       "      <th>10</th>\n",
       "      <td>2</td>\n",
       "      <td>-4171.483647</td>\n",
       "      <td>36</td>\n",
       "      <td>высшее</td>\n",
       "      <td>0</td>\n",
       "      <td>женат / замужем</td>\n",
       "      <td>0</td>\n",
       "      <td>M</td>\n",
       "      <td>компаньон</td>\n",
       "      <td>0</td>\n",
       "      <td>113943.491460</td>\n",
       "      <td>покупка недвижимости</td>\n",
       "    </tr>\n",
       "    <tr>\n",
       "      <th>11</th>\n",
       "      <td>0</td>\n",
       "      <td>-792.701887</td>\n",
       "      <td>40</td>\n",
       "      <td>среднее</td>\n",
       "      <td>1</td>\n",
       "      <td>женат / замужем</td>\n",
       "      <td>0</td>\n",
       "      <td>F</td>\n",
       "      <td>сотрудник</td>\n",
       "      <td>0</td>\n",
       "      <td>77069.234271</td>\n",
       "      <td>покупка коммерческой недвижимости</td>\n",
       "    </tr>\n",
       "    <tr>\n",
       "      <th>12</th>\n",
       "      <td>0</td>\n",
       "      <td>NaN</td>\n",
       "      <td>65</td>\n",
       "      <td>среднее</td>\n",
       "      <td>1</td>\n",
       "      <td>гражданский брак</td>\n",
       "      <td>1</td>\n",
       "      <td>M</td>\n",
       "      <td>пенсионер</td>\n",
       "      <td>0</td>\n",
       "      <td>NaN</td>\n",
       "      <td>сыграть свадьбу</td>\n",
       "    </tr>\n",
       "    <tr>\n",
       "      <th>13</th>\n",
       "      <td>0</td>\n",
       "      <td>-1846.641941</td>\n",
       "      <td>54</td>\n",
       "      <td>неоконченное высшее</td>\n",
       "      <td>2</td>\n",
       "      <td>женат / замужем</td>\n",
       "      <td>0</td>\n",
       "      <td>F</td>\n",
       "      <td>сотрудник</td>\n",
       "      <td>0</td>\n",
       "      <td>130458.228857</td>\n",
       "      <td>приобретение автомобиля</td>\n",
       "    </tr>\n",
       "    <tr>\n",
       "      <th>14</th>\n",
       "      <td>0</td>\n",
       "      <td>-1844.956182</td>\n",
       "      <td>56</td>\n",
       "      <td>высшее</td>\n",
       "      <td>0</td>\n",
       "      <td>гражданский брак</td>\n",
       "      <td>1</td>\n",
       "      <td>F</td>\n",
       "      <td>компаньон</td>\n",
       "      <td>1</td>\n",
       "      <td>165127.911772</td>\n",
       "      <td>покупка жилой недвижимости</td>\n",
       "    </tr>\n",
       "    <tr>\n",
       "      <th>15</th>\n",
       "      <td>1</td>\n",
       "      <td>-972.364419</td>\n",
       "      <td>26</td>\n",
       "      <td>среднее</td>\n",
       "      <td>1</td>\n",
       "      <td>женат / замужем</td>\n",
       "      <td>0</td>\n",
       "      <td>F</td>\n",
       "      <td>сотрудник</td>\n",
       "      <td>0</td>\n",
       "      <td>116820.904450</td>\n",
       "      <td>строительство собственной недвижимости</td>\n",
       "    </tr>\n",
       "    <tr>\n",
       "      <th>16</th>\n",
       "      <td>0</td>\n",
       "      <td>-1719.934226</td>\n",
       "      <td>35</td>\n",
       "      <td>среднее</td>\n",
       "      <td>1</td>\n",
       "      <td>женат / замужем</td>\n",
       "      <td>0</td>\n",
       "      <td>F</td>\n",
       "      <td>сотрудник</td>\n",
       "      <td>0</td>\n",
       "      <td>289202.704229</td>\n",
       "      <td>недвижимость</td>\n",
       "    </tr>\n",
       "    <tr>\n",
       "      <th>17</th>\n",
       "      <td>0</td>\n",
       "      <td>-2369.999720</td>\n",
       "      <td>33</td>\n",
       "      <td>высшее</td>\n",
       "      <td>0</td>\n",
       "      <td>гражданский брак</td>\n",
       "      <td>1</td>\n",
       "      <td>M</td>\n",
       "      <td>сотрудник</td>\n",
       "      <td>0</td>\n",
       "      <td>90410.586745</td>\n",
       "      <td>строительство недвижимости</td>\n",
       "    </tr>\n",
       "    <tr>\n",
       "      <th>18</th>\n",
       "      <td>0</td>\n",
       "      <td>400281.136913</td>\n",
       "      <td>53</td>\n",
       "      <td>среднее</td>\n",
       "      <td>1</td>\n",
       "      <td>вдовец / вдова</td>\n",
       "      <td>2</td>\n",
       "      <td>F</td>\n",
       "      <td>пенсионер</td>\n",
       "      <td>0</td>\n",
       "      <td>56823.777243</td>\n",
       "      <td>на покупку подержанного автомобиля</td>\n",
       "    </tr>\n",
       "    <tr>\n",
       "      <th>19</th>\n",
       "      <td>0</td>\n",
       "      <td>-10038.818549</td>\n",
       "      <td>48</td>\n",
       "      <td>СРЕДНЕЕ</td>\n",
       "      <td>1</td>\n",
       "      <td>в разводе</td>\n",
       "      <td>3</td>\n",
       "      <td>F</td>\n",
       "      <td>сотрудник</td>\n",
       "      <td>0</td>\n",
       "      <td>242831.107982</td>\n",
       "      <td>на покупку своего автомобиля</td>\n",
       "    </tr>\n",
       "  </tbody>\n",
       "</table>\n",
       "</div>"
      ],
      "text/plain": [
       "    children  days_employed  dob_years            education  education_id  \\\n",
       "0          1   -8437.673028         42               высшее             0   \n",
       "1          1   -4024.803754         36              среднее             1   \n",
       "2          0   -5623.422610         33              Среднее             1   \n",
       "3          3   -4124.747207         32              среднее             1   \n",
       "4          0  340266.072047         53              среднее             1   \n",
       "5          0    -926.185831         27               высшее             0   \n",
       "6          0   -2879.202052         43               высшее             0   \n",
       "7          0    -152.779569         50              СРЕДНЕЕ             1   \n",
       "8          2   -6929.865299         35               ВЫСШЕЕ             0   \n",
       "9          0   -2188.756445         41              среднее             1   \n",
       "10         2   -4171.483647         36               высшее             0   \n",
       "11         0    -792.701887         40              среднее             1   \n",
       "12         0            NaN         65              среднее             1   \n",
       "13         0   -1846.641941         54  неоконченное высшее             2   \n",
       "14         0   -1844.956182         56               высшее             0   \n",
       "15         1    -972.364419         26              среднее             1   \n",
       "16         0   -1719.934226         35              среднее             1   \n",
       "17         0   -2369.999720         33               высшее             0   \n",
       "18         0  400281.136913         53              среднее             1   \n",
       "19         0  -10038.818549         48              СРЕДНЕЕ             1   \n",
       "\n",
       "       family_status  family_status_id gender income_type  debt  \\\n",
       "0    женат / замужем                 0      F   сотрудник     0   \n",
       "1    женат / замужем                 0      F   сотрудник     0   \n",
       "2    женат / замужем                 0      M   сотрудник     0   \n",
       "3    женат / замужем                 0      M   сотрудник     0   \n",
       "4   гражданский брак                 1      F   пенсионер     0   \n",
       "5   гражданский брак                 1      M   компаньон     0   \n",
       "6    женат / замужем                 0      F   компаньон     0   \n",
       "7    женат / замужем                 0      M   сотрудник     0   \n",
       "8   гражданский брак                 1      F   сотрудник     0   \n",
       "9    женат / замужем                 0      M   сотрудник     0   \n",
       "10   женат / замужем                 0      M   компаньон     0   \n",
       "11   женат / замужем                 0      F   сотрудник     0   \n",
       "12  гражданский брак                 1      M   пенсионер     0   \n",
       "13   женат / замужем                 0      F   сотрудник     0   \n",
       "14  гражданский брак                 1      F   компаньон     1   \n",
       "15   женат / замужем                 0      F   сотрудник     0   \n",
       "16   женат / замужем                 0      F   сотрудник     0   \n",
       "17  гражданский брак                 1      M   сотрудник     0   \n",
       "18    вдовец / вдова                 2      F   пенсионер     0   \n",
       "19         в разводе                 3      F   сотрудник     0   \n",
       "\n",
       "     total_income                                 purpose  \n",
       "0   253875.639453                           покупка жилья  \n",
       "1   112080.014102                 приобретение автомобиля  \n",
       "2   145885.952297                           покупка жилья  \n",
       "3   267628.550329              дополнительное образование  \n",
       "4   158616.077870                         сыграть свадьбу  \n",
       "5   255763.565419                           покупка жилья  \n",
       "6   240525.971920                       операции с жильем  \n",
       "7   135823.934197                             образование  \n",
       "8    95856.832424                   на проведение свадьбы  \n",
       "9   144425.938277                 покупка жилья для семьи  \n",
       "10  113943.491460                    покупка недвижимости  \n",
       "11   77069.234271       покупка коммерческой недвижимости  \n",
       "12            NaN                         сыграть свадьбу  \n",
       "13  130458.228857                 приобретение автомобиля  \n",
       "14  165127.911772              покупка жилой недвижимости  \n",
       "15  116820.904450  строительство собственной недвижимости  \n",
       "16  289202.704229                            недвижимость  \n",
       "17   90410.586745              строительство недвижимости  \n",
       "18   56823.777243      на покупку подержанного автомобиля  \n",
       "19  242831.107982            на покупку своего автомобиля  "
      ]
     },
     "execution_count": 2,
     "metadata": {},
     "output_type": "execute_result"
    }
   ],
   "source": [
    "data.head(20)"
   ]
  },
  {
   "cell_type": "markdown",
   "id": "cd939359",
   "metadata": {
    "deletable": false,
    "editable": false,
    "id": "1c12e233"
   },
   "source": [
    "**Задание 3. Выведите основную информацию о датафрейме с помощью метода `info()`.**"
   ]
  },
  {
   "cell_type": "code",
   "execution_count": 3,
   "id": "2141ed5b",
   "metadata": {
    "deletable": false,
    "id": "2b757bca",
    "outputId": "15376089-8dad-46c9-b520-c05248d43158"
   },
   "outputs": [
    {
     "name": "stdout",
     "output_type": "stream",
     "text": [
      "<class 'pandas.core.frame.DataFrame'>\n",
      "RangeIndex: 21525 entries, 0 to 21524\n",
      "Data columns (total 12 columns):\n",
      " #   Column            Non-Null Count  Dtype  \n",
      "---  ------            --------------  -----  \n",
      " 0   children          21525 non-null  int64  \n",
      " 1   days_employed     19351 non-null  float64\n",
      " 2   dob_years         21525 non-null  int64  \n",
      " 3   education         21525 non-null  object \n",
      " 4   education_id      21525 non-null  int64  \n",
      " 5   family_status     21525 non-null  object \n",
      " 6   family_status_id  21525 non-null  int64  \n",
      " 7   gender            21525 non-null  object \n",
      " 8   income_type       21525 non-null  object \n",
      " 9   debt              21525 non-null  int64  \n",
      " 10  total_income      19351 non-null  float64\n",
      " 11  purpose           21525 non-null  object \n",
      "dtypes: float64(2), int64(5), object(5)\n",
      "memory usage: 2.0+ MB\n"
     ]
    }
   ],
   "source": [
    "data.info()"
   ]
  },
  {
   "cell_type": "markdown",
   "id": "59efb96f",
   "metadata": {},
   "source": [
    "<div class=\"alert alert-success\">\n",
    "<b>Комментарий ревьюера №1</b> ✅\n",
    "    \n",
    "Разделы работы можно заканчивать промежуточными выводами\n",
    "</div>"
   ]
  },
  {
   "cell_type": "markdown",
   "id": "415b0ceb",
   "metadata": {
    "deletable": false,
    "editable": false,
    "id": "333ec665"
   },
   "source": [
    "## Предобработка данных"
   ]
  },
  {
   "cell_type": "markdown",
   "id": "345a4207",
   "metadata": {
    "deletable": false,
    "editable": false,
    "id": "02d92d53"
   },
   "source": [
    "### Удаление пропусков"
   ]
  },
  {
   "cell_type": "markdown",
   "id": "5536a1e3",
   "metadata": {
    "deletable": false,
    "editable": false,
    "id": "cd84967c"
   },
   "source": [
    "**Задание 4. Выведите количество пропущенных значений для каждого столбца. Используйте комбинацию двух методов.**"
   ]
  },
  {
   "cell_type": "code",
   "execution_count": 4,
   "id": "0b128647",
   "metadata": {
    "deletable": false,
    "id": "7f9b2309",
    "outputId": "81f4d817-781c-465c-ed15-91ce4446810d"
   },
   "outputs": [
    {
     "data": {
      "text/plain": [
       "children               0\n",
       "days_employed       2174\n",
       "dob_years              0\n",
       "education              0\n",
       "education_id           0\n",
       "family_status          0\n",
       "family_status_id       0\n",
       "gender                 0\n",
       "income_type            0\n",
       "debt                   0\n",
       "total_income        2174\n",
       "purpose                0\n",
       "dtype: int64"
      ]
     },
     "execution_count": 4,
     "metadata": {},
     "output_type": "execute_result"
    }
   ],
   "source": [
    "data.isna().sum()"
   ]
  },
  {
   "cell_type": "markdown",
   "id": "a9fb5fdf",
   "metadata": {
    "deletable": false,
    "editable": false,
    "id": "db86e27b"
   },
   "source": [
    "**Задание 5. В двух столбцах есть пропущенные значения. Один из них — `days_employed`. Пропуски в этом столбце вы обработаете на следующем этапе. Другой столбец с пропущенными значениями — `total_income` — хранит данные о доходах. На сумму дохода сильнее всего влияет тип занятости, поэтому заполнить пропуски в этом столбце нужно медианным значением по каждому типу из столбца `income_type`. Например, у человека с типом занятости `сотрудник` пропуск в столбце `total_income` должен быть заполнен медианным доходом среди всех записей с тем же типом.**"
   ]
  },
  {
   "cell_type": "code",
   "execution_count": 5,
   "id": "8d6a2bfe",
   "metadata": {
    "deletable": false,
    "id": "42006a93"
   },
   "outputs": [],
   "source": [
    "for t in data['income_type'].unique():\n",
    "    data.loc[(data['income_type'] == t) & (data['total_income'].isna()), 'total_income'] = \\\n",
    "    data.loc[(data['income_type'] == t), 'total_income'].median()"
   ]
  },
  {
   "cell_type": "markdown",
   "id": "3b31d6bf",
   "metadata": {
    "deletable": false,
    "editable": false,
    "id": "89da5ece"
   },
   "source": [
    "### Обработка аномальных значений"
   ]
  },
  {
   "cell_type": "markdown",
   "id": "12a1640b",
   "metadata": {
    "deletable": false,
    "editable": false,
    "id": "57964554"
   },
   "source": [
    "**Задание 6. В данных могут встречаться артефакты (аномалии) — значения, которые не отражают действительность и появились по какой-то ошибке. таким артефактом будет отрицательное количество дней трудового стажа в столбце `days_employed`. Для реальных данных это нормально. Обработайте значения в этом столбце: замените все отрицательные значения положительными с помощью метода `abs()`.**"
   ]
  },
  {
   "cell_type": "code",
   "execution_count": 6,
   "id": "6b12fde0",
   "metadata": {
    "deletable": false,
    "id": "f6f055bf"
   },
   "outputs": [],
   "source": [
    "data['days_employed'] = data['days_employed'].abs()"
   ]
  },
  {
   "cell_type": "markdown",
   "id": "f07e2d92",
   "metadata": {
    "deletable": false,
    "editable": false,
    "id": "6107dd2f"
   },
   "source": [
    "**Задание 7. Для каждого типа занятости выведите медианное значение трудового стажа `days_employed` в днях.**"
   ]
  },
  {
   "cell_type": "code",
   "execution_count": 7,
   "id": "84a13705",
   "metadata": {
    "deletable": false,
    "id": "85a5faf6",
    "outputId": "801ef80e-522b-4668-f34e-565af7432bcf"
   },
   "outputs": [
    {
     "data": {
      "text/plain": [
       "income_type\n",
       "безработный        366413.652744\n",
       "в декрете            3296.759962\n",
       "госслужащий          2689.368353\n",
       "компаньон            1547.382223\n",
       "пенсионер          365213.306266\n",
       "предприниматель       520.848083\n",
       "сотрудник            1574.202821\n",
       "студент               578.751554\n",
       "Name: days_employed, dtype: float64"
      ]
     },
     "execution_count": 7,
     "metadata": {},
     "output_type": "execute_result"
    }
   ],
   "source": [
    "data.groupby('income_type')['days_employed'].agg('median')"
   ]
  },
  {
   "cell_type": "markdown",
   "id": "6414e5db",
   "metadata": {
    "deletable": false,
    "editable": false,
    "id": "38d1a030"
   },
   "source": [
    "У двух типов (безработные и пенсионеры) получатся аномально большие значения. Исправить такие значения сложно, поэтому оставьте их как есть. Тем более этот столбец не понадобится вам для исследования."
   ]
  },
  {
   "cell_type": "markdown",
   "id": "38d15c11",
   "metadata": {
    "deletable": false,
    "editable": false,
    "id": "d8a9f147"
   },
   "source": [
    "**Задание 8. Выведите перечень уникальных значений столбца `children`.**"
   ]
  },
  {
   "cell_type": "code",
   "execution_count": 8,
   "id": "14e09b0c",
   "metadata": {
    "deletable": false,
    "id": "ef5056eb",
    "outputId": "6975b15c-7f95-4697-d16d-a0c79b657b03"
   },
   "outputs": [
    {
     "data": {
      "text/plain": [
       "array([ 1,  0,  3,  2, -1,  4, 20,  5])"
      ]
     },
     "execution_count": 8,
     "metadata": {},
     "output_type": "execute_result"
    }
   ],
   "source": [
    "data['children'].unique()"
   ]
  },
  {
   "cell_type": "markdown",
   "id": "bd5f9711",
   "metadata": {
    "deletable": false,
    "editable": false,
    "id": "40b9ebf2"
   },
   "source": [
    "**Задание 9. В столбце `children` есть два аномальных значения. Удалите строки, в которых встречаются такие аномальные значения из датафрейма `data`.**"
   ]
  },
  {
   "cell_type": "code",
   "execution_count": 9,
   "id": "7d9fda29",
   "metadata": {
    "deletable": false,
    "id": "3ff9801d"
   },
   "outputs": [],
   "source": [
    "data = data[(data['children'] != -1) & (data['children'] != 20)]"
   ]
  },
  {
   "cell_type": "markdown",
   "id": "fdf28a99",
   "metadata": {
    "deletable": false,
    "editable": false,
    "id": "bbc4d0ce"
   },
   "source": [
    "**Задание 10. Ещё раз выведите перечень уникальных значений столбца `children`, чтобы убедиться, что артефакты удалены.**"
   ]
  },
  {
   "cell_type": "code",
   "execution_count": 10,
   "id": "c37fe340",
   "metadata": {
    "deletable": false,
    "id": "ad4fa8b7",
    "outputId": "b2097101-d49d-44d9-901b-32a65c9463d1"
   },
   "outputs": [
    {
     "data": {
      "text/plain": [
       "array([1, 0, 3, 2, 4, 5])"
      ]
     },
     "execution_count": 10,
     "metadata": {},
     "output_type": "execute_result"
    }
   ],
   "source": [
    "data['children'].unique()"
   ]
  },
  {
   "cell_type": "markdown",
   "id": "65e7a0ef",
   "metadata": {
    "deletable": false,
    "editable": false,
    "id": "75440b63"
   },
   "source": [
    "### Удаление пропусков (продолжение)"
   ]
  },
  {
   "cell_type": "markdown",
   "id": "9f6ad6eb",
   "metadata": {
    "deletable": false,
    "editable": false,
    "id": "f4ea573f"
   },
   "source": [
    "**Задание 11. Заполните пропуски в столбце `days_employed` медианными значениями по каждого типа занятости `income_type`.**"
   ]
  },
  {
   "cell_type": "code",
   "execution_count": 11,
   "id": "b77d5092",
   "metadata": {
    "deletable": false,
    "id": "af6b1a7e"
   },
   "outputs": [],
   "source": [
    "for t in data['income_type'].unique():\n",
    "    data.loc[(data['income_type'] == t) & (data['days_employed'].isna()), 'days_employed'] = \\\n",
    "    data.loc[(data['income_type'] == t), 'days_employed'].median()"
   ]
  },
  {
   "cell_type": "markdown",
   "id": "8a1f07ae",
   "metadata": {
    "deletable": false,
    "editable": false,
    "id": "2753f40d"
   },
   "source": [
    "**Задание 12. Убедитесь, что все пропуски заполнены. Проверьте себя и ещё раз выведите количество пропущенных значений для каждого столбца с помощью двух методов.**"
   ]
  },
  {
   "cell_type": "code",
   "execution_count": 12,
   "id": "a69338dd",
   "metadata": {
    "deletable": false,
    "id": "55f78bc2",
    "outputId": "8da1e4e1-358e-4e87-98c9-f261bce0a7b2"
   },
   "outputs": [
    {
     "data": {
      "text/plain": [
       "children            0\n",
       "days_employed       0\n",
       "dob_years           0\n",
       "education           0\n",
       "education_id        0\n",
       "family_status       0\n",
       "family_status_id    0\n",
       "gender              0\n",
       "income_type         0\n",
       "debt                0\n",
       "total_income        0\n",
       "purpose             0\n",
       "dtype: int64"
      ]
     },
     "execution_count": 12,
     "metadata": {},
     "output_type": "execute_result"
    }
   ],
   "source": [
    "data.isna().sum()"
   ]
  },
  {
   "cell_type": "markdown",
   "id": "f1ca7079",
   "metadata": {
    "deletable": false,
    "editable": false,
    "id": "ddc81e43"
   },
   "source": [
    "### Изменение типов данных"
   ]
  },
  {
   "cell_type": "markdown",
   "id": "321885b7",
   "metadata": {
    "deletable": false,
    "editable": false,
    "id": "42d19d24"
   },
   "source": [
    "**Задание 13. Замените вещественный тип данных в столбце `total_income` на целочисленный с помощью метода `astype()`.**"
   ]
  },
  {
   "cell_type": "code",
   "execution_count": 13,
   "id": "daa502b9",
   "metadata": {
    "deletable": false,
    "id": "920b65ad"
   },
   "outputs": [],
   "source": [
    "data['total_income'] = data['total_income'].astype(int)"
   ]
  },
  {
   "cell_type": "markdown",
   "id": "0a7fbd8b",
   "metadata": {
    "deletable": false,
    "editable": false,
    "id": "80c420ba"
   },
   "source": [
    "### Обработка дубликатов"
   ]
  },
  {
   "cell_type": "markdown",
   "id": "395dd130",
   "metadata": {
    "deletable": false,
    "editable": false
   },
   "source": [
    "**Задание 14. Обработайте неявные дубликаты в столбце `education`. В этом столбце есть одни и те же значения, но записанные по-разному: с использованием заглавных и строчных букв. Приведите их к нижнему регистру. Проверьте остальные столбцы.**"
   ]
  },
  {
   "cell_type": "code",
   "execution_count": 14,
   "id": "a6d02e18",
   "metadata": {
    "deletable": false
   },
   "outputs": [],
   "source": [
    "data['education'] = data['education'].str.lower()"
   ]
  },
  {
   "cell_type": "markdown",
   "id": "34a8b0fb",
   "metadata": {
    "deletable": false,
    "editable": false,
    "id": "dc587695"
   },
   "source": [
    "**Задание 15. Выведите на экран количество строк-дубликатов в данных. Если такие строки присутствуют, удалите их.**"
   ]
  },
  {
   "cell_type": "code",
   "execution_count": 15,
   "id": "931e889c",
   "metadata": {
    "deletable": false,
    "id": "3ee445e4",
    "outputId": "9684deba-1934-42d1-99e1-cda61740f822"
   },
   "outputs": [
    {
     "data": {
      "text/plain": [
       "71"
      ]
     },
     "execution_count": 15,
     "metadata": {},
     "output_type": "execute_result"
    }
   ],
   "source": [
    "data.duplicated().sum()"
   ]
  },
  {
   "cell_type": "code",
   "execution_count": 16,
   "id": "3185b734",
   "metadata": {
    "deletable": false,
    "id": "8575fe05"
   },
   "outputs": [],
   "source": [
    "data = data.drop_duplicates()"
   ]
  },
  {
   "cell_type": "markdown",
   "id": "bf297c13",
   "metadata": {
    "deletable": false,
    "editable": false,
    "id": "9904cf55"
   },
   "source": [
    "### Категоризация данных"
   ]
  },
  {
   "cell_type": "markdown",
   "id": "6f81aed2",
   "metadata": {
    "deletable": false,
    "editable": false,
    "id": "72fcc8a2"
   },
   "source": [
    "**Задание 16. На основании диапазонов, указанных ниже, создайте в датафрейме `data` столбец `total_income_category` с категориями:**\n",
    "\n",
    "- 0–30000 — `'E'`;\n",
    "- 30001–50000 — `'D'`;\n",
    "- 50001–200000 — `'C'`;\n",
    "- 200001–1000000 — `'B'`;\n",
    "- 1000001 и выше — `'A'`.\n",
    "\n",
    "\n",
    "**Например, кредитополучателю с доходом 25000 нужно назначить категорию `'E'`, а клиенту, получающему 235000, — `'B'`. Используйте собственную функцию с именем `categorize_income()` и метод `apply()`.**"
   ]
  },
  {
   "cell_type": "code",
   "execution_count": 17,
   "id": "55d74cd0",
   "metadata": {
    "deletable": false,
    "id": "e1771346"
   },
   "outputs": [],
   "source": [
    "def categorize_income(income):\n",
    "    try:\n",
    "        if 0 <= income <= 30000:\n",
    "            return 'E'\n",
    "        elif 30001 <= income <= 50000:\n",
    "            return 'D'\n",
    "        elif 50001 <= income <= 200000:\n",
    "            return 'C'\n",
    "        elif 200001 <= income <= 1000000:\n",
    "            return 'B'\n",
    "        elif income >= 1000001:\n",
    "            return 'A'\n",
    "    except:\n",
    "        pass"
   ]
  },
  {
   "cell_type": "code",
   "execution_count": 18,
   "id": "7ada5902",
   "metadata": {
    "deletable": false,
    "id": "d5f3586d"
   },
   "outputs": [],
   "source": [
    "data['total_income_category'] = data['total_income'].apply(categorize_income)"
   ]
  },
  {
   "cell_type": "markdown",
   "id": "8a5325e8",
   "metadata": {
    "deletable": false,
    "editable": false,
    "id": "dde49b5c"
   },
   "source": [
    "**Задание 17. Выведите на экран перечень уникальных целей взятия кредита из столбца `purpose`.**"
   ]
  },
  {
   "cell_type": "code",
   "execution_count": 19,
   "id": "015ed060",
   "metadata": {
    "deletable": false,
    "id": "f67ce9b3",
    "outputId": "673c12d9-7d7e-4ae0-9812-c622c89dd244"
   },
   "outputs": [
    {
     "data": {
      "text/plain": [
       "array(['покупка жилья', 'приобретение автомобиля',\n",
       "       'дополнительное образование', 'сыграть свадьбу',\n",
       "       'операции с жильем', 'образование', 'на проведение свадьбы',\n",
       "       'покупка жилья для семьи', 'покупка недвижимости',\n",
       "       'покупка коммерческой недвижимости', 'покупка жилой недвижимости',\n",
       "       'строительство собственной недвижимости', 'недвижимость',\n",
       "       'строительство недвижимости', 'на покупку подержанного автомобиля',\n",
       "       'на покупку своего автомобиля',\n",
       "       'операции с коммерческой недвижимостью',\n",
       "       'строительство жилой недвижимости', 'жилье',\n",
       "       'операции со своей недвижимостью', 'автомобили',\n",
       "       'заняться образованием', 'сделка с подержанным автомобилем',\n",
       "       'получение образования', 'автомобиль', 'свадьба',\n",
       "       'получение дополнительного образования', 'покупка своего жилья',\n",
       "       'операции с недвижимостью', 'получение высшего образования',\n",
       "       'свой автомобиль', 'сделка с автомобилем',\n",
       "       'профильное образование', 'высшее образование',\n",
       "       'покупка жилья для сдачи', 'на покупку автомобиля', 'ремонт жилью',\n",
       "       'заняться высшим образованием'], dtype=object)"
      ]
     },
     "execution_count": 19,
     "metadata": {},
     "output_type": "execute_result"
    }
   ],
   "source": [
    "data['purpose'].unique()"
   ]
  },
  {
   "cell_type": "markdown",
   "id": "0da7f43e",
   "metadata": {
    "deletable": false,
    "editable": false,
    "id": "85d0aef0"
   },
   "source": [
    "**Задание 18. Создайте функцию, которая на основании данных из столбца `purpose` сформирует новый столбец `purpose_category`, в который войдут следующие категории:**\n",
    "\n",
    "- `'операции с автомобилем'`,\n",
    "- `'операции с недвижимостью'`,\n",
    "- `'проведение свадьбы'`,\n",
    "- `'получение образования'`.\n",
    "\n",
    "**Например, если в столбце `purpose` находится подстрока `'на покупку автомобиля'`, то в столбце `purpose_category` должна появиться строка `'операции с автомобилем'`.**\n",
    "\n",
    "**Используйте собственную функцию с именем `categorize_purpose()` и метод `apply()`. Изучите данные в столбце `purpose` и определите, какие подстроки помогут вам правильно определить категорию.**"
   ]
  },
  {
   "cell_type": "code",
   "execution_count": 20,
   "id": "8f7cb3fb",
   "metadata": {
    "deletable": false,
    "id": "e149fab4"
   },
   "outputs": [],
   "source": [
    "def categorize_purpose(row):\n",
    "    try:\n",
    "        if 'автом' in row:\n",
    "            return 'операции с автомобилем'\n",
    "        elif 'жил' in row or 'недвиж' in row:\n",
    "            return 'операции с недвижимостью'\n",
    "        elif 'свад' in row:\n",
    "            return 'проведение свадьбы'\n",
    "        elif 'образов' in row:\n",
    "            return 'получение образования'\n",
    "    except:\n",
    "        return 'нет категории'"
   ]
  },
  {
   "cell_type": "code",
   "execution_count": 21,
   "id": "5e470cc9",
   "metadata": {
    "deletable": false,
    "id": "bf36e69b"
   },
   "outputs": [],
   "source": [
    "data['purpose_category'] = data['purpose'].apply(categorize_purpose)"
   ]
  },
  {
   "cell_type": "markdown",
   "id": "152e0b94",
   "metadata": {
    "deletable": false,
    "editable": false,
    "id": "09b242bf"
   },
   "source": [
    "### Шаг 3. Исследуйте данные и ответьте на вопросы"
   ]
  },
  {
   "cell_type": "markdown",
   "id": "55e8d426",
   "metadata": {},
   "source": [
    "<div class=\"alert alert-danger\">\n",
    "<b>Комментарий ревьюера №1</b> ❌ Замечание по всему разделу ответов на вопросы \n",
    "    \n",
    "В каждом вопросе нужно вывести общую сводную. Здесь можно воспользоваться `pivot_table()`.\n",
    "    \n",
    "Чтобы найти долю должников, нужно количество должников поделить на общее число заемщиков. Эту долю можно найти с помощью функции агрегации `mean`\n",
    "    \n",
    "Попробуй получить сводную следующего вида. В индексе столбец, который исследуем (в первом вопросе это количество детей), а столбцы: 'Всего кредитополучателей', 'Всего должников', 'Доля должников'. Учитывай, что использовать параметр columns необязательно, а в параметр aggfunc можно указывать несколько функций агрегации сразу.\n",
    "\n",
    "Также могу посоветовать переименовать столбцы и написать функцию для построения сводных во всех вопросах.\n",
    "</div>"
   ]
  },
  {
   "cell_type": "markdown",
   "id": "0d7739f1",
   "metadata": {
    "deletable": false,
    "editable": false,
    "id": "c5d66278"
   },
   "source": [
    "#### 3.1 Есть ли зависимость между количеством детей и возвратом кредита в срок?"
   ]
  },
  {
   "cell_type": "code",
   "execution_count": 22,
   "id": "574d273a",
   "metadata": {},
   "outputs": [],
   "source": [
    "import seaborn as sns\n",
    "import matplotlib.pyplot as plt\n",
    "pd.set_option('display.float_format', '{:.1%}'.format)"
   ]
  },
  {
   "cell_type": "markdown",
   "id": "1ca75ee9",
   "metadata": {},
   "source": [
    "<span style=\"color:blue\"> Сгруппируем данные o долгах по количеству детей и найдем количество заемщиков с определенным количеством детей, сколько среди заемщиков долгов, долю долгов и стандартную ошибку для доли долгов.</span>"
   ]
  },
  {
   "cell_type": "code",
   "execution_count": 23,
   "id": "814cbf43",
   "metadata": {},
   "outputs": [
    {
     "data": {
      "text/html": [
       "<div>\n",
       "<style scoped>\n",
       "    .dataframe tbody tr th:only-of-type {\n",
       "        vertical-align: middle;\n",
       "    }\n",
       "\n",
       "    .dataframe tbody tr th {\n",
       "        vertical-align: top;\n",
       "    }\n",
       "\n",
       "    .dataframe thead tr th {\n",
       "        text-align: left;\n",
       "    }\n",
       "\n",
       "    .dataframe thead tr:last-of-type th {\n",
       "        text-align: right;\n",
       "    }\n",
       "</style>\n",
       "<table border=\"1\" class=\"dataframe\">\n",
       "  <thead>\n",
       "    <tr>\n",
       "      <th></th>\n",
       "      <th>count</th>\n",
       "      <th>sum</th>\n",
       "      <th>mean</th>\n",
       "      <th>sem</th>\n",
       "    </tr>\n",
       "    <tr>\n",
       "      <th></th>\n",
       "      <th>debt</th>\n",
       "      <th>debt</th>\n",
       "      <th>debt</th>\n",
       "      <th>debt</th>\n",
       "    </tr>\n",
       "    <tr>\n",
       "      <th>children</th>\n",
       "      <th></th>\n",
       "      <th></th>\n",
       "      <th></th>\n",
       "      <th></th>\n",
       "    </tr>\n",
       "  </thead>\n",
       "  <tbody>\n",
       "    <tr>\n",
       "      <th>0</th>\n",
       "      <td>14091</td>\n",
       "      <td>1063</td>\n",
       "      <td>7.5%</td>\n",
       "      <td>0.2%</td>\n",
       "    </tr>\n",
       "    <tr>\n",
       "      <th>1</th>\n",
       "      <td>4808</td>\n",
       "      <td>444</td>\n",
       "      <td>9.2%</td>\n",
       "      <td>0.4%</td>\n",
       "    </tr>\n",
       "    <tr>\n",
       "      <th>2</th>\n",
       "      <td>2052</td>\n",
       "      <td>194</td>\n",
       "      <td>9.5%</td>\n",
       "      <td>0.6%</td>\n",
       "    </tr>\n",
       "    <tr>\n",
       "      <th>3</th>\n",
       "      <td>330</td>\n",
       "      <td>27</td>\n",
       "      <td>8.2%</td>\n",
       "      <td>1.5%</td>\n",
       "    </tr>\n",
       "    <tr>\n",
       "      <th>4</th>\n",
       "      <td>41</td>\n",
       "      <td>4</td>\n",
       "      <td>9.8%</td>\n",
       "      <td>4.7%</td>\n",
       "    </tr>\n",
       "    <tr>\n",
       "      <th>5</th>\n",
       "      <td>9</td>\n",
       "      <td>0</td>\n",
       "      <td>0.0%</td>\n",
       "      <td>0.0%</td>\n",
       "    </tr>\n",
       "  </tbody>\n",
       "</table>\n",
       "</div>"
      ],
      "text/plain": [
       "          count   sum mean  sem\n",
       "           debt  debt debt debt\n",
       "children                       \n",
       "0         14091  1063 7.5% 0.2%\n",
       "1          4808   444 9.2% 0.4%\n",
       "2          2052   194 9.5% 0.6%\n",
       "3           330    27 8.2% 1.5%\n",
       "4            41     4 9.8% 4.7%\n",
       "5             9     0 0.0% 0.0%"
      ]
     },
     "execution_count": 23,
     "metadata": {},
     "output_type": "execute_result"
    }
   ],
   "source": [
    "data.pivot_table(index=['children'],values=['debt'],aggfunc=['count','sum','mean','sem'])"
   ]
  },
  {
   "cell_type": "markdown",
   "id": "779eb77e",
   "metadata": {},
   "source": [
    "Изобразим графически."
   ]
  },
  {
   "cell_type": "code",
   "execution_count": 24,
   "id": "7aca39ab",
   "metadata": {},
   "outputs": [
    {
     "data": {
      "text/plain": [
       "Text(0.5, 0, 'Число детей')"
      ]
     },
     "execution_count": 24,
     "metadata": {},
     "output_type": "execute_result"
    },
    {
     "data": {
      "image/png": "[encoded data removed]",
      "text/plain": [
       "<Figure size 432x288 with 1 Axes>"
      ]
     },
     "metadata": {
      "needs_background": "light"
     },
     "output_type": "display_data"
    }
   ],
   "source": [
    "sns.barplot(data=data, x='children', y='debt')\n",
    "plt.ylabel('Доля должников')\n",
    "plt.xlabel('Число детей')"
   ]
  },
  {
   "cell_type": "markdown",
   "id": "03a02e13",
   "metadata": {},
   "source": [
    "Некоторые блоки кода не работают. Посмотри, пожалуйста, что пошло не так. Перед отправкой проекта стоит проверять работоспособность кода — это можно сделать, нажав на панели Jupiter Hub ``Kernel`` и ``Restart & Run All`` (см скриншот ниже).\n",
    "![](https://i.postimg.cc/yd19rYf6/Screenshot-428.png)"
   ]
  },
  {
   "cell_type": "markdown",
   "id": "c09fcd58",
   "metadata": {},
   "source": [
    "<span style=\"color:blue\"> *Решил почти все переписать через сводные таблицы , но почему то часть старых ячеек не хочет удаляться.\n",
    "    В графиках не нашел как без костылей задать формат вывода значений. т.е. не долю , а проценты вывести. Так же подписи по х развернул местами, но как то не красиво выглядит. Над графиками, конечно, работать и работать... * </span>"
   ]
  },
  {
   "cell_type": "markdown",
   "id": "925c8126",
   "metadata": {},
   "source": [
    "<div class=\"alert alert-success\">\n",
    "<b>Комментарий ревьюера №2</b> ✅\n",
    "    \n",
    "Чтобы подписи не накладывались можно увеличить размер графика. Угол не обязательно брать 45, можно поменьше, тогда аккуратнее будет выглядеть\n",
    "</div>"
   ]
  },
  {
   "cell_type": "code",
   "execution_count": 25,
   "id": "5ff6858f",
   "metadata": {
    "deletable": false,
    "id": "2cacfc4a",
    "scrolled": true
   },
   "outputs": [
    {
     "name": "stdout",
     "output_type": "stream",
     "text": [
      "children\n",
      "0    1063\n",
      "1     444\n",
      "2     194\n",
      "3      27\n",
      "4       4\n",
      "5       0\n",
      "Name: debt, dtype: int64\n"
     ]
    }
   ],
   "source": [
    "children_debt = data.groupby('children')['debt'].sum()\n",
    "print(children_debt)"
   ]
  },
  {
   "cell_type": "markdown",
   "id": "c207d1f1",
   "metadata": {},
   "source": [
    "<div class=\"alert alert-warning\">\n",
    "<b>Комментарий ревьюера №1</b> ⚠️\n",
    "    \n",
    "Все библиотеки нужно импортировать в одной ячейке в начале всего кода. Можно воспользоваться готовыми функциями из библиотеки numpy\n",
    "</div>"
   ]
  },
  {
   "cell_type": "markdown",
   "id": "03a6545f",
   "metadata": {},
   "source": [
    "Видно,что с учетом ошибок, вероятности для заемщиков с разным, но не нулевым количеством детей почти не отличаются. По этому мы можем разбить заемщиков только на 2 группы с детьми и без детей и посчитать вероятности задержки платежа."
   ]
  },
  {
   "cell_type": "code",
   "execution_count": 26,
   "id": "7031cad1",
   "metadata": {},
   "outputs": [
    {
     "data": {
      "text/html": [
       "<div>\n",
       "<style scoped>\n",
       "    .dataframe tbody tr th:only-of-type {\n",
       "        vertical-align: middle;\n",
       "    }\n",
       "\n",
       "    .dataframe tbody tr th {\n",
       "        vertical-align: top;\n",
       "    }\n",
       "\n",
       "    .dataframe thead tr th {\n",
       "        text-align: left;\n",
       "    }\n",
       "\n",
       "    .dataframe thead tr:last-of-type th {\n",
       "        text-align: right;\n",
       "    }\n",
       "</style>\n",
       "<table border=\"1\" class=\"dataframe\">\n",
       "  <thead>\n",
       "    <tr>\n",
       "      <th></th>\n",
       "      <th>count</th>\n",
       "      <th>sum</th>\n",
       "      <th>mean</th>\n",
       "      <th>sem</th>\n",
       "    </tr>\n",
       "    <tr>\n",
       "      <th></th>\n",
       "      <th>debt</th>\n",
       "      <th>debt</th>\n",
       "      <th>debt</th>\n",
       "      <th>debt</th>\n",
       "    </tr>\n",
       "    <tr>\n",
       "      <th>if_children</th>\n",
       "      <th></th>\n",
       "      <th></th>\n",
       "      <th></th>\n",
       "      <th></th>\n",
       "    </tr>\n",
       "  </thead>\n",
       "  <tbody>\n",
       "    <tr>\n",
       "      <th>False</th>\n",
       "      <td>14091</td>\n",
       "      <td>1063</td>\n",
       "      <td>7.5%</td>\n",
       "      <td>0.2%</td>\n",
       "    </tr>\n",
       "    <tr>\n",
       "      <th>True</th>\n",
       "      <td>7240</td>\n",
       "      <td>669</td>\n",
       "      <td>9.2%</td>\n",
       "      <td>0.3%</td>\n",
       "    </tr>\n",
       "  </tbody>\n",
       "</table>\n",
       "</div>"
      ],
      "text/plain": [
       "             count   sum mean  sem\n",
       "              debt  debt debt debt\n",
       "if_children                       \n",
       "False        14091  1063 7.5% 0.2%\n",
       "True          7240   669 9.2% 0.3%"
      ]
     },
     "execution_count": 26,
     "metadata": {},
     "output_type": "execute_result"
    }
   ],
   "source": [
    "data['if_children'] = data['children']>0\n",
    "data.pivot_table(index=['if_children'],values=['debt'],aggfunc=['count','sum','mean','sem'])"
   ]
  },
  {
   "cell_type": "markdown",
   "id": "4e0e990c",
   "metadata": {},
   "source": [
    "<div class=\"alert alert-warning\">\n",
    "<b>Комментарий ревьюера №1</b> ⚠️\n",
    "    \n",
    "Длинные строки лучше разбивать на несколько, это соответствует стилистическому гайду <a href=\"https://peps.python.org/pep-0008/\">pep 8</a>\n",
    "</div>"
   ]
  },
  {
   "cell_type": "markdown",
   "id": "761e4b47",
   "metadata": {
    "deletable": false,
    "id": "3a6b99ec"
   },
   "source": [
    "**Вывод:** \n",
    "Вероятность задолжености зависит от наличия детей. Для людей без детей она составляет $7.5\\pm0.2\\%$.\n",
    "Для людей с детьми составляет $9.2\\pm0.3\\%$. Возможно есть какая то зависимость и от числа детей, но статистики пока маловато чтобы это проанализировать."
   ]
  },
  {
   "cell_type": "markdown",
   "id": "2be54d5a",
   "metadata": {},
   "source": [
    "<div class=\"alert alert-success\">\n",
    "<b>Комментарий ревьюера №1</b> ✅\n",
    "    \n",
    "👍\n",
    "</div>"
   ]
  },
  {
   "cell_type": "markdown",
   "id": "bc36817e",
   "metadata": {
    "deletable": false,
    "editable": false,
    "id": "97be82ca"
   },
   "source": [
    "#### 3.2 Есть ли зависимость между семейным положением и возвратом кредита в срок?"
   ]
  },
  {
   "cell_type": "markdown",
   "id": "a55400c6",
   "metadata": {
    "deletable": false,
    "id": "dc3f7ee8"
   },
   "source": [
    "<span style=\"color:blue\">Сгруппируем данные семейному положению и проссумируем количество долгов, найдем количество заемщиков с определенным семейным положением, сколько среди заемщиков долгов, долю долгов и стандартную ошибку для доли долгов.<span>"
   ]
  },
  {
   "cell_type": "code",
   "execution_count": 27,
   "id": "c9e6695e",
   "metadata": {},
   "outputs": [
    {
     "data": {
      "text/html": [
       "<div>\n",
       "<style scoped>\n",
       "    .dataframe tbody tr th:only-of-type {\n",
       "        vertical-align: middle;\n",
       "    }\n",
       "\n",
       "    .dataframe tbody tr th {\n",
       "        vertical-align: top;\n",
       "    }\n",
       "\n",
       "    .dataframe thead tr th {\n",
       "        text-align: left;\n",
       "    }\n",
       "\n",
       "    .dataframe thead tr:last-of-type th {\n",
       "        text-align: right;\n",
       "    }\n",
       "</style>\n",
       "<table border=\"1\" class=\"dataframe\">\n",
       "  <thead>\n",
       "    <tr>\n",
       "      <th></th>\n",
       "      <th>count</th>\n",
       "      <th>sum</th>\n",
       "      <th>mean</th>\n",
       "      <th>sem</th>\n",
       "    </tr>\n",
       "    <tr>\n",
       "      <th></th>\n",
       "      <th>debt</th>\n",
       "      <th>debt</th>\n",
       "      <th>debt</th>\n",
       "      <th>debt</th>\n",
       "    </tr>\n",
       "    <tr>\n",
       "      <th>family_status</th>\n",
       "      <th></th>\n",
       "      <th></th>\n",
       "      <th></th>\n",
       "      <th></th>\n",
       "    </tr>\n",
       "  </thead>\n",
       "  <tbody>\n",
       "    <tr>\n",
       "      <th>Не женат / не замужем</th>\n",
       "      <td>2796</td>\n",
       "      <td>273</td>\n",
       "      <td>9.8%</td>\n",
       "      <td>0.6%</td>\n",
       "    </tr>\n",
       "    <tr>\n",
       "      <th>в разводе</th>\n",
       "      <td>1189</td>\n",
       "      <td>84</td>\n",
       "      <td>7.1%</td>\n",
       "      <td>0.7%</td>\n",
       "    </tr>\n",
       "    <tr>\n",
       "      <th>вдовец / вдова</th>\n",
       "      <td>951</td>\n",
       "      <td>63</td>\n",
       "      <td>6.6%</td>\n",
       "      <td>0.8%</td>\n",
       "    </tr>\n",
       "    <tr>\n",
       "      <th>гражданский брак</th>\n",
       "      <td>4134</td>\n",
       "      <td>385</td>\n",
       "      <td>9.3%</td>\n",
       "      <td>0.5%</td>\n",
       "    </tr>\n",
       "    <tr>\n",
       "      <th>женат / замужем</th>\n",
       "      <td>12261</td>\n",
       "      <td>927</td>\n",
       "      <td>7.6%</td>\n",
       "      <td>0.2%</td>\n",
       "    </tr>\n",
       "  </tbody>\n",
       "</table>\n",
       "</div>"
      ],
      "text/plain": [
       "                       count  sum mean  sem\n",
       "                        debt debt debt debt\n",
       "family_status                              \n",
       "Не женат / не замужем   2796  273 9.8% 0.6%\n",
       "в разводе               1189   84 7.1% 0.7%\n",
       "вдовец / вдова           951   63 6.6% 0.8%\n",
       "гражданский брак        4134  385 9.3% 0.5%\n",
       "женат / замужем        12261  927 7.6% 0.2%"
      ]
     },
     "execution_count": 27,
     "metadata": {},
     "output_type": "execute_result"
    }
   ],
   "source": [
    "data.pivot_table(index=['family_status'],values=['debt'],aggfunc=['count','sum','mean','sem'])"
   ]
  },
  {
   "cell_type": "code",
   "execution_count": 28,
   "id": "006fba02",
   "metadata": {},
   "outputs": [
    {
     "data": {
      "text/plain": [
       "Text(0.5, 0, 'Семейное положение')"
      ]
     },
     "execution_count": 28,
     "metadata": {},
     "output_type": "execute_result"
    },
    {
     "data": {
      "image/png": "[encoded data removed]",
      "text/plain": [
       "<Figure size 432x288 with 1 Axes>"
      ]
     },
     "metadata": {
      "needs_background": "light"
     },
     "output_type": "display_data"
    }
   ],
   "source": [
    "plt.setp(sns.barplot(data=data, x='family_status', y='debt').get_xticklabels(), rotation=45)\n",
    "plt.ylabel('Доля должников')\n",
    "plt.xlabel('Семейное положение')"
   ]
  },
  {
   "cell_type": "markdown",
   "id": "6181c9c7",
   "metadata": {
    "deletable": false,
    "id": "1cef7837"
   },
   "source": [
    "**Вывод:** \n",
    "Зависимость между семейным положением и возвратом кредита в срок присутствует. Те кто оформляет официально семейный статус (женат / замужем $7.6\\pm0.2\\%$ , в разводе $7.1\\pm 0.7\\%$, вдовец / вдова $6.6\\pm 0.8\\%$) более ответственно подходят к возврату в срок чем те кто не оформляет официально (Не женат / не замужем $9.8\\pm0.6$, гражданский брак $9.3\\pm 0.5\\%$)."
   ]
  },
  {
   "cell_type": "markdown",
   "id": "1e323de0",
   "metadata": {},
   "source": [
    "<div class=\"alert alert-success\">\n",
    "<b>Комментарий ревьюера №1</b> ✅\n",
    "    \n",
    "Возможно есть связь с возрастом. В выводах важнее не сами числа, а больше описание зависимости. Числа можно и в сводной посмотреть \n",
    "</div>"
   ]
  },
  {
   "cell_type": "markdown",
   "id": "22611853",
   "metadata": {
    "deletable": false,
    "editable": false,
    "id": "1e8b2fca"
   },
   "source": [
    "#### 3.3 Есть ли зависимость между уровнем дохода и возвратом кредита в срок?"
   ]
  },
  {
   "cell_type": "markdown",
   "id": "4c008aab",
   "metadata": {},
   "source": [
    "<span style=\"color:blue\">Сгруппируем данные по категориям дохода и проссумируем количество долгов найдем количество заемщиков с определенным уровнем дохода, сколько среди заемщиков долгов, долю долгов и стандартную ошибку для доли долгов.<span>"
   ]
  },
  {
   "cell_type": "code",
   "execution_count": 29,
   "id": "70affbd9",
   "metadata": {},
   "outputs": [
    {
     "data": {
      "text/html": [
       "<div>\n",
       "<style scoped>\n",
       "    .dataframe tbody tr th:only-of-type {\n",
       "        vertical-align: middle;\n",
       "    }\n",
       "\n",
       "    .dataframe tbody tr th {\n",
       "        vertical-align: top;\n",
       "    }\n",
       "\n",
       "    .dataframe thead tr th {\n",
       "        text-align: left;\n",
       "    }\n",
       "\n",
       "    .dataframe thead tr:last-of-type th {\n",
       "        text-align: right;\n",
       "    }\n",
       "</style>\n",
       "<table border=\"1\" class=\"dataframe\">\n",
       "  <thead>\n",
       "    <tr>\n",
       "      <th></th>\n",
       "      <th>count</th>\n",
       "      <th>sum</th>\n",
       "      <th>mean</th>\n",
       "      <th>sem</th>\n",
       "    </tr>\n",
       "    <tr>\n",
       "      <th></th>\n",
       "      <th>debt</th>\n",
       "      <th>debt</th>\n",
       "      <th>debt</th>\n",
       "      <th>debt</th>\n",
       "    </tr>\n",
       "    <tr>\n",
       "      <th>total_income_category</th>\n",
       "      <th></th>\n",
       "      <th></th>\n",
       "      <th></th>\n",
       "      <th></th>\n",
       "    </tr>\n",
       "  </thead>\n",
       "  <tbody>\n",
       "    <tr>\n",
       "      <th>A</th>\n",
       "      <td>25</td>\n",
       "      <td>2</td>\n",
       "      <td>8.0%</td>\n",
       "      <td>5.5%</td>\n",
       "    </tr>\n",
       "    <tr>\n",
       "      <th>B</th>\n",
       "      <td>5014</td>\n",
       "      <td>354</td>\n",
       "      <td>7.1%</td>\n",
       "      <td>0.4%</td>\n",
       "    </tr>\n",
       "    <tr>\n",
       "      <th>C</th>\n",
       "      <td>15921</td>\n",
       "      <td>1353</td>\n",
       "      <td>8.5%</td>\n",
       "      <td>0.2%</td>\n",
       "    </tr>\n",
       "    <tr>\n",
       "      <th>D</th>\n",
       "      <td>349</td>\n",
       "      <td>21</td>\n",
       "      <td>6.0%</td>\n",
       "      <td>1.3%</td>\n",
       "    </tr>\n",
       "    <tr>\n",
       "      <th>E</th>\n",
       "      <td>22</td>\n",
       "      <td>2</td>\n",
       "      <td>9.1%</td>\n",
       "      <td>6.3%</td>\n",
       "    </tr>\n",
       "  </tbody>\n",
       "</table>\n",
       "</div>"
      ],
      "text/plain": [
       "                       count   sum mean  sem\n",
       "                        debt  debt debt debt\n",
       "total_income_category                       \n",
       "A                         25     2 8.0% 5.5%\n",
       "B                       5014   354 7.1% 0.4%\n",
       "C                      15921  1353 8.5% 0.2%\n",
       "D                        349    21 6.0% 1.3%\n",
       "E                         22     2 9.1% 6.3%"
      ]
     },
     "execution_count": 29,
     "metadata": {},
     "output_type": "execute_result"
    }
   ],
   "source": [
    "data.pivot_table(index=['total_income_category'],values=['debt'],aggfunc=['count','sum','mean','sem'])"
   ]
  },
  {
   "cell_type": "markdown",
   "id": "e6e39c15",
   "metadata": {},
   "source": [
    "Изобразим графически."
   ]
  },
  {
   "cell_type": "code",
   "execution_count": 30,
   "id": "2974ec78",
   "metadata": {},
   "outputs": [
    {
     "data": {
      "text/plain": [
       "Text(0.5, 0, 'Категории дохода')"
      ]
     },
     "execution_count": 30,
     "metadata": {},
     "output_type": "execute_result"
    },
    {
     "data": {
      "image/png": "[encoded data removed]",
      "text/plain": [
       "<Figure size 432x288 with 1 Axes>"
      ]
     },
     "metadata": {
      "needs_background": "light"
     },
     "output_type": "display_data"
    }
   ],
   "source": [
    "sns.barplot(data=data, x='total_income_category', y='debt')\n",
    "plt.ylabel('Доля должников')\n",
    "plt.xlabel('Категории дохода')"
   ]
  },
  {
   "cell_type": "code",
   "execution_count": 31,
   "id": "5e024b2f",
   "metadata": {
    "deletable": false,
    "id": "cd7e3720",
    "scrolled": false
   },
   "outputs": [
    {
     "name": "stdout",
     "output_type": "stream",
     "text": [
      "total_income_category\n",
      "A       2\n",
      "B     354\n",
      "C    1353\n",
      "D      21\n",
      "E       2\n",
      "Name: debt, dtype: int64\n"
     ]
    }
   ],
   "source": [
    "income_debt = data.groupby('total_income_category')['debt'].sum()\n",
    "print(income_debt)"
   ]
  },
  {
   "cell_type": "markdown",
   "id": "0c9419f7",
   "metadata": {},
   "source": [
    "<div class=\"alert alert-warning\">\n",
    "<b>Комментарий ревьюера №1</b> ⚠️\n",
    "    \n",
    "Все библиотеки нужно импортировать в одной ячейке в начале всего кода\n",
    "</div>"
   ]
  },
  {
   "cell_type": "code",
   "execution_count": 32,
   "id": "b77c842d",
   "metadata": {},
   "outputs": [
    {
     "data": {
      "text/plain": [
       "<AxesSubplot:xlabel='total_income_category', ylabel='debt'>"
      ]
     },
     "execution_count": 32,
     "metadata": {},
     "output_type": "execute_result"
    },
    {
     "data": {
      "image/png": "[encoded data removed]",
      "text/plain": [
       "<Figure size 432x288 with 1 Axes>"
      ]
     },
     "metadata": {
      "needs_background": "light"
     },
     "output_type": "display_data"
    }
   ],
   "source": [
    "#КОД РЕВЬЮЕРА\n",
    "import seaborn as sns\n",
    "sns.barplot(data=data, x='total_income_category', y='debt')"
   ]
  },
  {
   "cell_type": "markdown",
   "id": "c5fbfa41",
   "metadata": {
    "deletable": false,
    "id": "e8593def"
   },
   "source": [
    "**Вывод:** \n",
    "<span style=\"color:blue\">Зависимость между уровнем дохода и возвратом кредита в срок существует. Вероятность долга для уровня B несколько ниже чем для уровня С. Для остальных уровней дохода мало статистики, чтобы сделать определенный вывод. Возможно стоит по другому выделить категории дохода.  <span>"
   ]
  },
  {
   "cell_type": "markdown",
   "id": "d7c6e577",
   "metadata": {},
   "source": [
    "<div class=\"alert alert-danger\">\n",
    "<b>Комментарий ревьюера №1</b> ❌\n",
    "    \n",
    "Здесь лучше делать выводы по двум самым крупным категориям - B и С. По остальным категориям данных недостаточно для корректных выводов, статпогрешность большая\n",
    "</div>"
   ]
  },
  {
   "cell_type": "markdown",
   "id": "bae76775",
   "metadata": {},
   "source": [
    "<div class=\"alert alert-success\">\n",
    "<b>Комментарий ревьюера №2</b> ✅\n",
    "    \n",
    "Хорошо\n",
    "</div>"
   ]
  },
  {
   "cell_type": "markdown",
   "id": "79dfe9f2",
   "metadata": {
    "deletable": false,
    "editable": false,
    "id": "99ecbd1f"
   },
   "source": [
    "#### 3.4 Как разные цели кредита влияют на его возврат в срок?"
   ]
  },
  {
   "cell_type": "markdown",
   "id": "12d6b6d9",
   "metadata": {},
   "source": [
    "<span style=\"color:blue\">Сгруппируем данные по категориям целей и проссумируем количество долгов и проссумируем количество долгов найдем количество заемщиков с определенной целью, сколько среди заемщиков долгов, долю долгов и стандартную ошибку для доли долгов.<span>"
   ]
  },
  {
   "cell_type": "code",
   "execution_count": 33,
   "id": "924a2f5a",
   "metadata": {},
   "outputs": [
    {
     "data": {
      "text/html": [
       "<div>\n",
       "<style scoped>\n",
       "    .dataframe tbody tr th:only-of-type {\n",
       "        vertical-align: middle;\n",
       "    }\n",
       "\n",
       "    .dataframe tbody tr th {\n",
       "        vertical-align: top;\n",
       "    }\n",
       "\n",
       "    .dataframe thead tr th {\n",
       "        text-align: left;\n",
       "    }\n",
       "\n",
       "    .dataframe thead tr:last-of-type th {\n",
       "        text-align: right;\n",
       "    }\n",
       "</style>\n",
       "<table border=\"1\" class=\"dataframe\">\n",
       "  <thead>\n",
       "    <tr>\n",
       "      <th></th>\n",
       "      <th>count</th>\n",
       "      <th>sum</th>\n",
       "      <th>mean</th>\n",
       "      <th>sem</th>\n",
       "    </tr>\n",
       "    <tr>\n",
       "      <th></th>\n",
       "      <th>debt</th>\n",
       "      <th>debt</th>\n",
       "      <th>debt</th>\n",
       "      <th>debt</th>\n",
       "    </tr>\n",
       "    <tr>\n",
       "      <th>purpose_category</th>\n",
       "      <th></th>\n",
       "      <th></th>\n",
       "      <th></th>\n",
       "      <th></th>\n",
       "    </tr>\n",
       "  </thead>\n",
       "  <tbody>\n",
       "    <tr>\n",
       "      <th>операции с автомобилем</th>\n",
       "      <td>4279</td>\n",
       "      <td>400</td>\n",
       "      <td>9.3%</td>\n",
       "      <td>0.4%</td>\n",
       "    </tr>\n",
       "    <tr>\n",
       "      <th>операции с недвижимостью</th>\n",
       "      <td>10751</td>\n",
       "      <td>780</td>\n",
       "      <td>7.3%</td>\n",
       "      <td>0.3%</td>\n",
       "    </tr>\n",
       "    <tr>\n",
       "      <th>получение образования</th>\n",
       "      <td>3988</td>\n",
       "      <td>369</td>\n",
       "      <td>9.3%</td>\n",
       "      <td>0.5%</td>\n",
       "    </tr>\n",
       "    <tr>\n",
       "      <th>проведение свадьбы</th>\n",
       "      <td>2313</td>\n",
       "      <td>183</td>\n",
       "      <td>7.9%</td>\n",
       "      <td>0.6%</td>\n",
       "    </tr>\n",
       "  </tbody>\n",
       "</table>\n",
       "</div>"
      ],
      "text/plain": [
       "                          count  sum mean  sem\n",
       "                           debt debt debt debt\n",
       "purpose_category                              \n",
       "операции с автомобилем     4279  400 9.3% 0.4%\n",
       "операции с недвижимостью  10751  780 7.3% 0.3%\n",
       "получение образования      3988  369 9.3% 0.5%\n",
       "проведение свадьбы         2313  183 7.9% 0.6%"
      ]
     },
     "execution_count": 33,
     "metadata": {},
     "output_type": "execute_result"
    }
   ],
   "source": [
    "data.pivot_table(index=['purpose_category'],values=['debt'],aggfunc=['count','sum','mean','sem'])"
   ]
  },
  {
   "cell_type": "code",
   "execution_count": 34,
   "id": "72297035",
   "metadata": {
    "deletable": false,
    "id": "2b687290",
    "scrolled": true
   },
   "outputs": [
    {
     "name": "stdout",
     "output_type": "stream",
     "text": [
      "purpose_category\n",
      "операции с автомобилем      400\n",
      "операции с недвижимостью    780\n",
      "получение образования       369\n",
      "проведение свадьбы          183\n",
      "Name: debt, dtype: int64\n"
     ]
    }
   ],
   "source": [
    "purpose_debt = data.groupby('purpose_category')['debt'].sum()\n",
    "print(purpose_debt)"
   ]
  },
  {
   "cell_type": "code",
   "execution_count": 35,
   "id": "4c218100",
   "metadata": {},
   "outputs": [
    {
     "data": {
      "text/plain": [
       "Text(0.5, 0, 'Цели кредита')"
      ]
     },
     "execution_count": 35,
     "metadata": {},
     "output_type": "execute_result"
    },
    {
     "data": {
      "image/png": "[encoded data removed]",
      "text/plain": [
       "<Figure size 432x288 with 1 Axes>"
      ]
     },
     "metadata": {
      "needs_background": "light"
     },
     "output_type": "display_data"
    }
   ],
   "source": [
    "plt.setp(sns.barplot(data=data, x='purpose_category', y='debt').get_xticklabels(), rotation=45)\n",
    "plt.ylabel('Доля должников')\n",
    "plt.xlabel('Цели кредита')"
   ]
  },
  {
   "cell_type": "markdown",
   "id": "241d9b91",
   "metadata": {
    "deletable": false,
    "id": "b4bb2ce6"
   },
   "source": [
    "**Вывод:** \n",
    "<span style=\"color:blue\">Разные цели кредита влияют на его возврат в срок. Более ответственно к платежам заемщики, если брали кредит на операции с недвижимостью. Менее ответственно, если цели кредита были получение образования или операции с автомобилем. Проведение свадьбы занимает промежуточное положение, но является наименее популярной целью , по этому велика погрешность определения вероятности неплатежа. Верноятно люди лучше стараются во время платить за более важные (с материальной или психологической точки зрения) для них цели.  <span>"
   ]
  },
  {
   "cell_type": "markdown",
   "id": "d4ef08a9",
   "metadata": {},
   "source": [
    "<div class=\"alert alert-warning\">\n",
    "<b>Комментарий ревьюера №1</b> ⚠️\n",
    "    \n",
    "Здесь лучше было бы поразмышлять над зависимостью. Преобразования чисел лучше также сделать отдельным столбцом в общей сводной, а не в цикле. Общая сводная и нагляднее, и позволяет избежать ошибок, возникающих вследствие неупорядоченного одинаково индексов в разных таблицах \n",
    "</div>"
   ]
  },
  {
   "cell_type": "markdown",
   "id": "a033a91c",
   "metadata": {},
   "source": [
    "<div class=\"alert alert-success\">\n",
    "<b>Комментарий ревьюера №2</b> ✅\n",
    "    \n",
    "👍\n",
    "</div>"
   ]
  },
  {
   "cell_type": "markdown",
   "id": "a202fdd9",
   "metadata": {
    "deletable": false,
    "editable": false,
    "id": "09c3ac4c"
   },
   "source": [
    "#### 3.5 Приведите возможные причины появления пропусков в исходных данных."
   ]
  },
  {
   "cell_type": "markdown",
   "id": "8632684e",
   "metadata": {},
   "source": [
    "Проверим совпадают ли пропуски в `total_income` и `days_employed` "
   ]
  },
  {
   "cell_type": "code",
   "execution_count": 36,
   "id": "4b456ffa",
   "metadata": {},
   "outputs": [
    {
     "data": {
      "text/plain": [
       "2174"
      ]
     },
     "execution_count": 36,
     "metadata": {},
     "output_type": "execute_result"
    }
   ],
   "source": [
    "data_na = pd.read_csv('/datasets/data.csv')\n",
    "data_na=data_na.loc[(data_na['days_employed'].isna())&(data_na['total_income'].isna())]\n",
    "data_na['income_type'].count()"
   ]
  },
  {
   "cell_type": "markdown",
   "id": "bb5144e5",
   "metadata": {},
   "source": [
    "Совпадают. "
   ]
  },
  {
   "cell_type": "markdown",
   "id": "6151b08a",
   "metadata": {
    "deletable": false,
    "id": "9da2ceda"
   },
   "source": [
    "*Ответ:* \n",
    "Пропуски в исходных данных были только в столбцах `days_employed` и `total_income`. Эти столбцы имеют очень странный формат с точностью 6 цифр после запятой. Дни очевидно должны быть целые и зарплата с точностью до копеек максимум. Т.е. данные в столбцах с пропусками результат какой-то обработки первичных данных (Анкет которые заполняет челоек, вероятно, но стоит уточнить у инженера данных, например.). И в алгоритме этой обработки вероятно может быть ошибка. К примеру в первичных данных даты когда человек работал не в том формате и подсчет дней выдает NaN, а зарплата средняя и вычисляется используя срок работы. Если этой ошибки нет , то возможно кто-то не заполняет это в анкетах и нужно проверить являются ли эти поля обязательными."
   ]
  },
  {
   "cell_type": "markdown",
   "id": "2526aeea",
   "metadata": {},
   "source": [
    "<div class=\"alert alert-success\">\n",
    "<b>Комментарий ревьюера №1</b> ✅\n",
    "    \n",
    " Клиенты могли не предоставить данные. Возможно, эту информацию не требуют в некоторых случаях. Проблемы могли возникнуть на этапе загрузки и на этапе выгрузки данных. Неправильный запрос, объединение таблиц также может быть причиной.\n",
    "</div>"
   ]
  },
  {
   "cell_type": "markdown",
   "id": "ef654d0e",
   "metadata": {
    "deletable": false,
    "editable": false,
    "id": "7b0487d6"
   },
   "source": [
    "#### 3.6 Объясните, почему заполнить пропуски медианным значением — лучшее решение для количественных переменных."
   ]
  },
  {
   "cell_type": "markdown",
   "id": "3c0e3018",
   "metadata": {
    "deletable": false,
    "id": "7ecf2b8e"
   },
   "source": [
    "*Ответ:* \n",
    "В данном случае заполнить пропуски медианным значением хорошее решение потому, что игнорирет аномальные значения. Таким образом возможные ошибки меньше влияют на результат , чем в случае со средним значением. При выполнении анализа выше востоновленные данные применялись только в 3.3 и попали в самуб многочисленную группу тем самым не должны были сильно изменить результат, при условии что пропуски были случайны. По этому нет смысла востанавливать данные какким то более сложным способом."
   ]
  },
  {
   "cell_type": "markdown",
   "id": "48140cda",
   "metadata": {},
   "source": [
    "<div class=\"alert alert-success\">\n",
    "<b>Комментарий ревьюера №1</b> ✅\n",
    "    \n",
    "Да, смотрим на наличие выбросов👍\n",
    "</div>"
   ]
  },
  {
   "cell_type": "markdown",
   "id": "3011e37a",
   "metadata": {
    "deletable": false,
    "editable": false,
    "id": "6db5255a"
   },
   "source": [
    "### Шаг 4: общий вывод."
   ]
  },
  {
   "cell_type": "markdown",
   "id": "8b034e13",
   "metadata": {
    "deletable": false,
    "id": "bad65432"
   },
   "source": [
    "Предоставленные данные прошли следующие этапы предобработки: заполнение пропусков медианным значением в столбцах days_employed и total_income, обработаны аномальные значения в столбце days_employed,  изменены типы данных, удалены дубликаты, цели кредита и уровень дохода разбиты на категории удобные для дальнейшего анализа.  \n",
    "После предобработки в данных о заемшиках были обнаружены следующие закономерности:\n",
    "1. Вероятность долга по кредиту у людей без детей составляет ниже для людей с детьми.\n",
    "2. Семейное положение так же влияет на вероятность задолжености. Кто оформляет официально семейный статус более ответственно подходят к возврату в срок чем те кто не оформляет официально.\n",
    "3. Есть зависимость и между уровнем дохода и возвратом кредита в срок . Вероятность долга для уровня дохода 200001–1000000р ниже чем для уровня дохода 50001–200000р. Для остальных выделенных уровней дохода нужна дополнительная статистика.\n",
    "4. От целей кредита тоже есть зависимость вероятности долга.Максимально ответственно подходят к выплатам люди которые берут кредит на операции с недвижимостью и свадьбы менее ответственно получение образования или операции с автомобилем.\n",
    " \n",
    "Рекомендации: Продолжать собирать статистику.\n",
    "При увеличении количества данных можно будет уточнить приведенные выше оценки и изучить более сложные зависимости от нескольких факторов одновременно. Обратить внимание на заполнение столбцов days_employed и total_income и выяснить причину пропусков и аномальных значений в них.\n",
    "(*Или какого рода рекомендации имелись в виду?*)\n",
    "\n",
    "\n"
   ]
  },
  {
   "cell_type": "markdown",
   "id": "e5dfea65",
   "metadata": {},
   "source": [
    "<div class=\"alert alert-danger\">\n",
    "<b>Комментарий ревьюера №1</b> ❌ \n",
    "    \n",
    "Выводы нужно будет поправить после изменений в проекте. Здесь также нужно описать какая работа над данными была проведена и добавить рекомендации банку-заказчику.\n",
    "</div>"
   ]
  },
  {
   "cell_type": "markdown",
   "id": "39257df6",
   "metadata": {},
   "source": [
    "<div class=\"alert alert-success\">\n",
    "<b>Комментарий ревьюера №2</b> ✅\n",
    "    \n",
    "В качестве рекомендаций можно предложить другую категоризацию по доходам. Или исследовать другие признаки, рассчитать другие метрики (отношение дохода к сумме выплат и др.). В анкете сделать поля о доходе и стаже обязательными к заполнению, добавить автопроверку на формат вводимых пользователем данных\n",
    "</div>"
   ]
  },
  {
   "cell_type": "markdown",
   "id": "e31b056e",
   "metadata": {},
   "source": [
    "<div style=\"border:solid purple 2px; padding: 20px\"> \n",
    "<b> <font color='purple' >   \n",
    "    \n",
    "В целом, работа хорошая. У тебя отличные аналитические навыки, но остались небольшие доработки. Нужно построить общие сводные в каждом вопросе, проверить выводы по доходу и общий вывод. Доделывай и присылай на повторную проверку.\n",
    "        \n",
    "Жду твоих исправлений 😊\n",
    "</font></b>\n",
    "</div>"
   ]
  },
  {
   "cell_type": "markdown",
   "id": "9d173308",
   "metadata": {},
   "source": [
    "<div style=\"border:solid purple 2px; padding: 20px\"> \n",
    "<b> <font color='purple' >   \n",
    "Отлично! Критических замечаний больше нет. Проект принят! 👏 Поздравляю и желаю удачи!\n",
    "</font></b>\n",
    "</div>"
   ]
  }
 ],
 "metadata": {
  "ExecuteTimeLog": [
   {
    "duration": 8,
    "start_time": "2023-10-25T20:08:37.866Z"
   },
   {
    "duration": 43,
    "start_time": "2023-10-25T20:08:39.405Z"
   },
   {
    "duration": 486,
    "start_time": "2023-10-25T20:08:57.386Z"
   },
   {
    "duration": 21,
    "start_time": "2023-10-25T20:08:57.874Z"
   },
   {
    "duration": 16,
    "start_time": "2023-10-25T20:08:57.896Z"
   },
   {
    "duration": 10,
    "start_time": "2023-10-25T20:08:57.914Z"
   },
   {
    "duration": 45,
    "start_time": "2023-10-25T20:08:57.926Z"
   },
   {
    "duration": 3,
    "start_time": "2023-10-25T20:08:57.973Z"
   },
   {
    "duration": 10,
    "start_time": "2023-10-25T20:08:57.977Z"
   },
   {
    "duration": 4,
    "start_time": "2023-10-25T20:08:57.988Z"
   },
   {
    "duration": 8,
    "start_time": "2023-10-25T20:08:57.993Z"
   },
   {
    "duration": 4,
    "start_time": "2023-10-25T20:08:58.006Z"
   },
   {
    "duration": 63,
    "start_time": "2023-10-25T20:08:58.012Z"
   },
   {
    "duration": 12,
    "start_time": "2023-10-25T20:08:58.076Z"
   },
   {
    "duration": 7,
    "start_time": "2023-10-25T20:08:58.089Z"
   },
   {
    "duration": 19,
    "start_time": "2023-10-25T20:08:58.097Z"
   },
   {
    "duration": 33,
    "start_time": "2023-10-25T20:08:58.118Z"
   },
   {
    "duration": 17,
    "start_time": "2023-10-25T20:08:58.153Z"
   },
   {
    "duration": 3,
    "start_time": "2023-10-25T20:08:58.172Z"
   },
   {
    "duration": 12,
    "start_time": "2023-10-25T20:08:58.177Z"
   },
   {
    "duration": 6,
    "start_time": "2023-10-25T20:08:58.190Z"
   },
   {
    "duration": 5,
    "start_time": "2023-10-25T20:08:58.197Z"
   },
   {
    "duration": 17,
    "start_time": "2023-10-25T20:08:58.203Z"
   },
   {
    "duration": 23,
    "start_time": "2023-10-25T20:08:58.221Z"
   },
   {
    "duration": 18,
    "start_time": "2023-10-25T20:08:58.245Z"
   },
   {
    "duration": 9,
    "start_time": "2023-10-25T20:08:58.264Z"
   },
   {
    "duration": 6,
    "start_time": "2023-10-25T20:08:58.275Z"
   },
   {
    "duration": 98,
    "start_time": "2023-10-25T20:10:20.018Z"
   },
   {
    "duration": 88,
    "start_time": "2023-10-25T20:12:12.625Z"
   },
   {
    "duration": 75,
    "start_time": "2023-10-25T20:12:15.857Z"
   },
   {
    "duration": 79,
    "start_time": "2023-10-25T20:12:23.518Z"
   },
   {
    "duration": 83,
    "start_time": "2023-10-25T20:12:24.415Z"
   },
   {
    "duration": 78,
    "start_time": "2023-10-25T20:12:25.055Z"
   },
   {
    "duration": 100,
    "start_time": "2023-10-25T20:12:25.522Z"
   },
   {
    "duration": 83,
    "start_time": "2023-10-25T20:12:25.824Z"
   },
   {
    "duration": 74,
    "start_time": "2023-10-25T20:12:26.056Z"
   },
   {
    "duration": 79,
    "start_time": "2023-10-25T20:12:26.262Z"
   },
   {
    "duration": 84,
    "start_time": "2023-10-25T20:12:26.506Z"
   },
   {
    "duration": 82,
    "start_time": "2023-10-25T20:12:26.711Z"
   },
   {
    "duration": 86,
    "start_time": "2023-10-25T20:12:26.926Z"
   },
   {
    "duration": 76,
    "start_time": "2023-10-25T20:12:27.126Z"
   },
   {
    "duration": 65,
    "start_time": "2023-10-25T20:12:27.354Z"
   },
   {
    "duration": 78,
    "start_time": "2023-10-25T20:12:27.542Z"
   },
   {
    "duration": 83,
    "start_time": "2023-10-25T20:12:27.790Z"
   },
   {
    "duration": 480,
    "start_time": "2023-10-25T20:12:39.562Z"
   },
   {
    "duration": 27,
    "start_time": "2023-10-25T20:12:40.044Z"
   },
   {
    "duration": 29,
    "start_time": "2023-10-25T20:12:40.073Z"
   },
   {
    "duration": 14,
    "start_time": "2023-10-25T20:12:40.105Z"
   },
   {
    "duration": 55,
    "start_time": "2023-10-25T20:12:40.121Z"
   },
   {
    "duration": 5,
    "start_time": "2023-10-25T20:12:40.177Z"
   },
   {
    "duration": 21,
    "start_time": "2023-10-25T20:12:40.184Z"
   },
   {
    "duration": 31,
    "start_time": "2023-10-25T20:12:40.207Z"
   },
   {
    "duration": 22,
    "start_time": "2023-10-25T20:12:40.239Z"
   },
   {
    "duration": 10,
    "start_time": "2023-10-25T20:12:40.266Z"
   },
   {
    "duration": 45,
    "start_time": "2023-10-25T20:12:40.277Z"
   },
   {
    "duration": 14,
    "start_time": "2023-10-25T20:12:40.324Z"
   },
   {
    "duration": 20,
    "start_time": "2023-10-25T20:12:40.340Z"
   },
   {
    "duration": 22,
    "start_time": "2023-10-25T20:12:40.362Z"
   },
   {
    "duration": 29,
    "start_time": "2023-10-25T20:12:40.385Z"
   },
   {
    "duration": 23,
    "start_time": "2023-10-25T20:12:40.415Z"
   },
   {
    "duration": 6,
    "start_time": "2023-10-25T20:12:40.439Z"
   },
   {
    "duration": 28,
    "start_time": "2023-10-25T20:12:40.446Z"
   },
   {
    "duration": 23,
    "start_time": "2023-10-25T20:12:40.476Z"
   },
   {
    "duration": 13,
    "start_time": "2023-10-25T20:12:40.501Z"
   },
   {
    "duration": 34,
    "start_time": "2023-10-25T20:12:40.516Z"
   },
   {
    "duration": 11,
    "start_time": "2023-10-25T20:12:40.555Z"
   },
   {
    "duration": 31,
    "start_time": "2023-10-25T20:12:40.568Z"
   },
   {
    "duration": 36,
    "start_time": "2023-10-25T20:12:40.600Z"
   },
   {
    "duration": 2,
    "start_time": "2023-10-25T20:14:09.912Z"
   },
   {
    "duration": 15,
    "start_time": "2023-10-25T20:17:54.665Z"
   },
   {
    "duration": 65,
    "start_time": "2023-10-25T20:24:39.803Z"
   },
   {
    "duration": 19,
    "start_time": "2023-10-25T20:25:09.491Z"
   },
   {
    "duration": 6,
    "start_time": "2023-10-25T20:25:35.115Z"
   },
   {
    "duration": 6,
    "start_time": "2023-10-25T20:26:21.447Z"
   },
   {
    "duration": 5,
    "start_time": "2023-10-25T20:34:50.617Z"
   },
   {
    "duration": 6,
    "start_time": "2023-10-25T20:34:57.602Z"
   },
   {
    "duration": 4,
    "start_time": "2023-10-25T20:41:56.098Z"
   },
   {
    "duration": 1060,
    "start_time": "2023-10-25T20:45:59.123Z"
   },
   {
    "duration": 131,
    "start_time": "2023-10-25T20:48:22.952Z"
   },
   {
    "duration": 5,
    "start_time": "2023-10-25T20:50:57.701Z"
   },
   {
    "duration": 112,
    "start_time": "2023-10-25T20:51:38.490Z"
   },
   {
    "duration": 141,
    "start_time": "2023-10-25T20:55:09.642Z"
   },
   {
    "duration": 5,
    "start_time": "2023-10-25T20:56:15.232Z"
   },
   {
    "duration": 154,
    "start_time": "2023-10-25T20:56:27.835Z"
   },
   {
    "duration": 4,
    "start_time": "2023-10-25T21:01:29.107Z"
   },
   {
    "duration": 59,
    "start_time": "2023-10-25T21:06:15.721Z"
   },
   {
    "duration": 4,
    "start_time": "2023-10-25T21:08:08.920Z"
   },
   {
    "duration": 82,
    "start_time": "2023-10-25T21:21:14.931Z"
   },
   {
    "duration": 10,
    "start_time": "2023-10-25T21:22:03.777Z"
   },
   {
    "duration": 4,
    "start_time": "2023-10-25T21:22:48.732Z"
   },
   {
    "duration": 4,
    "start_time": "2023-10-25T21:23:46.193Z"
   },
   {
    "duration": 17,
    "start_time": "2023-10-25T21:32:03.003Z"
   },
   {
    "duration": 5,
    "start_time": "2023-10-25T21:32:36.819Z"
   },
   {
    "duration": 6,
    "start_time": "2023-10-25T21:34:33.183Z"
   },
   {
    "duration": 6,
    "start_time": "2023-10-25T21:36:34.948Z"
   },
   {
    "duration": 7,
    "start_time": "2023-10-25T21:36:52.219Z"
   },
   {
    "duration": 7,
    "start_time": "2023-10-25T21:37:48.750Z"
   },
   {
    "duration": 5,
    "start_time": "2023-10-25T21:39:01.077Z"
   },
   {
    "duration": 4,
    "start_time": "2023-10-25T21:40:29.243Z"
   },
   {
    "duration": 81,
    "start_time": "2023-11-10T08:00:38.517Z"
   },
   {
    "duration": 6,
    "start_time": "2023-11-10T08:00:43.895Z"
   },
   {
    "duration": 815,
    "start_time": "2023-11-10T08:01:02.841Z"
   },
   {
    "duration": 24,
    "start_time": "2023-11-10T08:01:03.658Z"
   },
   {
    "duration": 21,
    "start_time": "2023-11-10T08:01:03.684Z"
   },
   {
    "duration": 14,
    "start_time": "2023-11-10T08:01:03.707Z"
   },
   {
    "duration": 51,
    "start_time": "2023-11-10T08:01:03.727Z"
   },
   {
    "duration": 3,
    "start_time": "2023-11-10T08:01:03.780Z"
   },
   {
    "duration": 25,
    "start_time": "2023-11-10T08:01:03.785Z"
   },
   {
    "duration": 24,
    "start_time": "2023-11-10T08:01:03.811Z"
   },
   {
    "duration": 10,
    "start_time": "2023-11-10T08:01:03.841Z"
   },
   {
    "duration": 5,
    "start_time": "2023-11-10T08:01:03.854Z"
   },
   {
    "duration": 42,
    "start_time": "2023-11-10T08:01:03.861Z"
   },
   {
    "duration": 17,
    "start_time": "2023-11-10T08:01:03.905Z"
   },
   {
    "duration": 27,
    "start_time": "2023-11-10T08:01:03.924Z"
   },
   {
    "duration": 28,
    "start_time": "2023-11-10T08:01:03.953Z"
   },
   {
    "duration": 42,
    "start_time": "2023-11-10T08:01:03.984Z"
   },
   {
    "duration": 26,
    "start_time": "2023-11-10T08:01:04.027Z"
   },
   {
    "duration": 6,
    "start_time": "2023-11-10T08:01:04.055Z"
   },
   {
    "duration": 15,
    "start_time": "2023-11-10T08:01:04.063Z"
   },
   {
    "duration": 30,
    "start_time": "2023-11-10T08:01:04.079Z"
   },
   {
    "duration": 45,
    "start_time": "2023-11-10T08:01:04.111Z"
   },
   {
    "duration": 36,
    "start_time": "2023-11-10T08:01:04.157Z"
   },
   {
    "duration": 29,
    "start_time": "2023-11-10T08:01:04.194Z"
   },
   {
    "duration": 24,
    "start_time": "2023-11-10T08:01:04.228Z"
   },
   {
    "duration": 13,
    "start_time": "2023-11-10T08:01:04.253Z"
   },
   {
    "duration": 815,
    "start_time": "2023-11-10T08:01:04.267Z"
   },
   {
    "duration": 5,
    "start_time": "2023-11-10T08:01:05.084Z"
   },
   {
    "duration": 27,
    "start_time": "2023-11-10T08:01:05.092Z"
   },
   {
    "duration": 12,
    "start_time": "2023-11-10T08:01:05.135Z"
   },
   {
    "duration": 21,
    "start_time": "2023-11-10T08:01:05.149Z"
   },
   {
    "duration": 33,
    "start_time": "2023-11-10T08:01:05.172Z"
   },
   {
    "duration": 21,
    "start_time": "2023-11-10T08:01:05.207Z"
   },
   {
    "duration": 12,
    "start_time": "2023-11-10T08:01:05.232Z"
   },
   {
    "duration": 6,
    "start_time": "2023-11-10T08:01:16.365Z"
   },
   {
    "duration": 6,
    "start_time": "2023-11-10T08:03:53.701Z"
   },
   {
    "duration": 23,
    "start_time": "2023-11-10T08:07:18.618Z"
   },
   {
    "duration": 18,
    "start_time": "2023-11-10T08:08:25.811Z"
   },
   {
    "duration": 6,
    "start_time": "2023-11-10T08:09:50.289Z"
   },
   {
    "duration": 102,
    "start_time": "2023-11-10T08:18:07.592Z"
   },
   {
    "duration": 8,
    "start_time": "2023-11-10T08:20:21.441Z"
   },
   {
    "duration": 7,
    "start_time": "2023-11-10T08:22:11.370Z"
   },
   {
    "duration": 46,
    "start_time": "2023-11-10T08:47:31.661Z"
   },
   {
    "duration": 391,
    "start_time": "2023-11-10T08:51:17.740Z"
   },
   {
    "duration": 8,
    "start_time": "2023-11-10T08:51:25.413Z"
   },
   {
    "duration": 7,
    "start_time": "2023-11-10T08:52:24.209Z"
   },
   {
    "duration": 9,
    "start_time": "2023-11-10T08:53:39.048Z"
   },
   {
    "duration": 142,
    "start_time": "2023-11-10T09:00:23.811Z"
   },
   {
    "duration": 12,
    "start_time": "2023-11-10T09:08:47.310Z"
   },
   {
    "duration": 10,
    "start_time": "2023-11-10T09:09:53.498Z"
   },
   {
    "duration": 124,
    "start_time": "2023-11-10T09:10:26.025Z"
   },
   {
    "duration": 120,
    "start_time": "2023-11-10T09:10:50.879Z"
   },
   {
    "duration": 206,
    "start_time": "2023-11-10T09:11:28.714Z"
   },
   {
    "duration": 10,
    "start_time": "2023-11-10T09:13:42.205Z"
   },
   {
    "duration": 2574,
    "start_time": "2023-11-10T09:17:06.902Z"
   },
   {
    "duration": 15,
    "start_time": "2023-11-10T09:18:12.578Z"
   },
   {
    "duration": 9,
    "start_time": "2023-11-10T09:18:36.290Z"
   },
   {
    "duration": 8,
    "start_time": "2023-11-10T09:20:35.530Z"
   },
   {
    "duration": 7,
    "start_time": "2023-11-10T09:20:38.567Z"
   },
   {
    "duration": 7,
    "start_time": "2023-11-10T09:20:41.690Z"
   },
   {
    "duration": 8,
    "start_time": "2023-11-10T09:21:52.246Z"
   },
   {
    "duration": 10,
    "start_time": "2023-11-10T09:22:28.477Z"
   },
   {
    "duration": 9,
    "start_time": "2023-11-10T09:22:36.611Z"
   },
   {
    "duration": 2008,
    "start_time": "2023-11-10T09:22:45.421Z"
   },
   {
    "duration": 9,
    "start_time": "2023-11-10T09:26:01.338Z"
   },
   {
    "duration": 8,
    "start_time": "2023-11-10T09:26:11.055Z"
   },
   {
    "duration": 1804,
    "start_time": "2023-11-10T09:27:56.753Z"
   },
   {
    "duration": 9,
    "start_time": "2023-11-10T09:29:08.328Z"
   },
   {
    "duration": 8,
    "start_time": "2023-11-10T09:29:11.978Z"
   },
   {
    "duration": 6,
    "start_time": "2023-11-10T09:29:37.564Z"
   },
   {
    "duration": 8,
    "start_time": "2023-11-10T09:29:44.757Z"
   },
   {
    "duration": 82,
    "start_time": "2023-11-10T09:30:34.263Z"
   },
   {
    "duration": 8,
    "start_time": "2023-11-10T09:30:48.632Z"
   },
   {
    "duration": 112,
    "start_time": "2023-11-10T09:31:04.029Z"
   },
   {
    "duration": 8,
    "start_time": "2023-11-10T09:31:40.898Z"
   },
   {
    "duration": 8,
    "start_time": "2023-11-10T09:32:36.747Z"
   },
   {
    "duration": 108,
    "start_time": "2023-11-10T09:32:40.893Z"
   },
   {
    "duration": 10,
    "start_time": "2023-11-10T09:46:22.872Z"
   },
   {
    "duration": 11,
    "start_time": "2023-11-10T09:46:51.134Z"
   },
   {
    "duration": 10,
    "start_time": "2023-11-10T09:49:36.118Z"
   },
   {
    "duration": 6,
    "start_time": "2023-11-10T09:50:44.159Z"
   },
   {
    "duration": 8,
    "start_time": "2023-11-10T09:58:28.594Z"
   },
   {
    "duration": 8,
    "start_time": "2023-11-10T10:04:40.748Z"
   },
   {
    "duration": 7,
    "start_time": "2023-11-10T10:05:06.164Z"
   },
   {
    "duration": 6,
    "start_time": "2023-11-10T10:06:00.885Z"
   },
   {
    "duration": 5,
    "start_time": "2023-11-10T10:06:17.288Z"
   },
   {
    "duration": 5,
    "start_time": "2023-11-10T10:06:25.061Z"
   },
   {
    "duration": 10,
    "start_time": "2023-11-10T10:06:29.268Z"
   },
   {
    "duration": 5,
    "start_time": "2023-11-10T10:06:50.883Z"
   },
   {
    "duration": 131,
    "start_time": "2023-11-10T10:07:08.902Z"
   },
   {
    "duration": 8,
    "start_time": "2023-11-10T10:07:42.944Z"
   },
   {
    "duration": 6,
    "start_time": "2023-11-10T10:07:49.888Z"
   },
   {
    "duration": 11,
    "start_time": "2023-11-10T10:08:30.600Z"
   },
   {
    "duration": 5,
    "start_time": "2023-11-10T10:08:38.878Z"
   },
   {
    "duration": 2193,
    "start_time": "2023-11-10T10:10:17.506Z"
   },
   {
    "duration": 4,
    "start_time": "2023-11-10T10:11:35.320Z"
   },
   {
    "duration": 4,
    "start_time": "2023-11-10T10:13:05.163Z"
   },
   {
    "duration": 4,
    "start_time": "2023-11-10T10:14:19.298Z"
   },
   {
    "duration": 81,
    "start_time": "2023-11-10T10:22:30.573Z"
   },
   {
    "duration": 87,
    "start_time": "2023-11-10T10:29:46.382Z"
   },
   {
    "duration": 84,
    "start_time": "2023-11-10T10:30:02.949Z"
   },
   {
    "duration": 82,
    "start_time": "2023-11-10T10:30:22.236Z"
   },
   {
    "duration": 77,
    "start_time": "2023-11-10T10:34:19.634Z"
   },
   {
    "duration": 8,
    "start_time": "2023-11-10T10:36:08.195Z"
   },
   {
    "duration": 14,
    "start_time": "2023-11-10T10:36:41.592Z"
   },
   {
    "duration": 8,
    "start_time": "2023-11-10T10:37:22.780Z"
   },
   {
    "duration": 10,
    "start_time": "2023-11-10T11:00:11.016Z"
   },
   {
    "duration": 7,
    "start_time": "2023-11-10T11:00:20.707Z"
   },
   {
    "duration": 10,
    "start_time": "2023-11-10T11:01:24.082Z"
   },
   {
    "duration": 49,
    "start_time": "2023-11-10T14:05:36.589Z"
   },
   {
    "duration": 726,
    "start_time": "2023-11-10T14:05:49.702Z"
   },
   {
    "duration": 20,
    "start_time": "2023-11-10T14:05:50.430Z"
   },
   {
    "duration": 48,
    "start_time": "2023-11-10T14:05:50.452Z"
   },
   {
    "duration": 27,
    "start_time": "2023-11-10T14:05:50.502Z"
   },
   {
    "duration": 57,
    "start_time": "2023-11-10T14:05:50.530Z"
   },
   {
    "duration": 8,
    "start_time": "2023-11-10T14:05:50.589Z"
   },
   {
    "duration": 35,
    "start_time": "2023-11-10T14:05:50.599Z"
   },
   {
    "duration": 34,
    "start_time": "2023-11-10T14:05:50.635Z"
   },
   {
    "duration": 22,
    "start_time": "2023-11-10T14:05:50.671Z"
   },
   {
    "duration": 48,
    "start_time": "2023-11-10T14:05:50.695Z"
   },
   {
    "duration": 79,
    "start_time": "2023-11-10T14:05:50.744Z"
   },
   {
    "duration": 10,
    "start_time": "2023-11-10T14:05:50.824Z"
   },
   {
    "duration": 26,
    "start_time": "2023-11-10T14:05:50.835Z"
   },
   {
    "duration": 27,
    "start_time": "2023-11-10T14:05:50.862Z"
   },
   {
    "duration": 24,
    "start_time": "2023-11-10T14:05:50.891Z"
   },
   {
    "duration": 15,
    "start_time": "2023-11-10T14:05:50.917Z"
   },
   {
    "duration": 18,
    "start_time": "2023-11-10T14:05:50.934Z"
   },
   {
    "duration": 28,
    "start_time": "2023-11-10T14:05:50.953Z"
   },
   {
    "duration": 26,
    "start_time": "2023-11-10T14:05:50.982Z"
   },
   {
    "duration": 15,
    "start_time": "2023-11-10T14:05:51.010Z"
   },
   {
    "duration": 48,
    "start_time": "2023-11-10T14:05:51.027Z"
   },
   {
    "duration": 37,
    "start_time": "2023-11-10T14:05:51.077Z"
   },
   {
    "duration": 31,
    "start_time": "2023-11-10T14:05:51.116Z"
   },
   {
    "duration": 33,
    "start_time": "2023-11-10T14:05:51.148Z"
   },
   {
    "duration": 622,
    "start_time": "2023-11-10T14:05:51.182Z"
   },
   {
    "duration": 5,
    "start_time": "2023-11-10T14:05:51.806Z"
   },
   {
    "duration": 43,
    "start_time": "2023-11-10T14:05:51.813Z"
   },
   {
    "duration": 33,
    "start_time": "2023-11-10T14:05:51.859Z"
   },
   {
    "duration": 41,
    "start_time": "2023-11-10T14:05:51.893Z"
   },
   {
    "duration": 75,
    "start_time": "2023-11-10T14:05:51.935Z"
   },
   {
    "duration": 71,
    "start_time": "2023-11-10T14:05:52.011Z"
   },
   {
    "duration": 29,
    "start_time": "2023-11-10T14:05:52.083Z"
   },
   {
    "duration": 4,
    "start_time": "2023-11-10T14:05:52.114Z"
   },
   {
    "duration": 15,
    "start_time": "2023-11-10T14:05:52.120Z"
   },
   {
    "duration": 117,
    "start_time": "2023-11-10T14:05:52.137Z"
   },
   {
    "duration": 7,
    "start_time": "2023-11-10T14:05:52.256Z"
   },
   {
    "duration": 38,
    "start_time": "2023-11-10T14:05:52.264Z"
   },
   {
    "duration": 7,
    "start_time": "2023-11-10T14:05:52.304Z"
   },
   {
    "duration": 15,
    "start_time": "2023-11-10T14:05:52.313Z"
   },
   {
    "duration": 21,
    "start_time": "2023-11-10T14:05:52.329Z"
   },
   {
    "duration": 101,
    "start_time": "2023-11-10T14:05:52.351Z"
   },
   {
    "duration": 5,
    "start_time": "2023-11-10T14:05:52.453Z"
   },
   {
    "duration": 54,
    "start_time": "2023-11-10T19:09:02.523Z"
   },
   {
    "duration": 6,
    "start_time": "2023-11-10T19:09:25.941Z"
   },
   {
    "duration": 678,
    "start_time": "2023-11-10T19:09:35.143Z"
   },
   {
    "duration": 21,
    "start_time": "2023-11-10T19:09:35.823Z"
   },
   {
    "duration": 22,
    "start_time": "2023-11-10T19:09:35.845Z"
   },
   {
    "duration": 8,
    "start_time": "2023-11-10T19:09:35.869Z"
   },
   {
    "duration": 33,
    "start_time": "2023-11-10T19:09:35.878Z"
   },
   {
    "duration": 3,
    "start_time": "2023-11-10T19:09:35.913Z"
   },
   {
    "duration": 10,
    "start_time": "2023-11-10T19:09:35.917Z"
   },
   {
    "duration": 4,
    "start_time": "2023-11-10T19:09:35.939Z"
   },
   {
    "duration": 8,
    "start_time": "2023-11-10T19:09:35.944Z"
   },
   {
    "duration": 3,
    "start_time": "2023-11-10T19:09:35.955Z"
   },
   {
    "duration": 32,
    "start_time": "2023-11-10T19:09:35.959Z"
   },
   {
    "duration": 8,
    "start_time": "2023-11-10T19:09:35.993Z"
   },
   {
    "duration": 5,
    "start_time": "2023-11-10T19:09:36.002Z"
   },
   {
    "duration": 35,
    "start_time": "2023-11-10T19:09:36.008Z"
   },
   {
    "duration": 18,
    "start_time": "2023-11-10T19:09:36.044Z"
   },
   {
    "duration": 17,
    "start_time": "2023-11-10T19:09:36.063Z"
   },
   {
    "duration": 3,
    "start_time": "2023-11-10T19:09:36.082Z"
   },
   {
    "duration": 10,
    "start_time": "2023-11-10T19:09:36.086Z"
   },
   {
    "duration": 6,
    "start_time": "2023-11-10T19:09:36.097Z"
   },
   {
    "duration": 12,
    "start_time": "2023-11-10T19:09:36.104Z"
   },
   {
    "duration": 29,
    "start_time": "2023-11-10T19:09:36.118Z"
   },
   {
    "duration": 5,
    "start_time": "2023-11-10T19:09:36.149Z"
   },
   {
    "duration": 3,
    "start_time": "2023-11-10T19:09:36.156Z"
   },
   {
    "duration": 9,
    "start_time": "2023-11-10T19:09:36.161Z"
   },
   {
    "duration": 503,
    "start_time": "2023-11-10T19:09:36.171Z"
   },
   {
    "duration": 4,
    "start_time": "2023-11-10T19:09:36.676Z"
   },
   {
    "duration": 351,
    "start_time": "2023-11-10T19:09:36.682Z"
   },
   {
    "duration": 0,
    "start_time": "2023-11-10T19:09:37.035Z"
   },
   {
    "duration": 0,
    "start_time": "2023-11-10T19:09:37.036Z"
   },
   {
    "duration": 0,
    "start_time": "2023-11-10T19:09:37.037Z"
   },
   {
    "duration": 1,
    "start_time": "2023-11-10T19:09:37.037Z"
   },
   {
    "duration": 0,
    "start_time": "2023-11-10T19:09:37.038Z"
   },
   {
    "duration": 0,
    "start_time": "2023-11-10T19:09:37.040Z"
   },
   {
    "duration": 0,
    "start_time": "2023-11-10T19:09:37.040Z"
   },
   {
    "duration": 0,
    "start_time": "2023-11-10T19:09:37.041Z"
   },
   {
    "duration": 0,
    "start_time": "2023-11-10T19:09:37.042Z"
   },
   {
    "duration": 0,
    "start_time": "2023-11-10T19:09:37.043Z"
   },
   {
    "duration": 0,
    "start_time": "2023-11-10T19:09:37.044Z"
   },
   {
    "duration": 0,
    "start_time": "2023-11-10T19:09:37.045Z"
   },
   {
    "duration": 0,
    "start_time": "2023-11-10T19:09:37.046Z"
   },
   {
    "duration": 0,
    "start_time": "2023-11-10T19:09:37.047Z"
   },
   {
    "duration": 0,
    "start_time": "2023-11-10T19:09:37.048Z"
   },
   {
    "duration": 479,
    "start_time": "2023-11-10T19:09:53.414Z"
   },
   {
    "duration": 21,
    "start_time": "2023-11-10T19:09:53.894Z"
   },
   {
    "duration": 15,
    "start_time": "2023-11-10T19:09:53.917Z"
   },
   {
    "duration": 10,
    "start_time": "2023-11-10T19:09:53.935Z"
   },
   {
    "duration": 32,
    "start_time": "2023-11-10T19:09:53.947Z"
   },
   {
    "duration": 4,
    "start_time": "2023-11-10T19:09:53.980Z"
   },
   {
    "duration": 9,
    "start_time": "2023-11-10T19:09:53.985Z"
   },
   {
    "duration": 5,
    "start_time": "2023-11-10T19:09:53.996Z"
   },
   {
    "duration": 26,
    "start_time": "2023-11-10T19:09:54.003Z"
   },
   {
    "duration": 4,
    "start_time": "2023-11-10T19:09:54.039Z"
   },
   {
    "duration": 31,
    "start_time": "2023-11-10T19:09:54.045Z"
   },
   {
    "duration": 9,
    "start_time": "2023-11-10T19:09:54.078Z"
   },
   {
    "duration": 13,
    "start_time": "2023-11-10T19:09:54.089Z"
   },
   {
    "duration": 29,
    "start_time": "2023-11-10T19:09:54.103Z"
   },
   {
    "duration": 21,
    "start_time": "2023-11-10T19:09:54.133Z"
   },
   {
    "duration": 17,
    "start_time": "2023-11-10T19:09:54.155Z"
   },
   {
    "duration": 3,
    "start_time": "2023-11-10T19:09:54.173Z"
   },
   {
    "duration": 38,
    "start_time": "2023-11-10T19:09:54.178Z"
   },
   {
    "duration": 21,
    "start_time": "2023-11-10T19:09:54.217Z"
   },
   {
    "duration": 8,
    "start_time": "2023-11-10T19:09:54.240Z"
   },
   {
    "duration": 19,
    "start_time": "2023-11-10T19:09:54.249Z"
   },
   {
    "duration": 7,
    "start_time": "2023-11-10T19:09:54.270Z"
   },
   {
    "duration": 25,
    "start_time": "2023-11-10T19:09:54.279Z"
   },
   {
    "duration": 7,
    "start_time": "2023-11-10T19:09:54.305Z"
   },
   {
    "duration": 355,
    "start_time": "2023-11-10T19:09:54.313Z"
   },
   {
    "duration": 4,
    "start_time": "2023-11-10T19:09:54.669Z"
   },
   {
    "duration": 436,
    "start_time": "2023-11-10T19:09:54.675Z"
   },
   {
    "duration": 0,
    "start_time": "2023-11-10T19:09:55.113Z"
   },
   {
    "duration": 0,
    "start_time": "2023-11-10T19:09:55.114Z"
   },
   {
    "duration": 0,
    "start_time": "2023-11-10T19:09:55.115Z"
   },
   {
    "duration": 0,
    "start_time": "2023-11-10T19:09:55.116Z"
   },
   {
    "duration": 0,
    "start_time": "2023-11-10T19:09:55.116Z"
   },
   {
    "duration": 0,
    "start_time": "2023-11-10T19:09:55.117Z"
   },
   {
    "duration": 0,
    "start_time": "2023-11-10T19:09:55.118Z"
   },
   {
    "duration": 0,
    "start_time": "2023-11-10T19:09:55.119Z"
   },
   {
    "duration": 0,
    "start_time": "2023-11-10T19:09:55.120Z"
   },
   {
    "duration": 0,
    "start_time": "2023-11-10T19:09:55.120Z"
   },
   {
    "duration": 0,
    "start_time": "2023-11-10T19:09:55.121Z"
   },
   {
    "duration": 0,
    "start_time": "2023-11-10T19:09:55.122Z"
   },
   {
    "duration": 0,
    "start_time": "2023-11-10T19:09:55.123Z"
   },
   {
    "duration": 0,
    "start_time": "2023-11-10T19:09:55.123Z"
   },
   {
    "duration": 0,
    "start_time": "2023-11-10T19:09:55.124Z"
   },
   {
    "duration": 7,
    "start_time": "2023-11-10T19:10:43.532Z"
   },
   {
    "duration": 5,
    "start_time": "2023-11-10T19:11:26.842Z"
   },
   {
    "duration": 4,
    "start_time": "2023-11-10T19:11:39.007Z"
   },
   {
    "duration": 6,
    "start_time": "2023-11-10T19:11:59.367Z"
   },
   {
    "duration": 6,
    "start_time": "2023-11-10T19:14:01.043Z"
   },
   {
    "duration": 419,
    "start_time": "2023-11-10T19:14:13.502Z"
   },
   {
    "duration": 20,
    "start_time": "2023-11-10T19:14:13.922Z"
   },
   {
    "duration": 13,
    "start_time": "2023-11-10T19:14:13.944Z"
   },
   {
    "duration": 8,
    "start_time": "2023-11-10T19:14:13.959Z"
   },
   {
    "duration": 31,
    "start_time": "2023-11-10T19:14:13.969Z"
   },
   {
    "duration": 4,
    "start_time": "2023-11-10T19:14:14.001Z"
   },
   {
    "duration": 11,
    "start_time": "2023-11-10T19:14:14.007Z"
   },
   {
    "duration": 4,
    "start_time": "2023-11-10T19:14:14.039Z"
   },
   {
    "duration": 7,
    "start_time": "2023-11-10T19:14:14.044Z"
   },
   {
    "duration": 5,
    "start_time": "2023-11-10T19:14:14.053Z"
   },
   {
    "duration": 30,
    "start_time": "2023-11-10T19:14:14.059Z"
   },
   {
    "duration": 8,
    "start_time": "2023-11-10T19:14:14.090Z"
   },
   {
    "duration": 7,
    "start_time": "2023-11-10T19:14:14.099Z"
   },
   {
    "duration": 10,
    "start_time": "2023-11-10T19:14:14.107Z"
   },
   {
    "duration": 18,
    "start_time": "2023-11-10T19:14:14.140Z"
   },
   {
    "duration": 17,
    "start_time": "2023-11-10T19:14:14.159Z"
   },
   {
    "duration": 3,
    "start_time": "2023-11-10T19:14:14.178Z"
   },
   {
    "duration": 12,
    "start_time": "2023-11-10T19:14:14.182Z"
   },
   {
    "duration": 10,
    "start_time": "2023-11-10T19:14:14.195Z"
   },
   {
    "duration": 3,
    "start_time": "2023-11-10T19:14:14.206Z"
   },
   {
    "duration": 29,
    "start_time": "2023-11-10T19:14:14.210Z"
   },
   {
    "duration": 4,
    "start_time": "2023-11-10T19:14:14.241Z"
   },
   {
    "duration": 3,
    "start_time": "2023-11-10T19:14:14.247Z"
   },
   {
    "duration": 3,
    "start_time": "2023-11-10T19:14:14.252Z"
   },
   {
    "duration": 336,
    "start_time": "2023-11-10T19:14:14.256Z"
   },
   {
    "duration": 4,
    "start_time": "2023-11-10T19:14:14.593Z"
   },
   {
    "duration": 18,
    "start_time": "2023-11-10T19:14:14.598Z"
   },
   {
    "duration": 9,
    "start_time": "2023-11-10T19:14:14.619Z"
   },
   {
    "duration": 7,
    "start_time": "2023-11-10T19:14:14.630Z"
   },
   {
    "duration": 5,
    "start_time": "2023-11-10T19:14:14.639Z"
   },
   {
    "duration": 4,
    "start_time": "2023-11-10T19:14:14.646Z"
   },
   {
    "duration": 6,
    "start_time": "2023-11-10T19:14:14.651Z"
   },
   {
    "duration": 9,
    "start_time": "2023-11-10T19:14:14.658Z"
   },
   {
    "duration": 7,
    "start_time": "2023-11-10T19:14:14.669Z"
   },
   {
    "duration": 14,
    "start_time": "2023-11-10T19:14:14.677Z"
   },
   {
    "duration": 103,
    "start_time": "2023-11-10T19:14:14.693Z"
   },
   {
    "duration": 6,
    "start_time": "2023-11-10T19:14:14.798Z"
   },
   {
    "duration": 8,
    "start_time": "2023-11-10T19:14:14.806Z"
   },
   {
    "duration": 4,
    "start_time": "2023-11-10T19:14:14.815Z"
   },
   {
    "duration": 6,
    "start_time": "2023-11-10T19:14:14.839Z"
   },
   {
    "duration": 8,
    "start_time": "2023-11-10T19:14:14.846Z"
   },
   {
    "duration": 84,
    "start_time": "2023-11-10T19:14:14.855Z"
   },
   {
    "duration": 114,
    "start_time": "2023-11-10T19:16:56.907Z"
   },
   {
    "duration": 46,
    "start_time": "2023-11-10T19:55:07.075Z"
   },
   {
    "duration": 713,
    "start_time": "2023-11-10T19:55:14.025Z"
   },
   {
    "duration": 27,
    "start_time": "2023-11-10T19:55:14.740Z"
   },
   {
    "duration": 23,
    "start_time": "2023-11-10T19:55:14.769Z"
   },
   {
    "duration": 13,
    "start_time": "2023-11-10T19:55:14.794Z"
   },
   {
    "duration": 42,
    "start_time": "2023-11-10T19:55:14.808Z"
   },
   {
    "duration": 3,
    "start_time": "2023-11-10T19:55:14.852Z"
   },
   {
    "duration": 8,
    "start_time": "2023-11-10T19:55:14.856Z"
   },
   {
    "duration": 3,
    "start_time": "2023-11-10T19:55:14.866Z"
   },
   {
    "duration": 6,
    "start_time": "2023-11-10T19:55:14.871Z"
   },
   {
    "duration": 4,
    "start_time": "2023-11-10T19:55:14.880Z"
   },
   {
    "duration": 65,
    "start_time": "2023-11-10T19:55:14.885Z"
   },
   {
    "duration": 16,
    "start_time": "2023-11-10T19:55:14.951Z"
   },
   {
    "duration": 4,
    "start_time": "2023-11-10T19:55:14.969Z"
   },
   {
    "duration": 11,
    "start_time": "2023-11-10T19:55:14.974Z"
   },
   {
    "duration": 44,
    "start_time": "2023-11-10T19:55:14.987Z"
   },
   {
    "duration": 17,
    "start_time": "2023-11-10T19:55:15.033Z"
   },
   {
    "duration": 23,
    "start_time": "2023-11-10T19:55:15.051Z"
   },
   {
    "duration": 17,
    "start_time": "2023-11-10T19:55:15.075Z"
   },
   {
    "duration": 9,
    "start_time": "2023-11-10T19:55:15.094Z"
   },
   {
    "duration": 8,
    "start_time": "2023-11-10T19:55:15.105Z"
   },
   {
    "duration": 14,
    "start_time": "2023-11-10T19:55:15.114Z"
   },
   {
    "duration": 8,
    "start_time": "2023-11-10T19:55:15.130Z"
   },
   {
    "duration": 10,
    "start_time": "2023-11-10T19:55:15.139Z"
   },
   {
    "duration": 10,
    "start_time": "2023-11-10T19:55:15.150Z"
   },
   {
    "duration": 7,
    "start_time": "2023-11-10T19:55:15.161Z"
   },
   {
    "duration": 11,
    "start_time": "2023-11-10T19:55:15.170Z"
   },
   {
    "duration": 4,
    "start_time": "2023-11-10T19:55:15.182Z"
   },
   {
    "duration": 33,
    "start_time": "2023-11-10T19:55:15.189Z"
   },
   {
    "duration": 6,
    "start_time": "2023-11-10T19:55:15.224Z"
   },
   {
    "duration": 6,
    "start_time": "2023-11-10T19:55:15.232Z"
   },
   {
    "duration": 14,
    "start_time": "2023-11-10T19:55:15.239Z"
   },
   {
    "duration": 5,
    "start_time": "2023-11-10T19:55:15.255Z"
   },
   {
    "duration": 5,
    "start_time": "2023-11-10T19:55:15.261Z"
   },
   {
    "duration": 11,
    "start_time": "2023-11-10T19:55:15.267Z"
   },
   {
    "duration": 125660,
    "start_time": "2023-11-10T19:55:15.279Z"
   },
   {
    "duration": 7,
    "start_time": "2023-11-10T19:57:20.941Z"
   },
   {
    "duration": 6,
    "start_time": "2023-11-10T19:57:20.949Z"
   },
   {
    "duration": 7,
    "start_time": "2023-11-10T19:57:20.956Z"
   },
   {
    "duration": 6,
    "start_time": "2023-11-10T19:57:20.965Z"
   },
   {
    "duration": 12,
    "start_time": "2023-11-10T19:57:20.972Z"
   },
   {
    "duration": 89,
    "start_time": "2023-11-10T19:57:20.985Z"
   },
   {
    "duration": 76,
    "start_time": "2023-11-10T19:57:21.076Z"
   },
   {
    "duration": 9,
    "start_time": "2023-11-10T19:59:40.551Z"
   },
   {
    "duration": 8,
    "start_time": "2023-11-10T19:59:51.283Z"
   },
   {
    "duration": 11,
    "start_time": "2023-11-10T20:01:11.332Z"
   },
   {
    "duration": 3,
    "start_time": "2023-11-10T20:03:09.688Z"
   },
   {
    "duration": 5,
    "start_time": "2023-11-10T20:03:28.968Z"
   },
   {
    "duration": 7,
    "start_time": "2023-11-10T20:04:10.675Z"
   },
   {
    "duration": 5,
    "start_time": "2023-11-10T20:04:13.569Z"
   },
   {
    "duration": 5,
    "start_time": "2023-11-10T20:05:37.068Z"
   },
   {
    "duration": 0,
    "start_time": "2023-11-10T20:10:23.131Z"
   },
   {
    "duration": 0,
    "start_time": "2023-11-10T20:10:23.132Z"
   },
   {
    "duration": 0,
    "start_time": "2023-11-10T20:10:23.133Z"
   },
   {
    "duration": 0,
    "start_time": "2023-11-10T20:10:23.134Z"
   },
   {
    "duration": 0,
    "start_time": "2023-11-10T20:10:23.135Z"
   },
   {
    "duration": 0,
    "start_time": "2023-11-10T20:10:23.136Z"
   },
   {
    "duration": 0,
    "start_time": "2023-11-10T20:10:23.137Z"
   },
   {
    "duration": 0,
    "start_time": "2023-11-10T20:10:23.139Z"
   },
   {
    "duration": 0,
    "start_time": "2023-11-10T20:10:23.140Z"
   },
   {
    "duration": 0,
    "start_time": "2023-11-10T20:10:23.140Z"
   },
   {
    "duration": 0,
    "start_time": "2023-11-10T20:10:23.141Z"
   },
   {
    "duration": 0,
    "start_time": "2023-11-10T20:10:23.142Z"
   },
   {
    "duration": 0,
    "start_time": "2023-11-10T20:10:23.143Z"
   },
   {
    "duration": 0,
    "start_time": "2023-11-10T20:10:23.144Z"
   },
   {
    "duration": 0,
    "start_time": "2023-11-10T20:10:23.145Z"
   },
   {
    "duration": 0,
    "start_time": "2023-11-10T20:10:23.146Z"
   },
   {
    "duration": 0,
    "start_time": "2023-11-10T20:10:23.147Z"
   },
   {
    "duration": 0,
    "start_time": "2023-11-10T20:10:23.148Z"
   },
   {
    "duration": 0,
    "start_time": "2023-11-10T20:10:23.149Z"
   },
   {
    "duration": 0,
    "start_time": "2023-11-10T20:10:23.150Z"
   },
   {
    "duration": 0,
    "start_time": "2023-11-10T20:10:23.151Z"
   },
   {
    "duration": 0,
    "start_time": "2023-11-10T20:10:23.152Z"
   },
   {
    "duration": 0,
    "start_time": "2023-11-10T20:10:23.152Z"
   },
   {
    "duration": 0,
    "start_time": "2023-11-10T20:10:23.153Z"
   },
   {
    "duration": 0,
    "start_time": "2023-11-10T20:10:23.154Z"
   },
   {
    "duration": 0,
    "start_time": "2023-11-10T20:10:23.155Z"
   },
   {
    "duration": 0,
    "start_time": "2023-11-10T20:10:23.156Z"
   },
   {
    "duration": 0,
    "start_time": "2023-11-10T20:10:23.157Z"
   },
   {
    "duration": 0,
    "start_time": "2023-11-10T20:10:23.158Z"
   },
   {
    "duration": 0,
    "start_time": "2023-11-10T20:10:23.159Z"
   },
   {
    "duration": 0,
    "start_time": "2023-11-10T20:10:23.160Z"
   },
   {
    "duration": 0,
    "start_time": "2023-11-10T20:10:23.222Z"
   },
   {
    "duration": 0,
    "start_time": "2023-11-10T20:10:23.223Z"
   },
   {
    "duration": 0,
    "start_time": "2023-11-10T20:10:23.224Z"
   },
   {
    "duration": 0,
    "start_time": "2023-11-10T20:10:23.225Z"
   },
   {
    "duration": 0,
    "start_time": "2023-11-10T20:10:23.226Z"
   },
   {
    "duration": 0,
    "start_time": "2023-11-10T20:10:23.227Z"
   },
   {
    "duration": 0,
    "start_time": "2023-11-10T20:10:23.229Z"
   },
   {
    "duration": 0,
    "start_time": "2023-11-10T20:10:23.230Z"
   },
   {
    "duration": 0,
    "start_time": "2023-11-10T20:10:23.231Z"
   },
   {
    "duration": 0,
    "start_time": "2023-11-10T20:10:23.232Z"
   },
   {
    "duration": 0,
    "start_time": "2023-11-10T20:10:23.233Z"
   },
   {
    "duration": 0,
    "start_time": "2023-11-10T20:10:23.234Z"
   },
   {
    "duration": 0,
    "start_time": "2023-11-10T20:10:23.235Z"
   },
   {
    "duration": 5,
    "start_time": "2023-11-10T20:14:18.431Z"
   },
   {
    "duration": 6,
    "start_time": "2023-11-10T20:14:30.726Z"
   },
   {
    "duration": 7,
    "start_time": "2023-11-10T20:14:40.907Z"
   },
   {
    "duration": 9,
    "start_time": "2023-11-10T20:14:53.279Z"
   },
   {
    "duration": 6,
    "start_time": "2023-11-10T20:16:24.666Z"
   },
   {
    "duration": 6,
    "start_time": "2023-11-10T20:16:27.142Z"
   },
   {
    "duration": 4,
    "start_time": "2023-11-10T20:16:29.541Z"
   },
   {
    "duration": 5,
    "start_time": "2023-11-10T20:16:32.961Z"
   },
   {
    "duration": 8,
    "start_time": "2023-11-10T20:17:23.658Z"
   },
   {
    "duration": 8,
    "start_time": "2023-11-10T20:19:14.785Z"
   },
   {
    "duration": 8,
    "start_time": "2023-11-10T20:21:56.499Z"
   },
   {
    "duration": 6,
    "start_time": "2023-11-10T20:22:07.100Z"
   },
   {
    "duration": 6,
    "start_time": "2023-11-10T20:22:12.059Z"
   },
   {
    "duration": 6,
    "start_time": "2023-11-10T20:24:37.553Z"
   },
   {
    "duration": 44,
    "start_time": "2023-11-10T21:01:57.134Z"
   },
   {
    "duration": 6,
    "start_time": "2023-11-10T21:02:00.958Z"
   },
   {
    "duration": 702,
    "start_time": "2023-11-10T21:02:09.728Z"
   },
   {
    "duration": 23,
    "start_time": "2023-11-10T21:02:10.432Z"
   },
   {
    "duration": 15,
    "start_time": "2023-11-10T21:02:10.456Z"
   },
   {
    "duration": 11,
    "start_time": "2023-11-10T21:02:10.473Z"
   },
   {
    "duration": 37,
    "start_time": "2023-11-10T21:02:10.486Z"
   },
   {
    "duration": 3,
    "start_time": "2023-11-10T21:02:10.524Z"
   },
   {
    "duration": 7,
    "start_time": "2023-11-10T21:02:10.543Z"
   },
   {
    "duration": 12,
    "start_time": "2023-11-10T21:02:10.551Z"
   },
   {
    "duration": 13,
    "start_time": "2023-11-10T21:02:10.564Z"
   },
   {
    "duration": 11,
    "start_time": "2023-11-10T21:02:10.579Z"
   },
   {
    "duration": 35,
    "start_time": "2023-11-10T21:02:10.591Z"
   },
   {
    "duration": 18,
    "start_time": "2023-11-10T21:02:10.628Z"
   },
   {
    "duration": 5,
    "start_time": "2023-11-10T21:02:10.647Z"
   },
   {
    "duration": 15,
    "start_time": "2023-11-10T21:02:10.653Z"
   },
   {
    "duration": 37,
    "start_time": "2023-11-10T21:02:10.670Z"
   },
   {
    "duration": 15,
    "start_time": "2023-11-10T21:02:10.709Z"
   },
   {
    "duration": 3,
    "start_time": "2023-11-10T21:02:10.726Z"
   },
   {
    "duration": 16,
    "start_time": "2023-11-10T21:02:10.730Z"
   },
   {
    "duration": 11,
    "start_time": "2023-11-10T21:02:10.747Z"
   },
   {
    "duration": 4,
    "start_time": "2023-11-10T21:02:10.760Z"
   },
   {
    "duration": 23,
    "start_time": "2023-11-10T21:02:10.765Z"
   },
   {
    "duration": 37,
    "start_time": "2023-11-10T21:02:10.789Z"
   },
   {
    "duration": 22,
    "start_time": "2023-11-10T21:02:10.827Z"
   },
   {
    "duration": 11,
    "start_time": "2023-11-10T21:02:10.850Z"
   },
   {
    "duration": 17,
    "start_time": "2023-11-10T21:02:10.862Z"
   },
   {
    "duration": 18,
    "start_time": "2023-11-10T21:02:10.880Z"
   },
   {
    "duration": 75,
    "start_time": "2023-11-10T21:02:10.900Z"
   },
   {
    "duration": 0,
    "start_time": "2023-11-10T21:02:10.977Z"
   },
   {
    "duration": 0,
    "start_time": "2023-11-10T21:02:10.978Z"
   },
   {
    "duration": 0,
    "start_time": "2023-11-10T21:02:10.979Z"
   },
   {
    "duration": 0,
    "start_time": "2023-11-10T21:02:10.980Z"
   },
   {
    "duration": 0,
    "start_time": "2023-11-10T21:02:10.981Z"
   },
   {
    "duration": 0,
    "start_time": "2023-11-10T21:02:10.981Z"
   },
   {
    "duration": 0,
    "start_time": "2023-11-10T21:02:10.982Z"
   },
   {
    "duration": 0,
    "start_time": "2023-11-10T21:02:10.983Z"
   },
   {
    "duration": 0,
    "start_time": "2023-11-10T21:02:10.984Z"
   },
   {
    "duration": 0,
    "start_time": "2023-11-10T21:02:10.985Z"
   },
   {
    "duration": 0,
    "start_time": "2023-11-10T21:02:10.986Z"
   },
   {
    "duration": 0,
    "start_time": "2023-11-10T21:02:10.986Z"
   },
   {
    "duration": 0,
    "start_time": "2023-11-10T21:02:10.987Z"
   },
   {
    "duration": 0,
    "start_time": "2023-11-10T21:02:10.988Z"
   },
   {
    "duration": 0,
    "start_time": "2023-11-10T21:02:10.989Z"
   },
   {
    "duration": 0,
    "start_time": "2023-11-10T21:02:10.990Z"
   },
   {
    "duration": 0,
    "start_time": "2023-11-10T21:02:10.991Z"
   },
   {
    "duration": 7,
    "start_time": "2023-11-10T21:03:08.560Z"
   },
   {
    "duration": 7,
    "start_time": "2023-11-10T21:03:10.700Z"
   },
   {
    "duration": 5,
    "start_time": "2023-11-10T21:03:12.726Z"
   },
   {
    "duration": 6,
    "start_time": "2023-11-10T21:03:15.733Z"
   },
   {
    "duration": 6,
    "start_time": "2023-11-10T21:09:15.180Z"
   },
   {
    "duration": 5,
    "start_time": "2023-11-10T21:09:19.545Z"
   },
   {
    "duration": 6,
    "start_time": "2023-11-10T21:09:21.542Z"
   },
   {
    "duration": 6,
    "start_time": "2023-11-10T21:09:34.164Z"
   },
   {
    "duration": 552,
    "start_time": "2023-11-10T21:09:42.155Z"
   },
   {
    "duration": 7,
    "start_time": "2023-11-10T21:11:04.640Z"
   },
   {
    "duration": 6,
    "start_time": "2023-11-10T21:11:07.262Z"
   },
   {
    "duration": 5,
    "start_time": "2023-11-10T21:11:10.103Z"
   },
   {
    "duration": 6,
    "start_time": "2023-11-10T21:11:12.884Z"
   },
   {
    "duration": 3,
    "start_time": "2023-11-10T21:11:15.916Z"
   },
   {
    "duration": 80,
    "start_time": "2023-11-10T21:11:31.681Z"
   },
   {
    "duration": 424,
    "start_time": "2023-11-11T09:10:19.222Z"
   },
   {
    "duration": 20,
    "start_time": "2023-11-11T09:10:19.648Z"
   },
   {
    "duration": 14,
    "start_time": "2023-11-11T09:10:19.669Z"
   },
   {
    "duration": 9,
    "start_time": "2023-11-11T09:10:19.685Z"
   },
   {
    "duration": 33,
    "start_time": "2023-11-11T09:10:19.695Z"
   },
   {
    "duration": 3,
    "start_time": "2023-11-11T09:10:19.730Z"
   },
   {
    "duration": 8,
    "start_time": "2023-11-11T09:10:19.766Z"
   },
   {
    "duration": 7,
    "start_time": "2023-11-11T09:10:19.775Z"
   },
   {
    "duration": 26,
    "start_time": "2023-11-11T09:10:19.783Z"
   },
   {
    "duration": 21,
    "start_time": "2023-11-11T09:10:19.812Z"
   },
   {
    "duration": 52,
    "start_time": "2023-11-11T09:10:19.835Z"
   },
   {
    "duration": 10,
    "start_time": "2023-11-11T09:10:19.889Z"
   },
   {
    "duration": 21,
    "start_time": "2023-11-11T09:10:19.900Z"
   },
   {
    "duration": 20,
    "start_time": "2023-11-11T09:10:19.922Z"
   },
   {
    "duration": 31,
    "start_time": "2023-11-11T09:10:19.943Z"
   },
   {
    "duration": 19,
    "start_time": "2023-11-11T09:10:19.976Z"
   },
   {
    "duration": 24,
    "start_time": "2023-11-11T09:10:19.997Z"
   },
   {
    "duration": 29,
    "start_time": "2023-11-11T09:10:20.022Z"
   },
   {
    "duration": 8,
    "start_time": "2023-11-11T09:10:20.053Z"
   },
   {
    "duration": 16,
    "start_time": "2023-11-11T09:10:20.062Z"
   },
   {
    "duration": 25,
    "start_time": "2023-11-11T09:10:20.080Z"
   },
   {
    "duration": 20,
    "start_time": "2023-11-11T09:10:20.107Z"
   },
   {
    "duration": 23,
    "start_time": "2023-11-11T09:10:20.129Z"
   },
   {
    "duration": 16,
    "start_time": "2023-11-11T09:10:20.153Z"
   },
   {
    "duration": 38,
    "start_time": "2023-11-11T09:10:20.171Z"
   },
   {
    "duration": 23,
    "start_time": "2023-11-11T09:10:20.211Z"
   },
   {
    "duration": 35,
    "start_time": "2023-11-11T09:10:20.235Z"
   },
   {
    "duration": 31,
    "start_time": "2023-11-11T09:10:20.274Z"
   },
   {
    "duration": 20,
    "start_time": "2023-11-11T09:10:20.306Z"
   },
   {
    "duration": 43,
    "start_time": "2023-11-11T09:10:20.327Z"
   },
   {
    "duration": 20,
    "start_time": "2023-11-11T09:10:20.372Z"
   },
   {
    "duration": 37,
    "start_time": "2023-11-11T09:10:20.393Z"
   },
   {
    "duration": 28,
    "start_time": "2023-11-11T09:10:20.432Z"
   },
   {
    "duration": 13,
    "start_time": "2023-11-11T09:10:20.461Z"
   },
   {
    "duration": 21,
    "start_time": "2023-11-11T09:10:20.475Z"
   },
   {
    "duration": 42,
    "start_time": "2023-11-11T09:10:20.497Z"
   },
   {
    "duration": 507,
    "start_time": "2023-11-11T09:10:20.540Z"
   },
   {
    "duration": 17,
    "start_time": "2023-11-11T09:10:21.048Z"
   },
   {
    "duration": 23,
    "start_time": "2023-11-11T09:10:21.067Z"
   },
   {
    "duration": 23,
    "start_time": "2023-11-11T09:10:21.091Z"
   },
   {
    "duration": 20,
    "start_time": "2023-11-11T09:10:21.116Z"
   },
   {
    "duration": 21,
    "start_time": "2023-11-11T09:10:21.138Z"
   },
   {
    "duration": 90,
    "start_time": "2023-11-11T09:10:21.160Z"
   },
   {
    "duration": 9,
    "start_time": "2023-11-11T09:14:29.623Z"
   },
   {
    "duration": 7,
    "start_time": "2023-11-11T09:14:40.077Z"
   },
   {
    "duration": 7,
    "start_time": "2023-11-11T09:14:49.267Z"
   },
   {
    "duration": 6,
    "start_time": "2023-11-11T09:15:14.645Z"
   },
   {
    "duration": 6,
    "start_time": "2023-11-11T09:15:20.991Z"
   },
   {
    "duration": 825,
    "start_time": "2023-11-11T09:29:04.719Z"
   },
   {
    "duration": 56,
    "start_time": "2023-11-15T07:35:53.983Z"
   },
   {
    "duration": 573,
    "start_time": "2023-11-15T07:36:04.279Z"
   },
   {
    "duration": 36,
    "start_time": "2023-11-15T07:36:04.853Z"
   },
   {
    "duration": 16,
    "start_time": "2023-11-15T07:36:04.891Z"
   },
   {
    "duration": 48,
    "start_time": "2023-11-15T07:36:04.909Z"
   },
   {
    "duration": 83,
    "start_time": "2023-11-15T07:36:04.959Z"
   },
   {
    "duration": 5,
    "start_time": "2023-11-15T07:36:05.045Z"
   },
   {
    "duration": 32,
    "start_time": "2023-11-15T07:36:05.051Z"
   },
   {
    "duration": 6,
    "start_time": "2023-11-15T07:36:05.085Z"
   },
   {
    "duration": 28,
    "start_time": "2023-11-15T07:36:05.092Z"
   },
   {
    "duration": 30,
    "start_time": "2023-11-15T07:36:05.123Z"
   },
   {
    "duration": 73,
    "start_time": "2023-11-15T07:36:05.155Z"
   },
   {
    "duration": 19,
    "start_time": "2023-11-15T07:36:05.230Z"
   },
   {
    "duration": 24,
    "start_time": "2023-11-15T07:36:05.251Z"
   },
   {
    "duration": 24,
    "start_time": "2023-11-15T07:36:05.276Z"
   },
   {
    "duration": 46,
    "start_time": "2023-11-15T07:36:05.302Z"
   },
   {
    "duration": 20,
    "start_time": "2023-11-15T07:36:05.351Z"
   },
   {
    "duration": 4,
    "start_time": "2023-11-15T07:36:05.372Z"
   },
   {
    "duration": 33,
    "start_time": "2023-11-15T07:36:05.378Z"
   },
   {
    "duration": 19,
    "start_time": "2023-11-15T07:36:05.413Z"
   },
   {
    "duration": 22,
    "start_time": "2023-11-15T07:36:05.434Z"
   },
   {
    "duration": 65,
    "start_time": "2023-11-15T07:36:05.459Z"
   },
   {
    "duration": 121,
    "start_time": "2023-11-15T07:36:05.526Z"
   },
   {
    "duration": 53,
    "start_time": "2023-11-15T07:36:05.649Z"
   },
   {
    "duration": 18,
    "start_time": "2023-11-15T07:36:05.703Z"
   },
   {
    "duration": 25,
    "start_time": "2023-11-15T07:36:05.723Z"
   },
   {
    "duration": 52,
    "start_time": "2023-11-15T07:36:05.751Z"
   },
   {
    "duration": 30,
    "start_time": "2023-11-15T07:36:05.804Z"
   },
   {
    "duration": 25,
    "start_time": "2023-11-15T07:36:05.839Z"
   },
   {
    "duration": 9,
    "start_time": "2023-11-15T07:36:05.866Z"
   },
   {
    "duration": 12,
    "start_time": "2023-11-15T07:36:05.876Z"
   },
   {
    "duration": 27,
    "start_time": "2023-11-15T07:36:05.889Z"
   },
   {
    "duration": 38,
    "start_time": "2023-11-15T07:36:05.918Z"
   },
   {
    "duration": 47,
    "start_time": "2023-11-15T07:36:05.957Z"
   },
   {
    "duration": 21,
    "start_time": "2023-11-15T07:36:06.005Z"
   },
   {
    "duration": 22,
    "start_time": "2023-11-15T07:36:06.028Z"
   },
   {
    "duration": 66,
    "start_time": "2023-11-15T07:36:06.052Z"
   },
   {
    "duration": 50,
    "start_time": "2023-11-15T07:36:06.119Z"
   },
   {
    "duration": 541,
    "start_time": "2023-11-15T07:36:06.171Z"
   },
   {
    "duration": 902,
    "start_time": "2023-11-15T07:36:06.714Z"
   },
   {
    "duration": 8,
    "start_time": "2023-11-15T07:36:07.618Z"
   },
   {
    "duration": 10,
    "start_time": "2023-11-15T07:36:07.636Z"
   },
   {
    "duration": 9,
    "start_time": "2023-11-15T07:36:07.648Z"
   },
   {
    "duration": 15,
    "start_time": "2023-11-15T07:36:07.658Z"
   },
   {
    "duration": 18,
    "start_time": "2023-11-15T07:36:07.674Z"
   },
   {
    "duration": 94,
    "start_time": "2023-11-15T07:36:07.694Z"
   },
   {
    "duration": 30,
    "start_time": "2023-11-15T07:39:01.233Z"
   },
   {
    "duration": 26,
    "start_time": "2023-11-15T07:39:40.568Z"
   },
   {
    "duration": 42,
    "start_time": "2023-11-15T07:41:05.738Z"
   },
   {
    "duration": 133,
    "start_time": "2023-11-15T07:56:12.618Z"
   },
   {
    "duration": 36,
    "start_time": "2023-11-15T07:57:46.662Z"
   },
   {
    "duration": 34,
    "start_time": "2023-11-15T08:01:48.452Z"
   },
   {
    "duration": 40,
    "start_time": "2023-11-15T08:04:46.879Z"
   },
   {
    "duration": 53,
    "start_time": "2023-11-15T08:07:02.556Z"
   },
   {
    "duration": 42,
    "start_time": "2023-11-15T08:24:53.450Z"
   },
   {
    "duration": 3,
    "start_time": "2023-11-15T08:27:13.118Z"
   },
   {
    "duration": 382,
    "start_time": "2023-11-15T08:27:27.268Z"
   },
   {
    "duration": 390,
    "start_time": "2023-11-15T08:28:46.916Z"
   },
   {
    "duration": 421,
    "start_time": "2023-11-15T08:41:06.912Z"
   },
   {
    "duration": 378,
    "start_time": "2023-11-15T08:41:27.574Z"
   },
   {
    "duration": 8,
    "start_time": "2023-11-15T08:45:18.992Z"
   },
   {
    "duration": 383,
    "start_time": "2023-11-15T09:05:42.471Z"
   },
   {
    "duration": 12,
    "start_time": "2023-11-15T09:15:08.249Z"
   },
   {
    "duration": 103,
    "start_time": "2023-11-15T09:16:16.754Z"
   },
   {
    "duration": 41,
    "start_time": "2023-11-15T09:19:37.511Z"
   },
   {
    "duration": 91,
    "start_time": "2023-11-15T09:21:19.914Z"
   },
   {
    "duration": 33,
    "start_time": "2023-11-15T09:32:12.748Z"
   },
   {
    "duration": 3,
    "start_time": "2023-11-15T09:33:03.900Z"
   },
   {
    "duration": 32,
    "start_time": "2023-11-15T09:33:09.270Z"
   },
   {
    "duration": 394,
    "start_time": "2023-11-15T09:33:16.331Z"
   },
   {
    "duration": 33,
    "start_time": "2023-11-15T09:33:55.254Z"
   },
   {
    "duration": 54,
    "start_time": "2023-11-15T09:33:59.993Z"
   },
   {
    "duration": 46,
    "start_time": "2023-11-15T09:34:09.220Z"
   },
   {
    "duration": 140,
    "start_time": "2023-11-15T09:34:20.620Z"
   },
   {
    "duration": 371,
    "start_time": "2023-11-15T09:38:09.487Z"
   },
   {
    "duration": 360,
    "start_time": "2023-11-15T09:41:48.603Z"
   },
   {
    "duration": 365,
    "start_time": "2023-11-15T09:42:02.239Z"
   },
   {
    "duration": 8,
    "start_time": "2023-11-15T09:43:08.467Z"
   },
   {
    "duration": 371,
    "start_time": "2023-11-15T09:50:14.104Z"
   },
   {
    "duration": 394,
    "start_time": "2023-11-15T09:50:32.319Z"
   },
   {
    "duration": 341,
    "start_time": "2023-11-15T09:51:33.017Z"
   },
   {
    "duration": 345,
    "start_time": "2023-11-15T09:51:37.905Z"
   },
   {
    "duration": 339,
    "start_time": "2023-11-15T09:51:43.250Z"
   },
   {
    "duration": 14,
    "start_time": "2023-11-15T09:59:03.565Z"
   },
   {
    "duration": 399,
    "start_time": "2023-11-15T09:59:14.666Z"
   },
   {
    "duration": 498,
    "start_time": "2023-11-15T10:00:58.765Z"
   },
   {
    "duration": 400,
    "start_time": "2023-11-15T10:01:35.381Z"
   },
   {
    "duration": 401,
    "start_time": "2023-11-15T10:02:16.754Z"
   },
   {
    "duration": 400,
    "start_time": "2023-11-15T10:02:34.055Z"
   },
   {
    "duration": 508,
    "start_time": "2023-11-15T10:03:05.954Z"
   },
   {
    "duration": 416,
    "start_time": "2023-11-15T10:06:13.325Z"
   },
   {
    "duration": 105,
    "start_time": "2023-11-15T10:06:29.637Z"
   },
   {
    "duration": 355,
    "start_time": "2023-11-15T10:06:41.618Z"
   },
   {
    "duration": 374,
    "start_time": "2023-11-15T10:08:06.797Z"
   },
   {
    "duration": 383,
    "start_time": "2023-11-15T10:08:47.480Z"
   },
   {
    "duration": 338,
    "start_time": "2023-11-15T10:09:29.460Z"
   },
   {
    "duration": 398,
    "start_time": "2023-11-15T10:10:16.801Z"
   },
   {
    "duration": 390,
    "start_time": "2023-11-15T10:10:27.176Z"
   },
   {
    "duration": 363,
    "start_time": "2023-11-15T10:10:58.063Z"
   },
   {
    "duration": 518,
    "start_time": "2023-11-15T10:31:08.788Z"
   },
   {
    "duration": 38,
    "start_time": "2023-11-15T10:31:09.308Z"
   },
   {
    "duration": 23,
    "start_time": "2023-11-15T10:31:09.348Z"
   },
   {
    "duration": 11,
    "start_time": "2023-11-15T10:31:09.373Z"
   },
   {
    "duration": 81,
    "start_time": "2023-11-15T10:31:09.387Z"
   },
   {
    "duration": 4,
    "start_time": "2023-11-15T10:31:09.470Z"
   },
   {
    "duration": 23,
    "start_time": "2023-11-15T10:31:09.476Z"
   },
   {
    "duration": 13,
    "start_time": "2023-11-15T10:31:09.501Z"
   },
   {
    "duration": 22,
    "start_time": "2023-11-15T10:31:09.516Z"
   },
   {
    "duration": 10,
    "start_time": "2023-11-15T10:31:09.542Z"
   },
   {
    "duration": 39,
    "start_time": "2023-11-15T10:31:09.554Z"
   },
   {
    "duration": 11,
    "start_time": "2023-11-15T10:31:09.595Z"
   },
   {
    "duration": 4,
    "start_time": "2023-11-15T10:31:09.608Z"
   },
   {
    "duration": 43,
    "start_time": "2023-11-15T10:31:09.614Z"
   },
   {
    "duration": 22,
    "start_time": "2023-11-15T10:31:09.659Z"
   },
   {
    "duration": 18,
    "start_time": "2023-11-15T10:31:09.682Z"
   },
   {
    "duration": 4,
    "start_time": "2023-11-15T10:31:09.701Z"
   },
   {
    "duration": 49,
    "start_time": "2023-11-15T10:31:09.707Z"
   },
   {
    "duration": 30,
    "start_time": "2023-11-15T10:31:09.758Z"
   },
   {
    "duration": 5,
    "start_time": "2023-11-15T10:31:09.790Z"
   },
   {
    "duration": 17,
    "start_time": "2023-11-15T10:31:09.796Z"
   },
   {
    "duration": 841,
    "start_time": "2023-11-15T10:31:09.814Z"
   },
   {
    "duration": 47,
    "start_time": "2023-11-15T10:31:10.658Z"
   },
   {
    "duration": 553,
    "start_time": "2023-11-15T10:31:10.706Z"
   },
   {
    "duration": 0,
    "start_time": "2023-11-15T10:31:11.261Z"
   },
   {
    "duration": 0,
    "start_time": "2023-11-15T10:31:11.262Z"
   },
   {
    "duration": 0,
    "start_time": "2023-11-15T10:31:11.263Z"
   },
   {
    "duration": 0,
    "start_time": "2023-11-15T10:31:11.265Z"
   },
   {
    "duration": 0,
    "start_time": "2023-11-15T10:31:11.266Z"
   },
   {
    "duration": 0,
    "start_time": "2023-11-15T10:31:11.267Z"
   },
   {
    "duration": 0,
    "start_time": "2023-11-15T10:31:11.268Z"
   },
   {
    "duration": 0,
    "start_time": "2023-11-15T10:31:11.269Z"
   },
   {
    "duration": 0,
    "start_time": "2023-11-15T10:31:11.270Z"
   },
   {
    "duration": 0,
    "start_time": "2023-11-15T10:31:11.271Z"
   },
   {
    "duration": 0,
    "start_time": "2023-11-15T10:31:11.272Z"
   },
   {
    "duration": 0,
    "start_time": "2023-11-15T10:31:11.273Z"
   },
   {
    "duration": 35,
    "start_time": "2023-11-15T10:32:02.487Z"
   },
   {
    "duration": 504,
    "start_time": "2023-11-15T11:11:14.485Z"
   },
   {
    "duration": 24,
    "start_time": "2023-11-15T11:11:14.991Z"
   },
   {
    "duration": 57,
    "start_time": "2023-11-15T11:11:15.016Z"
   },
   {
    "duration": 13,
    "start_time": "2023-11-15T11:11:15.075Z"
   },
   {
    "duration": 37,
    "start_time": "2023-11-15T11:11:15.089Z"
   },
   {
    "duration": 4,
    "start_time": "2023-11-15T11:11:15.127Z"
   },
   {
    "duration": 23,
    "start_time": "2023-11-15T11:11:15.132Z"
   },
   {
    "duration": 6,
    "start_time": "2023-11-15T11:11:15.156Z"
   },
   {
    "duration": 16,
    "start_time": "2023-11-15T11:11:15.165Z"
   },
   {
    "duration": 5,
    "start_time": "2023-11-15T11:11:15.187Z"
   },
   {
    "duration": 56,
    "start_time": "2023-11-15T11:11:15.194Z"
   },
   {
    "duration": 18,
    "start_time": "2023-11-15T11:11:15.252Z"
   },
   {
    "duration": 5,
    "start_time": "2023-11-15T11:11:15.272Z"
   },
   {
    "duration": 16,
    "start_time": "2023-11-15T11:11:15.279Z"
   },
   {
    "duration": 20,
    "start_time": "2023-11-15T11:11:15.296Z"
   },
   {
    "duration": 45,
    "start_time": "2023-11-15T11:11:15.318Z"
   },
   {
    "duration": 4,
    "start_time": "2023-11-15T11:11:15.366Z"
   },
   {
    "duration": 35,
    "start_time": "2023-11-15T11:11:15.372Z"
   },
   {
    "duration": 6,
    "start_time": "2023-11-15T11:11:15.409Z"
   },
   {
    "duration": 4,
    "start_time": "2023-11-15T11:11:15.417Z"
   },
   {
    "duration": 14,
    "start_time": "2023-11-15T11:11:15.422Z"
   },
   {
    "duration": 991,
    "start_time": "2023-11-15T11:11:15.442Z"
   },
   {
    "duration": 49,
    "start_time": "2023-11-15T11:11:16.435Z"
   },
   {
    "duration": 488,
    "start_time": "2023-11-15T11:11:16.486Z"
   },
   {
    "duration": 0,
    "start_time": "2023-11-15T11:11:16.975Z"
   },
   {
    "duration": 0,
    "start_time": "2023-11-15T11:11:16.977Z"
   },
   {
    "duration": 0,
    "start_time": "2023-11-15T11:11:16.978Z"
   },
   {
    "duration": 0,
    "start_time": "2023-11-15T11:11:16.980Z"
   },
   {
    "duration": 0,
    "start_time": "2023-11-15T11:11:16.982Z"
   },
   {
    "duration": 0,
    "start_time": "2023-11-15T11:11:16.983Z"
   },
   {
    "duration": 0,
    "start_time": "2023-11-15T11:11:16.984Z"
   },
   {
    "duration": 0,
    "start_time": "2023-11-15T11:11:16.985Z"
   },
   {
    "duration": 0,
    "start_time": "2023-11-15T11:11:16.987Z"
   },
   {
    "duration": 0,
    "start_time": "2023-11-15T11:11:16.988Z"
   },
   {
    "duration": 0,
    "start_time": "2023-11-15T11:11:16.989Z"
   },
   {
    "duration": 0,
    "start_time": "2023-11-15T11:11:16.990Z"
   },
   {
    "duration": 527,
    "start_time": "2023-11-15T11:27:24.523Z"
   },
   {
    "duration": 23,
    "start_time": "2023-11-15T11:27:25.052Z"
   },
   {
    "duration": 17,
    "start_time": "2023-11-15T11:27:25.077Z"
   },
   {
    "duration": 12,
    "start_time": "2023-11-15T11:27:25.096Z"
   },
   {
    "duration": 76,
    "start_time": "2023-11-15T11:27:25.110Z"
   },
   {
    "duration": 4,
    "start_time": "2023-11-15T11:27:25.188Z"
   },
   {
    "duration": 11,
    "start_time": "2023-11-15T11:27:25.193Z"
   },
   {
    "duration": 26,
    "start_time": "2023-11-15T11:27:25.206Z"
   },
   {
    "duration": 18,
    "start_time": "2023-11-15T11:27:25.234Z"
   },
   {
    "duration": 4,
    "start_time": "2023-11-15T11:27:25.256Z"
   },
   {
    "duration": 56,
    "start_time": "2023-11-15T11:27:25.261Z"
   },
   {
    "duration": 10,
    "start_time": "2023-11-15T11:27:25.319Z"
   },
   {
    "duration": 33,
    "start_time": "2023-11-15T11:27:25.331Z"
   },
   {
    "duration": 13,
    "start_time": "2023-11-15T11:27:25.366Z"
   },
   {
    "duration": 34,
    "start_time": "2023-11-15T11:27:25.381Z"
   },
   {
    "duration": 26,
    "start_time": "2023-11-15T11:27:25.416Z"
   },
   {
    "duration": 7,
    "start_time": "2023-11-15T11:27:25.448Z"
   },
   {
    "duration": 21,
    "start_time": "2023-11-15T11:27:25.456Z"
   },
   {
    "duration": 18,
    "start_time": "2023-11-15T11:27:25.479Z"
   },
   {
    "duration": 18,
    "start_time": "2023-11-15T11:27:25.498Z"
   },
   {
    "duration": 31,
    "start_time": "2023-11-15T11:27:25.518Z"
   },
   {
    "duration": 781,
    "start_time": "2023-11-15T11:27:25.551Z"
   },
   {
    "duration": 49,
    "start_time": "2023-11-15T11:27:26.334Z"
   },
   {
    "duration": 483,
    "start_time": "2023-11-15T11:27:26.385Z"
   },
   {
    "duration": 0,
    "start_time": "2023-11-15T11:27:26.869Z"
   },
   {
    "duration": 0,
    "start_time": "2023-11-15T11:27:26.871Z"
   },
   {
    "duration": 0,
    "start_time": "2023-11-15T11:27:26.872Z"
   },
   {
    "duration": 0,
    "start_time": "2023-11-15T11:27:26.873Z"
   },
   {
    "duration": 0,
    "start_time": "2023-11-15T11:27:26.874Z"
   },
   {
    "duration": 0,
    "start_time": "2023-11-15T11:27:26.875Z"
   },
   {
    "duration": 0,
    "start_time": "2023-11-15T11:27:26.876Z"
   },
   {
    "duration": 0,
    "start_time": "2023-11-15T11:27:26.877Z"
   },
   {
    "duration": 0,
    "start_time": "2023-11-15T11:27:26.878Z"
   },
   {
    "duration": 0,
    "start_time": "2023-11-15T11:27:26.879Z"
   },
   {
    "duration": 0,
    "start_time": "2023-11-15T11:27:26.880Z"
   },
   {
    "duration": 0,
    "start_time": "2023-11-15T11:27:26.881Z"
   },
   {
    "duration": 3,
    "start_time": "2023-11-15T11:27:42.966Z"
   },
   {
    "duration": 36,
    "start_time": "2023-11-15T11:27:46.128Z"
   },
   {
    "duration": 381,
    "start_time": "2023-11-15T11:27:49.775Z"
   },
   {
    "duration": 6,
    "start_time": "2023-11-15T11:28:28.210Z"
   },
   {
    "duration": 32,
    "start_time": "2023-11-15T11:28:32.296Z"
   },
   {
    "duration": 10,
    "start_time": "2023-11-15T11:28:39.480Z"
   },
   {
    "duration": 12,
    "start_time": "2023-11-15T11:28:50.048Z"
   },
   {
    "duration": 331,
    "start_time": "2023-11-15T11:28:54.370Z"
   },
   {
    "duration": 6,
    "start_time": "2023-11-15T11:28:57.802Z"
   },
   {
    "duration": 7,
    "start_time": "2023-11-15T11:29:03.421Z"
   },
   {
    "duration": 38,
    "start_time": "2023-11-15T11:29:07.270Z"
   },
   {
    "duration": 15,
    "start_time": "2023-11-15T11:29:11.243Z"
   },
   {
    "duration": 358,
    "start_time": "2023-11-15T11:29:52.998Z"
   },
   {
    "duration": 3,
    "start_time": "2023-11-15T11:30:30.288Z"
   },
   {
    "duration": 385,
    "start_time": "2023-11-15T11:30:47.154Z"
   },
   {
    "duration": 1546,
    "start_time": "2023-11-15T13:42:46.380Z"
   },
   {
    "duration": 780,
    "start_time": "2023-11-15T13:42:59.781Z"
   },
   {
    "duration": 24,
    "start_time": "2023-11-15T13:43:00.563Z"
   },
   {
    "duration": 44,
    "start_time": "2023-11-15T13:43:00.589Z"
   },
   {
    "duration": 57,
    "start_time": "2023-11-15T13:43:00.636Z"
   },
   {
    "duration": 64,
    "start_time": "2023-11-15T13:43:00.695Z"
   },
   {
    "duration": 3,
    "start_time": "2023-11-15T13:43:00.761Z"
   },
   {
    "duration": 55,
    "start_time": "2023-11-15T13:43:00.766Z"
   },
   {
    "duration": 48,
    "start_time": "2023-11-15T13:43:00.823Z"
   },
   {
    "duration": 60,
    "start_time": "2023-11-15T13:43:00.872Z"
   },
   {
    "duration": 49,
    "start_time": "2023-11-15T13:43:00.936Z"
   },
   {
    "duration": 73,
    "start_time": "2023-11-15T13:43:00.987Z"
   },
   {
    "duration": 34,
    "start_time": "2023-11-15T13:43:01.061Z"
   },
   {
    "duration": 58,
    "start_time": "2023-11-15T13:43:01.096Z"
   },
   {
    "duration": 78,
    "start_time": "2023-11-15T13:43:01.156Z"
   },
   {
    "duration": 62,
    "start_time": "2023-11-15T13:43:01.235Z"
   },
   {
    "duration": 40,
    "start_time": "2023-11-15T13:43:01.299Z"
   },
   {
    "duration": 15,
    "start_time": "2023-11-15T13:43:01.341Z"
   },
   {
    "duration": 55,
    "start_time": "2023-11-15T13:43:01.358Z"
   },
   {
    "duration": 36,
    "start_time": "2023-11-15T13:43:01.416Z"
   },
   {
    "duration": 40,
    "start_time": "2023-11-15T13:43:01.454Z"
   },
   {
    "duration": 60,
    "start_time": "2023-11-15T13:43:01.496Z"
   },
   {
    "duration": 840,
    "start_time": "2023-11-15T13:43:01.558Z"
   },
   {
    "duration": 44,
    "start_time": "2023-11-15T13:43:02.400Z"
   },
   {
    "duration": 408,
    "start_time": "2023-11-15T13:43:02.445Z"
   },
   {
    "duration": 5,
    "start_time": "2023-11-15T13:43:02.855Z"
   },
   {
    "duration": 50,
    "start_time": "2023-11-15T13:43:02.861Z"
   },
   {
    "duration": 40,
    "start_time": "2023-11-15T13:43:02.912Z"
   },
   {
    "duration": 393,
    "start_time": "2023-11-15T13:43:02.955Z"
   },
   {
    "duration": 37,
    "start_time": "2023-11-15T13:43:03.350Z"
   },
   {
    "duration": 366,
    "start_time": "2023-11-15T13:43:03.389Z"
   },
   {
    "duration": 6,
    "start_time": "2023-11-15T13:43:03.756Z"
   },
   {
    "duration": 357,
    "start_time": "2023-11-15T13:43:03.764Z"
   },
   {
    "duration": 41,
    "start_time": "2023-11-15T13:43:04.123Z"
   },
   {
    "duration": 7,
    "start_time": "2023-11-15T13:43:04.166Z"
   },
   {
    "duration": 372,
    "start_time": "2023-11-15T13:43:04.175Z"
   },
   {
    "duration": 97,
    "start_time": "2023-11-15T13:43:04.549Z"
   },
   {
    "duration": 382,
    "start_time": "2023-11-15T13:43:22.521Z"
   },
   {
    "duration": 375,
    "start_time": "2023-11-15T13:43:34.452Z"
   },
   {
    "duration": 550,
    "start_time": "2023-11-15T14:00:13.167Z"
   },
   {
    "duration": 21,
    "start_time": "2023-11-15T14:00:13.718Z"
   },
   {
    "duration": 16,
    "start_time": "2023-11-15T14:00:13.741Z"
   },
   {
    "duration": 19,
    "start_time": "2023-11-15T14:00:13.759Z"
   },
   {
    "duration": 71,
    "start_time": "2023-11-15T14:00:13.780Z"
   },
   {
    "duration": 28,
    "start_time": "2023-11-15T14:00:13.852Z"
   },
   {
    "duration": 36,
    "start_time": "2023-11-15T14:00:13.881Z"
   },
   {
    "duration": 15,
    "start_time": "2023-11-15T14:00:13.919Z"
   },
   {
    "duration": 12,
    "start_time": "2023-11-15T14:00:13.935Z"
   },
   {
    "duration": 4,
    "start_time": "2023-11-15T14:00:13.950Z"
   },
   {
    "duration": 45,
    "start_time": "2023-11-15T14:00:13.956Z"
   },
   {
    "duration": 10,
    "start_time": "2023-11-15T14:00:14.003Z"
   },
   {
    "duration": 8,
    "start_time": "2023-11-15T14:00:14.014Z"
   },
   {
    "duration": 35,
    "start_time": "2023-11-15T14:00:14.024Z"
   },
   {
    "duration": 29,
    "start_time": "2023-11-15T14:00:14.060Z"
   },
   {
    "duration": 15,
    "start_time": "2023-11-15T14:00:14.091Z"
   },
   {
    "duration": 8,
    "start_time": "2023-11-15T14:00:14.108Z"
   },
   {
    "duration": 17,
    "start_time": "2023-11-15T14:00:14.117Z"
   },
   {
    "duration": 24,
    "start_time": "2023-11-15T14:00:14.135Z"
   },
   {
    "duration": 8,
    "start_time": "2023-11-15T14:00:14.161Z"
   },
   {
    "duration": 19,
    "start_time": "2023-11-15T14:00:14.170Z"
   },
   {
    "duration": 797,
    "start_time": "2023-11-15T14:00:14.190Z"
   },
   {
    "duration": 36,
    "start_time": "2023-11-15T14:00:14.988Z"
   },
   {
    "duration": 563,
    "start_time": "2023-11-15T14:00:15.026Z"
   },
   {
    "duration": 6,
    "start_time": "2023-11-15T14:00:15.591Z"
   },
   {
    "duration": 95,
    "start_time": "2023-11-15T14:00:15.598Z"
   },
   {
    "duration": 71,
    "start_time": "2023-11-15T14:00:15.696Z"
   },
   {
    "duration": 368,
    "start_time": "2023-11-15T14:00:15.771Z"
   },
   {
    "duration": 39,
    "start_time": "2023-11-15T14:00:16.141Z"
   },
   {
    "duration": 312,
    "start_time": "2023-11-15T14:00:16.181Z"
   },
   {
    "duration": 7,
    "start_time": "2023-11-15T14:00:16.495Z"
   },
   {
    "duration": 343,
    "start_time": "2023-11-15T14:00:16.503Z"
   },
   {
    "duration": 40,
    "start_time": "2023-11-15T14:00:16.856Z"
   },
   {
    "duration": 35,
    "start_time": "2023-11-15T14:00:16.897Z"
   },
   {
    "duration": 328,
    "start_time": "2023-11-15T14:00:16.933Z"
   },
   {
    "duration": 79,
    "start_time": "2023-11-15T14:00:17.262Z"
   },
   {
    "duration": 475,
    "start_time": "2023-11-15T15:40:57.925Z"
   },
   {
    "duration": 20,
    "start_time": "2023-11-15T15:40:58.402Z"
   },
   {
    "duration": 32,
    "start_time": "2023-11-15T15:40:58.424Z"
   },
   {
    "duration": 18,
    "start_time": "2023-11-15T15:40:58.459Z"
   },
   {
    "duration": 45,
    "start_time": "2023-11-15T15:40:58.479Z"
   },
   {
    "duration": 4,
    "start_time": "2023-11-15T15:40:58.525Z"
   },
   {
    "duration": 19,
    "start_time": "2023-11-15T15:40:58.556Z"
   },
   {
    "duration": 7,
    "start_time": "2023-11-15T15:40:58.577Z"
   },
   {
    "duration": 18,
    "start_time": "2023-11-15T15:40:58.585Z"
   },
   {
    "duration": 12,
    "start_time": "2023-11-15T15:40:58.606Z"
   },
   {
    "duration": 55,
    "start_time": "2023-11-15T15:40:58.620Z"
   },
   {
    "duration": 11,
    "start_time": "2023-11-15T15:40:58.676Z"
   },
   {
    "duration": 10,
    "start_time": "2023-11-15T15:40:58.689Z"
   },
   {
    "duration": 20,
    "start_time": "2023-11-15T15:40:58.700Z"
   },
   {
    "duration": 27,
    "start_time": "2023-11-15T15:40:58.722Z"
   },
   {
    "duration": 28,
    "start_time": "2023-11-15T15:40:58.750Z"
   },
   {
    "duration": 3,
    "start_time": "2023-11-15T15:40:58.779Z"
   },
   {
    "duration": 16,
    "start_time": "2023-11-15T15:40:58.784Z"
   },
   {
    "duration": 9,
    "start_time": "2023-11-15T15:40:58.801Z"
   },
   {
    "duration": 10,
    "start_time": "2023-11-15T15:40:58.812Z"
   },
   {
    "duration": 30,
    "start_time": "2023-11-15T15:40:58.823Z"
   },
   {
    "duration": 779,
    "start_time": "2023-11-15T15:40:58.855Z"
   },
   {
    "duration": 43,
    "start_time": "2023-11-15T15:40:59.635Z"
   },
   {
    "duration": 377,
    "start_time": "2023-11-15T15:40:59.680Z"
   },
   {
    "duration": 6,
    "start_time": "2023-11-15T15:41:00.059Z"
   },
   {
    "duration": 99,
    "start_time": "2023-11-15T15:41:00.067Z"
   },
   {
    "duration": 50,
    "start_time": "2023-11-15T15:41:00.168Z"
   },
   {
    "duration": 379,
    "start_time": "2023-11-15T15:41:00.224Z"
   },
   {
    "duration": 34,
    "start_time": "2023-11-15T15:41:00.605Z"
   },
   {
    "duration": 370,
    "start_time": "2023-11-15T15:41:00.641Z"
   },
   {
    "duration": 7,
    "start_time": "2023-11-15T15:41:01.013Z"
   },
   {
    "duration": 468,
    "start_time": "2023-11-15T15:41:01.022Z"
   },
   {
    "duration": 37,
    "start_time": "2023-11-15T15:41:01.492Z"
   },
   {
    "duration": 41,
    "start_time": "2023-11-15T15:41:01.531Z"
   },
   {
    "duration": 425,
    "start_time": "2023-11-15T15:41:01.573Z"
   },
   {
    "duration": 91,
    "start_time": "2023-11-15T15:41:02.000Z"
   }
  ],
  "colab": {
   "name": "dpp_template_part2.ipynb",
   "provenance": []
  },
  "kernelspec": {
   "display_name": "Python 3 (ipykernel)",
   "language": "python",
   "name": "python3"
  },
  "language_info": {
   "codemirror_mode": {
    "name": "ipython",
    "version": 3
   },
   "file_extension": ".py",
   "mimetype": "text/x-python",
   "name": "python",
   "nbconvert_exporter": "python",
   "pygments_lexer": "ipython3",
   "version": "3.9.5"
  },
  "toc": {
   "base_numbering": 1,
   "nav_menu": {},
   "number_sections": true,
   "sideBar": true,
   "skip_h1_title": true,
   "title_cell": "Table of Contents",
   "title_sidebar": "Contents",
   "toc_cell": false,
   "toc_position": {},
   "toc_section_display": true,
   "toc_window_display": false
  }
 },
 "nbformat": 4,
 "nbformat_minor": 5
}
