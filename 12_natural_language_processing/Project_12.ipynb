{
 "cells": [
  {
   "cell_type": "markdown",
   "metadata": {
    "toc": true
   },
   "source": [
    "<h1>Содержание<span class=\"tocSkip\"></span></h1>\n",
    "<div class=\"toc\"><ul class=\"toc-item\"><li><span><a href=\"#Загрузка-данных-и-библиотек\" data-toc-modified-id=\"Загрузка-данных-и-библиотек-1\"><span class=\"toc-item-num\">1&nbsp;&nbsp;</span>Загрузка данных и библиотек</a></span></li><li><span><a href=\"#Подготовка\" data-toc-modified-id=\"Подготовка-2\"><span class=\"toc-item-num\">2&nbsp;&nbsp;</span>Подготовка</a></span><ul class=\"toc-item\"><li><span><a href=\"#Предобработка\" data-toc-modified-id=\"Предобработка-2.1\"><span class=\"toc-item-num\">2.1&nbsp;&nbsp;</span>Предобработка</a></span></li><li><span><a href=\"#Анализ.\" data-toc-modified-id=\"Анализ.-2.2\"><span class=\"toc-item-num\">2.2&nbsp;&nbsp;</span>Анализ.</a></span></li><li><span><a href=\"#Лемматизация\" data-toc-modified-id=\"Лемматизация-2.3\"><span class=\"toc-item-num\">2.3&nbsp;&nbsp;</span>Лемматизация</a></span></li><li><span><a href=\"#Частотный-анализ\" data-toc-modified-id=\"Частотный-анализ-2.4\"><span class=\"toc-item-num\">2.4&nbsp;&nbsp;</span>Частотный анализ</a></span></li><li><span><a href=\"#Вывод\" data-toc-modified-id=\"Вывод-2.5\"><span class=\"toc-item-num\">2.5&nbsp;&nbsp;</span>Вывод</a></span></li></ul></li><li><span><a href=\"#Обучение\" data-toc-modified-id=\"Обучение-3\"><span class=\"toc-item-num\">3&nbsp;&nbsp;</span>Обучение</a></span></li><li><span><a href=\"#Bert\" data-toc-modified-id=\"Bert-4\"><span class=\"toc-item-num\">4&nbsp;&nbsp;</span>Bert</a></span></li><li><span><a href=\"#Выводы\" data-toc-modified-id=\"Выводы-5\"><span class=\"toc-item-num\">5&nbsp;&nbsp;</span>Выводы</a></span></li><li><span><a href=\"#Чек-лист-проверки\" data-toc-modified-id=\"Чек-лист-проверки-6\"><span class=\"toc-item-num\">6&nbsp;&nbsp;</span>Чек-лист проверки</a></span></li></ul></div>"
   ]
  },
  {
   "cell_type": "markdown",
   "metadata": {},
   "source": [
    "# Проект для «Викишоп»"
   ]
  },
  {
   "cell_type": "markdown",
   "metadata": {},
   "source": [
    "Интернет-магазин «Викишоп» запускает новый сервис. Теперь пользователи могут редактировать и дополнять описания товаров, как в вики-сообществах. То есть клиенты предлагают свои правки и комментируют изменения других. Магазину нужен инструмент, который будет искать токсичные комментарии и отправлять их на модерацию. \n",
    "\n",
    "Обучите модель классифицировать комментарии на позитивные и негативные. В вашем распоряжении набор данных с разметкой о токсичности правок.\n",
    "\n",
    "Постройте модель со значением метрики качества *F1* не меньше 0.75. \n",
    "\n",
    "**Инструкция по выполнению проекта**\n",
    "\n",
    "1. Загрузите и подготовьте данные.\n",
    "2. Обучите разные модели. \n",
    "3. Сделайте выводы.\n",
    "\n",
    "Для выполнения проекта применять *BERT* необязательно, но вы можете попробовать.\n",
    "\n",
    "**Описание данных**\n",
    "\n",
    "Данные находятся в файле `toxic_comments.csv`. Столбец *text* в нём содержит текст комментария, а *toxic* — целевой признак."
   ]
  },
  {
   "cell_type": "markdown",
   "metadata": {},
   "source": [
    "# План работы."
   ]
  },
  {
   "cell_type": "markdown",
   "metadata": {},
   "source": [
    "Работа организована следуюшим образом.\n",
    "- В первой главе загружаем библиотеки и данные. Проверяем что данные соответствуют описанию.\n",
    "- Во всторой главе подготавливаем данные для обучения моделей. Исходые данные проверяем на коррекстность, затем тексты лемматизирунм и превращаем в вектора признаков. Разбиваем на выборки."
   ]
  },
  {
   "cell_type": "markdown",
   "metadata": {},
   "source": [
    "## Загрузка данных и библиотек"
   ]
  },
  {
   "cell_type": "code",
   "execution_count": 75,
   "metadata": {},
   "outputs": [
    {
     "name": "stdout",
     "output_type": "stream",
     "text": [
      "\u001b[38;5;2m✔ Download and installation successful\u001b[0m\r\n",
      "You can now load the package via spacy.load('en_core_web_sm')\r\n"
     ]
    }
   ],
   "source": [
    "!pip install lightgbm -q\n",
    "!pip install spacy -q\n",
    "!python -m spacy download en_core_web_sm -q\n",
    "!/opt/conda/bin/python -m pip install wordcloud==1.8.2.2  -q\n",
    "!pip install --upgrade Pillow==9.5.0 -q"
   ]
  },
  {
   "cell_type": "code",
   "execution_count": 76,
   "metadata": {},
   "outputs": [],
   "source": [
    "import matplotlib.pyplot as plt\n",
    "import nltk\n",
    "from nltk.corpus import stopwords as nltk_stopwords\n",
    "from nltk.stem import WordNetLemmatizer\n",
    "import numpy as np\n",
    "import os\n",
    "import pandas as pd\n",
    "from sklearn.pipeline import Pipeline\n",
    "from sklearn.model_selection import train_test_split\n",
    "from sklearn.metrics import mean_squared_error\n",
    "from sklearn.compose import ColumnTransformer\n",
    "from sklearn.feature_extraction.text import TfidfVectorizer\n",
    "from sklearn.preprocessing import StandardScaler , RobustScaler\n",
    "from sklearn.model_selection import RandomizedSearchCV\n",
    "from sklearn.linear_model import LogisticRegression\n",
    "from sklearn.tree import DecisionTreeClassifier\n",
    "from sklearn.metrics import (\n",
    "    f1_score,\n",
    "    confusion_matrix) \n",
    "from sklearn.inspection import permutation_importance\n",
    "import seaborn as sns\n",
    "from tqdm.notebook import tqdm\n",
    "from tqdm import notebook\n",
    "import torch\n",
    "import re\n",
    "\n",
    "from lightgbm import LGBMClassifier\n",
    "import transformers\n",
    "from scipy.sparse import csr_matrix\n",
    "import spacy\n",
    "from wordcloud import WordCloud\n",
    "\n",
    "RANDOM_STATE = 42\n",
    "TRAIN_SIZE = 0.2"
   ]
  },
  {
   "cell_type": "code",
   "execution_count": 4,
   "metadata": {},
   "outputs": [
    {
     "name": "stderr",
     "output_type": "stream",
     "text": [
      "[nltk_data] Downloading package wordnet to /home/jovyan/nltk_data...\n",
      "[nltk_data]   Package wordnet is already up-to-date!\n",
      "[nltk_data] Downloading package stopwords to /home/jovyan/nltk_data...\n",
      "[nltk_data]   Package stopwords is already up-to-date!\n"
     ]
    },
    {
     "data": {
      "text/plain": [
       "True"
      ]
     },
     "execution_count": 4,
     "metadata": {},
     "output_type": "execute_result"
    }
   ],
   "source": [
    "nltk.download('wordnet')\n",
    "nltk.download('stopwords')"
   ]
  },
  {
   "cell_type": "code",
   "execution_count": 5,
   "metadata": {},
   "outputs": [],
   "source": [
    "if os.path.exists('/datasets/toxic_comments.csv'):\n",
    "    df = pd.read_csv('/datasets/toxic_comments.csv',index_col='Unnamed: 0') \n",
    "else:\n",
    "    print('Ошибка')"
   ]
  },
  {
   "cell_type": "code",
   "execution_count": 6,
   "metadata": {},
   "outputs": [
    {
     "data": {
      "text/html": [
       "<div>\n",
       "<style scoped>\n",
       "    .dataframe tbody tr th:only-of-type {\n",
       "        vertical-align: middle;\n",
       "    }\n",
       "\n",
       "    .dataframe tbody tr th {\n",
       "        vertical-align: top;\n",
       "    }\n",
       "\n",
       "    .dataframe thead th {\n",
       "        text-align: right;\n",
       "    }\n",
       "</style>\n",
       "<table border=\"1\" class=\"dataframe\">\n",
       "  <thead>\n",
       "    <tr style=\"text-align: right;\">\n",
       "      <th></th>\n",
       "      <th>text</th>\n",
       "      <th>toxic</th>\n",
       "    </tr>\n",
       "  </thead>\n",
       "  <tbody>\n",
       "    <tr>\n",
       "      <th>0</th>\n",
       "      <td>Explanation\\nWhy the edits made under my usern...</td>\n",
       "      <td>0</td>\n",
       "    </tr>\n",
       "    <tr>\n",
       "      <th>1</th>\n",
       "      <td>D'aww! He matches this background colour I'm s...</td>\n",
       "      <td>0</td>\n",
       "    </tr>\n",
       "    <tr>\n",
       "      <th>2</th>\n",
       "      <td>Hey man, I'm really not trying to edit war. It...</td>\n",
       "      <td>0</td>\n",
       "    </tr>\n",
       "    <tr>\n",
       "      <th>3</th>\n",
       "      <td>\"\\nMore\\nI can't make any real suggestions on ...</td>\n",
       "      <td>0</td>\n",
       "    </tr>\n",
       "    <tr>\n",
       "      <th>4</th>\n",
       "      <td>You, sir, are my hero. Any chance you remember...</td>\n",
       "      <td>0</td>\n",
       "    </tr>\n",
       "  </tbody>\n",
       "</table>\n",
       "</div>"
      ],
      "text/plain": [
       "                                                text  toxic\n",
       "0  Explanation\\nWhy the edits made under my usern...      0\n",
       "1  D'aww! He matches this background colour I'm s...      0\n",
       "2  Hey man, I'm really not trying to edit war. It...      0\n",
       "3  \"\\nMore\\nI can't make any real suggestions on ...      0\n",
       "4  You, sir, are my hero. Any chance you remember...      0"
      ]
     },
     "execution_count": 6,
     "metadata": {},
     "output_type": "execute_result"
    }
   ],
   "source": [
    "df.head()"
   ]
  },
  {
   "cell_type": "code",
   "execution_count": 7,
   "metadata": {},
   "outputs": [
    {
     "name": "stdout",
     "output_type": "stream",
     "text": [
      "<class 'pandas.core.frame.DataFrame'>\n",
      "Int64Index: 159292 entries, 0 to 159450\n",
      "Data columns (total 2 columns):\n",
      " #   Column  Non-Null Count   Dtype \n",
      "---  ------  --------------   ----- \n",
      " 0   text    159292 non-null  object\n",
      " 1   toxic   159292 non-null  int64 \n",
      "dtypes: int64(1), object(1)\n",
      "memory usage: 3.6+ MB\n"
     ]
    }
   ],
   "source": [
    "df.info()"
   ]
  },
  {
   "cell_type": "markdown",
   "metadata": {},
   "source": [
    "Вывод: данные загружены и соответствуют описанию."
   ]
  },
  {
   "cell_type": "markdown",
   "metadata": {},
   "source": [
    "## Подготовка"
   ]
  },
  {
   "cell_type": "markdown",
   "metadata": {},
   "source": [
    "Подготовим данные для обучения моделей."
   ]
  },
  {
   "cell_type": "markdown",
   "metadata": {},
   "source": [
    "### Предобработка"
   ]
  },
  {
   "cell_type": "markdown",
   "metadata": {},
   "source": [
    "Посмотрим есть ли дубликаты, пропуски и бинарно ли содержание столбца toxic."
   ]
  },
  {
   "cell_type": "code",
   "execution_count": 8,
   "metadata": {},
   "outputs": [
    {
     "data": {
      "text/plain": [
       "0"
      ]
     },
     "execution_count": 8,
     "metadata": {},
     "output_type": "execute_result"
    }
   ],
   "source": [
    "df.duplicated().sum()"
   ]
  },
  {
   "cell_type": "code",
   "execution_count": 9,
   "metadata": {},
   "outputs": [
    {
     "data": {
      "text/plain": [
       "0"
      ]
     },
     "execution_count": 9,
     "metadata": {},
     "output_type": "execute_result"
    }
   ],
   "source": [
    "df.index.duplicated().sum()"
   ]
  },
  {
   "cell_type": "code",
   "execution_count": 10,
   "metadata": {},
   "outputs": [
    {
     "data": {
      "text/plain": [
       "array([0, 1])"
      ]
     },
     "execution_count": 10,
     "metadata": {},
     "output_type": "execute_result"
    }
   ],
   "source": [
    "df['toxic'].unique()"
   ]
  },
  {
   "cell_type": "code",
   "execution_count": 11,
   "metadata": {},
   "outputs": [
    {
     "data": {
      "text/html": [
       "<div>\n",
       "<style scoped>\n",
       "    .dataframe tbody tr th:only-of-type {\n",
       "        vertical-align: middle;\n",
       "    }\n",
       "\n",
       "    .dataframe tbody tr th {\n",
       "        vertical-align: top;\n",
       "    }\n",
       "\n",
       "    .dataframe thead th {\n",
       "        text-align: right;\n",
       "    }\n",
       "</style>\n",
       "<table border=\"1\" class=\"dataframe\">\n",
       "  <thead>\n",
       "    <tr style=\"text-align: right;\">\n",
       "      <th></th>\n",
       "      <th>text</th>\n",
       "      <th>toxic</th>\n",
       "    </tr>\n",
       "  </thead>\n",
       "  <tbody>\n",
       "  </tbody>\n",
       "</table>\n",
       "</div>"
      ],
      "text/plain": [
       "Empty DataFrame\n",
       "Columns: [text, toxic]\n",
       "Index: []"
      ]
     },
     "execution_count": 11,
     "metadata": {},
     "output_type": "execute_result"
    }
   ],
   "source": [
    "df.loc[df['text']=='']"
   ]
  },
  {
   "cell_type": "markdown",
   "metadata": {},
   "source": [
    "### Анализ."
   ]
  },
  {
   "cell_type": "markdown",
   "metadata": {},
   "source": [
    "Посмотрим соотношение токсичных и нетоксичных комментариев."
   ]
  },
  {
   "cell_type": "code",
   "execution_count": 12,
   "metadata": {},
   "outputs": [
    {
     "data": {
      "image/png": "[encoded data removed]",
      "text/plain": [
       "<Figure size 432x288 with 1 Axes>"
      ]
     },
     "metadata": {
      "needs_background": "light"
     },
     "output_type": "display_data"
    }
   ],
   "source": [
    "(df.pivot_table(index='toxic',values='text',aggfunc='count')\n",
    " /df.shape[0]*100).plot(kind = 'bar',legend=False)\n",
    "\n",
    "plt.title('Соотношение комментариев')\n",
    "plt.xlabel('Токсичный')\n",
    "plt.ylabel('Доля, %')\n",
    "plt.show()"
   ]
  },
  {
   "cell_type": "markdown",
   "metadata": {},
   "source": [
    "Присутствует дисбаланс классов. На этапе разделения на выборки стоит использовать стратификацию."
   ]
  },
  {
   "cell_type": "markdown",
   "metadata": {},
   "source": [
    "Длина текстов и слов в зависимости от токсичности."
   ]
  },
  {
   "cell_type": "code",
   "execution_count": 13,
   "metadata": {},
   "outputs": [
    {
     "data": {
      "text/plain": [
       "<matplotlib.legend.Legend at 0x7f2521b6b5e0>"
      ]
     },
     "execution_count": 13,
     "metadata": {},
     "output_type": "execute_result"
    },
    {
     "data": {
      "image/png": "[encoded data removed]",
      "text/plain": [
       "<Figure size 432x288 with 1 Axes>"
      ]
     },
     "metadata": {
      "needs_background": "light"
     },
     "output_type": "display_data"
    }
   ],
   "source": [
    "df['len']= df['text'].str.len()\n",
    "\n",
    "fig, ax1 = plt.subplots()\n",
    "sns.histplot(data=df, x='len', hue='toxic', common_norm=True, ax=ax1)\n",
    "ax1.set_title(f'Зависимость числа нетоксичных текстов от длины')\n",
    "ax1.set_xlabel('Число букв')\n",
    "ax1.set_ylabel('Число тексов')\n",
    "legend = ax1.get_legend()\n",
    "handles = legend.legendHandles\n",
    "ax1.legend(handles, ['Нетоксичные', 'Токсичные'], title='Комментарии')"
   ]
  },
  {
   "cell_type": "code",
   "execution_count": 14,
   "metadata": {},
   "outputs": [
    {
     "data": {
      "image/png": "[encoded data removed]",
      "text/plain": [
       "<Figure size 432x288 with 1 Axes>"
      ]
     },
     "metadata": {
      "needs_background": "light"
     },
     "output_type": "display_data"
    }
   ],
   "source": [
    "\n",
    "df_kde = df.loc[df['len']<5000]\n",
    "fig, ax1 = plt.subplots()\n",
    "sns.kdeplot(data=df_kde,x='len',hue='toxic',common_norm=False)\n",
    "ax1.set_title(f'Зависимость числа нетоксичных текстов от числа слов')\n",
    "ax1.set_xlabel('Число букв')\n",
    "ax1.set_ylabel('Плотность распределения текстов')\n",
    "legend = ax1.get_legend()\n",
    "handles = legend.legendHandles\n",
    "ax1.legend(handles, ['Нетоксичные', 'Токсичные'], title='Комментарии')\n",
    "plt.show()"
   ]
  },
  {
   "cell_type": "markdown",
   "metadata": {},
   "source": [
    "Видно, что длина текстов имет зависимость от токисчности. Токсичный в основной массе короче , но есть больше доля текстов максимальной длины."
   ]
  },
  {
   "cell_type": "code",
   "execution_count": 15,
   "metadata": {},
   "outputs": [
    {
     "data": {
      "image/png": "[encoded data removed]",
      "text/plain": [
       "<Figure size 432x288 with 1 Axes>"
      ]
     },
     "metadata": {
      "needs_background": "light"
     },
     "output_type": "display_data"
    }
   ],
   "source": [
    "df['len_w']= df['text'].str.split().agg([len])\n",
    "\n",
    "\n",
    "df_kde = df.loc[df['len_w']<250]\n",
    "fig, ax1 = plt.subplots()\n",
    "sns.kdeplot(data=df_kde,x='len_w',hue='toxic',common_norm=False)\n",
    "ax1.set_title(f'Зависимость числа нетоксичных текстов от числа слов')\n",
    "ax1.set_xlabel('Число букв')\n",
    "ax1.set_ylabel('Плотность распределения текстов')\n",
    "legend = ax1.get_legend()\n",
    "handles = legend.legendHandles\n",
    "ax1.legend(handles, ['Нетоксичные', 'Токсичные'], title='Комментарии')\n",
    "plt.show()"
   ]
  },
  {
   "cell_type": "code",
   "execution_count": 16,
   "metadata": {},
   "outputs": [
    {
     "data": {
      "image/png": "[encoded data removed]",
      "text/plain": [
       "<Figure size 432x288 with 1 Axes>"
      ]
     },
     "metadata": {
      "needs_background": "light"
     },
     "output_type": "display_data"
    }
   ],
   "source": [
    "df['len_aw']= df['len']/df['len_w']\n",
    "\n",
    "df_kde = df.loc[df['len_aw']<12]\n",
    "fig, ax1 = plt.subplots()\n",
    "sns.kdeplot(data=df_kde,x='len_aw',hue='toxic',common_norm=False)\n",
    "ax1.set_title(f'Зависимость числа нетоксичных текстов от числа слов')\n",
    "ax1.set_xlabel('Число букв')\n",
    "ax1.set_ylabel('Плотность распределения текстов')\n",
    "legend = ax1.get_legend()\n",
    "handles = legend.legendHandles\n",
    "ax1.legend(handles, ['Нетоксичные', 'Токсичные'], title='Комментарии')\n",
    "plt.show()"
   ]
  },
  {
   "cell_type": "markdown",
   "metadata": {},
   "source": [
    "В длине слов тоже видно есть отличия. "
   ]
  },
  {
   "cell_type": "markdown",
   "metadata": {},
   "source": [
    "### Лемматизация"
   ]
  },
  {
   "cell_type": "markdown",
   "metadata": {},
   "source": [
    "Леммптизируем тексты и оставим в них только английские символы и пробелы.(Процедула долгая в тренажере ~40мин)"
   ]
  },
  {
   "cell_type": "code",
   "execution_count": 17,
   "metadata": {},
   "outputs": [],
   "source": [
    "# Загрузка модели английского языка\n",
    "nlp = spacy.load('en_core_web_sm',disable=['parser','ner'])"
   ]
  },
  {
   "cell_type": "code",
   "execution_count": 18,
   "metadata": {},
   "outputs": [
    {
     "data": {
      "application/vnd.jupyter.widget-view+json": {
       "model_id": "bdb1c7934a7b49ae8c48507e45065c30",
       "version_major": 2,
       "version_minor": 0
      },
      "text/plain": [
       "  0%|          | 0/159292 [00:00<?, ?it/s]"
      ]
     },
     "metadata": {},
     "output_type": "display_data"
    }
   ],
   "source": [
    "tqdm.pandas()\n",
    "\n",
    "# Лемматизация текста\n",
    "def lemmatize(text):\n",
    "    doc = nlp(text)\n",
    "    lemmatized_words = [token.lemma_ for token in doc]\n",
    "    return ' '.join(lemmatized_words)\n",
    "\n",
    "def clear_text(text):\n",
    "    return \" \".join(re.sub(r'[^a-zA-Z]',' ',text.lower()).split())\n",
    "\n",
    "df_lem_series = df['text'].progress_apply(lambda x: lemmatize(clear_text(x)))\n",
    "df_lem = df_lem_series.to_frame(name='text')"
   ]
  },
  {
   "cell_type": "code",
   "execution_count": 73,
   "metadata": {},
   "outputs": [
    {
     "data": {
      "text/html": [
       "<div>\n",
       "<style scoped>\n",
       "    .dataframe tbody tr th:only-of-type {\n",
       "        vertical-align: middle;\n",
       "    }\n",
       "\n",
       "    .dataframe tbody tr th {\n",
       "        vertical-align: top;\n",
       "    }\n",
       "\n",
       "    .dataframe thead th {\n",
       "        text-align: right;\n",
       "    }\n",
       "</style>\n",
       "<table border=\"1\" class=\"dataframe\">\n",
       "  <thead>\n",
       "    <tr style=\"text-align: right;\">\n",
       "      <th></th>\n",
       "      <th>text</th>\n",
       "      <th>len</th>\n",
       "      <th>toxic</th>\n",
       "    </tr>\n",
       "  </thead>\n",
       "  <tbody>\n",
       "    <tr>\n",
       "      <th>0</th>\n",
       "      <td>explanation why the edit make under my usernam...</td>\n",
       "      <td>264</td>\n",
       "      <td>0</td>\n",
       "    </tr>\n",
       "    <tr>\n",
       "      <th>1</th>\n",
       "      <td>d aww he match this background colour I m seem...</td>\n",
       "      <td>112</td>\n",
       "      <td>0</td>\n",
       "    </tr>\n",
       "    <tr>\n",
       "      <th>2</th>\n",
       "      <td>hey man I m really not try to edit war it s ju...</td>\n",
       "      <td>233</td>\n",
       "      <td>0</td>\n",
       "    </tr>\n",
       "    <tr>\n",
       "      <th>3</th>\n",
       "      <td>more I can t make any real suggestion on impro...</td>\n",
       "      <td>622</td>\n",
       "      <td>0</td>\n",
       "    </tr>\n",
       "    <tr>\n",
       "      <th>4</th>\n",
       "      <td>you sir be my hero any chance you remember wha...</td>\n",
       "      <td>67</td>\n",
       "      <td>0</td>\n",
       "    </tr>\n",
       "  </tbody>\n",
       "</table>\n",
       "</div>"
      ],
      "text/plain": [
       "                                                text  len  toxic\n",
       "0  explanation why the edit make under my usernam...  264      0\n",
       "1  d aww he match this background colour I m seem...  112      0\n",
       "2  hey man I m really not try to edit war it s ju...  233      0\n",
       "3  more I can t make any real suggestion on impro...  622      0\n",
       "4  you sir be my hero any chance you remember wha...   67      0"
      ]
     },
     "execution_count": 73,
     "metadata": {},
     "output_type": "execute_result"
    }
   ],
   "source": [
    "df_lem['toxic'] = df['toxic']\n",
    "df_lem.head()"
   ]
  },
  {
   "cell_type": "markdown",
   "metadata": {},
   "source": [
    "### Частотный анализ"
   ]
  },
  {
   "cell_type": "markdown",
   "metadata": {},
   "source": [
    "Нарисуем облоко слов)"
   ]
  },
  {
   "cell_type": "code",
   "execution_count": 77,
   "metadata": {
    "scrolled": true
   },
   "outputs": [
    {
     "ename": "AttributeError",
     "evalue": "'ImageDraw' object has no attribute 'textsize'",
     "output_type": "error",
     "traceback": [
      "\u001b[0;31m---------------------------------------------------------------------------\u001b[0m",
      "\u001b[0;31mAttributeError\u001b[0m                            Traceback (most recent call last)",
      "\u001b[0;32m/tmp/ipykernel_308/954632639.py\u001b[0m in \u001b[0;36m<module>\u001b[0;34m\u001b[0m\n\u001b[1;32m      1\u001b[0m \u001b[0mlem\u001b[0m \u001b[0;34m=\u001b[0m \u001b[0mdf_lem\u001b[0m\u001b[0;34m[\u001b[0m\u001b[0;34m'text'\u001b[0m\u001b[0;34m]\u001b[0m\u001b[0;34m.\u001b[0m\u001b[0mastype\u001b[0m\u001b[0;34m(\u001b[0m\u001b[0;34m'str'\u001b[0m\u001b[0;34m)\u001b[0m\u001b[0;34m\u001b[0m\u001b[0;34m\u001b[0m\u001b[0m\n\u001b[1;32m      2\u001b[0m \u001b[0mtext_raw\u001b[0m \u001b[0;34m=\u001b[0m \u001b[0;34m\" \"\u001b[0m\u001b[0;34m.\u001b[0m\u001b[0mjoin\u001b[0m\u001b[0;34m(\u001b[0m\u001b[0mdf_lem\u001b[0m\u001b[0;34m.\u001b[0m\u001b[0mloc\u001b[0m\u001b[0;34m[\u001b[0m\u001b[0mdf_lem\u001b[0m\u001b[0;34m[\u001b[0m\u001b[0;34m'toxic'\u001b[0m\u001b[0;34m]\u001b[0m\u001b[0;34m==\u001b[0m\u001b[0;36m1\u001b[0m\u001b[0;34m,\u001b[0m\u001b[0;34m'text'\u001b[0m\u001b[0;34m]\u001b[0m\u001b[0;34m.\u001b[0m\u001b[0mastype\u001b[0m\u001b[0;34m(\u001b[0m\u001b[0;34m'str'\u001b[0m\u001b[0;34m)\u001b[0m\u001b[0;34m)\u001b[0m\u001b[0;34m\u001b[0m\u001b[0;34m\u001b[0m\u001b[0m\n\u001b[0;32m----> 3\u001b[0;31m \u001b[0mwordcloud\u001b[0m \u001b[0;34m=\u001b[0m \u001b[0mWordCloud\u001b[0m\u001b[0;34m(\u001b[0m\u001b[0mcollocations\u001b[0m\u001b[0;34m=\u001b[0m\u001b[0;32mFalse\u001b[0m\u001b[0;34m)\u001b[0m\u001b[0;34m.\u001b[0m\u001b[0mgenerate\u001b[0m\u001b[0;34m(\u001b[0m\u001b[0mtext_raw\u001b[0m\u001b[0;34m)\u001b[0m\u001b[0;34m\u001b[0m\u001b[0;34m\u001b[0m\u001b[0m\n\u001b[0m\u001b[1;32m      4\u001b[0m \u001b[0;34m\u001b[0m\u001b[0m\n\u001b[1;32m      5\u001b[0m \u001b[0mplt\u001b[0m\u001b[0;34m.\u001b[0m\u001b[0mfigure\u001b[0m\u001b[0;34m(\u001b[0m\u001b[0mfigsize\u001b[0m\u001b[0;34m=\u001b[0m\u001b[0;34m(\u001b[0m\u001b[0;36m10\u001b[0m\u001b[0;34m,\u001b[0m\u001b[0;36m10\u001b[0m\u001b[0;34m)\u001b[0m\u001b[0;34m)\u001b[0m\u001b[0;34m\u001b[0m\u001b[0;34m\u001b[0m\u001b[0m\n",
      "\u001b[0;32m/opt/conda/lib/python3.9/site-packages/wordcloud/wordcloud.py\u001b[0m in \u001b[0;36mgenerate\u001b[0;34m(self, text)\u001b[0m\n\u001b[1;32m    637\u001b[0m         \u001b[0mself\u001b[0m\u001b[0;34m\u001b[0m\u001b[0;34m\u001b[0m\u001b[0m\n\u001b[1;32m    638\u001b[0m         \"\"\"\n\u001b[0;32m--> 639\u001b[0;31m         \u001b[0;32mreturn\u001b[0m \u001b[0mself\u001b[0m\u001b[0;34m.\u001b[0m\u001b[0mgenerate_from_text\u001b[0m\u001b[0;34m(\u001b[0m\u001b[0mtext\u001b[0m\u001b[0;34m)\u001b[0m\u001b[0;34m\u001b[0m\u001b[0;34m\u001b[0m\u001b[0m\n\u001b[0m\u001b[1;32m    640\u001b[0m \u001b[0;34m\u001b[0m\u001b[0m\n\u001b[1;32m    641\u001b[0m     \u001b[0;32mdef\u001b[0m \u001b[0m_check_generated\u001b[0m\u001b[0;34m(\u001b[0m\u001b[0mself\u001b[0m\u001b[0;34m)\u001b[0m\u001b[0;34m:\u001b[0m\u001b[0;34m\u001b[0m\u001b[0;34m\u001b[0m\u001b[0m\n",
      "\u001b[0;32m/opt/conda/lib/python3.9/site-packages/wordcloud/wordcloud.py\u001b[0m in \u001b[0;36mgenerate_from_text\u001b[0;34m(self, text)\u001b[0m\n\u001b[1;32m    619\u001b[0m         \"\"\"\n\u001b[1;32m    620\u001b[0m         \u001b[0mwords\u001b[0m \u001b[0;34m=\u001b[0m \u001b[0mself\u001b[0m\u001b[0;34m.\u001b[0m\u001b[0mprocess_text\u001b[0m\u001b[0;34m(\u001b[0m\u001b[0mtext\u001b[0m\u001b[0;34m)\u001b[0m\u001b[0;34m\u001b[0m\u001b[0;34m\u001b[0m\u001b[0m\n\u001b[0;32m--> 621\u001b[0;31m         \u001b[0mself\u001b[0m\u001b[0;34m.\u001b[0m\u001b[0mgenerate_from_frequencies\u001b[0m\u001b[0;34m(\u001b[0m\u001b[0mwords\u001b[0m\u001b[0;34m)\u001b[0m\u001b[0;34m\u001b[0m\u001b[0;34m\u001b[0m\u001b[0m\n\u001b[0m\u001b[1;32m    622\u001b[0m         \u001b[0;32mreturn\u001b[0m \u001b[0mself\u001b[0m\u001b[0;34m\u001b[0m\u001b[0;34m\u001b[0m\u001b[0m\n\u001b[1;32m    623\u001b[0m \u001b[0;34m\u001b[0m\u001b[0m\n",
      "\u001b[0;32m/opt/conda/lib/python3.9/site-packages/wordcloud/wordcloud.py\u001b[0m in \u001b[0;36mgenerate_from_frequencies\u001b[0;34m(self, frequencies, max_font_size)\u001b[0m\n\u001b[1;32m    451\u001b[0m                 \u001b[0mfont_size\u001b[0m \u001b[0;34m=\u001b[0m \u001b[0mself\u001b[0m\u001b[0;34m.\u001b[0m\u001b[0mheight\u001b[0m\u001b[0;34m\u001b[0m\u001b[0;34m\u001b[0m\u001b[0m\n\u001b[1;32m    452\u001b[0m             \u001b[0;32melse\u001b[0m\u001b[0;34m:\u001b[0m\u001b[0;34m\u001b[0m\u001b[0;34m\u001b[0m\u001b[0m\n\u001b[0;32m--> 453\u001b[0;31m                 self.generate_from_frequencies(dict(frequencies[:2]),\n\u001b[0m\u001b[1;32m    454\u001b[0m                                                max_font_size=self.height)\n\u001b[1;32m    455\u001b[0m                 \u001b[0;31m# find font sizes\u001b[0m\u001b[0;34m\u001b[0m\u001b[0;34m\u001b[0m\u001b[0;34m\u001b[0m\u001b[0m\n",
      "\u001b[0;32m/opt/conda/lib/python3.9/site-packages/wordcloud/wordcloud.py\u001b[0m in \u001b[0;36mgenerate_from_frequencies\u001b[0;34m(self, frequencies, max_font_size)\u001b[0m\n\u001b[1;32m    506\u001b[0m                     font, orientation=orientation)\n\u001b[1;32m    507\u001b[0m                 \u001b[0;31m# get size of resulting text\u001b[0m\u001b[0;34m\u001b[0m\u001b[0;34m\u001b[0m\u001b[0;34m\u001b[0m\u001b[0m\n\u001b[0;32m--> 508\u001b[0;31m                 \u001b[0mbox_size\u001b[0m \u001b[0;34m=\u001b[0m \u001b[0mdraw\u001b[0m\u001b[0;34m.\u001b[0m\u001b[0mtextsize\u001b[0m\u001b[0;34m(\u001b[0m\u001b[0mword\u001b[0m\u001b[0;34m,\u001b[0m \u001b[0mfont\u001b[0m\u001b[0;34m=\u001b[0m\u001b[0mtransposed_font\u001b[0m\u001b[0;34m)\u001b[0m\u001b[0;34m\u001b[0m\u001b[0;34m\u001b[0m\u001b[0m\n\u001b[0m\u001b[1;32m    509\u001b[0m                 \u001b[0;31m# find possible places using integral image:\u001b[0m\u001b[0;34m\u001b[0m\u001b[0;34m\u001b[0m\u001b[0;34m\u001b[0m\u001b[0m\n\u001b[1;32m    510\u001b[0m                 result = occupancy.sample_position(box_size[1] + self.margin,\n",
      "\u001b[0;31mAttributeError\u001b[0m: 'ImageDraw' object has no attribute 'textsize'"
     ]
    }
   ],
   "source": [
    "lem = df_lem['text'].astype('str')\n",
    "text_raw = \" \".join(df_lem.loc[df_lem['toxic']==1,'text'].astype('str'))\n",
    "wordcloud = WordCloud(collocations=False).generate(text_raw)\n",
    "\n",
    "plt.figure(figsize=(10,10))\n",
    "plt.imshow(wordcloud, interpolation='bilinear')\n",
    "plt.axis('off')\n",
    "plt.title(f'Облако слов для токсичных текстов')\n",
    "plt.show()"
   ]
  },
  {
   "cell_type": "code",
   "execution_count": null,
   "metadata": {},
   "outputs": [],
   "source": [
    "lem = df_lem['text'].astype('str')\n",
    "text_raw = \" \".join(df_lem.loc[df_lem['toxic']==0,'text'].astype('str'))\n",
    "wordcloud = WordCloud().generate(text_raw)\n",
    "\n",
    "plt.figure(figsize=(10,10))\n",
    "plt.imshow(wordcloud, interpolation='bilinear')\n",
    "plt.title(f'Облако слов для не токсичных текстов')\n",
    "plt.axis('off')\n",
    "plt.show()"
   ]
  },
  {
   "cell_type": "markdown",
   "metadata": {},
   "source": [
    "### Вывод"
   ]
  },
  {
   "cell_type": "markdown",
   "metadata": {},
   "source": [
    "Данные готовы для обучения. При разделении выборок нужно учесть дисбаланс классов."
   ]
  },
  {
   "cell_type": "markdown",
   "metadata": {},
   "source": [
    "## Обучение"
   ]
  },
  {
   "cell_type": "markdown",
   "metadata": {},
   "source": [
    "Разделяем учебную и тренировочную выборку."
   ]
  },
  {
   "cell_type": "code",
   "execution_count": 33,
   "metadata": {},
   "outputs": [
    {
     "name": "stderr",
     "output_type": "stream",
     "text": [
      "[nltk_data] Downloading package stopwords to /home/jovyan/nltk_data...\n",
      "[nltk_data]   Package stopwords is already up-to-date!\n"
     ]
    },
    {
     "data": {
      "text/plain": [
       "(127433, 2)"
      ]
     },
     "execution_count": 33,
     "metadata": {},
     "output_type": "execute_result"
    }
   ],
   "source": [
    "nltk.download('stopwords')\n",
    "stopwords = set(nltk_stopwords.words('english'))\n",
    "\n",
    "\n",
    "txt = ['text']\n",
    "num = ['len']\n",
    "\n",
    "df_lem = df_lem.drop('toxic',axis=1)\n",
    "df_lem['text'] = df_lem['text'].astype('str')\n",
    "df_lem['len'] = df['len']\n",
    "\n",
    "X_train,X_test,y_train,y_test = train_test_split(df_lem,df['toxic'],stratify=df['toxic'], test_size=0.2,random_state=RANDOM_STATE)\n",
    "X_train.shape"
   ]
  },
  {
   "cell_type": "markdown",
   "metadata": {},
   "source": [
    "Создаем пайплайн для обучения и выбора гипермараметров моделей\n",
    "- Логистическая регрессия\n",
    "- Решающие деревья\n",
    "- Градиентный бустинг."
   ]
  },
  {
   "cell_type": "code",
   "execution_count": 34,
   "metadata": {},
   "outputs": [],
   "source": [
    "tf_pipe = Pipeline(\n",
    "    [\n",
    "        (\n",
    "            'tf', \n",
    "            TfidfVectorizer(stop_words=list(stopwords))\n",
    "        )\n",
    "    ]\n",
    ")\n",
    "\n",
    "# создаём общий пайплайн для подготовки данных\n",
    "data_preprocessor = ColumnTransformer(\n",
    "    [\n",
    "        ('vect', tf_pipe ,'text'),\n",
    "        ('num', RobustScaler(), num)\n",
    "    ], \n",
    "    remainder='passthrough'\n",
    ")\n",
    "\n",
    "\n",
    "# создаём итоговый пайплайн: подготовка данных и модель\n",
    "pipe_final= Pipeline(\n",
    "    [\n",
    "        ('preprocessor', data_preprocessor),\n",
    "        ('models', LogisticRegression())\n",
    "    ]\n",
    ")\n",
    "\n",
    "param_grid = [\n",
    "    # словарь для модели LogisticRegression()\n",
    "    {\n",
    "        'models': [LogisticRegression(random_state=RANDOM_STATE)], \n",
    "    },\n",
    "    # словарь для модели DecisionTreeClassifier()\n",
    "    {\n",
    "        'models': [DecisionTreeClassifier(random_state=RANDOM_STATE)],\n",
    "        'models__max_depth': [None] + [i for i in range(2, 3)],\n",
    "        'models__min_samples_leaf': range(2 , 3),\n",
    "        'models__min_samples_split': range(2 , 3),\n",
    "    },\n",
    "    # словарь для модели LGBMClassifier()\n",
    "    {\n",
    "        'models': [LGBMClassifier(random_state=RANDOM_STATE)],\n",
    "        'models__num_leaves': range(15,20),\n",
    "        'models__max_depth': [None] + [i for i in range(8, 12)], \n",
    "        'models__learning_rate': [0.4,0.45],\n",
    "    }\n",
    "]"
   ]
  },
  {
   "cell_type": "code",
   "execution_count": 35,
   "metadata": {},
   "outputs": [
    {
     "name": "stdout",
     "output_type": "stream",
     "text": [
      "Метрика лучшей модели при кросс-валидации: 0.7702534052799997\n",
      "Лучшая модель и её параметры:\n"
     ]
    },
    {
     "data": {
      "text/plain": [
       "Pipeline(steps=[('preprocessor',\n",
       "                 ColumnTransformer(remainder='passthrough',\n",
       "                                   transformers=[('vect',\n",
       "                                                  Pipeline(steps=[('tf',\n",
       "                                                                   TfidfVectorizer(stop_words=['each',\n",
       "                                                                                               't',\n",
       "                                                                                               'their',\n",
       "                                                                                               'as',\n",
       "                                                                                               'when',\n",
       "                                                                                               'has',\n",
       "                                                                                               \"should've\",\n",
       "                                                                                               'other',\n",
       "                                                                                               'those',\n",
       "                                                                                               'his',\n",
       "                                                                                               'myself',\n",
       "                                                                                               \"weren't\",\n",
       "                                                                                               'these',\n",
       "                                                                                               'below',\n",
       "                                                                                               'shan',\n",
       "                                                                                               'theirs',\n",
       "                                                                                               'who',\n",
       "                                                                                               'than',\n",
       "                                                                                               'being',\n",
       "                                                                                               'up',\n",
       "                                                                                               'that',\n",
       "                                                                                               'was',\n",
       "                                                                                               'off',\n",
       "                                                                                               'again',\n",
       "                                                                                               'no',\n",
       "                                                                                               'how',\n",
       "                                                                                               'after',\n",
       "                                                                                               'weren',\n",
       "                                                                                               \"won't\",\n",
       "                                                                                               \"shouldn't\", ...]))]),\n",
       "                                                  'text'),\n",
       "                                                 ('num', RobustScaler(),\n",
       "                                                  ['len'])])),\n",
       "                ('models',\n",
       "                 LGBMClassifier(learning_rate=0.45, max_depth=None,\n",
       "                                num_leaves=19, random_state=42))])"
      ]
     },
     "metadata": {},
     "output_type": "display_data"
    },
    {
     "name": "stdout",
     "output_type": "stream",
     "text": [
      "CPU times: user 1h 19min 23s, sys: 17.8 s, total: 1h 19min 41s\n",
      "Wall time: 1h 19min 48s\n"
     ]
    },
    {
     "data": {
      "text/plain": [
       "{'models__num_leaves': 19,\n",
       " 'models__max_depth': None,\n",
       " 'models__learning_rate': 0.45,\n",
       " 'models': LGBMClassifier(learning_rate=0.45, max_depth=None, num_leaves=19,\n",
       "                random_state=42)}"
      ]
     },
     "execution_count": 35,
     "metadata": {},
     "output_type": "execute_result"
    }
   ],
   "source": [
    "%%time\n",
    "random_search = RandomizedSearchCV(\n",
    "    pipe_final, \n",
    "    param_grid, \n",
    "    cv=5,\n",
    "    scoring='f1',\n",
    "    n_jobs=1,\n",
    "    n_iter=15,\n",
    "    random_state=RANDOM_STATE\n",
    ")\n",
    "random_search.fit(X_train, y_train)\n",
    "\n",
    "print ('Метрика лучшей модели при кросс-валидации:', random_search.best_score_)\n",
    "print('Лучшая модель и её параметры:')\n",
    "display(random_search.best_estimator_)\n",
    "random_search.best_params_"
   ]
  },
  {
   "cell_type": "markdown",
   "metadata": {},
   "source": [
    "Для лучшей модели смотрим метрику F1 и матрицу ошибок."
   ]
  },
  {
   "cell_type": "code",
   "execution_count": 36,
   "metadata": {},
   "outputs": [
    {
     "name": "stdout",
     "output_type": "stream",
     "text": [
      "Метрика F1 на тестовой выборке : 0.7717671303451831\n"
     ]
    }
   ],
   "source": [
    "y_test_pred = random_search.best_estimator_.predict(X_test)\n",
    "print(f'Метрика F1 на тестовой выборке : {f1_score(y_test, y_test_pred)}')"
   ]
  },
  {
   "cell_type": "code",
   "execution_count": 27,
   "metadata": {},
   "outputs": [
    {
     "data": {
      "image/png": "[encoded data removed]",
      "text/plain": [
       "<Figure size 432x288 with 2 Axes>"
      ]
     },
     "metadata": {
      "needs_background": "light"
     },
     "output_type": "display_data"
    }
   ],
   "source": [
    "cm = confusion_matrix(y_test, y_test_pred)\n",
    "sns.heatmap(cm, annot=True, fmt='d', cmap='Blues_r')\n",
    "plt.ylabel('True label')\n",
    "plt.xlabel('Predicted')\n",
    "plt.show()"
   ]
  },
  {
   "cell_type": "markdown",
   "metadata": {},
   "source": [
    "Итого лучшей моделью из 3х оказался градиентный бустинг с параметрами LGBMClassifier(learning_rate=0.45, max_depth=None, num_leaves=19} при этом метрика F1 на тренировочной выборке 77 что выше требуемого минимума."
   ]
  },
  {
   "cell_type": "markdown",
   "metadata": {},
   "source": [
    "Посмотрим самые важные признаки."
   ]
  },
  {
   "cell_type": "code",
   "execution_count": 65,
   "metadata": {},
   "outputs": [
    {
     "data": {
      "image/png": "[encoded data removed]",
      "text/plain": [
       "<Figure size 720x720 with 1 Axes>"
      ]
     },
     "metadata": {},
     "output_type": "display_data"
    }
   ],
   "source": [
    "word_list_best = random_search.best_estimator_.named_steps['preprocessor'].named_transformers_['vect'].named_steps['tf'].get_feature_names()\n",
    "word_list_best.append('len')\n",
    "\n",
    "\n",
    "def plotImp(model, num = 20, fig_size = (10, 10)):\n",
    "    feature_imp = pd.DataFrame({'Value':model.feature_importances_,'Feature':word_list_best})\n",
    "    plt.figure(figsize=fig_size)\n",
    "    sns.set(font_scale = 1)\n",
    "    sns.barplot(x=\"Value\", y=\"Feature\", data=feature_imp.sort_values(by=\"Value\", \n",
    "                                                        ascending=False)[0:num])\n",
    "    plt.title('Важность признаков LightGBM')\n",
    "    plt.show()\n",
    "\n",
    "plotImp(random_search.best_estimator_.named_steps['models'])\n"
   ]
  },
  {
   "cell_type": "markdown",
   "metadata": {},
   "source": [
    "Посмотрим самые важные признаки для логистической регресии."
   ]
  },
  {
   "cell_type": "code",
   "execution_count": 68,
   "metadata": {},
   "outputs": [
    {
     "name": "stdout",
     "output_type": "stream",
     "text": [
      "Метрика  модели : 0.7723599632690543\n"
     ]
    }
   ],
   "source": [
    "X_train = X_train['text']\n",
    "X_test = X_test['text']\n",
    "\n",
    "tf_vectorizer = TfidfVectorizer(stop_words=list(stopwords))\n",
    "\n",
    "X_train_t = tf_vectorizer.fit_transform(X_train)\n",
    "X_test_t = tf_vectorizer.transform(X_test)\n",
    "\n",
    "model = LogisticRegression(random_state=RANDOM_STATE,max_iter=200)\n",
    "\n",
    "model.fit(X_train_t, y_train)\n",
    "\n",
    "y_pred_lr = model.predict(X_train_t)\n",
    "\n",
    "print ('Метрика  модели :', f1_score(y_train,y_pred_lr))"
   ]
  },
  {
   "cell_type": "code",
   "execution_count": 69,
   "metadata": {},
   "outputs": [
    {
     "data": {
      "image/png": "[encoded data removed]",
      "text/plain": [
       "<Figure size 720x720 with 1 Axes>"
      ]
     },
     "metadata": {},
     "output_type": "display_data"
    }
   ],
   "source": [
    "tf_col = pd.DataFrame(list(tf_vectorizer.vocabulary_.items()),\n",
    "                      columns = ['word','num']).sort_values(by='num').set_index('num')\n",
    "word_list = tf_col['word']\n",
    "\n",
    "coefficients = model.coef_[0]\n",
    "sns.set_style('white')\n",
    "feature_importance = pd.DataFrame({'Feature': word_list, 'Importance': np.abs(coefficients)})\n",
    "feature_importance = feature_importance.sort_values('Importance', ascending=True).tail(40)\n",
    "feature_importance.plot(x='Feature', y='Importance', kind='barh', figsize=(10, 10),legend=False)\n",
    "plt.title(f'Наиболее важные слова в токсичных текстах')\n",
    "plt.xlabel('Важность признака')\n",
    "plt.ylabel('Слова')\n",
    "    \n",
    "    \n",
    "plt.show()"
   ]
  },
  {
   "cell_type": "markdown",
   "metadata": {},
   "source": [
    "Действительно токсичные слова."
   ]
  },
  {
   "cell_type": "markdown",
   "metadata": {},
   "source": [
    "## Bert"
   ]
  },
  {
   "cell_type": "markdown",
   "metadata": {},
   "source": [
    "Хотелось бы так же попробовать эту модель. Но теория дана весьма схемотично, по этому в деталях не понятно как это делать. Код ниже видимо локально у меня работает , но крайне медленно. Оценочно просит 100 часов. По этому на полном датасете запускать не буду."
   ]
  },
  {
   "cell_type": "markdown",
   "metadata": {},
   "source": [
    "Инициализируем токенизатор со английским словарем по ссылке."
   ]
  },
  {
   "cell_type": "code",
   "execution_count": null,
   "metadata": {},
   "outputs": [],
   "source": [
    "model = transformers.AutoModel.from_pretrained('unitary/toxic-bert')\n",
    "tokenizer = transformers.AutoTokenizer.from_pretrained('unitary/toxic-bert')\n",
    "#model.to('cuda')"
   ]
  },
  {
   "cell_type": "markdown",
   "metadata": {},
   "source": [
    "Токенизируем датафрейм. "
   ]
  },
  {
   "cell_type": "code",
   "execution_count": null,
   "metadata": {},
   "outputs": [],
   "source": [
    "%%time\n",
    "\n",
    "df_t, _ = train_test_split(df, stratify=df['toxic'],train_size=2000.0/df.shape[0],random_state=42)\n",
    "\n",
    "tokenized = df_t['text'].apply(\n",
    "    lambda x: tokenizer.encode(x, add_special_tokens=True))\n",
    "tokenized.shape"
   ]
  },
  {
   "cell_type": "markdown",
   "metadata": {},
   "source": [
    "Создаем массивы из токенизированныз значений. Поскольку BERT работает только с 512 токенами, то обрезаем вектора до этой длины."
   ]
  },
  {
   "cell_type": "code",
   "execution_count": null,
   "metadata": {},
   "outputs": [],
   "source": [
    "%%time\n",
    "max_len = 0\n",
    "for i in tokenized.values:\n",
    "    if len(i) > max_len:\n",
    "        max_len = len(i)\n",
    "\n",
    "padded = np.array([i + [0]*(max_len - len(i)) for i in tokenized.values])[:,:512]\n",
    "\n",
    "attention_mask = np.where(padded != 0, 1, 0)\n",
    "attention_mask.shape"
   ]
  },
  {
   "cell_type": "markdown",
   "metadata": {},
   "source": [
    "Создаем матрицу признаков. Делаем визуализацию прогресса."
   ]
  },
  {
   "cell_type": "code",
   "execution_count": null,
   "metadata": {},
   "outputs": [],
   "source": [
    "batch_size = 100\n",
    "embeddings = []\n",
    "for i in notebook.tqdm(range(padded.shape[0] // batch_size)):\n",
    "        batch = torch.LongTensor(padded[batch_size*i:batch_size*(i+1)])\n",
    "        #batch = batch.to('cuda')\n",
    "        attention_mask_batch = torch.LongTensor(attention_mask[batch_size*i:batch_size*(i+1)])\n",
    "        #attention_mask_batch = attention_mask_batch.to('cuda')\n",
    "        \n",
    "        with torch.no_grad():\n",
    "            batch_embeddings = model(batch, attention_mask=attention_mask_batch)\n",
    "        #   tb = batch_embeddings[0][:,0,:].to('cpu')\n",
    "        embeddings.append(tb.numpy())\n",
    "features = np.concatenate(embeddings)\n",
    "features.shape"
   ]
  },
  {
   "cell_type": "markdown",
   "metadata": {},
   "source": [
    "Обучаем на матрице признаков модель и делаем предсказание."
   ]
  },
  {
   "cell_type": "code",
   "execution_count": null,
   "metadata": {},
   "outputs": [],
   "source": [
    "X_train, X_test, y_train,y_test = train_test_split(features, df_t['toxic'], train_size=0.8,random_state=42)\n",
    "logreg = LogisticRegression(random_state=RANDOM_STATE,max_iter=400)\n",
    "logreg.fit(X_train,y_train)\n",
    "y_test_pred = logreg.predict(X_test)\n",
    "print(f'Метрика F1 на тестовой выборке : {f1_score(y_test, y_test_pred)}')"
   ]
  },
  {
   "cell_type": "markdown",
   "metadata": {},
   "source": [
    "Метрика F1 на тестовой выборке : 0.977"
   ]
  },
  {
   "cell_type": "markdown",
   "metadata": {},
   "source": [
    "## Выводы"
   ]
  },
  {
   "cell_type": "markdown",
   "metadata": {},
   "source": [
    "В работе требовалось предоставить  магазину «Викишоп» обученную модель, которая будет искать токсичные комментарии и отправлять их на модерацию. При этом значение метрики качества F1 должно быть не меньше 0.75. \n",
    "\n",
    "Для решения этой задачи был предоставлен датафрейм с комментариями и известной оценкой токсичности. В начале исходные данные были проверены на корректность с точки зрения дубликатов пропусков и содержимого оценки токсичности.\n",
    "Затем каждый текст был лемматизирован и очишен от посторонних символов и стопслов.\n",
    "После этого для каждого текста был составлен вектор из мер DT-IDF. Полученная таблица была разбита на тренировочную и тестовую выборку. Далее на этих выборкая были обучены модели\n",
    "- Логистическая регрессия\n",
    "- Решающие деревья\n",
    "- Градиентный бустинг\n",
    "и выбранна лучшая с учетом гиперпараметров. \n",
    "\n",
    "Лучшей моделью из 3х оказался градиентный бустинг с параметрами LGBMClassifier(learning_rate=0.4, max_depth=None, num_leaves=17) при этом метрика F1 на тренировочной выборке 77 что выше требуемого минимума.\n",
    "Однако стоит заметить, что довольно большая часть токсичных комментариев не была найдена моделью по этому возможно стоит сменить метрику на Recall или $F_{\\beta}$ с уклоном в Recall.\n",
    "\n",
    "Связка BERT с логистической регресией оказалось гораздо эффективнее при обучении всего на ~2000 текстах Метрика F1 на тестовой выборке : 0.977."
   ]
  },
  {
   "cell_type": "code",
   "execution_count": null,
   "metadata": {},
   "outputs": [],
   "source": []
  }
 ],
 "metadata": {
  "ExecuteTimeLog": [
   {
    "duration": 1481,
    "start_time": "2024-07-07T12:41:24.268Z"
   },
   {
    "duration": 3,
    "start_time": "2024-07-07T12:41:33.315Z"
   },
   {
    "duration": 5,
    "start_time": "2024-07-07T12:44:47.926Z"
   },
   {
    "duration": 2213,
    "start_time": "2024-07-07T12:44:54.540Z"
   },
   {
    "duration": 11,
    "start_time": "2024-07-07T12:45:13.616Z"
   },
   {
    "duration": 976,
    "start_time": "2024-07-07T13:13:39.209Z"
   },
   {
    "duration": 937,
    "start_time": "2024-07-07T13:13:53.980Z"
   },
   {
    "duration": 6,
    "start_time": "2024-07-07T13:13:56.774Z"
   },
   {
    "duration": 7,
    "start_time": "2024-07-07T13:14:06.105Z"
   },
   {
    "duration": 962,
    "start_time": "2024-07-07T13:14:08.141Z"
   },
   {
    "duration": 14,
    "start_time": "2024-07-07T13:14:10.437Z"
   },
   {
    "duration": 235,
    "start_time": "2024-07-07T13:14:33.621Z"
   },
   {
    "duration": 10,
    "start_time": "2024-07-07T13:15:08.160Z"
   },
   {
    "duration": 163,
    "start_time": "2024-07-07T13:19:45.302Z"
   },
   {
    "duration": 5,
    "start_time": "2024-07-07T13:32:17.993Z"
   },
   {
    "duration": 5,
    "start_time": "2024-07-07T13:35:20.320Z"
   },
   {
    "duration": 750,
    "start_time": "2024-07-07T13:35:25.238Z"
   },
   {
    "duration": 742,
    "start_time": "2024-07-07T13:36:46.310Z"
   },
   {
    "duration": 765,
    "start_time": "2024-07-07T13:36:56.812Z"
   },
   {
    "duration": 754,
    "start_time": "2024-07-07T13:37:10.620Z"
   },
   {
    "duration": 98,
    "start_time": "2024-07-07T13:56:57.277Z"
   },
   {
    "duration": 786,
    "start_time": "2024-07-07T13:57:16.880Z"
   },
   {
    "duration": 781,
    "start_time": "2024-07-07T13:57:44.615Z"
   },
   {
    "duration": 779,
    "start_time": "2024-07-07T13:59:26.710Z"
   },
   {
    "duration": 77,
    "start_time": "2024-07-07T14:00:39.407Z"
   },
   {
    "duration": 780,
    "start_time": "2024-07-07T14:00:58.927Z"
   },
   {
    "duration": 765,
    "start_time": "2024-07-07T14:03:06.880Z"
   },
   {
    "duration": 747,
    "start_time": "2024-07-07T14:03:23.858Z"
   },
   {
    "duration": 815,
    "start_time": "2024-07-07T14:03:28.509Z"
   },
   {
    "duration": 785,
    "start_time": "2024-07-07T14:03:35.958Z"
   },
   {
    "duration": 753,
    "start_time": "2024-07-07T14:03:42.453Z"
   },
   {
    "duration": 763,
    "start_time": "2024-07-07T14:05:11.453Z"
   },
   {
    "duration": 759,
    "start_time": "2024-07-07T14:05:27.542Z"
   },
   {
    "duration": 731,
    "start_time": "2024-07-07T14:05:39.593Z"
   },
   {
    "duration": 778,
    "start_time": "2024-07-07T14:05:51.269Z"
   },
   {
    "duration": 753,
    "start_time": "2024-07-07T14:06:46.101Z"
   },
   {
    "duration": 748,
    "start_time": "2024-07-07T14:07:02.344Z"
   },
   {
    "duration": 735,
    "start_time": "2024-07-07T14:07:48.365Z"
   },
   {
    "duration": 784,
    "start_time": "2024-07-07T14:08:10.640Z"
   },
   {
    "duration": 61,
    "start_time": "2024-07-07T14:08:37.127Z"
   },
   {
    "duration": 723,
    "start_time": "2024-07-07T14:09:07.497Z"
   },
   {
    "duration": 776,
    "start_time": "2024-07-07T14:12:09.339Z"
   },
   {
    "duration": 71,
    "start_time": "2024-07-07T14:14:53.043Z"
   },
   {
    "duration": 1712,
    "start_time": "2024-07-07T21:30:34.306Z"
   },
   {
    "duration": 153,
    "start_time": "2024-07-07T21:30:39.051Z"
   },
   {
    "duration": 66,
    "start_time": "2024-07-07T21:32:24.782Z"
   },
   {
    "duration": 2349,
    "start_time": "2024-07-07T21:39:30.223Z"
   },
   {
    "duration": 8,
    "start_time": "2024-07-07T21:39:32.573Z"
   },
   {
    "duration": 7,
    "start_time": "2024-07-07T21:39:37.163Z"
   },
   {
    "duration": 1282,
    "start_time": "2024-07-07T21:39:39.734Z"
   },
   {
    "duration": 15,
    "start_time": "2024-07-07T21:39:53.859Z"
   },
   {
    "duration": 14,
    "start_time": "2024-07-07T21:40:14.544Z"
   },
   {
    "duration": 6,
    "start_time": "2024-07-07T21:41:49.124Z"
   },
   {
    "duration": 14,
    "start_time": "2024-07-07T21:42:45.662Z"
   },
   {
    "duration": 21,
    "start_time": "2024-07-07T21:44:39.615Z"
   },
   {
    "duration": 7,
    "start_time": "2024-07-07T21:44:50.803Z"
   },
   {
    "duration": 26,
    "start_time": "2024-07-07T21:46:35.127Z"
   },
   {
    "duration": 14,
    "start_time": "2024-07-07T21:46:51.848Z"
   },
   {
    "duration": 1695,
    "start_time": "2024-07-08T05:07:37.179Z"
   },
   {
    "duration": 316,
    "start_time": "2024-07-08T05:07:38.876Z"
   },
   {
    "duration": 3226,
    "start_time": "2024-07-08T05:07:39.194Z"
   },
   {
    "duration": 8,
    "start_time": "2024-07-08T05:07:42.423Z"
   },
   {
    "duration": 242,
    "start_time": "2024-07-08T05:07:42.432Z"
   },
   {
    "duration": 6,
    "start_time": "2024-07-08T05:07:42.675Z"
   },
   {
    "duration": 23,
    "start_time": "2024-07-08T05:07:42.682Z"
   },
   {
    "duration": 1156,
    "start_time": "2024-07-08T05:07:42.707Z"
   },
   {
    "duration": 127,
    "start_time": "2024-07-08T05:07:43.864Z"
   },
   {
    "duration": 11,
    "start_time": "2024-07-08T05:09:14.219Z"
   },
   {
    "duration": 54,
    "start_time": "2024-07-08T05:12:14.166Z"
   },
   {
    "duration": 8,
    "start_time": "2024-07-08T05:12:21.019Z"
   },
   {
    "duration": 5,
    "start_time": "2024-07-08T05:12:26.532Z"
   },
   {
    "duration": 708,
    "start_time": "2024-07-08T05:12:37.480Z"
   },
   {
    "duration": 29,
    "start_time": "2024-07-08T05:13:36.202Z"
   },
   {
    "duration": 4,
    "start_time": "2024-07-08T05:13:58.088Z"
   },
   {
    "duration": 6,
    "start_time": "2024-07-08T05:13:59.701Z"
   },
   {
    "duration": 64,
    "start_time": "2024-07-08T05:20:58.803Z"
   },
   {
    "duration": 72,
    "start_time": "2024-07-08T05:21:07.789Z"
   },
   {
    "duration": 2391,
    "start_time": "2024-07-08T05:21:15.338Z"
   },
   {
    "duration": 527,
    "start_time": "2024-07-08T05:21:19.026Z"
   },
   {
    "duration": 457,
    "start_time": "2024-07-08T05:21:24.892Z"
   },
   {
    "duration": 821,
    "start_time": "2024-07-08T05:35:07.950Z"
   },
   {
    "duration": 16,
    "start_time": "2024-07-08T05:35:17.020Z"
   },
   {
    "duration": 1890,
    "start_time": "2024-07-08T05:35:19.804Z"
   },
   {
    "duration": 831,
    "start_time": "2024-07-08T05:37:01.822Z"
   },
   {
    "duration": 14,
    "start_time": "2024-07-08T05:37:08.304Z"
   },
   {
    "duration": 13428,
    "start_time": "2024-07-08T05:37:15.135Z"
   },
   {
    "duration": 13631,
    "start_time": "2024-07-08T05:39:22.794Z"
   },
   {
    "duration": 4,
    "start_time": "2024-07-08T05:41:53.228Z"
   },
   {
    "duration": 13481,
    "start_time": "2024-07-08T05:41:59.954Z"
   },
   {
    "duration": 8,
    "start_time": "2024-07-08T05:42:39.253Z"
   },
   {
    "duration": 14,
    "start_time": "2024-07-08T05:49:06.656Z"
   },
   {
    "duration": 49,
    "start_time": "2024-07-08T05:49:27.762Z"
   },
   {
    "duration": 5,
    "start_time": "2024-07-08T05:55:18.851Z"
   },
   {
    "duration": 7,
    "start_time": "2024-07-08T05:56:36.538Z"
   },
   {
    "duration": 5,
    "start_time": "2024-07-08T05:57:03.218Z"
   },
   {
    "duration": 53,
    "start_time": "2024-07-08T05:57:32.721Z"
   },
   {
    "duration": 17,
    "start_time": "2024-07-08T05:57:37.291Z"
   },
   {
    "duration": 5,
    "start_time": "2024-07-08T05:57:43.529Z"
   },
   {
    "duration": 24,
    "start_time": "2024-07-08T05:58:35.353Z"
   },
   {
    "duration": 7,
    "start_time": "2024-07-08T05:58:59.341Z"
   },
   {
    "duration": 7,
    "start_time": "2024-07-08T05:59:16.263Z"
   },
   {
    "duration": 6,
    "start_time": "2024-07-08T05:59:42.018Z"
   },
   {
    "duration": 5,
    "start_time": "2024-07-08T06:00:04.606Z"
   },
   {
    "duration": 7,
    "start_time": "2024-07-08T06:00:09.984Z"
   },
   {
    "duration": 23,
    "start_time": "2024-07-08T06:01:20.254Z"
   },
   {
    "duration": 26,
    "start_time": "2024-07-08T06:03:21.218Z"
   },
   {
    "duration": 8,
    "start_time": "2024-07-08T06:06:48.328Z"
   },
   {
    "duration": 70,
    "start_time": "2024-07-08T06:07:36.342Z"
   },
   {
    "duration": 13,
    "start_time": "2024-07-08T06:09:45.566Z"
   },
   {
    "duration": 4,
    "start_time": "2024-07-08T06:10:02.845Z"
   },
   {
    "duration": 19,
    "start_time": "2024-07-08T06:10:08.354Z"
   },
   {
    "duration": 30,
    "start_time": "2024-07-08T06:10:30.372Z"
   },
   {
    "duration": 20,
    "start_time": "2024-07-08T06:10:59.825Z"
   },
   {
    "duration": 4,
    "start_time": "2024-07-08T06:11:23.584Z"
   },
   {
    "duration": 289,
    "start_time": "2024-07-08T06:11:23.589Z"
   },
   {
    "duration": 818,
    "start_time": "2024-07-08T06:11:23.879Z"
   },
   {
    "duration": 6,
    "start_time": "2024-07-08T06:11:24.699Z"
   },
   {
    "duration": 272,
    "start_time": "2024-07-08T06:11:24.706Z"
   },
   {
    "duration": 11,
    "start_time": "2024-07-08T06:11:24.980Z"
   },
   {
    "duration": 20,
    "start_time": "2024-07-08T06:11:24.993Z"
   },
   {
    "duration": 26667,
    "start_time": "2024-07-08T06:11:25.015Z"
   },
   {
    "duration": 6,
    "start_time": "2024-07-08T06:11:51.684Z"
   },
   {
    "duration": 20,
    "start_time": "2024-07-08T06:11:51.692Z"
   },
   {
    "duration": 142,
    "start_time": "2024-07-08T06:11:51.714Z"
   },
   {
    "duration": 30,
    "start_time": "2024-07-08T06:11:57.984Z"
   },
   {
    "duration": 24,
    "start_time": "2024-07-08T06:29:33.502Z"
   },
   {
    "duration": 28,
    "start_time": "2024-07-08T06:29:40.521Z"
   },
   {
    "duration": 22,
    "start_time": "2024-07-08T06:29:49.433Z"
   },
   {
    "duration": 4,
    "start_time": "2024-07-08T06:30:05.383Z"
   },
   {
    "duration": 4,
    "start_time": "2024-07-08T06:30:09.726Z"
   },
   {
    "duration": 121,
    "start_time": "2024-07-08T06:33:04.243Z"
   },
   {
    "duration": 17,
    "start_time": "2024-07-08T06:33:35.768Z"
   },
   {
    "duration": 4,
    "start_time": "2024-07-08T06:34:07.472Z"
   },
   {
    "duration": 243,
    "start_time": "2024-07-08T06:34:12.031Z"
   },
   {
    "duration": 237,
    "start_time": "2024-07-08T06:34:22.713Z"
   },
   {
    "duration": 369,
    "start_time": "2024-07-08T06:34:48.650Z"
   },
   {
    "duration": 579,
    "start_time": "2024-07-08T06:34:54.767Z"
   },
   {
    "duration": 2145,
    "start_time": "2024-07-08T06:35:00.775Z"
   },
   {
    "duration": 2339,
    "start_time": "2024-07-08T06:35:38.156Z"
   },
   {
    "duration": 4,
    "start_time": "2024-07-08T06:35:46.699Z"
   },
   {
    "duration": 2060,
    "start_time": "2024-07-08T06:35:50.448Z"
   },
   {
    "duration": 3146,
    "start_time": "2024-07-08T06:36:03.002Z"
   },
   {
    "duration": 4,
    "start_time": "2024-07-08T06:36:21.384Z"
   },
   {
    "duration": 3552,
    "start_time": "2024-07-08T06:36:24.312Z"
   },
   {
    "duration": 3,
    "start_time": "2024-07-08T06:36:54.063Z"
   },
   {
    "duration": 248,
    "start_time": "2024-07-08T06:36:56.063Z"
   },
   {
    "duration": 4,
    "start_time": "2024-07-08T06:37:23.497Z"
   },
   {
    "duration": 3560,
    "start_time": "2024-07-08T06:37:27.600Z"
   },
   {
    "duration": 4,
    "start_time": "2024-07-08T06:38:04.064Z"
   },
   {
    "duration": 3363,
    "start_time": "2024-07-08T06:38:06.170Z"
   },
   {
    "duration": 3,
    "start_time": "2024-07-08T06:38:23.479Z"
   },
   {
    "duration": 1460,
    "start_time": "2024-07-08T06:38:30.980Z"
   },
   {
    "duration": 4,
    "start_time": "2024-07-08T06:39:10.960Z"
   },
   {
    "duration": 10,
    "start_time": "2024-07-08T06:39:10.966Z"
   },
   {
    "duration": 805,
    "start_time": "2024-07-08T06:39:10.977Z"
   },
   {
    "duration": 6,
    "start_time": "2024-07-08T06:39:11.784Z"
   },
   {
    "duration": 229,
    "start_time": "2024-07-08T06:39:11.791Z"
   },
   {
    "duration": 5,
    "start_time": "2024-07-08T06:39:12.021Z"
   },
   {
    "duration": 50,
    "start_time": "2024-07-08T06:39:12.028Z"
   },
   {
    "duration": 66247,
    "start_time": "2024-07-08T06:39:12.080Z"
   },
   {
    "duration": 6,
    "start_time": "2024-07-08T06:40:18.330Z"
   },
   {
    "duration": 27,
    "start_time": "2024-07-08T06:40:18.337Z"
   },
   {
    "duration": 354,
    "start_time": "2024-07-08T06:40:18.365Z"
   },
   {
    "duration": 1074,
    "start_time": "2024-07-08T06:40:18.720Z"
   },
   {
    "duration": 94,
    "start_time": "2024-07-08T06:40:19.796Z"
   },
   {
    "duration": 11248,
    "start_time": "2024-07-08T06:40:19.892Z"
   },
   {
    "duration": 17,
    "start_time": "2024-07-08T06:43:55.810Z"
   },
   {
    "duration": 4,
    "start_time": "2024-07-08T06:44:01.903Z"
   },
   {
    "duration": 7,
    "start_time": "2024-07-08T06:44:06.426Z"
   },
   {
    "duration": 4,
    "start_time": "2024-07-08T06:45:15.223Z"
   },
   {
    "duration": 52,
    "start_time": "2024-07-08T06:45:15.228Z"
   },
   {
    "duration": 804,
    "start_time": "2024-07-08T06:45:15.282Z"
   },
   {
    "duration": 7,
    "start_time": "2024-07-08T06:45:16.087Z"
   },
   {
    "duration": 230,
    "start_time": "2024-07-08T06:45:16.095Z"
   },
   {
    "duration": 7,
    "start_time": "2024-07-08T06:45:16.326Z"
   },
   {
    "duration": 8,
    "start_time": "2024-07-08T06:45:16.334Z"
   },
   {
    "duration": 191638,
    "start_time": "2024-07-08T06:45:16.343Z"
   },
   {
    "duration": 7,
    "start_time": "2024-07-08T06:48:27.983Z"
   },
   {
    "duration": 10,
    "start_time": "2024-07-08T06:48:27.991Z"
   },
   {
    "duration": 995,
    "start_time": "2024-07-08T06:48:28.002Z"
   },
   {
    "duration": 2992,
    "start_time": "2024-07-08T06:48:28.999Z"
   },
   {
    "duration": 6,
    "start_time": "2024-07-08T06:48:31.993Z"
   },
   {
    "duration": 43764,
    "start_time": "2024-07-08T06:48:32.090Z"
   },
   {
    "duration": 12,
    "start_time": "2024-07-08T06:49:15.855Z"
   },
   {
    "duration": 5,
    "start_time": "2024-07-08T06:53:27.369Z"
   },
   {
    "duration": 23,
    "start_time": "2024-07-08T06:53:27.376Z"
   },
   {
    "duration": 866,
    "start_time": "2024-07-08T06:53:27.401Z"
   },
   {
    "duration": 8,
    "start_time": "2024-07-08T06:53:28.269Z"
   },
   {
    "duration": 260,
    "start_time": "2024-07-08T06:53:28.278Z"
   },
   {
    "duration": 7,
    "start_time": "2024-07-08T06:53:28.539Z"
   },
   {
    "duration": 30,
    "start_time": "2024-07-08T06:53:28.547Z"
   },
   {
    "duration": 379655,
    "start_time": "2024-07-08T06:53:28.579Z"
   },
   {
    "duration": 5,
    "start_time": "2024-07-08T06:59:48.236Z"
   },
   {
    "duration": 14,
    "start_time": "2024-07-08T06:59:48.243Z"
   },
   {
    "duration": 1991,
    "start_time": "2024-07-08T06:59:48.258Z"
   },
   {
    "duration": 4745,
    "start_time": "2024-07-08T06:59:50.251Z"
   },
   {
    "duration": 90,
    "start_time": "2024-07-08T06:59:55.000Z"
   },
   {
    "duration": 140173,
    "start_time": "2024-07-08T06:59:55.092Z"
   },
   {
    "duration": 42,
    "start_time": "2024-07-08T07:02:15.266Z"
   },
   {
    "duration": 5,
    "start_time": "2024-07-08T08:03:19.984Z"
   },
   {
    "duration": 212,
    "start_time": "2024-07-08T08:03:19.990Z"
   },
   {
    "duration": 829,
    "start_time": "2024-07-08T08:03:20.204Z"
   },
   {
    "duration": 6,
    "start_time": "2024-07-08T08:03:21.035Z"
   },
   {
    "duration": 233,
    "start_time": "2024-07-08T08:03:21.042Z"
   },
   {
    "duration": 14,
    "start_time": "2024-07-08T08:03:21.276Z"
   },
   {
    "duration": 6,
    "start_time": "2024-07-08T08:03:21.291Z"
   },
   {
    "duration": 3942,
    "start_time": "2024-07-08T08:03:45.472Z"
   },
   {
    "duration": 268,
    "start_time": "2024-07-08T08:03:49.415Z"
   },
   {
    "duration": 3246,
    "start_time": "2024-07-08T08:03:49.684Z"
   },
   {
    "duration": 8,
    "start_time": "2024-07-08T08:03:52.932Z"
   },
   {
    "duration": 258,
    "start_time": "2024-07-08T08:03:52.942Z"
   },
   {
    "duration": 6,
    "start_time": "2024-07-08T08:03:53.201Z"
   },
   {
    "duration": 7,
    "start_time": "2024-07-08T08:03:53.208Z"
   },
   {
    "duration": 2039265,
    "start_time": "2024-07-08T08:03:53.217Z"
   },
   {
    "duration": 388,
    "start_time": "2024-07-08T08:37:52.483Z"
   },
   {
    "duration": 19,
    "start_time": "2024-07-08T08:56:36.799Z"
   },
   {
    "duration": 48,
    "start_time": "2024-07-08T08:58:28.560Z"
   },
   {
    "duration": 6,
    "start_time": "2024-07-08T08:58:39.578Z"
   },
   {
    "duration": 4121,
    "start_time": "2024-07-08T09:43:41.435Z"
   },
   {
    "duration": 11,
    "start_time": "2024-07-08T09:44:01.957Z"
   },
   {
    "duration": 3094,
    "start_time": "2024-07-08T09:45:05.527Z"
   },
   {
    "duration": 2746,
    "start_time": "2024-07-08T09:45:20.542Z"
   },
   {
    "duration": 4077,
    "start_time": "2024-07-08T09:45:23.291Z"
   },
   {
    "duration": 251,
    "start_time": "2024-07-08T09:45:27.369Z"
   },
   {
    "duration": 3409,
    "start_time": "2024-07-08T09:45:27.622Z"
   },
   {
    "duration": 9,
    "start_time": "2024-07-08T09:45:31.032Z"
   },
   {
    "duration": 335,
    "start_time": "2024-07-08T09:45:31.043Z"
   },
   {
    "duration": 25,
    "start_time": "2024-07-08T09:45:31.379Z"
   },
   {
    "duration": 15,
    "start_time": "2024-07-08T09:45:31.406Z"
   },
   {
    "duration": 2077758,
    "start_time": "2024-07-08T09:45:31.423Z"
   },
   {
    "duration": 374,
    "start_time": "2024-07-08T10:20:09.183Z"
   },
   {
    "duration": 0,
    "start_time": "2024-07-08T10:20:09.559Z"
   },
   {
    "duration": 0,
    "start_time": "2024-07-08T10:20:09.560Z"
   },
   {
    "duration": 0,
    "start_time": "2024-07-08T10:20:09.561Z"
   },
   {
    "duration": 0,
    "start_time": "2024-07-08T10:20:09.562Z"
   },
   {
    "duration": 0,
    "start_time": "2024-07-08T10:20:09.563Z"
   },
   {
    "duration": 0,
    "start_time": "2024-07-08T10:20:09.564Z"
   },
   {
    "duration": 0,
    "start_time": "2024-07-08T10:20:09.564Z"
   },
   {
    "duration": 4,
    "start_time": "2024-07-08T11:09:39.443Z"
   },
   {
    "duration": 14,
    "start_time": "2024-07-08T16:37:50.075Z"
   },
   {
    "duration": 37,
    "start_time": "2024-07-08T16:40:28.778Z"
   },
   {
    "duration": 72637,
    "start_time": "2024-07-08T16:41:53.381Z"
   },
   {
    "duration": 12664,
    "start_time": "2024-07-08T16:43:30.603Z"
   },
   {
    "duration": 19645,
    "start_time": "2024-07-08T16:44:20.003Z"
   },
   {
    "duration": 570,
    "start_time": "2024-07-08T16:45:46.165Z"
   },
   {
    "duration": 4637,
    "start_time": "2024-07-08T16:45:57.853Z"
   },
   {
    "duration": 85,
    "start_time": "2024-07-08T16:46:41.086Z"
   },
   {
    "duration": 3282,
    "start_time": "2024-07-08T16:46:52.201Z"
   },
   {
    "duration": 1467,
    "start_time": "2024-07-08T16:47:04.588Z"
   },
   {
    "duration": 99,
    "start_time": "2024-07-08T16:47:12.040Z"
   },
   {
    "duration": 8019,
    "start_time": "2024-07-08T16:47:18.656Z"
   },
   {
    "duration": 6,
    "start_time": "2024-07-08T16:48:08.455Z"
   },
   {
    "duration": 68,
    "start_time": "2024-07-08T17:57:33.862Z"
   },
   {
    "duration": 43,
    "start_time": "2024-07-08T18:13:25.608Z"
   },
   {
    "duration": 6,
    "start_time": "2024-07-08T18:13:29.170Z"
   },
   {
    "duration": 12393,
    "start_time": "2024-07-08T18:13:32.219Z"
   },
   {
    "duration": 3259,
    "start_time": "2024-07-08T18:13:50.965Z"
   },
   {
    "duration": 855,
    "start_time": "2024-07-08T18:14:28.578Z"
   },
   {
    "duration": 32,
    "start_time": "2024-07-08T18:14:32.470Z"
   },
   {
    "duration": 114,
    "start_time": "2024-07-08T18:16:00.053Z"
   },
   {
    "duration": 6,
    "start_time": "2024-07-08T18:33:31.338Z"
   },
   {
    "duration": 12806,
    "start_time": "2024-07-08T18:35:28.232Z"
   },
   {
    "duration": 6,
    "start_time": "2024-07-08T18:35:41.040Z"
   },
   {
    "duration": 209,
    "start_time": "2024-07-08T18:35:41.048Z"
   },
   {
    "duration": 889,
    "start_time": "2024-07-08T18:35:41.259Z"
   },
   {
    "duration": 15,
    "start_time": "2024-07-08T18:35:42.150Z"
   },
   {
    "duration": 32,
    "start_time": "2024-07-08T18:35:42.167Z"
   },
   {
    "duration": 247,
    "start_time": "2024-07-08T18:35:42.200Z"
   },
   {
    "duration": 6,
    "start_time": "2024-07-08T18:35:42.449Z"
   },
   {
    "duration": 4,
    "start_time": "2024-07-08T18:35:42.457Z"
   },
   {
    "duration": 12,
    "start_time": "2024-07-08T18:35:42.463Z"
   },
   {
    "duration": 4598,
    "start_time": "2024-07-08T18:35:42.477Z"
   },
   {
    "duration": 14,
    "start_time": "2024-07-08T18:35:47.077Z"
   },
   {
    "duration": 0,
    "start_time": "2024-07-08T18:35:47.093Z"
   },
   {
    "duration": 0,
    "start_time": "2024-07-08T18:35:47.095Z"
   },
   {
    "duration": 0,
    "start_time": "2024-07-08T18:35:47.096Z"
   },
   {
    "duration": 0,
    "start_time": "2024-07-08T18:35:47.097Z"
   },
   {
    "duration": 0,
    "start_time": "2024-07-08T18:35:47.098Z"
   },
   {
    "duration": 0,
    "start_time": "2024-07-08T18:35:47.098Z"
   },
   {
    "duration": 106,
    "start_time": "2024-07-08T18:40:26.668Z"
   },
   {
    "duration": 8762,
    "start_time": "2024-07-08T18:40:53.455Z"
   },
   {
    "duration": 13002,
    "start_time": "2024-07-08T18:41:02.220Z"
   },
   {
    "duration": 274,
    "start_time": "2024-07-08T18:41:15.223Z"
   },
   {
    "duration": 3199,
    "start_time": "2024-07-08T18:41:15.499Z"
   },
   {
    "duration": 9,
    "start_time": "2024-07-08T18:41:18.700Z"
   },
   {
    "duration": 31,
    "start_time": "2024-07-08T18:41:18.711Z"
   },
   {
    "duration": 228,
    "start_time": "2024-07-08T18:41:18.743Z"
   },
   {
    "duration": 5,
    "start_time": "2024-07-08T18:41:18.973Z"
   },
   {
    "duration": 11,
    "start_time": "2024-07-08T18:41:18.979Z"
   },
   {
    "duration": 6,
    "start_time": "2024-07-08T18:41:18.991Z"
   },
   {
    "duration": 3637,
    "start_time": "2024-07-08T18:41:18.998Z"
   },
   {
    "duration": 16,
    "start_time": "2024-07-08T18:41:22.637Z"
   },
   {
    "duration": 0,
    "start_time": "2024-07-08T18:41:22.654Z"
   },
   {
    "duration": 0,
    "start_time": "2024-07-08T18:41:22.655Z"
   },
   {
    "duration": 0,
    "start_time": "2024-07-08T18:41:22.656Z"
   },
   {
    "duration": 0,
    "start_time": "2024-07-08T18:41:22.657Z"
   },
   {
    "duration": 0,
    "start_time": "2024-07-08T18:41:22.658Z"
   },
   {
    "duration": 2718,
    "start_time": "2024-07-08T18:42:33.408Z"
   },
   {
    "duration": 2055,
    "start_time": "2024-07-08T18:42:39.029Z"
   },
   {
    "duration": 2697,
    "start_time": "2024-07-08T18:44:35.147Z"
   },
   {
    "duration": 6,
    "start_time": "2024-07-08T18:44:37.847Z"
   },
   {
    "duration": 282,
    "start_time": "2024-07-08T18:44:37.855Z"
   },
   {
    "duration": 3221,
    "start_time": "2024-07-08T18:44:38.139Z"
   },
   {
    "duration": 11,
    "start_time": "2024-07-08T18:44:41.361Z"
   },
   {
    "duration": 22,
    "start_time": "2024-07-08T18:44:41.373Z"
   },
   {
    "duration": 235,
    "start_time": "2024-07-08T18:44:41.397Z"
   },
   {
    "duration": 5,
    "start_time": "2024-07-08T18:44:41.634Z"
   },
   {
    "duration": 4,
    "start_time": "2024-07-08T18:44:41.640Z"
   },
   {
    "duration": 2,
    "start_time": "2024-07-08T18:44:41.646Z"
   },
   {
    "duration": 2370,
    "start_time": "2024-07-08T18:44:41.649Z"
   },
   {
    "duration": 0,
    "start_time": "2024-07-08T18:44:44.021Z"
   },
   {
    "duration": 0,
    "start_time": "2024-07-08T18:44:44.022Z"
   },
   {
    "duration": 0,
    "start_time": "2024-07-08T18:44:44.026Z"
   },
   {
    "duration": 0,
    "start_time": "2024-07-08T18:44:44.027Z"
   },
   {
    "duration": 0,
    "start_time": "2024-07-08T18:44:44.027Z"
   },
   {
    "duration": 0,
    "start_time": "2024-07-08T18:44:44.029Z"
   },
   {
    "duration": 0,
    "start_time": "2024-07-08T18:44:44.030Z"
   },
   {
    "duration": 10971,
    "start_time": "2024-07-08T18:47:22.615Z"
   },
   {
    "duration": 5834,
    "start_time": "2024-07-08T18:58:55.822Z"
   },
   {
    "duration": 5,
    "start_time": "2024-07-08T19:00:07.716Z"
   },
   {
    "duration": 7,
    "start_time": "2024-07-08T19:00:28.870Z"
   },
   {
    "duration": 3357,
    "start_time": "2024-07-08T19:00:33.196Z"
   },
   {
    "duration": 15,
    "start_time": "2024-07-08T19:00:38.059Z"
   },
   {
    "duration": 32,
    "start_time": "2024-07-08T19:00:40.205Z"
   },
   {
    "duration": 245,
    "start_time": "2024-07-08T19:00:43.791Z"
   },
   {
    "duration": 7,
    "start_time": "2024-07-08T19:00:45.291Z"
   },
   {
    "duration": 4,
    "start_time": "2024-07-08T19:00:46.908Z"
   },
   {
    "duration": 48,
    "start_time": "2024-07-08T19:00:56.642Z"
   },
   {
    "duration": 7,
    "start_time": "2024-07-08T19:01:14.411Z"
   },
   {
    "duration": 5543,
    "start_time": "2024-07-08T19:01:39.148Z"
   },
   {
    "duration": 11405,
    "start_time": "2024-07-08T19:01:44.694Z"
   },
   {
    "duration": 205,
    "start_time": "2024-07-08T19:01:56.101Z"
   },
   {
    "duration": 3220,
    "start_time": "2024-07-08T19:01:56.308Z"
   },
   {
    "duration": 9,
    "start_time": "2024-07-08T19:01:59.530Z"
   },
   {
    "duration": 23,
    "start_time": "2024-07-08T19:01:59.540Z"
   },
   {
    "duration": 244,
    "start_time": "2024-07-08T19:01:59.564Z"
   },
   {
    "duration": 6,
    "start_time": "2024-07-08T19:01:59.809Z"
   },
   {
    "duration": 5,
    "start_time": "2024-07-08T19:01:59.816Z"
   },
   {
    "duration": 5,
    "start_time": "2024-07-08T19:01:59.822Z"
   },
   {
    "duration": 3630,
    "start_time": "2024-07-08T19:01:59.828Z"
   },
   {
    "duration": 0,
    "start_time": "2024-07-08T19:02:03.461Z"
   },
   {
    "duration": 0,
    "start_time": "2024-07-08T19:02:03.462Z"
   },
   {
    "duration": 0,
    "start_time": "2024-07-08T19:02:03.463Z"
   },
   {
    "duration": 0,
    "start_time": "2024-07-08T19:02:03.464Z"
   },
   {
    "duration": 0,
    "start_time": "2024-07-08T19:02:03.466Z"
   },
   {
    "duration": 0,
    "start_time": "2024-07-08T19:02:03.467Z"
   },
   {
    "duration": 0,
    "start_time": "2024-07-08T19:02:03.469Z"
   },
   {
    "duration": 2922,
    "start_time": "2024-07-08T19:03:00.628Z"
   },
   {
    "duration": 2797,
    "start_time": "2024-07-08T19:03:05.836Z"
   },
   {
    "duration": 6,
    "start_time": "2024-07-08T19:03:13.390Z"
   },
   {
    "duration": 6,
    "start_time": "2024-07-08T19:03:21.969Z"
   },
   {
    "duration": 3278,
    "start_time": "2024-07-08T19:03:23.754Z"
   },
   {
    "duration": 10,
    "start_time": "2024-07-08T19:03:27.034Z"
   },
   {
    "duration": 11133,
    "start_time": "2024-07-08T19:04:08.572Z"
   },
   {
    "duration": 373,
    "start_time": "2024-07-08T19:37:44.690Z"
   },
   {
    "duration": 1127,
    "start_time": "2024-07-08T19:37:54.670Z"
   },
   {
    "duration": 3192,
    "start_time": "2024-07-08T19:38:04.640Z"
   },
   {
    "duration": 29,
    "start_time": "2024-07-08T19:38:13.464Z"
   },
   {
    "duration": 79042,
    "start_time": "2024-07-09T06:01:15.487Z"
   },
   {
    "duration": 6274,
    "start_time": "2024-07-09T06:02:34.531Z"
   },
   {
    "duration": 237,
    "start_time": "2024-07-09T06:02:40.807Z"
   },
   {
    "duration": 2464,
    "start_time": "2024-07-09T06:02:41.046Z"
   },
   {
    "duration": 10,
    "start_time": "2024-07-09T06:02:43.512Z"
   },
   {
    "duration": 1903,
    "start_time": "2024-07-09T06:02:43.524Z"
   },
   {
    "duration": 1490,
    "start_time": "2024-07-09T06:02:45.429Z"
   },
   {
    "duration": 899,
    "start_time": "2024-07-09T06:02:46.921Z"
   },
   {
    "duration": 4,
    "start_time": "2024-07-09T06:02:47.822Z"
   },
   {
    "duration": 42,
    "start_time": "2024-07-09T06:02:47.828Z"
   },
   {
    "duration": 3,
    "start_time": "2024-07-09T06:02:47.872Z"
   },
   {
    "duration": 12312,
    "start_time": "2024-07-09T06:03:56.369Z"
   },
   {
    "duration": 5250,
    "start_time": "2024-07-09T06:04:22.601Z"
   },
   {
    "duration": 6,
    "start_time": "2024-07-09T06:04:33.799Z"
   },
   {
    "duration": 5497,
    "start_time": "2024-07-09T06:04:56.603Z"
   },
   {
    "duration": 7,
    "start_time": "2024-07-09T06:05:02.103Z"
   },
   {
    "duration": 44,
    "start_time": "2024-07-09T06:05:02.112Z"
   },
   {
    "duration": 903,
    "start_time": "2024-07-09T06:05:02.158Z"
   },
   {
    "duration": 9,
    "start_time": "2024-07-09T06:05:03.063Z"
   },
   {
    "duration": 32,
    "start_time": "2024-07-09T06:05:03.074Z"
   },
   {
    "duration": 247,
    "start_time": "2024-07-09T06:05:03.108Z"
   },
   {
    "duration": 6,
    "start_time": "2024-07-09T06:05:03.357Z"
   },
   {
    "duration": 6,
    "start_time": "2024-07-09T06:05:03.365Z"
   },
   {
    "duration": 29,
    "start_time": "2024-07-09T06:05:03.372Z"
   },
   {
    "duration": 20,
    "start_time": "2024-07-09T06:05:03.403Z"
   },
   {
    "duration": 1771,
    "start_time": "2024-07-09T06:05:03.424Z"
   },
   {
    "duration": 913,
    "start_time": "2024-07-09T06:13:48.877Z"
   },
   {
    "duration": 7,
    "start_time": "2024-07-09T06:13:51.646Z"
   },
   {
    "duration": 30,
    "start_time": "2024-07-09T06:13:55.769Z"
   },
   {
    "duration": 205,
    "start_time": "2024-07-09T06:14:03.832Z"
   },
   {
    "duration": 147,
    "start_time": "2024-07-09T06:14:14.668Z"
   },
   {
    "duration": 173,
    "start_time": "2024-07-09T06:14:23.553Z"
   },
   {
    "duration": 135,
    "start_time": "2024-07-09T06:17:37.808Z"
   },
   {
    "duration": 148,
    "start_time": "2024-07-09T06:17:49.215Z"
   },
   {
    "duration": 156,
    "start_time": "2024-07-09T06:18:28.030Z"
   },
   {
    "duration": 150,
    "start_time": "2024-07-09T06:18:51.579Z"
   },
   {
    "duration": 157,
    "start_time": "2024-07-09T06:19:24.626Z"
   },
   {
    "duration": 141,
    "start_time": "2024-07-09T06:20:21.079Z"
   },
   {
    "duration": 191,
    "start_time": "2024-07-09T06:20:57.222Z"
   },
   {
    "duration": 7,
    "start_time": "2024-07-09T06:25:43.535Z"
   },
   {
    "duration": 6,
    "start_time": "2024-07-09T06:26:05.383Z"
   },
   {
    "duration": 942,
    "start_time": "2024-07-09T06:26:08.943Z"
   },
   {
    "duration": 1413,
    "start_time": "2024-07-09T06:26:17.545Z"
   },
   {
    "duration": 59,
    "start_time": "2024-07-09T06:33:40.623Z"
   },
   {
    "duration": 13974,
    "start_time": "2024-07-09T06:33:51.884Z"
   },
   {
    "duration": 1231,
    "start_time": "2024-07-09T06:34:23.325Z"
   },
   {
    "duration": 1200,
    "start_time": "2024-07-09T06:35:05.913Z"
   },
   {
    "duration": 1511,
    "start_time": "2024-07-09T06:35:27.617Z"
   },
   {
    "duration": 1231,
    "start_time": "2024-07-09T06:35:53.485Z"
   },
   {
    "duration": 39075,
    "start_time": "2024-07-09T06:40:14.875Z"
   },
   {
    "duration": 8,
    "start_time": "2024-07-09T06:41:15.694Z"
   },
   {
    "duration": 2072,
    "start_time": "2024-07-09T06:41:27.958Z"
   },
   {
    "duration": 18322,
    "start_time": "2024-07-09T06:45:19.697Z"
   },
   {
    "duration": 12132,
    "start_time": "2024-07-09T06:45:39.223Z"
   },
   {
    "duration": 6,
    "start_time": "2024-07-09T06:45:55.266Z"
   },
   {
    "duration": 919,
    "start_time": "2024-07-09T06:46:08.236Z"
   },
   {
    "duration": 62,
    "start_time": "2024-07-09T06:46:12.711Z"
   },
   {
    "duration": 43,
    "start_time": "2024-07-09T06:46:18.371Z"
   },
   {
    "duration": 11037,
    "start_time": "2024-07-09T06:57:27.892Z"
   },
   {
    "duration": 61,
    "start_time": "2024-07-09T06:57:48.908Z"
   },
   {
    "duration": 96,
    "start_time": "2024-07-09T08:24:29.965Z"
   },
   {
    "duration": 11026,
    "start_time": "2024-07-09T08:58:27.572Z"
   },
   {
    "duration": 2776,
    "start_time": "2024-07-09T08:59:12.127Z"
   },
   {
    "duration": 10920,
    "start_time": "2024-07-09T08:59:26.548Z"
   },
   {
    "duration": 5,
    "start_time": "2024-07-09T08:59:37.470Z"
   },
   {
    "duration": 253,
    "start_time": "2024-07-09T08:59:37.477Z"
   },
   {
    "duration": 875,
    "start_time": "2024-07-09T08:59:37.733Z"
   },
   {
    "duration": 10,
    "start_time": "2024-07-09T08:59:38.610Z"
   },
   {
    "duration": 45,
    "start_time": "2024-07-09T08:59:38.622Z"
   },
   {
    "duration": 220,
    "start_time": "2024-07-09T08:59:38.669Z"
   },
   {
    "duration": 8,
    "start_time": "2024-07-09T08:59:38.890Z"
   },
   {
    "duration": 5,
    "start_time": "2024-07-09T08:59:38.899Z"
   },
   {
    "duration": 27,
    "start_time": "2024-07-09T08:59:38.906Z"
   },
   {
    "duration": 250,
    "start_time": "2024-07-09T08:59:38.935Z"
   },
   {
    "duration": 657,
    "start_time": "2024-07-09T08:59:39.187Z"
   },
   {
    "duration": 449,
    "start_time": "2024-07-09T09:01:30.158Z"
   },
   {
    "duration": 1033612,
    "start_time": "2024-07-09T09:01:36.500Z"
   },
   {
    "duration": 9,
    "start_time": "2024-07-09T09:19:06.138Z"
   },
   {
    "duration": 81,
    "start_time": "2024-07-09T09:19:11.198Z"
   },
   {
    "duration": 5,
    "start_time": "2024-07-09T09:19:18.635Z"
   },
   {
    "duration": 1410363,
    "start_time": "2024-07-09T09:19:35.260Z"
   },
   {
    "duration": 1987,
    "start_time": "2024-07-09T09:43:05.625Z"
   },
   {
    "duration": 653,
    "start_time": "2024-07-09T09:45:10.059Z"
   },
   {
    "duration": 2218,
    "start_time": "2024-07-09T09:54:32.774Z"
   },
   {
    "duration": 2900,
    "start_time": "2024-07-09T09:54:46.507Z"
   },
   {
    "duration": 1599,
    "start_time": "2024-07-09T09:55:14.106Z"
   },
   {
    "duration": 2667,
    "start_time": "2024-07-09T09:56:09.160Z"
   },
   {
    "duration": 364,
    "start_time": "2024-07-09T09:56:24.235Z"
   },
   {
    "duration": 3179,
    "start_time": "2024-07-09T10:01:48.849Z"
   },
   {
    "duration": 1950,
    "start_time": "2024-07-09T10:02:10.470Z"
   },
   {
    "duration": 2882,
    "start_time": "2024-07-09T10:02:40.666Z"
   },
   {
    "duration": 218,
    "start_time": "2024-07-09T10:04:58.446Z"
   },
   {
    "duration": 1189,
    "start_time": "2024-07-09T10:05:09.914Z"
   },
   {
    "duration": 327,
    "start_time": "2024-07-09T10:05:29.041Z"
   },
   {
    "duration": 332,
    "start_time": "2024-07-09T10:06:12.129Z"
   },
   {
    "duration": 318,
    "start_time": "2024-07-09T10:06:32.525Z"
   },
   {
    "duration": 327,
    "start_time": "2024-07-09T10:07:23.750Z"
   },
   {
    "duration": 274,
    "start_time": "2024-07-09T10:07:57.403Z"
   },
   {
    "duration": 293,
    "start_time": "2024-07-09T10:10:09.821Z"
   },
   {
    "duration": 2549,
    "start_time": "2024-07-09T10:10:16.427Z"
   },
   {
    "duration": 14273,
    "start_time": "2024-07-09T10:12:16.125Z"
   },
   {
    "duration": 48,
    "start_time": "2024-07-09T10:21:06.092Z"
   },
   {
    "duration": 13,
    "start_time": "2024-07-09T10:21:35.991Z"
   },
   {
    "duration": 2181,
    "start_time": "2024-07-09T10:21:51.135Z"
   },
   {
    "duration": 18336,
    "start_time": "2024-07-09T10:41:19.692Z"
   },
   {
    "duration": 2314,
    "start_time": "2024-07-09T10:42:02.838Z"
   },
   {
    "duration": 2174,
    "start_time": "2024-07-09T10:43:40.964Z"
   },
   {
    "duration": 5,
    "start_time": "2024-07-09T10:43:59.191Z"
   },
   {
    "duration": 2228,
    "start_time": "2024-07-09T10:44:17.884Z"
   },
   {
    "duration": 201,
    "start_time": "2024-07-09T10:44:42.141Z"
   },
   {
    "duration": 43,
    "start_time": "2024-07-09T10:45:13.452Z"
   },
   {
    "duration": 41,
    "start_time": "2024-07-09T10:46:41.676Z"
   },
   {
    "duration": 138,
    "start_time": "2024-07-09T10:46:53.848Z"
   },
   {
    "duration": 17,
    "start_time": "2024-07-09T10:47:14.714Z"
   },
   {
    "duration": 131,
    "start_time": "2024-07-09T10:47:27.643Z"
   },
   {
    "duration": 15,
    "start_time": "2024-07-09T10:47:45.107Z"
   },
   {
    "duration": 2863,
    "start_time": "2024-07-09T10:47:48.666Z"
   },
   {
    "duration": 2902,
    "start_time": "2024-07-09T10:50:20.074Z"
   },
   {
    "duration": 2906,
    "start_time": "2024-07-09T10:50:55.710Z"
   },
   {
    "duration": 108,
    "start_time": "2024-07-09T11:13:26.170Z"
   },
   {
    "duration": 3162,
    "start_time": "2024-07-09T11:13:33.220Z"
   },
   {
    "duration": 71,
    "start_time": "2024-07-09T11:13:52.902Z"
   },
   {
    "duration": 261,
    "start_time": "2024-07-09T11:39:57.113Z"
   },
   {
    "duration": 5,
    "start_time": "2024-07-09T11:40:03.643Z"
   },
   {
    "duration": 649941,
    "start_time": "2024-07-09T11:40:21.889Z"
   },
   {
    "duration": 91,
    "start_time": "2024-07-09T11:54:38.662Z"
   },
   {
    "duration": 5,
    "start_time": "2024-07-09T11:54:43.367Z"
   },
   {
    "duration": 112,
    "start_time": "2024-07-09T11:55:29.393Z"
   },
   {
    "duration": 5,
    "start_time": "2024-07-09T11:55:33.335Z"
   },
   {
    "duration": 360196,
    "start_time": "2024-07-09T11:55:37.114Z"
   },
   {
    "duration": 127,
    "start_time": "2024-07-09T12:05:31.824Z"
   },
   {
    "duration": 116,
    "start_time": "2024-07-09T12:06:00.118Z"
   },
   {
    "duration": 113,
    "start_time": "2024-07-09T12:06:13.299Z"
   },
   {
    "duration": 112,
    "start_time": "2024-07-09T12:07:34.181Z"
   },
   {
    "duration": 104,
    "start_time": "2024-07-09T12:07:43.406Z"
   },
   {
    "duration": 21,
    "start_time": "2024-07-09T12:10:40.079Z"
   },
   {
    "duration": 5,
    "start_time": "2024-07-09T12:11:22.349Z"
   },
   {
    "duration": 6,
    "start_time": "2024-07-09T12:11:37.301Z"
   },
   {
    "duration": 512,
    "start_time": "2024-07-09T12:11:43.610Z"
   },
   {
    "duration": 120,
    "start_time": "2024-07-09T12:30:34.823Z"
   },
   {
    "duration": 6,
    "start_time": "2024-07-09T12:31:14.723Z"
   },
   {
    "duration": 27950,
    "start_time": "2024-07-09T12:31:21.310Z"
   },
   {
    "duration": 6,
    "start_time": "2024-07-09T12:33:39.629Z"
   },
   {
    "duration": 621,
    "start_time": "2024-07-09T12:33:42.973Z"
   },
   {
    "duration": 16,
    "start_time": "2024-07-09T12:34:35.469Z"
   },
   {
    "duration": 7,
    "start_time": "2024-07-09T12:34:48.018Z"
   },
   {
    "duration": 239,
    "start_time": "2024-07-09T12:34:54.759Z"
   },
   {
    "duration": 221,
    "start_time": "2024-07-09T12:35:08.362Z"
   },
   {
    "duration": 125,
    "start_time": "2024-07-09T12:35:35.545Z"
   },
   {
    "duration": 6,
    "start_time": "2024-07-09T12:36:55.138Z"
   },
   {
    "duration": 569,
    "start_time": "2024-07-09T12:36:58.712Z"
   },
   {
    "duration": 107,
    "start_time": "2024-07-09T12:38:34.193Z"
   },
   {
    "duration": 108,
    "start_time": "2024-07-09T12:38:52.215Z"
   },
   {
    "duration": 6,
    "start_time": "2024-07-09T12:38:57.017Z"
   },
   {
    "duration": 356976,
    "start_time": "2024-07-09T12:39:00.209Z"
   },
   {
    "duration": 42,
    "start_time": "2024-07-09T12:56:43.843Z"
   },
   {
    "duration": 22501,
    "start_time": "2024-07-09T12:57:11.063Z"
   },
   {
    "duration": 634,
    "start_time": "2024-07-09T12:58:09.262Z"
   },
   {
    "duration": 22465,
    "start_time": "2024-07-09T12:58:49.311Z"
   },
   {
    "duration": 13,
    "start_time": "2024-07-09T12:59:26.863Z"
   },
   {
    "duration": 383,
    "start_time": "2024-07-09T12:59:41.354Z"
   },
   {
    "duration": 148,
    "start_time": "2024-07-09T13:04:02.556Z"
   },
   {
    "duration": 9,
    "start_time": "2024-07-09T13:04:07.258Z"
   },
   {
    "duration": 358330,
    "start_time": "2024-07-09T13:04:13.535Z"
   },
   {
    "duration": 2448,
    "start_time": "2024-07-09T13:11:06.758Z"
   },
   {
    "duration": 103,
    "start_time": "2024-07-09T13:15:58.783Z"
   },
   {
    "duration": 71,
    "start_time": "2024-07-09T13:17:18.947Z"
   },
   {
    "duration": 365504,
    "start_time": "2024-07-09T13:17:51.629Z"
   },
   {
    "duration": 9,
    "start_time": "2024-07-09T13:27:15.904Z"
   },
   {
    "duration": 28225,
    "start_time": "2024-07-09T13:27:21.071Z"
   },
   {
    "duration": 6,
    "start_time": "2024-07-09T13:29:51.627Z"
   },
   {
    "duration": 28365,
    "start_time": "2024-07-09T13:29:56.431Z"
   },
   {
    "duration": 6,
    "start_time": "2024-07-09T13:30:24.798Z"
   },
   {
    "duration": 27483,
    "start_time": "2024-07-09T13:30:27.647Z"
   },
   {
    "duration": 6,
    "start_time": "2024-07-09T13:31:00.815Z"
   },
   {
    "duration": 366351,
    "start_time": "2024-07-09T13:31:05.312Z"
   },
   {
    "duration": 2394,
    "start_time": "2024-07-09T13:37:32.296Z"
   },
   {
    "duration": 656017,
    "start_time": "2024-07-09T13:37:44.681Z"
   },
   {
    "duration": 134,
    "start_time": "2024-07-09T13:51:06.353Z"
   },
   {
    "duration": 7,
    "start_time": "2024-07-09T13:51:30.242Z"
   },
   {
    "duration": 6,
    "start_time": "2024-07-09T13:52:27.033Z"
   },
   {
    "duration": 50752,
    "start_time": "2024-07-09T13:52:27.041Z"
   },
   {
    "duration": 13,
    "start_time": "2024-07-09T14:02:40.390Z"
   },
   {
    "duration": 544,
    "start_time": "2024-07-09T14:03:01.727Z"
   },
   {
    "duration": 17007,
    "start_time": "2024-07-09T14:03:19.732Z"
   },
   {
    "duration": 337,
    "start_time": "2024-07-09T14:04:13.650Z"
   },
   {
    "duration": 301,
    "start_time": "2024-07-09T14:04:51.282Z"
   },
   {
    "duration": 110,
    "start_time": "2024-07-09T14:05:11.469Z"
   },
   {
    "duration": 186,
    "start_time": "2024-07-09T14:05:41.977Z"
   },
   {
    "duration": 4,
    "start_time": "2024-07-09T14:06:03.955Z"
   },
   {
    "duration": 45,
    "start_time": "2024-07-09T14:06:15.814Z"
   },
   {
    "duration": 5,
    "start_time": "2024-07-09T14:06:36.754Z"
   },
   {
    "duration": 21704,
    "start_time": "2024-07-09T14:09:13.726Z"
   },
   {
    "duration": 3581,
    "start_time": "2024-07-09T14:09:35.433Z"
   },
   {
    "duration": 155,
    "start_time": "2024-07-09T14:09:39.015Z"
   },
   {
    "duration": 2302,
    "start_time": "2024-07-09T14:09:39.173Z"
   },
   {
    "duration": 13,
    "start_time": "2024-07-09T14:09:41.477Z"
   },
   {
    "duration": 40,
    "start_time": "2024-07-09T14:09:41.492Z"
   },
   {
    "duration": 235,
    "start_time": "2024-07-09T14:09:41.534Z"
   },
   {
    "duration": 7,
    "start_time": "2024-07-09T14:09:41.770Z"
   },
   {
    "duration": 24,
    "start_time": "2024-07-09T14:09:41.778Z"
   },
   {
    "duration": 53,
    "start_time": "2024-07-09T14:09:41.804Z"
   },
   {
    "duration": 329,
    "start_time": "2024-07-09T14:09:41.859Z"
   },
   {
    "duration": 399,
    "start_time": "2024-07-09T14:09:42.189Z"
   },
   {
    "duration": 2495,
    "start_time": "2024-07-09T14:09:42.589Z"
   },
   {
    "duration": 283,
    "start_time": "2024-07-09T14:09:45.085Z"
   },
   {
    "duration": 553,
    "start_time": "2024-07-09T14:09:45.369Z"
   },
   {
    "duration": 22937,
    "start_time": "2024-07-09T14:17:32.644Z"
   },
   {
    "duration": 334,
    "start_time": "2024-07-09T14:19:45.049Z"
   },
   {
    "duration": 92,
    "start_time": "2024-07-09T14:19:50.142Z"
   },
   {
    "duration": 19309,
    "start_time": "2024-07-09T14:25:07.900Z"
   },
   {
    "duration": 3507,
    "start_time": "2024-07-09T14:25:27.211Z"
   },
   {
    "duration": 238,
    "start_time": "2024-07-09T14:25:30.719Z"
   },
   {
    "duration": 2363,
    "start_time": "2024-07-09T14:25:30.958Z"
   },
   {
    "duration": 11,
    "start_time": "2024-07-09T14:25:33.323Z"
   },
   {
    "duration": 53,
    "start_time": "2024-07-09T14:25:33.335Z"
   },
   {
    "duration": 228,
    "start_time": "2024-07-09T14:25:33.390Z"
   },
   {
    "duration": 9,
    "start_time": "2024-07-09T14:25:33.621Z"
   },
   {
    "duration": 6,
    "start_time": "2024-07-09T14:25:33.632Z"
   },
   {
    "duration": 51,
    "start_time": "2024-07-09T14:25:33.639Z"
   },
   {
    "duration": 300,
    "start_time": "2024-07-09T14:25:33.692Z"
   },
   {
    "duration": 413,
    "start_time": "2024-07-09T14:25:33.994Z"
   },
   {
    "duration": 2601,
    "start_time": "2024-07-09T14:25:34.409Z"
   },
   {
    "duration": 303,
    "start_time": "2024-07-09T14:25:37.014Z"
   },
   {
    "duration": 570,
    "start_time": "2024-07-09T14:25:37.319Z"
   },
   {
    "duration": 1033266,
    "start_time": "2024-07-09T14:25:37.890Z"
   },
   {
    "duration": 7,
    "start_time": "2024-07-09T14:42:51.158Z"
   },
   {
    "duration": 1311,
    "start_time": "2024-07-09T14:42:51.166Z"
   },
   {
    "duration": 0,
    "start_time": "2024-07-09T14:42:52.478Z"
   },
   {
    "duration": 0,
    "start_time": "2024-07-09T14:42:52.479Z"
   },
   {
    "duration": 0,
    "start_time": "2024-07-09T14:42:52.481Z"
   },
   {
    "duration": 0,
    "start_time": "2024-07-09T14:42:52.481Z"
   },
   {
    "duration": 0,
    "start_time": "2024-07-09T14:42:52.482Z"
   },
   {
    "duration": 14,
    "start_time": "2024-07-09T14:52:37.478Z"
   },
   {
    "duration": 3032,
    "start_time": "2024-07-09T14:52:43.203Z"
   },
   {
    "duration": 106,
    "start_time": "2024-07-09T14:54:44.138Z"
   },
   {
    "duration": 6,
    "start_time": "2024-07-09T14:54:49.585Z"
   },
   {
    "duration": 4719848,
    "start_time": "2024-07-09T14:55:05.363Z"
   },
   {
    "duration": 2753,
    "start_time": "2024-07-09T16:14:26.338Z"
   },
   {
    "duration": 38,
    "start_time": "2024-07-09T16:14:57.390Z"
   },
   {
    "duration": 50,
    "start_time": "2024-07-09T16:15:26.418Z"
   },
   {
    "duration": 242,
    "start_time": "2024-07-09T16:16:19.377Z"
   },
   {
    "duration": 28,
    "start_time": "2024-07-09T16:20:57.206Z"
   },
   {
    "duration": 18,
    "start_time": "2024-07-09T16:21:46.218Z"
   },
   {
    "duration": 6,
    "start_time": "2024-07-09T16:22:27.243Z"
   },
   {
    "duration": 7,
    "start_time": "2024-07-09T16:22:52.387Z"
   },
   {
    "duration": 9,
    "start_time": "2024-07-09T16:23:46.970Z"
   },
   {
    "duration": 6,
    "start_time": "2024-07-09T16:24:20.139Z"
   },
   {
    "duration": 6,
    "start_time": "2024-07-09T16:24:39.905Z"
   },
   {
    "duration": 5,
    "start_time": "2024-07-09T16:24:46.739Z"
   },
   {
    "duration": 28,
    "start_time": "2024-07-09T16:25:25.779Z"
   },
   {
    "duration": 13,
    "start_time": "2024-07-09T16:26:42.287Z"
   },
   {
    "duration": 83,
    "start_time": "2024-07-09T16:27:24.188Z"
   },
   {
    "duration": 13,
    "start_time": "2024-07-09T16:29:07.280Z"
   },
   {
    "duration": 12,
    "start_time": "2024-07-09T16:29:18.315Z"
   },
   {
    "duration": 78,
    "start_time": "2024-07-09T16:29:33.001Z"
   },
   {
    "duration": 32,
    "start_time": "2024-07-09T16:31:09.088Z"
   },
   {
    "duration": 84,
    "start_time": "2024-07-09T16:31:34.526Z"
   },
   {
    "duration": 2961,
    "start_time": "2024-07-09T16:33:29.548Z"
   },
   {
    "duration": 2783,
    "start_time": "2024-07-09T16:35:09.526Z"
   },
   {
    "duration": 54,
    "start_time": "2024-07-09T16:35:54.848Z"
   },
   {
    "duration": 13,
    "start_time": "2024-07-09T16:40:47.799Z"
   },
   {
    "duration": 27,
    "start_time": "2024-07-09T16:41:45.300Z"
   },
   {
    "duration": 12,
    "start_time": "2024-07-09T16:42:00.996Z"
   },
   {
    "duration": 38,
    "start_time": "2024-07-09T16:42:34.071Z"
   },
   {
    "duration": 41,
    "start_time": "2024-07-09T16:45:37.409Z"
   },
   {
    "duration": 27,
    "start_time": "2024-07-09T16:47:34.152Z"
   },
   {
    "duration": 16,
    "start_time": "2024-07-09T16:48:17.235Z"
   },
   {
    "duration": 43,
    "start_time": "2024-07-09T16:52:42.881Z"
   },
   {
    "duration": 11346,
    "start_time": "2024-07-09T17:32:02.597Z"
   },
   {
    "duration": 11,
    "start_time": "2024-07-09T17:33:20.259Z"
   },
   {
    "duration": 1129940,
    "start_time": "2024-07-09T17:38:04.333Z"
   },
   {
    "duration": 20443,
    "start_time": "2024-07-09T18:02:05.650Z"
   },
   {
    "duration": 59548,
    "start_time": "2024-07-09T18:02:38.340Z"
   },
   {
    "duration": 69497,
    "start_time": "2024-07-09T18:05:56.371Z"
   },
   {
    "duration": 68119,
    "start_time": "2024-07-09T18:12:49.285Z"
   },
   {
    "duration": 31,
    "start_time": "2024-07-09T18:15:19.569Z"
   },
   {
    "duration": 1265,
    "start_time": "2024-07-09T18:16:53.796Z"
   },
   {
    "duration": 16,
    "start_time": "2024-07-09T18:18:39.647Z"
   },
   {
    "duration": 4,
    "start_time": "2024-07-09T18:19:21.249Z"
   },
   {
    "duration": 14,
    "start_time": "2024-07-09T18:23:56.591Z"
   },
   {
    "duration": 18,
    "start_time": "2024-07-09T18:25:51.334Z"
   },
   {
    "duration": 453,
    "start_time": "2024-07-09T18:26:00.867Z"
   },
   {
    "duration": 19,
    "start_time": "2024-07-09T18:26:18.958Z"
   },
   {
    "duration": 14,
    "start_time": "2024-07-09T18:26:35.098Z"
   },
   {
    "duration": 5,
    "start_time": "2024-07-09T18:27:38.792Z"
   },
   {
    "duration": 12,
    "start_time": "2024-07-09T18:29:24.950Z"
   },
   {
    "duration": 4,
    "start_time": "2024-07-09T18:29:34.699Z"
   },
   {
    "duration": 4682,
    "start_time": "2024-07-09T18:35:15.414Z"
   },
   {
    "duration": 68,
    "start_time": "2024-07-09T19:10:38.558Z"
   },
   {
    "duration": 3205,
    "start_time": "2024-07-09T19:10:51.122Z"
   },
   {
    "duration": 17758,
    "start_time": "2024-07-09T19:11:09.221Z"
   },
   {
    "duration": 11,
    "start_time": "2024-07-09T19:11:26.983Z"
   },
   {
    "duration": 186,
    "start_time": "2024-07-09T19:11:26.996Z"
   },
   {
    "duration": 2328,
    "start_time": "2024-07-09T19:11:27.183Z"
   },
   {
    "duration": 13,
    "start_time": "2024-07-09T19:11:29.513Z"
   },
   {
    "duration": 35,
    "start_time": "2024-07-09T19:11:29.527Z"
   },
   {
    "duration": 243,
    "start_time": "2024-07-09T19:11:29.564Z"
   },
   {
    "duration": 7,
    "start_time": "2024-07-09T19:11:29.809Z"
   },
   {
    "duration": 6,
    "start_time": "2024-07-09T19:11:29.818Z"
   },
   {
    "duration": 53,
    "start_time": "2024-07-09T19:11:29.825Z"
   },
   {
    "duration": 176,
    "start_time": "2024-07-09T19:11:29.880Z"
   },
   {
    "duration": 435,
    "start_time": "2024-07-09T19:11:30.057Z"
   },
   {
    "duration": 2738,
    "start_time": "2024-07-09T19:11:30.494Z"
   },
   {
    "duration": 290,
    "start_time": "2024-07-09T19:11:33.234Z"
   },
   {
    "duration": 551,
    "start_time": "2024-07-09T19:11:33.526Z"
   },
   {
    "duration": 14,
    "start_time": "2024-07-09T19:15:55.991Z"
   },
   {
    "duration": 7492,
    "start_time": "2024-07-09T19:16:00.363Z"
   },
   {
    "duration": 6,
    "start_time": "2024-07-09T19:16:26.721Z"
   },
   {
    "duration": 5,
    "start_time": "2024-07-09T19:18:18.698Z"
   },
   {
    "duration": 6594,
    "start_time": "2024-07-09T19:18:34.970Z"
   },
   {
    "duration": 9,
    "start_time": "2024-07-09T19:18:57.762Z"
   },
   {
    "duration": 5,
    "start_time": "2024-07-09T19:19:35.172Z"
   },
   {
    "duration": 266,
    "start_time": "2024-07-09T19:22:31.381Z"
   },
   {
    "duration": 6690,
    "start_time": "2024-07-09T19:23:01.815Z"
   },
   {
    "duration": 18875,
    "start_time": "2024-07-09T19:24:13.202Z"
   },
   {
    "duration": 7,
    "start_time": "2024-07-09T19:24:32.079Z"
   },
   {
    "duration": 25,
    "start_time": "2024-07-09T19:24:32.087Z"
   },
   {
    "duration": 890,
    "start_time": "2024-07-09T19:24:32.114Z"
   },
   {
    "duration": 9,
    "start_time": "2024-07-09T19:24:33.006Z"
   },
   {
    "duration": 46,
    "start_time": "2024-07-09T19:24:33.016Z"
   },
   {
    "duration": 226,
    "start_time": "2024-07-09T19:24:33.064Z"
   },
   {
    "duration": 7,
    "start_time": "2024-07-09T19:24:33.291Z"
   },
   {
    "duration": 5,
    "start_time": "2024-07-09T19:24:33.299Z"
   },
   {
    "duration": 28,
    "start_time": "2024-07-09T19:24:33.307Z"
   },
   {
    "duration": 155,
    "start_time": "2024-07-09T19:24:33.361Z"
   },
   {
    "duration": 424,
    "start_time": "2024-07-09T19:24:33.518Z"
   },
   {
    "duration": 2751,
    "start_time": "2024-07-09T19:24:33.944Z"
   },
   {
    "duration": 272,
    "start_time": "2024-07-09T19:24:36.696Z"
   },
   {
    "duration": 449,
    "start_time": "2024-07-09T19:24:36.970Z"
   },
   {
    "duration": 1083480,
    "start_time": "2024-07-09T19:24:37.420Z"
   },
   {
    "duration": 9,
    "start_time": "2024-07-09T19:44:39.706Z"
   },
   {
    "duration": 18821,
    "start_time": "2024-07-09T19:44:57.148Z"
   },
   {
    "duration": 17533,
    "start_time": "2024-07-09T19:45:26.721Z"
   },
   {
    "duration": 6,
    "start_time": "2024-07-09T19:45:47.335Z"
   },
   {
    "duration": 2595,
    "start_time": "2024-07-09T19:46:02.937Z"
   },
   {
    "duration": 2845,
    "start_time": "2024-07-09T19:46:55.215Z"
   },
   {
    "duration": 2571,
    "start_time": "2024-07-09T19:51:43.548Z"
   },
   {
    "duration": 24521,
    "start_time": "2024-07-09T19:52:10.725Z"
   },
   {
    "duration": 91,
    "start_time": "2024-07-09T19:53:08.610Z"
   },
   {
    "duration": 6,
    "start_time": "2024-07-09T19:53:14.051Z"
   },
   {
    "duration": 63153,
    "start_time": "2024-07-09T19:53:43.959Z"
   },
   {
    "duration": 558,
    "start_time": "2024-07-09T19:55:16.482Z"
   },
   {
    "duration": 94,
    "start_time": "2024-07-09T20:00:47.027Z"
   },
   {
    "duration": 5280,
    "start_time": "2024-07-10T08:39:45.858Z"
   },
   {
    "duration": 22,
    "start_time": "2024-07-10T08:46:04.044Z"
   },
   {
    "duration": 20854,
    "start_time": "2024-07-10T08:46:20.857Z"
   },
   {
    "duration": 2416,
    "start_time": "2024-07-10T08:46:41.714Z"
   },
   {
    "duration": 41,
    "start_time": "2024-07-10T08:46:44.132Z"
   },
   {
    "duration": 18577,
    "start_time": "2024-07-10T08:47:24.102Z"
   },
   {
    "duration": 39,
    "start_time": "2024-07-10T08:47:42.681Z"
   },
   {
    "duration": 19149,
    "start_time": "2024-07-10T08:48:01.196Z"
   },
   {
    "duration": 40,
    "start_time": "2024-07-10T08:48:24.636Z"
   },
   {
    "duration": 942,
    "start_time": "2024-07-10T08:48:39.026Z"
   },
   {
    "duration": 1941,
    "start_time": "2024-07-10T08:48:47.629Z"
   },
   {
    "duration": 1858,
    "start_time": "2024-07-10T08:50:16.822Z"
   },
   {
    "duration": 1770,
    "start_time": "2024-07-10T08:56:06.311Z"
   },
   {
    "duration": 1810,
    "start_time": "2024-07-10T08:57:31.503Z"
   },
   {
    "duration": 1795,
    "start_time": "2024-07-10T08:57:43.079Z"
   },
   {
    "duration": 1828,
    "start_time": "2024-07-10T08:57:59.758Z"
   },
   {
    "duration": 1914,
    "start_time": "2024-07-10T08:58:34.448Z"
   },
   {
    "duration": 146,
    "start_time": "2024-07-10T09:02:52.052Z"
   },
   {
    "duration": 2134,
    "start_time": "2024-07-10T09:07:17.196Z"
   },
   {
    "duration": 1836,
    "start_time": "2024-07-10T09:07:30.858Z"
   },
   {
    "duration": 3897,
    "start_time": "2024-07-10T09:08:25.421Z"
   },
   {
    "duration": 1852,
    "start_time": "2024-07-10T09:09:29.994Z"
   },
   {
    "duration": 1884,
    "start_time": "2024-07-10T09:09:52.898Z"
   },
   {
    "duration": 1959,
    "start_time": "2024-07-10T09:10:18.223Z"
   },
   {
    "duration": 1889,
    "start_time": "2024-07-10T09:10:31.517Z"
   },
   {
    "duration": 1891,
    "start_time": "2024-07-10T09:10:46.793Z"
   },
   {
    "duration": 1967,
    "start_time": "2024-07-10T09:13:02.267Z"
   },
   {
    "duration": 2495,
    "start_time": "2024-07-10T09:22:12.390Z"
   },
   {
    "duration": 4894,
    "start_time": "2024-07-10T09:22:27.338Z"
   },
   {
    "duration": 2111,
    "start_time": "2024-07-10T09:23:02.760Z"
   },
   {
    "duration": 2281,
    "start_time": "2024-07-10T09:23:38.153Z"
   },
   {
    "duration": 5103,
    "start_time": "2024-07-10T09:23:49.480Z"
   },
   {
    "duration": 4811,
    "start_time": "2024-07-10T09:24:48.454Z"
   },
   {
    "duration": 2082,
    "start_time": "2024-07-10T09:25:17.431Z"
   },
   {
    "duration": 5494,
    "start_time": "2024-07-10T09:26:40.278Z"
   },
   {
    "duration": 2442,
    "start_time": "2024-07-10T09:28:20.606Z"
   },
   {
    "duration": 2136,
    "start_time": "2024-07-10T09:30:15.465Z"
   },
   {
    "duration": 5315,
    "start_time": "2024-07-10T09:30:37.589Z"
   },
   {
    "duration": 21508,
    "start_time": "2024-07-10T09:31:30.212Z"
   },
   {
    "duration": 2980,
    "start_time": "2024-07-10T09:32:57.317Z"
   },
   {
    "duration": 2410,
    "start_time": "2024-07-10T09:34:38.059Z"
   },
   {
    "duration": 2116,
    "start_time": "2024-07-10T09:35:06.585Z"
   },
   {
    "duration": 5514,
    "start_time": "2024-07-10T09:35:42.223Z"
   },
   {
    "duration": 3218,
    "start_time": "2024-07-10T09:36:14.507Z"
   },
   {
    "duration": 5489,
    "start_time": "2024-07-10T09:36:41.131Z"
   },
   {
    "duration": 5279,
    "start_time": "2024-07-10T09:37:15.084Z"
   },
   {
    "duration": 1826,
    "start_time": "2024-07-10T09:40:42.777Z"
   },
   {
    "duration": 3355,
    "start_time": "2024-07-10T09:41:34.669Z"
   },
   {
    "duration": 2729,
    "start_time": "2024-07-10T09:41:47.106Z"
   },
   {
    "duration": 3490,
    "start_time": "2024-07-10T09:41:55.083Z"
   },
   {
    "duration": 2696,
    "start_time": "2024-07-10T09:42:46.883Z"
   },
   {
    "duration": 3437,
    "start_time": "2024-07-10T09:43:12.842Z"
   },
   {
    "duration": 1405,
    "start_time": "2024-07-10T09:45:57.699Z"
   },
   {
    "duration": 1341,
    "start_time": "2024-07-10T09:47:34.815Z"
   },
   {
    "duration": 1481,
    "start_time": "2024-07-10T09:47:48.401Z"
   },
   {
    "duration": 3147,
    "start_time": "2024-07-10T09:48:34.206Z"
   },
   {
    "duration": 3194,
    "start_time": "2024-07-10T09:48:47.458Z"
   },
   {
    "duration": 3218,
    "start_time": "2024-07-10T09:48:57.636Z"
   },
   {
    "duration": 3159,
    "start_time": "2024-07-10T09:49:14.704Z"
   },
   {
    "duration": 1070,
    "start_time": "2024-07-10T09:50:52.783Z"
   },
   {
    "duration": 1141,
    "start_time": "2024-07-10T09:52:47.962Z"
   },
   {
    "duration": 1165,
    "start_time": "2024-07-10T09:53:25.804Z"
   },
   {
    "duration": 1095,
    "start_time": "2024-07-10T09:53:46.576Z"
   },
   {
    "duration": 29,
    "start_time": "2024-07-10T10:02:29.827Z"
   },
   {
    "duration": 19453,
    "start_time": "2024-07-10T10:02:57.449Z"
   },
   {
    "duration": 249,
    "start_time": "2024-07-10T10:03:30.065Z"
   },
   {
    "duration": 19246,
    "start_time": "2024-07-10T10:16:02.748Z"
   },
   {
    "duration": 18670,
    "start_time": "2024-07-10T10:16:41.102Z"
   },
   {
    "duration": 42,
    "start_time": "2024-07-10T10:17:00.821Z"
   },
   {
    "duration": 19155,
    "start_time": "2024-07-10T10:17:19.101Z"
   },
   {
    "duration": 56,
    "start_time": "2024-07-10T10:17:48.920Z"
   },
   {
    "duration": 4838,
    "start_time": "2024-07-10T10:18:41.916Z"
   },
   {
    "duration": 19991,
    "start_time": "2024-07-10T10:19:11.613Z"
   },
   {
    "duration": 6,
    "start_time": "2024-07-10T10:19:31.607Z"
   },
   {
    "duration": 231,
    "start_time": "2024-07-10T10:19:31.614Z"
   },
   {
    "duration": 970,
    "start_time": "2024-07-10T10:19:31.848Z"
   },
   {
    "duration": 11,
    "start_time": "2024-07-10T10:19:32.820Z"
   },
   {
    "duration": 43,
    "start_time": "2024-07-10T10:19:32.832Z"
   },
   {
    "duration": 230,
    "start_time": "2024-07-10T10:19:32.876Z"
   },
   {
    "duration": 7,
    "start_time": "2024-07-10T10:19:33.108Z"
   },
   {
    "duration": 4,
    "start_time": "2024-07-10T10:19:33.116Z"
   },
   {
    "duration": 46,
    "start_time": "2024-07-10T10:19:33.123Z"
   },
   {
    "duration": 154,
    "start_time": "2024-07-10T10:19:33.171Z"
   },
   {
    "duration": 1872,
    "start_time": "2024-07-10T10:19:33.326Z"
   },
   {
    "duration": 1062,
    "start_time": "2024-07-10T10:19:35.199Z"
   },
   {
    "duration": 3575,
    "start_time": "2024-07-10T10:19:36.262Z"
   },
   {
    "duration": 1024,
    "start_time": "2024-07-10T10:19:39.838Z"
   },
   {
    "duration": 510,
    "start_time": "2024-07-10T10:19:40.863Z"
   },
   {
    "duration": 1026200,
    "start_time": "2024-07-10T10:19:41.375Z"
   },
   {
    "duration": 9,
    "start_time": "2024-07-10T10:36:47.577Z"
   },
   {
    "duration": 1189,
    "start_time": "2024-07-10T10:36:47.587Z"
   },
   {
    "duration": 0,
    "start_time": "2024-07-10T10:36:48.777Z"
   },
   {
    "duration": 14,
    "start_time": "2024-07-10T10:40:26.770Z"
   },
   {
    "duration": 842,
    "start_time": "2024-07-10T10:40:43.678Z"
   },
   {
    "duration": 19202,
    "start_time": "2024-07-10T10:40:55.744Z"
   },
   {
    "duration": 6,
    "start_time": "2024-07-10T10:41:14.949Z"
   },
   {
    "duration": 892,
    "start_time": "2024-07-10T10:41:24.261Z"
   },
   {
    "duration": 94,
    "start_time": "2024-07-10T10:43:16.599Z"
   },
   {
    "duration": 102,
    "start_time": "2024-07-10T10:43:35.079Z"
   },
   {
    "duration": 99,
    "start_time": "2024-07-10T10:43:46.670Z"
   },
   {
    "duration": 108,
    "start_time": "2024-07-10T10:44:36.877Z"
   },
   {
    "duration": 9,
    "start_time": "2024-07-10T10:44:49.453Z"
   },
   {
    "duration": 59939,
    "start_time": "2024-07-10T10:45:18.815Z"
   },
   {
    "duration": 28,
    "start_time": "2024-07-10T10:46:18.756Z"
   },
   {
    "duration": 110,
    "start_time": "2024-07-10T10:46:43.383Z"
   },
   {
    "duration": 6,
    "start_time": "2024-07-10T10:46:52.811Z"
   },
   {
    "duration": 4788601,
    "start_time": "2024-07-10T10:47:04.314Z"
   },
   {
    "duration": 3360,
    "start_time": "2024-07-10T12:18:56.522Z"
   },
   {
    "duration": 31,
    "start_time": "2024-07-10T12:21:48.800Z"
   },
   {
    "duration": 18,
    "start_time": "2024-07-10T12:22:47.194Z"
   },
   {
    "duration": 26,
    "start_time": "2024-07-10T12:23:43.506Z"
   },
   {
    "duration": 17,
    "start_time": "2024-07-10T12:23:57.004Z"
   },
   {
    "duration": 19,
    "start_time": "2024-07-10T12:25:01.134Z"
   },
   {
    "duration": 18,
    "start_time": "2024-07-10T12:26:30.663Z"
   },
   {
    "duration": 23,
    "start_time": "2024-07-10T12:28:47.435Z"
   },
   {
    "duration": 25,
    "start_time": "2024-07-10T12:29:15.971Z"
   },
   {
    "duration": 31,
    "start_time": "2024-07-10T12:29:39.521Z"
   },
   {
    "duration": 20,
    "start_time": "2024-07-10T12:35:06.682Z"
   },
   {
    "duration": 23,
    "start_time": "2024-07-10T12:35:17.674Z"
   },
   {
    "duration": 19,
    "start_time": "2024-07-10T12:36:24.704Z"
   },
   {
    "duration": 145,
    "start_time": "2024-07-10T12:36:34.424Z"
   },
   {
    "duration": 27,
    "start_time": "2024-07-10T12:37:19.337Z"
   },
   {
    "duration": 201,
    "start_time": "2024-07-10T12:37:37.982Z"
   },
   {
    "duration": 189,
    "start_time": "2024-07-10T12:48:09.951Z"
   },
   {
    "duration": 177,
    "start_time": "2024-07-10T12:48:23.659Z"
   },
   {
    "duration": 194,
    "start_time": "2024-07-10T12:48:32.553Z"
   },
   {
    "duration": 182,
    "start_time": "2024-07-10T12:50:04.386Z"
   },
   {
    "duration": 187,
    "start_time": "2024-07-10T12:53:31.670Z"
   },
   {
    "duration": 180,
    "start_time": "2024-07-10T12:54:56.894Z"
   },
   {
    "duration": 368,
    "start_time": "2024-07-10T12:55:51.316Z"
   },
   {
    "duration": 371,
    "start_time": "2024-07-10T12:56:43.601Z"
   },
   {
    "duration": 211,
    "start_time": "2024-07-10T12:56:57.231Z"
   },
   {
    "duration": 347,
    "start_time": "2024-07-10T12:57:03.782Z"
   },
   {
    "duration": 617,
    "start_time": "2024-07-10T12:58:05.674Z"
   },
   {
    "duration": 226,
    "start_time": "2024-07-10T12:58:13.800Z"
   },
   {
    "duration": 479,
    "start_time": "2024-07-10T12:58:27.044Z"
   },
   {
    "duration": 1065,
    "start_time": "2024-07-10T12:59:39.661Z"
   },
   {
    "duration": 1088,
    "start_time": "2024-07-10T13:13:27.271Z"
   },
   {
    "duration": 39,
    "start_time": "2024-07-10T13:14:48.719Z"
   },
   {
    "duration": 65765,
    "start_time": "2024-07-10T13:15:41.742Z"
   },
   {
    "duration": 560,
    "start_time": "2024-07-10T13:18:36.321Z"
   },
   {
    "duration": 21668,
    "start_time": "2024-07-10T13:25:30.150Z"
   },
   {
    "duration": 8,
    "start_time": "2024-07-10T13:25:58.677Z"
   },
   {
    "duration": 1543,
    "start_time": "2024-07-10T13:26:14.927Z"
   },
   {
    "duration": 11,
    "start_time": "2024-07-10T13:26:34.127Z"
   },
   {
    "duration": 973,
    "start_time": "2024-07-10T13:26:40.294Z"
   },
   {
    "duration": 19459,
    "start_time": "2024-07-10T13:28:33.503Z"
   },
   {
    "duration": 7,
    "start_time": "2024-07-10T13:28:56.265Z"
   },
   {
    "duration": 980,
    "start_time": "2024-07-10T13:29:14.410Z"
   }
  ],
  "kernelspec": {
   "display_name": "Python 3 (ipykernel)",
   "language": "python",
   "name": "python3"
  },
  "language_info": {
   "codemirror_mode": {
    "name": "ipython",
    "version": 3
   },
   "file_extension": ".py",
   "mimetype": "text/x-python",
   "name": "python",
   "nbconvert_exporter": "python",
   "pygments_lexer": "ipython3",
   "version": "3.11.2"
  },
  "toc": {
   "base_numbering": 1,
   "nav_menu": {},
   "number_sections": true,
   "sideBar": true,
   "skip_h1_title": true,
   "title_cell": "Содержание",
   "title_sidebar": "Contents",
   "toc_cell": true,
   "toc_position": {
    "height": "calc(100% - 180px)",
    "left": "10px",
    "top": "150px",
    "width": "302.391px"
   },
   "toc_section_display": true,
   "toc_window_display": false
  }
 },
 "nbformat": 4,
 "nbformat_minor": 4
}
