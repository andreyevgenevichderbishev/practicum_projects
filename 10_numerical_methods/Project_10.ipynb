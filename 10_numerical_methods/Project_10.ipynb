{
 "cells": [
  {
   "cell_type": "markdown",
   "metadata": {},
   "source": [
    "<div style=\"border:solid Chocolate 2px; padding: 40px\">\n",
    "\n",
    "<b> Андрей, привет!👋</b>\n",
    "\n",
    "Меня зовут Алексей Гриб, и я буду ревьюером твоего проекта. \n",
    "\n",
    "Сразу хочу предложить в дальнейшем общаться на \"ты\" - надеюсь, так будет комфортнее:) Но если это неудобно, обязательно дай знать, и мы придумаем что-нибудь ещё!\n",
    "    \n",
    "Цель ревью - не искать ошибки в твоём проекте, а помочь тебе сделать твою работу ещё лучше, устранив недочёты и приблизив её к реальным задачам специалиста по работе с данными. Поэтому не расстраивайся, если что-то не получилось с первого раза - это нормально, и это поможет тебе вырасти!\n",
    "    \n",
    "Ты можешь найти мои комментарии, обозначенные <font color='green'>зеленым</font>, <font color='gold'>желтым</font> и <font color='red'>красным</font> цветами, например:\n",
    "\n",
    "<br/>\n",
    "\n",
    "<div class=\"alert alert-success\">\n",
    "<h2> Комментарий ревьюера <a class=\"tocSkip\"> </h2>\n",
    "\n",
    "<b>Все отлично!👍:</b> похвала, рекомендации «со звёздочкой», полезные лайфхаки, которые сделают и без того красивое решение ещё более элегантным.\n",
    "</div>\n",
    "\n",
    "<br/>\n",
    "\n",
    "<div class=\"alert alert-warning\">\n",
    "    <h2> Комментарий ревьюера <a class=\"tocSkip\"> </h2>\n",
    "    \n",
    "<b>Некоторые замечания и рекомендации⚠️:</b> некритичные ошибки или развивающие рекомендации на будущее. \n",
    "</div>\n",
    "\n",
    "\n",
    "<br/>\n",
    "<div class=\"alert alert-block alert-danger\">\n",
    "<h2> Комментарий ревьюера <a class=\"tocSkip\"></h2>\n",
    "\n",
    "    \n",
    "<b>На доработку❌:</b>\n",
    "критичные ошибки, которые обязательно нужно исправить.\n",
    "</div>\n",
    "\n",
    "    \n",
    "Пожалуйста, не удаляй мои комментарии, они будут особенно полезны для нашей работы в случае повторной проверки проекта. \n",
    "    \n",
    "Ты также можешь задавать свои вопросы, реагировать на мои комментарии, делать пометки и пояснения - полная творческая свобода! Но маленькая просьба - пускай они будут отличаться от моих комментариев, это поможет избежать путаницы в нашем общении:)\n",
    "Например, вот так:\n",
    "    \n",
    "<div class=\"alert alert-info\">\n",
    "<h2> Комментарий студента <a class=\"tocSkip\"> </h2>\n",
    "\n",
    "*твой текст*\n",
    "</div>\n",
    "    \n",
    "Давай посмотрим на твой проект!"
   ]
  },
  {
   "cell_type": "markdown",
   "metadata": {},
   "source": [
    "<div class=\"alert alert-info\">\n",
    "<h2> Комментарий студента <a class=\"tocSkip\"> </h2>\n",
    "\n",
    "Привет,Алексей! Спасибо за быструю проверку и полезные советы! Постарался учесть все замичания."
   ]
  },
  {
   "cell_type": "markdown",
   "metadata": {},
   "source": [
    "# Определение стоимости автомобилей"
   ]
  },
  {
   "cell_type": "markdown",
   "metadata": {},
   "source": [
    "Сервис по продаже автомобилей с пробегом «Не бит, не крашен» разрабатывает приложение для привлечения новых клиентов. В нём можно быстро узнать рыночную стоимость своего автомобиля. В вашем распоряжении исторические данные: технические характеристики, комплектации и цены автомобилей. Вам нужно построить модель для определения стоимости. \n",
    "\n",
    "Заказчику важны:\n",
    "\n",
    "- качество предсказания;\n",
    "- скорость предсказания;\n",
    "- время обучения."
   ]
  },
  {
   "cell_type": "markdown",
   "metadata": {},
   "source": [
    "Описание данных\n",
    "\n",
    "Данные находятся в файле /datasets/autos.csv.\n",
    "Признаки\n",
    "\n",
    "- DateCrawled — дата скачивания анкеты из базы\n",
    "- VehicleType — тип автомобильного кузова\n",
    "- RegistrationYear — год регистрации автомобиля\n",
    "- Gearbox — тип коробки передач\n",
    "- Power — мощность (л. с.)\n",
    "- Model — модель автомобиля\n",
    "- Kilometer — пробег (км)\n",
    "- RegistrationMonth — месяц регистрации автомобиля\n",
    "- FuelType — тип топлива\n",
    "- Brand — марка автомобиля\n",
    "- Repaired — была машина в ремонте или нет\n",
    "- DateCreated — дата создания анкеты\n",
    "- NumberOfPictures — количество фотографий автомобиля\n",
    "- PostalCode — почтовый индекс владельца анкеты (пользователя)\n",
    "- LastSeen — дата последней активности пользователя\n",
    "\n",
    "Целевой признак\n",
    "\n",
    "- Price — цена (евро)"
   ]
  },
  {
   "cell_type": "markdown",
   "metadata": {},
   "source": [
    "# План работы."
   ]
  },
  {
   "cell_type": "markdown",
   "metadata": {},
   "source": [
    "Работа устроена следующим образом:\n",
    "- В первой главе загружаем данные \n",
    "- Во второй главе проводим предобработку.\n",
    "- В 3 главе проводим анализ данных.Строим гистограммы для всех значимых признаков. \n",
    "- 4 глава. Смотрим корреляции и диаграммы рассеянья.\n",
    "- Глава 5 готовим данные для обучения моделей\n",
    "- Глава 6 обучение моделей.\n",
    "- В 7 главе выбираем лучшую модель по точности скоросли обучения и предсказания.\n",
    "- В последней главе делаем общие выводы по результатам работы."
   ]
  },
  {
   "cell_type": "markdown",
   "metadata": {},
   "source": [
    "<div class=\"alert alert-success\">\n",
    "<h2> Комментарий ревьюера <a class=\"tocSkip\"> </h2>\n",
    "\n",
    "<b>Все отлично!👍:</b> Хорошее вступление!\n",
    "    \n",
    "В нём есть всё, что необходимо, чтобы понять суть проекта с первых строк отчёта!"
   ]
  },
  {
   "cell_type": "markdown",
   "metadata": {},
   "source": [
    "## Загрузка данных"
   ]
  },
  {
   "cell_type": "markdown",
   "metadata": {},
   "source": [
    "### Загрузка библиотек"
   ]
  },
  {
   "cell_type": "code",
   "execution_count": 1,
   "metadata": {},
   "outputs": [],
   "source": [
    "!pip install phik -q\n",
    "!pip install shap -q\n",
    "!pip install scikit-learn==1.4.2 -q\n",
    "!pip install matplotlib==3.5.3 -q\n",
    "!pip install lightgbm -q"
   ]
  },
  {
   "cell_type": "code",
   "execution_count": 2,
   "metadata": {},
   "outputs": [],
   "source": [
    "import pandas as pd\n",
    "\n",
    "from scipy.stats import shapiro\n",
    "import scipy.stats as stats\n",
    "import matplotlib.pyplot as plt\n",
    "import phik\n",
    "import os\n",
    "import seaborn as sns\n",
    "\n",
    "from sklearn.model_selection import train_test_split\n",
    "\n",
    "# загружаем класс pipeline\n",
    "from sklearn.pipeline import Pipeline\n",
    "\n",
    "# загружаем классы для подготовки данных\n",
    "from sklearn.preprocessing import (\n",
    "    OneHotEncoder, \n",
    "    StandardScaler, \n",
    "    MinMaxScaler, \n",
    "    RobustScaler\n",
    ")   \n",
    "from sklearn.compose import ColumnTransformer\n",
    "\n",
    "# загружаем функцию для работы с метриками\n",
    "from sklearn.metrics import mean_squared_error\n",
    "\n",
    "# импортируем класс RandomizedSearchCV\n",
    "from sklearn.model_selection import RandomizedSearchCV\n",
    "\n",
    "# загружаем нужные модели\n",
    "from sklearn.linear_model import LinearRegression\n",
    "from sklearn.neighbors import KNeighborsRegressor\n",
    "from sklearn.dummy import DummyRegressor\n",
    "from lightgbm import LGBMRegress\n",
    "\n",
    "# Константы\n",
    "\n",
    "RANDOM_STATE = 42"
   ]
  },
  {
   "cell_type": "markdown",
   "metadata": {},
   "source": [
    "<div class=\"alert alert-success\">\n",
    "<h2> Комментарий ревьюера <a class=\"tocSkip\"> </h2>\n",
    "\n",
    "<b>Все отлично!👍:</b> Библиотеки импортировали - отлично!"
   ]
  },
  {
   "cell_type": "markdown",
   "metadata": {},
   "source": [
    "<div class=\"alert alert-warning\">\n",
    "    <h2> Комментарий ревьюера <a class=\"tocSkip\"> </h2>\n",
    "    \n",
    "<b>Некоторые замечания и рекомендации⚠️:</b>\n",
    "Ты импортируешь библиотеки и модули, которые не используешь в проекте - так делать не стоит, так как ты забиваешь окружение лишними  инструментами.\n",
    "    \n",
    "В блоке импорта стоит оставить только то, что реально используется в проекте.\n",
    "</div>"
   ]
  },
  {
   "cell_type": "markdown",
   "metadata": {},
   "source": [
    "<div class=\"alert alert-info\">\n",
    "<h2> Комментарий студента <a class=\"tocSkip\"> </h2>\n",
    "\n",
    "*Поправил* . А есть ли какойто способ узнать какие из библиотек не используются?"
   ]
  },
  {
   "cell_type": "markdown",
   "metadata": {},
   "source": [
    "<div class=\"alert alert-success\">\n",
    "<h2> Комментарий ревьюера v.2 <a class=\"tocSkip\"> </h2>\n",
    "\n",
    "<b>Все отлично!👍:</b> В Юпитере - нет, только глазами или через `Ctrl+F`. В IDE типа `PyCharm` они подсвечиваются, когда не задействованы:)"
   ]
  },
  {
   "cell_type": "markdown",
   "metadata": {},
   "source": [
    "### Загрузка данных"
   ]
  },
  {
   "cell_type": "code",
   "execution_count": 3,
   "metadata": {
    "scrolled": true
   },
   "outputs": [
    {
     "name": "stdout",
     "output_type": "stream",
     "text": [
      "<class 'pandas.core.frame.DataFrame'>\n",
      "RangeIndex: 354369 entries, 0 to 354368\n",
      "Data columns (total 16 columns):\n",
      " #   Column             Non-Null Count   Dtype         \n",
      "---  ------             --------------   -----         \n",
      " 0   DateCrawled        354369 non-null  datetime64[ns]\n",
      " 1   Price              354369 non-null  int64         \n",
      " 2   VehicleType        316879 non-null  object        \n",
      " 3   RegistrationYear   354369 non-null  int64         \n",
      " 4   Gearbox            334536 non-null  object        \n",
      " 5   Power              354369 non-null  int64         \n",
      " 6   Model              334664 non-null  object        \n",
      " 7   Kilometer          354369 non-null  int64         \n",
      " 8   RegistrationMonth  354369 non-null  int64         \n",
      " 9   FuelType           321474 non-null  object        \n",
      " 10  Brand              354369 non-null  object        \n",
      " 11  Repaired           283215 non-null  object        \n",
      " 12  DateCreated        354369 non-null  datetime64[ns]\n",
      " 13  NumberOfPictures   354369 non-null  int64         \n",
      " 14  PostalCode         354369 non-null  int64         \n",
      " 15  LastSeen           354369 non-null  datetime64[ns]\n",
      "dtypes: datetime64[ns](3), int64(7), object(6)\n",
      "memory usage: 43.3+ MB\n",
      "None\n"
     ]
    }
   ],
   "source": [
    "if os.path.exists('/datasets/autos.csv'):\n",
    "    df = pd.read_csv('/datasets/autos.csv',parse_dates=['DateCrawled','DateCreated','LastSeen'])\n",
    "else:\n",
    "    print('Something is wrong')\n",
    "    \n",
    "print(df.info())"
   ]
  },
  {
   "cell_type": "markdown",
   "metadata": {},
   "source": [
    "<div class=\"alert alert-success\">\n",
    "<h2> Комментарий ревьюера <a class=\"tocSkip\"> </h2>\n",
    "\n",
    "<b>Все отлично!👍:</b> Данные загрузили. Круто, что используешь `os` для управления путями файлов. \n",
    "    \n",
    "Ещё на этапе считывания данных можно спарсить дату: за это действие отвечает параметр `parse_dates` метода `read_csv()`, в него нужно передать список с названием полей-дат, и в большинстве случаев дата будет корректно преобразована в нужный формат сразу:)"
   ]
  },
  {
   "cell_type": "code",
   "execution_count": 4,
   "metadata": {},
   "outputs": [
    {
     "data": {
      "text/html": [
       "<div>\n",
       "<style scoped>\n",
       "    .dataframe tbody tr th:only-of-type {\n",
       "        vertical-align: middle;\n",
       "    }\n",
       "\n",
       "    .dataframe tbody tr th {\n",
       "        vertical-align: top;\n",
       "    }\n",
       "\n",
       "    .dataframe thead th {\n",
       "        text-align: right;\n",
       "    }\n",
       "</style>\n",
       "<table border=\"1\" class=\"dataframe\">\n",
       "  <thead>\n",
       "    <tr style=\"text-align: right;\">\n",
       "      <th></th>\n",
       "      <th>DateCrawled</th>\n",
       "      <th>Price</th>\n",
       "      <th>VehicleType</th>\n",
       "      <th>RegistrationYear</th>\n",
       "      <th>Gearbox</th>\n",
       "      <th>Power</th>\n",
       "      <th>Model</th>\n",
       "      <th>Kilometer</th>\n",
       "      <th>RegistrationMonth</th>\n",
       "      <th>FuelType</th>\n",
       "      <th>Brand</th>\n",
       "      <th>Repaired</th>\n",
       "      <th>DateCreated</th>\n",
       "      <th>NumberOfPictures</th>\n",
       "      <th>PostalCode</th>\n",
       "      <th>LastSeen</th>\n",
       "    </tr>\n",
       "  </thead>\n",
       "  <tbody>\n",
       "    <tr>\n",
       "      <th>0</th>\n",
       "      <td>2016-03-24 11:52:17</td>\n",
       "      <td>480</td>\n",
       "      <td>NaN</td>\n",
       "      <td>1993</td>\n",
       "      <td>manual</td>\n",
       "      <td>0</td>\n",
       "      <td>golf</td>\n",
       "      <td>150000</td>\n",
       "      <td>0</td>\n",
       "      <td>petrol</td>\n",
       "      <td>volkswagen</td>\n",
       "      <td>NaN</td>\n",
       "      <td>2016-03-24</td>\n",
       "      <td>0</td>\n",
       "      <td>70435</td>\n",
       "      <td>2016-04-07 03:16:57</td>\n",
       "    </tr>\n",
       "    <tr>\n",
       "      <th>1</th>\n",
       "      <td>2016-03-24 10:58:45</td>\n",
       "      <td>18300</td>\n",
       "      <td>coupe</td>\n",
       "      <td>2011</td>\n",
       "      <td>manual</td>\n",
       "      <td>190</td>\n",
       "      <td>NaN</td>\n",
       "      <td>125000</td>\n",
       "      <td>5</td>\n",
       "      <td>gasoline</td>\n",
       "      <td>audi</td>\n",
       "      <td>yes</td>\n",
       "      <td>2016-03-24</td>\n",
       "      <td>0</td>\n",
       "      <td>66954</td>\n",
       "      <td>2016-04-07 01:46:50</td>\n",
       "    </tr>\n",
       "    <tr>\n",
       "      <th>2</th>\n",
       "      <td>2016-03-14 12:52:21</td>\n",
       "      <td>9800</td>\n",
       "      <td>suv</td>\n",
       "      <td>2004</td>\n",
       "      <td>auto</td>\n",
       "      <td>163</td>\n",
       "      <td>grand</td>\n",
       "      <td>125000</td>\n",
       "      <td>8</td>\n",
       "      <td>gasoline</td>\n",
       "      <td>jeep</td>\n",
       "      <td>NaN</td>\n",
       "      <td>2016-03-14</td>\n",
       "      <td>0</td>\n",
       "      <td>90480</td>\n",
       "      <td>2016-04-05 12:47:46</td>\n",
       "    </tr>\n",
       "    <tr>\n",
       "      <th>3</th>\n",
       "      <td>2016-03-17 16:54:04</td>\n",
       "      <td>1500</td>\n",
       "      <td>small</td>\n",
       "      <td>2001</td>\n",
       "      <td>manual</td>\n",
       "      <td>75</td>\n",
       "      <td>golf</td>\n",
       "      <td>150000</td>\n",
       "      <td>6</td>\n",
       "      <td>petrol</td>\n",
       "      <td>volkswagen</td>\n",
       "      <td>no</td>\n",
       "      <td>2016-03-17</td>\n",
       "      <td>0</td>\n",
       "      <td>91074</td>\n",
       "      <td>2016-03-17 17:40:17</td>\n",
       "    </tr>\n",
       "    <tr>\n",
       "      <th>4</th>\n",
       "      <td>2016-03-31 17:25:20</td>\n",
       "      <td>3600</td>\n",
       "      <td>small</td>\n",
       "      <td>2008</td>\n",
       "      <td>manual</td>\n",
       "      <td>69</td>\n",
       "      <td>fabia</td>\n",
       "      <td>90000</td>\n",
       "      <td>7</td>\n",
       "      <td>gasoline</td>\n",
       "      <td>skoda</td>\n",
       "      <td>no</td>\n",
       "      <td>2016-03-31</td>\n",
       "      <td>0</td>\n",
       "      <td>60437</td>\n",
       "      <td>2016-04-06 10:17:21</td>\n",
       "    </tr>\n",
       "  </tbody>\n",
       "</table>\n",
       "</div>"
      ],
      "text/plain": [
       "          DateCrawled  Price VehicleType  RegistrationYear Gearbox  Power  \\\n",
       "0 2016-03-24 11:52:17    480         NaN              1993  manual      0   \n",
       "1 2016-03-24 10:58:45  18300       coupe              2011  manual    190   \n",
       "2 2016-03-14 12:52:21   9800         suv              2004    auto    163   \n",
       "3 2016-03-17 16:54:04   1500       small              2001  manual     75   \n",
       "4 2016-03-31 17:25:20   3600       small              2008  manual     69   \n",
       "\n",
       "   Model  Kilometer  RegistrationMonth  FuelType       Brand Repaired  \\\n",
       "0   golf     150000                  0    petrol  volkswagen      NaN   \n",
       "1    NaN     125000                  5  gasoline        audi      yes   \n",
       "2  grand     125000                  8  gasoline        jeep      NaN   \n",
       "3   golf     150000                  6    petrol  volkswagen       no   \n",
       "4  fabia      90000                  7  gasoline       skoda       no   \n",
       "\n",
       "  DateCreated  NumberOfPictures  PostalCode            LastSeen  \n",
       "0  2016-03-24                 0       70435 2016-04-07 03:16:57  \n",
       "1  2016-03-24                 0       66954 2016-04-07 01:46:50  \n",
       "2  2016-03-14                 0       90480 2016-04-05 12:47:46  \n",
       "3  2016-03-17                 0       91074 2016-03-17 17:40:17  \n",
       "4  2016-03-31                 0       60437 2016-04-06 10:17:21  "
      ]
     },
     "execution_count": 4,
     "metadata": {},
     "output_type": "execute_result"
    }
   ],
   "source": [
    "df.head()"
   ]
  },
  {
   "cell_type": "markdown",
   "metadata": {},
   "source": [
    "<div class=\"alert alert-warning\">\n",
    "    <h2> Комментарий ревьюера <a class=\"tocSkip\"> </h2>\n",
    "    \n",
    "<b>Некоторые замечания и рекомендации⚠️:</b> \n",
    "\n",
    "Метод `.print()` не очень подходит для работы с таблицами типа `pd.DataFrame`, так как выводит их на экран просто как отформатированный текст. Для отображения небольших таблиц можно воспользоваться методом `.head()`, для таблиц побольше - модулем `display`.\n",
    "        \n",
    "</div>"
   ]
  },
  {
   "cell_type": "markdown",
   "metadata": {},
   "source": [
    "<div class=\"alert alert-info\">\n",
    "<h2> Комментарий студента <a class=\"tocSkip\"> </h2>\n",
    "\n",
    "*Поправил* ."
   ]
  },
  {
   "cell_type": "markdown",
   "metadata": {},
   "source": [
    "<div class=\"alert alert-success\">\n",
    "<h2> Комментарий ревьюера v.2 <a class=\"tocSkip\"> </h2>\n",
    "\n",
    "<b>Все отлично!👍:</b> Учтено."
   ]
  },
  {
   "cell_type": "code",
   "execution_count": 5,
   "metadata": {},
   "outputs": [
    {
     "data": {
      "text/plain": [
       "354369"
      ]
     },
     "execution_count": 5,
     "metadata": {},
     "output_type": "execute_result"
    }
   ],
   "source": [
    "df_initial_size = df.shape[0]\n",
    "df_initial_size"
   ]
  },
  {
   "cell_type": "markdown",
   "metadata": {},
   "source": [
    "### Вывод "
   ]
  },
  {
   "cell_type": "markdown",
   "metadata": {},
   "source": [
    "Данные загружены и соответствуют описанию."
   ]
  },
  {
   "cell_type": "markdown",
   "metadata": {},
   "source": [
    "## Предобработка"
   ]
  },
  {
   "cell_type": "markdown",
   "metadata": {},
   "source": [
    "<div class=\"alert alert-success\">\n",
    "<h2> Комментарий ревьюера <a class=\"tocSkip\"> </h2>\n",
    "\n",
    "<b>Все отлично!👍:</b> Даты приведены к нужному типу."
   ]
  },
  {
   "cell_type": "markdown",
   "metadata": {},
   "source": [
    "<div class=\"alert alert-info\">\n",
    "<h2> Комментарий студента <a class=\"tocSkip\"> </h2>\n",
    "\n",
    "Удалил т.к. даты спарсил при чтении csv."
   ]
  },
  {
   "cell_type": "markdown",
   "metadata": {},
   "source": [
    "<div class=\"alert alert-success\">\n",
    "<h2> Комментарий ревьюера v.2 <a class=\"tocSkip\"> </h2>\n",
    "\n",
    "<b>Все отлично!👍:</b> Окей, принято:)"
   ]
  },
  {
   "cell_type": "markdown",
   "metadata": {},
   "source": [
    "### Дубликаты."
   ]
  },
  {
   "cell_type": "markdown",
   "metadata": {},
   "source": [
    "Посмотрим есть ли дубликаты и удалим их."
   ]
  },
  {
   "cell_type": "code",
   "execution_count": 6,
   "metadata": {},
   "outputs": [
    {
     "data": {
      "text/plain": [
       "89"
      ]
     },
     "execution_count": 6,
     "metadata": {},
     "output_type": "execute_result"
    }
   ],
   "source": [
    "df.drop('DateCrawled',axis=1).duplicated().sum()"
   ]
  },
  {
   "cell_type": "code",
   "execution_count": 7,
   "metadata": {},
   "outputs": [],
   "source": [
    "df = df.loc[~(df.drop('DateCrawled',axis=1).duplicated())]"
   ]
  },
  {
   "cell_type": "markdown",
   "metadata": {},
   "source": [
    "<div class=\"alert alert-success\">\n",
    "<h2> Комментарий ревьюера <a class=\"tocSkip\"> </h2>\n",
    "\n",
    "<b>Все отлично!👍:</b> Найдены и удалены явные дубликаты."
   ]
  },
  {
   "cell_type": "markdown",
   "metadata": {},
   "source": [
    "### Категорийные признаки"
   ]
  },
  {
   "cell_type": "markdown",
   "metadata": {},
   "source": [
    "Посмотрим нет ли опечаток или неявных дубликатов."
   ]
  },
  {
   "cell_type": "code",
   "execution_count": 8,
   "metadata": {},
   "outputs": [
    {
     "name": "stdout",
     "output_type": "stream",
     "text": [
      "[nan 'coupe' 'suv' 'small' 'sedan' 'convertible' 'bus' 'wagon' 'other']\n",
      "['manual' 'auto' nan]\n",
      "['golf' nan 'grand' 'fabia' '3er' '2_reihe' 'other' 'c_max' '3_reihe'\n",
      " 'passat' 'navara' 'ka' 'polo' 'twingo' 'a_klasse' 'scirocco' '5er'\n",
      " 'meriva' 'arosa' 'c4' 'civic' 'transporter' 'punto' 'e_klasse' 'clio'\n",
      " 'kadett' 'kangoo' 'corsa' 'one' 'fortwo' '1er' 'b_klasse' 'signum'\n",
      " 'astra' 'a8' 'jetta' 'fiesta' 'c_klasse' 'micra' 'vito' 'sprinter' '156'\n",
      " 'escort' 'forester' 'xc_reihe' 'scenic' 'a4' 'a1' 'insignia' 'combo'\n",
      " 'focus' 'tt' 'a6' 'jazz' 'omega' 'slk' '7er' '80' '147' '100' 'z_reihe'\n",
      " 'sportage' 'sorento' 'v40' 'ibiza' 'mustang' 'eos' 'touran' 'getz' 'a3'\n",
      " 'almera' 'megane' 'lupo' 'r19' 'zafira' 'caddy' 'mondeo' 'cordoba' 'colt'\n",
      " 'impreza' 'vectra' 'berlingo' 'tiguan' 'i_reihe' 'espace' 'sharan'\n",
      " '6_reihe' 'panda' 'up' 'seicento' 'ceed' '5_reihe' 'yeti' 'octavia' 'mii'\n",
      " 'rx_reihe' '6er' 'modus' 'fox' 'matiz' 'beetle' 'c1' 'rio' 'touareg'\n",
      " 'logan' 'spider' 'cuore' 's_max' 'a2' 'galaxy' 'c3' 'viano' 's_klasse'\n",
      " '1_reihe' 'avensis' 'roomster' 'sl' 'kaefer' 'santa' 'cooper' 'leon'\n",
      " '4_reihe' 'a5' '500' 'laguna' 'ptcruiser' 'clk' 'primera' 'x_reihe'\n",
      " 'exeo' '159' 'transit' 'juke' 'qashqai' 'carisma' 'accord' 'corolla'\n",
      " 'lanos' 'phaeton' 'verso' 'swift' 'rav' 'picanto' 'boxster' 'kalos'\n",
      " 'superb' 'stilo' 'alhambra' 'mx_reihe' 'roadster' 'ypsilon' 'cayenne'\n",
      " 'galant' 'justy' '90' 'sirion' 'crossfire' 'agila' 'duster' 'cr_reihe'\n",
      " 'v50' 'c_reihe' 'v_klasse' 'm_klasse' 'yaris' 'c5' 'aygo' 'cc' 'carnival'\n",
      " 'fusion' '911' 'bora' 'forfour' 'm_reihe' 'cl' 'tigra' '300c' 'spark'\n",
      " 'v70' 'kuga' 'x_type' 'ducato' 's_type' 'x_trail' 'toledo' 'altea'\n",
      " 'voyager' 'calibra' 'bravo' 'antara' 'tucson' 'citigo' 'jimny' 'wrangler'\n",
      " 'lybra' 'q7' 'lancer' 'captiva' 'c2' 'discovery' 'freelander' 'sandero'\n",
      " 'note' '900' 'cherokee' 'clubman' 'samara' 'defender' '601' 'cx_reihe'\n",
      " 'legacy' 'pajero' 'auris' 'niva' 's60' 'nubira' 'vivaro' 'g_klasse'\n",
      " 'lodgy' '850' 'range_rover' 'q3' 'serie_2' 'glk' 'charade' 'croma'\n",
      " 'outlander' 'doblo' 'musa' 'move' '9000' 'v60' '145' 'aveo' '200' 'b_max'\n",
      " 'range_rover_sport' 'terios' 'rangerover' 'q5' 'range_rover_evoque'\n",
      " 'materia' 'delta' 'gl' 'kalina' 'amarok' 'elefantino' 'i3' 'kappa'\n",
      " 'serie_3' 'serie_1']\n",
      "['petrol' 'gasoline' nan 'lpg' 'other' 'hybrid' 'cng' 'electric']\n",
      "['volkswagen' 'audi' 'jeep' 'skoda' 'bmw' 'peugeot' 'ford' 'mazda'\n",
      " 'nissan' 'renault' 'mercedes_benz' 'opel' 'seat' 'citroen' 'honda' 'fiat'\n",
      " 'mini' 'smart' 'hyundai' 'sonstige_autos' 'alfa_romeo' 'subaru' 'volvo'\n",
      " 'mitsubishi' 'kia' 'suzuki' 'lancia' 'toyota' 'chevrolet' 'dacia'\n",
      " 'daihatsu' 'trabant' 'saab' 'chrysler' 'jaguar' 'daewoo' 'porsche'\n",
      " 'rover' 'land_rover' 'lada']\n",
      "[nan 'yes' 'no']\n"
     ]
    }
   ],
   "source": [
    "df_cat_columns = ['VehicleType','Gearbox','Model','FuelType','Brand','Repaired']\n",
    "for i in df_cat_columns:\n",
    "    print(df[i].unique())"
   ]
  },
  {
   "cell_type": "markdown",
   "metadata": {},
   "source": [
    "Как известно 'petrol' 'gasoline' это одно и тоже . 'petrol' пользутся в GB , 'gasoline' в С.Америке"
   ]
  },
  {
   "cell_type": "code",
   "execution_count": 9,
   "metadata": {},
   "outputs": [
    {
     "data": {
      "text/plain": [
       "array(['petrol', nan, 'lpg', 'other', 'hybrid', 'cng', 'electric'],\n",
       "      dtype=object)"
      ]
     },
     "execution_count": 9,
     "metadata": {},
     "output_type": "execute_result"
    }
   ],
   "source": [
    "df.loc[df['FuelType']=='gasoline','FuelType']='petrol'\n",
    "df['FuelType'].unique()"
   ]
  },
  {
   "cell_type": "markdown",
   "metadata": {},
   "source": [
    "<div class=\"alert alert-success\">\n",
    "<h2> Комментарий ревьюера <a class=\"tocSkip\"> </h2>\n",
    "\n",
    "<b>Все отлично!👍:</b> Молодец, что обработал этот дубликат."
   ]
  },
  {
   "cell_type": "markdown",
   "metadata": {},
   "source": [
    "<div class=\"alert alert-warning\">\n",
    "    <h2> Комментарий ревьюера <a class=\"tocSkip\"> </h2>\n",
    "    \n",
    "<b>Некоторые замечания и рекомендации⚠️:</b> \n",
    "        \n",
    "Обрати внимание на ряд других неявных дубликатов:\n",
    "        \n",
    "1. `Model` - значения `rangerover` и `range_rover` аналогично характеризуют одну модель, можно также привести к одной форме.\n",
    "        \n",
    "2. `Brand` - значения `rover` и `land_rover` аналогично описывают одно и то же."
   ]
  },
  {
   "cell_type": "code",
   "execution_count": 10,
   "metadata": {},
   "outputs": [],
   "source": [
    "df.loc[df['Model']=='rangerover','Model']='range_rover'"
   ]
  },
  {
   "cell_type": "markdown",
   "metadata": {},
   "source": [
    "Про rover я не уверен судя по вики это другой бренд, который перестал существовать в 2005. Но поскольку их мало , то ничего не потеряем обьединив их. "
   ]
  },
  {
   "cell_type": "code",
   "execution_count": 11,
   "metadata": {},
   "outputs": [],
   "source": [
    "df.loc[df['Brand']=='rover','Brand']='land_rover'"
   ]
  },
  {
   "cell_type": "markdown",
   "metadata": {},
   "source": [
    "<div class=\"alert alert-info\">\n",
    "<h2> Комментарий студента <a class=\"tocSkip\"> </h2>\n",
    "    \n",
    "Поправил"
   ]
  },
  {
   "cell_type": "markdown",
   "metadata": {},
   "source": [
    "<div class=\"alert alert-success\">\n",
    "<h2> Комментарий ревьюера v.2 <a class=\"tocSkip\"> </h2>\n",
    "\n",
    "<b>Все отлично!👍:</b> Учтено."
   ]
  },
  {
   "cell_type": "markdown",
   "metadata": {},
   "source": [
    "### Аномалии"
   ]
  },
  {
   "cell_type": "markdown",
   "metadata": {},
   "source": [
    "Посмотрим возможные аномалии."
   ]
  },
  {
   "cell_type": "code",
   "execution_count": 12,
   "metadata": {},
   "outputs": [
    {
     "data": {
      "text/html": [
       "<div>\n",
       "<style scoped>\n",
       "    .dataframe tbody tr th:only-of-type {\n",
       "        vertical-align: middle;\n",
       "    }\n",
       "\n",
       "    .dataframe tbody tr th {\n",
       "        vertical-align: top;\n",
       "    }\n",
       "\n",
       "    .dataframe thead th {\n",
       "        text-align: right;\n",
       "    }\n",
       "</style>\n",
       "<table border=\"1\" class=\"dataframe\">\n",
       "  <thead>\n",
       "    <tr style=\"text-align: right;\">\n",
       "      <th></th>\n",
       "      <th>Price</th>\n",
       "      <th>RegistrationYear</th>\n",
       "      <th>Power</th>\n",
       "      <th>Kilometer</th>\n",
       "      <th>RegistrationMonth</th>\n",
       "      <th>NumberOfPictures</th>\n",
       "      <th>PostalCode</th>\n",
       "    </tr>\n",
       "  </thead>\n",
       "  <tbody>\n",
       "    <tr>\n",
       "      <th>count</th>\n",
       "      <td>354280.000000</td>\n",
       "      <td>354280.000000</td>\n",
       "      <td>354280.000000</td>\n",
       "      <td>354280.000000</td>\n",
       "      <td>354280.000000</td>\n",
       "      <td>354280.0</td>\n",
       "      <td>354280.00000</td>\n",
       "    </tr>\n",
       "    <tr>\n",
       "      <th>mean</th>\n",
       "      <td>4416.458541</td>\n",
       "      <td>2004.234859</td>\n",
       "      <td>110.090256</td>\n",
       "      <td>128211.090098</td>\n",
       "      <td>5.714466</td>\n",
       "      <td>0.0</td>\n",
       "      <td>50507.16691</td>\n",
       "    </tr>\n",
       "    <tr>\n",
       "      <th>std</th>\n",
       "      <td>4514.138905</td>\n",
       "      <td>90.239242</td>\n",
       "      <td>189.872001</td>\n",
       "      <td>37906.417793</td>\n",
       "      <td>3.726473</td>\n",
       "      <td>0.0</td>\n",
       "      <td>25783.62594</td>\n",
       "    </tr>\n",
       "    <tr>\n",
       "      <th>min</th>\n",
       "      <td>0.000000</td>\n",
       "      <td>1000.000000</td>\n",
       "      <td>0.000000</td>\n",
       "      <td>5000.000000</td>\n",
       "      <td>0.000000</td>\n",
       "      <td>0.0</td>\n",
       "      <td>1067.00000</td>\n",
       "    </tr>\n",
       "    <tr>\n",
       "      <th>25%</th>\n",
       "      <td>1050.000000</td>\n",
       "      <td>1999.000000</td>\n",
       "      <td>69.000000</td>\n",
       "      <td>125000.000000</td>\n",
       "      <td>3.000000</td>\n",
       "      <td>0.0</td>\n",
       "      <td>30165.00000</td>\n",
       "    </tr>\n",
       "    <tr>\n",
       "      <th>50%</th>\n",
       "      <td>2700.000000</td>\n",
       "      <td>2003.000000</td>\n",
       "      <td>105.000000</td>\n",
       "      <td>150000.000000</td>\n",
       "      <td>6.000000</td>\n",
       "      <td>0.0</td>\n",
       "      <td>49406.00000</td>\n",
       "    </tr>\n",
       "    <tr>\n",
       "      <th>75%</th>\n",
       "      <td>6400.000000</td>\n",
       "      <td>2008.000000</td>\n",
       "      <td>143.000000</td>\n",
       "      <td>150000.000000</td>\n",
       "      <td>9.000000</td>\n",
       "      <td>0.0</td>\n",
       "      <td>71083.00000</td>\n",
       "    </tr>\n",
       "    <tr>\n",
       "      <th>max</th>\n",
       "      <td>20000.000000</td>\n",
       "      <td>9999.000000</td>\n",
       "      <td>20000.000000</td>\n",
       "      <td>150000.000000</td>\n",
       "      <td>12.000000</td>\n",
       "      <td>0.0</td>\n",
       "      <td>99998.00000</td>\n",
       "    </tr>\n",
       "  </tbody>\n",
       "</table>\n",
       "</div>"
      ],
      "text/plain": [
       "               Price  RegistrationYear          Power      Kilometer  \\\n",
       "count  354280.000000     354280.000000  354280.000000  354280.000000   \n",
       "mean     4416.458541       2004.234859     110.090256  128211.090098   \n",
       "std      4514.138905         90.239242     189.872001   37906.417793   \n",
       "min         0.000000       1000.000000       0.000000    5000.000000   \n",
       "25%      1050.000000       1999.000000      69.000000  125000.000000   \n",
       "50%      2700.000000       2003.000000     105.000000  150000.000000   \n",
       "75%      6400.000000       2008.000000     143.000000  150000.000000   \n",
       "max     20000.000000       9999.000000   20000.000000  150000.000000   \n",
       "\n",
       "       RegistrationMonth  NumberOfPictures    PostalCode  \n",
       "count      354280.000000          354280.0  354280.00000  \n",
       "mean            5.714466               0.0   50507.16691  \n",
       "std             3.726473               0.0   25783.62594  \n",
       "min             0.000000               0.0    1067.00000  \n",
       "25%             3.000000               0.0   30165.00000  \n",
       "50%             6.000000               0.0   49406.00000  \n",
       "75%             9.000000               0.0   71083.00000  \n",
       "max            12.000000               0.0   99998.00000  "
      ]
     },
     "execution_count": 12,
     "metadata": {},
     "output_type": "execute_result"
    }
   ],
   "source": [
    "df.describe()"
   ]
  },
  {
   "cell_type": "markdown",
   "metadata": {},
   "source": [
    "Отбросим данные со странной датой регистрации. В таблице не может быть объявлений опубликованых раньше даты регистрации."
   ]
  },
  {
   "cell_type": "code",
   "execution_count": 13,
   "metadata": {},
   "outputs": [
    {
     "data": {
      "text/plain": [
       "15868"
      ]
     },
     "execution_count": 13,
     "metadata": {},
     "output_type": "execute_result"
    }
   ],
   "source": [
    "df.loc[(df['RegistrationYear']>df['DateCrawled'].dt.year)|(df['RegistrationYear']<1970),'Price'].count()"
   ]
  },
  {
   "cell_type": "code",
   "execution_count": 14,
   "metadata": {},
   "outputs": [],
   "source": [
    "df = df.loc[(df['RegistrationYear']<=df['DateCrawled'].dt.year)&(df['RegistrationYear']>=1970)]"
   ]
  },
  {
   "cell_type": "markdown",
   "metadata": {},
   "source": [
    "<div class=\"alert alert-success\">\n",
    "<h2> Комментарий ревьюера <a class=\"tocSkip\"> </h2>\n",
    "\n",
    "<b>Все отлично!👍</b> \n",
    "    \n",
    "По нижней границе фильтрация корректна."
   ]
  },
  {
   "cell_type": "markdown",
   "metadata": {},
   "source": [
    "<div class=\"alert alert-block alert-danger\">\n",
    "<h2> Комментарий ревьюера <a class=\"tocSkip\"></h2>\n",
    "\n",
    "    \n",
    "<b>На доработку❌:</b>\n",
    "\n",
    "По верхней границе год регистрации нужно синхронизировать с датой выгрузки данных из базы: в таблице не может быть объявлений моложе даты выгрузки, иначе это были бы просто данные из будущего."
   ]
  },
  {
   "cell_type": "markdown",
   "metadata": {},
   "source": [
    "<div class=\"alert alert-info\">\n",
    "<h2> Комментарий студента <a class=\"tocSkip\"> </h2>\n",
    "    \n",
    "Поправил"
   ]
  },
  {
   "cell_type": "markdown",
   "metadata": {},
   "source": [
    "<div class=\"alert alert-success\">\n",
    "<h2> Комментарий ревьюера v.2 <a class=\"tocSkip\"> </h2>\n",
    "\n",
    "<b>Все отлично!👍:</b> Учтено."
   ]
  },
  {
   "cell_type": "markdown",
   "metadata": {},
   "source": [
    "Отбросим данные со странной ценой. Которая явно не рыночная."
   ]
  },
  {
   "cell_type": "code",
   "execution_count": 15,
   "metadata": {},
   "outputs": [
    {
     "data": {
      "text/plain": [
       "39727"
      ]
     },
     "execution_count": 15,
     "metadata": {},
     "output_type": "execute_result"
    }
   ],
   "source": [
    "df.loc[(df['Price']<=500),'Price'].count()"
   ]
  },
  {
   "cell_type": "code",
   "execution_count": 16,
   "metadata": {},
   "outputs": [],
   "source": [
    "df = df.loc[(df['Price']>500)]"
   ]
  },
  {
   "cell_type": "markdown",
   "metadata": {},
   "source": [
    "<div class=\"alert alert-success\">\n",
    "<h2> Комментарий ревьюера <a class=\"tocSkip\"> </h2>\n",
    "\n",
    "<b>Все отлично!👍</b> \n",
    "    \n",
    "Удалили околонулевые значения цен."
   ]
  },
  {
   "cell_type": "markdown",
   "metadata": {},
   "source": [
    "<div class=\"alert alert-warning\">\n",
    "    <h2> Комментарий ревьюера <a class=\"tocSkip\"> </h2>\n",
    "    \n",
    "<b>Некоторые замечания и рекомендации⚠️:</b> \n",
    "\n",
    "Может быть полезно также удалить неадекватно низкие значения цен: в пределах цен до 500-1000 евро вряд ли можно купить полноценный автомобиль."
   ]
  },
  {
   "cell_type": "markdown",
   "metadata": {},
   "source": [
    "<div class=\"alert alert-info\">\n",
    "<h2> Комментарий студента <a class=\"tocSkip\"> </h2>\n",
    "    \n",
    "Хорошо увеличил нижнюю границу. Подержаные машины вполне могут стоить  500-1000 евро. Снашими пошлинами это конечно кажется фантастикой)"
   ]
  },
  {
   "cell_type": "markdown",
   "metadata": {},
   "source": [
    "<div class=\"alert alert-success\">\n",
    "<h2> Комментарий ревьюера v.2 <a class=\"tocSkip\"> </h2>\n",
    "\n",
    "<b>Все отлично!👍:</b> Да, что-то из ряда вон:)"
   ]
  },
  {
   "cell_type": "markdown",
   "metadata": {},
   "source": [
    "Отбросим данные со странной мощностью. Суперкаров судя по моделям в таблице нет. соответственно и мощность должна быть не выше 800 л.с. "
   ]
  },
  {
   "cell_type": "code",
   "execution_count": 17,
   "metadata": {},
   "outputs": [
    {
     "data": {
      "text/plain": [
       "24603"
      ]
     },
     "execution_count": 17,
     "metadata": {},
     "output_type": "execute_result"
    }
   ],
   "source": [
    "df.loc[(df['Power']>800)|(df['Power']<10),'Price'].count()"
   ]
  },
  {
   "cell_type": "code",
   "execution_count": 18,
   "metadata": {},
   "outputs": [],
   "source": [
    "df = df.loc[(df['Power']<800)&(df['Power']>10)]"
   ]
  },
  {
   "cell_type": "markdown",
   "metadata": {},
   "source": [
    "<div class=\"alert alert-success\">\n",
    "<h2> Комментарий ревьюера <a class=\"tocSkip\"> </h2>\n",
    "\n",
    "<b>Все отлично!👍</b> \n",
    "    \n",
    "Удалили аномалии по верхней границе мощности."
   ]
  },
  {
   "cell_type": "markdown",
   "metadata": {},
   "source": [
    "<div class=\"alert alert-block alert-danger\">\n",
    "<h2> Комментарий ревьюера <a class=\"tocSkip\"></h2>\n",
    "\n",
    "    \n",
    "<b>На доработку❌:</b> Обязательно нужно удалить нулевые значения."
   ]
  },
  {
   "cell_type": "markdown",
   "metadata": {},
   "source": [
    "<div class=\"alert alert-success\">\n",
    "<h2> Комментарий ревьюера v.2 <a class=\"tocSkip\"> </h2>\n",
    "\n",
    "<b>Все отлично!👍:</b> Учтено."
   ]
  },
  {
   "cell_type": "markdown",
   "metadata": {},
   "source": [
    "<div class=\"alert alert-warning\">\n",
    "    <h2> Комментарий ревьюера <a class=\"tocSkip\"> </h2>\n",
    "    \n",
    "<b>Некоторые замечания и рекомендации⚠️:</b> \n",
    "\n",
    "Может быть полезно также удалить околонулевые значения мощности - некоторые значения этого признака в таблице напоминают, скорее, телегу с конём, чем автомобиль:)"
   ]
  },
  {
   "cell_type": "markdown",
   "metadata": {},
   "source": [
    "<div class=\"alert alert-info\">\n",
    "<h2> Комментарий студента <a class=\"tocSkip\"> </h2>\n",
    "    \n",
    "Поправил."
   ]
  },
  {
   "cell_type": "markdown",
   "metadata": {},
   "source": [
    "<div class=\"alert alert-success\">\n",
    "<h2> Комментарий ревьюера v.2 <a class=\"tocSkip\"> </h2>\n",
    "\n",
    "<b>Все отлично!👍:</b> Учтено."
   ]
  },
  {
   "cell_type": "markdown",
   "metadata": {},
   "source": [
    "Удаляем признак NumberOfPictures т.к. он везде равен 0."
   ]
  },
  {
   "cell_type": "code",
   "execution_count": 19,
   "metadata": {},
   "outputs": [
    {
     "data": {
      "text/plain": [
       "0"
      ]
     },
     "execution_count": 19,
     "metadata": {},
     "output_type": "execute_result"
    }
   ],
   "source": [
    "df.loc[~(df['NumberOfPictures']==0),'Price'].count()"
   ]
  },
  {
   "cell_type": "code",
   "execution_count": 20,
   "metadata": {},
   "outputs": [],
   "source": [
    "df = df.drop('NumberOfPictures', axis=1)"
   ]
  },
  {
   "cell_type": "markdown",
   "metadata": {},
   "source": [
    "<div class=\"alert alert-success\">\n",
    "<h2> Комментарий ревьюера <a class=\"tocSkip\"> </h2>\n",
    "\n",
    "<b>Все отлично!👍</b> Верно, признак бесполезен для моделирования."
   ]
  },
  {
   "cell_type": "markdown",
   "metadata": {},
   "source": [
    "### Пропуски."
   ]
  },
  {
   "cell_type": "code",
   "execution_count": 21,
   "metadata": {},
   "outputs": [
    {
     "data": {
      "text/plain": [
       "DateCrawled              0\n",
       "Price                    0\n",
       "VehicleType           8096\n",
       "RegistrationYear         0\n",
       "Gearbox               4360\n",
       "Power                    0\n",
       "Model                 9189\n",
       "Kilometer                0\n",
       "RegistrationMonth        0\n",
       "FuelType             12248\n",
       "Brand                    0\n",
       "Repaired             35653\n",
       "DateCreated              0\n",
       "PostalCode               0\n",
       "LastSeen                 0\n",
       "dtype: int64"
      ]
     },
     "execution_count": 21,
     "metadata": {},
     "output_type": "execute_result"
    }
   ],
   "source": [
    "df.isna().sum()"
   ]
  },
  {
   "cell_type": "markdown",
   "metadata": {},
   "source": [
    "В случае с FuelType логично заполнить petrol как самый популярный вариант с большим отрывом."
   ]
  },
  {
   "cell_type": "code",
   "execution_count": 22,
   "metadata": {},
   "outputs": [],
   "source": [
    "df['FuelType'] = df['FuelType'].fillna('unknown')"
   ]
  },
  {
   "cell_type": "markdown",
   "metadata": {},
   "source": [
    "Так же поступим и с Repaired,Gearbox,VehicleType. (Хотя данных у нас много, если результат будет не приемлемый ,то можно будет попробовать удалить пропуски.)"
   ]
  },
  {
   "cell_type": "code",
   "execution_count": 23,
   "metadata": {},
   "outputs": [],
   "source": [
    "df['Repaired'] = df['Repaired'].fillna('unknown')\n",
    "df['Gearbox'] = df['Gearbox'].fillna('unknown')\n",
    "df['VehicleType'] = df['VehicleType'].fillna('unknown')"
   ]
  },
  {
   "cell_type": "markdown",
   "metadata": {},
   "source": [
    "<div class=\"alert alert-success\">\n",
    "<h2> Комментарий ревьюера <a class=\"tocSkip\"> </h2>\n",
    "\n",
    "<b>Все отлично!👍</b> \n",
    "    \n",
    "Пропуски обработаны - отлично!"
   ]
  },
  {
   "cell_type": "markdown",
   "metadata": {},
   "source": [
    "<div class=\"alert alert-warning\">\n",
    "    <h2> Комментарий ревьюера <a class=\"tocSkip\"> </h2>\n",
    "    \n",
    "<b>Некоторые замечания и рекомендации⚠️:</b> \n",
    "\n",
    "В целом любая импутация пропусков сопряжена с риском внесения в модель ошибок, а удаление - с потерей обучающих примеров. При этом в случае удаления мы теряем часть бизнес-сценариев, так как ситуации, когда клиент не указывает какие-то параметры автомобиля - нередкость, и в идеале модель должна уметь обрабатывать и их.\n",
    "        \n",
    "При работе с категориальными признаками стоит использовать заглушки в виде новых значений категорий для заполнения пропусков: это позволит как сохранить наблюдения вместо их удаления, так и избавит нас от возможных ошибок при эмпирическом импутировании."
   ]
  },
  {
   "cell_type": "markdown",
   "metadata": {},
   "source": [
    "<div class=\"alert alert-info\">\n",
    "<h2> Комментарий студента <a class=\"tocSkip\"> </h2>\n",
    "    \n",
    "Спасибо. Попробуем с заглушками. "
   ]
  },
  {
   "cell_type": "markdown",
   "metadata": {},
   "source": [
    "<div class=\"alert alert-success\">\n",
    "<h2> Комментарий ревьюера v.2 <a class=\"tocSkip\"> </h2>\n",
    "\n",
    "<b>Все отлично!👍:</b> Учтено."
   ]
  },
  {
   "cell_type": "markdown",
   "metadata": {},
   "source": [
    "### Вывод"
   ]
  },
  {
   "cell_type": "markdown",
   "metadata": {},
   "source": [
    "Выполнили педобработку: удалили дубликаты, аномалии и пропуски. Mожно переходить к анализу. Доля оставшихся данных:"
   ]
  },
  {
   "cell_type": "code",
   "execution_count": 24,
   "metadata": {},
   "outputs": [
    {
     "data": {
      "text/plain": [
       "0.773411331126594"
      ]
     },
     "execution_count": 24,
     "metadata": {},
     "output_type": "execute_result"
    }
   ],
   "source": [
    "df.shape[0]/df_initial_size"
   ]
  },
  {
   "cell_type": "markdown",
   "metadata": {},
   "source": [
    "## Исследовательский анализ"
   ]
  },
  {
   "cell_type": "markdown",
   "metadata": {},
   "source": [
    "### Информативные столбцы."
   ]
  },
  {
   "cell_type": "markdown",
   "metadata": {},
   "source": [
    "Цена зависит от свойств сомой машины и спроса. Таким образом DateCrawled и LastSeen как и RegistrationMonth не должны оказывать влияние на цену.\n",
    "DateCreated возможно имеет влияние на цену. Но новые данные будут лежать вне уже существующего диапазона по этому эту хависимость так же не будем учитывать.  "
   ]
  },
  {
   "cell_type": "code",
   "execution_count": 25,
   "metadata": {},
   "outputs": [
    {
     "name": "stdout",
     "output_type": "stream",
     "text": [
      "2015-03-20 00:00:00 2016-04-07 00:00:00\n"
     ]
    }
   ],
   "source": [
    "print(df['DateCreated'].min(), df['DateCreated'].max())"
   ]
  },
  {
   "cell_type": "markdown",
   "metadata": {},
   "source": [
    "Моделей автомобилей много они появляются новые, исчезают старые, выходят новые версии и т.д. таким образом будем учитывать только бренд который имеет гораздо большую стабильность. "
   ]
  },
  {
   "cell_type": "markdown",
   "metadata": {},
   "source": [
    "PostalCode содержит в себе зашифорванную информацию о положении в стране, но страны в данных нет по этому так же не будем принимать в расчет эту информацию. "
   ]
  },
  {
   "cell_type": "code",
   "execution_count": 26,
   "metadata": {},
   "outputs": [
    {
     "name": "stdout",
     "output_type": "stream",
     "text": [
      "1067 99998\n"
     ]
    }
   ],
   "source": [
    "print(df['PostalCode'].min(), df['PostalCode'].max())"
   ]
  },
  {
   "cell_type": "markdown",
   "metadata": {},
   "source": [
    "Для более читаемого вида перейдем от километров в тысячам км."
   ]
  },
  {
   "cell_type": "code",
   "execution_count": 27,
   "metadata": {},
   "outputs": [],
   "source": [
    "df['Kilometer'] = (df['Kilometer']/1000).astype(int)"
   ]
  },
  {
   "cell_type": "markdown",
   "metadata": {},
   "source": [
    "<div class=\"alert alert-success\">\n",
    "<h2> Комментарий ревьюера <a class=\"tocSkip\"> </h2>\n",
    "\n",
    "<b>Все отлично!👍</b> \n",
    "    \n",
    "Согласен, так удобнее:)"
   ]
  },
  {
   "cell_type": "code",
   "execution_count": 28,
   "metadata": {},
   "outputs": [],
   "source": [
    "df = df.drop(['DateCreated','DateCrawled','LastSeen','RegistrationMonth','PostalCode'],axis=1)"
   ]
  },
  {
   "cell_type": "markdown",
   "metadata": {},
   "source": [
    "<div class=\"alert alert-success\">\n",
    "<h2> Комментарий ревьюера <a class=\"tocSkip\"> </h2>\n",
    "\n",
    "<b>Все отлично!👍</b> \n",
    "    \n",
    "Удалены лишние признаки."
   ]
  },
  {
   "cell_type": "markdown",
   "metadata": {},
   "source": [
    "<div class=\"alert alert-block alert-danger\">\n",
    "<h2> Комментарий ревьюера <a class=\"tocSkip\"></h2>\n",
    "\n",
    "    \n",
    "<b>На доработку❌:</b> Признак `Model` интуитивно кажется очень важными для моделирования, поэтому его удаление нужно хорошо аргументировать."
   ]
  },
  {
   "cell_type": "markdown",
   "metadata": {},
   "source": [
    "<div class=\"alert alert-info\">\n",
    "<h2> Комментарий студента <a class=\"tocSkip\"> </h2>\n",
    "\n",
    "Кроме того что написал выше могу добавить , что \n",
    "- Модель и бренд не независимые поля и нижно оставлять только одно из них.\n",
    "- Если пытаться разбить данные на выборки со всеми моделями, то часть не попадет в обучающую либо в тестовую. \n",
    "- В результате обучения нужная точность достигнута и без этого признака."
   ]
  },
  {
   "cell_type": "markdown",
   "metadata": {},
   "source": [
    "<div class=\"alert alert-block alert-danger\">\n",
    "<h2> Комментарий ревьюера v.2 <a class=\"tocSkip\"></h2>\n",
    "\n",
    "    \n",
    "<b>На доработку❌:</b> Давай пройдёмся по аргументам:\n",
    "    \n",
    "1. Скоррелированность этих признаков может влиять только на линейную модель, а у тебя также исследуется бустинг - для этой модели данный признак может быть важен. Хорошим решением было бы посмотреть на корреляцию модели и цены - уверен, она будет высокой.\n",
    "    \n",
    "2. Для того, чтобы корректно обрабатывать такие случаи, мы настраиваем энкодеры на бесперебойную работу - это не приведёт нас к ошибкам.\n",
    "    \n",
    "3. Пусть трешхолд и был достигнут, но это хорошая возможность для повышения качества модели. Достижение `RMSE=2499` не говорит о том, что модель можно давать в прод - заказчик явно спросит, что можно сделать для улучшения качества.\n",
    "    \n",
    "Соглашусь, что вопрос дискусионный - если мои аргументы не найдут в тебе отклик, предлагаю проверить на кросс-валидации модель с этим признаком и без, чтобы поставить в этом вопросе аргументированную точку:)"
   ]
  },
  {
   "cell_type": "markdown",
   "metadata": {},
   "source": [
    "<div class=\"alert alert-info\">\n",
    "<h2> Комментарий студента V.2 <a class=\"tocSkip\"> </h2>\n",
    "\n",
    "Попробовал оставить модель и сравнить. 1740 без признака модели и 1695 с признаком. Действительно стало лучше."
   ]
  },
  {
   "cell_type": "markdown",
   "metadata": {},
   "source": [
    "<div class=\"alert alert-success\">\n",
    "<h2> Комментарий ревьюера v.3 <a class=\"tocSkip\"> </h2>\n",
    "\n",
    "<b>Все отлично!👍:</b> Отлично!"
   ]
  },
  {
   "cell_type": "markdown",
   "metadata": {},
   "source": [
    "<div class=\"alert alert-warning\">\n",
    "    <h2> Комментарий ревьюера <a class=\"tocSkip\"> </h2>\n",
    "    \n",
    "<b>Некоторые замечания и рекомендации⚠️:</b> В целом довольно избыточно создавать `Kkilometr` и удалять `Kilometer` - можно было бы просто изменить исходынй признак."
   ]
  },
  {
   "cell_type": "markdown",
   "metadata": {},
   "source": [
    "<div class=\"alert alert-info\">\n",
    "<h2> Комментарий студента <a class=\"tocSkip\"> </h2>\n",
    "    \n",
    "Поправил."
   ]
  },
  {
   "cell_type": "markdown",
   "metadata": {},
   "source": [
    "<div class=\"alert alert-success\">\n",
    "<h2> Комментарий ревьюера v.2 <a class=\"tocSkip\"> </h2>\n",
    "\n",
    "<b>Все отлично!👍</b> \n",
    "    \n",
    "Учтено."
   ]
  },
  {
   "cell_type": "code",
   "execution_count": 29,
   "metadata": {},
   "outputs": [
    {
     "data": {
      "text/plain": [
       "['Price', 'RegistrationYear', 'Power', 'Kilometer']"
      ]
     },
     "execution_count": 29,
     "metadata": {},
     "output_type": "execute_result"
    }
   ],
   "source": [
    "dis = df.select_dtypes(include=['int']).columns.tolist()\n",
    "dis"
   ]
  },
  {
   "cell_type": "code",
   "execution_count": 30,
   "metadata": {},
   "outputs": [
    {
     "data": {
      "text/plain": [
       "['VehicleType', 'Gearbox', 'Model', 'FuelType', 'Brand', 'Repaired']"
      ]
     },
     "execution_count": 30,
     "metadata": {},
     "output_type": "execute_result"
    }
   ],
   "source": [
    "cat = df.select_dtypes(exclude=['int']).columns.tolist()\n",
    "cat"
   ]
  },
  {
   "cell_type": "markdown",
   "metadata": {},
   "source": [
    "### Гистограммы"
   ]
  },
  {
   "cell_type": "code",
   "execution_count": 31,
   "metadata": {},
   "outputs": [
    {
     "data": {
      "image/png": "[encoded data removed]",
      "text/plain": [
       "<Figure size 720x288 with 2 Axes>"
      ]
     },
     "metadata": {
      "needs_background": "light"
     },
     "output_type": "display_data"
    },
    {
     "data": {
      "image/png": "[encoded data removed]",
      "text/plain": [
       "<Figure size 720x288 with 2 Axes>"
      ]
     },
     "metadata": {
      "needs_background": "light"
     },
     "output_type": "display_data"
    },
    {
     "data": {
      "image/png": "[encoded data removed]",
      "text/plain": [
       "<Figure size 720x288 with 2 Axes>"
      ]
     },
     "metadata": {
      "needs_background": "light"
     },
     "output_type": "display_data"
    },
    {
     "data": {
      "image/png": "[encoded data removed]",
      "text/plain": [
       "<Figure size 720x288 with 2 Axes>"
      ]
     },
     "metadata": {
      "needs_background": "light"
     },
     "output_type": "display_data"
    }
   ],
   "source": [
    "for i in dis:\n",
    "    plt.figure(figsize=(10,4))\n",
    "    plt.subplot(1,2,1)\n",
    "    df[i].hist(bins=30)\n",
    "    plt.title(f'Зависимость числа машин от {i}')\n",
    "    plt.xlabel(i)\n",
    "    plt.ylabel('Число машин')\n",
    "    \n",
    "    plt.subplot(1,2,2)\n",
    "    df[i].plot(kind='box')\n",
    "    plt.title('')\n",
    "    plt.ylabel('')\n",
    "    \n",
    "    \n",
    "    plt.show()"
   ]
  },
  {
   "cell_type": "code",
   "execution_count": 32,
   "metadata": {},
   "outputs": [
    {
     "data": {
      "image/png": "[encoded data removed]",
      "text/plain": [
       "<Figure size 432x288 with 1 Axes>"
      ]
     },
     "metadata": {
      "needs_background": "light"
     },
     "output_type": "display_data"
    },
    {
     "data": {
      "image/png": "[encoded data removed]",
      "text/plain": [
       "<Figure size 432x288 with 1 Axes>"
      ]
     },
     "metadata": {
      "needs_background": "light"
     },
     "output_type": "display_data"
    },
    {
     "data": {
      "image/png": "[encoded data removed]",
      "text/plain": [
       "<Figure size 432x288 with 1 Axes>"
      ]
     },
     "metadata": {
      "needs_background": "light"
     },
     "output_type": "display_data"
    },
    {
     "data": {
      "image/png": "[encoded data removed]",
      "text/plain": [
       "<Figure size 432x288 with 1 Axes>"
      ]
     },
     "metadata": {
      "needs_background": "light"
     },
     "output_type": "display_data"
    },
    {
     "data": {
      "image/png": "[encoded data removed]",
      "text/plain": [
       "<Figure size 432x288 with 1 Axes>"
      ]
     },
     "metadata": {
      "needs_background": "light"
     },
     "output_type": "display_data"
    },
    {
     "data": {
      "image/png": "[encoded data removed]",
      "text/plain": [
       "<Figure size 432x288 with 1 Axes>"
      ]
     },
     "metadata": {
      "needs_background": "light"
     },
     "output_type": "display_data"
    }
   ],
   "source": [
    "for i in cat:\n",
    "    df.pivot_table(index=i,values='Price',aggfunc='count')\\\n",
    "    .sort_values(by='Price',ascending=False).head(20)\\\n",
    "    .plot(kind='bar',rot='75',legend=False)\n",
    "    plt.xlabel(i)\n",
    "    plt.ylabel('Число машин')\n",
    "    plt.show()"
   ]
  },
  {
   "cell_type": "code",
   "execution_count": 33,
   "metadata": {},
   "outputs": [
    {
     "data": {
      "text/plain": [
       "17585"
      ]
     },
     "execution_count": 33,
     "metadata": {},
     "output_type": "execute_result"
    }
   ],
   "source": [
    "df.loc[~(df['FuelType']=='petrol'),'FuelType'].count()"
   ]
  },
  {
   "cell_type": "markdown",
   "metadata": {},
   "source": [
    "### Вывод"
   ]
  },
  {
   "cell_type": "markdown",
   "metadata": {},
   "source": [
    "Данные распределены не нормально есть выбросы. В категорийных признаках есть дисбаланс классов. В случае FuelType видно сильный дисбаланс классов."
   ]
  },
  {
   "cell_type": "markdown",
   "metadata": {},
   "source": [
    "<div class=\"alert alert-success\">\n",
    "<h2> Комментарий ревьюера <a class=\"tocSkip\"> </h2>\n",
    "\n",
    "<b>Все отлично!👍</b> EDA признаков есть - отлично!"
   ]
  },
  {
   "cell_type": "markdown",
   "metadata": {},
   "source": [
    "## Корреляционный анализ"
   ]
  },
  {
   "cell_type": "markdown",
   "metadata": {},
   "source": [
    "Поскольку распределение признаков не является нормальным, для поиска корреляций будем использовать кореляции Спирмана и $\\phi_k$. Так же нарисуем матрицы рассеянья."
   ]
  },
  {
   "cell_type": "code",
   "execution_count": 34,
   "metadata": {},
   "outputs": [
    {
     "data": {
      "image/png": "[encoded data removed]",
      "text/plain": [
       "<Figure size 720x720 with 2 Axes>"
      ]
     },
     "metadata": {
      "needs_background": "light"
     },
     "output_type": "display_data"
    }
   ],
   "source": [
    "plt.figure(figsize=(10,10))\n",
    "sns.heatmap(df.corr(method='spearman'),annot=True, fmt='.2f')\n",
    "plt.show()"
   ]
  },
  {
   "cell_type": "code",
   "execution_count": 35,
   "metadata": {},
   "outputs": [
    {
     "data": {
      "image/png": "[encoded data removed]",
      "text/plain": [
       "<Figure size 720x720 with 2 Axes>"
      ]
     },
     "metadata": {
      "needs_background": "light"
     },
     "output_type": "display_data"
    }
   ],
   "source": [
    "plt.figure(figsize=(10,10))\n",
    "sns.heatmap(df.phik_matrix(interval_cols=['Price','Power']),annot=True, fmt='.2f')\n",
    "plt.show()"
   ]
  },
  {
   "cell_type": "markdown",
   "metadata": {},
   "source": [
    "<div class=\"alert alert-success\">\n",
    "<h2> Комментарий ревьюера <a class=\"tocSkip\"> </h2>\n",
    "\n",
    "<b>Все отлично!👍:</b>\n",
    "    \n",
    "Есть анализ корреляции - молодец, что используешь `phik` для анализа и нелинейных зависимостей, а также настраиваешь `interval_cols` для корректной оценки корреляции для переменных разного типа."
   ]
  },
  {
   "cell_type": "markdown",
   "metadata": {},
   "source": [
    "<div class=\"alert alert-block alert-danger\">\n",
    "<h2> Комментарий ревьюера <a class=\"tocSkip\"></h2>\n",
    "\n",
    "    \n",
    "<b>На доработку❌:</b>\n",
    "    \n",
    "`RegistrationYear` - дискретный признак, его не нужно передавать в `interval_cols`."
   ]
  },
  {
   "cell_type": "markdown",
   "metadata": {},
   "source": [
    "<div class=\"alert alert-info\">\n",
    "<h2> Комментарий студента <a class=\"tocSkip\"> </h2>\n",
    "    \n",
    "Поправил."
   ]
  },
  {
   "cell_type": "markdown",
   "metadata": {},
   "source": [
    "<div class=\"alert alert-success\">\n",
    "<h2> Комментарий ревьюера v.2 <a class=\"tocSkip\"> </h2>\n",
    "\n",
    "<b>Все отлично!👍</b> \n",
    "    \n",
    "Учтено."
   ]
  },
  {
   "cell_type": "code",
   "execution_count": 36,
   "metadata": {},
   "outputs": [
    {
     "data": {
      "image/png": "[encoded data removed]",
      "text/plain": [
       "<Figure size 720x720 with 16 Axes>"
      ]
     },
     "metadata": {
      "needs_background": "light"
     },
     "output_type": "display_data"
    }
   ],
   "source": [
    "pd.plotting.scatter_matrix(df.sample(1000),figsize=(10,10))\n",
    "plt.show()"
   ]
  },
  {
   "cell_type": "markdown",
   "metadata": {},
   "source": [
    "### Вывод "
   ]
  },
  {
   "cell_type": "markdown",
   "metadata": {},
   "source": [
    "Из матрицы $\\phi_k$ видно что зависимость целевого признака от FuelType слабая. Попробуем исключить этот признак из рассмотрения. С остальными признаками зависимость целевого есть , хотя например с RegistrationYear она не линейная."
   ]
  },
  {
   "cell_type": "code",
   "execution_count": 37,
   "metadata": {},
   "outputs": [],
   "source": [
    "df = df.drop('FuelType',axis=1)"
   ]
  },
  {
   "cell_type": "markdown",
   "metadata": {},
   "source": [
    "<div class=\"alert alert-success\">\n",
    "<h2> Комментарий ревьюера <a class=\"tocSkip\"> </h2>\n",
    "\n",
    "<b>Все отлично!👍:</b> Окей, тут удаление аргументировано!"
   ]
  },
  {
   "cell_type": "markdown",
   "metadata": {},
   "source": [
    "## Подготовка данных"
   ]
  },
  {
   "cell_type": "markdown",
   "metadata": {},
   "source": [
    "Разобьем выборки на обучающую и тестовую. Для ускорения обучения для обучения оставим малую часть."
   ]
  },
  {
   "cell_type": "code",
   "execution_count": 38,
   "metadata": {},
   "outputs": [
    {
     "data": {
      "text/plain": [
       "((205554, 8), (205554,))"
      ]
     },
     "execution_count": 38,
     "metadata": {},
     "output_type": "execute_result"
    }
   ],
   "source": [
    "# Создадим явно списки численных и категорийных величин. \n",
    "num = ['Power', 'Kilometer','RegistrationYear']\n",
    "cat = ['VehicleType','Gearbox','Brand','Repaired','Model']\n",
    "\n",
    "for i in cat:\n",
    "    df[i] = df[i].astype('category')\n",
    "\n",
    "\n",
    "X = df[num+cat]\n",
    "y = df['Price']\n",
    "\n",
    "TEST_SIZE = 0.25\n",
    "\n",
    "X_train, X_test, y_train, y_test = train_test_split(\n",
    "    X,\n",
    "    y,\n",
    "    test_size = TEST_SIZE, \n",
    "    random_state = RANDOM_STATE)\n",
    "\n",
    "X_train.shape, y_train.shape"
   ]
  },
  {
   "cell_type": "markdown",
   "metadata": {},
   "source": [
    "<div class=\"alert alert-block alert-danger\">\n",
    "<h2> Комментарий ревьюера <a class=\"tocSkip\"></h2>\n",
    "\n",
    "    \n",
    "<b>На доработку❌:</b> Возможно, тут перепутаны параметры или переменные, но оставлять 10% на обучение и 90% на тестирование - очень плохое решение, модель точно недообучится."
   ]
  },
  {
   "cell_type": "markdown",
   "metadata": {},
   "source": [
    "<div class=\"alert alert-info\">\n",
    "<h2> Комментарий студента <a class=\"tocSkip\"> </h2>\n",
    "    \n",
    "Не перепутано. Особого улучшения метрик при уменьшении соотношения не происходит, но сильно растет время обучения. Могу поставить стандартные 0.25 но тогда результатов не увижу. При 0.8 считает пол часа .Если считать дольше, то велик шанс словить отвалившийся Jupyter."
   ]
  },
  {
   "cell_type": "markdown",
   "metadata": {},
   "source": [
    "<div class=\"alert alert-block alert-danger\">\n",
    "<h2> Комментарий ревьюера v.2 <a class=\"tocSkip\"></h2>\n",
    "\n",
    "    \n",
    "<b>На доработку❌:</b> Понимаю, есть ресурсные ограничения. Особенно явно из-за `OneHotEncoder`. Могу порекомендовать несколько решений:\n",
    "    \n",
    "1. Использовать разреженную матрицу при кодировании `OneHot` за счёт параметра `sparse_output=True`.\n",
    "2. Удалить лишние переменные перед обучением модели.\n",
    "3. Запустить текущий код без изменений в более производительной среде типа `Google Colab`. \n",
    "    \n",
    "Обучение только на 20% датасета - это явная, пусть и вынужденная ошибка, которая может приводить к плохому обучению модели."
   ]
  },
  {
   "cell_type": "markdown",
   "metadata": {},
   "source": [
    "<div class=\"alert alert-info\">\n",
    "<h2> Комментарий студента V.2 <a class=\"tocSkip\"> </h2>\n",
    "\n",
    "Действительно Google Colab справился справился. "
   ]
  },
  {
   "cell_type": "markdown",
   "metadata": {},
   "source": [
    "<div class=\"alert alert-success\">\n",
    "<h2> Комментарий ревьюера v.3 <a class=\"tocSkip\"> </h2>\n",
    "\n",
    "<b>Все отлично!👍:</b> Учтено."
   ]
  },
  {
   "cell_type": "code",
   "execution_count": 39,
   "metadata": {},
   "outputs": [],
   "source": [
    "# создаём пайплайн для подготовки признаков из списка cat: OHE-кодирование\n",
    "ohe_pipe = Pipeline(\n",
    "    [\n",
    "        (\n",
    "            'ohe', \n",
    "            OneHotEncoder(drop='first',handle_unknown='ignore', sparse_output=True)\n",
    "        )\n",
    "    ]\n",
    ")"
   ]
  },
  {
   "cell_type": "markdown",
   "metadata": {},
   "source": [
    "<div class=\"alert alert-warning\">\n",
    "    <h2> Комментарий ревьюера <a class=\"tocSkip\"> </h2>\n",
    "    \n",
    "<b>Некоторые замечания и рекомендации⚠️:</b>\n",
    "\n",
    "Для древесных и бустинговых моделей не стоит использовать `OneHotEncoder()`: эта техника кодирования увеличивает количество признаков, в результате чего модели сложнее создавать разделяющие правила, поэтому время работы и расчётные характеристики моделей сильно страдают на больших наборах данных. Вместо этого нужно использовать `OrdinalEncoder()` - эта техника кодирует категориальные признаки так, что с ними удобнее работать в ходе создания разделяющих правил. \n",
    "    \n",
    "Для бустинговых алгоритмов альетрнатинва - использование внутренних кодировщиков, которые работают лучше сторонних. В случае `CatBoost` за это отвечает параметр `cat_features`. В случае `LightGBM` можно привести эти категориальные признаки к типу `category`, тогда модель будет работать с категориальными признаками автоматически."
   ]
  },
  {
   "cell_type": "markdown",
   "metadata": {},
   "source": [
    "<div class=\"alert alert-info\">\n",
    "<h2> Комментарий студента <a class=\"tocSkip\"> </h2>\n",
    "\n",
    "Спасибо! Поправил с учетом рекомендации."
   ]
  },
  {
   "cell_type": "markdown",
   "metadata": {},
   "source": [
    "<div class=\"alert alert-warning\">\n",
    "    <h2> Комментарий ревьюера v.2 <a class=\"tocSkip\"> </h2>\n",
    "    \n",
    "<b>Некоторые замечания и рекомендации⚠️:</b> Тогда тебе нужно рассматривать бустинг вне `Pipeline` - в противном случае данные для него также кодируются с помощью `OneHotEncoder`."
   ]
  },
  {
   "cell_type": "markdown",
   "metadata": {},
   "source": [
    "<div class=\"alert alert-info\">\n",
    "<h2> Комментарий студента V.2 <a class=\"tocSkip\"> </h2>\n",
    "\n",
    "Я второй пайплайн создал, без ohe."
   ]
  },
  {
   "cell_type": "markdown",
   "metadata": {},
   "source": [
    "<div class=\"alert alert-success\">\n",
    "<h2> Комментарий ревьюера v.3 <a class=\"tocSkip\"> </h2>\n",
    "\n",
    "<b>Все отлично!👍:</b> Учтено."
   ]
  },
  {
   "cell_type": "markdown",
   "metadata": {},
   "source": [
    "<div class=\"alert alert-block alert-danger\">\n",
    "<h2> Комментарий ревьюера <a class=\"tocSkip\"></h2>\n",
    "\n",
    "    \n",
    "<b>На доработку❌:</b> `OneHotEncoder` нужно настроить так, чтобы он обрабатывал новые значения признаков, а не выбрасывал ошибку - при текущей настройке `handle_unknown` в случае возникновения новых значений у признаков, которых не было в `train`, модель будет падать, а для многих случаев важна бесперебойность решений.\n",
    "    \n",
    "Может понадобиться обновление библиотеки `sklearn`, так как в ранних версиях параметры `handle_unknown` и `drop` конфликтовали друг с другом, но в актуальной версии библиотеки такой проблемы нет."
   ]
  },
  {
   "cell_type": "markdown",
   "metadata": {},
   "source": [
    "<div class=\"alert alert-info\">\n",
    "<h2> Комментарий студента <a class=\"tocSkip\"> </h2>\n",
    "    \n",
    "Поправил. Действительно вылетала ошибка."
   ]
  },
  {
   "cell_type": "markdown",
   "metadata": {},
   "source": [
    "<div class=\"alert alert-success\">\n",
    "<h2> Комментарий ревьюера v.2 <a class=\"tocSkip\"> </h2>\n",
    "\n",
    "<b>Все отлично!👍</b> \n",
    "    \n",
    "Учтено."
   ]
  },
  {
   "cell_type": "code",
   "execution_count": 40,
   "metadata": {},
   "outputs": [],
   "source": [
    "# создаём пайплайн для подготовки данных \n",
    "# LinearRegression() KNeighborsRegressor() DummyRegressor()\n",
    "data_preprocessor = ColumnTransformer(\n",
    "    [\n",
    "        ('ohe', ohe_pipe, cat),\n",
    "        ('num', RobustScaler(), num)\n",
    "    ], \n",
    "    remainder='passthrough'\n",
    ")\n",
    "\n",
    "# создаём итоговый пайплайн: подготовка данных и модель\n",
    "pipe_final= Pipeline(\n",
    "    [\n",
    "        ('preprocessor', data_preprocessor),\n",
    "        ('models', LinearRegression())\n",
    "    ]\n",
    ")"
   ]
  },
  {
   "cell_type": "code",
   "execution_count": 41,
   "metadata": {},
   "outputs": [],
   "source": [
    "# создаём пайплайн для подготовки данных gb\n",
    "data_preprocessor_gb = ColumnTransformer(\n",
    "    [\n",
    "        ('num', RobustScaler(), num)\n",
    "    ], \n",
    "    remainder='passthrough'\n",
    ")\n",
    "\n",
    "# создаём итоговый пайплайн: подготовка данных и модель\n",
    "pipe_gb= Pipeline(\n",
    "    [\n",
    "        ('preprocessor', data_preprocessor),\n",
    "        ('models', LGBMRegressor(random_state=RANDOM_STATE))\n",
    "    ]\n",
    ")"
   ]
  },
  {
   "cell_type": "code",
   "execution_count": 42,
   "metadata": {},
   "outputs": [],
   "source": [
    "param_grid_1 = [\n",
    "    \n",
    "    # словарь для модели KNeighborsRegressor()\n",
    "    {\n",
    "        'models': [KNeighborsRegressor()],\n",
    "        'preprocessor__num': [RobustScaler(), 'passthrough'],\n",
    "        'models__n_neighbors': range(40,45)\n",
    "    },\n",
    "    \n",
    "    # словарь для модели LinearRegression()\n",
    "    {\n",
    "        'models': [LinearRegression()],\n",
    "        'preprocessor__num': [RobustScaler()] \n",
    "    },\n",
    "    \n",
    "    # словарь для модели DummyRegressor()\n",
    "    {\n",
    "        'models': [DummyRegressor()],\n",
    "        'preprocessor__num': [RobustScaler()] \n",
    "    }\n",
    "    \n",
    "]\n",
    "\n",
    "param_grid_2 = [\n",
    "    # словарь для модели LGBMRegressor()\n",
    "    {\n",
    "        'models': [LGBMRegressor(random_state=RANDOM_STATE)],\n",
    "        'models__num_leaves': range(17,20),\n",
    "        'models__max_depth': range(6,8), \n",
    "        'models__learning_rate': [0.15,0.2],\n",
    "        'preprocessor__num': [StandardScaler(),RobustScaler()] \n",
    "    }\n",
    "]"
   ]
  },
  {
   "cell_type": "markdown",
   "metadata": {},
   "source": [
    "<div class=\"alert alert-block alert-danger\">\n",
    "<h2> Комментарий ревьюера <a class=\"tocSkip\"></h2>\n",
    "\n",
    "    \n",
    "<b>На доработку❌:</b> У `LGBMRegressor` не настроен `random_state`."
   ]
  },
  {
   "cell_type": "markdown",
   "metadata": {},
   "source": [
    "<div class=\"alert alert-info\">\n",
    "<h2> Комментарий студента <a class=\"tocSkip\"> </h2>\n",
    "    \n",
    "Поправил.\n",
    "    "
   ]
  },
  {
   "cell_type": "markdown",
   "metadata": {},
   "source": [
    "<div class=\"alert alert-success\">\n",
    "<h2> Комментарий ревьюера v.2 <a class=\"tocSkip\"> </h2>\n",
    "\n",
    "<b>Все отлично!👍</b> \n",
    "    \n",
    "Учтено."
   ]
  },
  {
   "cell_type": "markdown",
   "metadata": {},
   "source": [
    "## Обучение моделей"
   ]
  },
  {
   "cell_type": "markdown",
   "metadata": {},
   "source": [
    "Обучаем модели и выбираем лучшие гиперпараметры с помощью RandomizedSearchCV."
   ]
  },
  {
   "cell_type": "code",
   "execution_count": 43,
   "metadata": {},
   "outputs": [],
   "source": [
    "def rscv(pipe_final,param_grid, n_iter):\n",
    "    randomized_search = RandomizedSearchCV(\n",
    "        pipe_final, \n",
    "        param_grid, \n",
    "        cv=5,\n",
    "        n_iter=n_iter,\n",
    "        scoring='neg_root_mean_squared_error',\n",
    "        random_state=RANDOM_STATE,\n",
    "        n_jobs=-1\n",
    "    )\n",
    "\n",
    "\n",
    "    randomized_search.fit(X_train, y_train)\n",
    "    print ('Метрика лучшей модели при кросс-валидации:', -randomized_search.best_score_)\n",
    "    return randomized_search"
   ]
  },
  {
   "cell_type": "code",
   "execution_count": null,
   "metadata": {
    "scrolled": true
   },
   "outputs": [
    {
     "name": "stderr",
     "output_type": "stream",
     "text": [
      "/opt/conda/lib/python3.9/site-packages/sklearn/preprocessing/_encoders.py:241: UserWarning: Found unknown categories in columns [4] during transform. These unknown categories will be encoded as all zeros\n",
      "  warnings.warn(\n",
      "/opt/conda/lib/python3.9/site-packages/sklearn/preprocessing/_encoders.py:241: UserWarning: Found unknown categories in columns [4] during transform. These unknown categories will be encoded as all zeros\n",
      "  warnings.warn(\n",
      "/opt/conda/lib/python3.9/site-packages/sklearn/preprocessing/_encoders.py:241: UserWarning: Found unknown categories in columns [4] during transform. These unknown categories will be encoded as all zeros\n",
      "  warnings.warn(\n",
      "/opt/conda/lib/python3.9/site-packages/sklearn/preprocessing/_encoders.py:241: UserWarning: Found unknown categories in columns [4] during transform. These unknown categories will be encoded as all zeros\n",
      "  warnings.warn(\n",
      "/opt/conda/lib/python3.9/site-packages/sklearn/preprocessing/_encoders.py:241: UserWarning: Found unknown categories in columns [4] during transform. These unknown categories will be encoded as all zeros\n",
      "  warnings.warn(\n",
      "/opt/conda/lib/python3.9/site-packages/sklearn/preprocessing/_encoders.py:241: UserWarning: Found unknown categories in columns [4] during transform. These unknown categories will be encoded as all zeros\n",
      "  warnings.warn(\n",
      "/opt/conda/lib/python3.9/site-packages/sklearn/preprocessing/_encoders.py:241: UserWarning: Found unknown categories in columns [4] during transform. These unknown categories will be encoded as all zeros\n",
      "  warnings.warn(\n",
      "/opt/conda/lib/python3.9/site-packages/sklearn/preprocessing/_encoders.py:241: UserWarning: Found unknown categories in columns [4] during transform. These unknown categories will be encoded as all zeros\n",
      "  warnings.warn(\n",
      "/opt/conda/lib/python3.9/site-packages/sklearn/preprocessing/_encoders.py:241: UserWarning: Found unknown categories in columns [4] during transform. These unknown categories will be encoded as all zeros\n",
      "  warnings.warn(\n"
     ]
    }
   ],
   "source": [
    "%%time\n",
    "other = rscv(pipe_final,param_grid_1,12)\n",
    "other.best_estimator_"
   ]
  },
  {
   "cell_type": "code",
   "execution_count": null,
   "metadata": {},
   "outputs": [],
   "source": [
    "%%time\n",
    "lgb = rscv(pipe_gb,param_grid_2,10)\n",
    "lgb.best_estimator_"
   ]
  },
  {
   "cell_type": "markdown",
   "metadata": {},
   "source": [
    "<div class=\"alert alert-info\">\n",
    "<h2> Комментарий студента <a class=\"tocSkip\"> </h2>\n",
    "    \n",
    "Если это возможно , подскажи как все модели засунуть в 1 пайплайн и один словарь param_grid. Не пойму как сделать чтобы для одних моделей ohe_pipe применялся , а для градиентного бустинга не применялся."
   ]
  },
  {
   "cell_type": "markdown",
   "metadata": {},
   "source": [
    "<div class=\"alert alert-success\">\n",
    "<h2> Комментарий ревьюера v.2 <a class=\"tocSkip\"> </h2>\n",
    "\n",
    "<b>Все отлично!👍</b> \n",
    "    \n",
    "Быстро на этот вопрос ответить не могу - к сожалению, для работы с незакодированными категориями они должны быть в формате `category`, а после процессора формат данных, как и название признаков, меняются. Попробую поискать что-то к следующей итерации."
   ]
  },
  {
   "cell_type": "markdown",
   "metadata": {},
   "source": [
    "<div class=\"alert alert-success\">\n",
    "<h2> Комментарий ревьюера v.3 <a class=\"tocSkip\"> </h2>\n",
    "\n",
    "<b>Все отлично!👍:</b> Не нашёл всё-таки таких решений - всё портит `ColumnTransformer`."
   ]
  },
  {
   "cell_type": "markdown",
   "metadata": {},
   "source": [
    "## Анализ моделей"
   ]
  },
  {
   "cell_type": "markdown",
   "metadata": {},
   "source": [
    "### Время работы."
   ]
  },
  {
   "cell_type": "markdown",
   "metadata": {},
   "source": [
    "Составим таблицу со средним временем обучения, предсказания и RMSE на кросс-валидации."
   ]
  },
  {
   "cell_type": "code",
   "execution_count": null,
   "metadata": {},
   "outputs": [],
   "source": [
    "result = pd.DataFrame(other.cv_results_)\n",
    "best = pd.DataFrame()\n",
    "for i in ['KNeighborsRegressor()','DummyRegressor()','LinearRegression()']:\n",
    "    best_score = result.loc[result['param_models'].astype('str')==i,'mean_test_score'].max()\n",
    "    best = best.append(result.loc[(result['param_models'].astype('str')==i)\\\n",
    "                      &(result['mean_test_score']==best_score),\\\n",
    "                      ['param_models','mean_test_score','mean_fit_time','mean_score_time']],\\\n",
    "                       ignore_index=True)"
   ]
  },
  {
   "cell_type": "code",
   "execution_count": null,
   "metadata": {},
   "outputs": [],
   "source": [
    "result = pd.DataFrame(lgb.cv_results_)\n",
    "\n",
    "best_score = result['mean_test_score'].max()\n",
    "best = best.append(result.loc[result['mean_test_score']==best_score,\\\n",
    "                      ['param_models','mean_test_score','mean_fit_time','mean_score_time']],\\\n",
    "                       ignore_index=True)\n",
    "best['mean_test_score'] = - best['mean_test_score']\n",
    "best.sort_values(by='mean_test_score')"
   ]
  },
  {
   "cell_type": "markdown",
   "metadata": {},
   "source": [
    "### Лучшая модель."
   ]
  },
  {
   "cell_type": "markdown",
   "metadata": {},
   "source": [
    "Воспользовавшись таблицей выше выбираем оптимальной моделью LGBMRegressor. Посмотрим на метрику RMSE на тестовой выборке."
   ]
  },
  {
   "cell_type": "code",
   "execution_count": null,
   "metadata": {},
   "outputs": [],
   "source": [
    "%time y_test_pred_proba = lgb.best_estimator_.predict(X_test)\n",
    "print(f'Метрика RMSE на тестовой выборке LGBMRegressor: {(mean_squared_error(y_test, y_test_pred_proba))**0.5}')\n"
   ]
  },
  {
   "cell_type": "markdown",
   "metadata": {},
   "source": [
    "Сравним этот результат с DummyRegressor()"
   ]
  },
  {
   "cell_type": "code",
   "execution_count": null,
   "metadata": {},
   "outputs": [],
   "source": [
    "dummy = Pipeline(\n",
    "    [\n",
    "        ('preprocessor', data_preprocessor),\n",
    "        ('models', DummyRegressor())\n",
    "    ]\n",
    ")\n",
    "\n",
    "dummy.fit(X_train,y_train)\n",
    "y_test_pred_dummy = dummy.predict(X_test)\n",
    "print(f'Метрика RMSE на тестовой выборке LGBMRegressor: {(mean_squared_error(y_test, y_test_pred_dummy))**0.5}')"
   ]
  },
  {
   "cell_type": "markdown",
   "metadata": {},
   "source": [
    "Модель LGBMRegressor работает значительно лучше.\n",
    "Посмотрим распределение остатков."
   ]
  },
  {
   "cell_type": "code",
   "execution_count": null,
   "metadata": {},
   "outputs": [],
   "source": [
    "residual = (y_test-y_test_pred_proba)\n",
    "fig, axes = plt.subplots(nrows=1, ncols=2, figsize=(10,5))\n",
    "axes[0].hist(residual,bins=30)\n",
    "axes[0].set_title('Гистограмма распределения остатков')\n",
    "axes[0].set_ylabel('Число точек')\n",
    "axes[0].set_xlabel('Остатки')\n",
    "\n",
    "axes[1].scatter(y=residual,x=y_test_pred_proba, alpha=0.01)\n",
    "axes[1].set_xlabel('Предсказания модели')\n",
    "axes[1].set_ylabel('Остатки')\n",
    "axes[1].set_title('Анализ дисперсии')\n",
    "plt.show()\n",
    "print(residual.describe())"
   ]
  },
  {
   "cell_type": "markdown",
   "metadata": {},
   "source": [
    "Остатки распределены довольно равномерно."
   ]
  },
  {
   "cell_type": "markdown",
   "metadata": {},
   "source": [
    "### Вывод"
   ]
  },
  {
   "cell_type": "markdown",
   "metadata": {},
   "source": [
    "Лучшая модель LGBMRegressor(learning_rate=0.2, max_depth=7, num_leaves=18). \n",
    "Mетрика RMSE на тестовой выборке для LGBMRegressor 1695 что меньще требуемых 2500.\n",
    "Скорости обучения и предсказания в таблице ниже"
   ]
  },
  {
   "cell_type": "code",
   "execution_count": null,
   "metadata": {},
   "outputs": [],
   "source": [
    "best"
   ]
  },
  {
   "cell_type": "markdown",
   "metadata": {},
   "source": [
    "<div class=\"alert alert-block alert-danger\">\n",
    "<h2> Комментарий ревьюера <a class=\"tocSkip\"></h2>\n",
    "\n",
    "    \n",
    "<b>На доработку❌:</b>\n",
    "\n",
    "По этому блоку будет несколько важных замечаний:\n",
    "1. Все модели этого блока оцениваются на тестовой выборке - это преждевременное решение, так как оценка на тестовой выборке - это финальное тестирование для лучшей модели, которая была отобрана в ходе промежуточного тестирования. Эта концепция находит своё отражение в условиях эксплуатации модели в реальной среде: в промышленной эксплуатации не работает несколько моделей одновременно - в промышленную эксплуатацию запускают только одну модель, которая была выбрана из нескольких в ходе промежуточной оценки. Так же и здесь - тестовая выборка имитирует поток реальных данных, и с этим потоком должна работать только одна модель. \n",
    "\n",
    "\n",
    "2. Лучшая модель должна быть выбрана по двум критериям - метрика `RMSE` и время работы модели. Далее сценарий работы с моделями в этом блоке зависит от выбранной стратегии валидации и оптимизации гиперпараметров:\n",
    "- для оптимизации гиперпараметров и промежуточной оценки моделей была выделена валидационная выборка;\n",
    "- для оптимизации гиперпараметров и промежуточной оценки моделей проводится кросс-валидация.\n",
    "    \n",
    "    В первом случае метрика промежуточной оценки модели - это метрика `RMSE` на валидационной выборке, полученная от использования на `valid` лучшей модели, а время - это время обучения модели с лучшими гиперпарметрами на `train` и время совершения ею предсказаний на `valid`.\n",
    "    \n",
    "    Во втором случае метрика промежуточной оценким модели - это метрика `RMSE` с кросс-валидации: в случае использования `cross_val_score` - это среднее из массива метрик (длина соответствует количеству фолдов для кросс-валидации), который возвращает инструмент, в случае использования `GridSearchCV` или `RandomizedSearchCV` - это метрика из атрибута `best_score_`. Временем работы лучшей модели может быть время обучения на `train` и время предсказания на `train` выборке (только время, метрика `RMSE` на тренировочной выборке не нужна).\n",
    "    \n",
    "    Тут часто студенты делают ошибку, принимая в качестве метрики времени время работы лучшей модели, а время оптимизации гиперпараметров в целом (то есть время выполнения всей ячейки кода цикла с `cross_val_score` или ячейки с `GridSearchCV`) - это некорректный подход: на практике модель не будет каждый раз переобучаться и выполнять оптимизацию гиперпараметров перед очередным предсказанием - сначала будет найдена лучшая модель, а она уже будет использоваться для обучения и предсказаний. Поэтому и в этом случае сначала определяется лучшая модель, а уже потом замеряется время её работы: кросс-валидации как альтернатива времени обучения и предсказания (потому что по сути кросс-валидация объединяет в себе обучение и предсказание) или время обучения и предсказания на `train`.\n",
    "    \n",
    "    Независимо от выбранной стратегии кросс-валидации алгоритм работы выглядит как:\n",
    "- оптимизация гиперпараметров и поиск лучшей модели;\n",
    "- оценка метрики `RMSE`;\n",
    "- оценка времени работы лучшей модели: на валидационной выборке (если она выделялась) или на кросс-валидации/тренировочной выборке (если проводилась кросс-валидация).\n",
    "    \n",
    "Концепт для `valid`:\n",
    "    \n",
    "    for ... in ...:\n",
    "    \n",
    "        #код для поиска лучшей модели\n",
    "    \n",
    "    model = ... #код для инициализации лучшей модели с оптимальными гиперпараметрами\n",
    "    \n",
    "    model.fit(X_train, Y_train) #замеряем время обучения\n",
    "    \n",
    "    pred = model.predict(X_valid) #замеряем время предсказания\n",
    "    \n",
    "    RMSE = (Y_valid, pred) #замеряем RMSE на valid\n",
    "    \n",
    "Концепт для кросс-валидации:\n",
    "    \n",
    "    model = #инициализируем модель\n",
    "    gs = GridSearchCV(...) #настраиваем поиск по сетке\n",
    "    \n",
    "    gs.fit(...) #находим лучшую модель\n",
    "    \n",
    "    gs.best_score_ #замеряем RMSE на  кросс-валидации\n",
    "    \n",
    "    model = gs.best_estimator_ #получаем лучшую модель из best_estimator\n",
    "    model = #YourModel(random_state = 42, **gs.best_params) #альтернативный способ получения лучшей модели\n",
    "    \n",
    "    model.fit(X_train, Y_train) #замеряем время обучения\n",
    "    model.predict(X_train) #замеряем время предсказания\n",
    "    \n",
    "    \n",
    "   По итогу нужно будет провести сравнительную характеристику моделей по критериям метрики `RMSE` и времени работы моделей и выбрать лучшую - именно эта лучшая модель должна будет оцениваться на тестовой выборке.\n",
    "    \n",
    "   Обрати также внимание, что при создании таблицы нельзя использовать вручную введённые значения - они потеряют актуальность при любом изменении в данных, их обработке или в моделях. Значения метрик лучше помещать в переменные и использовать их для создания таблиц. Для сохранения в переменные времени работы моделей можно использовать модуль `time`:\n",
    "    \n",
    "    from time import time\n",
    "    \n",
    "    start = time()\n",
    "    \n",
    "    #код модели\n",
    "    \n",
    "    end = time()\n",
    "    \n",
    "    model_time = (end-start)/60 #перевожу в минуты, так как по умолчанию секунды\n",
    "    \n",
    " Альтернативный подход - использование `cv_results_` после обучения `GridSearchCV` в качестве источика метрик (особенно удобно в случае рассмотрения нескольких моделей в пределах одного `Pipeline`). В таком случае можно выполнить группировку по столбцу с названием модели (предварительно извлечь его можно с помощью строкового метода `split()`), найти индексы строк с минимальным значением метрики, и уже из этих строк извлечь время обучения (`mean_fit_time`) и время предсказания (`mean_score_time`).\n",
    "    \n",
    "3. Итоговый вывод нужно поправить."
   ]
  },
  {
   "cell_type": "markdown",
   "metadata": {},
   "source": [
    "<div class=\"alert alert-info\">\n",
    "<h2> Комментарий студента <a class=\"tocSkip\"> </h2>\n",
    "    \n",
    "Спасибо, исправил."
   ]
  },
  {
   "cell_type": "markdown",
   "metadata": {},
   "source": [
    "<div class=\"alert alert-success\">\n",
    "<h2> Комментарий ревьюера v.2 <a class=\"tocSkip\"> </h2>\n",
    "\n",
    "<b>Все отлично!👍</b> Учтено."
   ]
  },
  {
   "cell_type": "markdown",
   "metadata": {},
   "source": [
    "<div class=\"alert alert-warning\">\n",
    "    <h2> Комментарий ревьюера <a class=\"tocSkip\"> </h2>\n",
    "    \n",
    "<b>Некоторые замечания и рекомендации⚠️:</b>\n",
    "Очень важно также проверить лучшую модель на адекватность, сравнив качество её предсказаний с качеством модели, которая предсказывала бы константу - вдруг окажется, что не было бы большого смысла заниматься созданием новых признаков, тюнингом и кросс-валидацией моделей, если можно было бы просто предсказывать среднее значение тренировочной выборки? \n",
    "    \n",
    "В качестве константной модели можно использовать `DummyRegressor` (https://scikit-learn.org/stable/modules/generated/sklearn.dummy.DummyRegressor.html) -  эта модель как раз создана для генерирования константных предсказаний.\n",
    "    \n",
    "Важно, чтобы результат тестирования нашей модели на тествой выборке был лучше, чем результат константной модели - в противном случае наша модель является бесполезной, так как все наши усилия над проектом не принесли результата, а можель, просто предсказывющая среднее на `train`, делает нашу работу лучше."
   ]
  },
  {
   "cell_type": "markdown",
   "metadata": {},
   "source": [
    "<div class=\"alert alert-info\">\n",
    "<h2> Комментарий студента <a class=\"tocSkip\"> </h2>\n",
    "    \n",
    "Спасибо, добавил."
   ]
  },
  {
   "cell_type": "markdown",
   "metadata": {},
   "source": [
    "<div class=\"alert alert-success\">\n",
    "<h2> Комментарий ревьюера v.2 <a class=\"tocSkip\"> </h2>\n",
    "\n",
    "<b>Все отлично!👍</b> Учтено."
   ]
  },
  {
   "cell_type": "markdown",
   "metadata": {},
   "source": [
    "## Вывод"
   ]
  },
  {
   "cell_type": "markdown",
   "metadata": {},
   "source": [
    "В работе нужно было построить модель для предсказания стоимости автомобиля по его данным. При этом важна точность предсказаний , скорость обучения модели и скорость предсказания.\n",
    "\n",
    "Для для решения этой задачи исходные данные были очишенны от опечаток, дубликатов и явных аномалий. Затем были отобраные признаки, которые влияют на цену (RegistrationYear, Power, KKilometer, VehicleType, Gearbox, Brand, Repaired) . Пропуски в этих данных были заполнены наиболее часто встречающимися данными. \n",
    "\n",
    "После этого был создан пайплайн для обучения моделей и выбора лучших гиперпараметров. Для сравнения были выбраны 3 модели регрессии линейная, ближайших соседей , LGBMRegressor.\n",
    "\n",
    "- Самая быстрая для обучения модель - ближайших соседей. Однако это скорость предсказания самая низкая. - Линейная модель не подходит под требования заказчика т.к. значение метрики RMSE больше 2500.\n",
    "- Градиентный бустинг оказался самой точной моделью значение метрики RMSE=1695. При этом время обучения ~20 раз медлеее чем для ближайших соседей, а скорость предсказания всего в 20 раз быстрее.\n",
    "\n",
    "Таким образом оптимальная модель для данной задачи LGBMRegressor(learning_rate=0.2, max_depth=7, num_leaves=18).\n",
    "\n",
    "Однако стоит отметить, что скорость работы LGBMRegressor очень не стабильна. Время на итерацию изменяется от запуска к запуску в десятки раз. Возможно это зависит от нагрузки на сервер."
   ]
  },
  {
   "cell_type": "markdown",
   "metadata": {},
   "source": [
    "<div class=\"alert alert-success\">\n",
    "<h2> Комментарий ревьюера <a class=\"tocSkip\"> </h2>\n",
    "\n",
    "<b>Все отлично!👍:</b> Верно, это основная причина - разные доступные ресурсы в разный момент запуска."
   ]
  },
  {
   "cell_type": "markdown",
   "metadata": {},
   "source": [
    "<div style=\"border:solid Chocolate 2px; padding: 40px\">\n",
    "\n",
    "# Комментарий ревьюера: общий вывод по проекту.\n",
    "\n",
    "Андрей, проект получился на довольно хорошем уровне - отличная работа над проектом, молодец!\n",
    "\n",
    "Мне нравится твой аналитический подход к выполнению проекта, ты соблюдаешь структуру работы, выполняешь её последовательно - это очень хорошо! Шаги проекта выполнены по порядку согласно плану проекта, нет смысловых и структурных ям. Важно, что не забываешь про выводы.\n",
    "    \n",
    "Отмечу отличную предобработку данных - были найдены и корректно обработаны почти все аномалии и пропуски, также выполнено кодирование категориальных переменных и масштабирование непрерывных.\n",
    "    \n",
    "Работа с моделями также выполнена неплохо: исследовано несколько алгоритмов, проведён подбор гиперпараметров с помощью `RandomizedSearchCV`, выполнена промежуточная оценка моделей на кросс-валидации - молодец! Здорово, что используешь сочетание `ColumnTransformer` и `Pipeline` для соединения разных инструментов в единый модельный объект - так твоё решение будет более гибким и масштабируемым. \n",
    "    \n",
    "Над проектом ещё стоит поработать - есть рекомендации по дополнению некоторых твоих шагов проекта. Такие рекомендации я отметил жёлтыми комментариями. Будет здорово, если ты учтёшь их - так проект станет структурно и содержательно более совершенным.\n",
    "    \n",
    "Также в работе есть критические замечания. К этим замечаниям я оставил пояснительные комментарии красного цвета, в которых перечислил возможные варианты дальнейших действий. Уверен, ты быстро с этим управишься:)\n",
    "    \n",
    "Если о том, что нужно сделать в рамках комментариев, будут возникать вопросы - оставь их, пожалуйста, в комментариях, и я отвечу на них во время следующего ревью.\n",
    "    \n",
    "Также буду рад ответить на любые твои вопросы по проекту или на какие-либо другие, если они у тебя имеются - оставь их в комментариях, и я постараюсь ответить:)\n",
    "    \n",
    "Жду твой проект на повторном ревью. До встречи:)"
   ]
  },
  {
   "cell_type": "markdown",
   "metadata": {},
   "source": [
    "<div style=\"border:solid Chocolate 2px; padding: 40px\">\n",
    "\n",
    "# Комментарий ревьюера: итоговый вывод по проекту.\n",
    "\n",
    "Андрей, все замечания учтены - проект принят!\n",
    "    \n",
    "Спасибо за хорошую работу над проектом, желаю успехов в дальнейшем обучении:)"
   ]
  }
 ],
 "metadata": {
  "ExecuteTimeLog": [
   {
    "duration": 44,
    "start_time": "2024-06-13T20:46:28.238Z"
   },
   {
    "duration": 369,
    "start_time": "2024-06-13T20:46:31.622Z"
   },
   {
    "duration": 972,
    "start_time": "2024-06-13T20:46:33.728Z"
   },
   {
    "duration": 816,
    "start_time": "2024-06-13T20:46:56.335Z"
   },
   {
    "duration": 6,
    "start_time": "2024-06-13T20:48:30.371Z"
   },
   {
    "duration": 50,
    "start_time": "2024-06-17T06:34:41.092Z"
   },
   {
    "duration": 435,
    "start_time": "2024-06-17T06:34:48.144Z"
   },
   {
    "duration": 1448,
    "start_time": "2024-06-17T06:34:50.432Z"
   },
   {
    "duration": 9,
    "start_time": "2024-06-17T06:34:54.723Z"
   },
   {
    "duration": 124,
    "start_time": "2024-06-17T06:34:57.753Z"
   },
   {
    "duration": 13,
    "start_time": "2024-06-17T06:35:01.411Z"
   },
   {
    "duration": 79,
    "start_time": "2024-06-17T06:35:15.980Z"
   },
   {
    "duration": 27,
    "start_time": "2024-06-17T06:35:24.905Z"
   },
   {
    "duration": 105,
    "start_time": "2024-06-17T06:35:37.583Z"
   },
   {
    "duration": 141,
    "start_time": "2024-06-17T06:35:52.781Z"
   },
   {
    "duration": 206,
    "start_time": "2024-06-17T06:37:03.135Z"
   },
   {
    "duration": 254,
    "start_time": "2024-06-17T06:37:35.077Z"
   },
   {
    "duration": 21,
    "start_time": "2024-06-17T06:37:56.035Z"
   },
   {
    "duration": 101,
    "start_time": "2024-06-17T06:38:53.538Z"
   },
   {
    "duration": 49,
    "start_time": "2024-06-17T06:41:18.462Z"
   },
   {
    "duration": 43,
    "start_time": "2024-06-17T06:41:34.486Z"
   },
   {
    "duration": 159,
    "start_time": "2024-06-17T07:24:19.983Z"
   },
   {
    "duration": 54,
    "start_time": "2024-06-20T09:54:50.090Z"
   },
   {
    "duration": 483,
    "start_time": "2024-06-20T09:54:57.813Z"
   },
   {
    "duration": 1559,
    "start_time": "2024-06-20T09:54:58.299Z"
   },
   {
    "duration": 11,
    "start_time": "2024-06-20T09:54:59.860Z"
   },
   {
    "duration": 542,
    "start_time": "2024-06-20T09:54:59.874Z"
   },
   {
    "duration": 158,
    "start_time": "2024-06-20T09:55:00.418Z"
   },
   {
    "duration": 204,
    "start_time": "2024-06-20T09:55:00.579Z"
   },
   {
    "duration": 53,
    "start_time": "2024-06-20T09:55:08.053Z"
   },
   {
    "duration": 113,
    "start_time": "2024-06-20T09:56:46.146Z"
   },
   {
    "duration": 595,
    "start_time": "2024-06-20T10:03:32.531Z"
   },
   {
    "duration": 59,
    "start_time": "2024-06-20T10:04:18.691Z"
   },
   {
    "duration": 25,
    "start_time": "2024-06-20T10:04:26.518Z"
   },
   {
    "duration": 9,
    "start_time": "2024-06-20T10:05:53.142Z"
   },
   {
    "duration": 41,
    "start_time": "2024-06-20T10:06:07.588Z"
   },
   {
    "duration": 7,
    "start_time": "2024-06-20T10:06:13.994Z"
   },
   {
    "duration": 7,
    "start_time": "2024-06-20T10:06:20.203Z"
   },
   {
    "duration": 7,
    "start_time": "2024-06-20T10:06:24.644Z"
   },
   {
    "duration": 6,
    "start_time": "2024-06-20T10:06:28.191Z"
   },
   {
    "duration": 6,
    "start_time": "2024-06-20T10:06:36.019Z"
   },
   {
    "duration": 7,
    "start_time": "2024-06-20T10:06:41.630Z"
   },
   {
    "duration": 7,
    "start_time": "2024-06-20T10:06:49.993Z"
   },
   {
    "duration": 5,
    "start_time": "2024-06-20T10:06:58.838Z"
   },
   {
    "duration": 8,
    "start_time": "2024-06-20T10:07:12.541Z"
   },
   {
    "duration": 7,
    "start_time": "2024-06-20T10:07:16.395Z"
   },
   {
    "duration": 6,
    "start_time": "2024-06-20T10:07:20.283Z"
   },
   {
    "duration": 6,
    "start_time": "2024-06-20T10:07:24.323Z"
   },
   {
    "duration": 6,
    "start_time": "2024-06-20T10:07:56.569Z"
   },
   {
    "duration": 7,
    "start_time": "2024-06-20T10:08:23.444Z"
   },
   {
    "duration": 7,
    "start_time": "2024-06-20T10:08:29.222Z"
   },
   {
    "duration": 26,
    "start_time": "2024-06-20T10:09:00.332Z"
   },
   {
    "duration": 9,
    "start_time": "2024-06-20T10:10:02.617Z"
   },
   {
    "duration": 7,
    "start_time": "2024-06-20T10:11:14.268Z"
   },
   {
    "duration": 43,
    "start_time": "2024-06-20T10:12:10.436Z"
   },
   {
    "duration": 6,
    "start_time": "2024-06-20T10:13:59.319Z"
   },
   {
    "duration": 28,
    "start_time": "2024-06-20T10:14:13.115Z"
   },
   {
    "duration": 28,
    "start_time": "2024-06-20T10:14:35.939Z"
   },
   {
    "duration": 20,
    "start_time": "2024-06-20T10:14:42.423Z"
   },
   {
    "duration": 16,
    "start_time": "2024-06-20T10:14:49.735Z"
   },
   {
    "duration": 18,
    "start_time": "2024-06-20T10:14:54.357Z"
   },
   {
    "duration": 23,
    "start_time": "2024-06-20T10:14:58.502Z"
   },
   {
    "duration": 16,
    "start_time": "2024-06-20T10:15:13.182Z"
   },
   {
    "duration": 5,
    "start_time": "2024-06-20T10:15:50.480Z"
   },
   {
    "duration": 40,
    "start_time": "2024-06-20T10:16:19.332Z"
   },
   {
    "duration": 3,
    "start_time": "2024-06-20T10:17:07.500Z"
   },
   {
    "duration": 4,
    "start_time": "2024-06-20T10:17:16.540Z"
   },
   {
    "duration": 31,
    "start_time": "2024-06-20T10:17:25.308Z"
   },
   {
    "duration": 160,
    "start_time": "2024-06-20T10:18:51.067Z"
   },
   {
    "duration": 210,
    "start_time": "2024-06-20T10:19:12.103Z"
   },
   {
    "duration": 371,
    "start_time": "2024-06-20T10:19:22.448Z"
   },
   {
    "duration": 378,
    "start_time": "2024-06-20T10:19:44.718Z"
   },
   {
    "duration": 32,
    "start_time": "2024-06-20T10:19:59.790Z"
   },
   {
    "duration": 416,
    "start_time": "2024-06-20T10:20:02.464Z"
   },
   {
    "duration": 26,
    "start_time": "2024-06-20T10:20:28.681Z"
   },
   {
    "duration": 24,
    "start_time": "2024-06-20T10:21:15.567Z"
   },
   {
    "duration": 26,
    "start_time": "2024-06-20T10:21:45.981Z"
   },
   {
    "duration": 26,
    "start_time": "2024-06-20T10:23:53.948Z"
   },
   {
    "duration": 31,
    "start_time": "2024-06-20T10:24:21.457Z"
   },
   {
    "duration": 17,
    "start_time": "2024-06-20T10:25:48.445Z"
   },
   {
    "duration": 7,
    "start_time": "2024-06-20T10:26:24.277Z"
   },
   {
    "duration": 6,
    "start_time": "2024-06-20T10:26:52.015Z"
   },
   {
    "duration": 25,
    "start_time": "2024-06-20T10:26:58.191Z"
   },
   {
    "duration": 30,
    "start_time": "2024-06-20T10:27:01.527Z"
   },
   {
    "duration": 66,
    "start_time": "2024-06-20T10:29:32.049Z"
   },
   {
    "duration": 62,
    "start_time": "2024-06-20T10:29:37.400Z"
   },
   {
    "duration": 45,
    "start_time": "2024-06-20T10:29:43.896Z"
   },
   {
    "duration": 8,
    "start_time": "2024-06-20T10:31:07.682Z"
   },
   {
    "duration": 8,
    "start_time": "2024-06-20T10:31:17.071Z"
   },
   {
    "duration": 7,
    "start_time": "2024-06-20T10:31:39.505Z"
   },
   {
    "duration": 7,
    "start_time": "2024-06-20T10:31:43.034Z"
   },
   {
    "duration": 7,
    "start_time": "2024-06-20T10:36:09.937Z"
   },
   {
    "duration": 7,
    "start_time": "2024-06-20T10:36:27.204Z"
   },
   {
    "duration": 42,
    "start_time": "2024-06-20T10:38:59.356Z"
   },
   {
    "duration": 899,
    "start_time": "2024-06-20T10:39:31.854Z"
   },
   {
    "duration": 14,
    "start_time": "2024-06-20T10:39:41.903Z"
   },
   {
    "duration": 12,
    "start_time": "2024-06-20T10:40:01.742Z"
   },
   {
    "duration": 556,
    "start_time": "2024-06-20T10:43:24.607Z"
   },
   {
    "duration": 65,
    "start_time": "2024-06-20T10:43:32.905Z"
   },
   {
    "duration": 35,
    "start_time": "2024-06-20T10:44:45.170Z"
   },
   {
    "duration": 35,
    "start_time": "2024-06-20T10:44:57.618Z"
   },
   {
    "duration": 3,
    "start_time": "2024-06-20T10:45:21.321Z"
   },
   {
    "duration": 140,
    "start_time": "2024-06-20T10:45:30.277Z"
   },
   {
    "duration": 3,
    "start_time": "2024-06-20T10:46:24.223Z"
   },
   {
    "duration": 163,
    "start_time": "2024-06-20T10:46:29.982Z"
   },
   {
    "duration": 59,
    "start_time": "2024-06-20T10:47:14.590Z"
   },
   {
    "duration": 170022,
    "start_time": "2024-06-20T10:47:22.488Z"
   },
   {
    "duration": 14,
    "start_time": "2024-06-20T11:53:01.257Z"
   },
   {
    "duration": 355,
    "start_time": "2024-06-20T11:53:05.946Z"
   },
   {
    "duration": 339,
    "start_time": "2024-06-20T11:55:48.290Z"
   },
   {
    "duration": 326,
    "start_time": "2024-06-20T11:56:08.920Z"
   },
   {
    "duration": 313,
    "start_time": "2024-06-20T11:57:04.318Z"
   },
   {
    "duration": 26,
    "start_time": "2024-06-20T11:57:31.661Z"
   },
   {
    "duration": 328,
    "start_time": "2024-06-20T11:58:08.794Z"
   },
   {
    "duration": 55,
    "start_time": "2024-06-20T19:48:21.966Z"
   },
   {
    "duration": 1497,
    "start_time": "2024-06-20T19:48:39.379Z"
   },
   {
    "duration": 3306,
    "start_time": "2024-06-20T19:48:40.879Z"
   },
   {
    "duration": 10,
    "start_time": "2024-06-20T19:48:44.187Z"
   },
   {
    "duration": 15,
    "start_time": "2024-06-20T19:48:44.198Z"
   },
   {
    "duration": 442,
    "start_time": "2024-06-20T19:48:44.215Z"
   },
   {
    "duration": 113,
    "start_time": "2024-06-20T19:48:44.660Z"
   },
   {
    "duration": 348,
    "start_time": "2024-06-20T19:48:44.775Z"
   },
   {
    "duration": 385,
    "start_time": "2024-06-20T19:48:45.125Z"
   },
   {
    "duration": 127,
    "start_time": "2024-06-20T19:48:45.512Z"
   },
   {
    "duration": 62,
    "start_time": "2024-06-20T19:48:45.641Z"
   },
   {
    "duration": 124,
    "start_time": "2024-06-20T19:48:45.705Z"
   },
   {
    "duration": 9,
    "start_time": "2024-06-20T19:48:45.831Z"
   },
   {
    "duration": 50,
    "start_time": "2024-06-20T19:48:45.842Z"
   },
   {
    "duration": 8,
    "start_time": "2024-06-20T19:48:45.895Z"
   },
   {
    "duration": 36,
    "start_time": "2024-06-20T19:48:45.905Z"
   },
   {
    "duration": 9,
    "start_time": "2024-06-20T19:48:45.960Z"
   },
   {
    "duration": 27,
    "start_time": "2024-06-20T19:48:45.971Z"
   },
   {
    "duration": 33,
    "start_time": "2024-06-20T19:48:46.000Z"
   },
   {
    "duration": 7,
    "start_time": "2024-06-20T19:48:46.060Z"
   },
   {
    "duration": 33,
    "start_time": "2024-06-20T19:48:46.069Z"
   },
   {
    "duration": 22,
    "start_time": "2024-06-20T19:50:29.301Z"
   },
   {
    "duration": 300,
    "start_time": "2024-06-20T19:58:15.467Z"
   },
   {
    "duration": 84,
    "start_time": "2024-06-20T19:58:23.155Z"
   },
   {
    "duration": 24135,
    "start_time": "2024-06-20T19:58:48.646Z"
   },
   {
    "duration": 1142,
    "start_time": "2024-06-20T19:59:32.296Z"
   },
   {
    "duration": 32,
    "start_time": "2024-06-20T19:59:45.602Z"
   },
   {
    "duration": 16,
    "start_time": "2024-06-20T19:59:49.072Z"
   },
   {
    "duration": 11392,
    "start_time": "2024-06-20T19:59:53.395Z"
   },
   {
    "duration": 20,
    "start_time": "2024-06-20T20:00:33.619Z"
   },
   {
    "duration": 15,
    "start_time": "2024-06-20T20:00:36.433Z"
   },
   {
    "duration": 12522,
    "start_time": "2024-06-20T20:00:42.860Z"
   },
   {
    "duration": 6,
    "start_time": "2024-06-20T20:00:55.385Z"
   },
   {
    "duration": 1245,
    "start_time": "2024-06-20T20:00:55.393Z"
   },
   {
    "duration": 19,
    "start_time": "2024-06-20T20:00:56.641Z"
   },
   {
    "duration": 14,
    "start_time": "2024-06-20T20:00:56.663Z"
   },
   {
    "duration": 393,
    "start_time": "2024-06-20T20:00:56.679Z"
   },
   {
    "duration": 137,
    "start_time": "2024-06-20T20:00:57.074Z"
   },
   {
    "duration": 333,
    "start_time": "2024-06-20T20:00:57.213Z"
   },
   {
    "duration": 362,
    "start_time": "2024-06-20T20:00:57.548Z"
   },
   {
    "duration": 148,
    "start_time": "2024-06-20T20:00:57.914Z"
   },
   {
    "duration": 51,
    "start_time": "2024-06-20T20:00:58.063Z"
   },
   {
    "duration": 123,
    "start_time": "2024-06-20T20:00:58.116Z"
   },
   {
    "duration": 23,
    "start_time": "2024-06-20T20:00:58.241Z"
   },
   {
    "duration": 37,
    "start_time": "2024-06-20T20:00:58.267Z"
   },
   {
    "duration": 6,
    "start_time": "2024-06-20T20:00:58.306Z"
   },
   {
    "duration": 48,
    "start_time": "2024-06-20T20:00:58.314Z"
   },
   {
    "duration": 8,
    "start_time": "2024-06-20T20:00:58.363Z"
   },
   {
    "duration": 28,
    "start_time": "2024-06-20T20:00:58.373Z"
   },
   {
    "duration": 66,
    "start_time": "2024-06-20T20:00:58.403Z"
   },
   {
    "duration": 7,
    "start_time": "2024-06-20T20:00:58.471Z"
   },
   {
    "duration": 22,
    "start_time": "2024-06-20T20:00:58.480Z"
   },
   {
    "duration": 76,
    "start_time": "2024-06-20T20:00:58.503Z"
   },
   {
    "duration": 18,
    "start_time": "2024-06-20T20:00:58.581Z"
   },
   {
    "duration": 0,
    "start_time": "2024-06-20T20:00:58.601Z"
   },
   {
    "duration": 15,
    "start_time": "2024-06-20T20:01:13.606Z"
   },
   {
    "duration": 5,
    "start_time": "2024-06-20T20:01:21.183Z"
   },
   {
    "duration": 7,
    "start_time": "2024-06-20T20:02:27.453Z"
   },
   {
    "duration": 3,
    "start_time": "2024-06-20T20:04:06.506Z"
   },
   {
    "duration": 1001,
    "start_time": "2024-06-20T20:06:22.204Z"
   },
   {
    "duration": 115,
    "start_time": "2024-06-20T20:06:46.497Z"
   },
   {
    "duration": 8,
    "start_time": "2024-06-20T20:10:03.975Z"
   },
   {
    "duration": 17,
    "start_time": "2024-06-20T20:11:21.537Z"
   },
   {
    "duration": 18,
    "start_time": "2024-06-20T20:12:01.967Z"
   },
   {
    "duration": 18,
    "start_time": "2024-06-20T20:12:46.931Z"
   },
   {
    "duration": 6,
    "start_time": "2024-06-20T20:17:09.340Z"
   },
   {
    "duration": 1166,
    "start_time": "2024-06-20T20:17:32.445Z"
   },
   {
    "duration": 4,
    "start_time": "2024-06-20T20:18:12.749Z"
   },
   {
    "duration": 12,
    "start_time": "2024-06-20T20:18:29.997Z"
   },
   {
    "duration": 5,
    "start_time": "2024-06-20T20:18:31.495Z"
   },
   {
    "duration": 527,
    "start_time": "2024-06-20T20:18:33.905Z"
   },
   {
    "duration": 122,
    "start_time": "2024-06-20T20:27:58.341Z"
   },
   {
    "duration": 125,
    "start_time": "2024-06-20T20:28:12.041Z"
   },
   {
    "duration": 91,
    "start_time": "2024-06-20T20:28:16.116Z"
   },
   {
    "duration": 70,
    "start_time": "2024-06-20T20:28:20.424Z"
   },
   {
    "duration": 4,
    "start_time": "2024-06-20T20:28:22.628Z"
   },
   {
    "duration": 3,
    "start_time": "2024-06-20T20:28:24.205Z"
   },
   {
    "duration": 435,
    "start_time": "2024-06-20T20:28:26.252Z"
   },
   {
    "duration": 5,
    "start_time": "2024-06-20T20:29:57.227Z"
   },
   {
    "duration": 3,
    "start_time": "2024-06-20T20:29:58.846Z"
   },
   {
    "duration": 79406,
    "start_time": "2024-06-20T20:30:00.890Z"
   },
   {
    "duration": 525,
    "start_time": "2024-06-20T20:32:01.401Z"
   },
   {
    "duration": 474,
    "start_time": "2024-06-20T20:32:14.156Z"
   },
   {
    "duration": 558,
    "start_time": "2024-06-20T20:32:35.024Z"
   },
   {
    "duration": 56,
    "start_time": "2024-06-20T20:32:48.703Z"
   },
   {
    "duration": 4,
    "start_time": "2024-06-20T20:33:00.946Z"
   },
   {
    "duration": 4,
    "start_time": "2024-06-20T20:33:03.037Z"
   },
   {
    "duration": 289496,
    "start_time": "2024-06-20T20:33:05.574Z"
   },
   {
    "duration": 99,
    "start_time": "2024-06-20T20:37:55.073Z"
   },
   {
    "duration": 49,
    "start_time": "2024-06-20T20:37:56.580Z"
   },
   {
    "duration": 4,
    "start_time": "2024-06-20T20:38:00.219Z"
   },
   {
    "duration": 3,
    "start_time": "2024-06-20T20:38:02.486Z"
   },
   {
    "duration": 39444,
    "start_time": "2024-06-20T20:38:06.018Z"
   },
   {
    "duration": 55,
    "start_time": "2024-06-20T20:43:16.653Z"
   },
   {
    "duration": 14472,
    "start_time": "2024-06-20T20:44:39.820Z"
   },
   {
    "duration": 14327,
    "start_time": "2024-06-20T20:45:03.316Z"
   },
   {
    "duration": 22,
    "start_time": "2024-06-20T20:45:17.646Z"
   },
   {
    "duration": 10,
    "start_time": "2024-06-20T20:46:14.537Z"
   },
   {
    "duration": 11,
    "start_time": "2024-06-20T20:46:43.257Z"
   },
   {
    "duration": 6,
    "start_time": "2024-06-20T20:47:21.171Z"
   },
   {
    "duration": 4,
    "start_time": "2024-06-20T20:47:28.630Z"
   },
   {
    "duration": 265068,
    "start_time": "2024-06-20T20:47:37.811Z"
   },
   {
    "duration": 55,
    "start_time": "2024-06-23T17:29:22.157Z"
   },
   {
    "duration": 23507,
    "start_time": "2024-06-23T17:29:27.284Z"
   },
   {
    "duration": 1837,
    "start_time": "2024-06-23T17:29:50.793Z"
   },
   {
    "duration": 3057,
    "start_time": "2024-06-23T17:29:52.631Z"
   },
   {
    "duration": 7,
    "start_time": "2024-06-23T17:29:55.690Z"
   },
   {
    "duration": 26,
    "start_time": "2024-06-23T17:29:55.699Z"
   },
   {
    "duration": 422,
    "start_time": "2024-06-23T17:29:55.727Z"
   },
   {
    "duration": 100,
    "start_time": "2024-06-23T17:29:56.151Z"
   },
   {
    "duration": 325,
    "start_time": "2024-06-23T17:29:56.253Z"
   },
   {
    "duration": 344,
    "start_time": "2024-06-23T17:29:56.579Z"
   },
   {
    "duration": 119,
    "start_time": "2024-06-23T17:29:56.925Z"
   },
   {
    "duration": 62,
    "start_time": "2024-06-23T17:29:57.045Z"
   },
   {
    "duration": 93,
    "start_time": "2024-06-23T17:29:57.109Z"
   },
   {
    "duration": 6,
    "start_time": "2024-06-23T17:29:57.204Z"
   },
   {
    "duration": 42,
    "start_time": "2024-06-23T17:29:57.213Z"
   },
   {
    "duration": 35,
    "start_time": "2024-06-23T17:29:57.257Z"
   },
   {
    "duration": 36,
    "start_time": "2024-06-23T17:29:57.294Z"
   },
   {
    "duration": 7,
    "start_time": "2024-06-23T17:29:57.332Z"
   },
   {
    "duration": 27,
    "start_time": "2024-06-23T17:29:57.341Z"
   },
   {
    "duration": 31,
    "start_time": "2024-06-23T17:29:57.374Z"
   },
   {
    "duration": 5,
    "start_time": "2024-06-23T17:29:57.406Z"
   },
   {
    "duration": 45,
    "start_time": "2024-06-23T17:29:57.413Z"
   },
   {
    "duration": 725,
    "start_time": "2024-06-23T17:29:57.460Z"
   },
   {
    "duration": 106,
    "start_time": "2024-06-23T17:30:22.178Z"
   },
   {
    "duration": 96,
    "start_time": "2024-06-23T17:31:25.480Z"
   },
   {
    "duration": 14,
    "start_time": "2024-06-23T17:31:30.335Z"
   },
   {
    "duration": 57,
    "start_time": "2024-06-23T17:34:51.957Z"
   },
   {
    "duration": 7,
    "start_time": "2024-06-23T17:35:06.617Z"
   },
   {
    "duration": 2370,
    "start_time": "2024-06-23T17:35:20.824Z"
   },
   {
    "duration": 12201,
    "start_time": "2024-06-23T17:35:36.728Z"
   },
   {
    "duration": 6,
    "start_time": "2024-06-23T17:35:48.932Z"
   },
   {
    "duration": 3121,
    "start_time": "2024-06-23T17:35:48.940Z"
   },
   {
    "duration": 20,
    "start_time": "2024-06-23T17:35:52.063Z"
   },
   {
    "duration": 8,
    "start_time": "2024-06-23T17:35:52.085Z"
   },
   {
    "duration": 433,
    "start_time": "2024-06-23T17:35:52.094Z"
   },
   {
    "duration": 107,
    "start_time": "2024-06-23T17:35:52.528Z"
   },
   {
    "duration": 307,
    "start_time": "2024-06-23T17:35:52.636Z"
   },
   {
    "duration": 311,
    "start_time": "2024-06-23T17:35:52.945Z"
   },
   {
    "duration": 157,
    "start_time": "2024-06-23T17:35:53.258Z"
   },
   {
    "duration": 54,
    "start_time": "2024-06-23T17:35:53.416Z"
   },
   {
    "duration": 101,
    "start_time": "2024-06-23T17:35:53.472Z"
   },
   {
    "duration": 10,
    "start_time": "2024-06-23T17:35:53.574Z"
   },
   {
    "duration": 33,
    "start_time": "2024-06-23T17:35:53.585Z"
   },
   {
    "duration": 6,
    "start_time": "2024-06-23T17:35:53.620Z"
   },
   {
    "duration": 67,
    "start_time": "2024-06-23T17:35:53.627Z"
   },
   {
    "duration": 7,
    "start_time": "2024-06-23T17:35:53.696Z"
   },
   {
    "duration": 74,
    "start_time": "2024-06-23T17:35:53.704Z"
   },
   {
    "duration": 41,
    "start_time": "2024-06-23T17:35:53.779Z"
   },
   {
    "duration": 9,
    "start_time": "2024-06-23T17:35:53.822Z"
   },
   {
    "duration": 43,
    "start_time": "2024-06-23T17:35:53.833Z"
   },
   {
    "duration": 720,
    "start_time": "2024-06-23T17:35:53.879Z"
   },
   {
    "duration": 12371,
    "start_time": "2024-06-23T17:36:30.826Z"
   },
   {
    "duration": 2664,
    "start_time": "2024-06-23T17:36:43.199Z"
   },
   {
    "duration": 3127,
    "start_time": "2024-06-23T17:36:45.864Z"
   },
   {
    "duration": 12,
    "start_time": "2024-06-23T17:36:48.995Z"
   },
   {
    "duration": 11,
    "start_time": "2024-06-23T17:36:49.010Z"
   },
   {
    "duration": 490,
    "start_time": "2024-06-23T17:36:49.022Z"
   },
   {
    "duration": 162,
    "start_time": "2024-06-23T17:36:49.514Z"
   },
   {
    "duration": 443,
    "start_time": "2024-06-23T17:36:49.678Z"
   },
   {
    "duration": 322,
    "start_time": "2024-06-23T17:36:50.123Z"
   },
   {
    "duration": 134,
    "start_time": "2024-06-23T17:36:50.447Z"
   },
   {
    "duration": 46,
    "start_time": "2024-06-23T17:36:50.582Z"
   },
   {
    "duration": 116,
    "start_time": "2024-06-23T17:36:50.629Z"
   },
   {
    "duration": 9,
    "start_time": "2024-06-23T17:36:50.747Z"
   },
   {
    "duration": 38,
    "start_time": "2024-06-23T17:36:50.770Z"
   },
   {
    "duration": 6,
    "start_time": "2024-06-23T17:36:50.810Z"
   },
   {
    "duration": 51,
    "start_time": "2024-06-23T17:36:50.818Z"
   },
   {
    "duration": 9,
    "start_time": "2024-06-23T17:36:50.871Z"
   },
   {
    "duration": 34,
    "start_time": "2024-06-23T17:36:50.882Z"
   },
   {
    "duration": 31,
    "start_time": "2024-06-23T17:36:50.919Z"
   },
   {
    "duration": 14,
    "start_time": "2024-06-23T17:36:50.967Z"
   },
   {
    "duration": 23,
    "start_time": "2024-06-23T17:36:50.983Z"
   },
   {
    "duration": 733,
    "start_time": "2024-06-23T17:36:51.008Z"
   },
   {
    "duration": 45,
    "start_time": "2024-06-23T17:44:07.076Z"
   },
   {
    "duration": 12194,
    "start_time": "2024-06-23T17:44:22.596Z"
   },
   {
    "duration": 2934,
    "start_time": "2024-06-23T17:44:34.793Z"
   },
   {
    "duration": 3092,
    "start_time": "2024-06-23T17:44:37.729Z"
   },
   {
    "duration": 8,
    "start_time": "2024-06-23T17:44:40.822Z"
   },
   {
    "duration": 16,
    "start_time": "2024-06-23T17:44:40.831Z"
   },
   {
    "duration": 432,
    "start_time": "2024-06-23T17:44:40.848Z"
   },
   {
    "duration": 104,
    "start_time": "2024-06-23T17:44:41.284Z"
   },
   {
    "duration": 337,
    "start_time": "2024-06-23T17:44:41.390Z"
   },
   {
    "duration": 313,
    "start_time": "2024-06-23T17:44:41.728Z"
   },
   {
    "duration": 125,
    "start_time": "2024-06-23T17:44:42.044Z"
   },
   {
    "duration": 44,
    "start_time": "2024-06-23T17:44:42.177Z"
   },
   {
    "duration": 94,
    "start_time": "2024-06-23T17:44:42.223Z"
   },
   {
    "duration": 7,
    "start_time": "2024-06-23T17:44:42.318Z"
   },
   {
    "duration": 46,
    "start_time": "2024-06-23T17:44:42.327Z"
   },
   {
    "duration": 6,
    "start_time": "2024-06-23T17:44:42.376Z"
   },
   {
    "duration": 29,
    "start_time": "2024-06-23T17:44:42.384Z"
   },
   {
    "duration": 7,
    "start_time": "2024-06-23T17:44:42.415Z"
   },
   {
    "duration": 48,
    "start_time": "2024-06-23T17:44:42.423Z"
   },
   {
    "duration": 31,
    "start_time": "2024-06-23T17:44:42.472Z"
   },
   {
    "duration": 5,
    "start_time": "2024-06-23T17:44:42.505Z"
   },
   {
    "duration": 20,
    "start_time": "2024-06-23T17:44:42.511Z"
   },
   {
    "duration": 750,
    "start_time": "2024-06-23T17:44:42.532Z"
   },
   {
    "duration": 55995,
    "start_time": "2024-06-23T17:44:43.284Z"
   },
   {
    "duration": 118,
    "start_time": "2024-06-23T17:45:39.281Z"
   },
   {
    "duration": 47,
    "start_time": "2024-06-23T17:45:39.401Z"
   },
   {
    "duration": 102,
    "start_time": "2024-06-23T17:45:39.450Z"
   },
   {
    "duration": 0,
    "start_time": "2024-06-23T17:45:39.554Z"
   },
   {
    "duration": 0,
    "start_time": "2024-06-23T17:45:39.555Z"
   },
   {
    "duration": 10,
    "start_time": "2024-06-23T17:46:28.421Z"
   },
   {
    "duration": 6,
    "start_time": "2024-06-23T17:46:40.979Z"
   },
   {
    "duration": 3,
    "start_time": "2024-06-23T17:46:47.797Z"
   },
   {
    "duration": 289472,
    "start_time": "2024-06-23T17:46:51.517Z"
   },
   {
    "duration": 14,
    "start_time": "2024-06-23T18:05:16.615Z"
   },
   {
    "duration": 10,
    "start_time": "2024-06-23T18:05:51.841Z"
   },
   {
    "duration": 4,
    "start_time": "2024-06-23T18:07:02.508Z"
   },
   {
    "duration": 4,
    "start_time": "2024-06-23T18:07:16.248Z"
   },
   {
    "duration": 694955,
    "start_time": "2024-06-23T18:07:21.323Z"
   },
   {
    "duration": 5,
    "start_time": "2024-06-23T18:21:26.708Z"
   },
   {
    "duration": 458653,
    "start_time": "2024-06-23T18:21:30.432Z"
   },
   {
    "duration": 23,
    "start_time": "2024-06-23T18:42:03.995Z"
   },
   {
    "duration": 52968,
    "start_time": "2024-06-23T18:42:17.699Z"
   },
   {
    "duration": 31,
    "start_time": "2024-06-23T18:43:19.688Z"
   },
   {
    "duration": 47,
    "start_time": "2024-06-23T18:44:35.940Z"
   },
   {
    "duration": 4,
    "start_time": "2024-06-23T18:44:42.760Z"
   },
   {
    "duration": 38,
    "start_time": "2024-06-23T18:47:56.179Z"
   },
   {
    "duration": 28,
    "start_time": "2024-06-23T18:48:15.219Z"
   },
   {
    "duration": 918,
    "start_time": "2024-06-23T18:48:33.600Z"
   },
   {
    "duration": 24,
    "start_time": "2024-06-23T18:48:56.740Z"
   },
   {
    "duration": 38,
    "start_time": "2024-06-23T18:49:06.939Z"
   },
   {
    "duration": 42,
    "start_time": "2024-06-23T18:51:00.739Z"
   },
   {
    "duration": 37,
    "start_time": "2024-06-23T18:51:05.390Z"
   },
   {
    "duration": 62,
    "start_time": "2024-06-23T18:51:15.702Z"
   },
   {
    "duration": 42,
    "start_time": "2024-06-23T18:51:18.839Z"
   },
   {
    "duration": 76,
    "start_time": "2024-06-23T18:53:02.839Z"
   },
   {
    "duration": 38,
    "start_time": "2024-06-23T18:54:17.339Z"
   },
   {
    "duration": 163,
    "start_time": "2024-06-23T18:54:48.039Z"
   },
   {
    "duration": 37,
    "start_time": "2024-06-23T18:54:56.959Z"
   },
   {
    "duration": 29,
    "start_time": "2024-06-23T18:55:09.379Z"
   },
   {
    "duration": 58,
    "start_time": "2024-06-24T07:17:19.440Z"
   },
   {
    "duration": 42,
    "start_time": "2024-06-24T07:17:25.691Z"
   },
   {
    "duration": 27099,
    "start_time": "2024-06-24T07:17:30.790Z"
   },
   {
    "duration": 1877,
    "start_time": "2024-06-24T07:17:57.891Z"
   },
   {
    "duration": 1116,
    "start_time": "2024-06-24T07:17:59.769Z"
   },
   {
    "duration": 9,
    "start_time": "2024-06-24T07:18:00.887Z"
   },
   {
    "duration": 63,
    "start_time": "2024-06-24T07:18:00.898Z"
   },
   {
    "duration": 451,
    "start_time": "2024-06-24T07:18:00.963Z"
   },
   {
    "duration": 97,
    "start_time": "2024-06-24T07:18:01.416Z"
   },
   {
    "duration": 297,
    "start_time": "2024-06-24T07:18:01.514Z"
   },
   {
    "duration": 305,
    "start_time": "2024-06-24T07:18:01.813Z"
   },
   {
    "duration": 111,
    "start_time": "2024-06-24T07:18:02.120Z"
   },
   {
    "duration": 42,
    "start_time": "2024-06-24T07:18:02.232Z"
   },
   {
    "duration": 135,
    "start_time": "2024-06-24T07:18:02.276Z"
   },
   {
    "duration": 140,
    "start_time": "2024-06-24T07:18:02.412Z"
   },
   {
    "duration": 6,
    "start_time": "2024-06-24T07:18:02.554Z"
   },
   {
    "duration": 60,
    "start_time": "2024-06-24T07:18:02.562Z"
   },
   {
    "duration": 18,
    "start_time": "2024-06-24T07:18:02.624Z"
   },
   {
    "duration": 54,
    "start_time": "2024-06-24T07:18:02.643Z"
   },
   {
    "duration": 8,
    "start_time": "2024-06-24T07:18:02.699Z"
   },
   {
    "duration": 60,
    "start_time": "2024-06-24T07:18:02.708Z"
   },
   {
    "duration": 15,
    "start_time": "2024-06-24T07:18:02.770Z"
   },
   {
    "duration": 91,
    "start_time": "2024-06-24T07:18:02.787Z"
   },
   {
    "duration": 711,
    "start_time": "2024-06-24T07:18:02.879Z"
   },
   {
    "duration": 79,
    "start_time": "2024-06-24T07:18:03.592Z"
   },
   {
    "duration": 0,
    "start_time": "2024-06-24T07:18:03.673Z"
   },
   {
    "duration": 0,
    "start_time": "2024-06-24T07:18:03.674Z"
   },
   {
    "duration": 0,
    "start_time": "2024-06-24T07:18:03.675Z"
   },
   {
    "duration": 0,
    "start_time": "2024-06-24T07:18:03.676Z"
   },
   {
    "duration": 0,
    "start_time": "2024-06-24T07:18:03.677Z"
   },
   {
    "duration": 1705,
    "start_time": "2024-06-24T07:18:17.810Z"
   },
   {
    "duration": 5,
    "start_time": "2024-06-24T07:28:26.429Z"
   },
   {
    "duration": 6,
    "start_time": "2024-06-24T07:29:13.830Z"
   },
   {
    "duration": 17,
    "start_time": "2024-06-24T07:43:46.079Z"
   },
   {
    "duration": 7,
    "start_time": "2024-06-24T07:46:45.650Z"
   },
   {
    "duration": 16,
    "start_time": "2024-06-24T07:47:07.908Z"
   },
   {
    "duration": 3,
    "start_time": "2024-06-24T07:54:17.229Z"
   },
   {
    "duration": 15,
    "start_time": "2024-06-24T08:06:26.179Z"
   },
   {
    "duration": 13656,
    "start_time": "2024-06-24T08:07:34.218Z"
   },
   {
    "duration": 5,
    "start_time": "2024-06-24T08:07:47.876Z"
   },
   {
    "duration": 778,
    "start_time": "2024-06-24T08:07:47.882Z"
   },
   {
    "duration": 8,
    "start_time": "2024-06-24T08:07:48.662Z"
   },
   {
    "duration": 10,
    "start_time": "2024-06-24T08:07:48.672Z"
   },
   {
    "duration": 316,
    "start_time": "2024-06-24T08:07:48.684Z"
   },
   {
    "duration": 81,
    "start_time": "2024-06-24T08:07:49.001Z"
   },
   {
    "duration": 269,
    "start_time": "2024-06-24T08:07:49.083Z"
   },
   {
    "duration": 306,
    "start_time": "2024-06-24T08:07:49.353Z"
   },
   {
    "duration": 112,
    "start_time": "2024-06-24T08:07:49.662Z"
   },
   {
    "duration": 54,
    "start_time": "2024-06-24T08:07:49.776Z"
   },
   {
    "duration": 96,
    "start_time": "2024-06-24T08:07:49.831Z"
   },
   {
    "duration": 6,
    "start_time": "2024-06-24T08:07:49.928Z"
   },
   {
    "duration": 33,
    "start_time": "2024-06-24T08:07:49.935Z"
   },
   {
    "duration": 5,
    "start_time": "2024-06-24T08:07:49.970Z"
   },
   {
    "duration": 57,
    "start_time": "2024-06-24T08:07:49.976Z"
   },
   {
    "duration": 8,
    "start_time": "2024-06-24T08:07:50.035Z"
   },
   {
    "duration": 36,
    "start_time": "2024-06-24T08:07:50.045Z"
   },
   {
    "duration": 6,
    "start_time": "2024-06-24T08:07:50.082Z"
   },
   {
    "duration": 53,
    "start_time": "2024-06-24T08:07:50.089Z"
   },
   {
    "duration": 5,
    "start_time": "2024-06-24T08:07:50.143Z"
   },
   {
    "duration": 4,
    "start_time": "2024-06-24T08:07:50.150Z"
   },
   {
    "duration": 18,
    "start_time": "2024-06-24T08:07:50.155Z"
   },
   {
    "duration": 7,
    "start_time": "2024-06-24T08:07:50.174Z"
   },
   {
    "duration": 6,
    "start_time": "2024-06-24T08:09:16.676Z"
   },
   {
    "duration": 15,
    "start_time": "2024-06-24T08:09:21.046Z"
   },
   {
    "duration": 16,
    "start_time": "2024-06-24T08:09:27.078Z"
   },
   {
    "duration": 777,
    "start_time": "2024-06-24T08:10:19.979Z"
   },
   {
    "duration": 813,
    "start_time": "2024-06-24T08:10:29.919Z"
   },
   {
    "duration": 1170,
    "start_time": "2024-06-24T08:10:38.959Z"
   },
   {
    "duration": 3393,
    "start_time": "2024-06-24T08:10:59.088Z"
   },
   {
    "duration": 1035,
    "start_time": "2024-06-24T08:11:40.658Z"
   },
   {
    "duration": 79,
    "start_time": "2024-06-24T08:12:42.138Z"
   },
   {
    "duration": 63,
    "start_time": "2024-06-24T08:13:13.098Z"
   },
   {
    "duration": 54,
    "start_time": "2024-06-24T08:13:24.155Z"
   },
   {
    "duration": 66,
    "start_time": "2024-06-24T08:13:34.059Z"
   },
   {
    "duration": 4,
    "start_time": "2024-06-24T08:15:18.899Z"
   },
   {
    "duration": 4,
    "start_time": "2024-06-24T08:15:23.379Z"
   },
   {
    "duration": 13846,
    "start_time": "2024-06-24T08:15:29.493Z"
   },
   {
    "duration": 5,
    "start_time": "2024-06-24T08:15:43.341Z"
   },
   {
    "duration": 853,
    "start_time": "2024-06-24T08:15:43.348Z"
   },
   {
    "duration": 14,
    "start_time": "2024-06-24T08:15:44.202Z"
   },
   {
    "duration": 4,
    "start_time": "2024-06-24T08:15:44.217Z"
   },
   {
    "duration": 304,
    "start_time": "2024-06-24T08:15:44.222Z"
   },
   {
    "duration": 84,
    "start_time": "2024-06-24T08:15:44.527Z"
   },
   {
    "duration": 238,
    "start_time": "2024-06-24T08:15:44.612Z"
   },
   {
    "duration": 271,
    "start_time": "2024-06-24T08:15:44.851Z"
   },
   {
    "duration": 122,
    "start_time": "2024-06-24T08:15:45.124Z"
   },
   {
    "duration": 72,
    "start_time": "2024-06-24T08:15:45.248Z"
   },
   {
    "duration": 121,
    "start_time": "2024-06-24T08:15:45.321Z"
   },
   {
    "duration": 7,
    "start_time": "2024-06-24T08:15:45.444Z"
   },
   {
    "duration": 36,
    "start_time": "2024-06-24T08:15:45.452Z"
   },
   {
    "duration": 7,
    "start_time": "2024-06-24T08:15:45.509Z"
   },
   {
    "duration": 51,
    "start_time": "2024-06-24T08:15:45.518Z"
   },
   {
    "duration": 9,
    "start_time": "2024-06-24T08:15:45.570Z"
   },
   {
    "duration": 33,
    "start_time": "2024-06-24T08:15:45.581Z"
   },
   {
    "duration": 6,
    "start_time": "2024-06-24T08:15:45.616Z"
   },
   {
    "duration": 41,
    "start_time": "2024-06-24T08:15:45.624Z"
   },
   {
    "duration": 4,
    "start_time": "2024-06-24T08:15:49.839Z"
   },
   {
    "duration": 1615,
    "start_time": "2024-06-24T08:20:06.899Z"
   },
   {
    "duration": 1405,
    "start_time": "2024-06-24T08:21:25.638Z"
   },
   {
    "duration": 4,
    "start_time": "2024-06-24T08:23:02.781Z"
   },
   {
    "duration": 13668,
    "start_time": "2024-06-24T08:23:11.299Z"
   },
   {
    "duration": 6,
    "start_time": "2024-06-24T08:23:24.969Z"
   },
   {
    "duration": 838,
    "start_time": "2024-06-24T08:23:24.976Z"
   },
   {
    "duration": 8,
    "start_time": "2024-06-24T08:23:25.815Z"
   },
   {
    "duration": 4,
    "start_time": "2024-06-24T08:23:25.826Z"
   },
   {
    "duration": 325,
    "start_time": "2024-06-24T08:23:25.831Z"
   },
   {
    "duration": 76,
    "start_time": "2024-06-24T08:23:26.157Z"
   },
   {
    "duration": 235,
    "start_time": "2024-06-24T08:23:26.235Z"
   },
   {
    "duration": 277,
    "start_time": "2024-06-24T08:23:26.472Z"
   },
   {
    "duration": 109,
    "start_time": "2024-06-24T08:23:26.750Z"
   },
   {
    "duration": 50,
    "start_time": "2024-06-24T08:23:26.860Z"
   },
   {
    "duration": 81,
    "start_time": "2024-06-24T08:23:26.911Z"
   },
   {
    "duration": 18,
    "start_time": "2024-06-24T08:23:26.994Z"
   },
   {
    "duration": 26,
    "start_time": "2024-06-24T08:23:27.014Z"
   },
   {
    "duration": 6,
    "start_time": "2024-06-24T08:23:27.041Z"
   },
   {
    "duration": 26,
    "start_time": "2024-06-24T08:23:27.048Z"
   },
   {
    "duration": 38,
    "start_time": "2024-06-24T08:23:27.076Z"
   },
   {
    "duration": 24,
    "start_time": "2024-06-24T08:23:27.116Z"
   },
   {
    "duration": 5,
    "start_time": "2024-06-24T08:23:27.141Z"
   },
   {
    "duration": 23,
    "start_time": "2024-06-24T08:23:27.147Z"
   },
   {
    "duration": 4,
    "start_time": "2024-06-24T08:23:27.172Z"
   },
   {
    "duration": 7,
    "start_time": "2024-06-24T08:23:27.209Z"
   },
   {
    "duration": 5,
    "start_time": "2024-06-24T08:23:27.218Z"
   },
   {
    "duration": 13,
    "start_time": "2024-06-24T08:23:27.224Z"
   },
   {
    "duration": 26,
    "start_time": "2024-06-24T08:23:27.238Z"
   },
   {
    "duration": 7,
    "start_time": "2024-06-24T08:23:27.266Z"
   },
   {
    "duration": 50,
    "start_time": "2024-06-24T08:23:27.274Z"
   },
   {
    "duration": 1223,
    "start_time": "2024-06-24T08:25:24.425Z"
   },
   {
    "duration": 13849,
    "start_time": "2024-06-24T08:26:38.510Z"
   },
   {
    "duration": 5,
    "start_time": "2024-06-24T08:26:52.362Z"
   },
   {
    "duration": 826,
    "start_time": "2024-06-24T08:26:52.368Z"
   },
   {
    "duration": 14,
    "start_time": "2024-06-24T08:26:53.196Z"
   },
   {
    "duration": 4,
    "start_time": "2024-06-24T08:26:53.212Z"
   },
   {
    "duration": 389,
    "start_time": "2024-06-24T08:26:53.217Z"
   },
   {
    "duration": 73,
    "start_time": "2024-06-24T08:26:53.608Z"
   },
   {
    "duration": 327,
    "start_time": "2024-06-24T08:26:53.683Z"
   },
   {
    "duration": 287,
    "start_time": "2024-06-24T08:26:54.011Z"
   },
   {
    "duration": 110,
    "start_time": "2024-06-24T08:26:54.300Z"
   },
   {
    "duration": 42,
    "start_time": "2024-06-24T08:26:54.412Z"
   },
   {
    "duration": 103,
    "start_time": "2024-06-24T08:26:54.455Z"
   },
   {
    "duration": 6,
    "start_time": "2024-06-24T08:26:54.559Z"
   },
   {
    "duration": 41,
    "start_time": "2024-06-24T08:26:54.568Z"
   },
   {
    "duration": 5,
    "start_time": "2024-06-24T08:26:54.611Z"
   },
   {
    "duration": 25,
    "start_time": "2024-06-24T08:26:54.618Z"
   },
   {
    "duration": 8,
    "start_time": "2024-06-24T08:26:54.644Z"
   },
   {
    "duration": 57,
    "start_time": "2024-06-24T08:26:54.654Z"
   },
   {
    "duration": 5,
    "start_time": "2024-06-24T08:26:54.713Z"
   },
   {
    "duration": 21,
    "start_time": "2024-06-24T08:26:54.719Z"
   },
   {
    "duration": 7,
    "start_time": "2024-06-24T08:26:54.742Z"
   },
   {
    "duration": 7,
    "start_time": "2024-06-24T08:26:54.750Z"
   },
   {
    "duration": 5,
    "start_time": "2024-06-24T08:26:54.759Z"
   },
   {
    "duration": 16,
    "start_time": "2024-06-24T08:26:59.579Z"
   },
   {
    "duration": 4,
    "start_time": "2024-06-24T08:27:41.199Z"
   },
   {
    "duration": 24,
    "start_time": "2024-06-24T08:27:44.208Z"
   },
   {
    "duration": 7,
    "start_time": "2024-06-24T08:27:45.859Z"
   },
   {
    "duration": 19,
    "start_time": "2024-06-24T08:27:47.879Z"
   },
   {
    "duration": 1451,
    "start_time": "2024-06-24T08:27:50.049Z"
   },
   {
    "duration": 1458,
    "start_time": "2024-06-24T08:30:19.165Z"
   },
   {
    "duration": 1175,
    "start_time": "2024-06-24T08:32:44.661Z"
   },
   {
    "duration": 1265,
    "start_time": "2024-06-24T08:34:38.859Z"
   },
   {
    "duration": 44,
    "start_time": "2024-06-24T08:37:32.092Z"
   },
   {
    "duration": 23,
    "start_time": "2024-06-24T08:40:40.015Z"
   },
   {
    "duration": 56,
    "start_time": "2024-06-24T09:03:59.899Z"
   },
   {
    "duration": 18,
    "start_time": "2024-06-24T09:10:12.388Z"
   },
   {
    "duration": 70,
    "start_time": "2024-06-24T09:10:18.197Z"
   },
   {
    "duration": 19,
    "start_time": "2024-06-24T09:11:50.852Z"
   },
   {
    "duration": 55,
    "start_time": "2024-06-24T09:11:55.292Z"
   },
   {
    "duration": 84,
    "start_time": "2024-06-24T09:16:17.642Z"
   },
   {
    "duration": 5,
    "start_time": "2024-06-24T09:16:20.269Z"
   },
   {
    "duration": 22,
    "start_time": "2024-06-24T09:17:37.332Z"
   },
   {
    "duration": 15,
    "start_time": "2024-06-24T09:23:35.168Z"
   },
   {
    "duration": 6,
    "start_time": "2024-06-24T09:27:02.918Z"
   },
   {
    "duration": 6,
    "start_time": "2024-06-24T09:28:42.156Z"
   },
   {
    "duration": 9,
    "start_time": "2024-06-24T09:28:46.157Z"
   },
   {
    "duration": 14017,
    "start_time": "2024-06-24T09:28:54.320Z"
   },
   {
    "duration": 7,
    "start_time": "2024-06-24T09:29:08.340Z"
   },
   {
    "duration": 834,
    "start_time": "2024-06-24T09:29:08.348Z"
   },
   {
    "duration": 7,
    "start_time": "2024-06-24T09:29:09.184Z"
   },
   {
    "duration": 4,
    "start_time": "2024-06-24T09:29:09.193Z"
   },
   {
    "duration": 307,
    "start_time": "2024-06-24T09:29:09.209Z"
   },
   {
    "duration": 274,
    "start_time": "2024-06-24T09:29:09.518Z"
   },
   {
    "duration": 268,
    "start_time": "2024-06-24T09:29:09.793Z"
   },
   {
    "duration": 123,
    "start_time": "2024-06-24T09:29:10.063Z"
   },
   {
    "duration": 61,
    "start_time": "2024-06-24T09:29:10.190Z"
   },
   {
    "duration": 100,
    "start_time": "2024-06-24T09:29:10.252Z"
   },
   {
    "duration": 6,
    "start_time": "2024-06-24T09:29:10.354Z"
   },
   {
    "duration": 51,
    "start_time": "2024-06-24T09:29:10.362Z"
   },
   {
    "duration": 7,
    "start_time": "2024-06-24T09:29:10.415Z"
   },
   {
    "duration": 25,
    "start_time": "2024-06-24T09:29:10.424Z"
   },
   {
    "duration": 10,
    "start_time": "2024-06-24T09:29:10.451Z"
   },
   {
    "duration": 58,
    "start_time": "2024-06-24T09:29:10.463Z"
   },
   {
    "duration": 5,
    "start_time": "2024-06-24T09:29:10.523Z"
   },
   {
    "duration": 26,
    "start_time": "2024-06-24T09:29:10.529Z"
   },
   {
    "duration": 89,
    "start_time": "2024-06-24T09:29:10.556Z"
   },
   {
    "duration": 18,
    "start_time": "2024-06-24T09:29:10.647Z"
   },
   {
    "duration": 71,
    "start_time": "2024-06-24T09:29:10.666Z"
   },
   {
    "duration": 4,
    "start_time": "2024-06-24T09:29:10.739Z"
   },
   {
    "duration": 9,
    "start_time": "2024-06-24T09:29:10.744Z"
   },
   {
    "duration": 5,
    "start_time": "2024-06-24T09:29:10.755Z"
   },
   {
    "duration": 13,
    "start_time": "2024-06-24T09:29:10.762Z"
   },
   {
    "duration": 52,
    "start_time": "2024-06-24T09:29:10.777Z"
   },
   {
    "duration": 9,
    "start_time": "2024-06-24T09:29:10.834Z"
   },
   {
    "duration": 19,
    "start_time": "2024-06-24T09:29:10.845Z"
   },
   {
    "duration": 1664,
    "start_time": "2024-06-24T09:29:10.866Z"
   },
   {
    "duration": 1485,
    "start_time": "2024-06-24T09:29:12.532Z"
   },
   {
    "duration": 21,
    "start_time": "2024-06-24T09:29:14.019Z"
   },
   {
    "duration": 61,
    "start_time": "2024-06-24T09:29:14.041Z"
   },
   {
    "duration": 0,
    "start_time": "2024-06-24T09:29:14.103Z"
   },
   {
    "duration": 0,
    "start_time": "2024-06-24T09:29:14.104Z"
   },
   {
    "duration": 0,
    "start_time": "2024-06-24T09:29:14.106Z"
   },
   {
    "duration": 0,
    "start_time": "2024-06-24T09:29:14.107Z"
   },
   {
    "duration": 0,
    "start_time": "2024-06-24T09:29:14.109Z"
   },
   {
    "duration": 0,
    "start_time": "2024-06-24T09:29:14.110Z"
   },
   {
    "duration": 0,
    "start_time": "2024-06-24T09:29:14.111Z"
   },
   {
    "duration": 11,
    "start_time": "2024-06-24T09:46:00.122Z"
   },
   {
    "duration": 14065,
    "start_time": "2024-06-24T09:46:15.983Z"
   },
   {
    "duration": 11,
    "start_time": "2024-06-24T09:46:30.052Z"
   },
   {
    "duration": 896,
    "start_time": "2024-06-24T09:46:30.065Z"
   },
   {
    "duration": 10,
    "start_time": "2024-06-24T09:46:30.964Z"
   },
   {
    "duration": 144,
    "start_time": "2024-06-24T09:46:30.975Z"
   },
   {
    "duration": 428,
    "start_time": "2024-06-24T09:46:31.121Z"
   },
   {
    "duration": 269,
    "start_time": "2024-06-24T09:46:31.551Z"
   },
   {
    "duration": 325,
    "start_time": "2024-06-24T09:46:31.822Z"
   },
   {
    "duration": 113,
    "start_time": "2024-06-24T09:46:32.149Z"
   },
   {
    "duration": 59,
    "start_time": "2024-06-24T09:46:32.266Z"
   },
   {
    "duration": 93,
    "start_time": "2024-06-24T09:46:32.326Z"
   },
   {
    "duration": 5,
    "start_time": "2024-06-24T09:46:32.420Z"
   },
   {
    "duration": 73,
    "start_time": "2024-06-24T09:46:32.426Z"
   },
   {
    "duration": 46,
    "start_time": "2024-06-24T09:46:32.501Z"
   },
   {
    "duration": 64,
    "start_time": "2024-06-24T09:46:32.549Z"
   },
   {
    "duration": 21,
    "start_time": "2024-06-24T09:46:32.615Z"
   },
   {
    "duration": 30,
    "start_time": "2024-06-24T09:46:32.637Z"
   },
   {
    "duration": 5,
    "start_time": "2024-06-24T09:46:32.668Z"
   },
   {
    "duration": 37,
    "start_time": "2024-06-24T09:46:32.675Z"
   },
   {
    "duration": 88,
    "start_time": "2024-06-24T09:46:32.713Z"
   },
   {
    "duration": 19,
    "start_time": "2024-06-24T09:46:32.802Z"
   },
   {
    "duration": 49,
    "start_time": "2024-06-24T09:46:32.823Z"
   },
   {
    "duration": 4,
    "start_time": "2024-06-24T09:46:32.875Z"
   },
   {
    "duration": 31,
    "start_time": "2024-06-24T09:46:32.880Z"
   },
   {
    "duration": 6,
    "start_time": "2024-06-24T09:46:32.913Z"
   },
   {
    "duration": 5,
    "start_time": "2024-06-24T09:46:32.920Z"
   },
   {
    "duration": 21,
    "start_time": "2024-06-24T09:46:32.927Z"
   },
   {
    "duration": 7,
    "start_time": "2024-06-24T09:46:32.952Z"
   },
   {
    "duration": 59,
    "start_time": "2024-06-24T09:46:32.961Z"
   },
   {
    "duration": 1669,
    "start_time": "2024-06-24T09:46:33.021Z"
   },
   {
    "duration": 1327,
    "start_time": "2024-06-24T09:46:34.691Z"
   },
   {
    "duration": 21,
    "start_time": "2024-06-24T09:46:36.020Z"
   },
   {
    "duration": 66,
    "start_time": "2024-06-24T09:46:36.042Z"
   },
   {
    "duration": 0,
    "start_time": "2024-06-24T09:46:36.110Z"
   },
   {
    "duration": 0,
    "start_time": "2024-06-24T09:46:36.111Z"
   },
   {
    "duration": 0,
    "start_time": "2024-06-24T09:46:36.112Z"
   },
   {
    "duration": 0,
    "start_time": "2024-06-24T09:46:36.113Z"
   },
   {
    "duration": 0,
    "start_time": "2024-06-24T09:46:36.114Z"
   },
   {
    "duration": 0,
    "start_time": "2024-06-24T09:46:36.115Z"
   },
   {
    "duration": 0,
    "start_time": "2024-06-24T09:46:36.116Z"
   },
   {
    "duration": 12,
    "start_time": "2024-06-24T09:47:05.989Z"
   },
   {
    "duration": 466,
    "start_time": "2024-06-24T09:47:29.146Z"
   },
   {
    "duration": 15,
    "start_time": "2024-06-24T09:47:34.278Z"
   },
   {
    "duration": 70,
    "start_time": "2024-06-24T09:48:05.639Z"
   },
   {
    "duration": 4,
    "start_time": "2024-06-24T09:48:13.921Z"
   },
   {
    "duration": 5,
    "start_time": "2024-06-24T09:48:33.395Z"
   },
   {
    "duration": 23580,
    "start_time": "2024-06-24T11:59:02.873Z"
   },
   {
    "duration": 1718,
    "start_time": "2024-06-24T11:59:26.455Z"
   },
   {
    "duration": 1077,
    "start_time": "2024-06-24T11:59:28.174Z"
   },
   {
    "duration": 8,
    "start_time": "2024-06-24T11:59:29.252Z"
   },
   {
    "duration": 13,
    "start_time": "2024-06-24T11:59:29.262Z"
   },
   {
    "duration": 367,
    "start_time": "2024-06-24T11:59:29.276Z"
   },
   {
    "duration": 284,
    "start_time": "2024-06-24T11:59:29.644Z"
   },
   {
    "duration": 254,
    "start_time": "2024-06-24T11:59:29.930Z"
   },
   {
    "duration": 106,
    "start_time": "2024-06-24T11:59:30.185Z"
   },
   {
    "duration": 63,
    "start_time": "2024-06-24T11:59:30.293Z"
   },
   {
    "duration": 130,
    "start_time": "2024-06-24T11:59:30.357Z"
   },
   {
    "duration": 5,
    "start_time": "2024-06-24T11:59:30.489Z"
   },
   {
    "duration": 115,
    "start_time": "2024-06-24T11:59:30.495Z"
   },
   {
    "duration": 60,
    "start_time": "2024-06-24T11:59:30.613Z"
   },
   {
    "duration": 70,
    "start_time": "2024-06-24T11:59:30.674Z"
   },
   {
    "duration": 28,
    "start_time": "2024-06-24T11:59:30.745Z"
   },
   {
    "duration": 49,
    "start_time": "2024-06-24T11:59:30.774Z"
   },
   {
    "duration": 28,
    "start_time": "2024-06-24T11:59:30.825Z"
   },
   {
    "duration": 65,
    "start_time": "2024-06-24T11:59:30.854Z"
   },
   {
    "duration": 86,
    "start_time": "2024-06-24T11:59:30.921Z"
   },
   {
    "duration": 17,
    "start_time": "2024-06-24T11:59:31.008Z"
   },
   {
    "duration": 90,
    "start_time": "2024-06-24T11:59:31.026Z"
   },
   {
    "duration": 4,
    "start_time": "2024-06-24T11:59:31.117Z"
   },
   {
    "duration": 32,
    "start_time": "2024-06-24T11:59:31.122Z"
   },
   {
    "duration": 35,
    "start_time": "2024-06-24T11:59:31.156Z"
   },
   {
    "duration": 19,
    "start_time": "2024-06-24T11:59:31.193Z"
   },
   {
    "duration": 39,
    "start_time": "2024-06-24T11:59:31.213Z"
   },
   {
    "duration": 36,
    "start_time": "2024-06-24T11:59:31.253Z"
   },
   {
    "duration": 35,
    "start_time": "2024-06-24T11:59:31.290Z"
   },
   {
    "duration": 1476,
    "start_time": "2024-06-24T11:59:31.326Z"
   },
   {
    "duration": 1178,
    "start_time": "2024-06-24T11:59:32.803Z"
   },
   {
    "duration": 25,
    "start_time": "2024-06-24T11:59:33.983Z"
   },
   {
    "duration": 448,
    "start_time": "2024-06-24T11:59:34.010Z"
   },
   {
    "duration": 3200,
    "start_time": "2024-06-24T11:59:34.460Z"
   },
   {
    "duration": 783,
    "start_time": "2024-06-24T11:59:37.661Z"
   },
   {
    "duration": 14,
    "start_time": "2024-06-24T11:59:38.445Z"
   },
   {
    "duration": 16,
    "start_time": "2024-06-24T11:59:49.666Z"
   },
   {
    "duration": 4,
    "start_time": "2024-06-24T11:59:53.120Z"
   },
   {
    "duration": 4,
    "start_time": "2024-06-24T11:59:55.151Z"
   },
   {
    "duration": 11873,
    "start_time": "2024-06-24T11:59:59.512Z"
   },
   {
    "duration": 116,
    "start_time": "2024-06-24T12:00:29.231Z"
   },
   {
    "duration": 19,
    "start_time": "2024-06-24T12:00:45.416Z"
   },
   {
    "duration": 88,
    "start_time": "2024-06-24T12:00:53.791Z"
   },
   {
    "duration": 24,
    "start_time": "2024-06-24T12:01:20.560Z"
   },
   {
    "duration": 3,
    "start_time": "2024-06-24T12:01:23.892Z"
   },
   {
    "duration": 5,
    "start_time": "2024-06-24T12:01:26.552Z"
   },
   {
    "duration": 101,
    "start_time": "2024-06-24T12:04:01.377Z"
   },
   {
    "duration": 70,
    "start_time": "2024-06-24T12:09:27.533Z"
   },
   {
    "duration": 59,
    "start_time": "2024-06-24T12:11:02.201Z"
   },
   {
    "duration": 66,
    "start_time": "2024-06-24T12:11:27.072Z"
   },
   {
    "duration": 3,
    "start_time": "2024-06-24T12:11:31.672Z"
   },
   {
    "duration": 5,
    "start_time": "2024-06-24T12:11:33.592Z"
   },
   {
    "duration": 14063,
    "start_time": "2024-06-24T12:11:36.612Z"
   },
   {
    "duration": 799,
    "start_time": "2024-06-24T12:11:54.381Z"
   },
   {
    "duration": 13869,
    "start_time": "2024-06-24T12:16:12.312Z"
   },
   {
    "duration": 824,
    "start_time": "2024-06-24T12:16:36.153Z"
   },
   {
    "duration": 54706,
    "start_time": "2024-06-24T12:16:52.971Z"
   },
   {
    "duration": 774,
    "start_time": "2024-06-24T12:17:57.713Z"
   },
   {
    "duration": 12460,
    "start_time": "2024-06-24T12:18:05.617Z"
   },
   {
    "duration": 772,
    "start_time": "2024-06-24T12:18:24.800Z"
   },
   {
    "duration": 62,
    "start_time": "2024-06-24T12:18:41.591Z"
   },
   {
    "duration": 4,
    "start_time": "2024-06-24T12:18:48.193Z"
   },
   {
    "duration": 3,
    "start_time": "2024-06-24T12:18:51.732Z"
   },
   {
    "duration": 71213,
    "start_time": "2024-06-24T12:19:11.470Z"
   },
   {
    "duration": 429,
    "start_time": "2024-06-24T12:21:20.061Z"
   },
   {
    "duration": 472,
    "start_time": "2024-06-24T12:21:40.061Z"
   },
   {
    "duration": 707,
    "start_time": "2024-06-24T12:22:13.268Z"
   },
   {
    "duration": 60,
    "start_time": "2024-06-24T12:22:28.534Z"
   },
   {
    "duration": 4,
    "start_time": "2024-06-24T12:22:32.311Z"
   },
   {
    "duration": 4,
    "start_time": "2024-06-24T12:22:38.892Z"
   },
   {
    "duration": 10934,
    "start_time": "2024-06-24T12:22:41.251Z"
   },
   {
    "duration": 800,
    "start_time": "2024-06-24T12:22:57.671Z"
   },
   {
    "duration": 61,
    "start_time": "2024-06-24T12:23:17.260Z"
   },
   {
    "duration": 3,
    "start_time": "2024-06-24T12:23:22.000Z"
   },
   {
    "duration": 3,
    "start_time": "2024-06-24T12:23:23.592Z"
   },
   {
    "duration": 7403,
    "start_time": "2024-06-24T12:23:25.440Z"
   },
   {
    "duration": 64,
    "start_time": "2024-06-24T12:24:31.305Z"
   },
   {
    "duration": 4,
    "start_time": "2024-06-24T12:24:34.376Z"
   },
   {
    "duration": 5,
    "start_time": "2024-06-24T12:24:37.345Z"
   },
   {
    "duration": 70,
    "start_time": "2024-06-24T12:26:30.548Z"
   },
   {
    "duration": 3,
    "start_time": "2024-06-24T12:26:34.286Z"
   },
   {
    "duration": 4,
    "start_time": "2024-06-24T12:26:35.764Z"
   },
   {
    "duration": 57482,
    "start_time": "2024-06-24T12:26:37.597Z"
   },
   {
    "duration": 770,
    "start_time": "2024-06-24T12:27:44.715Z"
   },
   {
    "duration": 11,
    "start_time": "2024-06-24T12:28:08.665Z"
   },
   {
    "duration": 3,
    "start_time": "2024-06-24T12:28:24.705Z"
   },
   {
    "duration": 15,
    "start_time": "2024-06-24T12:28:35.565Z"
   },
   {
    "duration": 14,
    "start_time": "2024-06-24T12:31:23.351Z"
   },
   {
    "duration": 10,
    "start_time": "2024-06-24T12:31:33.611Z"
   },
   {
    "duration": 14,
    "start_time": "2024-06-24T12:32:24.146Z"
   },
   {
    "duration": 61,
    "start_time": "2024-06-24T12:33:46.753Z"
   },
   {
    "duration": 3,
    "start_time": "2024-06-24T12:33:48.670Z"
   },
   {
    "duration": 4,
    "start_time": "2024-06-24T12:33:50.172Z"
   },
   {
    "duration": 74017,
    "start_time": "2024-06-24T12:33:53.169Z"
   },
   {
    "duration": 30,
    "start_time": "2024-06-24T12:35:17.586Z"
   },
   {
    "duration": 4,
    "start_time": "2024-06-24T12:36:01.822Z"
   },
   {
    "duration": 60224,
    "start_time": "2024-06-24T12:36:07.350Z"
   },
   {
    "duration": 29,
    "start_time": "2024-06-24T12:37:28.511Z"
   },
   {
    "duration": 4,
    "start_time": "2024-06-24T12:37:49.537Z"
   },
   {
    "duration": 60755,
    "start_time": "2024-06-24T12:37:53.821Z"
   },
   {
    "duration": 34,
    "start_time": "2024-06-24T12:39:04.461Z"
   },
   {
    "duration": 759,
    "start_time": "2024-06-24T12:39:18.221Z"
   },
   {
    "duration": 4,
    "start_time": "2024-06-24T12:40:10.555Z"
   },
   {
    "duration": 77544,
    "start_time": "2024-06-24T12:40:14.434Z"
   },
   {
    "duration": 29,
    "start_time": "2024-06-24T12:42:39.908Z"
   },
   {
    "duration": 724,
    "start_time": "2024-06-24T12:42:49.668Z"
   },
   {
    "duration": 4,
    "start_time": "2024-06-24T12:43:46.300Z"
   },
   {
    "duration": 87666,
    "start_time": "2024-06-24T12:43:50.018Z"
   },
   {
    "duration": 5,
    "start_time": "2024-06-24T12:45:51.790Z"
   },
   {
    "duration": 69056,
    "start_time": "2024-06-24T12:45:56.828Z"
   },
   {
    "duration": 6,
    "start_time": "2024-06-24T12:47:05.886Z"
   },
   {
    "duration": 42,
    "start_time": "2024-06-24T12:47:56.394Z"
   },
   {
    "duration": 42,
    "start_time": "2024-06-24T12:48:10.687Z"
   },
   {
    "duration": 4,
    "start_time": "2024-06-24T12:48:14.947Z"
   },
   {
    "duration": 5,
    "start_time": "2024-06-24T12:48:17.588Z"
   },
   {
    "duration": 65472,
    "start_time": "2024-06-24T12:48:21.506Z"
   },
   {
    "duration": 29,
    "start_time": "2024-06-24T12:49:34.875Z"
   },
   {
    "duration": 2777,
    "start_time": "2024-06-24T12:49:39.996Z"
   },
   {
    "duration": 10,
    "start_time": "2024-06-24T12:52:52.794Z"
   },
   {
    "duration": 2856,
    "start_time": "2024-06-24T12:57:22.634Z"
   },
   {
    "duration": 4,
    "start_time": "2024-06-24T12:59:19.943Z"
   },
   {
    "duration": 237954,
    "start_time": "2024-06-24T12:59:24.524Z"
   },
   {
    "duration": 18,
    "start_time": "2024-06-24T13:03:32.519Z"
   },
   {
    "duration": 18,
    "start_time": "2024-06-24T13:05:46.869Z"
   },
   {
    "duration": 18,
    "start_time": "2024-06-24T13:06:54.759Z"
   },
   {
    "duration": 22,
    "start_time": "2024-06-24T13:07:31.870Z"
   },
   {
    "duration": 17,
    "start_time": "2024-06-24T13:07:40.669Z"
   },
   {
    "duration": 17,
    "start_time": "2024-06-24T13:08:35.580Z"
   },
   {
    "duration": 43,
    "start_time": "2024-06-24T13:11:08.309Z"
   },
   {
    "duration": 51,
    "start_time": "2024-06-24T13:11:13.470Z"
   },
   {
    "duration": 3,
    "start_time": "2024-06-24T13:11:23.738Z"
   },
   {
    "duration": 5,
    "start_time": "2024-06-24T13:11:27.878Z"
   },
   {
    "duration": 62426,
    "start_time": "2024-06-24T13:11:34.350Z"
   },
   {
    "duration": 13,
    "start_time": "2024-06-24T13:13:14.220Z"
   },
   {
    "duration": 95820,
    "start_time": "2024-06-24T13:13:35.151Z"
   },
   {
    "duration": 15,
    "start_time": "2024-06-24T13:15:33.788Z"
   },
   {
    "duration": 2434,
    "start_time": "2024-06-24T13:15:41.947Z"
   },
   {
    "duration": 4,
    "start_time": "2024-06-24T13:22:00.859Z"
   },
   {
    "duration": 4,
    "start_time": "2024-06-24T13:22:29.515Z"
   },
   {
    "duration": 5044,
    "start_time": "2024-06-24T13:23:03.229Z"
   },
   {
    "duration": 5104,
    "start_time": "2024-06-24T13:24:53.467Z"
   },
   {
    "duration": 3,
    "start_time": "2024-06-24T13:25:19.706Z"
   },
   {
    "duration": 4,
    "start_time": "2024-06-24T13:27:55.388Z"
   },
   {
    "duration": 62407,
    "start_time": "2024-06-24T13:27:55.394Z"
   },
   {
    "duration": 4,
    "start_time": "2024-06-24T13:30:38.754Z"
   },
   {
    "duration": 9184,
    "start_time": "2024-06-24T13:30:43.612Z"
   },
   {
    "duration": 57914,
    "start_time": "2024-06-24T13:31:04.211Z"
   },
   {
    "duration": 10,
    "start_time": "2024-06-24T13:32:19.777Z"
   },
   {
    "duration": 58765,
    "start_time": "2024-06-24T13:32:31.354Z"
   },
   {
    "duration": 58978,
    "start_time": "2024-06-24T13:36:24.113Z"
   },
   {
    "duration": 58540,
    "start_time": "2024-06-24T13:42:33.793Z"
   },
   {
    "duration": 5197,
    "start_time": "2024-06-24T13:44:42.075Z"
   },
   {
    "duration": 59227,
    "start_time": "2024-06-24T13:45:49.515Z"
   },
   {
    "duration": 63,
    "start_time": "2024-06-24T13:51:48.819Z"
   },
   {
    "duration": 3,
    "start_time": "2024-06-24T13:51:58.749Z"
   },
   {
    "duration": 7830,
    "start_time": "2024-06-24T13:52:38.388Z"
   },
   {
    "duration": 5041,
    "start_time": "2024-06-24T13:56:14.867Z"
   },
   {
    "duration": 3,
    "start_time": "2024-06-24T13:56:25.116Z"
   },
   {
    "duration": 5242,
    "start_time": "2024-06-24T13:56:30.367Z"
   },
   {
    "duration": 5427,
    "start_time": "2024-06-24T13:56:48.476Z"
   },
   {
    "duration": 55671,
    "start_time": "2024-06-24T13:58:08.829Z"
   },
   {
    "duration": 65829,
    "start_time": "2024-06-24T13:59:29.787Z"
   },
   {
    "duration": 3,
    "start_time": "2024-06-24T14:04:15.551Z"
   },
   {
    "duration": 5365,
    "start_time": "2024-06-24T14:04:20.107Z"
   },
   {
    "duration": 54800,
    "start_time": "2024-06-24T14:04:38.508Z"
   },
   {
    "duration": 67455,
    "start_time": "2024-06-24T14:05:42.628Z"
   },
   {
    "duration": 536,
    "start_time": "2024-06-24T14:10:37.636Z"
   },
   {
    "duration": 58601,
    "start_time": "2024-06-24T14:10:52.182Z"
   },
   {
    "duration": 2262,
    "start_time": "2024-06-24T14:11:58.020Z"
   },
   {
    "duration": 821,
    "start_time": "2024-06-24T14:12:09.430Z"
   },
   {
    "duration": 651,
    "start_time": "2024-06-24T14:12:38.127Z"
   },
   {
    "duration": 859,
    "start_time": "2024-06-24T14:12:47.663Z"
   },
   {
    "duration": 46,
    "start_time": "2024-06-24T14:21:40.319Z"
   },
   {
    "duration": 3,
    "start_time": "2024-06-24T14:21:42.880Z"
   },
   {
    "duration": 4,
    "start_time": "2024-06-24T14:21:45.120Z"
   },
   {
    "duration": 8080,
    "start_time": "2024-06-24T14:21:52.208Z"
   },
   {
    "duration": 206450,
    "start_time": "2024-06-24T14:22:15.359Z"
   },
   {
    "duration": 55,
    "start_time": "2024-06-24T14:38:10.503Z"
   },
   {
    "duration": 93066,
    "start_time": "2024-06-24T14:39:25.223Z"
   },
   {
    "duration": 2070,
    "start_time": "2024-06-24T14:44:18.612Z"
   },
   {
    "duration": 12928,
    "start_time": "2024-06-24T14:55:42.421Z"
   },
   {
    "duration": 4,
    "start_time": "2024-06-24T14:55:55.352Z"
   },
   {
    "duration": 745,
    "start_time": "2024-06-24T14:55:55.358Z"
   },
   {
    "duration": 7,
    "start_time": "2024-06-24T14:55:56.105Z"
   },
   {
    "duration": 14,
    "start_time": "2024-06-24T14:55:56.113Z"
   },
   {
    "duration": 280,
    "start_time": "2024-06-24T14:55:56.128Z"
   },
   {
    "duration": 235,
    "start_time": "2024-06-24T14:55:56.409Z"
   },
   {
    "duration": 285,
    "start_time": "2024-06-24T14:55:56.646Z"
   },
   {
    "duration": 98,
    "start_time": "2024-06-24T14:55:56.932Z"
   },
   {
    "duration": 48,
    "start_time": "2024-06-24T14:55:57.033Z"
   },
   {
    "duration": 89,
    "start_time": "2024-06-24T14:55:57.083Z"
   },
   {
    "duration": 5,
    "start_time": "2024-06-24T14:55:57.173Z"
   },
   {
    "duration": 24,
    "start_time": "2024-06-24T14:55:57.179Z"
   },
   {
    "duration": 4,
    "start_time": "2024-06-24T14:55:57.205Z"
   },
   {
    "duration": 23,
    "start_time": "2024-06-24T14:55:57.210Z"
   },
   {
    "duration": 6,
    "start_time": "2024-06-24T14:55:57.235Z"
   },
   {
    "duration": 49,
    "start_time": "2024-06-24T14:55:57.242Z"
   },
   {
    "duration": 4,
    "start_time": "2024-06-24T14:55:57.293Z"
   },
   {
    "duration": 23,
    "start_time": "2024-06-24T14:55:57.298Z"
   },
   {
    "duration": 67,
    "start_time": "2024-06-24T14:55:57.323Z"
   },
   {
    "duration": 16,
    "start_time": "2024-06-24T14:55:57.392Z"
   },
   {
    "duration": 2,
    "start_time": "2024-06-24T14:55:57.409Z"
   },
   {
    "duration": 63,
    "start_time": "2024-06-24T14:55:57.412Z"
   },
   {
    "duration": 2,
    "start_time": "2024-06-24T14:55:57.477Z"
   },
   {
    "duration": 3,
    "start_time": "2024-06-24T14:55:57.481Z"
   },
   {
    "duration": 5,
    "start_time": "2024-06-24T14:55:57.485Z"
   },
   {
    "duration": 4,
    "start_time": "2024-06-24T14:55:57.491Z"
   },
   {
    "duration": 4,
    "start_time": "2024-06-24T14:55:57.498Z"
   },
   {
    "duration": 6,
    "start_time": "2024-06-24T14:55:57.503Z"
   },
   {
    "duration": 4,
    "start_time": "2024-06-24T14:55:57.510Z"
   },
   {
    "duration": 1246,
    "start_time": "2024-06-24T14:55:57.515Z"
   },
   {
    "duration": 24,
    "start_time": "2024-06-24T14:55:58.762Z"
   },
   {
    "duration": 0,
    "start_time": "2024-06-24T14:55:58.787Z"
   },
   {
    "duration": 0,
    "start_time": "2024-06-24T14:55:58.788Z"
   },
   {
    "duration": 0,
    "start_time": "2024-06-24T14:55:58.788Z"
   },
   {
    "duration": 0,
    "start_time": "2024-06-24T14:55:58.789Z"
   },
   {
    "duration": 0,
    "start_time": "2024-06-24T14:55:58.790Z"
   },
   {
    "duration": 0,
    "start_time": "2024-06-24T14:55:58.791Z"
   },
   {
    "duration": 0,
    "start_time": "2024-06-24T14:55:58.792Z"
   },
   {
    "duration": 0,
    "start_time": "2024-06-24T14:55:58.792Z"
   },
   {
    "duration": 0,
    "start_time": "2024-06-24T14:55:58.793Z"
   },
   {
    "duration": 0,
    "start_time": "2024-06-24T14:55:58.794Z"
   },
   {
    "duration": 0,
    "start_time": "2024-06-24T14:55:58.795Z"
   },
   {
    "duration": 0,
    "start_time": "2024-06-24T14:55:58.796Z"
   },
   {
    "duration": 0,
    "start_time": "2024-06-24T14:55:58.796Z"
   },
   {
    "duration": 0,
    "start_time": "2024-06-24T14:55:58.797Z"
   },
   {
    "duration": 0,
    "start_time": "2024-06-24T14:55:58.798Z"
   },
   {
    "duration": 0,
    "start_time": "2024-06-24T14:55:58.799Z"
   },
   {
    "duration": 14,
    "start_time": "2024-06-24T14:56:51.440Z"
   },
   {
    "duration": 19,
    "start_time": "2024-06-24T14:57:47.192Z"
   },
   {
    "duration": 4,
    "start_time": "2024-06-24T14:59:00.152Z"
   },
   {
    "duration": 5,
    "start_time": "2024-06-24T14:59:08.755Z"
   },
   {
    "duration": 5,
    "start_time": "2024-06-24T14:59:12.395Z"
   },
   {
    "duration": 13199,
    "start_time": "2024-06-24T14:59:42.713Z"
   },
   {
    "duration": 5,
    "start_time": "2024-06-24T14:59:55.914Z"
   },
   {
    "duration": 769,
    "start_time": "2024-06-24T14:59:55.920Z"
   },
   {
    "duration": 7,
    "start_time": "2024-06-24T14:59:56.691Z"
   },
   {
    "duration": 34,
    "start_time": "2024-06-24T14:59:56.699Z"
   },
   {
    "duration": 314,
    "start_time": "2024-06-24T14:59:56.734Z"
   },
   {
    "duration": 238,
    "start_time": "2024-06-24T14:59:57.050Z"
   },
   {
    "duration": 289,
    "start_time": "2024-06-24T14:59:57.289Z"
   },
   {
    "duration": 106,
    "start_time": "2024-06-24T14:59:57.584Z"
   },
   {
    "duration": 40,
    "start_time": "2024-06-24T14:59:57.692Z"
   },
   {
    "duration": 82,
    "start_time": "2024-06-24T14:59:57.733Z"
   },
   {
    "duration": 6,
    "start_time": "2024-06-24T14:59:57.816Z"
   },
   {
    "duration": 24,
    "start_time": "2024-06-24T14:59:57.824Z"
   },
   {
    "duration": 34,
    "start_time": "2024-06-24T14:59:57.850Z"
   },
   {
    "duration": 24,
    "start_time": "2024-06-24T14:59:57.885Z"
   },
   {
    "duration": 7,
    "start_time": "2024-06-24T14:59:57.910Z"
   },
   {
    "duration": 23,
    "start_time": "2024-06-24T14:59:57.919Z"
   },
   {
    "duration": 5,
    "start_time": "2024-06-24T14:59:57.944Z"
   },
   {
    "duration": 46,
    "start_time": "2024-06-24T14:59:57.951Z"
   },
   {
    "duration": 128,
    "start_time": "2024-06-24T14:59:57.999Z"
   },
   {
    "duration": 16,
    "start_time": "2024-06-24T14:59:58.128Z"
   },
   {
    "duration": 5,
    "start_time": "2024-06-24T14:59:58.146Z"
   },
   {
    "duration": 74,
    "start_time": "2024-06-24T14:59:58.152Z"
   },
   {
    "duration": 6,
    "start_time": "2024-06-24T15:00:07.752Z"
   },
   {
    "duration": 759,
    "start_time": "2024-06-24T15:01:18.552Z"
   },
   {
    "duration": 38,
    "start_time": "2024-06-24T15:01:25.479Z"
   },
   {
    "duration": 66,
    "start_time": "2024-06-24T15:02:38.466Z"
   },
   {
    "duration": 13215,
    "start_time": "2024-06-24T15:02:46.966Z"
   },
   {
    "duration": 5,
    "start_time": "2024-06-24T15:03:00.184Z"
   },
   {
    "duration": 894,
    "start_time": "2024-06-24T15:03:00.191Z"
   },
   {
    "duration": 8,
    "start_time": "2024-06-24T15:03:01.087Z"
   },
   {
    "duration": 21,
    "start_time": "2024-06-24T15:03:01.096Z"
   },
   {
    "duration": 332,
    "start_time": "2024-06-24T15:03:01.118Z"
   },
   {
    "duration": 222,
    "start_time": "2024-06-24T15:03:01.452Z"
   },
   {
    "duration": 239,
    "start_time": "2024-06-24T15:03:01.675Z"
   },
   {
    "duration": 103,
    "start_time": "2024-06-24T15:03:01.915Z"
   },
   {
    "duration": 113,
    "start_time": "2024-06-24T15:03:02.020Z"
   },
   {
    "duration": 144,
    "start_time": "2024-06-24T15:03:02.134Z"
   },
   {
    "duration": 10,
    "start_time": "2024-06-24T15:03:02.280Z"
   },
   {
    "duration": 41,
    "start_time": "2024-06-24T15:03:02.291Z"
   },
   {
    "duration": 6,
    "start_time": "2024-06-24T15:03:02.334Z"
   },
   {
    "duration": 41,
    "start_time": "2024-06-24T15:03:02.342Z"
   },
   {
    "duration": 8,
    "start_time": "2024-06-24T15:03:02.385Z"
   },
   {
    "duration": 41,
    "start_time": "2024-06-24T15:03:02.394Z"
   },
   {
    "duration": 12,
    "start_time": "2024-06-24T15:03:02.436Z"
   },
   {
    "duration": 55,
    "start_time": "2024-06-24T15:03:02.449Z"
   },
   {
    "duration": 86,
    "start_time": "2024-06-24T15:03:02.505Z"
   },
   {
    "duration": 16,
    "start_time": "2024-06-24T15:03:02.592Z"
   },
   {
    "duration": 5,
    "start_time": "2024-06-24T15:03:02.609Z"
   },
   {
    "duration": 84,
    "start_time": "2024-06-24T15:03:02.615Z"
   },
   {
    "duration": 2,
    "start_time": "2024-06-24T15:03:02.700Z"
   },
   {
    "duration": 14,
    "start_time": "2024-06-24T15:03:02.704Z"
   },
   {
    "duration": 5,
    "start_time": "2024-06-24T15:03:02.719Z"
   },
   {
    "duration": 24,
    "start_time": "2024-06-24T15:03:02.725Z"
   },
   {
    "duration": 31,
    "start_time": "2024-06-24T15:03:02.752Z"
   },
   {
    "duration": 7,
    "start_time": "2024-06-24T15:03:02.785Z"
   },
   {
    "duration": 15,
    "start_time": "2024-06-24T15:03:02.794Z"
   },
   {
    "duration": 1486,
    "start_time": "2024-06-24T15:03:02.810Z"
   },
   {
    "duration": 14,
    "start_time": "2024-06-24T15:03:04.298Z"
   },
   {
    "duration": 1073,
    "start_time": "2024-06-24T15:03:04.314Z"
   },
   {
    "duration": 16,
    "start_time": "2024-06-24T15:03:05.389Z"
   },
   {
    "duration": 381,
    "start_time": "2024-06-24T15:03:05.407Z"
   },
   {
    "duration": 2626,
    "start_time": "2024-06-24T15:03:05.789Z"
   },
   {
    "duration": 833,
    "start_time": "2024-06-24T15:03:08.416Z"
   },
   {
    "duration": 9,
    "start_time": "2024-06-24T15:03:09.251Z"
   },
   {
    "duration": 59,
    "start_time": "2024-06-24T15:03:09.261Z"
   },
   {
    "duration": 4,
    "start_time": "2024-06-24T15:03:09.322Z"
   },
   {
    "duration": 6,
    "start_time": "2024-06-24T15:03:09.327Z"
   },
   {
    "duration": 25,
    "start_time": "2024-06-24T15:03:09.334Z"
   },
   {
    "duration": 10917,
    "start_time": "2024-06-24T15:03:09.361Z"
   },
   {
    "duration": 126046,
    "start_time": "2024-06-24T15:03:20.281Z"
   },
   {
    "duration": 13575,
    "start_time": "2024-06-24T15:23:38.153Z"
   },
   {
    "duration": 1496,
    "start_time": "2024-06-24T15:23:51.731Z"
   },
   {
    "duration": 903,
    "start_time": "2024-06-24T15:23:53.229Z"
   },
   {
    "duration": 8,
    "start_time": "2024-06-24T15:23:54.133Z"
   },
   {
    "duration": 9,
    "start_time": "2024-06-24T15:23:54.142Z"
   },
   {
    "duration": 402,
    "start_time": "2024-06-24T15:23:54.152Z"
   },
   {
    "duration": 280,
    "start_time": "2024-06-24T15:23:54.556Z"
   },
   {
    "duration": 281,
    "start_time": "2024-06-24T15:23:54.837Z"
   },
   {
    "duration": 127,
    "start_time": "2024-06-24T15:23:55.120Z"
   },
   {
    "duration": 56,
    "start_time": "2024-06-24T15:23:55.249Z"
   },
   {
    "duration": 94,
    "start_time": "2024-06-24T15:23:55.306Z"
   },
   {
    "duration": 7,
    "start_time": "2024-06-24T15:23:55.402Z"
   },
   {
    "duration": 25,
    "start_time": "2024-06-24T15:23:55.411Z"
   },
   {
    "duration": 4,
    "start_time": "2024-06-24T15:23:55.438Z"
   },
   {
    "duration": 56,
    "start_time": "2024-06-24T15:23:55.443Z"
   },
   {
    "duration": 7,
    "start_time": "2024-06-24T15:23:55.500Z"
   },
   {
    "duration": 24,
    "start_time": "2024-06-24T15:23:55.508Z"
   },
   {
    "duration": 7,
    "start_time": "2024-06-24T15:23:55.534Z"
   },
   {
    "duration": 24,
    "start_time": "2024-06-24T15:23:55.542Z"
   },
   {
    "duration": 83,
    "start_time": "2024-06-24T15:23:55.567Z"
   },
   {
    "duration": 34,
    "start_time": "2024-06-24T15:23:55.651Z"
   },
   {
    "duration": 3,
    "start_time": "2024-06-24T15:23:55.695Z"
   },
   {
    "duration": 51,
    "start_time": "2024-06-24T15:23:55.700Z"
   },
   {
    "duration": 3,
    "start_time": "2024-06-24T15:23:55.752Z"
   },
   {
    "duration": 4,
    "start_time": "2024-06-24T15:23:55.756Z"
   },
   {
    "duration": 7,
    "start_time": "2024-06-24T15:23:55.761Z"
   },
   {
    "duration": 26,
    "start_time": "2024-06-24T15:23:55.769Z"
   },
   {
    "duration": 17,
    "start_time": "2024-06-24T15:23:55.798Z"
   },
   {
    "duration": 5,
    "start_time": "2024-06-24T15:23:55.817Z"
   },
   {
    "duration": 27,
    "start_time": "2024-06-24T15:23:55.823Z"
   },
   {
    "duration": 1383,
    "start_time": "2024-06-24T15:23:55.851Z"
   },
   {
    "duration": 1067,
    "start_time": "2024-06-24T15:23:57.235Z"
   },
   {
    "duration": 77,
    "start_time": "2024-06-24T15:23:58.305Z"
   },
   {
    "duration": 370,
    "start_time": "2024-06-24T15:23:58.383Z"
   },
   {
    "duration": 2873,
    "start_time": "2024-06-24T15:23:58.754Z"
   },
   {
    "duration": 820,
    "start_time": "2024-06-24T15:24:01.629Z"
   },
   {
    "duration": 33,
    "start_time": "2024-06-24T15:24:02.451Z"
   },
   {
    "duration": 36,
    "start_time": "2024-06-24T15:24:02.487Z"
   },
   {
    "duration": 3,
    "start_time": "2024-06-24T15:24:02.525Z"
   },
   {
    "duration": 6,
    "start_time": "2024-06-24T15:24:02.529Z"
   },
   {
    "duration": 14,
    "start_time": "2024-06-24T15:24:02.536Z"
   },
   {
    "duration": 13335,
    "start_time": "2024-06-24T15:24:02.551Z"
   },
   {
    "duration": 77582,
    "start_time": "2024-06-24T15:24:15.887Z"
   },
   {
    "duration": 13538,
    "start_time": "2024-06-24T15:30:32.329Z"
   },
   {
    "duration": 1521,
    "start_time": "2024-06-24T15:30:45.869Z"
   },
   {
    "duration": 915,
    "start_time": "2024-06-24T15:30:47.398Z"
   },
   {
    "duration": 7,
    "start_time": "2024-06-24T15:30:48.315Z"
   },
   {
    "duration": 10,
    "start_time": "2024-06-24T15:30:48.323Z"
   },
   {
    "duration": 405,
    "start_time": "2024-06-24T15:30:48.334Z"
   },
   {
    "duration": 292,
    "start_time": "2024-06-24T15:30:48.741Z"
   },
   {
    "duration": 304,
    "start_time": "2024-06-24T15:30:49.034Z"
   },
   {
    "duration": 111,
    "start_time": "2024-06-24T15:30:49.339Z"
   },
   {
    "duration": 52,
    "start_time": "2024-06-24T15:30:49.452Z"
   },
   {
    "duration": 91,
    "start_time": "2024-06-24T15:30:49.505Z"
   },
   {
    "duration": 7,
    "start_time": "2024-06-24T15:30:49.599Z"
   },
   {
    "duration": 31,
    "start_time": "2024-06-24T15:30:49.607Z"
   },
   {
    "duration": 4,
    "start_time": "2024-06-24T15:30:49.640Z"
   },
   {
    "duration": 46,
    "start_time": "2024-06-24T15:30:49.646Z"
   },
   {
    "duration": 7,
    "start_time": "2024-06-24T15:30:49.696Z"
   },
   {
    "duration": 22,
    "start_time": "2024-06-24T15:30:49.705Z"
   },
   {
    "duration": 4,
    "start_time": "2024-06-24T15:30:49.729Z"
   },
   {
    "duration": 24,
    "start_time": "2024-06-24T15:30:49.734Z"
   },
   {
    "duration": 79,
    "start_time": "2024-06-24T15:30:49.760Z"
   },
   {
    "duration": 17,
    "start_time": "2024-06-24T15:30:49.841Z"
   },
   {
    "duration": 31,
    "start_time": "2024-06-24T15:30:49.859Z"
   },
   {
    "duration": 54,
    "start_time": "2024-06-24T15:30:49.894Z"
   },
   {
    "duration": 3,
    "start_time": "2024-06-24T15:30:49.949Z"
   },
   {
    "duration": 30,
    "start_time": "2024-06-24T15:30:49.953Z"
   },
   {
    "duration": 6,
    "start_time": "2024-06-24T15:30:49.984Z"
   },
   {
    "duration": 14,
    "start_time": "2024-06-24T15:30:49.994Z"
   },
   {
    "duration": 26,
    "start_time": "2024-06-24T15:30:50.011Z"
   },
   {
    "duration": 6,
    "start_time": "2024-06-24T15:30:50.039Z"
   },
   {
    "duration": 13,
    "start_time": "2024-06-24T15:30:50.046Z"
   },
   {
    "duration": 1353,
    "start_time": "2024-06-24T15:30:50.060Z"
   },
   {
    "duration": 1068,
    "start_time": "2024-06-24T15:30:51.414Z"
   },
   {
    "duration": 17,
    "start_time": "2024-06-24T15:30:52.495Z"
   },
   {
    "duration": 384,
    "start_time": "2024-06-24T15:30:52.513Z"
   },
   {
    "duration": 2896,
    "start_time": "2024-06-24T15:30:52.899Z"
   },
   {
    "duration": 820,
    "start_time": "2024-06-24T15:30:55.796Z"
   },
   {
    "duration": 13,
    "start_time": "2024-06-24T15:30:56.618Z"
   },
   {
    "duration": 75,
    "start_time": "2024-06-24T15:30:56.632Z"
   },
   {
    "duration": 11,
    "start_time": "2024-06-24T15:30:56.708Z"
   },
   {
    "duration": 32,
    "start_time": "2024-06-24T15:30:56.721Z"
   },
   {
    "duration": 68,
    "start_time": "2024-06-24T15:30:56.754Z"
   },
   {
    "duration": 8566,
    "start_time": "2024-06-24T15:30:56.824Z"
   },
   {
    "duration": 36806,
    "start_time": "2024-06-24T15:31:05.401Z"
   },
   {
    "duration": 13844,
    "start_time": "2024-06-24T15:36:30.198Z"
   },
   {
    "duration": 1503,
    "start_time": "2024-06-24T15:36:44.045Z"
   },
   {
    "duration": 892,
    "start_time": "2024-06-24T15:36:45.549Z"
   },
   {
    "duration": 8,
    "start_time": "2024-06-24T15:36:46.443Z"
   },
   {
    "duration": 16,
    "start_time": "2024-06-24T15:36:46.452Z"
   },
   {
    "duration": 391,
    "start_time": "2024-06-24T15:36:46.469Z"
   },
   {
    "duration": 282,
    "start_time": "2024-06-24T15:36:46.862Z"
   },
   {
    "duration": 332,
    "start_time": "2024-06-24T15:36:47.145Z"
   },
   {
    "duration": 112,
    "start_time": "2024-06-24T15:36:47.485Z"
   },
   {
    "duration": 41,
    "start_time": "2024-06-24T15:36:47.599Z"
   },
   {
    "duration": 107,
    "start_time": "2024-06-24T15:36:47.641Z"
   },
   {
    "duration": 6,
    "start_time": "2024-06-24T15:36:47.750Z"
   },
   {
    "duration": 35,
    "start_time": "2024-06-24T15:36:47.757Z"
   },
   {
    "duration": 5,
    "start_time": "2024-06-24T15:36:47.798Z"
   },
   {
    "duration": 23,
    "start_time": "2024-06-24T15:36:47.805Z"
   },
   {
    "duration": 7,
    "start_time": "2024-06-24T15:36:47.829Z"
   },
   {
    "duration": 26,
    "start_time": "2024-06-24T15:36:47.837Z"
   },
   {
    "duration": 29,
    "start_time": "2024-06-24T15:36:47.865Z"
   },
   {
    "duration": 20,
    "start_time": "2024-06-24T15:36:47.899Z"
   },
   {
    "duration": 86,
    "start_time": "2024-06-24T15:36:47.921Z"
   },
   {
    "duration": 17,
    "start_time": "2024-06-24T15:36:48.009Z"
   },
   {
    "duration": 2,
    "start_time": "2024-06-24T15:36:48.027Z"
   },
   {
    "duration": 95,
    "start_time": "2024-06-24T15:36:48.030Z"
   },
   {
    "duration": 4,
    "start_time": "2024-06-24T15:36:48.127Z"
   },
   {
    "duration": 18,
    "start_time": "2024-06-24T15:36:48.133Z"
   },
   {
    "duration": 4,
    "start_time": "2024-06-24T15:36:48.152Z"
   },
   {
    "duration": 5,
    "start_time": "2024-06-24T15:36:48.157Z"
   },
   {
    "duration": 23,
    "start_time": "2024-06-24T15:36:48.165Z"
   },
   {
    "duration": 7,
    "start_time": "2024-06-24T15:36:48.199Z"
   },
   {
    "duration": 24,
    "start_time": "2024-06-24T15:36:48.207Z"
   },
   {
    "duration": 1389,
    "start_time": "2024-06-24T15:36:48.233Z"
   },
   {
    "duration": 979,
    "start_time": "2024-06-24T15:36:49.623Z"
   },
   {
    "duration": 87,
    "start_time": "2024-06-24T15:36:50.609Z"
   },
   {
    "duration": 381,
    "start_time": "2024-06-24T15:36:50.697Z"
   },
   {
    "duration": 2887,
    "start_time": "2024-06-24T15:36:51.080Z"
   },
   {
    "duration": 832,
    "start_time": "2024-06-24T15:36:53.969Z"
   },
   {
    "duration": 15,
    "start_time": "2024-06-24T15:36:54.802Z"
   },
   {
    "duration": 45,
    "start_time": "2024-06-24T15:36:54.819Z"
   },
   {
    "duration": 22,
    "start_time": "2024-06-24T15:36:54.873Z"
   },
   {
    "duration": 5,
    "start_time": "2024-06-24T15:36:54.897Z"
   },
   {
    "duration": 23,
    "start_time": "2024-06-24T15:38:04.368Z"
   },
   {
    "duration": 13629,
    "start_time": "2024-06-24T15:41:38.245Z"
   },
   {
    "duration": 1532,
    "start_time": "2024-06-24T15:41:51.876Z"
   },
   {
    "duration": 899,
    "start_time": "2024-06-24T15:41:53.409Z"
   },
   {
    "duration": 8,
    "start_time": "2024-06-24T15:41:54.309Z"
   },
   {
    "duration": 7,
    "start_time": "2024-06-24T15:41:54.318Z"
   },
   {
    "duration": 391,
    "start_time": "2024-06-24T15:41:54.326Z"
   },
   {
    "duration": 282,
    "start_time": "2024-06-24T15:41:54.719Z"
   },
   {
    "duration": 331,
    "start_time": "2024-06-24T15:41:55.002Z"
   },
   {
    "duration": 118,
    "start_time": "2024-06-24T15:41:55.335Z"
   },
   {
    "duration": 62,
    "start_time": "2024-06-24T15:41:55.455Z"
   },
   {
    "duration": 90,
    "start_time": "2024-06-24T15:41:55.518Z"
   },
   {
    "duration": 7,
    "start_time": "2024-06-24T15:41:55.609Z"
   },
   {
    "duration": 32,
    "start_time": "2024-06-24T15:41:55.617Z"
   },
   {
    "duration": 6,
    "start_time": "2024-06-24T15:41:55.651Z"
   },
   {
    "duration": 43,
    "start_time": "2024-06-24T15:41:55.658Z"
   },
   {
    "duration": 6,
    "start_time": "2024-06-24T15:41:55.703Z"
   },
   {
    "duration": 22,
    "start_time": "2024-06-24T15:41:55.711Z"
   },
   {
    "duration": 5,
    "start_time": "2024-06-24T15:41:55.734Z"
   },
   {
    "duration": 55,
    "start_time": "2024-06-24T15:41:55.740Z"
   },
   {
    "duration": 66,
    "start_time": "2024-06-24T15:41:55.796Z"
   },
   {
    "duration": 27,
    "start_time": "2024-06-24T15:41:55.863Z"
   },
   {
    "duration": 2,
    "start_time": "2024-06-24T15:41:55.891Z"
   },
   {
    "duration": 52,
    "start_time": "2024-06-24T15:41:55.894Z"
   },
   {
    "duration": 3,
    "start_time": "2024-06-24T15:41:55.947Z"
   },
   {
    "duration": 7,
    "start_time": "2024-06-24T15:41:55.951Z"
   },
   {
    "duration": 28,
    "start_time": "2024-06-24T15:41:55.959Z"
   },
   {
    "duration": 5,
    "start_time": "2024-06-24T15:41:55.993Z"
   },
   {
    "duration": 17,
    "start_time": "2024-06-24T15:41:56.001Z"
   },
   {
    "duration": 6,
    "start_time": "2024-06-24T15:41:56.019Z"
   },
   {
    "duration": 30,
    "start_time": "2024-06-24T15:41:56.027Z"
   },
   {
    "duration": 1399,
    "start_time": "2024-06-24T15:41:56.058Z"
   },
   {
    "duration": 1054,
    "start_time": "2024-06-24T15:41:57.459Z"
   },
   {
    "duration": 89,
    "start_time": "2024-06-24T15:41:58.514Z"
   },
   {
    "duration": 401,
    "start_time": "2024-06-24T15:41:58.605Z"
   },
   {
    "duration": 2860,
    "start_time": "2024-06-24T15:41:59.007Z"
   },
   {
    "duration": 862,
    "start_time": "2024-06-24T15:42:01.869Z"
   },
   {
    "duration": 12,
    "start_time": "2024-06-24T15:42:02.733Z"
   },
   {
    "duration": 58,
    "start_time": "2024-06-24T15:42:02.746Z"
   },
   {
    "duration": 4,
    "start_time": "2024-06-24T15:42:02.805Z"
   },
   {
    "duration": 8,
    "start_time": "2024-06-24T15:42:02.810Z"
   },
   {
    "duration": 45,
    "start_time": "2024-06-24T15:42:02.819Z"
   },
   {
    "duration": 6009,
    "start_time": "2024-06-24T15:42:02.865Z"
   },
   {
    "duration": 11257,
    "start_time": "2024-06-24T15:42:08.875Z"
   },
   {
    "duration": 13680,
    "start_time": "2024-06-24T15:44:11.714Z"
   },
   {
    "duration": 1505,
    "start_time": "2024-06-24T15:44:25.397Z"
   },
   {
    "duration": 890,
    "start_time": "2024-06-24T15:44:26.905Z"
   },
   {
    "duration": 8,
    "start_time": "2024-06-24T15:44:27.799Z"
   },
   {
    "duration": 12,
    "start_time": "2024-06-24T15:44:27.808Z"
   },
   {
    "duration": 414,
    "start_time": "2024-06-24T15:44:27.821Z"
   },
   {
    "duration": 289,
    "start_time": "2024-06-24T15:44:28.236Z"
   },
   {
    "duration": 312,
    "start_time": "2024-06-24T15:44:28.527Z"
   },
   {
    "duration": 109,
    "start_time": "2024-06-24T15:44:28.842Z"
   },
   {
    "duration": 62,
    "start_time": "2024-06-24T15:44:28.953Z"
   },
   {
    "duration": 88,
    "start_time": "2024-06-24T15:44:29.017Z"
   },
   {
    "duration": 7,
    "start_time": "2024-06-24T15:44:29.107Z"
   },
   {
    "duration": 30,
    "start_time": "2024-06-24T15:44:29.115Z"
   },
   {
    "duration": 4,
    "start_time": "2024-06-24T15:44:29.147Z"
   },
   {
    "duration": 51,
    "start_time": "2024-06-24T15:44:29.152Z"
   },
   {
    "duration": 7,
    "start_time": "2024-06-24T15:44:29.204Z"
   },
   {
    "duration": 23,
    "start_time": "2024-06-24T15:44:29.212Z"
   },
   {
    "duration": 5,
    "start_time": "2024-06-24T15:44:29.236Z"
   },
   {
    "duration": 40,
    "start_time": "2024-06-24T15:44:29.242Z"
   },
   {
    "duration": 72,
    "start_time": "2024-06-24T15:44:29.284Z"
   },
   {
    "duration": 37,
    "start_time": "2024-06-24T15:44:29.358Z"
   },
   {
    "duration": 44,
    "start_time": "2024-06-24T15:44:29.397Z"
   },
   {
    "duration": 2,
    "start_time": "2024-06-24T15:44:29.443Z"
   },
   {
    "duration": 6,
    "start_time": "2024-06-24T15:44:29.446Z"
   },
   {
    "duration": 7,
    "start_time": "2024-06-24T15:44:29.453Z"
   },
   {
    "duration": 4,
    "start_time": "2024-06-24T15:44:29.461Z"
   },
   {
    "duration": 6,
    "start_time": "2024-06-24T15:44:29.490Z"
   },
   {
    "duration": 21,
    "start_time": "2024-06-24T15:44:29.497Z"
   },
   {
    "duration": 6,
    "start_time": "2024-06-24T15:44:29.519Z"
   },
   {
    "duration": 13,
    "start_time": "2024-06-24T15:44:29.527Z"
   },
   {
    "duration": 1373,
    "start_time": "2024-06-24T15:44:29.542Z"
   },
   {
    "duration": 1170,
    "start_time": "2024-06-24T15:44:30.916Z"
   },
   {
    "duration": 26,
    "start_time": "2024-06-24T15:44:32.087Z"
   },
   {
    "duration": 452,
    "start_time": "2024-06-24T15:44:32.114Z"
   },
   {
    "duration": 3592,
    "start_time": "2024-06-24T15:44:32.568Z"
   },
   {
    "duration": 819,
    "start_time": "2024-06-24T15:44:36.161Z"
   },
   {
    "duration": 24,
    "start_time": "2024-06-24T15:44:36.986Z"
   },
   {
    "duration": 49,
    "start_time": "2024-06-24T15:44:37.012Z"
   },
   {
    "duration": 4,
    "start_time": "2024-06-24T15:44:37.063Z"
   },
   {
    "duration": 33,
    "start_time": "2024-06-24T15:44:37.068Z"
   },
   {
    "duration": 23,
    "start_time": "2024-06-24T15:44:37.102Z"
   },
   {
    "duration": 4873,
    "start_time": "2024-06-24T15:44:37.127Z"
   },
   {
    "duration": 18132,
    "start_time": "2024-06-24T15:44:42.001Z"
   },
   {
    "duration": 13517,
    "start_time": "2024-06-24T15:47:57.621Z"
   },
   {
    "duration": 1491,
    "start_time": "2024-06-24T15:48:11.141Z"
   },
   {
    "duration": 892,
    "start_time": "2024-06-24T15:48:12.634Z"
   },
   {
    "duration": 8,
    "start_time": "2024-06-24T15:48:13.529Z"
   },
   {
    "duration": 10,
    "start_time": "2024-06-24T15:48:13.538Z"
   },
   {
    "duration": 351,
    "start_time": "2024-06-24T15:48:13.549Z"
   },
   {
    "duration": 303,
    "start_time": "2024-06-24T15:48:13.901Z"
   },
   {
    "duration": 337,
    "start_time": "2024-06-24T15:48:14.205Z"
   },
   {
    "duration": 107,
    "start_time": "2024-06-24T15:48:14.543Z"
   },
   {
    "duration": 51,
    "start_time": "2024-06-24T15:48:14.652Z"
   },
   {
    "duration": 104,
    "start_time": "2024-06-24T15:48:14.704Z"
   },
   {
    "duration": 6,
    "start_time": "2024-06-24T15:48:14.809Z"
   },
   {
    "duration": 32,
    "start_time": "2024-06-24T15:48:14.817Z"
   },
   {
    "duration": 6,
    "start_time": "2024-06-24T15:48:14.850Z"
   },
   {
    "duration": 44,
    "start_time": "2024-06-24T15:48:14.857Z"
   },
   {
    "duration": 7,
    "start_time": "2024-06-24T15:48:14.902Z"
   },
   {
    "duration": 29,
    "start_time": "2024-06-24T15:48:14.910Z"
   },
   {
    "duration": 4,
    "start_time": "2024-06-24T15:48:14.941Z"
   },
   {
    "duration": 49,
    "start_time": "2024-06-24T15:48:14.946Z"
   },
   {
    "duration": 66,
    "start_time": "2024-06-24T15:48:14.996Z"
   },
   {
    "duration": 38,
    "start_time": "2024-06-24T15:48:15.064Z"
   },
   {
    "duration": 56,
    "start_time": "2024-06-24T15:48:15.104Z"
   },
   {
    "duration": 2,
    "start_time": "2024-06-24T15:48:15.161Z"
   },
   {
    "duration": 39,
    "start_time": "2024-06-24T15:48:15.164Z"
   },
   {
    "duration": 27,
    "start_time": "2024-06-24T15:48:15.204Z"
   },
   {
    "duration": 24,
    "start_time": "2024-06-24T15:48:15.232Z"
   },
   {
    "duration": 10,
    "start_time": "2024-06-24T15:48:15.257Z"
   },
   {
    "duration": 33,
    "start_time": "2024-06-24T15:48:15.270Z"
   },
   {
    "duration": 14,
    "start_time": "2024-06-24T15:48:15.304Z"
   },
   {
    "duration": 48,
    "start_time": "2024-06-24T15:48:15.320Z"
   },
   {
    "duration": 1449,
    "start_time": "2024-06-24T15:48:15.369Z"
   },
   {
    "duration": 1070,
    "start_time": "2024-06-24T15:48:16.820Z"
   },
   {
    "duration": 20,
    "start_time": "2024-06-24T15:48:17.895Z"
   },
   {
    "duration": 437,
    "start_time": "2024-06-24T15:48:17.916Z"
   },
   {
    "duration": 3596,
    "start_time": "2024-06-24T15:48:18.355Z"
   },
   {
    "duration": 829,
    "start_time": "2024-06-24T15:48:21.953Z"
   },
   {
    "duration": 23,
    "start_time": "2024-06-24T15:48:22.785Z"
   },
   {
    "duration": 80,
    "start_time": "2024-06-24T15:48:22.810Z"
   },
   {
    "duration": 4,
    "start_time": "2024-06-24T15:48:22.899Z"
   },
   {
    "duration": 19,
    "start_time": "2024-06-24T15:48:22.905Z"
   },
   {
    "duration": 14,
    "start_time": "2024-06-24T15:48:22.925Z"
   },
   {
    "duration": 5538,
    "start_time": "2024-06-24T15:48:22.940Z"
   },
   {
    "duration": 7977,
    "start_time": "2024-06-24T15:48:28.482Z"
   },
   {
    "duration": 13470,
    "start_time": "2024-06-24T15:50:01.696Z"
   },
   {
    "duration": 1549,
    "start_time": "2024-06-24T15:50:15.168Z"
   },
   {
    "duration": 911,
    "start_time": "2024-06-24T15:50:16.719Z"
   },
   {
    "duration": 14,
    "start_time": "2024-06-24T15:50:17.632Z"
   },
   {
    "duration": 51,
    "start_time": "2024-06-24T15:50:17.648Z"
   },
   {
    "duration": 399,
    "start_time": "2024-06-24T15:50:17.700Z"
   },
   {
    "duration": 294,
    "start_time": "2024-06-24T15:50:18.101Z"
   },
   {
    "duration": 306,
    "start_time": "2024-06-24T15:50:18.398Z"
   },
   {
    "duration": 120,
    "start_time": "2024-06-24T15:50:18.706Z"
   },
   {
    "duration": 64,
    "start_time": "2024-06-24T15:50:18.830Z"
   },
   {
    "duration": 101,
    "start_time": "2024-06-24T15:50:18.899Z"
   },
   {
    "duration": 7,
    "start_time": "2024-06-24T15:50:19.001Z"
   },
   {
    "duration": 33,
    "start_time": "2024-06-24T15:50:19.009Z"
   },
   {
    "duration": 5,
    "start_time": "2024-06-24T15:50:19.044Z"
   },
   {
    "duration": 45,
    "start_time": "2024-06-24T15:50:19.050Z"
   },
   {
    "duration": 7,
    "start_time": "2024-06-24T15:50:19.096Z"
   },
   {
    "duration": 24,
    "start_time": "2024-06-24T15:50:19.104Z"
   },
   {
    "duration": 5,
    "start_time": "2024-06-24T15:50:19.129Z"
   },
   {
    "duration": 89,
    "start_time": "2024-06-24T15:50:19.135Z"
   },
   {
    "duration": 99,
    "start_time": "2024-06-24T15:50:19.225Z"
   },
   {
    "duration": 17,
    "start_time": "2024-06-24T15:50:19.325Z"
   },
   {
    "duration": 107,
    "start_time": "2024-06-24T15:50:19.343Z"
   },
   {
    "duration": 2,
    "start_time": "2024-06-24T15:50:19.451Z"
   },
   {
    "duration": 9,
    "start_time": "2024-06-24T15:50:19.455Z"
   },
   {
    "duration": 30,
    "start_time": "2024-06-24T15:50:19.465Z"
   },
   {
    "duration": 6,
    "start_time": "2024-06-24T15:50:19.496Z"
   },
   {
    "duration": 8,
    "start_time": "2024-06-24T15:50:19.503Z"
   },
   {
    "duration": 22,
    "start_time": "2024-06-24T15:50:19.514Z"
   },
   {
    "duration": 7,
    "start_time": "2024-06-24T15:50:19.537Z"
   },
   {
    "duration": 16,
    "start_time": "2024-06-24T15:50:19.545Z"
   },
   {
    "duration": 1352,
    "start_time": "2024-06-24T15:50:19.562Z"
   },
   {
    "duration": 1063,
    "start_time": "2024-06-24T15:50:20.915Z"
   },
   {
    "duration": 31,
    "start_time": "2024-06-24T15:50:21.980Z"
   },
   {
    "duration": 441,
    "start_time": "2024-06-24T15:50:22.013Z"
   },
   {
    "duration": 3803,
    "start_time": "2024-06-24T15:50:22.456Z"
   },
   {
    "duration": 803,
    "start_time": "2024-06-24T15:50:26.261Z"
   },
   {
    "duration": 32,
    "start_time": "2024-06-24T15:50:27.081Z"
   },
   {
    "duration": 54,
    "start_time": "2024-06-24T15:50:27.115Z"
   },
   {
    "duration": 17,
    "start_time": "2024-06-24T15:50:27.170Z"
   },
   {
    "duration": 9,
    "start_time": "2024-06-24T15:50:27.194Z"
   },
   {
    "duration": 18,
    "start_time": "2024-06-24T15:50:27.205Z"
   },
   {
    "duration": 13239,
    "start_time": "2024-06-24T15:52:28.669Z"
   },
   {
    "duration": 1479,
    "start_time": "2024-06-24T15:52:41.910Z"
   },
   {
    "duration": 870,
    "start_time": "2024-06-24T15:52:43.390Z"
   },
   {
    "duration": 25,
    "start_time": "2024-06-24T15:52:44.262Z"
   },
   {
    "duration": 7,
    "start_time": "2024-06-24T15:52:44.288Z"
   },
   {
    "duration": 356,
    "start_time": "2024-06-24T15:52:44.296Z"
   },
   {
    "duration": 287,
    "start_time": "2024-06-24T15:52:44.654Z"
   },
   {
    "duration": 313,
    "start_time": "2024-06-24T15:52:44.942Z"
   },
   {
    "duration": 104,
    "start_time": "2024-06-24T15:52:45.256Z"
   },
   {
    "duration": 50,
    "start_time": "2024-06-24T15:52:45.362Z"
   },
   {
    "duration": 89,
    "start_time": "2024-06-24T15:52:45.413Z"
   },
   {
    "duration": 6,
    "start_time": "2024-06-24T15:52:45.504Z"
   },
   {
    "duration": 43,
    "start_time": "2024-06-24T15:52:45.512Z"
   },
   {
    "duration": 5,
    "start_time": "2024-06-24T15:52:45.556Z"
   },
   {
    "duration": 32,
    "start_time": "2024-06-24T15:52:45.571Z"
   },
   {
    "duration": 6,
    "start_time": "2024-06-24T15:52:45.604Z"
   },
   {
    "duration": 30,
    "start_time": "2024-06-24T15:52:45.611Z"
   },
   {
    "duration": 6,
    "start_time": "2024-06-24T15:52:45.643Z"
   },
   {
    "duration": 40,
    "start_time": "2024-06-24T15:52:45.651Z"
   },
   {
    "duration": 70,
    "start_time": "2024-06-24T15:52:45.693Z"
   },
   {
    "duration": 25,
    "start_time": "2024-06-24T15:52:45.764Z"
   },
   {
    "duration": 46,
    "start_time": "2024-06-24T15:52:45.790Z"
   },
   {
    "duration": 2,
    "start_time": "2024-06-24T15:52:45.837Z"
   },
   {
    "duration": 8,
    "start_time": "2024-06-24T15:52:45.841Z"
   },
   {
    "duration": 7,
    "start_time": "2024-06-24T15:52:45.851Z"
   },
   {
    "duration": 19,
    "start_time": "2024-06-24T15:52:45.859Z"
   },
   {
    "duration": 6,
    "start_time": "2024-06-24T15:52:45.879Z"
   },
   {
    "duration": 21,
    "start_time": "2024-06-24T15:52:45.888Z"
   },
   {
    "duration": 6,
    "start_time": "2024-06-24T15:52:45.911Z"
   },
   {
    "duration": 16,
    "start_time": "2024-06-24T15:52:45.918Z"
   },
   {
    "duration": 1491,
    "start_time": "2024-06-24T15:52:45.936Z"
   },
   {
    "duration": 1154,
    "start_time": "2024-06-24T15:52:47.429Z"
   },
   {
    "duration": 20,
    "start_time": "2024-06-24T15:52:48.585Z"
   },
   {
    "duration": 451,
    "start_time": "2024-06-24T15:52:48.606Z"
   },
   {
    "duration": 3452,
    "start_time": "2024-06-24T15:52:49.059Z"
   },
   {
    "duration": 821,
    "start_time": "2024-06-24T15:52:52.513Z"
   },
   {
    "duration": 19,
    "start_time": "2024-06-24T15:52:53.335Z"
   },
   {
    "duration": 61,
    "start_time": "2024-06-24T15:52:53.355Z"
   },
   {
    "duration": 4,
    "start_time": "2024-06-24T15:52:53.417Z"
   },
   {
    "duration": 5,
    "start_time": "2024-06-24T15:52:53.423Z"
   },
   {
    "duration": 7,
    "start_time": "2024-06-24T15:52:53.430Z"
   },
   {
    "duration": 5846,
    "start_time": "2024-06-24T15:52:53.439Z"
   },
   {
    "duration": 17222,
    "start_time": "2024-06-24T15:52:59.286Z"
   },
   {
    "duration": 114398,
    "start_time": "2024-06-24T15:53:16.510Z"
   },
   {
    "duration": 682,
    "start_time": "2024-06-24T15:55:10.910Z"
   },
   {
    "duration": 34752,
    "start_time": "2024-06-24T15:55:11.593Z"
   },
   {
    "duration": 2641,
    "start_time": "2024-06-24T15:55:46.347Z"
   },
   {
    "duration": 935,
    "start_time": "2024-06-24T15:55:48.989Z"
   },
   {
    "duration": 2578,
    "start_time": "2024-06-24T15:56:53.300Z"
   },
   {
    "duration": 1502,
    "start_time": "2024-06-24T18:45:02.362Z"
   },
   {
    "duration": 25349,
    "start_time": "2024-06-24T18:46:31.171Z"
   },
   {
    "duration": 19,
    "start_time": "2024-06-24T18:47:52.302Z"
   },
   {
    "duration": 343,
    "start_time": "2024-06-24T18:48:01.484Z"
   },
   {
    "duration": 1541,
    "start_time": "2024-06-24T18:48:04.751Z"
   },
   {
    "duration": 19,
    "start_time": "2024-06-24T18:48:25.231Z"
   },
   {
    "duration": 27,
    "start_time": "2024-06-24T19:03:23.286Z"
   },
   {
    "duration": 24,
    "start_time": "2024-06-24T19:04:46.385Z"
   },
   {
    "duration": 26,
    "start_time": "2024-06-24T19:05:12.801Z"
   },
   {
    "duration": 46,
    "start_time": "2024-06-24T19:06:39.349Z"
   },
   {
    "duration": 32,
    "start_time": "2024-06-24T19:14:36.151Z"
   },
   {
    "duration": 27,
    "start_time": "2024-06-24T19:14:54.951Z"
   },
   {
    "duration": 30,
    "start_time": "2024-06-24T19:15:15.551Z"
   },
   {
    "duration": 73,
    "start_time": "2024-06-24T19:17:20.471Z"
   },
   {
    "duration": 34,
    "start_time": "2024-06-24T19:17:27.635Z"
   },
   {
    "duration": 34,
    "start_time": "2024-06-24T19:18:10.444Z"
   },
   {
    "duration": 26,
    "start_time": "2024-06-24T19:23:35.326Z"
   },
   {
    "duration": 36,
    "start_time": "2024-06-24T19:28:07.890Z"
   },
   {
    "duration": 60,
    "start_time": "2024-06-24T19:28:57.569Z"
   },
   {
    "duration": 69,
    "start_time": "2024-06-24T19:29:48.913Z"
   },
   {
    "duration": 7,
    "start_time": "2024-06-24T19:32:57.488Z"
   },
   {
    "duration": 42,
    "start_time": "2024-06-24T19:33:06.599Z"
   },
   {
    "duration": 36,
    "start_time": "2024-06-24T19:35:39.490Z"
   },
   {
    "duration": 20,
    "start_time": "2024-06-24T19:38:24.241Z"
   },
   {
    "duration": 52,
    "start_time": "2024-06-24T19:38:25.830Z"
   },
   {
    "duration": 11,
    "start_time": "2024-06-24T19:39:55.971Z"
   },
   {
    "duration": 14057,
    "start_time": "2024-06-24T19:40:04.050Z"
   },
   {
    "duration": 5,
    "start_time": "2024-06-24T19:40:18.110Z"
   },
   {
    "duration": 1361,
    "start_time": "2024-06-24T19:40:18.117Z"
   },
   {
    "duration": 14,
    "start_time": "2024-06-24T19:40:19.480Z"
   },
   {
    "duration": 10,
    "start_time": "2024-06-24T19:40:19.496Z"
   },
   {
    "duration": 299,
    "start_time": "2024-06-24T19:40:19.507Z"
   },
   {
    "duration": 312,
    "start_time": "2024-06-24T19:40:19.807Z"
   },
   {
    "duration": 158,
    "start_time": "2024-06-24T19:40:20.120Z"
   },
   {
    "duration": 55,
    "start_time": "2024-06-24T19:40:20.279Z"
   },
   {
    "duration": 38,
    "start_time": "2024-06-24T19:40:20.337Z"
   },
   {
    "duration": 40,
    "start_time": "2024-06-24T19:40:20.377Z"
   },
   {
    "duration": 119,
    "start_time": "2024-06-24T19:40:20.419Z"
   },
   {
    "duration": 44,
    "start_time": "2024-06-24T19:40:20.539Z"
   },
   {
    "duration": 71,
    "start_time": "2024-06-24T19:40:20.585Z"
   },
   {
    "duration": 9,
    "start_time": "2024-06-24T19:40:20.658Z"
   },
   {
    "duration": 26,
    "start_time": "2024-06-24T19:40:20.669Z"
   },
   {
    "duration": 8,
    "start_time": "2024-06-24T19:40:20.696Z"
   },
   {
    "duration": 52,
    "start_time": "2024-06-24T19:40:20.705Z"
   },
   {
    "duration": 5,
    "start_time": "2024-06-24T19:40:20.759Z"
   },
   {
    "duration": 28,
    "start_time": "2024-06-24T19:40:20.766Z"
   },
   {
    "duration": 99,
    "start_time": "2024-06-24T19:40:20.796Z"
   },
   {
    "duration": 17,
    "start_time": "2024-06-24T19:40:20.897Z"
   },
   {
    "duration": 63,
    "start_time": "2024-06-24T19:40:20.915Z"
   },
   {
    "duration": 4,
    "start_time": "2024-06-24T19:40:20.981Z"
   },
   {
    "duration": 7,
    "start_time": "2024-06-24T19:40:56.610Z"
   },
   {
    "duration": 22,
    "start_time": "2024-06-24T19:42:16.361Z"
   },
   {
    "duration": 13186,
    "start_time": "2024-06-24T19:52:01.264Z"
   },
   {
    "duration": 6,
    "start_time": "2024-06-24T19:52:14.452Z"
   },
   {
    "duration": 1176,
    "start_time": "2024-06-24T19:52:14.460Z"
   },
   {
    "duration": 19,
    "start_time": "2024-06-24T19:52:15.638Z"
   },
   {
    "duration": 13,
    "start_time": "2024-06-24T19:52:15.659Z"
   },
   {
    "duration": 277,
    "start_time": "2024-06-24T19:52:15.673Z"
   },
   {
    "duration": 290,
    "start_time": "2024-06-24T19:52:15.954Z"
   },
   {
    "duration": 123,
    "start_time": "2024-06-24T19:52:16.246Z"
   },
   {
    "duration": 48,
    "start_time": "2024-06-24T19:52:16.371Z"
   },
   {
    "duration": 38,
    "start_time": "2024-06-24T19:52:16.422Z"
   },
   {
    "duration": 30,
    "start_time": "2024-06-24T19:52:16.462Z"
   },
   {
    "duration": 101,
    "start_time": "2024-06-24T19:52:16.494Z"
   },
   {
    "duration": 37,
    "start_time": "2024-06-24T19:52:16.596Z"
   },
   {
    "duration": 67,
    "start_time": "2024-06-24T19:52:16.635Z"
   },
   {
    "duration": 7,
    "start_time": "2024-06-24T19:52:16.704Z"
   },
   {
    "duration": 23,
    "start_time": "2024-06-24T19:52:16.713Z"
   },
   {
    "duration": 8,
    "start_time": "2024-06-24T19:52:16.756Z"
   },
   {
    "duration": 22,
    "start_time": "2024-06-24T19:52:16.765Z"
   },
   {
    "duration": 5,
    "start_time": "2024-06-24T19:52:16.789Z"
   },
   {
    "duration": 29,
    "start_time": "2024-06-24T19:52:16.795Z"
   },
   {
    "duration": 92,
    "start_time": "2024-06-24T19:52:16.825Z"
   },
   {
    "duration": 19,
    "start_time": "2024-06-24T19:52:16.920Z"
   },
   {
    "duration": 58,
    "start_time": "2024-06-24T19:52:16.941Z"
   },
   {
    "duration": 5,
    "start_time": "2024-06-24T19:52:17.001Z"
   },
   {
    "duration": 7,
    "start_time": "2024-06-24T19:52:17.008Z"
   },
   {
    "duration": 5,
    "start_time": "2024-06-24T19:52:17.017Z"
   },
   {
    "duration": 35,
    "start_time": "2024-06-24T19:52:17.024Z"
   },
   {
    "duration": 22,
    "start_time": "2024-06-24T19:52:17.062Z"
   },
   {
    "duration": 8,
    "start_time": "2024-06-24T19:52:17.086Z"
   },
   {
    "duration": 22,
    "start_time": "2024-06-24T19:52:17.095Z"
   },
   {
    "duration": 1349,
    "start_time": "2024-06-24T19:52:17.119Z"
   },
   {
    "duration": 848,
    "start_time": "2024-06-24T19:52:18.470Z"
   },
   {
    "duration": 23,
    "start_time": "2024-06-24T19:52:19.320Z"
   },
   {
    "duration": 489,
    "start_time": "2024-06-24T19:52:19.355Z"
   },
   {
    "duration": 3542,
    "start_time": "2024-06-24T19:52:19.845Z"
   },
   {
    "duration": 884,
    "start_time": "2024-06-24T19:52:55.623Z"
   },
   {
    "duration": 7,
    "start_time": "2024-06-24T20:04:49.351Z"
   },
   {
    "duration": 15,
    "start_time": "2024-06-24T20:08:54.471Z"
   },
   {
    "duration": 13118,
    "start_time": "2024-06-24T20:09:04.110Z"
   },
   {
    "duration": 5,
    "start_time": "2024-06-24T20:09:17.231Z"
   },
   {
    "duration": 1161,
    "start_time": "2024-06-24T20:09:17.238Z"
   },
   {
    "duration": 16,
    "start_time": "2024-06-24T20:09:18.402Z"
   },
   {
    "duration": 8,
    "start_time": "2024-06-24T20:09:18.420Z"
   },
   {
    "duration": 287,
    "start_time": "2024-06-24T20:09:18.430Z"
   },
   {
    "duration": 268,
    "start_time": "2024-06-24T20:09:18.719Z"
   },
   {
    "duration": 132,
    "start_time": "2024-06-24T20:09:18.988Z"
   },
   {
    "duration": 58,
    "start_time": "2024-06-24T20:09:19.122Z"
   },
   {
    "duration": 26,
    "start_time": "2024-06-24T20:09:19.183Z"
   },
   {
    "duration": 44,
    "start_time": "2024-06-24T20:09:19.211Z"
   },
   {
    "duration": 98,
    "start_time": "2024-06-24T20:09:19.257Z"
   },
   {
    "duration": 38,
    "start_time": "2024-06-24T20:09:19.357Z"
   },
   {
    "duration": 67,
    "start_time": "2024-06-24T20:09:19.397Z"
   },
   {
    "duration": 7,
    "start_time": "2024-06-24T20:09:19.466Z"
   },
   {
    "duration": 35,
    "start_time": "2024-06-24T20:09:19.474Z"
   },
   {
    "duration": 7,
    "start_time": "2024-06-24T20:09:19.511Z"
   },
   {
    "duration": 35,
    "start_time": "2024-06-24T20:09:19.520Z"
   },
   {
    "duration": 6,
    "start_time": "2024-06-24T20:09:19.557Z"
   },
   {
    "duration": 29,
    "start_time": "2024-06-24T20:09:19.565Z"
   },
   {
    "duration": 88,
    "start_time": "2024-06-24T20:09:19.595Z"
   },
   {
    "duration": 18,
    "start_time": "2024-06-24T20:09:19.685Z"
   },
   {
    "duration": 66,
    "start_time": "2024-06-24T20:09:19.705Z"
   },
   {
    "duration": 4,
    "start_time": "2024-06-24T20:09:19.773Z"
   },
   {
    "duration": 14,
    "start_time": "2024-06-24T20:09:19.779Z"
   },
   {
    "duration": 5,
    "start_time": "2024-06-24T20:09:19.795Z"
   },
   {
    "duration": 7,
    "start_time": "2024-06-24T20:09:19.802Z"
   },
   {
    "duration": 17,
    "start_time": "2024-06-24T20:09:19.813Z"
   },
   {
    "duration": 9,
    "start_time": "2024-06-24T20:09:19.855Z"
   },
   {
    "duration": 18,
    "start_time": "2024-06-24T20:09:19.867Z"
   },
   {
    "duration": 1355,
    "start_time": "2024-06-24T20:09:19.887Z"
   },
   {
    "duration": 863,
    "start_time": "2024-06-24T20:09:21.244Z"
   },
   {
    "duration": 23,
    "start_time": "2024-06-24T20:09:22.108Z"
   },
   {
    "duration": 525,
    "start_time": "2024-06-24T20:09:22.133Z"
   },
   {
    "duration": 3503,
    "start_time": "2024-06-24T20:09:22.659Z"
   },
   {
    "duration": 902,
    "start_time": "2024-06-24T20:09:26.165Z"
   },
   {
    "duration": 11,
    "start_time": "2024-06-24T20:09:27.069Z"
   },
   {
    "duration": 19,
    "start_time": "2024-06-24T20:09:27.082Z"
   },
   {
    "duration": 0,
    "start_time": "2024-06-24T20:09:27.102Z"
   },
   {
    "duration": 0,
    "start_time": "2024-06-24T20:09:27.103Z"
   },
   {
    "duration": 0,
    "start_time": "2024-06-24T20:09:27.104Z"
   },
   {
    "duration": 10,
    "start_time": "2024-06-24T20:09:35.038Z"
   },
   {
    "duration": 48,
    "start_time": "2024-06-24T20:09:57.140Z"
   },
   {
    "duration": 3,
    "start_time": "2024-06-24T20:10:02.310Z"
   },
   {
    "duration": 4,
    "start_time": "2024-06-24T20:10:04.630Z"
   },
   {
    "duration": 6,
    "start_time": "2024-06-24T20:10:06.577Z"
   },
   {
    "duration": 2,
    "start_time": "2024-06-24T20:10:08.718Z"
   },
   {
    "duration": 59,
    "start_time": "2024-06-24T20:10:20.051Z"
   },
   {
    "duration": 557,
    "start_time": "2024-06-24T20:10:45.189Z"
   },
   {
    "duration": 573,
    "start_time": "2024-06-24T20:11:02.736Z"
   },
   {
    "duration": 523,
    "start_time": "2024-06-24T20:11:16.136Z"
   },
   {
    "duration": 9,
    "start_time": "2024-06-24T20:14:59.096Z"
   },
   {
    "duration": 8,
    "start_time": "2024-06-24T20:15:02.156Z"
   },
   {
    "duration": 12,
    "start_time": "2024-06-24T20:15:11.736Z"
   },
   {
    "duration": 5,
    "start_time": "2024-06-24T20:15:18.894Z"
   },
   {
    "duration": 691,
    "start_time": "2024-06-24T20:15:22.016Z"
   },
   {
    "duration": 3,
    "start_time": "2024-06-24T20:18:02.519Z"
   },
   {
    "duration": 3,
    "start_time": "2024-06-24T20:18:11.116Z"
   },
   {
    "duration": 4,
    "start_time": "2024-06-24T20:18:17.376Z"
   },
   {
    "duration": 683,
    "start_time": "2024-06-24T20:18:19.097Z"
   },
   {
    "duration": 5731,
    "start_time": "2024-06-24T20:18:23.241Z"
   },
   {
    "duration": 124,
    "start_time": "2024-06-24T20:26:56.172Z"
   },
   {
    "duration": 35,
    "start_time": "2024-06-24T20:27:02.862Z"
   },
   {
    "duration": 3,
    "start_time": "2024-06-24T20:27:05.472Z"
   },
   {
    "duration": 4,
    "start_time": "2024-06-24T20:27:08.572Z"
   },
   {
    "duration": 6,
    "start_time": "2024-06-24T20:27:12.093Z"
   },
   {
    "duration": 4,
    "start_time": "2024-06-24T20:27:15.043Z"
   },
   {
    "duration": 638,
    "start_time": "2024-06-24T20:27:17.642Z"
   },
   {
    "duration": 5551,
    "start_time": "2024-06-24T20:27:21.021Z"
   },
   {
    "duration": 21,
    "start_time": "2024-06-24T20:27:43.961Z"
   },
   {
    "duration": 17,
    "start_time": "2024-06-24T20:27:54.362Z"
   },
   {
    "duration": 4,
    "start_time": "2024-06-24T20:33:02.413Z"
   },
   {
    "duration": 4,
    "start_time": "2024-06-24T20:33:04.253Z"
   },
   {
    "duration": 7,
    "start_time": "2024-06-24T20:33:06.620Z"
   },
   {
    "duration": 4,
    "start_time": "2024-06-24T20:33:09.536Z"
   },
   {
    "duration": 626,
    "start_time": "2024-06-24T20:33:11.422Z"
   },
   {
    "duration": 5615,
    "start_time": "2024-06-24T20:33:15.053Z"
   },
   {
    "duration": 47034,
    "start_time": "2024-06-24T20:33:25.492Z"
   },
   {
    "duration": 84949,
    "start_time": "2024-06-24T20:34:19.531Z"
   },
   {
    "duration": 37,
    "start_time": "2024-06-24T20:39:04.957Z"
   },
   {
    "duration": 3,
    "start_time": "2024-06-24T20:39:07.974Z"
   },
   {
    "duration": 4,
    "start_time": "2024-06-24T20:39:13.482Z"
   },
   {
    "duration": 3,
    "start_time": "2024-06-24T20:39:15.875Z"
   },
   {
    "duration": 5,
    "start_time": "2024-06-24T20:39:17.715Z"
   },
   {
    "duration": 3,
    "start_time": "2024-06-24T20:39:24.035Z"
   },
   {
    "duration": 106434,
    "start_time": "2024-06-24T20:39:31.056Z"
   },
   {
    "duration": 41,
    "start_time": "2024-06-24T20:47:23.360Z"
   },
   {
    "duration": 3,
    "start_time": "2024-06-24T20:47:27.018Z"
   },
   {
    "duration": 4,
    "start_time": "2024-06-24T20:47:31.259Z"
   },
   {
    "duration": 3,
    "start_time": "2024-06-24T20:47:32.937Z"
   },
   {
    "duration": 6,
    "start_time": "2024-06-24T20:47:36.114Z"
   },
   {
    "duration": 5,
    "start_time": "2024-06-24T20:47:39.418Z"
   },
   {
    "duration": 4768,
    "start_time": "2024-06-24T20:47:42.056Z"
   },
   {
    "duration": 13458,
    "start_time": "2024-06-24T21:01:30.627Z"
   },
   {
    "duration": 1764,
    "start_time": "2024-06-24T21:01:44.087Z"
   },
   {
    "duration": 1304,
    "start_time": "2024-06-24T21:01:45.852Z"
   },
   {
    "duration": 28,
    "start_time": "2024-06-24T21:01:47.158Z"
   },
   {
    "duration": 5,
    "start_time": "2024-06-24T21:01:47.188Z"
   },
   {
    "duration": 324,
    "start_time": "2024-06-24T21:01:47.195Z"
   },
   {
    "duration": 347,
    "start_time": "2024-06-24T21:01:47.520Z"
   },
   {
    "duration": 130,
    "start_time": "2024-06-24T21:01:47.869Z"
   },
   {
    "duration": 57,
    "start_time": "2024-06-24T21:01:48.001Z"
   },
   {
    "duration": 27,
    "start_time": "2024-06-24T21:01:48.061Z"
   },
   {
    "duration": 36,
    "start_time": "2024-06-24T21:01:48.090Z"
   },
   {
    "duration": 109,
    "start_time": "2024-06-24T21:01:48.128Z"
   },
   {
    "duration": 42,
    "start_time": "2024-06-24T21:01:48.240Z"
   },
   {
    "duration": 76,
    "start_time": "2024-06-24T21:01:48.283Z"
   },
   {
    "duration": 7,
    "start_time": "2024-06-24T21:01:48.361Z"
   },
   {
    "duration": 33,
    "start_time": "2024-06-24T21:01:48.369Z"
   },
   {
    "duration": 10,
    "start_time": "2024-06-24T21:01:48.404Z"
   },
   {
    "duration": 44,
    "start_time": "2024-06-24T21:01:48.416Z"
   },
   {
    "duration": 7,
    "start_time": "2024-06-24T21:01:48.461Z"
   },
   {
    "duration": 22,
    "start_time": "2024-06-24T21:01:48.470Z"
   },
   {
    "duration": 112,
    "start_time": "2024-06-24T21:01:48.494Z"
   },
   {
    "duration": 22,
    "start_time": "2024-06-24T21:01:48.607Z"
   },
   {
    "duration": 100,
    "start_time": "2024-06-24T21:01:48.631Z"
   },
   {
    "duration": 5,
    "start_time": "2024-06-24T21:01:48.733Z"
   },
   {
    "duration": 22,
    "start_time": "2024-06-24T21:01:48.740Z"
   },
   {
    "duration": 5,
    "start_time": "2024-06-24T21:01:48.764Z"
   },
   {
    "duration": 7,
    "start_time": "2024-06-24T21:01:48.771Z"
   },
   {
    "duration": 23,
    "start_time": "2024-06-24T21:01:48.783Z"
   },
   {
    "duration": 12,
    "start_time": "2024-06-24T21:01:48.808Z"
   },
   {
    "duration": 39,
    "start_time": "2024-06-24T21:01:48.822Z"
   },
   {
    "duration": 1785,
    "start_time": "2024-06-24T21:01:48.862Z"
   },
   {
    "duration": 1363,
    "start_time": "2024-06-24T21:01:50.649Z"
   },
   {
    "duration": 26,
    "start_time": "2024-06-24T21:01:52.013Z"
   },
   {
    "duration": 467,
    "start_time": "2024-06-24T21:01:52.041Z"
   },
   {
    "duration": 3382,
    "start_time": "2024-06-24T21:01:52.510Z"
   },
   {
    "duration": 1003,
    "start_time": "2024-06-24T21:01:55.894Z"
   },
   {
    "duration": 12,
    "start_time": "2024-06-24T21:01:56.899Z"
   },
   {
    "duration": 121,
    "start_time": "2024-06-24T21:01:56.913Z"
   },
   {
    "duration": 3,
    "start_time": "2024-06-24T21:01:57.036Z"
   },
   {
    "duration": 4,
    "start_time": "2024-06-24T21:01:57.040Z"
   },
   {
    "duration": 3,
    "start_time": "2024-06-24T21:01:57.056Z"
   },
   {
    "duration": 6,
    "start_time": "2024-06-24T21:01:57.060Z"
   },
   {
    "duration": 8,
    "start_time": "2024-06-24T21:01:57.068Z"
   },
   {
    "duration": 13663,
    "start_time": "2024-06-24T21:08:25.668Z"
   },
   {
    "duration": 1848,
    "start_time": "2024-06-24T21:08:39.334Z"
   },
   {
    "duration": 1274,
    "start_time": "2024-06-24T21:08:41.184Z"
   },
   {
    "duration": 27,
    "start_time": "2024-06-24T21:08:42.460Z"
   },
   {
    "duration": 5,
    "start_time": "2024-06-24T21:08:42.490Z"
   },
   {
    "duration": 407,
    "start_time": "2024-06-24T21:08:42.497Z"
   },
   {
    "duration": 345,
    "start_time": "2024-06-24T21:08:42.906Z"
   },
   {
    "duration": 133,
    "start_time": "2024-06-24T21:08:43.255Z"
   },
   {
    "duration": 50,
    "start_time": "2024-06-24T21:08:43.390Z"
   },
   {
    "duration": 26,
    "start_time": "2024-06-24T21:08:43.455Z"
   },
   {
    "duration": 29,
    "start_time": "2024-06-24T21:08:43.483Z"
   },
   {
    "duration": 143,
    "start_time": "2024-06-24T21:08:43.514Z"
   },
   {
    "duration": 50,
    "start_time": "2024-06-24T21:08:43.660Z"
   },
   {
    "duration": 90,
    "start_time": "2024-06-24T21:08:43.713Z"
   },
   {
    "duration": 8,
    "start_time": "2024-06-24T21:08:43.805Z"
   },
   {
    "duration": 57,
    "start_time": "2024-06-24T21:08:43.815Z"
   },
   {
    "duration": 13,
    "start_time": "2024-06-24T21:08:43.874Z"
   },
   {
    "duration": 30,
    "start_time": "2024-06-24T21:08:43.890Z"
   },
   {
    "duration": 7,
    "start_time": "2024-06-24T21:08:43.923Z"
   },
   {
    "duration": 42,
    "start_time": "2024-06-24T21:08:43.932Z"
   },
   {
    "duration": 113,
    "start_time": "2024-06-24T21:08:43.978Z"
   },
   {
    "duration": 32,
    "start_time": "2024-06-24T21:08:44.093Z"
   },
   {
    "duration": 93,
    "start_time": "2024-06-24T21:08:44.127Z"
   },
   {
    "duration": 6,
    "start_time": "2024-06-24T21:08:44.222Z"
   },
   {
    "duration": 32,
    "start_time": "2024-06-24T21:08:44.230Z"
   },
   {
    "duration": 20,
    "start_time": "2024-06-24T21:08:44.265Z"
   },
   {
    "duration": 12,
    "start_time": "2024-06-24T21:08:44.287Z"
   },
   {
    "duration": 46,
    "start_time": "2024-06-24T21:08:44.301Z"
   },
   {
    "duration": 9,
    "start_time": "2024-06-24T21:08:44.349Z"
   },
   {
    "duration": 23,
    "start_time": "2024-06-24T21:08:44.360Z"
   },
   {
    "duration": 1785,
    "start_time": "2024-06-24T21:08:44.384Z"
   },
   {
    "duration": 1306,
    "start_time": "2024-06-24T21:08:46.175Z"
   },
   {
    "duration": 25,
    "start_time": "2024-06-24T21:08:47.483Z"
   },
   {
    "duration": 496,
    "start_time": "2024-06-24T21:08:47.510Z"
   },
   {
    "duration": 3396,
    "start_time": "2024-06-24T21:08:48.008Z"
   },
   {
    "duration": 969,
    "start_time": "2024-06-24T21:08:51.405Z"
   },
   {
    "duration": 14,
    "start_time": "2024-06-24T21:08:52.376Z"
   },
   {
    "duration": 126,
    "start_time": "2024-06-24T21:08:52.392Z"
   },
   {
    "duration": 3,
    "start_time": "2024-06-24T21:08:52.519Z"
   },
   {
    "duration": 24,
    "start_time": "2024-06-24T21:08:52.524Z"
   },
   {
    "duration": 4,
    "start_time": "2024-06-24T21:08:52.551Z"
   },
   {
    "duration": 37,
    "start_time": "2024-06-24T21:08:52.557Z"
   },
   {
    "duration": 50,
    "start_time": "2024-06-24T21:08:52.596Z"
   },
   {
    "duration": 178389,
    "start_time": "2024-06-24T21:09:18.056Z"
   },
   {
    "duration": 1623788,
    "start_time": "2024-06-24T21:12:43.094Z"
   },
   {
    "duration": 16,
    "start_time": "2024-06-24T21:42:58.177Z"
   },
   {
    "duration": 137,
    "start_time": "2024-06-24T21:43:19.217Z"
   },
   {
    "duration": 13,
    "start_time": "2024-06-24T21:43:49.177Z"
   },
   {
    "duration": 18,
    "start_time": "2024-06-24T21:46:34.017Z"
   },
   {
    "duration": 17,
    "start_time": "2024-06-24T21:47:13.737Z"
   },
   {
    "duration": 18,
    "start_time": "2024-06-24T21:47:23.946Z"
   },
   {
    "duration": 4,
    "start_time": "2024-06-24T21:47:47.305Z"
   },
   {
    "duration": 7,
    "start_time": "2024-06-24T21:47:53.457Z"
   },
   {
    "duration": 8,
    "start_time": "2024-06-24T21:49:36.877Z"
   },
   {
    "duration": 9,
    "start_time": "2024-06-24T21:49:49.277Z"
   },
   {
    "duration": 11,
    "start_time": "2024-06-24T21:50:29.937Z"
   },
   {
    "duration": 7,
    "start_time": "2024-06-24T21:51:06.963Z"
   },
   {
    "duration": 6,
    "start_time": "2024-06-24T21:51:24.222Z"
   },
   {
    "duration": 1680,
    "start_time": "2024-06-24T21:52:11.406Z"
   },
   {
    "duration": 890,
    "start_time": "2024-06-24T21:52:22.977Z"
   },
   {
    "duration": 7,
    "start_time": "2024-06-24T21:53:46.817Z"
   },
   {
    "duration": 12,
    "start_time": "2024-06-24T21:53:52.021Z"
   },
   {
    "duration": 17,
    "start_time": "2024-06-24T21:54:36.639Z"
   },
   {
    "duration": 10,
    "start_time": "2024-06-24T21:55:14.398Z"
   },
   {
    "duration": 10,
    "start_time": "2024-06-24T21:55:52.018Z"
   },
   {
    "duration": 10,
    "start_time": "2024-06-24T21:56:48.659Z"
   },
   {
    "duration": 11,
    "start_time": "2024-06-24T21:57:07.839Z"
   },
   {
    "duration": 16,
    "start_time": "2024-06-24T21:57:24.575Z"
   },
   {
    "duration": 7,
    "start_time": "2024-06-24T21:57:29.553Z"
   },
   {
    "duration": 12,
    "start_time": "2024-06-24T21:59:12.143Z"
   },
   {
    "duration": 12,
    "start_time": "2024-06-24T21:59:23.764Z"
   },
   {
    "duration": 6,
    "start_time": "2024-06-24T21:59:57.544Z"
   },
   {
    "duration": 344,
    "start_time": "2024-06-24T22:01:20.425Z"
   },
   {
    "duration": 324,
    "start_time": "2024-06-24T22:01:50.239Z"
   },
   {
    "duration": 309,
    "start_time": "2024-06-24T22:03:12.785Z"
   },
   {
    "duration": 343,
    "start_time": "2024-06-24T22:05:16.816Z"
   },
   {
    "duration": 330,
    "start_time": "2024-06-24T22:05:45.882Z"
   },
   {
    "duration": 315,
    "start_time": "2024-06-24T22:06:22.424Z"
   },
   {
    "duration": 33,
    "start_time": "2024-06-24T22:06:41.815Z"
   },
   {
    "duration": 13,
    "start_time": "2024-06-24T22:07:45.625Z"
   },
   {
    "duration": 10,
    "start_time": "2024-06-24T22:07:56.506Z"
   },
   {
    "duration": 11,
    "start_time": "2024-06-24T22:08:16.715Z"
   },
   {
    "duration": 12,
    "start_time": "2024-06-24T22:08:17.665Z"
   },
   {
    "duration": 15,
    "start_time": "2024-06-24T22:09:39.075Z"
   },
   {
    "duration": 33,
    "start_time": "2024-06-24T22:09:49.025Z"
   },
   {
    "duration": 16,
    "start_time": "2024-06-24T22:11:28.429Z"
   },
   {
    "duration": 29,
    "start_time": "2024-06-24T22:14:17.057Z"
   },
   {
    "duration": 39,
    "start_time": "2024-06-24T22:15:01.061Z"
   },
   {
    "duration": 864,
    "start_time": "2024-06-24T22:16:27.857Z"
   },
   {
    "duration": 50,
    "start_time": "2024-06-24T22:17:08.578Z"
   },
   {
    "duration": 5,
    "start_time": "2024-06-24T22:18:40.005Z"
   },
   {
    "duration": 5,
    "start_time": "2024-06-24T22:18:41.945Z"
   },
   {
    "duration": 174202,
    "start_time": "2024-06-24T22:18:53.093Z"
   },
   {
    "duration": 27,
    "start_time": "2024-06-24T22:22:43.280Z"
   },
   {
    "duration": 65,
    "start_time": "2024-06-24T22:23:00.645Z"
   },
   {
    "duration": 40,
    "start_time": "2024-06-24T22:24:20.506Z"
   },
   {
    "duration": 57,
    "start_time": "2024-06-24T22:25:17.086Z"
   },
   {
    "duration": 10,
    "start_time": "2024-06-24T22:26:09.618Z"
   },
   {
    "duration": 85,
    "start_time": "2024-06-24T22:26:40.419Z"
   },
   {
    "duration": 44,
    "start_time": "2024-06-24T22:27:33.588Z"
   },
   {
    "duration": 61,
    "start_time": "2024-06-24T22:30:09.514Z"
   },
   {
    "duration": 66,
    "start_time": "2024-06-24T22:31:15.470Z"
   },
   {
    "duration": 35,
    "start_time": "2024-06-24T22:31:38.599Z"
   },
   {
    "duration": 27,
    "start_time": "2024-06-24T22:32:11.178Z"
   },
   {
    "duration": 17,
    "start_time": "2024-06-24T22:34:44.268Z"
   },
   {
    "duration": 29,
    "start_time": "2024-06-24T22:34:48.938Z"
   },
   {
    "duration": 5,
    "start_time": "2024-06-24T22:36:11.816Z"
   },
   {
    "duration": 13,
    "start_time": "2024-06-24T22:36:21.867Z"
   },
   {
    "duration": 15,
    "start_time": "2024-06-24T22:37:47.017Z"
   },
   {
    "duration": 26,
    "start_time": "2024-06-24T22:39:22.106Z"
   },
   {
    "duration": 15,
    "start_time": "2024-06-24T22:39:24.385Z"
   },
   {
    "duration": 16,
    "start_time": "2024-06-24T22:40:09.354Z"
   },
   {
    "duration": 33,
    "start_time": "2024-06-24T22:40:15.817Z"
   },
   {
    "duration": 16,
    "start_time": "2024-06-24T22:40:17.686Z"
   },
   {
    "duration": 16,
    "start_time": "2024-06-24T22:40:54.657Z"
   },
   {
    "duration": 17,
    "start_time": "2024-06-24T22:41:19.174Z"
   },
   {
    "duration": 23,
    "start_time": "2024-06-24T22:41:22.744Z"
   },
   {
    "duration": 23,
    "start_time": "2024-06-24T22:41:24.307Z"
   },
   {
    "duration": 1755,
    "start_time": "2024-06-24T22:45:22.318Z"
   },
   {
    "duration": 75,
    "start_time": "2024-06-24T22:52:31.137Z"
   },
   {
    "duration": 71,
    "start_time": "2024-06-24T22:52:44.383Z"
   },
   {
    "duration": 59,
    "start_time": "2024-06-24T22:53:15.040Z"
   },
   {
    "duration": 57,
    "start_time": "2024-06-24T22:53:20.233Z"
   },
   {
    "duration": 1827,
    "start_time": "2024-06-24T22:53:59.642Z"
   },
   {
    "duration": 58,
    "start_time": "2024-06-24T22:54:24.880Z"
   },
   {
    "duration": 1755,
    "start_time": "2024-06-24T22:54:35.810Z"
   },
   {
    "duration": 11,
    "start_time": "2024-06-24T22:55:05.570Z"
   },
   {
    "duration": 11,
    "start_time": "2024-06-24T22:55:15.850Z"
   },
   {
    "duration": 560,
    "start_time": "2024-06-24T22:55:38.259Z"
   },
   {
    "duration": 821,
    "start_time": "2024-06-24T22:56:46.081Z"
   },
   {
    "duration": 10,
    "start_time": "2024-06-24T22:58:29.439Z"
   },
   {
    "duration": 74,
    "start_time": "2024-06-24T22:58:58.639Z"
   },
   {
    "duration": 29269,
    "start_time": "2024-06-25T17:44:34.559Z"
   },
   {
    "duration": 2130,
    "start_time": "2024-06-25T17:45:03.830Z"
   },
   {
    "duration": 3287,
    "start_time": "2024-06-25T17:45:05.962Z"
   },
   {
    "duration": 22,
    "start_time": "2024-06-25T17:45:09.251Z"
   },
   {
    "duration": 6,
    "start_time": "2024-06-25T17:45:09.275Z"
   },
   {
    "duration": 388,
    "start_time": "2024-06-25T17:45:09.283Z"
   },
   {
    "duration": 420,
    "start_time": "2024-06-25T17:45:09.673Z"
   },
   {
    "duration": 122,
    "start_time": "2024-06-25T17:45:10.094Z"
   },
   {
    "duration": 62,
    "start_time": "2024-06-25T17:45:10.217Z"
   },
   {
    "duration": 25,
    "start_time": "2024-06-25T17:45:10.282Z"
   },
   {
    "duration": 51,
    "start_time": "2024-06-25T17:45:10.308Z"
   },
   {
    "duration": 107,
    "start_time": "2024-06-25T17:45:10.362Z"
   },
   {
    "duration": 36,
    "start_time": "2024-06-25T17:45:10.470Z"
   },
   {
    "duration": 95,
    "start_time": "2024-06-25T17:45:10.508Z"
   },
   {
    "duration": 6,
    "start_time": "2024-06-25T17:45:10.605Z"
   },
   {
    "duration": 43,
    "start_time": "2024-06-25T17:45:10.613Z"
   },
   {
    "duration": 11,
    "start_time": "2024-06-25T17:45:10.659Z"
   },
   {
    "duration": 24,
    "start_time": "2024-06-25T17:45:10.672Z"
   },
   {
    "duration": 5,
    "start_time": "2024-06-25T17:45:10.697Z"
   },
   {
    "duration": 52,
    "start_time": "2024-06-25T17:45:10.704Z"
   },
   {
    "duration": 99,
    "start_time": "2024-06-25T17:45:10.759Z"
   },
   {
    "duration": 25,
    "start_time": "2024-06-25T17:45:10.860Z"
   },
   {
    "duration": 63,
    "start_time": "2024-06-25T17:45:10.886Z"
   },
   {
    "duration": 7,
    "start_time": "2024-06-25T17:45:10.952Z"
   },
   {
    "duration": 26,
    "start_time": "2024-06-25T17:45:10.962Z"
   },
   {
    "duration": 18,
    "start_time": "2024-06-25T17:45:10.990Z"
   },
   {
    "duration": 35,
    "start_time": "2024-06-25T17:45:11.010Z"
   },
   {
    "duration": 27,
    "start_time": "2024-06-25T17:45:11.048Z"
   },
   {
    "duration": 8,
    "start_time": "2024-06-25T17:45:11.077Z"
   },
   {
    "duration": 45,
    "start_time": "2024-06-25T17:45:11.086Z"
   },
   {
    "duration": 1947,
    "start_time": "2024-06-25T17:45:11.132Z"
   },
   {
    "duration": 1698,
    "start_time": "2024-06-25T17:45:13.081Z"
   },
   {
    "duration": 24,
    "start_time": "2024-06-25T17:45:14.781Z"
   },
   {
    "duration": 578,
    "start_time": "2024-06-25T17:45:14.807Z"
   },
   {
    "duration": 7322,
    "start_time": "2024-06-25T17:45:15.387Z"
   },
   {
    "duration": 1073,
    "start_time": "2024-06-25T17:45:22.711Z"
   },
   {
    "duration": 14,
    "start_time": "2024-06-25T17:45:23.785Z"
   },
   {
    "duration": 180,
    "start_time": "2024-06-25T17:45:23.801Z"
   },
   {
    "duration": 3,
    "start_time": "2024-06-25T17:45:23.983Z"
   },
   {
    "duration": 12,
    "start_time": "2024-06-25T17:45:23.987Z"
   },
   {
    "duration": 8,
    "start_time": "2024-06-25T17:45:24.000Z"
   },
   {
    "duration": 19,
    "start_time": "2024-06-25T17:45:24.010Z"
   },
   {
    "duration": 20,
    "start_time": "2024-06-25T17:45:24.030Z"
   }
  ],
  "kernelspec": {
   "display_name": "Python 3 (ipykernel)",
   "language": "python",
   "name": "python3"
  },
  "language_info": {
   "codemirror_mode": {
    "name": "ipython",
    "version": 3
   },
   "file_extension": ".py",
   "mimetype": "text/x-python",
   "name": "python",
   "nbconvert_exporter": "python",
   "pygments_lexer": "ipython3",
   "version": "3.9.5"
  },
  "toc": {
   "base_numbering": 1,
   "nav_menu": {},
   "number_sections": true,
   "sideBar": true,
   "skip_h1_title": true,
   "title_cell": "Table of Contents",
   "title_sidebar": "Contents",
   "toc_cell": false,
   "toc_position": {
    "height": "calc(100% - 180px)",
    "left": "10px",
    "top": "150px",
    "width": "252px"
   },
   "toc_section_display": true,
   "toc_window_display": true
  }
 },
 "nbformat": 4,
 "nbformat_minor": 2
}
